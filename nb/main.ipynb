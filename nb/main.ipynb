{
 "cells": [
  {
   "cell_type": "markdown",
   "id": "b5adfab2",
   "metadata": {},
   "source": [
    "import sys\n",
    "!{sys.executable} -m pip install pandas==1.5.2"
   ]
  },
  {
   "cell_type": "code",
   "execution_count": 1,
   "id": "c8255585",
   "metadata": {},
   "outputs": [],
   "source": [
    "\n",
    "#import sys\n",
    "#!{sys.executable} -m pip install html5lib"
   ]
  },
  {
   "cell_type": "code",
   "execution_count": 2,
   "id": "90ad5997",
   "metadata": {},
   "outputs": [],
   "source": [
    "# import modules/libraries\n",
    "import warnings \n",
    "warnings.simplefilter(action='ignore')\n",
    "from entsoe import EntsoePandasClient\n",
    "import pandas as pd\n",
    "import json\n",
    "import requests\n",
    "from pandas import json_normalize\n",
    "\n",
    "import osmnx as ox\n",
    "import pandas as pd\n",
    "import numpy as np\n",
    "import geopandas as gpd\n",
    "import time\n",
    "from datetime import datetime\n",
    "from scipy import stats\n",
    "import itertools\n",
    "import os\n",
    "import pickle\n",
    "import geojson\n",
    "from sqlalchemy import create_engine\n",
    "import re\n",
    "import sqlite3\n",
    "from pathlib import Path\n",
    "from shapely.geometry.polygon import Polygon\n",
    "from shapely.geometry.multipolygon import MultiPolygon\n",
    "import chardet\n",
    "from scipy import spatial\n",
    "from scipy.spatial import KDTree\n",
    "from shapely import wkt\n",
    "\n",
    "cwd = Path().resolve()\n",
    "\n",
    "# visualisation\n",
    "import plotly.io as pio\n",
    "import plotly.graph_objects as go\n",
    "import plotly.express as px\n",
    "import plotly.figure_factory as ff\n",
    "import seaborn as sns\n",
    "import matplotlib as mpl \n",
    "%matplotlib inline \n",
    "import matplotlib.pyplot as plt\n",
    "\n",
    "pd.set_option('display.max_columns', None)"
   ]
  },
  {
   "cell_type": "code",
   "execution_count": 3,
   "id": "68b18cf7",
   "metadata": {},
   "outputs": [],
   "source": [
    "client = EntsoePandasClient(api_key=\"2d80d663-6eb6-447f-b31b-9d5c6b41365a\")\n"
   ]
  },
  {
   "cell_type": "markdown",
   "id": "48a8f2bf",
   "metadata": {},
   "source": [
    "https://github.com/EnergieID/entsoe-py/blob/master/entsoe/mappings.py\n",
    "\n",
    "country codes and examples:\n",
    "https://thesmartinsights.com/how-to-query-data-from-the-entso-e-transparency-platform-using-python/\n"
   ]
  },
  {
   "cell_type": "code",
   "execution_count": null,
   "id": "5cec92ab",
   "metadata": {},
   "outputs": [
    {
     "name": "stderr",
     "output_type": "stream",
     "text": [
      "Connection Error, retrying in 0 seconds\n"
     ]
    },
    {
     "name": "stdout",
     "output_type": "stream",
     "text": [
      "problem in  AT\n"
     ]
    },
    {
     "name": "stderr",
     "output_type": "stream",
     "text": [
      "Connection Error, retrying in 0 seconds\n"
     ]
    },
    {
     "name": "stdout",
     "output_type": "stream",
     "text": [
      "problem in  BE\n"
     ]
    },
    {
     "name": "stderr",
     "output_type": "stream",
     "text": [
      "Connection Error, retrying in 0 seconds\n"
     ]
    },
    {
     "name": "stdout",
     "output_type": "stream",
     "text": [
      "problem in  BG\n"
     ]
    },
    {
     "name": "stderr",
     "output_type": "stream",
     "text": [
      "Connection Error, retrying in 0 seconds\n"
     ]
    },
    {
     "name": "stdout",
     "output_type": "stream",
     "text": [
      "problem in  HR\n"
     ]
    },
    {
     "name": "stderr",
     "output_type": "stream",
     "text": [
      "Connection Error, retrying in 0 seconds\n"
     ]
    },
    {
     "name": "stdout",
     "output_type": "stream",
     "text": [
      "problem in  CZ\n"
     ]
    },
    {
     "name": "stderr",
     "output_type": "stream",
     "text": [
      "Connection Error, retrying in 0 seconds\n"
     ]
    },
    {
     "name": "stdout",
     "output_type": "stream",
     "text": [
      "problem in  DE_LU\n"
     ]
    },
    {
     "name": "stderr",
     "output_type": "stream",
     "text": [
      "Connection Error, retrying in 0 seconds\n"
     ]
    },
    {
     "name": "stdout",
     "output_type": "stream",
     "text": [
      "problem in  DK\n",
      "404.0900000000001 EE\n"
     ]
    }
   ],
   "source": [
    "start = pd.Timestamp('20221209', tz='Europe/Brussels')\n",
    "end = pd.Timestamp('20221210', tz='Europe/Brussels')\n",
    "country_code = 'AT'  # Belgium\n",
    "country_code_from = 'FR'  # France\n",
    "country_code_to = 'DE_LU' # Germany-Luxembourg\n",
    "type_marketagreement_type = 'A01'\n",
    "contract_marketagreement_type = 'A01'\n",
    "\n",
    "data = {}\n",
    "\n",
    "\n",
    "eu_list = ['AT', 'BE', 'BG','HR', 'CZ', 'DE_LU', 'DK', 'EE', 'FI', 'FR', 'GR', 'HU', 'IE', 'IT', 'LV',\n",
    "          'NL']\n",
    "for country in eu_list:\n",
    "    try:\n",
    "        s = client.query_day_ahead_prices(country, start=start,end=end)\n",
    "        df = s.to_frame()\n",
    "        df.rename(columns={df.columns[0]: 'price_mwh'},inplace=True)\n",
    "        mean_price = df.price_mwh.mean()\n",
    "        print(mean_price, country)\n",
    "        #df.head(24)\n",
    "        data[country] = mean_price\n",
    "    except:\n",
    "        print(\"problem in \", country)\n",
    "    "
   ]
  },
  {
   "cell_type": "code",
   "execution_count": null,
   "id": "b0e61e42",
   "metadata": {},
   "outputs": [],
   "source": [
    "data"
   ]
  },
  {
   "cell_type": "code",
   "execution_count": null,
   "id": "f9bef664",
   "metadata": {},
   "outputs": [],
   "source": [
    "s = client.query_day_ahead_prices('IT_NORD', start=start,end=end)\n",
    "df = s.to_frame()\n",
    "df.rename(columns={df.columns[0]: 'price_mwh'},inplace=True)\n",
    "mean_price = df.price_mwh.mean()\n",
    "print(mean_price)\n",
    "df.head(24)"
   ]
  },
  {
   "cell_type": "code",
   "execution_count": null,
   "id": "8ec72a5c",
   "metadata": {},
   "outputs": [],
   "source": [
    "start = pd.Timestamp('20221204', tz='Europe/Brussels')\n",
    "end = pd.Timestamp('20221205', tz='Europe/Brussels')\n",
    "t =client.query_generation_per_plant(country_code, start=start,end=end, psr_type=None)\n",
    "t.head()"
   ]
  },
  {
   "cell_type": "markdown",
   "id": "4f3bfbd0",
   "metadata": {},
   "source": [
    "### Windparks Österreich"
   ]
  },
  {
   "cell_type": "markdown",
   "id": "92ba5a1b",
   "metadata": {},
   "source": [
    "https://globalenergymonitor.org/projects/global-wind-power-tracker/tracker-map/\n",
    "https://windeurope.org/intelligence-platform/product/european-offshore-wind-farms-map-public/\n",
    "https://structurae.net/en/structures/towers/wind-turbines/list"
   ]
  },
  {
   "cell_type": "code",
   "execution_count": null,
   "id": "9f207187",
   "metadata": {},
   "outputs": [],
   "source": [
    "def get_list_austria():\n",
    "    \"\"\"  \"\"\"\n",
    "    r = requests.get('https://www.thewindpower.net/country_windfarms_en_13_austria.php')\n",
    "    # print(r.content)\n",
    "\n",
    "    df = pd.read_html('https://www.thewindpower.net/country_windfarms_en_13_austria.php', header=0, displayed_only=False)[3]\n",
    "    # df = pd.read_html('https://www.thewindpower.net/country_windfarms_en_13_austria.php', skiprows = 0, header=0, extract_links='all')[3]\n",
    "    \n",
    "    df=df.dropna(subset=['Name'])\n",
    "    return df\n",
    "\n",
    "df = get_list_austria()\n",
    "print(df.shape[0])\n",
    "#df.tail(10)"
   ]
  },
  {
   "cell_type": "code",
   "execution_count": null,
   "id": "af0d4ee9",
   "metadata": {},
   "outputs": [],
   "source": [
    "# https://www.igwindkraft.at/maps/current/\n",
    "r = requests.get('https://www.igwindkraft.at/src_project/external/maps/generated/gmaps_daten.js')\n",
    "#print(r.encoding)\n",
    "d = json.loads(str(r.content).split('= ')[1].split(\"\\'\")[0])"
   ]
  },
  {
   "cell_type": "code",
   "execution_count": null,
   "id": "a40603ca",
   "metadata": {},
   "outputs": [],
   "source": [
    "df_tmp = pd.DataFrame.from_dict(d[0]['places'])\n",
    "split_df = pd.DataFrame(df_tmp['data'].tolist())\n",
    "split_df.rename(columns={0:\"ort\", 1:\"betreiber\", 3:\"windräder\", 4:\"leistung\", 5:\"type\", 6:\"jahr\", 8:\"lat\", 9:\"lon\", 11:\"turbine\", 12:\"nabenhöhe\", 13:\"durchmesser\"}, inplace=True)\n",
    "split_df.head(1)"
   ]
  },
  {
   "cell_type": "code",
   "execution_count": null,
   "id": "e392f730",
   "metadata": {},
   "outputs": [],
   "source": [
    "import plotly.express as px\n",
    "import plotly.graph_objects as go\n",
    "\n",
    "\n",
    "fig = go.Figure(go.Scattermapbox(mode='markers',lat=split_df.lat.tolist(), lon=split_df.lon.tolist(), marker={'size': 10}, \n",
    "                                # hoverinfo='skip',\n",
    "                                 text = split_df.ort.tolist(),\n",
    "                              # hover_name=\"ort\",\n",
    "                                 showlegend=False))\n",
    "#add_trace(fig, parameters[1], symbol=\"cafe\", name=\"cafe\", size=4)\n",
    "fig.update_layout(mapbox_style=\"light\", mapbox_accesstoken=\"pk.eyJ1IjoiYXJlYnVyZyIsImEiOiJjbDZkZzdhOXAwNTk5M2ZteDdkY3lvd2FsIn0.c4hsFv69HozIVHq7ItrTzg\", mapbox_zoom=6,\n",
    "                 mapbox_center={\"lat\": 48.210033, \"lon\": 16.363449})\n",
    "fig.update_layout(font=dict(family=\"Helvetica\"), legend={\"title\": \"Select category\"})\n",
    "fig.update_layout(margin={\"r\": 0, \"t\": 0, \"l\": 0, \"b\": 0}, paper_bgcolor='rgba(0,0,0,0)',\n",
    "              plot_bgcolor='rgba(0,0,0,0)')\n",
    "fig.show()"
   ]
  },
  {
   "cell_type": "code",
   "execution_count": null,
   "id": "5c56e6d6",
   "metadata": {},
   "outputs": [],
   "source": [
    "# attrs = {'class': 'wikitable sortable toptextcells zebra jquery-tablesorter'}\n",
    "kraftwerke_verbund = pd.read_html('https://de.wikipedia.org/wiki/Liste_von_Kraftwerken_der_Verbund_AG', skiprows = 0, header=0)[0]\n",
    "kraftwerke_verbund.tail()\n",
    "\n"
   ]
  },
  {
   "cell_type": "code",
   "execution_count": null,
   "id": "f6966bfc",
   "metadata": {},
   "outputs": [],
   "source": [
    "t= kraftwerke_verbund.copy()\n",
    "\n",
    "def get_lat_long(name, land_raw):\n",
    "    \"\"\" get latitude and longitude coordinate from POINT geometry \"\"\"\n",
    "    if land_raw == 'Stmk':\n",
    "        bundesland = \"Steiermark\"\n",
    "    elif land_raw == 'Sbg':\n",
    "        bundesland = \"Salzburg\"\n",
    "    elif land_raw == 'OÖ':\n",
    "        bundesland = \"Oberösterreich\"\n",
    "    elif land_raw == 'NÖ':\n",
    "        bundesland = \"Niederösterreich\"\n",
    "    else:\n",
    "        bundesland = land_raw\n",
    "    text = f\"{name}, {bundesland}\"\n",
    "    try:\n",
    "        #return pd.Series([point.x, point.y])\n",
    "        data_json = requests.get(url=f'https://nominatim.openstreetmap.org/search?q={text}&format=json&polygon=1&addressdetails=1').json()\n",
    "        lat = data_json[0]['lat']\n",
    "        lon = data_json[0]['lon']\n",
    "        print(text, lat, lon)\n",
    "        return pd.Series([lat, lon])\n",
    "            \n",
    "    except:\n",
    "        print(text)\n",
    "        return pd.Series([np.nan, np.nan])\n",
    "        \n",
    "\n",
    "\n",
    "t[['lat', 'lon']] = t.apply(lambda x: get_lat_long(x['Name'], x['Bundesland']), axis=1)"
   ]
  },
  {
   "cell_type": "code",
   "execution_count": null,
   "id": "ade32b05",
   "metadata": {},
   "outputs": [],
   "source": [
    "t[t['Bundesland'] == \"Sbg\"].head()\n"
   ]
  },
  {
   "cell_type": "code",
   "execution_count": null,
   "id": "fcbbcb43",
   "metadata": {},
   "outputs": [],
   "source": [
    "import plotly.express as px\n",
    "import plotly.graph_objects as go\n",
    "\n",
    "#data = pd.read_excel('tmp.xlsx', index_col=0,\n",
    "#              na_values=['string1', 'string2'])  \n",
    "#data = pd.read_csv('kraftwerke_salzburg.csv', sep=\",\", index_col=False)  \n",
    "sbg_verbund = t[t['Bundesland'] == \"Sbg\"]\n",
    "\n",
    "def kraftwerke_salzburg():\n",
    "    fig = go.Figure(go.Scattermapbox(mode='markers',lat=sbg_verbund.lat.tolist(), lon=sbg_verbund.lon.tolist(), marker={'size': 10}, \n",
    "                                    # hoverinfo='skip',\n",
    "                                     text = sbg_verbund.Name.tolist(),\n",
    "                                  # hover_name=\"ort\",\n",
    "                                     showlegend=False))\n",
    "    #add_trace(fig, parameters[1], symbol=\"cafe\", name=\"cafe\", size=4)\n",
    "    fig.update_layout(mapbox_style=\"light\", mapbox_accesstoken=\"pk.eyJ1IjoiYXJlYnVyZyIsImEiOiJjbDZkZzdhOXAwNTk5M2ZteDdkY3lvd2FsIn0.c4hsFv69HozIVHq7ItrTzg\", mapbox_zoom=6,\n",
    "                     mapbox_center={\"lat\": 48.210033, \"lon\": 16.363449})\n",
    "    fig.update_layout(font=dict(family=\"Helvetica\"), legend={\"title\": \"Select category\"})\n",
    "    fig.update_layout(margin={\"r\": 0, \"t\": 0, \"l\": 0, \"b\": 0}, paper_bgcolor='rgba(0,0,0,0)',\n",
    "                  plot_bgcolor='rgba(0,0,0,0)')\n",
    "    fig.show()\n",
    "kraftwerke_salzburg()"
   ]
  },
  {
   "cell_type": "code",
   "execution_count": null,
   "id": "8dd3c694",
   "metadata": {},
   "outputs": [],
   "source": [
    "kraftwerke_salzburg()"
   ]
  },
  {
   "cell_type": "markdown",
   "id": "ec3863fa",
   "metadata": {},
   "source": [
    "### Plot commodities\n",
    "\n",
    "Documentation: https://www.commodities-api.com/documentation#historicalrates\n",
    "\n",
    "Get the lastest data with commodieties API."
   ]
  },
  {
   "cell_type": "code",
   "execution_count": null,
   "id": "6fe43710",
   "metadata": {},
   "outputs": [],
   "source": [
    "class ApiError(Exception):\n",
    "    pass\n",
    "\n",
    "start_date = \"2021-05-01\"\n",
    "end_date = \"2022-05-25\"\n",
    "\n",
    "base_currency = 'TGZ22'\n",
    "symbol = 'EUR'\n",
    "endpoint = 'latest'\n",
    "access_API = 'ns8db94qwty8z0d3qtjd831aytoys40jnnz2e814c0hwft056uy0sgfjwyfi'\n",
    "\n",
    "#urls = f\"https://www.commodities-api.com/api/{endpoint}?access_key={access_API}&base={base_currency}&symbols={symbol}\"\n",
    "#resp = requests.get(urls)\n",
    "\n",
    "#start_date = \"2022-11-08\"\n",
    "#url = f\"https://www.commodities-api.com/api/open-high-low-close/{start_date}?access_key={access_API}&base=TGZ22&symbols=EUR\"\n",
    "# time series\n",
    "resp = requests.get(f\"https://www.commodities-api.com/api/timeseries?access_key={access_API}&start_date={start_date}&end_date={end_date}&base={base_currency}\\\n",
    "&symbols={symbol}\")\n",
    "if resp.status_code != 200:\n",
    "    raise ApiError(f\"Can't read OLHC values starting from {start_date}\")\n",
    "print(resp.text)\n",
    "#print(url)"
   ]
  },
  {
   "cell_type": "markdown",
   "id": "a10e9ef2",
   "metadata": {},
   "source": [
    "#### Long time series\n",
    "https://tradingeconomics.com/commodity/eu-natural-gas\n",
    "\n",
    "future prices: https://www.barchart.com/futures/quotes/TG*0/futures-prices\n",
    "\n",
    "\n",
    "https://www.barchart.com/futures/quotes/TG*1#google_vignette\n"
   ]
  },
  {
   "cell_type": "code",
   "execution_count": null,
   "id": "0b81323e",
   "metadata": {},
   "outputs": [],
   "source": [
    "s = requests.Session()\n",
    "\n",
    "def getCookies(cookie_jar, domain):\n",
    "    cookie_dict = cookie_jar.get_dict(domain=domain)\n",
    "    found = ['%s=%s' % (name, value) for (name, value) in cookie_dict.items()]\n",
    "    return ';'.join(found)\n",
    "\n",
    "my_headers = {'User-Agent': 'Mozilla/5.0 (Windows NT 10.0; Win64; x64; rv:75.0) Gecko/20100101 Firefox/75.0'}\n",
    "s.headers.update(my_headers)\n",
    "\n",
    "r = s.get(\"https://stackoverflow.com\")\n",
    "print(r.headers)\n",
    "#print(r.content)\n",
    "getCookies(r.cookies, \".stackoverflow.com\")"
   ]
  },
  {
   "cell_type": "code",
   "execution_count": null,
   "id": "3d2f1701",
   "metadata": {},
   "outputs": [],
   "source": [
    "s = requests.Session()\n",
    "\n",
    "def getCookies(cookie_jar, domain):\n",
    "    cookie_dict = cookie_jar.get_dict(domain=domain)\n",
    "    found = ['%s=%s' % (name, value) for (name, value) in cookie_dict.items()]\n",
    "    return ';'.join(found)\n",
    "\n",
    "# \"set-cookie\" : \"TEServer=TEIIS; expires=Tue, 13-Dec-2022 09:25:29 GMT; path=/\"\n",
    "my_headers = {'User-Agent': 'Mozilla/5.0 (Windows NT 10.0; Win64; x64; rv:75.0) Gecko/20100101 Firefox/75.0'}\n",
    "s.headers.update(my_headers)\n",
    "r = s.get(\"https://tradingeconomics.com/commodity/eu-natural-gas\")\n",
    "print(r.headers)\n",
    "print(r.cookies)\n",
    "#print(r.headers)\n",
    "getCookies(r.cookies, \".tradingeconomics.com\")\n",
    "\n",
    "# 2.\n",
    "print(\"------------------\")\n",
    "r = s.get(\"https://tradingeconomics.com/commodity/eu-natural-gas\")\n",
    "print(r.headers)\n",
    "print(r.cookies)\n",
    "print(r.content)\n",
    "\n",
    "\n",
    "#cookies = {'enwiki_session': '17ab96bd8ffbe8ca58a78657a918558'}\n",
    "\n",
    "#r = requests.post('http://wikipedia.org', cookies=cookies)"
   ]
  },
  {
   "cell_type": "code",
   "execution_count": null,
   "id": "a1d5e283",
   "metadata": {},
   "outputs": [],
   "source": [
    "s = requests.Session()\n",
    "#data = {\"login\":\"my_login\", \"password\":\"my_password\"}\n",
    "url = \"https://tradingeconomics.com/commodity/eu-natural-gas\"\n",
    "r = s.post(url, data=data)\n",
    "r.cookies\n",
    "\n",
    "\n"
   ]
  },
  {
   "cell_type": "code",
   "execution_count": null,
   "id": "c8d4dcd8",
   "metadata": {},
   "outputs": [],
   "source": [
    "url = \"https://tradingeconomics.com/commodity/eu-natural-gas\"\n",
    "resp = requests.get(\"https://tradingeconomics.com/\")\n",
    "resp = requests.post(url, cookies=r1.cookies)\n",
    "print(resp.text)\n",
    "print(resp.status_code)"
   ]
  },
  {
   "cell_type": "code",
   "execution_count": null,
   "id": "e9295bfe",
   "metadata": {},
   "outputs": [],
   "source": [
    "def get_commodieties(name):\n",
    "    if name == 'ttf':\n",
    "        url=f\"https://markets.tradingeconomics.com/chart?s=ngeu:com&interval=1d&span=5y&securify=new&url=/commodity/eu-natural-gas&AUTH=S%2F5%2B8%2BV0tSEqVO3f3fc8i7D1ALNK3vv44AAM1sLXABiksGpLT3z6hHgIC4khJSb1&ohlc=1\"\n",
    "    elif name == 'brent':\n",
    "        url = \"https://markets.tradingeconomics.com/chart?s=co1:com&span=5y&securify=new&url=/commodity/eu-natural-gas&AUTH=S%2F5%2B8%2BV0tSEqVO3f3fc8i7D1ALNK3vv44AAM1sLXABiksGpLT3z6hHgIC4khJSb1&ohlc=1\"\n",
    "    elif name == 'usdrub':\n",
    "        url = \"https://markets.tradingeconomics.com/chart?s=usdrub:cur&interval=1d&span=5y&securify=new&url=/russia/currency&AUTH=ZunHTz66JfXqLQTeiv78irx2z508SOi1CsDlRXaVUGUxcEGnev2LDgoaqNeHISd9&ohlc=1\"\n",
    "    elif name == \"nbp\":\n",
    "        url = \"https://markets.tradingeconomics.com/chart?s=nguk:com&interval=1d&span=5y&securify=new&url=/russia/currency&AUTH=ZunHTz66JfXqLQTeiv78irx2z508SOi1CsDlRXaVUGUxcEGnev2LDgoaqNeHISd9&ohlc=1\"\n",
    "    elif name == \"CO2\":\n",
    "        url = \"https://markets.tradingeconomics.com/chart?s=eecxm:ind&interval=1d&span=5y&securify=new&url=/commodity/carbon&AUTH=GPVSlEsoJTkYP45bnbNF28FlnikmX%2BwnW7RXI%2FnXTNxH1U1lhv9220niYGHm%2Fnda&ohlc=1\"\n",
    "    resp = requests.get(url)\n",
    "    if resp.status_code != 200:\n",
    "        raise ApiError(f\"Problem\")\n",
    "    # print(resp.text)\n",
    "    #t = str(resp.text)\n",
    "    json_object = json.dumps(resp.text, indent=4)\n",
    "    with open(f\"{name}.json\", \"w\") as outfile:\n",
    "        outfile.write(resp.text)\n",
    "\n",
    "#get_commodieties('ttf')\n",
    "#get_commodieties('brent')\n",
    "#get_commodieties('usdrub')\n",
    "#get_commodieties('nbp')\n",
    "get_commodieties('CO2')"
   ]
  },
  {
   "cell_type": "code",
   "execution_count": null,
   "id": "9775e951",
   "metadata": {},
   "outputs": [],
   "source": [
    "def get_historic_dates(filename=\"history.json\"):\n",
    "    try:\n",
    "        f = open(f'{filename}')\n",
    "        data = json.load(f)\n",
    "        f.close()\n",
    "        df_history = json_normalize(data)\n",
    "        df_history['date'] = pd.to_datetime(df_history['date'], infer_datetime_format=True)\n",
    "        return df_history\n",
    "    except Exception as e:\n",
    "        print(f\"Error with json file syntax.\")"
   ]
  },
  {
   "cell_type": "code",
   "execution_count": null,
   "id": "fca07ba0",
   "metadata": {},
   "outputs": [],
   "source": [
    "def get_value_at_day(df, date):\n",
    "    val = df[df['date'] == date]['y'].iloc[0]\n",
    "    return val\n",
    "\n",
    "\n",
    "def improve_text_position(x):\n",
    "    \"\"\" it is more efficient if the x values are sorted \"\"\"\n",
    "    positions = ['top center', 'bottom center']  # you can add more: left center ...\n",
    "    return [positions[i % len(positions)] for i in range(len(x))]\n",
    "\n",
    "\n",
    "def add_annotation(fig, df):\n",
    "    df_history = get_historic_dates()\n",
    "    for index, row in df_history.iterrows():\n",
    "        if int(row['priority']) < 2:\n",
    "            try:\n",
    "                y = get_value_at_day(df, row['date'])\n",
    "                fig.add_annotation(x=row['date'], y=y,\n",
    "                    text=row['text'], showarrow=True, yshift=10, font=dict(family=\"Courier New, monospace\", size=8, color=\"#636363\"),\n",
    "                    align=\"center\", arrowhead=2, arrowsize=1, arrowwidth=2, arrowcolor=\"#636363\",)\n",
    "            except (IndexError) as e:\n",
    "                print(f\"At least one date is not yet in time series.\")\n",
    "                pass\n",
    "    \n",
    "            # fig.update_traces(textposition=improve_text_position(df['x']))\n",
    "    return fig\n",
    "\n",
    "\n",
    "def xx(fig, df, date, text):\n",
    "    date_time_obj = datetime.strptime(date, '%Y-%m-%d')\n",
    "    y = get_value_at_day(df, date)\n",
    "    fig.add_annotation(x=date_time_obj, y=y,\n",
    "        text=text, showarrow=True, yshift=10, font=dict(family=\"Courier New, monospace\", size=10, color=\"#636363\"),\n",
    "        align=\"center\", arrowhead=2, arrowsize=1, arrowwidth=2, arrowcolor=\"#636363\",)\n",
    "    return fig\n",
    "\n",
    "\n",
    "def load_historic_chart_data(filename):\n",
    "    f = open(f'{filename}.json')\n",
    "    data = json.load(f)\n",
    "    f.close()\n",
    "    data = data['series'][0]['data']\n",
    "    #print(data[0])\n",
    "\n",
    "    df = json_normalize(data)\n",
    "    df['date'] = pd.to_datetime(df['date'], infer_datetime_format=True) #, format='%Y-%m%d:%H:%M:%S.%f')\n",
    "\n",
    "    df = df.iloc[-400:-1, 0:-1]\n",
    "    return df\n",
    "\n",
    "\n",
    "def candlestick_chart(filename=\"ttf\", y_axis_title=\"\", title=\"\"):\n",
    "    df = load_historic_chart_data(filename)\n",
    "    fig = go.Figure(data=[go.Candlestick(x=df[\"date\"], open=df[\"open\"], high=df[\"high\"],\n",
    "                    low=df[\"low\"], close=df[\"close\"])])\n",
    "    fig.update_layout(title=title)\n",
    "        \n",
    "    #add_annotation(fig, df, '2022-09-26', \"Nordstream 2 <br>Explosion\")\n",
    "    #add_annotation(fig, df, '2022-02-24', \"Russian invasion <br>of Ukraine\")\n",
    "    add_annotation(fig, df)\n",
    "    fig.update(layout_xaxis_rangeslider_visible=False)\n",
    "    \n",
    "    \n",
    "    fig.update_yaxes(tickfont=dict(family='Helvetica', size=12, color='#9c9c9c'), titlefont=dict(size=12), title_font_color='#9c9c9c', title_text=y_axis_title, mirror=True,\n",
    "    ticks='outside', showline=True, gridwidth=1, gridcolor='#4c4c4c')\n",
    "    fig.update_xaxes(tickfont=dict(family='Helvetica', size=12, color='#9c9c9c'), titlefont=dict(size=12), title_font_color='#9c9c9c', title_text=\"\", mirror=True,\n",
    "    ticks='outside', showline=True, gridwidth=1, gridcolor='#4c4c4c')\n",
    "    fig.update_layout(font=dict(family=\"Helvetica\"), legend_font_size=14)\n",
    "\n",
    "    fig.update_layout(paper_bgcolor='rgba(0,0,0,0)', plot_bgcolor='rgba(0,0,0,0)')\n",
    "    #fig.update_layout(margin={\"r\":0,\"t\":40,\"l\":0,\"b\":0})\n",
    "    fig.show()\n"
   ]
  },
  {
   "cell_type": "code",
   "execution_count": null,
   "id": "65ddfb32",
   "metadata": {},
   "outputs": [],
   "source": [
    "\n",
    "#EU ETS Allowances\n",
    "candlestick_chart(filename=\"CO2\", y_axis_title=\"Eurot CO2 (CO2e)\", title=\"EU Carbon Permits<br><sub>CO2 European Emission Allowances</sub>\")"
   ]
  },
  {
   "cell_type": "code",
   "execution_count": null,
   "id": "5fa4e121",
   "metadata": {},
   "outputs": [],
   "source": [
    "candlestick_chart(filename=\"ttf\", y_axis_title=\"spot price in €/MWh\", title=\"Natural Gas EU<br><sub>Dutch TTF</sub>\")"
   ]
  },
  {
   "cell_type": "code",
   "execution_count": null,
   "id": "8a628fb4",
   "metadata": {},
   "outputs": [],
   "source": [
    "candlestick_chart(filename=\"nbp\", y_axis_title=\"spot price in GBp/Thm\", title=\"Natural Gas UK<br><sub>NBP</sub>\")"
   ]
  },
  {
   "cell_type": "code",
   "execution_count": null,
   "id": "93247598",
   "metadata": {},
   "outputs": [],
   "source": [
    "candlestick_chart(filename=\"brent\", y_axis_title=\"USD per barrel\", title=\"Crude Oil<br><sub>dsdfsdf</sub>\")"
   ]
  },
  {
   "cell_type": "code",
   "execution_count": null,
   "id": "5eaafe19",
   "metadata": {},
   "outputs": [],
   "source": [
    "candlestick_chart(filename=\"usdrub\", title=\"USD/RUB\")"
   ]
  },
  {
   "cell_type": "code",
   "execution_count": null,
   "id": "7193d923",
   "metadata": {},
   "outputs": [],
   "source": [
    "# candlestick_chart(filename=\"henry_hub\", title=\"Henry Hub Natural Gas<br> USD per million BTU\")"
   ]
  },
  {
   "cell_type": "markdown",
   "id": "1ae843f9",
   "metadata": {},
   "source": [
    "### List of all LNG Tankers\n",
    "\n",
    "#### Sources:\n",
    "https://gtt.fr/references-partners/built-vessels\n",
    "\n",
    "http://www.aukevisser.nl/supertankers/gas-SP/id703.htm\n",
    "\n",
    "https://www.vesselfinder.com/de/vessels/details/9288708\n",
    "\n",
    "https://digital-geography.com/vessel-tracking-the-python-way/\n",
    "\n",
    "https://pypi.org/project/Marine-Traffic-API/\n",
    "https://www.marinetraffic.com/en/ais/home/centerx:3.8/centery:39.8/zoom:6\n",
    "\n",
    "https://medium.com/analytics-vidhya/tracking-ships-and-visualize-them-in-qgis-35c074810937\n"
   ]
  },
  {
   "cell_type": "code",
   "execution_count": null,
   "id": "7cd4f63c",
   "metadata": {},
   "outputs": [],
   "source": []
  }
 ],
 "metadata": {
  "kernelspec": {
   "display_name": "Python 3 (ipykernel)",
   "language": "python",
   "name": "python3"
  },
  "language_info": {
   "codemirror_mode": {
    "name": "ipython",
    "version": 3
   },
   "file_extension": ".py",
   "mimetype": "text/x-python",
   "name": "python",
   "nbconvert_exporter": "python",
   "pygments_lexer": "ipython3",
   "version": "3.9.13"
  }
 },
 "nbformat": 4,
 "nbformat_minor": 5
}
