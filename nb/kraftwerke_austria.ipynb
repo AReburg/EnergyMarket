{
 "cells": [
  {
   "cell_type": "markdown",
   "id": "b9c5870c",
   "metadata": {},
   "source": [
    "import sys\n",
    "!{sys.executable} -m pip install pandas==1.5.2"
   ]
  },
  {
   "cell_type": "code",
   "execution_count": 1,
   "id": "04c7a515",
   "metadata": {},
   "outputs": [],
   "source": [
    "#import sys\n",
    "#!{sys.executable} -m pip install html5lib"
   ]
  },
  {
   "cell_type": "code",
   "execution_count": 2,
   "id": "90ad5997",
   "metadata": {},
   "outputs": [],
   "source": [
    "# import modules/libraries\n",
    "import warnings \n",
    "warnings.simplefilter(action='ignore')\n",
    "from entsoe import EntsoePandasClient\n",
    "import pandas as pd\n",
    "import json\n",
    "import requests\n",
    "from pandas import json_normalize\n",
    "import math\n",
    "import osmnx as ox\n",
    "import pandas as pd\n",
    "import numpy as np\n",
    "import geopandas as gpd\n",
    "import time\n",
    "from datetime import datetime\n",
    "from scipy import stats\n",
    "import itertools\n",
    "import os\n",
    "import pickle\n",
    "import geojson\n",
    "from sqlalchemy import create_engine\n",
    "import re\n",
    "import sqlite3\n",
    "from pathlib import Path\n",
    "from shapely.geometry.polygon import Polygon\n",
    "from shapely.geometry.multipolygon import MultiPolygon\n",
    "import chardet\n",
    "from scipy import spatial\n",
    "from scipy.spatial import KDTree\n",
    "from shapely import wkt\n",
    "\n",
    "cwd = Path().resolve()\n",
    "\n",
    "# visualisation\n",
    "import plotly.io as pio\n",
    "import plotly.graph_objects as go\n",
    "import plotly.express as px\n",
    "import plotly.figure_factory as ff\n",
    "import seaborn as sns\n",
    "import matplotlib as mpl \n",
    "%matplotlib inline \n",
    "import matplotlib.pyplot as plt\n",
    "\n",
    "pd.set_option('display.max_columns', None)"
   ]
  },
  {
   "cell_type": "code",
   "execution_count": null,
   "id": "c2c9e3fe",
   "metadata": {},
   "outputs": [],
   "source": []
  },
  {
   "cell_type": "code",
   "execution_count": 3,
   "id": "1fbe0520",
   "metadata": {},
   "outputs": [],
   "source": [
    "def get_lat_long(name, land_raw):\n",
    "    \"\"\" get latitude and longitude coordinate from POINT geometry \"\"\"\n",
    "    if land_raw == 'Stmk':\n",
    "        bundesland = \"Steiermark\"\n",
    "    elif land_raw == 'Sbg':\n",
    "        bundesland = \"Salzburg\"\n",
    "    elif land_raw == 'OÖ':\n",
    "        bundesland = \"Oberösterreich\"\n",
    "    elif land_raw == 'NÖ':\n",
    "        bundesland = \"Niederösterreich\"\n",
    "    else:\n",
    "        bundesland = land_raw\n",
    "    text = f\"{name}, {bundesland}\"\n",
    "    try:\n",
    "        #return pd.Series([point.x, point.y])\n",
    "        data_json = requests.get(url=f'https://nominatim.openstreetmap.org/search?q={text}&format=json&polygon=1&addressdetails=1').json()\n",
    "        lat = data_json[0]['lat']\n",
    "        lon = data_json[0]['lon']\n",
    "        print(text, lat, lon)\n",
    "        return pd.Series([lat, lon])\n",
    "            \n",
    "    except:\n",
    "        print(text)\n",
    "        return pd.Series([np.nan, np.nan])\n",
    "        \n",
    "\n",
    "def get_verbund_data():\n",
    "    \"\"\" run only once \"\"\"\n",
    "    # attrs = {'class': 'wikitable sortable toptextcells zebra jquery-tablesorter'}\n",
    "    verb = pd.read_html('https://de.wikipedia.org/wiki/Liste_von_Kraftwerken_der_Verbund_AG', skiprows = 0, header=0)[0]\n",
    "    verb[['lat', 'lon']] = verb.apply(lambda x: get_lat_long(x['Name'], x['Bundesland']), axis=1)\n",
    "    verb.to_csv('verbund_plants.csv')\n",
    "\n",
    "    \n",
    "def get_sag_data():\n",
    "    \"\"\" run only once \"\"\"\n",
    "    sag = pd.read_html('http://www.salzburg-ag.at/ueber-die-salzburg-ag/unternehmen/erzeugung/erzeugungsanlagen.html',\n",
    "                displayed_only=True)\n",
    "    sag.to_csv('sag_plants.csv')\n",
    "    "
   ]
  },
  {
   "cell_type": "code",
   "execution_count": 4,
   "id": "5a61531d",
   "metadata": {},
   "outputs": [
    {
     "data": {
      "text/html": [
       "<div>\n",
       "<style scoped>\n",
       "    .dataframe tbody tr th:only-of-type {\n",
       "        vertical-align: middle;\n",
       "    }\n",
       "\n",
       "    .dataframe tbody tr th {\n",
       "        vertical-align: top;\n",
       "    }\n",
       "\n",
       "    .dataframe thead th {\n",
       "        text-align: right;\n",
       "    }\n",
       "</style>\n",
       "<table border=\"1\" class=\"dataframe\">\n",
       "  <thead>\n",
       "    <tr style=\"text-align: right;\">\n",
       "      <th></th>\n",
       "      <th>Unnamed: 0</th>\n",
       "      <th>Name</th>\n",
       "      <th>Typ</th>\n",
       "      <th>Gewässer</th>\n",
       "      <th>Land</th>\n",
       "      <th>Bundesland</th>\n",
       "      <th>Leistung in MW</th>\n",
       "      <th>lat</th>\n",
       "      <th>lon</th>\n",
       "      <th>Betreiber</th>\n",
       "    </tr>\n",
       "  </thead>\n",
       "  <tbody>\n",
       "    <tr>\n",
       "      <th>0</th>\n",
       "      <td>0</td>\n",
       "      <td>Abwinden-Asten</td>\n",
       "      <td>Laufwasserkraftwerk</td>\n",
       "      <td>Donau</td>\n",
       "      <td>AT</td>\n",
       "      <td>OÖ</td>\n",
       "      <td>1680</td>\n",
       "      <td>48.247645</td>\n",
       "      <td>14.430105</td>\n",
       "      <td>Verbund</td>\n",
       "    </tr>\n",
       "    <tr>\n",
       "      <th>1</th>\n",
       "      <td>1</td>\n",
       "      <td>Altenmarkt</td>\n",
       "      <td>Laufwasserkraftwerk</td>\n",
       "      <td>Enns</td>\n",
       "      <td>AT</td>\n",
       "      <td>Stmk</td>\n",
       "      <td>210</td>\n",
       "      <td>46.772845</td>\n",
       "      <td>15.540325</td>\n",
       "      <td>Verbund</td>\n",
       "    </tr>\n",
       "    <tr>\n",
       "      <th>2</th>\n",
       "      <td>2</td>\n",
       "      <td>Altenwörth</td>\n",
       "      <td>Laufwasserkraftwerk</td>\n",
       "      <td>Donau</td>\n",
       "      <td>AT</td>\n",
       "      <td>NÖ</td>\n",
       "      <td>3280</td>\n",
       "      <td>48.384500</td>\n",
       "      <td>15.859538</td>\n",
       "      <td>Verbund</td>\n",
       "    </tr>\n",
       "    <tr>\n",
       "      <th>3</th>\n",
       "      <td>3</td>\n",
       "      <td>Annabrücke</td>\n",
       "      <td>Laufwasserkraftwerk</td>\n",
       "      <td>Drau</td>\n",
       "      <td>AT</td>\n",
       "      <td>Kärnten</td>\n",
       "      <td>900</td>\n",
       "      <td>46.572964</td>\n",
       "      <td>14.491360</td>\n",
       "      <td>Verbund</td>\n",
       "    </tr>\n",
       "    <tr>\n",
       "      <th>4</th>\n",
       "      <td>4</td>\n",
       "      <td>Arnstein</td>\n",
       "      <td>Speicherkraftwerk</td>\n",
       "      <td>Teigitsch</td>\n",
       "      <td>AT</td>\n",
       "      <td>Stmk</td>\n",
       "      <td>300</td>\n",
       "      <td>47.026680</td>\n",
       "      <td>15.170987</td>\n",
       "      <td>Verbund</td>\n",
       "    </tr>\n",
       "  </tbody>\n",
       "</table>\n",
       "</div>"
      ],
      "text/plain": [
       "   Unnamed: 0            Name                  Typ   Gewässer Land Bundesland  \\\n",
       "0           0  Abwinden-Asten  Laufwasserkraftwerk      Donau   AT         OÖ   \n",
       "1           1      Altenmarkt  Laufwasserkraftwerk       Enns   AT       Stmk   \n",
       "2           2      Altenwörth  Laufwasserkraftwerk      Donau   AT         NÖ   \n",
       "3           3      Annabrücke  Laufwasserkraftwerk       Drau   AT    Kärnten   \n",
       "4           4        Arnstein    Speicherkraftwerk  Teigitsch   AT       Stmk   \n",
       "\n",
       "   Leistung in MW        lat        lon Betreiber  \n",
       "0            1680  48.247645  14.430105   Verbund  \n",
       "1             210  46.772845  15.540325   Verbund  \n",
       "2            3280  48.384500  15.859538   Verbund  \n",
       "3             900  46.572964  14.491360   Verbund  \n",
       "4             300  47.026680  15.170987   Verbund  "
      ]
     },
     "execution_count": 4,
     "metadata": {},
     "output_type": "execute_result"
    }
   ],
   "source": [
    "plants = pd.read_csv('verbund_plants.csv')\n",
    "plants['Betreiber'] = \"Verbund\"\n",
    "plants.head()"
   ]
  },
  {
   "cell_type": "code",
   "execution_count": 5,
   "id": "7a06e4ca",
   "metadata": {},
   "outputs": [
    {
     "data": {
      "text/html": [
       "<div>\n",
       "<style scoped>\n",
       "    .dataframe tbody tr th:only-of-type {\n",
       "        vertical-align: middle;\n",
       "    }\n",
       "\n",
       "    .dataframe tbody tr th {\n",
       "        vertical-align: top;\n",
       "    }\n",
       "\n",
       "    .dataframe thead th {\n",
       "        text-align: right;\n",
       "    }\n",
       "</style>\n",
       "<table border=\"1\" class=\"dataframe\">\n",
       "  <thead>\n",
       "    <tr style=\"text-align: right;\">\n",
       "      <th></th>\n",
       "      <th>Name</th>\n",
       "      <th>lon</th>\n",
       "      <th>lat</th>\n",
       "      <th>image</th>\n",
       "      <th>mapType</th>\n",
       "      <th>tableItems</th>\n",
       "      <th>path</th>\n",
       "      <th>mapTypeLabel</th>\n",
       "      <th>region</th>\n",
       "    </tr>\n",
       "  </thead>\n",
       "  <tbody>\n",
       "    <tr>\n",
       "      <th>0</th>\n",
       "      <td>HKW Nord Power to heat</td>\n",
       "      <td>13.033926</td>\n",
       "      <td>47.827775</td>\n",
       "      <td>/content/dam/web18/bilder/gebaeude/kraftwerke/...</td>\n",
       "      <td>heizkraftwerk</td>\n",
       "      <td>[]</td>\n",
       "      <td>/ueber-die-salzburg-ag/unternehmen/erzeugung/e...</td>\n",
       "      <td>Heiz(kraft)werk</td>\n",
       "      <td>Stadt Salzburg</td>\n",
       "    </tr>\n",
       "    <tr>\n",
       "      <th>1</th>\n",
       "      <td>PV-Anlage GeschÃ¤ftsstelle Golling</td>\n",
       "      <td>13.180723</td>\n",
       "      <td>47.591751</td>\n",
       "      <td>NaN</td>\n",
       "      <td>photovoltaikanlage</td>\n",
       "      <td>[]</td>\n",
       "      <td>/ueber-die-salzburg-ag/unternehmen/erzeugung/e...</td>\n",
       "      <td>Photovoltaikanlage</td>\n",
       "      <td>Tennengau</td>\n",
       "    </tr>\n",
       "    <tr>\n",
       "      <th>2</th>\n",
       "      <td>HKW Mitte Power to heat</td>\n",
       "      <td>13.038196</td>\n",
       "      <td>47.809199</td>\n",
       "      <td>NaN</td>\n",
       "      <td>heizkraftwerk</td>\n",
       "      <td>[]</td>\n",
       "      <td>/ueber-die-salzburg-ag/unternehmen/erzeugung/e...</td>\n",
       "      <td>Heiz(kraft)werk</td>\n",
       "      <td>Stadt Salzburg</td>\n",
       "    </tr>\n",
       "    <tr>\n",
       "      <th>3</th>\n",
       "      <td>PV-Anlage Zentrallager Salzburg AG</td>\n",
       "      <td>13.051664</td>\n",
       "      <td>47.813101</td>\n",
       "      <td>NaN</td>\n",
       "      <td>photovoltaikanlage</td>\n",
       "      <td>[]</td>\n",
       "      <td>/ueber-die-salzburg-ag/unternehmen/erzeugung/e...</td>\n",
       "      <td>Photovoltaikanlage</td>\n",
       "      <td>Stadt Salzburg</td>\n",
       "    </tr>\n",
       "    <tr>\n",
       "      <th>4</th>\n",
       "      <td>PV-Anlage Bahnhof Lamprechtshausen</td>\n",
       "      <td>12.951766</td>\n",
       "      <td>47.990422</td>\n",
       "      <td>NaN</td>\n",
       "      <td>photovoltaikanlage</td>\n",
       "      <td>[]</td>\n",
       "      <td>/ueber-die-salzburg-ag/unternehmen/erzeugung/e...</td>\n",
       "      <td>Photovoltaikanlage</td>\n",
       "      <td>Flachgau</td>\n",
       "    </tr>\n",
       "  </tbody>\n",
       "</table>\n",
       "</div>"
      ],
      "text/plain": [
       "                                 Name        lon        lat  \\\n",
       "0              HKW Nord Power to heat  13.033926  47.827775   \n",
       "1  PV-Anlage GeschÃ¤ftsstelle Golling  13.180723  47.591751   \n",
       "2             HKW Mitte Power to heat  13.038196  47.809199   \n",
       "3  PV-Anlage Zentrallager Salzburg AG  13.051664  47.813101   \n",
       "4  PV-Anlage Bahnhof Lamprechtshausen  12.951766  47.990422   \n",
       "\n",
       "                                               image             mapType  \\\n",
       "0  /content/dam/web18/bilder/gebaeude/kraftwerke/...       heizkraftwerk   \n",
       "1                                                NaN  photovoltaikanlage   \n",
       "2                                                NaN       heizkraftwerk   \n",
       "3                                                NaN  photovoltaikanlage   \n",
       "4                                                NaN  photovoltaikanlage   \n",
       "\n",
       "  tableItems                                               path  \\\n",
       "0         []  /ueber-die-salzburg-ag/unternehmen/erzeugung/e...   \n",
       "1         []  /ueber-die-salzburg-ag/unternehmen/erzeugung/e...   \n",
       "2         []  /ueber-die-salzburg-ag/unternehmen/erzeugung/e...   \n",
       "3         []  /ueber-die-salzburg-ag/unternehmen/erzeugung/e...   \n",
       "4         []  /ueber-die-salzburg-ag/unternehmen/erzeugung/e...   \n",
       "\n",
       "         mapTypeLabel          region  \n",
       "0     Heiz(kraft)werk  Stadt Salzburg  \n",
       "1  Photovoltaikanlage       Tennengau  \n",
       "2     Heiz(kraft)werk  Stadt Salzburg  \n",
       "3  Photovoltaikanlage  Stadt Salzburg  \n",
       "4  Photovoltaikanlage        Flachgau  "
      ]
     },
     "execution_count": 5,
     "metadata": {},
     "output_type": "execute_result"
    }
   ],
   "source": [
    "def load(filename='sag_plants.json'):\n",
    "    \"\"\" run only once -> it is saved to csv for further processing, in case website is offline\"\"\"\n",
    "    f = open(f'{filename}')\n",
    "    data = json.load(f)\n",
    "    f.close()\n",
    "    df = json_normalize(data)\n",
    "    df.rename(columns={'title' : 'Name', 'latitude':'lat', 'longitude':'lon'}, inplace=True)\n",
    "    return df\n",
    "\n",
    "\n",
    "def get_power_data(path):\n",
    "    # print(path)\n",
    "    table = pd.read_html(f'http://www.salzburg-ag.at{path}', skiprows=1, displayed_only=True)[0]\n",
    "    print(table.head())\n",
    "    return pd.Series([table.Inbetriebnahme])\n",
    "\n",
    "df = load()\n",
    "#df[['Inbetriebnahme']] = df.apply(lambda x: get_power_data(x['path']), axis=1)\n",
    "df.head()"
   ]
  },
  {
   "cell_type": "code",
   "execution_count": 6,
   "id": "6ec9e1d6",
   "metadata": {
    "scrolled": true
   },
   "outputs": [],
   "source": [
    "boundary_geojson = gpd.read_file(os.path.join(Path(cwd), 'laender_95_topo.json'))\n",
    "#boundary_geojson.drop(columns=['cartodb_id', 'created_at', 'updated_at'], inplace=True)\n",
    "#region = boundary_geojson.geometry.unary_union"
   ]
  },
  {
   "cell_type": "code",
   "execution_count": 7,
   "id": "36d4a03a",
   "metadata": {},
   "outputs": [
    {
     "data": {
      "text/html": [
       "<div>\n",
       "<style scoped>\n",
       "    .dataframe tbody tr th:only-of-type {\n",
       "        vertical-align: middle;\n",
       "    }\n",
       "\n",
       "    .dataframe tbody tr th {\n",
       "        vertical-align: top;\n",
       "    }\n",
       "\n",
       "    .dataframe thead th {\n",
       "        text-align: right;\n",
       "    }\n",
       "</style>\n",
       "<table border=\"1\" class=\"dataframe\">\n",
       "  <thead>\n",
       "    <tr style=\"text-align: right;\">\n",
       "      <th></th>\n",
       "      <th>iso</th>\n",
       "      <th>name</th>\n",
       "      <th>geometry</th>\n",
       "    </tr>\n",
       "  </thead>\n",
       "  <tbody>\n",
       "    <tr>\n",
       "      <th>0</th>\n",
       "      <td>4</td>\n",
       "      <td>Oberösterreich</td>\n",
       "      <td>POLYGON ((13.76147 47.52081, 13.74994 47.50213...</td>\n",
       "    </tr>\n",
       "    <tr>\n",
       "      <th>1</th>\n",
       "      <td>7</td>\n",
       "      <td>Tirol</td>\n",
       "      <td>MULTIPOLYGON (((12.71233 46.73610, 12.71151 46...</td>\n",
       "    </tr>\n",
       "    <tr>\n",
       "      <th>2</th>\n",
       "      <td>6</td>\n",
       "      <td>Steiermark</td>\n",
       "      <td>POLYGON ((14.07995 47.02247, 14.07312 47.01310...</td>\n",
       "    </tr>\n",
       "    <tr>\n",
       "      <th>3</th>\n",
       "      <td>1</td>\n",
       "      <td>Burgenland</td>\n",
       "      <td>POLYGON ((16.06678 46.85025, 16.06004 46.83935...</td>\n",
       "    </tr>\n",
       "    <tr>\n",
       "      <th>4</th>\n",
       "      <td>3</td>\n",
       "      <td>Niederösterreich</td>\n",
       "      <td>POLYGON ((14.85902 47.74099, 14.84094 47.73446...</td>\n",
       "    </tr>\n",
       "  </tbody>\n",
       "</table>\n",
       "</div>"
      ],
      "text/plain": [
       "  iso              name                                           geometry\n",
       "0   4    Oberösterreich  POLYGON ((13.76147 47.52081, 13.74994 47.50213...\n",
       "1   7             Tirol  MULTIPOLYGON (((12.71233 46.73610, 12.71151 46...\n",
       "2   6        Steiermark  POLYGON ((14.07995 47.02247, 14.07312 47.01310...\n",
       "3   1        Burgenland  POLYGON ((16.06678 46.85025, 16.06004 46.83935...\n",
       "4   3  Niederösterreich  POLYGON ((14.85902 47.74099, 14.84094 47.73446..."
      ]
     },
     "execution_count": 7,
     "metadata": {},
     "output_type": "execute_result"
    }
   ],
   "source": [
    "boundary_geojson.head()"
   ]
  },
  {
   "cell_type": "code",
   "execution_count": 15,
   "id": "2c36c6d9",
   "metadata": {},
   "outputs": [],
   "source": [
    "def get_geo_data():\n",
    "    \"\"\" Load Austrian geojson\"\"\"\n",
    "    with open(os.path.join(Path(cwd), 'laender_95_topo.json'), encoding='utf8') as a:\n",
    "        counties = json.load(a)\n",
    "    return counties\n",
    "\n",
    "geojson=get_geo_data()\n",
    "inverse_geojson = geojson\n",
    "#j= inverse_geojson['features'][1]['geometry']['coordinates']\n",
    "insertt = [[-180, -90], [-180, 90], [180, 90], [180, -90], [-180, -90]] #[[0,90],[180,90],[180,-90],[0,-90],[-180,-90],[-180,0],[-180,90],[0,90]]\n",
    "#j[0].insert(0, insertt)\n",
    "#j[0]\n",
    "for idx, i in enumerate(geojson['features']):\n",
    "    l= [i['geometry']['coordinates']]\n",
    "    #print(l[0])\n",
    "    l[0].insert(0, insertt)\n",
    "    #print(l[0])\n",
    "    inverse_geojson['features'][idx]['geometry']['coordinates'] = l[0]\n",
    "#print(inverse_geojson)"
   ]
  },
  {
   "cell_type": "code",
   "execution_count": 16,
   "id": "cfc9efe4",
   "metadata": {},
   "outputs": [],
   "source": [
    "\n",
    "\n",
    "#geojson=get_geo_data()\n",
    "#inverse_geojson = geojson\n",
    "#j= geojson['features'][1]['geometry']['coordinates']\n",
    "#insertt = [[-180, -90], [-180, 90], [180, 90], [180, -90], [-180, -90]] #[[0,90],[180,90],[180,-90],[0,-90],[-180,-90],[-180,0],[-180,90],[0,90]]\n",
    "#j[0].insert(0, insertt)\n",
    "#j[0]\n",
    "#inverse_geojson['features'][0]['geometry']['coordinates'] = j[0]\n"
   ]
  },
  {
   "cell_type": "code",
   "execution_count": 24,
   "id": "06e56f6d",
   "metadata": {},
   "outputs": [
    {
     "data": {
      "text/html": [
       "<div>\n",
       "<style scoped>\n",
       "    .dataframe tbody tr th:only-of-type {\n",
       "        vertical-align: middle;\n",
       "    }\n",
       "\n",
       "    .dataframe tbody tr th {\n",
       "        vertical-align: top;\n",
       "    }\n",
       "\n",
       "    .dataframe thead th {\n",
       "        text-align: right;\n",
       "    }\n",
       "</style>\n",
       "<table border=\"1\" class=\"dataframe\">\n",
       "  <thead>\n",
       "    <tr style=\"text-align: right;\">\n",
       "      <th></th>\n",
       "      <th>val</th>\n",
       "      <th>namee</th>\n",
       "      <th>iso</th>\n",
       "    </tr>\n",
       "  </thead>\n",
       "  <tbody>\n",
       "    <tr>\n",
       "      <th>0</th>\n",
       "      <td>1</td>\n",
       "      <td>Salzburg</td>\n",
       "      <td>5</td>\n",
       "    </tr>\n",
       "  </tbody>\n",
       "</table>\n",
       "</div>"
      ],
      "text/plain": [
       "  val     namee  iso\n",
       "0   1  Salzburg    5"
      ]
     },
     "execution_count": 24,
     "metadata": {},
     "output_type": "execute_result"
    }
   ],
   "source": [
    "d = {'val': [1,2,3], 'namee': ['Salzburg', 'Oberösterreich', 'Kärnten'], 'iso': [5, 4,3]}\n",
    "dfff = pd.DataFrame(data=d, index=[0,1,2])\n",
    "dfff.val = dfff.val.astype('category')\n",
    "df3=dfff[dfff['namee']=='Salzburg']\n",
    "df3.head()"
   ]
  },
  {
   "cell_type": "code",
   "execution_count": 25,
   "id": "061b48de",
   "metadata": {},
   "outputs": [
    {
     "data": {
      "application/vnd.plotly.v1+json": {
       "config": {
        "plotlyServerURL": "https://plot.ly"
       },
       "data": [
        {
         "colorscale": [
          [
           0,
           "#636efa"
          ],
          [
           1,
           "#636efa"
          ]
         ],
         "featureidkey": "properties.name",
         "geojson": {
          "crs": {
           "properties": {
            "name": "urn:ogc:def:crs:OGC:1.3:CRS84"
           },
           "type": "name"
          },
          "features": [
           {
            "geometry": {
             "coordinates": [
              [
               [
                -180,
                -90
               ],
               [
                -180,
                90
               ],
               [
                180,
                90
               ],
               [
                180,
                -90
               ],
               [
                -180,
                -90
               ]
              ],
              [
               [
                13.761468343661337,
                47.52080646660642
               ],
               [
                13.749939780673508,
                47.502130413530246
               ],
               [
                13.739831699315966,
                47.49706786900644
               ],
               [
                13.737698623506096,
                47.49600878845934
               ],
               [
                13.731497960586651,
                47.49206213229628
               ],
               [
                13.728080576019494,
                47.4893613159391
               ],
               [
                13.723525447195547,
                47.485353432719
               ],
               [
                13.72198802603445,
                47.48316089154389
               ],
               [
                13.718057239028633,
                47.474178710708685
               ],
               [
                13.719202960248918,
                47.47119370242574
               ],
               [
                13.723349850747946,
                47.46261300868679
               ],
               [
                13.668442288753072,
                47.46319994029522
               ],
               [
                13.627130645354228,
                47.46796696682165
               ],
               [
                13.60952358993131,
                47.475643500784486
               ],
               [
                13.606457798581054,
                47.47569432788716
               ],
               [
                13.58643460518265,
                47.47530669240729
               ],
               [
                13.53507592650793,
                47.49544294681517
               ],
               [
                13.516932398814733,
                47.497016419942995
               ],
               [
                13.502759692442385,
                47.51222954480216
               ],
               [
                13.490813740646713,
                47.51377416410763
               ],
               [
                13.477502477804828,
                47.53083284465746
               ],
               [
                13.485529836861907,
                47.553347344138636
               ],
               [
                13.482039721354713,
                47.562245689143815
               ],
               [
                13.47908881547972,
                47.568656909194765
               ],
               [
                13.506033490577202,
                47.5825112248718
               ],
               [
                13.507093170569451,
                47.6012763494509
               ],
               [
                13.521053258892575,
                47.62370726910291
               ],
               [
                13.490632581940691,
                47.63085555988478
               ],
               [
                13.484863443678226,
                47.64207122151538
               ],
               [
                13.501161404579053,
                47.659439099253035
               ],
               [
                13.500814203853798,
                47.66953074871557
               ],
               [
                13.51772234921809,
                47.67606585346152
               ],
               [
                13.534476584956707,
                47.68491350241405
               ],
               [
                13.536404696257424,
                47.69583113716994
               ],
               [
                13.551652205865423,
                47.71465205581413
               ],
               [
                13.477370979698803,
                47.72473125857403
               ],
               [
                13.437044064399783,
                47.73909342348027
               ],
               [
                13.447086368217878,
                47.77255021084186
               ],
               [
                13.466056518915638,
                47.78669928819231
               ],
               [
                13.51601511400202,
                47.772557268928
               ],
               [
                13.536170688480274,
                47.77668107103932
               ],
               [
                13.530261084681209,
                47.79757025282514
               ],
               [
                13.511752541024057,
                47.79750739773911
               ],
               [
                13.491362176743541,
                47.78972824335878
               ],
               [
                13.484511289095584,
                47.79998448891715
               ],
               [
                13.451191675078974,
                47.80429341887363
               ],
               [
                13.398849442188165,
                47.79844364754232
               ],
               [
                13.393957421567334,
                47.79530009230283
               ],
               [
                13.351724651095312,
                47.81049488687009
               ],
               [
                13.312964897658228,
                47.81338362346725
               ],
               [
                13.308778302920036,
                47.82225122218704
               ],
               [
                13.287164601314913,
                47.83077934971909
               ],
               [
                13.293889782637898,
                47.86432091652677
               ],
               [
                13.276176908502721,
                47.879160464777776
               ],
               [
                13.270871494943625,
                47.891993523241105
               ],
               [
                13.281888759941667,
                47.90520221504385
               ],
               [
                13.28596397625165,
                47.928448961936446
               ],
               [
                13.281051844447191,
                47.955287621129074
               ],
               [
                13.308305386852295,
                47.964587650616565
               ],
               [
                13.338053780558313,
                47.954776113107535
               ],
               [
                13.340370893896262,
                47.94446341416352
               ],
               [
                13.359317945365092,
                47.94032978871332
               ],
               [
                13.363899067124235,
                47.944650609719325
               ],
               [
                13.361538037048387,
                47.955978212335594
               ],
               [
                13.372433816964902,
                47.97255316137185
               ],
               [
                13.324833675764625,
                47.99289185716716
               ],
               [
                13.30199772896553,
                47.995935901175955
               ],
               [
                13.30470126151509,
                48.00844773145437
               ],
               [
                13.257739324477054,
                47.99177805174646
               ],
               [
                13.243453938930724,
                47.99256216630181
               ],
               [
                13.213462576661653,
                47.98304537035671
               ],
               [
                13.210633201710504,
                47.97952053508733
               ],
               [
                13.199432981972263,
                47.97475031105499
               ],
               [
                13.145922802944359,
                47.97492426122499
               ],
               [
                13.124995546580353,
                47.99676404709405
               ],
               [
                13.104679932443288,
                47.9973348993728
               ],
               [
                13.103509611940929,
                47.99814389805751
               ],
               [
                13.058399902054074,
                48.0138781323072
               ],
               [
                13.047942372223341,
                48.02784954404842
               ],
               [
                13.0477425732328,
                48.03795347378263
               ],
               [
                13.029747807676841,
                48.03309647811081
               ],
               [
                13.01303093487179,
                48.03710160969214
               ],
               [
                12.99033983971967,
                48.028428310448234
               ],
               [
                12.973593909957328,
                48.024092617906796
               ],
               [
                12.962153171469591,
                48.03334762085566
               ],
               [
                12.940234149971177,
                48.036994092995705
               ],
               [
                12.938794024086247,
                48.03655378472327
               ],
               [
                12.912326251343378,
                48.02336110691883
               ],
               [
                12.890672123907757,
                47.99150922151449
               ],
               [
                12.86088959690731,
                47.99723089391568
               ],
               [
                12.849244684020219,
                48.01830700739781
               ],
               [
                12.834700013018569,
                48.028658574250564
               ],
               [
                12.77118249189689,
                48.06654970967599
               ],
               [
                12.753676467533142,
                48.08744399595454
               ],
               [
                12.751335202400906,
                48.10020168386371
               ],
               [
                12.751552952481365,
                48.112851790624454
               ],
               [
                12.765471952409863,
                48.12951392694786
               ],
               [
                12.783679569596007,
                48.1235397038678
               ],
               [
                12.793862775286234,
                48.13305787836447
               ],
               [
                12.800729041927802,
                48.14779496366545
               ],
               [
                12.828638234284856,
                48.15368514186638
               ],
               [
                12.848778092893358,
                48.16847298306341
               ],
               [
                12.872875848203517,
                48.20274403899485
               ],
               [
                12.955926838525826,
                48.20958125416833
               ],
               [
                13.001926459665786,
                48.2398935841754
               ],
               [
                13.023867198179028,
                48.25892200808435
               ],
               [
                13.064929214454004,
                48.269951866139714
               ],
               [
                13.083023403262606,
                48.27812912386339
               ],
               [
                13.126557612157283,
                48.278684419548746
               ],
               [
                13.143393052035135,
                48.28350646760216
               ],
               [
                13.177751556389154,
                48.29499874155157
               ],
               [
                13.196266154506786,
                48.29607973557583
               ],
               [
                13.254464315439044,
                48.293767929844634
               ],
               [
                13.315277079231342,
                48.317036461259335
               ],
               [
                13.342147830083436,
                48.33230728614129
               ],
               [
                13.344649513635373,
                48.334097967252795
               ],
               [
                13.374859460935586,
                48.357087271798186
               ],
               [
                13.408652267619852,
                48.372780988910925
               ],
               [
                13.420980798602951,
                48.40066409504632
               ],
               [
                13.436809057686764,
                48.42636018234907
               ],
               [
                13.435063295836004,
                48.445749832825314
               ],
               [
                13.427748407967163,
                48.45560317378212
               ],
               [
                13.440384108347953,
                48.47952291162853
               ],
               [
                13.444084183251015,
                48.48588974274162
               ],
               [
                13.458086261153824,
                48.514322165682856
               ],
               [
                13.445759074699199,
                48.52871895143682
               ],
               [
                13.451429164773517,
                48.53601737756275
               ],
               [
                13.437824342267492,
                48.553992558728304
               ],
               [
                13.450808218968634,
                48.564586794774954
               ],
               [
                13.475912099655348,
                48.55662382263038
               ],
               [
                13.507671019484409,
                48.57691769787349
               ],
               [
                13.513294273575916,
                48.59174422185886
               ],
               [
                13.529349762801287,
                48.58737704241167
               ],
               [
                13.552344554686877,
                48.57141423344827
               ],
               [
                13.581274014397039,
                48.5601109633386
               ],
               [
                13.602080753938756,
                48.569478576967384
               ],
               [
                13.624560330688572,
                48.55548840326983
               ],
               [
                13.641991248393275,
                48.55312963299124
               ],
               [
                13.661702713591101,
                48.53731806966126
               ],
               [
                13.678015861490508,
                48.53112866167816
               ],
               [
                13.706544781970202,
                48.518274991722926
               ],
               [
                13.727954502215983,
                48.51364372597261
               ],
               [
                13.734258947824607,
                48.52596028363807
               ],
               [
                13.748732694818022,
                48.53029092761529
               ],
               [
                13.744611907990022,
                48.544397704308295
               ],
               [
                13.765182437356478,
                48.561223347232676
               ],
               [
                13.80187293494583,
                48.57431215484381
               ],
               [
                13.801698635625545,
                48.59553075766928
               ],
               [
                13.826655136275003,
                48.619259129092555
               ],
               [
                13.827388039805381,
                48.63548354298059
               ],
               [
                13.81499128284112,
                48.65023709691268
               ],
               [
                13.818245182850438,
                48.65935197720145
               ],
               [
                13.814507764286912,
                48.690040895507536
               ],
               [
                13.834495308856685,
                48.69254254869852
               ],
               [
                13.838233736745138,
                48.70077110816928
               ],
               [
                13.821340890312074,
                48.69971664740794
               ],
               [
                13.80195001550865,
                48.71724873170448
               ],
               [
                13.819973339571344,
                48.73247269436746
               ],
               [
                13.823904972652254,
                48.75729411622541
               ],
               [
                13.840463717347799,
                48.77227153508407
               ],
               [
                13.877862641576309,
                48.76662326722155
               ],
               [
                13.896383493322672,
                48.757727602553594
               ],
               [
                13.92724762079524,
                48.73533491489665
               ],
               [
                13.956444191616976,
                48.71557915089606
               ],
               [
                13.977406252965523,
                48.71173191576706
               ],
               [
                14.004205361825399,
                48.70922114721568
               ],
               [
                14.035657009975328,
                48.67790687106527
               ],
               [
                14.060331383036523,
                48.674369944628005
               ],
               [
                14.053869500901017,
                48.653283829653915
               ],
               [
                14.025529869034388,
                48.65324141195025
               ],
               [
                14.011482244770098,
                48.64028370707253
               ],
               [
                14.023895385856315,
                48.631341099141494
               ],
               [
                14.049060314559261,
                48.62799434273461
               ],
               [
                14.04310872113346,
                48.613482502820176
               ],
               [
                14.055162788030543,
                48.60475676851697
               ],
               [
                14.09650511903674,
                48.592860288985534
               ],
               [
                14.116854475516513,
                48.589785134558056
               ],
               [
                14.133758272655326,
                48.598123701660924
               ],
               [
                14.164464221517843,
                48.589854667792686
               ],
               [
                14.182663976176949,
                48.594519966840686
               ],
               [
                14.222500325540357,
                48.587052852541504
               ],
               [
                14.24881043953586,
                48.57865226838867
               ],
               [
                14.271336029245036,
                48.581609548435395
               ],
               [
                14.27979967823369,
                48.57484644055533
               ],
               [
                14.322950462475491,
                48.56367499067785
               ],
               [
                14.33418381983436,
                48.55241822217751
               ],
               [
                14.342366539673028,
                48.55529395985451
               ],
               [
                14.358871263816061,
                48.57409447643877
               ],
               [
                14.369456314570034,
                48.570439299168946
               ],
               [
                14.39461766316901,
                48.57808445042035
               ],
               [
                14.386748370011437,
                48.59253413798396
               ],
               [
                14.431321578237124,
                48.58913770117082
               ],
               [
                14.444526860039387,
                48.60475668810137
               ],
               [
                14.454202124282817,
                48.6316198132114
               ],
               [
                14.444740090994436,
                48.64404491084891
               ],
               [
                14.467611016584105,
                48.64676435162258
               ],
               [
                14.496888433793918,
                48.62841717037063
               ],
               [
                14.504970937374065,
                48.617827339496905
               ],
               [
                14.54854797028125,
                48.614236770994516
               ],
               [
                14.555868054273956,
                48.60636490682233
               ],
               [
                14.59079058392135,
                48.61824448258708
               ],
               [
                14.608146428788709,
                48.629157073786615
               ],
               [
                14.627733389226787,
                48.6049617804137
               ],
               [
                14.64696335389085,
                48.6104968000798
               ],
               [
                14.664464009697303,
                48.58255914623143
               ],
               [
                14.692011720285441,
                48.58490113429138
               ],
               [
                14.712854848966414,
                48.57930051866391
               ],
               [
                14.737306483179042,
                48.55338172656353
               ],
               [
                14.750652287987648,
                48.563309497922724
               ],
               [
                14.770268116906225,
                48.55714598188366
               ],
               [
                14.783847821000045,
                48.56087783606439
               ],
               [
                14.812165790802133,
                48.55435262715039
               ],
               [
                14.836429426296265,
                48.54613640733101
               ],
               [
                14.850621770741922,
                48.530508811371654
               ],
               [
                14.87611814289651,
                48.52833018192561
               ],
               [
                14.897213901549714,
                48.5238289122768
               ],
               [
                14.921985430272743,
                48.5063099948914
               ],
               [
                14.893294939416279,
                48.49954977414131
               ],
               [
                14.89076823600783,
                48.487186262239256
               ],
               [
                14.869153630242094,
                48.480598908475066
               ],
               [
                14.878035803653248,
                48.464960439844255
               ],
               [
                14.881094512179585,
                48.45416920340863
               ],
               [
                14.899304726976974,
                48.45118796733097
               ],
               [
                14.912746152576975,
                48.43525708462906
               ],
               [
                14.929222197081275,
                48.42437900230321
               ],
               [
                14.948526911209726,
                48.408275729655884
               ],
               [
                14.937347883346334,
                48.39574046175733
               ],
               [
                14.95740686118546,
                48.391872589945
               ],
               [
                14.965473444224912,
                48.37908036597974
               ],
               [
                14.953257592412763,
                48.35736421106776
               ],
               [
                14.948500091153504,
                48.333932701233394
               ],
               [
                14.944707930199018,
                48.324208641191426
               ],
               [
                14.961276585651447,
                48.32600702599241
               ],
               [
                14.987472032851425,
                48.31986820106699
               ],
               [
                14.98610631748662,
                48.2996683525936
               ],
               [
                14.993064821745358,
                48.256481541981714
               ],
               [
                14.970980298747003,
                48.246307500079254
               ],
               [
                14.973991654256002,
                48.23412855248663
               ],
               [
                14.953177334199474,
                48.2196821319115
               ],
               [
                14.964959677962709,
                48.21546584731094
               ],
               [
                14.975168842336695,
                48.19938089723151
               ],
               [
                14.963455418254389,
                48.2029294757642
               ],
               [
                14.94545350829885,
                48.227828609959246
               ],
               [
                14.916367240931041,
                48.23341980554123
               ],
               [
                14.886672858998764,
                48.23331340585649
               ],
               [
                14.862034389001293,
                48.22759235752868
               ],
               [
                14.857647289249964,
                48.2118790838581
               ],
               [
                14.841299518230482,
                48.194285950254766
               ],
               [
                14.76999073359129,
                48.17966547701552
               ],
               [
                14.762575617971853,
                48.178129269618665
               ],
               [
                14.740290996048547,
                48.17267042780217
               ],
               [
                14.716262127184088,
                48.17922231714081
               ],
               [
                14.706108292888453,
                48.163108765397396
               ],
               [
                14.689341081657787,
                48.157842363591016
               ],
               [
                14.644596762205955,
                48.175797932834875
               ],
               [
                14.624220122940233,
                48.19124240435371
               ],
               [
                14.612441211680398,
                48.19631042542675
               ],
               [
                14.592418350473913,
                48.2186920886637
               ],
               [
                14.561823429345107,
                48.231550653279065
               ],
               [
                14.522132481880618,
                48.23817595459479
               ],
               [
                14.516499149962847,
                48.234626215560816
               ],
               [
                14.490542924226713,
                48.22243831966222
               ],
               [
                14.481896255476263,
                48.202486798133606
               ],
               [
                14.48306000462588,
                48.17905645349892
               ],
               [
                14.48378353961489,
                48.17211995981522
               ],
               [
                14.468852302186878,
                48.14815240152816
               ],
               [
                14.47814716570341,
                48.1333197826741
               ],
               [
                14.468606428772844,
                48.12305447127659
               ],
               [
                14.49389428913237,
                48.110518873200974
               ],
               [
                14.479981176313673,
                48.104966832319896
               ],
               [
                14.45884386138352,
                48.089240084575195
               ],
               [
                14.459781254769144,
                48.0745610655232
               ],
               [
                14.457053490765055,
                48.043583024288864
               ],
               [
                14.493029427438513,
                48.01139393724137
               ],
               [
                14.494094797932878,
                47.998575123780654
               ],
               [
                14.532905306714364,
                47.99045792275939
               ],
               [
                14.556069266219266,
                47.980396427392726
               ],
               [
                14.587430121919196,
                47.966967054520275
               ],
               [
                14.61716210344324,
                47.94862915023496
               ],
               [
                14.650014712778617,
                47.942672396118574
               ],
               [
                14.67156135721668,
                47.9352654799033
               ],
               [
                14.704712595954096,
                47.92612196962043
               ],
               [
                14.730122129606695,
                47.924881191059974
               ],
               [
                14.744434403895152,
                47.91798169387795
               ],
               [
                14.772909658327675,
                47.883535304763846
               ],
               [
                14.770512472985631,
                47.88013032570069
               ],
               [
                14.763701002361893,
                47.872755485397825
               ],
               [
                14.735787638691619,
                47.86407815210144
               ],
               [
                14.710944725517333,
                47.851156452345236
               ],
               [
                14.723745270979276,
                47.83270432549689
               ],
               [
                14.711111676729239,
                47.823894777097955
               ],
               [
                14.71405583462424,
                47.81396770889996
               ],
               [
                14.732408062547798,
                47.799614595586
               ],
               [
                14.71282388866229,
                47.790593876536974
               ],
               [
                14.719338953449402,
                47.7762541323648
               ],
               [
                14.736870687936824,
                47.75941647566353
               ],
               [
                14.73941005315781,
                47.74922605433828
               ],
               [
                14.696101815648682,
                47.76563186599045
               ],
               [
                14.67207858588412,
                47.74202078409811
               ],
               [
                14.653187793915182,
                47.73889317165377
               ],
               [
                14.64719231910817,
                47.72595944262536
               ],
               [
                14.614927555842169,
                47.7309722431711
               ],
               [
                14.586942803497031,
                47.71872300012681
               ],
               [
                14.551628887336577,
                47.71962742888747
               ],
               [
                14.522086806658399,
                47.70450868367179
               ],
               [
                14.528528809248565,
                47.69578050180005
               ],
               [
                14.518106779677245,
                47.68234775055645
               ],
               [
                14.489475888040413,
                47.682544991382265
               ],
               [
                14.450235959617695,
                47.66429724760942
               ],
               [
                14.44513459123595,
                47.65591433582141
               ],
               [
                14.421750658643285,
                47.65707740152773
               ],
               [
                14.398364821556784,
                47.65315467806017
               ],
               [
                14.392425738220743,
                47.636439177631914
               ],
               [
                14.362217112276326,
                47.62963119094089
               ],
               [
                14.338644891275344,
                47.61950817295423
               ],
               [
                14.327278040177621,
                47.608053358296914
               ],
               [
                14.297356904842294,
                47.60838855961336
               ],
               [
                14.282830845022065,
                47.61502399659609
               ],
               [
                14.265285012529146,
                47.61097492007717
               ],
               [
                14.23543603938687,
                47.62843178409581
               ],
               [
                14.2239677356011,
                47.64265234518986
               ],
               [
                14.233426356458017,
                47.65113700471098
               ],
               [
                14.20666130571076,
                47.65304624864519
               ],
               [
                14.17845000404205,
                47.63845605519901
               ],
               [
                14.146470255359203,
                47.637541872008285
               ],
               [
                14.09397279775532,
                47.62004668301488
               ],
               [
                14.051621972220863,
                47.617665896598645
               ],
               [
                14.049585353070214,
                47.637433635069286
               ],
               [
                14.056276961668358,
                47.668402560397155
               ],
               [
                14.02068203026115,
                47.691331947470566
               ],
               [
                14.011443723485487,
                47.70141210052122
               ],
               [
                13.984211591060614,
                47.69778283305983
               ],
               [
                13.952538634224577,
                47.71017744132775
               ],
               [
                13.92081228227291,
                47.705629593831105
               ],
               [
                13.896747229395052,
                47.718005880161456
               ],
               [
                13.861138634495047,
                47.72774375906014
               ],
               [
                13.841036098879353,
                47.71926144413417
               ],
               [
                13.793829984048736,
                47.71296748670543
               ],
               [
                13.778469559322653,
                47.718855464168996
               ],
               [
                13.757621275365063,
                47.7013177222326
               ],
               [
                13.737788782944994,
                47.67463191499944
               ],
               [
                13.707306343623786,
                47.66491161046893
               ],
               [
                13.708656979051755,
                47.65697959312436
               ],
               [
                13.694855210566404,
                47.62373265847468
               ],
               [
                13.699304230072531,
                47.60256985294222
               ],
               [
                13.695386003669368,
                47.579788508969735
               ],
               [
                13.736257558962429,
                47.57753707119247
               ],
               [
                13.75673166042166,
                47.55324076910114
               ],
               [
                13.747019627280881,
                47.54331312621415
               ],
               [
                13.761468343661337,
                47.52080646660642
               ]
              ]
             ],
             "type": "Polygon"
            },
            "properties": {
             "iso": "4",
             "name": "Oberösterreich"
            },
            "type": "Feature"
           },
           {
            "geometry": {
             "coordinates": [
              [
               [
                -180,
                -90
               ],
               [
                -180,
                90
               ],
               [
                180,
                90
               ],
               [
                180,
                -90
               ],
               [
                -180,
                -90
               ]
              ],
              [
               [
                [
                 12.71233012533157,
                 46.73610222670111
                ],
                [
                 12.711506966621174,
                 46.70547477003055
                ],
                [
                 12.69309267928992,
                 46.70209390828986
                ],
                [
                 12.687289165693864,
                 46.686651136614145
                ],
                [
                 12.691232045355415,
                 46.657410894876925
                ],
                [
                 12.658479252176756,
                 46.65769517832306
                ],
                [
                 12.64230456688071,
                 46.65243476706182
                ],
                [
                 12.631625940132983,
                 46.66183102423462
                ],
                [
                 12.604208601298641,
                 46.65658164629696
                ],
                [
                 12.551821831941057,
                 46.6592016818245
                ],
                [
                 12.51658024245422,
                 46.67904994315625
                ],
                [
                 12.480465736997035,
                 46.67770198216768
                ],
                [
                 12.476610281704172,
                 46.68603860857928
                ],
                [
                 12.443591270390158,
                 46.68885892151809
                ],
                [
                 12.427601018191798,
                 46.699541651906166
                ],
                [
                 12.384616493797905,
                 46.71679024595166
                ],
                [
                 12.36749824658057,
                 46.74716796586505
                ],
                [
                 12.357989818873376,
                 46.775431097099634
                ],
                [
                 12.309518102906122,
                 46.78545457535949
                ],
                [
                 12.285407420174677,
                 46.783165319008525
                ],
                [
                 12.292807792064421,
                 46.80310315879473
                ],
                [
                 12.283477359540774,
                 46.81540837675979
                ],
                [
                 12.3064550534329,
                 46.83370938839
                ],
                [
                 12.290243224829153,
                 46.85718765661918
                ],
                [
                 12.292403018780087,
                 46.865668961217814
                ],
                [
                 12.275953836816319,
                 46.87426177371216
                ],
                [
                 12.267235590098487,
                 46.88770735147171
                ],
                [
                 12.236700642227936,
                 46.889212513891465
                ],
                [
                 12.228404571915284,
                 46.87910662841477
                ],
                [
                 12.211599701312783,
                 46.8780889439135
                ],
                [
                 12.190892949631438,
                 46.90659824637776
                ],
                [
                 12.160249444103174,
                 46.90957476130014
                ],
                [
                 12.153125466805731,
                 46.91740377635606
                ],
                [
                 12.168900331801739,
                 46.93877223303666
                ],
                [
                 12.15820385625406,
                 46.9513202342975
                ],
                [
                 12.138808698059078,
                 46.95695960266577
                ],
                [
                 12.138344549776784,
                 46.98342942521623
                ],
                [
                 12.13057734673174,
                 46.98862425986296
                ],
                [
                 12.12517836150055,
                 47.01231335038998
                ],
                [
                 12.147958404760887,
                 47.025398308757374
                ],
                [
                 12.172019451766088,
                 47.023524617703046
                ],
                [
                 12.205425238526889,
                 47.02747342957992
                ],
                [
                 12.217211260601998,
                 47.04556231114579
                ],
                [
                 12.217117734740581,
                 47.059184269228524
                ],
                [
                 12.2413077362019,
                 47.0696691922961
                ],
                [
                 12.262013037562971,
                 47.07322140875678
                ],
                [
                 12.284347357622847,
                 47.09305169352613
                ],
                [
                 12.309205452078082,
                 47.093642493282985
                ],
                [
                 12.313713958074965,
                 47.10342381640998
                ],
                [
                 12.346194507937303,
                 47.10977199925601
                ],
                [
                 12.359268526058557,
                 47.11729796791754
                ],
                [
                 12.363857456172411,
                 47.14188976330796
                ],
                [
                 12.400109764448992,
                 47.15330715375048
                ],
                [
                 12.413516440020938,
                 47.14393188520044
                ],
                [
                 12.435224740489941,
                 47.15099471080652
                ],
                [
                 12.466152733668684,
                 47.14485684341726
                ],
                [
                 12.484119551631274,
                 47.15834918723919
                ],
                [
                 12.52216481525686,
                 47.15112368826818
                ],
                [
                 12.528536640961478,
                 47.138146278861065
                ],
                [
                 12.553409755335721,
                 47.128109537891675
                ],
                [
                 12.566984859954406,
                 47.13652421216914
                ],
                [
                 12.592847941925221,
                 47.12536941093126
                ],
                [
                 12.617204982590405,
                 47.121965270901875
                ],
                [
                 12.640102920846877,
                 47.10568305827087
                ],
                [
                 12.65745397307417,
                 47.10000921350448
                ],
                [
                 12.701908498451656,
                 47.071068580611545
                ],
                [
                 12.711139270753687,
                 47.048918029984094
                ],
                [
                 12.735459889891844,
                 47.04216002184202
                ],
                [
                 12.766556564846313,
                 47.04491082791749
                ],
                [
                 12.738076270741395,
                 47.00432586864086
                ],
                [
                 12.725259034839011,
                 46.996264019621535
                ],
                [
                 12.741707034637624,
                 46.96946262444202
                ],
                [
                 12.760195755530342,
                 46.957083123434316
                ],
                [
                 12.77026867605,
                 46.945253428270554
                ],
                [
                 12.787035542028026,
                 46.940031615688454
                ],
                [
                 12.794301186939792,
                 46.92694926273792
                ],
                [
                 12.809081266709512,
                 46.92306590509986
                ],
                [
                 12.822457903988065,
                 46.917282816401574
                ],
                [
                 12.837688794160522,
                 46.912955017440304
                ],
                [
                 12.841788233961834,
                 46.86143803590054
                ],
                [
                 12.887111065183525,
                 46.84295851763285
                ],
                [
                 12.896233736030906,
                 46.82625951182353
                ],
                [
                 12.906100465535685,
                 46.82308241873304
                ],
                [
                 12.907751826000329,
                 46.82312509676053
                ],
                [
                 12.964130115063137,
                 46.799096280170424
                ],
                [
                 12.966424855580245,
                 46.78814217906072
                ],
                [
                 12.932063228622303,
                 46.7644869313064
                ],
                [
                 12.90001757068092,
                 46.777294257683835
                ],
                [
                 12.877624087741452,
                 46.76313641764412
                ],
                [
                 12.857469906345388,
                 46.7606156930797
                ],
                [
                 12.84184899894473,
                 46.74978166169015
                ],
                [
                 12.81436659577459,
                 46.74940001895604
                ],
                [
                 12.81053552137355,
                 46.75673020780315
                ],
                [
                 12.796437287251893,
                 46.75578785946756
                ],
                [
                 12.748810713047153,
                 46.74789735360012
                ],
                [
                 12.725564407874064,
                 46.743892424702246
                ],
                [
                 12.71233012533157,
                 46.73610222670111
                ]
               ]
              ],
              [
               [
                [
                 10.241980285294451,
                 46.93217732894803
                ],
                [
                 10.227899641813437,
                 46.890750436154725
                ],
                [
                 10.235128468544865,
                 46.8852253704275
                ],
                [
                 10.232215847533027,
                 46.86727121310299
                ],
                [
                 10.193956014262476,
                 46.86698589107714
                ],
                [
                 10.168990705889817,
                 46.851155623568275
                ],
                [
                 10.145238297465273,
                 46.85154440908232
                ],
                [
                 10.141093069401869,
                 46.875770287500515
                ],
                [
                 10.117562744641475,
                 46.885875803279596
                ],
                [
                 10.098482025389323,
                 46.92790298768985
                ],
                [
                 10.120952902444445,
                 46.938453812219635
                ],
                [
                 10.135260228045352,
                 46.955817856200156
                ],
                [
                 10.14501723827558,
                 46.983936898935745
                ],
                [
                 10.160079518251028,
                 46.98430100505883
                ],
                [
                 10.154681979449725,
                 47.005942833950336
                ],
                [
                 10.131329666237974,
                 47.01358341386765
                ],
                [
                 10.13482169360016,
                 47.02990924032105
                ],
                [
                 10.157194869214969,
                 47.049433034931056
                ],
                [
                 10.151151928447865,
                 47.062388382268
                ],
                [
                 10.134888226018813,
                 47.064449885950985
                ],
                [
                 10.133819068224204,
                 47.078450940454225
                ],
                [
                 10.145164588038519,
                 47.09750224697372
                ],
                [
                 10.18658508307389,
                 47.12952926210631
                ],
                [
                 10.207074490221077,
                 47.13146136259523
                ],
                [
                 10.20368781856436,
                 47.143030699501075
                ],
                [
                 10.213285659938029,
                 47.158150684308964
                ],
                [
                 10.211710316078646,
                 47.17190166511134
                ],
                [
                 10.197135131369317,
                 47.19493937945387
                ],
                [
                 10.21298205903946,
                 47.2048495614091
                ],
                [
                 10.213032930370431,
                 47.22488058664695
                ],
                [
                 10.19804032366062,
                 47.237160867675584
                ],
                [
                 10.222345968575148,
                 47.25415795243823
                ],
                [
                 10.174512866296665,
                 47.26446019463785
                ],
                [
                 10.178645536465902,
                 47.27069713351929
                ],
                [
                 10.201372926641138,
                 47.276995770568966
                ],
                [
                 10.222743450867418,
                 47.276419989116384
                ],
                [
                 10.259691938754488,
                 47.28196020489655
                ],
                [
                 10.266288710510471,
                 47.28865505761867
                ],
                [
                 10.281978772586614,
                 47.28831695277041
                ],
                [
                 10.31545591270295,
                 47.30711827925796
                ],
                [
                 10.33065744832827,
                 47.30540029588602
                ],
                [
                 10.349121173422844,
                 47.318092955882655
                ],
                [
                 10.357204125231444,
                 47.33761060219697
                ],
                [
                 10.386804890678174,
                 47.35718490116018
                ],
                [
                 10.397866386018235,
                 47.377468770562636
                ],
                [
                 10.43710297734825,
                 47.38095220101573
                ],
                [
                 10.429584061614435,
                 47.39163181830139
                ],
                [
                 10.438888196973068,
                 47.41413523565365
                ],
                [
                 10.456533430262736,
                 47.41981089530308
                ],
                [
                 10.476091031441428,
                 47.433941104646586
                ],
                [
                 10.47056288397036,
                 47.44912655714745
                ],
                [
                 10.46410828436005,
                 47.48334052195614
                ],
                [
                 10.440630713803497,
                 47.4871321714318
                ],
                [
                 10.436071739417454,
                 47.49596874916789
                ],
                [
                 10.431652068849283,
                 47.504367657553
                ],
                [
                 10.454784740316963,
                 47.55640439936932
                ],
                [
                 10.48926620896677,
                 47.5410105861958
                ],
                [
                 10.498125945227343,
                 47.53970871906523
                ],
                [
                 10.524892888428457,
                 47.53577098798303
                ],
                [
                 10.563211142127875,
                 47.5366620172033
                ],
                [
                 10.573731595810834,
                 47.53461828716375
                ],
                [
                 10.580876331699924,
                 47.55640360926453
                ],
                [
                 10.598325336185692,
                 47.57034681895233
                ],
                [
                 10.635135003120435,
                 47.55964664261184
                ],
                [
                 10.678389060117482,
                 47.55683957470178
                ],
                [
                 10.694984788908458,
                 47.54537995221052
                ],
                [
                 10.71859197985277,
                 47.539029285535214
                ],
                [
                 10.74076778515145,
                 47.539131028222776
                ],
                [
                 10.758912144358344,
                 47.535096387035445
                ],
                [
                 10.764152619075006,
                 47.520193523854246
                ],
                [
                 10.777903988538595,
                 47.51451480811328
                ],
                [
                 10.813544320485656,
                 47.52702382783532
                ],
                [
                 10.83893000446693,
                 47.52603974293074
                ],
                [
                 10.853479388909038,
                 47.53396985246694
                ],
                [
                 10.890757101490792,
                 47.53788257981571
                ],
                [
                 10.906011266596712,
                 47.5180584268021
                ],
                [
                 10.870541717765175,
                 47.49827175467401
                ],
                [
                 10.871607205769115,
                 47.48226669048898
                ],
                [
                 10.886938386756519,
                 47.480751008143784
                ],
                [
                 10.912641296877736,
                 47.485860646995725
                ],
                [
                 10.938890086395313,
                 47.480559572501896
                ],
                [
                 10.932891523647697,
                 47.46861854793737
                ],
                [
                 10.984026803957901,
                 47.43059731647898
                ],
                [
                 10.972720404649525,
                 47.418164219721255
                ],
                [
                 10.970940520849824,
                 47.40065860428062
                ],
                [
                 10.991611389241365,
                 47.39670544454503
                ],
                [
                 11.0167542557938,
                 47.39684246018629
                ],
                [
                 11.016915960190385,
                 47.396942667282126
                ],
                [
                 11.055795467927698,
                 47.396539431679486
                ],
                [
                 11.115875484356785,
                 47.39618258214456
                ],
                [
                 11.128464478106839,
                 47.41277450416303
                ],
                [
                 11.158476229220959,
                 47.422179427579366
                ],
                [
                 11.19942784460175,
                 47.42844431083564
                ],
                [
                 11.205927770519644,
                 47.43446577874034
                ],
                [
                 11.253858886540831,
                 47.42880738143148
                ],
                [
                 11.222750281958714,
                 47.39791652873831
                ],
                [
                 11.272980984456606,
                 47.39854030142633
                ],
                [
                 11.290501038691925,
                 47.407830785923565
                ],
                [
                 11.291466350103867,
                 47.42763457002732
                ],
                [
                 11.318068285134714,
                 47.43298861342505
                ],
                [
                 11.33903157850868,
                 47.450482410122085
                ],
                [
                 11.403168868265846,
                 47.4485777218796
                ],
                [
                 11.421901414815803,
                 47.44542085366811
                ],
                [
                 11.409902256481793,
                 47.46730204232505
                ],
                [
                 11.39042899288409,
                 47.46752504221742
                ],
                [
                 11.389752612795546,
                 47.48105002183417
                ],
                [
                 11.417096077317073,
                 47.502862424246125
                ],
                [
                 11.442191013902988,
                 47.51819447259966
                ],
                [
                 11.449805081029115,
                 47.50780643545905
                ],
                [
                 11.488083079952817,
                 47.50957693152529
                ],
                [
                 11.506146850040585,
                 47.50529945744629
                ],
                [
                 11.572906336045786,
                 47.51507816567545
                ],
                [
                 11.588603877017233,
                 47.52602282412697
                ],
                [
                 11.587382438325307,
                 47.55529345398479
                ],
                [
                 11.601158293489947,
                 47.56843601122859
                ],
                [
                 11.606833248456798,
                 47.582200898055675
                ],
                [
                 11.641471586973534,
                 47.594103063271305
                ],
                [
                 11.658716174606214,
                 47.584703005235085
                ],
                [
                 11.700687006938136,
                 47.58954289933092
                ],
                [
                 11.74581028152095,
                 47.58830393356416
                ],
                [
                 11.775597820347802,
                 47.59098023991378
                ],
                [
                 11.829980165390227,
                 47.5826967087124
                ],
                [
                 11.847900005158875,
                 47.582879654056136
                ],
                [
                 11.855495271482187,
                 47.60293279106216
                ],
                [
                 11.894838448795815,
                 47.60902270896207
                ],
                [
                 12.013323046450049,
                 47.62377412192691
                ],
                [
                 12.020188506696474,
                 47.61252931897454
                ],
                [
                 12.064781594351222,
                 47.619253654079756
                ],
                [
                 12.082923499055312,
                 47.61031407421784
                ],
                [
                 12.115790016402888,
                 47.612017508149265
                ],
                [
                 12.129597151207369,
                 47.606216923703954
                ],
                [
                 12.150031861916291,
                 47.60920679282319
                ],
                [
                 12.16955742532046,
                 47.61487449259681
                ],
                [
                 12.17872636069677,
                 47.601455193564554
                ],
                [
                 12.203592293003872,
                 47.606998386276636
                ],
                [
                 12.208723546712168,
                 47.614612654664974
                ],
                [
                 12.199006350197449,
                 47.642710372726214
                ],
                [
                 12.187436709391607,
                 47.6579028465887
                ],
                [
                 12.167900236194686,
                 47.68295575427454
                ],
                [
                 12.163009939575945,
                 47.701745819718006
                ],
                [
                 12.184063131885566,
                 47.70106441314715
                ],
                [
                 12.227338542616009,
                 47.718717975649426
                ],
                [
                 12.250306921230191,
                 47.74213561334429
                ],
                [
                 12.265584277403327,
                 47.733097239424495
                ],
                [
                 12.247523040431519,
                 47.71153612765479
                ],
                [
                 12.243749205764606,
                 47.692245798588196
                ],
                [
                 12.257777731453256,
                 47.67967269232219
                ],
                [
                 12.278116815699429,
                 47.6884637754708
                ],
                [
                 12.327734852169892,
                 47.69594012802555
                ],
                [
                 12.34060577183242,
                 47.690936631533766
                ],
                [
                 12.364232391199314,
                 47.68441407004623
                ],
                [
                 12.429743925513383,
                 47.69693505620811
                ],
                [
                 12.443620600124268,
                 47.69241295665488
                ],
                [
                 12.441826884241449,
                 47.67457523030462
                ],
                [
                 12.465744250133273,
                 47.65029093932677
                ],
                [
                 12.49198014822265,
                 47.63746068526389
                ],
                [
                 12.499803947629108,
                 47.62565664235962
                ],
                [
                 12.525876733696249,
                 47.63130774640288
                ],
                [
                 12.537000310408652,
                 47.63702813409428
                ],
                [
                 12.575671173996357,
                 47.63287248306274
                ],
                [
                 12.575169718579502,
                 47.60554298174406
                ],
                [
                 12.64140092643676,
                 47.59385746008402
                ],
                [
                 12.65419857029272,
                 47.588577333129926
                ],
                [
                 12.667254000705457,
                 47.57917454243514
                ],
                [
                 12.65264976663745,
                 47.570291468444275
                ],
                [
                 12.642278227416412,
                 47.55504836533369
                ],
                [
                 12.628812166063684,
                 47.55009203074107
                ],
                [
                 12.654781132911396,
                 47.537313628251376
                ],
                [
                 12.66577856852797,
                 47.506608310620834
                ],
                [
                 12.700242570693662,
                 47.478420972040745
                ],
                [
                 12.665881683918592,
                 47.46533801302577
                ],
                [
                 12.645334360914383,
                 47.4687230957063
                ],
                [
                 12.631593995725854,
                 47.458935931197075
                ],
                [
                 12.63841011934598,
                 47.449880463540474
                ],
                [
                 12.632932295917886,
                 47.43262662016478
                ],
                [
                 12.625210119948115,
                 47.42304578369214
                ],
                [
                 12.600446912224152,
                 47.4123145053918
                ],
                [
                 12.579239110558524,
                 47.39302595470468
                ],
                [
                 12.564064539248124,
                 47.3996060801711
                ],
                [
                 12.545923383219147,
                 47.39857129096823
                ],
                [
                 12.523421411252983,
                 47.391163505741474
                ],
                [
                 12.506709801887519,
                 47.39466054702915
                ],
                [
                 12.479584754081941,
                 47.3687592659282
                ],
                [
                 12.498287065001747,
                 47.34762215541372
                ],
                [
                 12.495824472606328,
                 47.337934519244136
                ],
                [
                 12.47892794361953,
                 47.32691804673216
                ],
                [
                 12.442477739583595,
                 47.32913818060849
                ],
                [
                 12.410950650892074,
                 47.31414014546518
                ],
                [
                 12.375184632032676,
                 47.31183380366383
                ],
                [
                 12.335847195220238,
                 47.32904595217747
                ],
                [
                 12.29709225105455,
                 47.32861896847839
                ],
                [
                 12.26469680402087,
                 47.302737958499804
                ],
                [
                 12.255274248068567,
                 47.308492575787355
                ],
                [
                 12.23787459031698,
                 47.30197876846341
                ],
                [
                 12.219555502585873,
                 47.31166016632244
                ],
                [
                 12.208713292707953,
                 47.30265461671045
                ],
                [
                 12.165190652009544,
                 47.302070968153764
                ],
                [
                 12.144869364045602,
                 47.28944403929807
                ],
                [
                 12.11510611639261,
                 47.30697630226541
                ],
                [
                 12.079128713460088,
                 47.2757098105495
                ],
                [
                 12.101334360455162,
                 47.25869341172984
                ],
                [
                 12.11063890288777,
                 47.240914107737495
                ],
                [
                 12.103197823610817,
                 47.23701198405247
                ],
                [
                 12.083339038812811,
                 47.19623913868105
                ],
                [
                 12.092446039173796,
                 47.167828898122146
                ],
                [
                 12.093816076542643,
                 47.1465666351483
                ],
                [
                 12.111218527367994,
                 47.14016156715887
                ],
                [
                 12.115169922590994,
                 47.122203084216125
                ],
                [
                 12.12839487270448,
                 47.11018609126433
                ],
                [
                 12.125746216545485,
                 47.09306657018742
                ],
                [
                 12.136563065537015,
                 47.08117287622881
                ],
                [
                 12.119469340613506,
                 47.07372953009371
                ],
                [
                 12.100389162300718,
                 47.0787985388534
                ],
                [
                 12.077154858392774,
                 47.06003516037689
                ],
                [
                 12.040405129464151,
                 47.06086568982713
                ],
                [
                 12.020475238341728,
                 47.047572324491135
                ],
                [
                 11.979651686320127,
                 47.05050720828133
                ],
                [
                 11.916090137410873,
                 47.033000081583275
                ],
                [
                 11.874554256575438,
                 47.01058333656705
                ],
                [
                 11.845739604136458,
                 47.002207654818804
                ],
                [
                 11.8374056663532,
                 46.99391949782302
                ],
                [
                 11.816187980759828,
                 46.99042495980944
                ],
                [
                 11.782273026910943,
                 46.992965922779376
                ],
                [
                 11.76481966779182,
                 46.973253225085976
                ],
                [
                 11.747511491644236,
                 46.96937375225593
                ],
                [
                 11.728256335527325,
                 46.97283156363662
                ],
                [
                 11.711939116687471,
                 46.99373968300861
                ],
                [
                 11.689009726563677,
                 46.99600783339614
                ],
                [
                 11.66487129311696,
                 46.99244481043923
                ],
                [
                 11.635310293936143,
                 47.00367630953714
                ],
                [
                 11.627675188138149,
                 47.01381147429843
                ],
                [
                 11.590371019069972,
                 47.00590740705047
                ],
                [
                 11.581982998068051,
                 46.99788757244939
                ],
                [
                 11.538988578346366,
                 46.9845920464538
                ],
                [
                 11.513226881346366,
                 47.00511037656682
                ],
                [
                 11.47922227755506,
                 47.01149476223324
                ],
                [
                 11.470306213052073,
                 46.99573839287831
                ],
                [
                 11.45305672777064,
                 46.99282769052719
                ],
                [
                 11.435326460860034,
                 46.97460685418696
                ],
                [
                 11.401963288571936,
                 46.96548911047263
                ],
                [
                 11.382686709454731,
                 46.9710939939675
                ],
                [
                 11.359528769857267,
                 46.99071530500912
                ],
                [
                 11.3403400791481,
                 46.98559732723064
                ],
                [
                 11.320934047077396,
                 46.99289022413572
                ],
                [
                 11.249707313919119,
                 46.97469818954958
                ],
                [
                 11.242153455810783,
                 46.970202792261674
                ],
                [
                 11.187257697577026,
                 46.96999630650173
                ],
                [
                 11.164690689459643,
                 46.96624245643064
                ],
                [
                 11.168525091453635,
                 46.945558943574845
                ],
                [
                 11.139204811954924,
                 46.92801818564959
                ],
                [
                 11.115795924779087,
                 46.93200519054684
                ],
                [
                 11.10933068602422,
                 46.91638607259023
                ],
                [
                 11.095275117043712,
                 46.908439975708625
                ],
                [
                 11.10209988836441,
                 46.8904009535611
                ],
                [
                 11.072278648164861,
                 46.856511119649376
                ],
                [
                 11.083816711816244,
                 46.823034895659276
                ],
                [
                 11.057391475013516,
                 46.80862876668446
                ],
                [
                 11.039751230974153,
                 46.80559384679806
                ],
                [
                 11.022356313239067,
                 46.766407635614776
                ],
                [
                 10.996676797572173,
                 46.76754260577238
                ],
                [
                 10.950918019938145,
                 46.77543748701232
                ],
                [
                 10.918466048454182,
                 46.775480640103936
                ],
                [
                 10.883307386795172,
                 46.763350157356136
                ],
                [
                 10.868900110389038,
                 46.76631982449819
                ],
                [
                 10.8410027596071,
                 46.78230222062634
                ],
                [
                 10.814442779653968,
                 46.775634101491846
                ],
                [
                 10.796274063665109,
                 46.79182505870161
                ],
                [
                 10.755044511294736,
                 46.78559345143237
                ],
                [
                 10.73042891089278,
                 46.78895390566651
                ],
                [
                 10.726359463081936,
                 46.797197726252506
                ],
                [
                 10.746317916065815,
                 46.80523622016123
                ],
                [
                 10.764192634454355,
                 46.82314322643978
                ],
                [
                 10.754853234172025,
                 46.83367269188944
                ],
                [
                 10.722754882194446,
                 46.83834021457958
                ],
                [
                 10.717131323919466,
                 46.84754189234478
                ],
                [
                 10.693373972099304,
                 46.85342456116286
                ],
                [
                 10.690755522130743,
                 46.86816954781046
                ],
                [
                 10.667704887958017,
                 46.876013835628775
                ],
                [
                 10.654169624852765,
                 46.86731717211657
                ],
                [
                 10.624611924778893,
                 46.864931096001854
                ],
                [
                 10.570828059279034,
                 46.84292594415854
                ],
                [
                 10.552657966568367,
                 46.85057542825691
                ],
                [
                 10.521317420850437,
                 46.845941985172104
                ],
                [
                 10.46996267298997,
                 46.855441237422134
                ],
                [
                 10.471575265229449,
                 46.87349217034166
                ],
                [
                 10.465006260894977,
                 46.88481176200086
                ],
                [
                 10.48653265298359,
                 46.915994509626
                ],
                [
                 10.489666046811994,
                 46.938326169306436
                ],
                [
                 10.457069352258852,
                 46.95194671808583
                ],
                [
                 10.429887554587635,
                 46.95652593763376
                ],
                [
                 10.427454470113748,
                 46.97549443609529
                ],
                [
                 10.389623503508352,
                 47.00107044307413
                ],
                [
                 10.36870110701773,
                 46.991329118900325
                ],
                [
                 10.349278533031294,
                 46.99115733402216
                ],
                [
                 10.32979704120233,
                 46.96481874755466
                ],
                [
                 10.328126088581413,
                 46.9545226728458
                ],
                [
                 10.309658609326211,
                 46.95074821813034
                ],
                [
                 10.307928973913214,
                 46.938640591692135
                ],
                [
                 10.317283517724988,
                 46.926474189561546
                ],
                [
                 10.290193742014102,
                 46.923435257940646
                ],
                [
                 10.241980285294451,
                 46.93217732894803
                ]
               ]
              ],
              [
               [
                [
                 10.454784740316963,
                 47.55640439936932
                ],
                [
                 10.4335823686779,
                 47.570126062553065
                ],
                [
                 10.435295566773581,
                 47.58423749428956
                ],
                [
                 10.462594483590516,
                 47.58632080660947
                ],
                [
                 10.473692893937676,
                 47.571750097842475
                ],
                [
                 10.454784740316963,
                 47.55640439936932
                ]
               ]
              ]
             ],
             "type": "MultiPolygon"
            },
            "properties": {
             "iso": "7",
             "name": "Tirol"
            },
            "type": "Feature"
           },
           {
            "geometry": {
             "coordinates": [
              [
               [
                -180,
                -90
               ],
               [
                -180,
                90
               ],
               [
                180,
                90
               ],
               [
                180,
                -90
               ],
               [
                -180,
                -90
               ]
              ],
              [
               [
                14.07995175508011,
                47.022468173402885
               ],
               [
                14.073121332291759,
                47.013099586957885
               ],
               [
                14.049786957156686,
                47.00442833919455
               ],
               [
                14.027291972052314,
                47.00716331524728
               ],
               [
                14.015190926013304,
                47.00253850638903
               ],
               [
                14.017229578221421,
                46.98950806846118
               ],
               [
                14.010104357912198,
                46.97406613430193
               ],
               [
                13.993310760137609,
                46.966553534949746
               ],
               [
                13.969360609771583,
                46.96349357210858
               ],
               [
                13.968949867233247,
                46.96348280803285
               ],
               [
                13.968538309836061,
                46.963662705023765
               ],
               [
                13.955708907995142,
                46.95674770933982
               ],
               [
                13.947507687248372,
                46.941063158253144
               ],
               [
                13.93521090591686,
                46.946050513671636
               ],
               [
                13.912002205340182,
                46.93342637210399
               ],
               [
                13.901038160307355,
                46.934107971912795
               ],
               [
                13.882643224723962,
                46.918247886319385
               ],
               [
                13.856883756163148,
                46.91773715006538
               ],
               [
                13.848967970564987,
                46.909708961881556
               ],
               [
                13.816122795820238,
                46.918944925040236
               ],
               [
                13.785429956062647,
                46.94429481523506
               ],
               [
                13.801926313338557,
                46.9515732267686
               ],
               [
                13.832586143618208,
                46.96588741675482
               ],
               [
                13.845736683529196,
                46.98949488869677
               ],
               [
                13.86543482293839,
                46.996633591419254
               ],
               [
                13.864524532800607,
                47.02003599569461
               ],
               [
                13.906940916465537,
                47.071046874626354
               ],
               [
                13.906809642434151,
                47.07108804618045
               ],
               [
                13.879341138487497,
                47.100200419348184
               ],
               [
                13.879204359999928,
                47.10081918849729
               ],
               [
                13.879695833393724,
                47.1010115025522
               ],
               [
                13.893230834343731,
                47.11471134815169
               ],
               [
                13.944567920682557,
                47.13702331456309
               ],
               [
                13.954714923298592,
                47.125760870973735
               ],
               [
                13.988621040645056,
                47.12755590298655
               ],
               [
                13.993706352989351,
                47.14269611848338
               ],
               [
                13.963097717926296,
                47.15774143850479
               ],
               [
                13.963012447954492,
                47.157925007907316
               ],
               [
                13.962880186881707,
                47.15806109117247
               ],
               [
                13.962721603127395,
                47.15811243095302
               ],
               [
                13.943547551438872,
                47.16685354493523
               ],
               [
                13.920470555133257,
                47.17221247773791
               ],
               [
                13.897266900362307,
                47.187279009756885
               ],
               [
                13.897404562343882,
                47.187581649621606
               ],
               [
                13.897338641709347,
                47.18761101036128
               ],
               [
                13.89702880128733,
                47.187711265358416
               ],
               [
                13.865537945400298,
                47.220403754696314
               ],
               [
                13.85090964242925,
                47.23011358585622
               ],
               [
                13.869234110805834,
                47.242904241214916
               ],
               [
                13.86497429614836,
                47.25264121720441
               ],
               [
                13.824408978168938,
                47.26748574395234
               ],
               [
                13.826133245704607,
                47.293680362447944
               ],
               [
                13.805323514142584,
                47.293189737310065
               ],
               [
                13.78471466144228,
                47.275725164612666
               ],
               [
                13.761420728666591,
                47.266747734768266
               ],
               [
                13.752131876321478,
                47.276495873168784
               ],
               [
                13.720481628800998,
                47.27626402235923
               ],
               [
                13.712637994644696,
                47.259979708655045
               ],
               [
                13.696593391016176,
                47.26056487396344
               ],
               [
                13.696382619592985,
                47.26555090885081
               ],
               [
                13.654424148110406,
                47.27702790025776
               ],
               [
                13.631903267015689,
                47.27471121358447
               ],
               [
                13.608348897975546,
                47.28404782593422
               ],
               [
                13.598459281840173,
                47.29409972906839
               ],
               [
                13.604298441617575,
                47.330176404660676
               ],
               [
                13.582508889411763,
                47.38286203895957
               ],
               [
                13.57306408464016,
                47.39359936234706
               ],
               [
                13.565318583402352,
                47.41718973057866
               ],
               [
                13.565432474261243,
                47.4176703022323
               ],
               [
                13.564894484649722,
                47.4185699882216
               ],
               [
                13.593441625432567,
                47.46155748983778
               ],
               [
                13.58643460518265,
                47.47530669240729
               ],
               [
                13.606457798581054,
                47.47569432788716
               ],
               [
                13.60952358993131,
                47.475643500784486
               ],
               [
                13.627130645354228,
                47.46796696682165
               ],
               [
                13.668442288753072,
                47.46319994029522
               ],
               [
                13.723349850747946,
                47.46261300868679
               ],
               [
                13.719202960248918,
                47.47119370242574
               ],
               [
                13.718057239028633,
                47.474178710708685
               ],
               [
                13.72198802603445,
                47.48316089154389
               ],
               [
                13.723525447195547,
                47.485353432719
               ],
               [
                13.728080576019494,
                47.4893613159391
               ],
               [
                13.731497960586651,
                47.49206213229628
               ],
               [
                13.737698623506096,
                47.49600878845934
               ],
               [
                13.739831699315966,
                47.49706786900644
               ],
               [
                13.749939780673508,
                47.502130413530246
               ],
               [
                13.761468343661337,
                47.52080646660642
               ],
               [
                13.747019627280881,
                47.54331312621415
               ],
               [
                13.75673166042166,
                47.55324076910114
               ],
               [
                13.736257558962429,
                47.57753707119247
               ],
               [
                13.695386003669368,
                47.579788508969735
               ],
               [
                13.699304230072531,
                47.60256985294222
               ],
               [
                13.694855210566404,
                47.62373265847468
               ],
               [
                13.708656979051755,
                47.65697959312436
               ],
               [
                13.707306343623786,
                47.66491161046893
               ],
               [
                13.737788782944994,
                47.67463191499944
               ],
               [
                13.757621275365063,
                47.7013177222326
               ],
               [
                13.778469559322653,
                47.718855464168996
               ],
               [
                13.793829984048736,
                47.71296748670543
               ],
               [
                13.841036098879353,
                47.71926144413417
               ],
               [
                13.861138634495047,
                47.72774375906014
               ],
               [
                13.896747229395052,
                47.718005880161456
               ],
               [
                13.92081228227291,
                47.705629593831105
               ],
               [
                13.952538634224577,
                47.71017744132775
               ],
               [
                13.984211591060614,
                47.69778283305983
               ],
               [
                14.011443723485487,
                47.70141210052122
               ],
               [
                14.02068203026115,
                47.691331947470566
               ],
               [
                14.056276961668358,
                47.668402560397155
               ],
               [
                14.049585353070214,
                47.637433635069286
               ],
               [
                14.051621972220863,
                47.617665896598645
               ],
               [
                14.09397279775532,
                47.62004668301488
               ],
               [
                14.146470255359203,
                47.637541872008285
               ],
               [
                14.17845000404205,
                47.63845605519901
               ],
               [
                14.20666130571076,
                47.65304624864519
               ],
               [
                14.233426356458017,
                47.65113700471098
               ],
               [
                14.2239677356011,
                47.64265234518986
               ],
               [
                14.23543603938687,
                47.62843178409581
               ],
               [
                14.265285012529146,
                47.61097492007717
               ],
               [
                14.282830845022065,
                47.61502399659609
               ],
               [
                14.297356904842294,
                47.60838855961336
               ],
               [
                14.327278040177621,
                47.608053358296914
               ],
               [
                14.338644891275344,
                47.61950817295423
               ],
               [
                14.362217112276326,
                47.62963119094089
               ],
               [
                14.392425738220743,
                47.636439177631914
               ],
               [
                14.398364821556784,
                47.65315467806017
               ],
               [
                14.421750658643285,
                47.65707740152773
               ],
               [
                14.44513459123595,
                47.65591433582141
               ],
               [
                14.450235959617695,
                47.66429724760942
               ],
               [
                14.489475888040413,
                47.682544991382265
               ],
               [
                14.518106779677245,
                47.68234775055645
               ],
               [
                14.528528809248565,
                47.69578050180005
               ],
               [
                14.522086806658399,
                47.70450868367179
               ],
               [
                14.551628887336577,
                47.71962742888747
               ],
               [
                14.586942803497031,
                47.71872300012681
               ],
               [
                14.614927555842169,
                47.7309722431711
               ],
               [
                14.64719231910817,
                47.72595944262536
               ],
               [
                14.653187793915182,
                47.73889317165377
               ],
               [
                14.67207858588412,
                47.74202078409811
               ],
               [
                14.696101815648682,
                47.76563186599045
               ],
               [
                14.73941005315781,
                47.74922605433828
               ],
               [
                14.767999140307422,
                47.72680832604045
               ],
               [
                14.819269579383509,
                47.74470289287024
               ],
               [
                14.840936543456952,
                47.734455560941356
               ],
               [
                14.859023679322252,
                47.7409887172898
               ],
               [
                14.877529190807502,
                47.72654369179427
               ],
               [
                14.877607556136835,
                47.71652896461313
               ],
               [
                14.902180082147158,
                47.71132016828422
               ],
               [
                14.928728181599809,
                47.71113159797813
               ],
               [
                14.952018804257285,
                47.732092382257235
               ],
               [
                15.035706064504046,
                47.75323314290026
               ],
               [
                15.056869542551116,
                47.741370763088156
               ],
               [
                15.090243839242723,
                47.74196041885176
               ],
               [
                15.1325735560132,
                47.748283578875856
               ],
               [
                15.135838608061315,
                47.75848987933565
               ],
               [
                15.184314855652772,
                47.757217094151144
               ],
               [
                15.200388859733573,
                47.75391428634363
               ],
               [
                15.211421487478264,
                47.76361179208629
               ],
               [
                15.209161991496238,
                47.78830676146667
               ],
               [
                15.218322314512127,
                47.79651947522193
               ],
               [
                15.23531156918668,
                47.79929240006719
               ],
               [
                15.254603622630391,
                47.79325050939743
               ],
               [
                15.289897333644769,
                47.791667001937874
               ],
               [
                15.300863665722469,
                47.821535839809684
               ],
               [
                15.346243276703072,
                47.82616515945846
               ],
               [
                15.346925043182031,
                47.826249186043896
               ],
               [
                15.380361838950487,
                47.8241269698417
               ],
               [
                15.40563383399547,
                47.81120321180778
               ],
               [
                15.41299205113014,
                47.78486173763551
               ],
               [
                15.434315348991026,
                47.792019918967945
               ],
               [
                15.450946643550024,
                47.77414311613647
               ],
               [
                15.462008553572252,
                47.77022728271672
               ],
               [
                15.507665215871338,
                47.768276114722354
               ],
               [
                15.510935806320322,
                47.752475389300145
               ],
               [
                15.529378899268014,
                47.74638588258931
               ],
               [
                15.552193627802666,
                47.750003123732654
               ],
               [
                15.612778635840087,
                47.75155994650623
               ],
               [
                15.636811423061399,
                47.71602129895097
               ],
               [
                15.652620461834179,
                47.71810279775747
               ],
               [
                15.671313837405439,
                47.71046755706222
               ],
               [
                15.679803235298994,
                47.699460426682116
               ],
               [
                15.69776121399367,
                47.71336604484472
               ],
               [
                15.72022415864135,
                47.710348509700275
               ],
               [
                15.715309746182747,
                47.698474341959916
               ],
               [
                15.729759851658388,
                47.66463793084631
               ],
               [
                15.726176869167379,
                47.64691254106756
               ],
               [
                15.743385204563618,
                47.642665282292974
               ],
               [
                15.750835914671242,
                47.632667126598214
               ],
               [
                15.782412071172095,
                47.64275498401481
               ],
               [
                15.80834704143025,
                47.635639683389456
               ],
               [
                15.822866942434942,
                47.63840826641071
               ],
               [
                15.841385820781568,
                47.61855100951688
               ],
               [
                15.861656754855177,
                47.61712638773246
               ],
               [
                15.845607258050215,
                47.5867540841157
               ],
               [
                15.848095257531307,
                47.568233165037
               ],
               [
                15.889001676065229,
                47.571663228545006
               ],
               [
                15.906504791280582,
                47.5602465613467
               ],
               [
                15.905134135518432,
                47.542889737734825
               ],
               [
                15.914952170030258,
                47.53086429113109
               ],
               [
                15.92159382910158,
                47.53045538072957
               ],
               [
                15.959617616571604,
                47.518288565732355
               ],
               [
                16.0011737999035,
                47.516271778822365
               ],
               [
                16.027415407399957,
                47.5131133728728
               ],
               [
                16.04796887461051,
                47.491591093623796
               ],
               [
                16.066196781158446,
                47.486763197708626
               ],
               [
                16.066292688998367,
                47.50232744640029
               ],
               [
                16.08851086703062,
                47.5075859254692
               ],
               [
                16.098898449606143,
                47.524509340345666
               ],
               [
                16.110455486284074,
                47.52539764487436
               ],
               [
                16.119961352070128,
                47.51076379059004
               ],
               [
                16.11405034426309,
                47.49754439335263
               ],
               [
                16.129276490473146,
                47.468569583327245
               ],
               [
                16.139091177716853,
                47.46185877434416
               ],
               [
                16.13301441035194,
                47.453855145806486
               ],
               [
                16.145163084274714,
                47.43839302254559
               ],
               [
                16.172886654147526,
                47.422815558741206
               ],
               [
                16.166156359074826,
                47.42116327177202
               ],
               [
                16.14280344200388,
                47.4179271354864
               ],
               [
                16.11725178382822,
                47.414287844703225
               ],
               [
                16.11717091242029,
                47.414448147583876
               ],
               [
                16.117119297725143,
                47.414550435795896
               ],
               [
                16.10234051729095,
                47.41519088750307
               ],
               [
                16.108451212408212,
                47.39711507731017
               ],
               [
                16.094078827093952,
                47.39055322844561
               ],
               [
                16.0852164211781,
                47.40957328984144
               ],
               [
                16.073083299470554,
                47.4043525450399
               ],
               [
                16.06151868444872,
                47.384654579231224
               ],
               [
                16.059853481707254,
                47.38422251850425
               ],
               [
                16.031207824176057,
                47.37970597478303
               ],
               [
                16.03513771155023,
                47.372609388581374
               ],
               [
                16.031311541646083,
                47.37181756540317
               ],
               [
                16.03559880144527,
                47.35602079569435
               ],
               [
                16.035391810516092,
                47.347097944812226
               ],
               [
                16.052128652966093,
                47.333875428865205
               ],
               [
                16.060613373182843,
                47.31509876067745
               ],
               [
                16.05954515117926,
                47.31052991304728
               ],
               [
                16.06663247879929,
                47.284844798131545
               ],
               [
                16.075824654328652,
                47.27508898326515
               ],
               [
                16.077360781534356,
                47.272029102490826
               ],
               [
                16.08734952805274,
                47.24815749706783
               ],
               [
                16.0876095236132,
                47.23394446775257
               ],
               [
                16.087034086344694,
                47.21630786423931
               ],
               [
                16.09389190372797,
                47.200303310663514
               ],
               [
                16.092587242563717,
                47.19885575126069
               ],
               [
                16.1036729064834,
                47.18404808769572
               ],
               [
                16.110376439903597,
                47.16717422393531
               ],
               [
                16.116113224442298,
                47.13357524446511
               ],
               [
                16.09587721655735,
                47.11258253922575
               ],
               [
                16.087658233709114,
                47.08821475263853
               ],
               [
                16.08874406362652,
                47.07317300873451
               ],
               [
                16.099443915616142,
                47.06144298135763
               ],
               [
                16.1215777640071,
                47.04223512118739
               ],
               [
                16.131808854757168,
                47.01249545389773
               ],
               [
                16.1466782318192,
                47.00017165604247
               ],
               [
                16.155612859502217,
                46.99118038671128
               ],
               [
                16.122797706919112,
                46.991033625037204
               ],
               [
                16.10882514795755,
                46.96569165715076
               ],
               [
                16.09647318748098,
                46.95439740236769
               ],
               [
                16.095863216016685,
                46.934706154572254
               ],
               [
                16.074125998861334,
                46.93608590702433
               ],
               [
                16.055112530211147,
                46.91073541274529
               ],
               [
                16.038963002660505,
                46.904962390757994
               ],
               [
                16.03645815371421,
                46.89322253865726
               ],
               [
                16.024484607831496,
                46.888287130351735
               ],
               [
                16.010637951627473,
                46.877444932376065
               ],
               [
                16.003733506370054,
                46.84724756473163
               ],
               [
                15.997286839811482,
                46.83575189334536
               ],
               [
                15.987262400261596,
                46.82698800479157
               ],
               [
                15.998572835598079,
                46.81177695147199
               ],
               [
                15.994086224735922,
                46.80468548794545
               ],
               [
                15.985808786699506,
                46.75242212175702
               ],
               [
                15.994909350569658,
                46.73094737027155
               ],
               [
                16.02850540378197,
                46.70552188118993
               ],
               [
                16.043531627230262,
                46.68587551602577
               ],
               [
                16.03914470516575,
                46.65646806648347
               ],
               [
                16.009694428871857,
                46.66684975345508
               ],
               [
                16.002813696016858,
                46.678771038506824
               ],
               [
                15.984683704371768,
                46.684943388189204
               ],
               [
                15.94809862723393,
                46.68940420519675
               ],
               [
                15.921434246571208,
                46.706338770412806
               ],
               [
                15.878182340080068,
                46.72001462024167
               ],
               [
                15.831492674193887,
                46.7219988263202
               ],
               [
                15.804878346802797,
                46.71638872960096
               ],
               [
                15.769974266346846,
                46.699403867727916
               ],
               [
                15.753452296543822,
                46.698314604491365
               ],
               [
                15.725111502802905,
                46.69623039867571
               ],
               [
                15.695124262321022,
                46.6996790619831
               ],
               [
                15.674937467327121,
                46.70734384378073
               ],
               [
                15.6509834865388,
                46.706106815908505
               ],
               [
                15.654981894019475,
                46.6931205790406
               ],
               [
                15.63418311116206,
                46.681982253102426
               ],
               [
                15.615537122667375,
                46.68251766838437
               ],
               [
                15.595953772357266,
                46.69030156241549
               ],
               [
                15.571136759594422,
                46.68125972769756
               ],
               [
                15.547259020768982,
                46.670502818048625
               ],
               [
                15.553998095814935,
                46.6533667435734
               ],
               [
                15.54452477537326,
                46.6325592034832
               ],
               [
                15.532497525565722,
                46.63115149775681
               ],
               [
                15.512796708831035,
                46.61694717790046
               ],
               [
                15.489148566217827,
                46.62103556935881
               ],
               [
                15.464884006129429,
                46.61493241486585
               ],
               [
                15.456045037518427,
                46.63046429827525
               ],
               [
                15.415051452134898,
                46.655891081643006
               ],
               [
                15.383852702594728,
                46.651976349238936
               ],
               [
                15.32161825782718,
                46.64823710741098
               ],
               [
                15.30894205192583,
                46.6527929285909
               ],
               [
                15.2777640275306,
                46.64392349974317
               ],
               [
                15.236850489510207,
                46.63974157786863
               ],
               [
                15.198299306664547,
                46.64609252394567
               ],
               [
                15.18358787520382,
                46.65638130567122
               ],
               [
                15.167643841461945,
                46.65453287773537
               ],
               [
                15.146233103570236,
                46.66016442793277
               ],
               [
                15.125690892368258,
                46.65435286736521
               ],
               [
                15.111563203232347,
                46.66002596929453
               ],
               [
                15.083324497777186,
                46.6455041061616
               ],
               [
                15.066026866155596,
                46.652413678660864
               ],
               [
                15.050200628657269,
                46.66752685045126
               ],
               [
                15.03553985456731,
                46.666247744571606
               ],
               [
                15.03127210295496,
                46.680966106782996
               ],
               [
                15.035452451461474,
                46.70620539603287
               ],
               [
                15.04319487207487,
                46.72124982171925
               ],
               [
                15.032466153019449,
                46.7460900152983
               ],
               [
                15.031711115506777,
                46.769258774912096
               ],
               [
                14.997585924517661,
                46.78120655629604
               ],
               [
                14.977176128181322,
                46.78516609372807
               ],
               [
                14.98278407892554,
                46.80631986731562
               ],
               [
                14.996365244743608,
                46.82786212536294
               ],
               [
                15.013014228794686,
                46.83298568010733
               ],
               [
                15.020553298215097,
                46.84464167913086
               ],
               [
                15.010932372565268,
                46.85490792600899
               ],
               [
                15.00914664683249,
                46.88025588250889
               ],
               [
                15.015835016587198,
                46.88163179205608
               ],
               [
                15.027933551040734,
                46.910129398885935
               ],
               [
                15.018052314932397,
                46.92307447607448
               ],
               [
                14.993629819400251,
                46.938748042880995
               ],
               [
                14.967872797883636,
                46.98217130876799
               ],
               [
                14.950250267336468,
                46.99340160862021
               ],
               [
                14.904908887786597,
                47.000707982012614
               ],
               [
                14.886455410445981,
                47.01158241607712
               ],
               [
                14.874152848680048,
                47.022937090612494
               ],
               [
                14.847889066919606,
                47.033354163880254
               ],
               [
                14.845388056817908,
                47.048516045243
               ],
               [
                14.831452117088059,
                47.04998795493086
               ],
               [
                14.808574801801056,
                47.03936751757547
               ],
               [
                14.768062839526971,
                47.03891556947538
               ],
               [
                14.717567312023563,
                47.0188200861171
               ],
               [
                14.666889885420021,
                47.0187656311001
               ],
               [
                14.628630271459997,
                47.01399570488198
               ],
               [
                14.616143341682346,
                46.99836701130421
               ],
               [
                14.593644751072551,
                47.00205248394778
               ],
               [
                14.586800959408897,
                47.012136994541535
               ],
               [
                14.528041105242723,
                47.00961778586715
               ],
               [
                14.504041844907341,
                47.01943963772672
               ],
               [
                14.505811721126168,
                47.026254310354275
               ],
               [
                14.505888960430317,
                47.02660506528861
               ],
               [
                14.505830654414218,
                47.026819577808446
               ],
               [
                14.478809311547007,
                47.019823774921285
               ],
               [
                14.472712246695759,
                47.00813448509732
               ],
               [
                14.457543111052024,
                46.99636083759145
               ],
               [
                14.431052526978942,
                47.00090334442819
               ],
               [
                14.386753782041158,
                46.98041966721084
               ],
               [
                14.378287353615326,
                46.99257061911524
               ],
               [
                14.38349550536328,
                47.013213402123995
               ],
               [
                14.36429009883292,
                47.025727661863016
               ],
               [
                14.331042737694533,
                47.02956907438043
               ],
               [
                14.262418831747295,
                47.027364921850214
               ],
               [
                14.238527237746181,
                47.02878700007176
               ],
               [
                14.235859426927489,
                47.0262549850907
               ],
               [
                14.225283903545723,
                47.035907493499664
               ],
               [
                14.217307658667586,
                47.06210725331998
               ],
               [
                14.205244519886653,
                47.07635141837021
               ],
               [
                14.175166881769977,
                47.06269184292928
               ],
               [
                14.16352323552446,
                47.05305614308089
               ],
               [
                14.163369136070493,
                47.0529069819479
               ],
               [
                14.163322056111738,
                47.05286196871287
               ],
               [
                14.163153015362708,
                47.052863654439726
               ],
               [
                14.163005901504894,
                47.052866698998734
               ],
               [
                14.160865314918068,
                47.05339268367749
               ],
               [
                14.133380257416142,
                47.06278356050138
               ],
               [
                14.12656393247146,
                47.045789178330494
               ],
               [
                14.102620643088603,
                47.03854903871134
               ],
               [
                14.07995175508011,
                47.022468173402885
               ]
              ]
             ],
             "type": "Polygon"
            },
            "properties": {
             "iso": "6",
             "name": "Steiermark"
            },
            "type": "Feature"
           },
           {
            "geometry": {
             "coordinates": [
              [
               [
                -180,
                -90
               ],
               [
                -180,
                90
               ],
               [
                180,
                90
               ],
               [
                180,
                -90
               ],
               [
                -180,
                -90
               ]
              ],
              [
               [
                16.06678069176434,
                46.85024713809595
               ],
               [
                16.06003782636864,
                46.83934628626895
               ],
               [
                16.0291732980365,
                46.8412558362254
               ],
               [
                16.00873950573942,
                46.831021055471815
               ],
               [
                15.997286839811482,
                46.83575189334536
               ],
               [
                16.003733506370054,
                46.84724756473163
               ],
               [
                16.010637951627473,
                46.877444932376065
               ],
               [
                16.024484607831496,
                46.888287130351735
               ],
               [
                16.03645815371421,
                46.89322253865726
               ],
               [
                16.038963002660505,
                46.904962390757994
               ],
               [
                16.055112530211147,
                46.91073541274529
               ],
               [
                16.074125998861334,
                46.93608590702433
               ],
               [
                16.095863216016685,
                46.934706154572254
               ],
               [
                16.09647318748098,
                46.95439740236769
               ],
               [
                16.10882514795755,
                46.96569165715076
               ],
               [
                16.122797706919112,
                46.991033625037204
               ],
               [
                16.155612859502217,
                46.99118038671128
               ],
               [
                16.1466782318192,
                47.00017165604247
               ],
               [
                16.131808854757168,
                47.01249545389773
               ],
               [
                16.1215777640071,
                47.04223512118739
               ],
               [
                16.099443915616142,
                47.06144298135763
               ],
               [
                16.08874406362652,
                47.07317300873451
               ],
               [
                16.087658233709114,
                47.08821475263853
               ],
               [
                16.09587721655735,
                47.11258253922575
               ],
               [
                16.116113224442298,
                47.13357524446511
               ],
               [
                16.110376439903597,
                47.16717422393531
               ],
               [
                16.1036729064834,
                47.18404808769572
               ],
               [
                16.092587242563717,
                47.19885575126069
               ],
               [
                16.09389190372797,
                47.200303310663514
               ],
               [
                16.087034086344694,
                47.21630786423931
               ],
               [
                16.0876095236132,
                47.23394446775257
               ],
               [
                16.08734952805274,
                47.24815749706783
               ],
               [
                16.077360781534356,
                47.272029102490826
               ],
               [
                16.075824654328652,
                47.27508898326515
               ],
               [
                16.06663247879929,
                47.284844798131545
               ],
               [
                16.05954515117926,
                47.31052991304728
               ],
               [
                16.060613373182843,
                47.31509876067745
               ],
               [
                16.052128652966093,
                47.333875428865205
               ],
               [
                16.035391810516092,
                47.347097944812226
               ],
               [
                16.03559880144527,
                47.35602079569435
               ],
               [
                16.031311541646083,
                47.37181756540317
               ],
               [
                16.03513771155023,
                47.372609388581374
               ],
               [
                16.031207824176057,
                47.37970597478303
               ],
               [
                16.059853481707254,
                47.38422251850425
               ],
               [
                16.06151868444872,
                47.384654579231224
               ],
               [
                16.073083299470554,
                47.4043525450399
               ],
               [
                16.0852164211781,
                47.40957328984144
               ],
               [
                16.094078827093952,
                47.39055322844561
               ],
               [
                16.108451212408212,
                47.39711507731017
               ],
               [
                16.10234051729095,
                47.41519088750307
               ],
               [
                16.117119297725143,
                47.414550435795896
               ],
               [
                16.11717091242029,
                47.414448147583876
               ],
               [
                16.11725178382822,
                47.414287844703225
               ],
               [
                16.14280344200388,
                47.4179271354864
               ],
               [
                16.166156359074826,
                47.42116327177202
               ],
               [
                16.172886654147526,
                47.422815558741206
               ],
               [
                16.20813918565573,
                47.425061662269506
               ],
               [
                16.22425090390262,
                47.427546130534274
               ],
               [
                16.254293485122595,
                47.44850965393688
               ],
               [
                16.282215386075524,
                47.45554843810961
               ],
               [
                16.30396688001069,
                47.46772520135104
               ],
               [
                16.321962375015627,
                47.494129762521254
               ],
               [
                16.340833658062486,
                47.516596893355015
               ],
               [
                16.317361386201334,
                47.54275631104358
               ],
               [
                16.314868350429926,
                47.54313706901066
               ],
               [
                16.314308548351796,
                47.56577283985603
               ],
               [
                16.33214677129723,
                47.58995902128921
               ],
               [
                16.345513822736986,
                47.60323045272716
               ],
               [
                16.349125714070194,
                47.61661015714837
               ],
               [
                16.369583532164913,
                47.62141155680775
               ],
               [
                16.373663039060315,
                47.64292015292044
               ],
               [
                16.352902123695365,
                47.672246483013105
               ],
               [
                16.357854029490802,
                47.67996976703736
               ],
               [
                16.32492060617306,
                47.683765068682256
               ],
               [
                16.310194767394016,
                47.68761613714829
               ],
               [
                16.310270995806697,
                47.69585463338358
               ],
               [
                16.296207172109245,
                47.71575745872823
               ],
               [
                16.296792916501126,
                47.74273567084454
               ],
               [
                16.30050171372142,
                47.76163540806019
               ],
               [
                16.29954764188464,
                47.762180748796006
               ],
               [
                16.30493897280584,
                47.784748313319675
               ],
               [
                16.26990582983384,
                47.79153141325888
               ],
               [
                16.287054333094485,
                47.81191497091851
               ],
               [
                16.310152281234046,
                47.807765146877
               ],
               [
                16.308647276171214,
                47.791262582064405
               ],
               [
                16.316783876087396,
                47.78504548648747
               ],
               [
                16.332767934340925,
                47.80094462332806
               ],
               [
                16.34987683583584,
                47.80623644161276
               ],
               [
                16.355927486776668,
                47.821168011549574
               ],
               [
                16.363528014773575,
                47.82371082539523
               ],
               [
                16.378363345157684,
                47.82777632553025
               ],
               [
                16.38919834758694,
                47.84301955910204
               ],
               [
                16.37568267098629,
                47.85294565849879
               ],
               [
                16.349159710733165,
                47.86860779740351
               ],
               [
                16.38378533354836,
                47.876745671240194
               ],
               [
                16.390073086402186,
                47.88206274966688
               ],
               [
                16.40148118036171,
                47.87643318363829
               ],
               [
                16.42399235797815,
                47.902390028815525
               ],
               [
                16.420395365126154,
                47.913397704203334
               ],
               [
                16.45355117337773,
                47.93472934538395
               ],
               [
                16.488114495800545,
                47.94308583087194
               ],
               [
                16.519880338912994,
                47.94403446695838
               ],
               [
                16.54224643325957,
                47.920135326869
               ],
               [
                16.575216093039387,
                47.88673001222014
               ],
               [
                16.58149039670041,
                47.889066223260116
               ],
               [
                16.598523268949155,
                47.90434950282414
               ],
               [
                16.609565164518067,
                47.912812631723035
               ],
               [
                16.633298143923398,
                47.933867149314686
               ],
               [
                16.633108301744457,
                47.934252798709586
               ],
               [
                16.6410092269411,
                47.94640273171334
               ],
               [
                16.666418064279704,
                47.957530936910004
               ],
               [
                16.70094294098219,
                47.967436298737745
               ],
               [
                16.702415028077258,
                47.97426803846587
               ],
               [
                16.703333749597615,
                48.01211800144924
               ],
               [
                16.735352569587675,
                48.010083140689
               ],
               [
                16.76164641758894,
                48.01437369850825
               ],
               [
                16.806653943755222,
                48.02900287144093
               ],
               [
                16.826473741745573,
                48.02961310632213
               ],
               [
                16.82941392948715,
                48.02962208085997
               ],
               [
                16.830830255580732,
                48.04092177473804
               ],
               [
                16.848891451511687,
                48.05716249227312
               ],
               [
                16.87559081145808,
                48.072628477029504
               ],
               [
                16.905543820823528,
                48.07148113884961
               ],
               [
                16.91647862810002,
                48.05716935601403
               ],
               [
                16.92085548395941,
                48.05147571560489
               ],
               [
                16.95087328281823,
                48.04770962787613
               ],
               [
                16.976292679906894,
                48.03595110794452
               ],
               [
                16.970253194865474,
                48.02666016297122
               ],
               [
                16.987902994669824,
                48.02955639773197
               ],
               [
                16.995013966576437,
                48.04592442782684
               ],
               [
                17.017576057228673,
                48.07398297729012
               ],
               [
                17.000042295851486,
                48.084593508597116
               ],
               [
                16.97236095072529,
                48.10103891283572
               ],
               [
                16.987826064315257,
                48.111876858361576
               ],
               [
                16.99913952231395,
                48.10955362306615
               ],
               [
                17.00842227895234,
                48.09192678271507
               ],
               [
                17.03728010739384,
                48.0847651365395
               ],
               [
                17.042696737471054,
                48.10213221558601
               ],
               [
                17.065211620546183,
                48.11028963500357
               ],
               [
                17.06803248727749,
                48.11914731837325
               ],
               [
                17.094000580533788,
                48.1001085124411
               ],
               [
                17.0777204655701,
                48.08666872545074
               ],
               [
                17.07144926976008,
                48.057470452820844
               ],
               [
                17.089074987189413,
                48.04614086129679
               ],
               [
                17.076911746284914,
                48.02800539864876
               ],
               [
                17.091144325780544,
                48.020246711275156
               ],
               [
                17.111343866309962,
                48.03168689693723
               ],
               [
                17.12801511152158,
                48.02138778652731
               ],
               [
                17.145130092897016,
                48.02065259038626
               ],
               [
                17.161935298926956,
                48.006984757103126
               ],
               [
                17.09594500679954,
                47.97131918360375
               ],
               [
                17.118271003007614,
                47.96134913030367
               ],
               [
                17.09218207645644,
                47.93484114558297
               ],
               [
                17.113969847424627,
                47.9278015017433
               ],
               [
                17.096879129981062,
                47.90473704711519
               ],
               [
                17.10544828944552,
                47.89969921729653
               ],
               [
                17.086458274483878,
                47.874880809147186
               ],
               [
                17.07907325714137,
                47.87798429986375
               ],
               [
                17.038403102030173,
                47.86836524216686
               ],
               [
                17.01902100919858,
                47.868847191495085
               ],
               [
                17.01121375335866,
                47.85879077699617
               ],
               [
                17.05281308850614,
                47.83834360845373
               ],
               [
                17.048179489425237,
                47.82878440880883
               ],
               [
                17.07306981925714,
                47.80864334270468
               ],
               [
                17.05222568437135,
                47.794416188326316
               ],
               [
                17.06508695661124,
                47.77820318448944
               ],
               [
                17.072025647950188,
                47.75037818291143
               ],
               [
                17.071681466550487,
                47.728380502019796
               ],
               [
                17.09433925479381,
                47.70866603875252
               ],
               [
                17.072526127422968,
                47.70706941868255
               ],
               [
                17.041396935488848,
                47.70474151149817
               ],
               [
                16.960573826791123,
                47.69312987818647
               ],
               [
                16.913777162266438,
                47.68810823485625
               ],
               [
                16.872863905813308,
                47.69052798930682
               ],
               [
                16.868137249774875,
                47.72206992801939
               ],
               [
                16.84029237851389,
                47.70500617186971
               ],
               [
                16.829552867264493,
                47.68315865285974
               ],
               [
                16.750241869063135,
                47.68185555760813
               ],
               [
                16.74101208962192,
                47.69567894470131
               ],
               [
                16.722725154256636,
                47.72304332129196
               ],
               [
                16.7221569160982,
                47.73576783849795
               ],
               [
                16.658384733517398,
                47.74199710428662
               ],
               [
                16.640918851284688,
                47.74871582149731
               ],
               [
                16.635468660467073,
                47.759492004113454
               ],
               [
                16.623335173485064,
                47.757680499522294
               ],
               [
                16.592148846897434,
                47.75840243084999
               ],
               [
                16.549168867137585,
                47.75198828329202
               ],
               [
                16.543910520056393,
                47.74279284527235
               ],
               [
                16.538758100379358,
                47.74043621561813
               ],
               [
                16.537649482786783,
                47.73707914119801
               ],
               [
                16.55341979245353,
                47.722958233385654
               ],
               [
                16.541637538601265,
                47.71227701484875
               ],
               [
                16.52180252957451,
                47.71270366930898
               ],
               [
                16.49894868797167,
                47.703851355779726
               ],
               [
                16.46114697326414,
                47.684562237711425
               ],
               [
                16.44850268692868,
                47.696747147926565
               ],
               [
                16.444074970112155,
                47.67420799814852
               ],
               [
                16.42271198586272,
                47.66573361554902
               ],
               [
                16.42301537492363,
                47.66513970052214
               ],
               [
                16.451393132080977,
                47.656232152429716
               ],
               [
                16.480334094025935,
                47.65054335702443
               ],
               [
                16.4990040403102,
                47.639781293504186
               ],
               [
                16.517584945012214,
                47.6458053545153
               ],
               [
                16.549992126437314,
                47.634014802338534
               ],
               [
                16.57371316767822,
                47.62027902923937
               ],
               [
                16.591444446847145,
                47.61788837224751
               ],
               [
                16.636189716631165,
                47.62825857350076
               ],
               [
                16.654126220574422,
                47.622659750775604
               ],
               [
                16.67644241483089,
                47.582488243354874
               ],
               [
                16.664341921175087,
                47.56911880889016
               ],
               [
                16.685199735679284,
                47.5617269023172
               ],
               [
                16.69936469822923,
                47.5460533902057
               ],
               [
                16.706796603794682,
                47.52359980315816
               ],
               [
                16.69100246493778,
                47.51082742345552
               ],
               [
                16.653529789907807,
                47.500738966878146
               ],
               [
                16.671674317225754,
                47.47466011984029
               ],
               [
                16.663209980679326,
                47.45610377625543
               ],
               [
                16.62801897414893,
                47.44204964733458
               ],
               [
                16.6129825693761,
                47.43203196518743
               ],
               [
                16.589065967795868,
                47.423176722198
               ],
               [
                16.576918684357114,
                47.40676173629912
               ],
               [
                16.54746180821354,
                47.406006623486945
               ],
               [
                16.519942378888516,
                47.41033416620982
               ],
               [
                16.511130808771714,
                47.396930871731804
               ],
               [
                16.459847255047393,
                47.41339250103533
               ],
               [
                16.446575179767148,
                47.40713585765219
               ],
               [
                16.456375761141643,
                47.38745618171882
               ],
               [
                16.458147893172622,
                47.367632865886044
               ],
               [
                16.434908846373197,
                47.35331699830962
               ],
               [
                16.448838892373303,
                47.34040146902307
               ],
               [
                16.46416260459413,
                47.33620499840744
               ],
               [
                16.490575070855193,
                47.28067308296332
               ],
               [
                16.479297407195627,
                47.27549179439725
               ],
               [
                16.479571119947135,
                47.26334133503326
               ],
               [
                16.431617049479534,
                47.250740938579185
               ],
               [
                16.443893311996078,
                47.234127568844784
               ],
               [
                16.436142585994318,
                47.21576919103619
               ],
               [
                16.41803180478484,
                47.20572153196821
               ],
               [
                16.422232006449335,
                47.197505643619344
               ],
               [
                16.42933551533078,
                47.18541785738963
               ],
               [
                16.451879526304605,
                47.188671338568774
               ],
               [
                16.46537094463205,
                47.168560300859134
               ],
               [
                16.450199494100183,
                47.1522542678979
               ],
               [
                16.45543370779369,
                47.14268302004034
               ],
               [
                16.49160773944707,
                47.149237547656206
               ],
               [
                16.51791749007282,
                47.14970563810147
               ],
               [
                16.530473533131605,
                47.12761187629998
               ],
               [
                16.50101280302869,
                47.123784312475884
               ],
               [
                16.501856024374128,
                47.11057732235714
               ],
               [
                16.465745084773026,
                47.099319653567676
               ],
               [
                16.471976132286557,
                47.07856958587746
               ],
               [
                16.48842011061926,
                47.06920438586258
               ],
               [
                16.521614028479064,
                47.061905773780346
               ],
               [
                16.50768255564679,
                47.04999676907091
               ],
               [
                16.476981578161077,
                47.04719941284805
               ],
               [
                16.45237224704499,
                47.040448531788385
               ],
               [
                16.493657903751792,
                47.01052417472789
               ],
               [
                16.498059533779365,
                46.99856202179637
               ],
               [
                16.42858959695912,
                46.99349389789891
               ],
               [
                16.4137328269122,
                47.0050969527004
               ],
               [
                16.38763991943254,
                47.00078325393528
               ],
               [
                16.350950374479392,
                47.01076324370864
               ],
               [
                16.344047026571417,
                46.99945511015585
               ],
               [
                16.32357551449482,
                47.002926097638245
               ],
               [
                16.30337559930985,
                46.99879614139104
               ],
               [
                16.29984675679729,
                47.00643749860794
               ],
               [
                16.290401726547195,
                47.013786365579975
               ],
               [
                16.278167928079867,
                46.98812665642441
               ],
               [
                16.27751330178366,
                46.96303194957487
               ],
               [
                16.256417448272256,
                46.96456842287729
               ],
               [
                16.247636060681195,
                46.94989849653995
               ],
               [
                16.225180448868265,
                46.940585767188104
               ],
               [
                16.21111924665356,
                46.94285806746564
               ],
               [
                16.198629397307233,
                46.94031610445278
               ],
               [
                16.180304439715954,
                46.90699779466032
               ],
               [
                16.149788280130494,
                46.89341480765628
               ],
               [
                16.13391073720751,
                46.87590356188067
               ],
               [
                16.092997072027956,
                46.8649338694791
               ],
               [
                16.06678069176434,
                46.85024713809595
               ]
              ]
             ],
             "type": "Polygon"
            },
            "properties": {
             "iso": "1",
             "name": "Burgenland"
            },
            "type": "Feature"
           },
           {
            "geometry": {
             "coordinates": [
              [
               [
                -180,
                -90
               ],
               [
                -180,
                90
               ],
               [
                180,
                90
               ],
               [
                180,
                -90
               ],
               [
                -180,
                -90
               ]
              ],
              [
               [
                14.859023679322252,
                47.7409887172898
               ],
               [
                14.840936543456952,
                47.734455560941356
               ],
               [
                14.819269579383509,
                47.74470289287024
               ],
               [
                14.767999140307422,
                47.72680832604045
               ],
               [
                14.73941005315781,
                47.74922605433828
               ],
               [
                14.736870687936824,
                47.75941647566353
               ],
               [
                14.719338953449402,
                47.7762541323648
               ],
               [
                14.71282388866229,
                47.790593876536974
               ],
               [
                14.732408062547798,
                47.799614595586
               ],
               [
                14.71405583462424,
                47.81396770889996
               ],
               [
                14.711111676729239,
                47.823894777097955
               ],
               [
                14.723745270979276,
                47.83270432549689
               ],
               [
                14.710944725517333,
                47.851156452345236
               ],
               [
                14.735787638691619,
                47.86407815210144
               ],
               [
                14.763701002361893,
                47.872755485397825
               ],
               [
                14.770512472985631,
                47.88013032570069
               ],
               [
                14.772909658327675,
                47.883535304763846
               ],
               [
                14.744434403895152,
                47.91798169387795
               ],
               [
                14.730122129606695,
                47.924881191059974
               ],
               [
                14.704712595954096,
                47.92612196962043
               ],
               [
                14.67156135721668,
                47.9352654799033
               ],
               [
                14.650014712778617,
                47.942672396118574
               ],
               [
                14.61716210344324,
                47.94862915023496
               ],
               [
                14.587430121919196,
                47.966967054520275
               ],
               [
                14.556069266219266,
                47.980396427392726
               ],
               [
                14.532905306714364,
                47.99045792275939
               ],
               [
                14.494094797932878,
                47.998575123780654
               ],
               [
                14.493029427438513,
                48.01139393724137
               ],
               [
                14.457053490765055,
                48.043583024288864
               ],
               [
                14.459781254769144,
                48.0745610655232
               ],
               [
                14.45884386138352,
                48.089240084575195
               ],
               [
                14.479981176313673,
                48.104966832319896
               ],
               [
                14.49389428913237,
                48.110518873200974
               ],
               [
                14.468606428772844,
                48.12305447127659
               ],
               [
                14.47814716570341,
                48.1333197826741
               ],
               [
                14.468852302186878,
                48.14815240152816
               ],
               [
                14.48378353961489,
                48.17211995981522
               ],
               [
                14.48306000462588,
                48.17905645349892
               ],
               [
                14.481896255476263,
                48.202486798133606
               ],
               [
                14.490542924226713,
                48.22243831966222
               ],
               [
                14.516499149962847,
                48.234626215560816
               ],
               [
                14.522132481880618,
                48.23817595459479
               ],
               [
                14.561823429345107,
                48.231550653279065
               ],
               [
                14.592418350473913,
                48.2186920886637
               ],
               [
                14.612441211680398,
                48.19631042542675
               ],
               [
                14.624220122940233,
                48.19124240435371
               ],
               [
                14.644596762205955,
                48.175797932834875
               ],
               [
                14.689341081657787,
                48.157842363591016
               ],
               [
                14.706108292888453,
                48.163108765397396
               ],
               [
                14.716262127184088,
                48.17922231714081
               ],
               [
                14.740290996048547,
                48.17267042780217
               ],
               [
                14.762575617971853,
                48.178129269618665
               ],
               [
                14.76999073359129,
                48.17966547701552
               ],
               [
                14.841299518230482,
                48.194285950254766
               ],
               [
                14.857647289249964,
                48.2118790838581
               ],
               [
                14.862034389001293,
                48.22759235752868
               ],
               [
                14.886672858998764,
                48.23331340585649
               ],
               [
                14.916367240931041,
                48.23341980554123
               ],
               [
                14.94545350829885,
                48.227828609959246
               ],
               [
                14.963455418254389,
                48.2029294757642
               ],
               [
                14.975168842336695,
                48.19938089723151
               ],
               [
                14.964959677962709,
                48.21546584731094
               ],
               [
                14.953177334199474,
                48.2196821319115
               ],
               [
                14.973991654256002,
                48.23412855248663
               ],
               [
                14.970980298747003,
                48.246307500079254
               ],
               [
                14.993064821745358,
                48.256481541981714
               ],
               [
                14.98610631748662,
                48.2996683525936
               ],
               [
                14.987472032851425,
                48.31986820106699
               ],
               [
                14.961276585651447,
                48.32600702599241
               ],
               [
                14.944707930199018,
                48.324208641191426
               ],
               [
                14.948500091153504,
                48.333932701233394
               ],
               [
                14.953257592412763,
                48.35736421106776
               ],
               [
                14.965473444224912,
                48.37908036597974
               ],
               [
                14.95740686118546,
                48.391872589945
               ],
               [
                14.937347883346334,
                48.39574046175733
               ],
               [
                14.948526911209726,
                48.408275729655884
               ],
               [
                14.929222197081275,
                48.42437900230321
               ],
               [
                14.912746152576975,
                48.43525708462906
               ],
               [
                14.899304726976974,
                48.45118796733097
               ],
               [
                14.881094512179585,
                48.45416920340863
               ],
               [
                14.878035803653248,
                48.464960439844255
               ],
               [
                14.869153630242094,
                48.480598908475066
               ],
               [
                14.89076823600783,
                48.487186262239256
               ],
               [
                14.893294939416279,
                48.49954977414131
               ],
               [
                14.921985430272743,
                48.5063099948914
               ],
               [
                14.897213901549714,
                48.5238289122768
               ],
               [
                14.87611814289651,
                48.52833018192561
               ],
               [
                14.850621770741922,
                48.530508811371654
               ],
               [
                14.836429426296265,
                48.54613640733101
               ],
               [
                14.812165790802133,
                48.55435262715039
               ],
               [
                14.783847821000045,
                48.56087783606439
               ],
               [
                14.770268116906225,
                48.55714598188366
               ],
               [
                14.750652287987648,
                48.563309497922724
               ],
               [
                14.737306483179042,
                48.55338172656353
               ],
               [
                14.712854848966414,
                48.57930051866391
               ],
               [
                14.692011720285441,
                48.58490113429138
               ],
               [
                14.701113985159084,
                48.583471678533265
               ],
               [
                14.722149966098323,
                48.60298077321272
               ],
               [
                14.7151077594782,
                48.6180518032803
               ],
               [
                14.723133394632576,
                48.63898904615571
               ],
               [
                14.71336499165235,
                48.650707967644244
               ],
               [
                14.724472669777027,
                48.676311334541175
               ],
               [
                14.741815895762352,
                48.70192916499351
               ],
               [
                14.773568972612704,
                48.711730224917325
               ],
               [
                14.79572544973719,
                48.730598494131506
               ],
               [
                14.809168671399942,
                48.7344960035378
               ],
               [
                14.80153008598803,
                48.748002845328614
               ],
               [
                14.81253877144841,
                48.76206627028554
               ],
               [
                14.809341910408708,
                48.77806502815088
               ],
               [
                14.830326104712212,
                48.781107399605155
               ],
               [
                14.852181878817733,
                48.777923113547935
               ],
               [
                14.882342884584142,
                48.78072445072909
               ],
               [
                14.88579621158547,
                48.77250882359555
               ],
               [
                14.921546708507114,
                48.76919253669105
               ],
               [
                14.956848398654753,
                48.75869709834889
               ],
               [
                14.964795140959493,
                48.76376439470882
               ],
               [
                14.981895666564009,
                48.77589765085459
               ],
               [
                14.957616229271155,
                48.788415784070345
               ],
               [
                14.958468299942695,
                48.812305718133075
               ],
               [
                14.970802285247165,
                48.824523199584995
               ],
               [
                14.974007616757278,
                48.875277516000395
               ],
               [
                14.984893894656919,
                48.87536956067583
               ],
               [
                14.988924233424953,
                48.89587550536328
               ],
               [
                14.992592733195952,
                48.897924952233524
               ],
               [
                14.987597579730613,
                48.93655400220849
               ],
               [
                14.977567120092008,
                48.95645929324838
               ],
               [
                14.977271983675026,
                48.97164033989466
               ],
               [
                14.985600585735702,
                48.9872216355702
               ],
               [
                14.998904214500996,
                48.992596779069814
               ],
               [
                15.005353467126579,
                49.01305547084106
               ],
               [
                15.022812992417688,
                49.02110710691864
               ],
               [
                15.042099228908315,
                49.012164319670404
               ],
               [
                15.065409577296363,
                49.01276819604817
               ],
               [
                15.065521786415976,
                49.00037068614388
               ],
               [
                15.106734087871311,
                48.99684216774394
               ],
               [
                15.143867901933335,
                48.99767123230946
               ],
               [
                15.159737601373857,
                48.99054325140897
               ],
               [
                15.170831698103676,
                48.96339393463003
               ],
               [
                15.161342075064766,
                48.94231476511446
               ],
               [
                15.225553479801226,
                48.96076770228801
               ],
               [
                15.26255855812254,
                48.95454931199707
               ],
               [
                15.29214555403229,
                48.98494114769057
               ],
               [
                15.322854461001402,
                48.97675057531134
               ],
               [
                15.333353274745471,
                48.98544725395712
               ],
               [
                15.368101804381181,
                48.98250295977616
               ],
               [
                15.394793055648634,
                48.96582759408947
               ],
               [
                15.430661432548153,
                48.951809598273464
               ],
               [
                15.467505287386542,
                48.95211132255196
               ],
               [
                15.50315020303098,
                48.93658437392267
               ],
               [
                15.514528878083652,
                48.91473021624013
               ],
               [
                15.588244408726771,
                48.89659503797938
               ],
               [
                15.62074731263813,
                48.89621194167688
               ],
               [
                15.631471409917879,
                48.885628839319075
               ],
               [
                15.653838173927074,
                48.88344505351575
               ],
               [
                15.693735901258304,
                48.85612138677834
               ],
               [
                15.714647993984212,
                48.85867165446341
               ],
               [
                15.754813010766114,
                48.85277135409975
               ],
               [
                15.78070179590686,
                48.8754803296086
               ],
               [
                15.853171457058004,
                48.86879097250943
               ],
               [
                15.84601101593245,
                48.859414115410345
               ],
               [
                15.880920920912649,
                48.84851116662518
               ],
               [
                15.89775673460313,
                48.84954295887213
               ],
               [
                15.9081605680674,
                48.836116017351785
               ],
               [
                15.936575419927642,
                48.81952235497927
               ],
               [
                15.950817482834143,
                48.805834672729176
               ],
               [
                15.97125874420456,
                48.79590069494309
               ],
               [
                15.995558011186203,
                48.77991524156204
               ],
               [
                16.054037065303667,
                48.76159626809876
               ],
               [
                16.065873871173352,
                48.75542319950877
               ],
               [
                16.090194867501193,
                48.74839542362075
               ],
               [
                16.104099817585876,
                48.74596959032739
               ],
               [
                16.151102353475807,
                48.743764646460775
               ],
               [
                16.155935324730567,
                48.74902031157777
               ],
               [
                16.224719505726494,
                48.74066613312777
               ],
               [
                16.264285845676387,
                48.737574827656054
               ],
               [
                16.274250728184093,
                48.7418435287689
               ],
               [
                16.311593755333266,
                48.73440528567529
               ],
               [
                16.361010096873777,
                48.72862949553071
               ],
               [
                16.3953442757135,
                48.73698921860521
               ],
               [
                16.410757682622602,
                48.74491264824503
               ],
               [
                16.429479266979293,
                48.76321141135099
               ],
               [
                16.436255150512487,
                48.766193608904615
               ],
               [
                16.436491855716394,
                48.77714519177536
               ],
               [
                16.463156068412154,
                48.80520712708679
               ],
               [
                16.524702802914742,
                48.80033467107963
               ],
               [
                16.5353248665462,
                48.811392841249756
               ],
               [
                16.542000845265964,
                48.81485480531413
               ],
               [
                16.566004597313487,
                48.79446536015221
               ],
               [
                16.59451149500001,
                48.78335314211265
               ],
               [
                16.631879025195087,
                48.780989960875246
               ],
               [
                16.652705864057857,
                48.7857052169362
               ],
               [
                16.67593954905407,
                48.77208904054437
               ],
               [
                16.681907876894456,
                48.75000855247561
               ],
               [
                16.67513201282041,
                48.74325704933307
               ],
               [
                16.683822545494962,
                48.728636164232334
               ],
               [
                16.683873797533668,
                48.72834309100087
               ],
               [
                16.702409080926586,
                48.737093694497275
               ],
               [
                16.74857683809169,
                48.732667015164466
               ],
               [
                16.761765907650947,
                48.717332765208624
               ],
               [
                16.828568982943697,
                48.71163668743322
               ],
               [
                16.870747773622107,
                48.713029457963124
               ],
               [
                16.878714370311677,
                48.722870155660466
               ],
               [
                16.906964178022093,
                48.7145055635808
               ],
               [
                16.919345817419334,
                48.69992581827703
               ],
               [
                16.911794492034733,
                48.67922817018411
               ],
               [
                16.92606435562045,
                48.67280870426336
               ],
               [
                16.9219963435055,
                48.64570296264466
               ],
               [
                16.92943013525582,
                48.63910424232966
               ],
               [
                16.919980378225013,
                48.62330013911954
               ],
               [
                16.940796588055385,
                48.618401585630174
               ],
               [
                16.936157671279375,
                48.602765283027416
               ],
               [
                16.939820830949795,
                48.565899950367346
               ],
               [
                16.955234005100213,
                48.544778812369806
               ],
               [
                16.945137686305298,
                48.522885661518906
               ],
               [
                16.92275846876256,
                48.516293535733425
               ],
               [
                16.91554293490548,
                48.50057396521411
               ],
               [
                16.892081439289576,
                48.49330638737774
               ],
               [
                16.88205834710565,
                48.477981072856906
               ],
               [
                16.852800382084176,
                48.451161785719165
               ],
               [
                16.852393823667583,
                48.43914593522636
               ],
               [
                16.86363857989715,
                48.418210094325694
               ],
               [
                16.851575398496355,
                48.40968555014456
               ],
               [
                16.8521879301873,
                48.384928514886376
               ],
               [
                16.834738878580637,
                48.38008224224319
               ],
               [
                16.843469386735883,
                48.3606382608465
               ],
               [
                16.844437265396095,
                48.351883772389826
               ],
               [
                16.908927630316924,
                48.327164174792905
               ],
               [
                16.896031492874016,
                48.31063944551587
               ],
               [
                16.902012085596226,
                48.298407933490985
               ],
               [
                16.928204144341088,
                48.27165408585444
               ],
               [
                16.947455707414665,
                48.270847159689794
               ],
               [
                16.952809324814105,
                48.25740347742427
               ],
               [
                16.948044738147114,
                48.23483768356291
               ],
               [
                16.963378983378938,
                48.21797099029683
               ],
               [
                16.977029751237342,
                48.19141409657694
               ],
               [
                16.977486604087677,
                48.17271948652772
               ],
               [
                17.000957163558905,
                48.15918756986154
               ],
               [
                17.02934085380994,
                48.14105539754997
               ],
               [
                17.058482456671577,
                48.14419785384474
               ],
               [
                17.06346979369657,
                48.12349492001989
               ],
               [
                17.06803248727749,
                48.11914731837325
               ],
               [
                17.065211620546183,
                48.11028963500357
               ],
               [
                17.042696737471054,
                48.10213221558601
               ],
               [
                17.03728010739384,
                48.0847651365395
               ],
               [
                17.00842227895234,
                48.09192678271507
               ],
               [
                16.99913952231395,
                48.10955362306615
               ],
               [
                16.987826064315257,
                48.111876858361576
               ],
               [
                16.97236095072529,
                48.10103891283572
               ],
               [
                17.000042295851486,
                48.084593508597116
               ],
               [
                17.017576057228673,
                48.07398297729012
               ],
               [
                16.995013966576437,
                48.04592442782684
               ],
               [
                16.987902994669824,
                48.02955639773197
               ],
               [
                16.970253194865474,
                48.02666016297122
               ],
               [
                16.976292679906894,
                48.03595110794452
               ],
               [
                16.95087328281823,
                48.04770962787613
               ],
               [
                16.92085548395941,
                48.05147571560489
               ],
               [
                16.91647862810002,
                48.05716935601403
               ],
               [
                16.905543820823528,
                48.07148113884961
               ],
               [
                16.87559081145808,
                48.072628477029504
               ],
               [
                16.848891451511687,
                48.05716249227312
               ],
               [
                16.830830255580732,
                48.04092177473804
               ],
               [
                16.82941392948715,
                48.02962208085997
               ],
               [
                16.826473741745573,
                48.02961310632213
               ],
               [
                16.806653943755222,
                48.02900287144093
               ],
               [
                16.76164641758894,
                48.01437369850825
               ],
               [
                16.735352569587675,
                48.010083140689
               ],
               [
                16.703333749597615,
                48.01211800144924
               ],
               [
                16.702415028077258,
                47.97426803846587
               ],
               [
                16.70094294098219,
                47.967436298737745
               ],
               [
                16.666418064279704,
                47.957530936910004
               ],
               [
                16.6410092269411,
                47.94640273171334
               ],
               [
                16.633108301744457,
                47.934252798709586
               ],
               [
                16.633298143923398,
                47.933867149314686
               ],
               [
                16.609565164518067,
                47.912812631723035
               ],
               [
                16.598523268949155,
                47.90434950282414
               ],
               [
                16.58149039670041,
                47.889066223260116
               ],
               [
                16.575216093039387,
                47.88673001222014
               ],
               [
                16.54224643325957,
                47.920135326869
               ],
               [
                16.519880338912994,
                47.94403446695838
               ],
               [
                16.488114495800545,
                47.94308583087194
               ],
               [
                16.45355117337773,
                47.93472934538395
               ],
               [
                16.420395365126154,
                47.913397704203334
               ],
               [
                16.42399235797815,
                47.902390028815525
               ],
               [
                16.40148118036171,
                47.87643318363829
               ],
               [
                16.390073086402186,
                47.88206274966688
               ],
               [
                16.38378533354836,
                47.876745671240194
               ],
               [
                16.349159710733165,
                47.86860779740351
               ],
               [
                16.37568267098629,
                47.85294565849879
               ],
               [
                16.38919834758694,
                47.84301955910204
               ],
               [
                16.378363345157684,
                47.82777632553025
               ],
               [
                16.363528014773575,
                47.82371082539523
               ],
               [
                16.355927486776668,
                47.821168011549574
               ],
               [
                16.34987683583584,
                47.80623644161276
               ],
               [
                16.332767934340925,
                47.80094462332806
               ],
               [
                16.316783876087396,
                47.78504548648747
               ],
               [
                16.308647276171214,
                47.791262582064405
               ],
               [
                16.310152281234046,
                47.807765146877
               ],
               [
                16.287054333094485,
                47.81191497091851
               ],
               [
                16.26990582983384,
                47.79153141325888
               ],
               [
                16.30493897280584,
                47.784748313319675
               ],
               [
                16.29954764188464,
                47.762180748796006
               ],
               [
                16.30050171372142,
                47.76163540806019
               ],
               [
                16.296792916501126,
                47.74273567084454
               ],
               [
                16.296207172109245,
                47.71575745872823
               ],
               [
                16.310270995806697,
                47.69585463338358
               ],
               [
                16.310194767394016,
                47.68761613714829
               ],
               [
                16.32492060617306,
                47.683765068682256
               ],
               [
                16.357854029490802,
                47.67996976703736
               ],
               [
                16.352902123695365,
                47.672246483013105
               ],
               [
                16.373663039060315,
                47.64292015292044
               ],
               [
                16.369583532164913,
                47.62141155680775
               ],
               [
                16.349125714070194,
                47.61661015714837
               ],
               [
                16.345513822736986,
                47.60323045272716
               ],
               [
                16.33214677129723,
                47.58995902128921
               ],
               [
                16.314308548351796,
                47.56577283985603
               ],
               [
                16.314868350429926,
                47.54313706901066
               ],
               [
                16.317361386201334,
                47.54275631104358
               ],
               [
                16.340833658062486,
                47.516596893355015
               ],
               [
                16.321962375015627,
                47.494129762521254
               ],
               [
                16.30396688001069,
                47.46772520135104
               ],
               [
                16.282215386075524,
                47.45554843810961
               ],
               [
                16.254293485122595,
                47.44850965393688
               ],
               [
                16.22425090390262,
                47.427546130534274
               ],
               [
                16.20813918565573,
                47.425061662269506
               ],
               [
                16.172886654147526,
                47.422815558741206
               ],
               [
                16.145163084274714,
                47.43839302254559
               ],
               [
                16.13301441035194,
                47.453855145806486
               ],
               [
                16.139091177716853,
                47.46185877434416
               ],
               [
                16.129276490473146,
                47.468569583327245
               ],
               [
                16.11405034426309,
                47.49754439335263
               ],
               [
                16.119961352070128,
                47.51076379059004
               ],
               [
                16.110455486284074,
                47.52539764487436
               ],
               [
                16.098898449606143,
                47.524509340345666
               ],
               [
                16.08851086703062,
                47.5075859254692
               ],
               [
                16.066292688998367,
                47.50232744640029
               ],
               [
                16.066196781158446,
                47.486763197708626
               ],
               [
                16.04796887461051,
                47.491591093623796
               ],
               [
                16.027415407399957,
                47.5131133728728
               ],
               [
                16.0011737999035,
                47.516271778822365
               ],
               [
                15.959617616571604,
                47.518288565732355
               ],
               [
                15.92159382910158,
                47.53045538072957
               ],
               [
                15.914952170030258,
                47.53086429113109
               ],
               [
                15.905134135518432,
                47.542889737734825
               ],
               [
                15.906504791280582,
                47.5602465613467
               ],
               [
                15.889001676065229,
                47.571663228545006
               ],
               [
                15.848095257531307,
                47.568233165037
               ],
               [
                15.845607258050215,
                47.5867540841157
               ],
               [
                15.861656754855177,
                47.61712638773246
               ],
               [
                15.841385820781568,
                47.61855100951688
               ],
               [
                15.822866942434942,
                47.63840826641071
               ],
               [
                15.80834704143025,
                47.635639683389456
               ],
               [
                15.782412071172095,
                47.64275498401481
               ],
               [
                15.750835914671242,
                47.632667126598214
               ],
               [
                15.743385204563618,
                47.642665282292974
               ],
               [
                15.726176869167379,
                47.64691254106756
               ],
               [
                15.729759851658388,
                47.66463793084631
               ],
               [
                15.715309746182747,
                47.698474341959916
               ],
               [
                15.72022415864135,
                47.710348509700275
               ],
               [
                15.69776121399367,
                47.71336604484472
               ],
               [
                15.679803235298994,
                47.699460426682116
               ],
               [
                15.671313837405439,
                47.71046755706222
               ],
               [
                15.652620461834179,
                47.71810279775747
               ],
               [
                15.636811423061399,
                47.71602129895097
               ],
               [
                15.612778635840087,
                47.75155994650623
               ],
               [
                15.552193627802666,
                47.750003123732654
               ],
               [
                15.529378899268014,
                47.74638588258931
               ],
               [
                15.510935806320322,
                47.752475389300145
               ],
               [
                15.507665215871338,
                47.768276114722354
               ],
               [
                15.462008553572252,
                47.77022728271672
               ],
               [
                15.450946643550024,
                47.77414311613647
               ],
               [
                15.434315348991026,
                47.792019918967945
               ],
               [
                15.41299205113014,
                47.78486173763551
               ],
               [
                15.40563383399547,
                47.81120321180778
               ],
               [
                15.380361838950487,
                47.8241269698417
               ],
               [
                15.346925043182031,
                47.826249186043896
               ],
               [
                15.346243276703072,
                47.82616515945846
               ],
               [
                15.300863665722469,
                47.821535839809684
               ],
               [
                15.289897333644769,
                47.791667001937874
               ],
               [
                15.254603622630391,
                47.79325050939743
               ],
               [
                15.23531156918668,
                47.79929240006719
               ],
               [
                15.218322314512127,
                47.79651947522193
               ],
               [
                15.209161991496238,
                47.78830676146667
               ],
               [
                15.211421487478264,
                47.76361179208629
               ],
               [
                15.200388859733573,
                47.75391428634363
               ],
               [
                15.184314855652772,
                47.757217094151144
               ],
               [
                15.135838608061315,
                47.75848987933565
               ],
               [
                15.1325735560132,
                47.748283578875856
               ],
               [
                15.090243839242723,
                47.74196041885176
               ],
               [
                15.056869542551116,
                47.741370763088156
               ],
               [
                15.035706064504046,
                47.75323314290026
               ],
               [
                14.952018804257285,
                47.732092382257235
               ],
               [
                14.928728181599809,
                47.71113159797813
               ],
               [
                14.902180082147158,
                47.71132016828422
               ],
               [
                14.877607556136835,
                47.71652896461313
               ],
               [
                14.877529190807502,
                47.72654369179427
               ],
               [
                14.859023679322252,
                47.7409887172898
               ]
              ],
              [
               [
                16.183076337318866,
                48.1715330023072
               ],
               [
                16.199152862412333,
                48.155047213300485
               ],
               [
                16.223724324814963,
                48.13598223511378
               ],
               [
                16.219275150990406,
                48.12856427578967
               ],
               [
                16.22008970168383,
                48.124258390061264
               ],
               [
                16.237235221850312,
                48.13050549744734
               ],
               [
                16.268386917550586,
                48.134074710762185
               ],
               [
                16.299745048030232,
                48.12581830557946
               ],
               [
                16.313396343442434,
                48.12002489677758
               ],
               [
                16.325796537008358,
                48.138286274586086
               ],
               [
                16.367087762224738,
                48.12889186220601
               ],
               [
                16.38954234739435,
                48.12586107181946
               ],
               [
                16.414025622641567,
                48.11873197580842
               ],
               [
                16.43822870111404,
                48.120419933482076
               ],
               [
                16.43433413670084,
                48.1383655388173
               ],
               [
                16.454587854675793,
                48.13939973901595
               ],
               [
                16.478701650500238,
                48.155051750670594
               ],
               [
                16.5150084110348,
                48.159417949336365
               ],
               [
                16.544556556973248,
                48.143697190518886
               ],
               [
                16.577255987550867,
                48.13569759822522
               ],
               [
                16.578219440077365,
                48.144922712613294
               ],
               [
                16.57638706912172,
                48.16230983731234
               ],
               [
                16.550999159186002,
                48.165137810893235
               ],
               [
                16.55067783019302,
                48.177548267724305
               ],
               [
                16.537500771031432,
                48.20093514604349
               ],
               [
                16.553976462478936,
                48.23949782642191
               ],
               [
                16.540645976266184,
                48.24333663624501
               ],
               [
                16.548214487432826,
                48.263499813028936
               ],
               [
                16.533861100415223,
                48.26260329297847
               ],
               [
                16.50791274360715,
                48.27410433861081
               ],
               [
                16.516128973307325,
                48.286038118914654
               ],
               [
                16.503416242927113,
                48.29086499663971
               ],
               [
                16.482608719501762,
                48.293677035000385
               ],
               [
                16.473506122658208,
                48.276892982175724
               ],
               [
                16.441633391703185,
                48.292424694880935
               ],
               [
                16.43898353873527,
                48.31732209407445
               ],
               [
                16.42922197206394,
                48.32089258044634
               ],
               [
                16.39639051184434,
                48.32307627589065
               ],
               [
                16.364395939908135,
                48.282812053143836
               ],
               [
                16.346377817429453,
                48.28608193287551
               ],
               [
                16.31578230744994,
                48.274494318130685
               ],
               [
                16.290215835246784,
                48.27102211968647
               ],
               [
                16.257987472178687,
                48.24341294055577
               ],
               [
                16.235025659242712,
                48.250788665794886
               ],
               [
                16.209258760810737,
                48.26460978002107
               ],
               [
                16.197501178266393,
                48.25042891992891
               ],
               [
                16.186349293357544,
                48.22371555892549
               ],
               [
                16.210799524240645,
                48.210139371488204
               ],
               [
                16.200993360554452,
                48.18666881395831
               ],
               [
                16.183076337318866,
                48.1715330023072
               ]
              ]
             ],
             "type": "Polygon"
            },
            "properties": {
             "iso": "3",
             "name": "Niederösterreich"
            },
            "type": "Feature"
           },
           {
            "geometry": {
             "coordinates": [
              [
               [
                -180,
                -90
               ],
               [
                -180,
                90
               ],
               [
                180,
                90
               ],
               [
                180,
                -90
               ],
               [
                -180,
                -90
               ]
              ],
              [
               [
                16.42922197206394,
                48.32089258044634
               ],
               [
                16.43898353873527,
                48.31732209407445
               ],
               [
                16.441633391703185,
                48.292424694880935
               ],
               [
                16.473506122658208,
                48.276892982175724
               ],
               [
                16.482608719501762,
                48.293677035000385
               ],
               [
                16.503416242927113,
                48.29086499663971
               ],
               [
                16.516128973307325,
                48.286038118914654
               ],
               [
                16.50791274360715,
                48.27410433861081
               ],
               [
                16.533861100415223,
                48.26260329297847
               ],
               [
                16.548214487432826,
                48.263499813028936
               ],
               [
                16.540645976266184,
                48.24333663624501
               ],
               [
                16.553976462478936,
                48.23949782642191
               ],
               [
                16.537500771031432,
                48.20093514604349
               ],
               [
                16.55067783019302,
                48.177548267724305
               ],
               [
                16.550999159186002,
                48.165137810893235
               ],
               [
                16.57638706912172,
                48.16230983731234
               ],
               [
                16.578219440077365,
                48.144922712613294
               ],
               [
                16.577255987550867,
                48.13569759822522
               ],
               [
                16.544556556973248,
                48.143697190518886
               ],
               [
                16.5150084110348,
                48.159417949336365
               ],
               [
                16.478701650500238,
                48.155051750670594
               ],
               [
                16.454587854675793,
                48.13939973901595
               ],
               [
                16.43433413670084,
                48.1383655388173
               ],
               [
                16.43822870111404,
                48.120419933482076
               ],
               [
                16.414025622641567,
                48.11873197580842
               ],
               [
                16.38954234739435,
                48.12586107181946
               ],
               [
                16.367087762224738,
                48.12889186220601
               ],
               [
                16.325796537008358,
                48.138286274586086
               ],
               [
                16.313396343442434,
                48.12002489677758
               ],
               [
                16.299745048030232,
                48.12581830557946
               ],
               [
                16.268386917550586,
                48.134074710762185
               ],
               [
                16.237235221850312,
                48.13050549744734
               ],
               [
                16.22008970168383,
                48.124258390061264
               ],
               [
                16.219275150990406,
                48.12856427578967
               ],
               [
                16.223724324814963,
                48.13598223511378
               ],
               [
                16.199152862412333,
                48.155047213300485
               ],
               [
                16.183076337318866,
                48.1715330023072
               ],
               [
                16.200993360554452,
                48.18666881395831
               ],
               [
                16.210799524240645,
                48.210139371488204
               ],
               [
                16.186349293357544,
                48.22371555892549
               ],
               [
                16.197501178266393,
                48.25042891992891
               ],
               [
                16.209258760810737,
                48.26460978002107
               ],
               [
                16.235025659242712,
                48.250788665794886
               ],
               [
                16.257987472178687,
                48.24341294055577
               ],
               [
                16.290215835246784,
                48.27102211968647
               ],
               [
                16.31578230744994,
                48.274494318130685
               ],
               [
                16.346377817429453,
                48.28608193287551
               ],
               [
                16.364395939908135,
                48.282812053143836
               ],
               [
                16.39639051184434,
                48.32307627589065
               ],
               [
                16.42922197206394,
                48.32089258044634
               ]
              ]
             ],
             "type": "Polygon"
            },
            "properties": {
             "iso": "9",
             "name": "Wien"
            },
            "type": "Feature"
           },
           {
            "geometry": {
             "coordinates": [
              [
               [
                -180,
                -90
               ],
               [
                -180,
                90
               ],
               [
                180,
                90
               ],
               [
                180,
                -90
               ],
               [
                -180,
                -90
               ]
              ],
              [
               [
                14.435317574999326,
                46.443301102802934
               ],
               [
                14.410397085635578,
                46.446723856717135
               ],
               [
                14.38299781994014,
                46.439501299158074
               ],
               [
                14.34551755669944,
                46.43736514493235
               ],
               [
                14.308949814800437,
                46.43098891461741
               ],
               [
                14.28399853866686,
                46.443863099684194
               ],
               [
                14.236954936851138,
                46.4333235545519
               ],
               [
                14.216599948495517,
                46.44352814464048
               ],
               [
                14.191883617469054,
                46.44429458404601
               ],
               [
                14.163991835316772,
                46.43397401536297
               ],
               [
                14.13570392337094,
                46.45148637146107
               ],
               [
                14.122303137134274,
                46.476979250572974
               ],
               [
                14.112209792352187,
                46.47917829948533
               ],
               [
                14.09542785078693,
                46.485278576507206
               ],
               [
                14.041324492179326,
                46.4934010704966
               ],
               [
                14.020434535697586,
                46.481752552093205
               ],
               [
                14.007255940493819,
                46.48173649369479
               ],
               [
                13.97639439886244,
                46.49864697831642
               ],
               [
                13.912714913538027,
                46.52152196794435
               ],
               [
                13.88272273711716,
                46.523159036478525
               ],
               [
                13.856021853467345,
                46.51424933774895
               ],
               [
                13.829348630374026,
                46.517316502040096
               ],
               [
                13.811506762399683,
                46.50637381634889
               ],
               [
                13.799677252018698,
                46.50692828738412
               ],
               [
                13.726548253612744,
                46.52353341318186
               ],
               [
                13.691848590138754,
                46.52139208160628
               ],
               [
                13.622608817649764,
                46.54259363838935
               ],
               [
                13.587870834422574,
                46.544976577999556
               ],
               [
                13.571622635181754,
                46.539245109500825
               ],
               [
                13.564384227289862,
                46.551472698763966
               ],
               [
                13.547728946656086,
                46.5538566391995
               ],
               [
                13.515496589697932,
                46.5492155236782
               ],
               [
                13.50494956634316,
                46.566707243115914
               ],
               [
                13.47541731294658,
                46.5577479037911
               ],
               [
                13.4241737882668,
                46.55898010178373
               ],
               [
                13.409830156385379,
                46.57188074730113
               ],
               [
                13.372920325356024,
                46.579682190539096
               ],
               [
                13.36356161206192,
                46.57047524866159
               ],
               [
                13.344623445288565,
                46.57003073250573
               ],
               [
                13.322766911085287,
                46.55361350911511
               ],
               [
                13.29795342025415,
                46.56071830258031
               ],
               [
                13.253475564058748,
                46.560890051584
               ],
               [
                13.240369758759199,
                46.55233690465009
               ],
               [
                13.218010533434782,
                46.57090649650713
               ],
               [
                13.1797864044299,
                46.578213348054405
               ],
               [
                13.169256994568268,
                46.589316113990776
               ],
               [
                13.106573598572242,
                46.59479444721621
               ],
               [
                13.088252890622453,
                46.60167854273608
               ],
               [
                13.073399877373218,
                46.59933939241637
               ],
               [
                13.033216721588595,
                46.59643793897046
               ],
               [
                13.022131988580023,
                46.602646799911874
               ],
               [
                12.987812420060745,
                46.59986626060495
               ],
               [
                12.934195584283618,
                46.61012581333062
               ],
               [
                12.89084075324616,
                46.60764825131525
               ],
               [
                12.865874132475822,
                46.61011132025633
               ],
               [
                12.85359225555337,
                46.605153377498205
               ],
               [
                12.834290860022419,
                46.610315978975265
               ],
               [
                12.837895143776086,
                46.627684419026025
               ],
               [
                12.819594219234231,
                46.6286108952918
               ],
               [
                12.776541784209181,
                46.64712813851878
               ],
               [
                12.756952547187167,
                46.64759868396726
               ],
               [
                12.731990206876276,
                46.63472689531027
               ],
               [
                12.717295250889705,
                46.6491621148885
               ],
               [
                12.691232045355415,
                46.657410894876925
               ],
               [
                12.687289165693864,
                46.686651136614145
               ],
               [
                12.69309267928992,
                46.70209390828986
               ],
               [
                12.711506966621174,
                46.70547477003055
               ],
               [
                12.71233012533157,
                46.73610222670111
               ],
               [
                12.725564407874064,
                46.743892424702246
               ],
               [
                12.748810713047153,
                46.74789735360012
               ],
               [
                12.796437287251893,
                46.75578785946756
               ],
               [
                12.81053552137355,
                46.75673020780315
               ],
               [
                12.81436659577459,
                46.74940001895604
               ],
               [
                12.84184899894473,
                46.74978166169015
               ],
               [
                12.857469906345388,
                46.7606156930797
               ],
               [
                12.877624087741452,
                46.76313641764412
               ],
               [
                12.90001757068092,
                46.777294257683835
               ],
               [
                12.932063228622303,
                46.7644869313064
               ],
               [
                12.966424855580245,
                46.78814217906072
               ],
               [
                12.964130115063137,
                46.799096280170424
               ],
               [
                12.907751826000329,
                46.82312509676053
               ],
               [
                12.906100465535685,
                46.82308241873304
               ],
               [
                12.896233736030906,
                46.82625951182353
               ],
               [
                12.887111065183525,
                46.84295851763285
               ],
               [
                12.841788233961834,
                46.86143803590054
               ],
               [
                12.837688794160522,
                46.912955017440304
               ],
               [
                12.822457903988065,
                46.917282816401574
               ],
               [
                12.809081266709512,
                46.92306590509986
               ],
               [
                12.794301186939792,
                46.92694926273792
               ],
               [
                12.787035542028026,
                46.940031615688454
               ],
               [
                12.77026867605,
                46.945253428270554
               ],
               [
                12.760195755530342,
                46.957083123434316
               ],
               [
                12.741707034637624,
                46.96946262444202
               ],
               [
                12.725259034839011,
                46.996264019621535
               ],
               [
                12.738076270741395,
                47.00432586864086
               ],
               [
                12.766556564846313,
                47.04491082791749
               ],
               [
                12.735459889891844,
                47.04216002184202
               ],
               [
                12.711139270753687,
                47.048918029984094
               ],
               [
                12.701908498451656,
                47.071068580611545
               ],
               [
                12.65745397307417,
                47.10000921350448
               ],
               [
                12.671358686482467,
                47.10730687280484
               ],
               [
                12.666759914417947,
                47.12332832597829
               ],
               [
                12.705108060952291,
                47.12250679930348
               ],
               [
                12.731529490464828,
                47.13148583480726
               ],
               [
                12.739481428690597,
                47.10080555350925
               ],
               [
                12.773405544622427,
                47.101429087267256
               ],
               [
                12.782232376128615,
                47.093476847768066
               ],
               [
                12.82092307148572,
                47.09815035813142
               ],
               [
                12.837399989940888,
                47.083283319763986
               ],
               [
                12.860370654083598,
                47.081164208243386
               ],
               [
                12.871525037978646,
                47.086745990657306
               ],
               [
                12.89316386208255,
                47.08176740345311
               ],
               [
                12.919987751387149,
                47.08208757186024
               ],
               [
                12.938188217379329,
                47.07664981745189
               ],
               [
                12.953662134783846,
                47.049733150953976
               ],
               [
                12.965501762181598,
                47.03947411632989
               ],
               [
                12.986013308316,
                47.036076630230546
               ],
               [
                13.00375436875033,
                47.04434602504736
               ],
               [
                13.020528115196166,
                47.03064906320971
               ],
               [
                13.07369289080536,
                47.01388016337656
               ],
               [
                13.081009137784807,
                47.02727945325202
               ],
               [
                13.12764659663953,
                47.02751764167589
               ],
               [
                13.133886674370611,
                47.035273804366945
               ],
               [
                13.162662253075153,
                47.0375092375636
               ],
               [
                13.185309478157487,
                47.04420857514951
               ],
               [
                13.215414368289645,
                47.04454222614916
               ],
               [
                13.248823483572613,
                47.05104360662486
               ],
               [
                13.240083187844244,
                47.071998940770634
               ],
               [
                13.250508947553831,
                47.08797979402657
               ],
               [
                13.278019992673432,
                47.095622765572124
               ],
               [
                13.300625663117774,
                47.0882297193104
               ],
               [
                13.35523438896101,
                47.09757401910119
               ],
               [
                13.380842508272595,
                47.09292980003284
               ],
               [
                13.382771454698679,
                47.08076535509854
               ],
               [
                13.407077873311675,
                47.06971440962606
               ],
               [
                13.428297990515672,
                47.08184101052377
               ],
               [
                13.45868628027679,
                47.08077274124282
               ],
               [
                13.52228685019597,
                47.06897297022607
               ],
               [
                13.55968253082931,
                47.05636760720394
               ],
               [
                13.58151940726768,
                47.052465464606904
               ],
               [
                13.594973907722657,
                47.05642034540644
               ],
               [
                13.616416375553941,
                47.05960848554598
               ],
               [
                13.638386780619035,
                47.05595615645852
               ],
               [
                13.646281462001092,
                47.04076085715979
               ],
               [
                13.687294263033758,
                47.040272331049636
               ],
               [
                13.694418985696819,
                47.006567866539214
               ],
               [
                13.699971212552787,
                47.00373416925072
               ],
               [
                13.709456470156246,
                46.995920239824315
               ],
               [
                13.734469752503118,
                46.989689390217244
               ],
               [
                13.745452203876248,
                46.99433500902197
               ],
               [
                13.772503550644952,
                46.97752606122732
               ],
               [
                13.775178420200247,
                46.95308388871289
               ],
               [
                13.785429956062647,
                46.94429481523506
               ],
               [
                13.816122795820238,
                46.918944925040236
               ],
               [
                13.848967970564987,
                46.909708961881556
               ],
               [
                13.856883756163148,
                46.91773715006538
               ],
               [
                13.882643224723962,
                46.918247886319385
               ],
               [
                13.901038160307355,
                46.934107971912795
               ],
               [
                13.912002205340182,
                46.93342637210399
               ],
               [
                13.93521090591686,
                46.946050513671636
               ],
               [
                13.947507687248372,
                46.941063158253144
               ],
               [
                13.955708907995142,
                46.95674770933982
               ],
               [
                13.968538309836061,
                46.963662705023765
               ],
               [
                13.968949867233247,
                46.96348280803285
               ],
               [
                13.969360609771583,
                46.96349357210858
               ],
               [
                13.993310760137609,
                46.966553534949746
               ],
               [
                14.010104357912198,
                46.97406613430193
               ],
               [
                14.017229578221421,
                46.98950806846118
               ],
               [
                14.015190926013304,
                47.00253850638903
               ],
               [
                14.027291972052314,
                47.00716331524728
               ],
               [
                14.049786957156686,
                47.00442833919455
               ],
               [
                14.073121332291759,
                47.013099586957885
               ],
               [
                14.07995175508011,
                47.022468173402885
               ],
               [
                14.102620643088603,
                47.03854903871134
               ],
               [
                14.12656393247146,
                47.045789178330494
               ],
               [
                14.133380257416142,
                47.06278356050138
               ],
               [
                14.160865314918068,
                47.05339268367749
               ],
               [
                14.163005901504894,
                47.052866698998734
               ],
               [
                14.163153015362708,
                47.052863654439726
               ],
               [
                14.163322056111738,
                47.05286196871287
               ],
               [
                14.163369136070493,
                47.0529069819479
               ],
               [
                14.16352323552446,
                47.05305614308089
               ],
               [
                14.175166881769977,
                47.06269184292928
               ],
               [
                14.205244519886653,
                47.07635141837021
               ],
               [
                14.217307658667586,
                47.06210725331998
               ],
               [
                14.225283903545723,
                47.035907493499664
               ],
               [
                14.235859426927489,
                47.0262549850907
               ],
               [
                14.238527237746181,
                47.02878700007176
               ],
               [
                14.262418831747295,
                47.027364921850214
               ],
               [
                14.331042737694533,
                47.02956907438043
               ],
               [
                14.36429009883292,
                47.025727661863016
               ],
               [
                14.38349550536328,
                47.013213402123995
               ],
               [
                14.378287353615326,
                46.99257061911524
               ],
               [
                14.386753782041158,
                46.98041966721084
               ],
               [
                14.431052526978942,
                47.00090334442819
               ],
               [
                14.457543111052024,
                46.99636083759145
               ],
               [
                14.472712246695759,
                47.00813448509732
               ],
               [
                14.478809311547007,
                47.019823774921285
               ],
               [
                14.505830654414218,
                47.026819577808446
               ],
               [
                14.505888960430317,
                47.02660506528861
               ],
               [
                14.505811721126168,
                47.026254310354275
               ],
               [
                14.504041844907341,
                47.01943963772672
               ],
               [
                14.528041105242723,
                47.00961778586715
               ],
               [
                14.586800959408897,
                47.012136994541535
               ],
               [
                14.593644751072551,
                47.00205248394778
               ],
               [
                14.616143341682346,
                46.99836701130421
               ],
               [
                14.628630271459997,
                47.01399570488198
               ],
               [
                14.666889885420021,
                47.0187656311001
               ],
               [
                14.717567312023563,
                47.0188200861171
               ],
               [
                14.768062839526971,
                47.03891556947538
               ],
               [
                14.808574801801056,
                47.03936751757547
               ],
               [
                14.831452117088059,
                47.04998795493086
               ],
               [
                14.845388056817908,
                47.048516045243
               ],
               [
                14.847889066919606,
                47.033354163880254
               ],
               [
                14.874152848680048,
                47.022937090612494
               ],
               [
                14.886455410445981,
                47.01158241607712
               ],
               [
                14.904908887786597,
                47.000707982012614
               ],
               [
                14.950250267336468,
                46.99340160862021
               ],
               [
                14.967872797883636,
                46.98217130876799
               ],
               [
                14.993629819400251,
                46.938748042880995
               ],
               [
                15.018052314932397,
                46.92307447607448
               ],
               [
                15.027933551040734,
                46.910129398885935
               ],
               [
                15.015835016587198,
                46.88163179205608
               ],
               [
                15.00914664683249,
                46.88025588250889
               ],
               [
                15.010932372565268,
                46.85490792600899
               ],
               [
                15.020553298215097,
                46.84464167913086
               ],
               [
                15.013014228794686,
                46.83298568010733
               ],
               [
                14.996365244743608,
                46.82786212536294
               ],
               [
                14.98278407892554,
                46.80631986731562
               ],
               [
                14.977176128181322,
                46.78516609372807
               ],
               [
                14.997585924517661,
                46.78120655629604
               ],
               [
                15.031711115506777,
                46.769258774912096
               ],
               [
                15.032466153019449,
                46.7460900152983
               ],
               [
                15.04319487207487,
                46.72124982171925
               ],
               [
                15.035452451461474,
                46.70620539603287
               ],
               [
                15.03127210295496,
                46.680966106782996
               ],
               [
                15.03553985456731,
                46.666247744571606
               ],
               [
                15.050200628657269,
                46.66752685045126
               ],
               [
                15.066026866155596,
                46.652413678660864
               ],
               [
                15.044928169148317,
                46.65247260238725
               ],
               [
                15.017076175200458,
                46.64118516881775
               ],
               [
                14.996249810818307,
                46.62229517777864
               ],
               [
                14.980276965333847,
                46.60175709874033
               ],
               [
                14.972429041511768,
                46.62350766972289
               ],
               [
                14.956574469567887,
                46.633092311889136
               ],
               [
                14.931994473103087,
                46.61567804392616
               ],
               [
                14.923936655657426,
                46.60360955423701
               ],
               [
                14.880552716155968,
                46.611612469864475
               ],
               [
                14.867948015778211,
                46.6047697716876
               ],
               [
                14.835389809439851,
                46.56357952970373
               ],
               [
                14.823623865043784,
                46.534900086450534
               ],
               [
                14.819486109827174,
                46.50974438096276
               ],
               [
                14.785250079026586,
                46.49984352553267
               ],
               [
                14.759955963822996,
                46.50479842526632
               ],
               [
                14.730629304553231,
                46.492032567734384
               ],
               [
                14.715629120789446,
                46.5003065814155
               ],
               [
                14.6999844487781,
                46.4639464331015
               ],
               [
                14.679139711585716,
                46.46285451299678
               ],
               [
                14.67564396450364,
                46.45103168762538
               ],
               [
                14.632303772669502,
                46.43983329986897
               ],
               [
                14.610154029488237,
                46.439794942148446
               ],
               [
                14.587167326976283,
                46.42993485852157
               ],
               [
                14.586972127538303,
                46.392601220802625
               ],
               [
                14.573856818299264,
                46.37585374215964
               ],
               [
                14.557646402162863,
                46.38550823135907
               ],
               [
                14.54070479276499,
                46.41194359413592
               ],
               [
                14.512138574097982,
                46.42653528442355
               ],
               [
                14.493038021847354,
                46.41327774013647
               ],
               [
                14.465893394191847,
                46.42243191050457
               ],
               [
                14.447581202730655,
                46.42194952649314
               ],
               [
                14.432148124510434,
                46.434566667207115
               ],
               [
                14.435317574999326,
                46.443301102802934
               ]
              ]
             ],
             "type": "Polygon"
            },
            "properties": {
             "iso": "2",
             "name": "Kärnten"
            },
            "type": "Feature"
           },
           {
            "geometry": {
             "coordinates": [
              [
               [
                -180,
                -90
               ],
               [
                -180,
                90
               ],
               [
                180,
                90
               ],
               [
                180,
                -90
               ],
               [
                -180,
                -90
               ]
              ],
              [
               [
                10.13482169360016,
                47.02990924032105
               ],
               [
                10.131329666237974,
                47.01358341386765
               ],
               [
                10.154681979449725,
                47.005942833950336
               ],
               [
                10.160079518251028,
                46.98430100505883
               ],
               [
                10.14501723827558,
                46.983936898935745
               ],
               [
                10.135260228045352,
                46.955817856200156
               ],
               [
                10.120952902444445,
                46.938453812219635
               ],
               [
                10.098482025389323,
                46.92790298768985
               ],
               [
                10.117562744641475,
                46.885875803279596
               ],
               [
                10.141093069401869,
                46.875770287500515
               ],
               [
                10.145238297465273,
                46.85154440908232
               ],
               [
                10.105427165643341,
                46.841444752318075
               ],
               [
                10.087472371935121,
                46.86172454952258
               ],
               [
                10.0598334783117,
                46.86132061823789
               ],
               [
                10.052676969765816,
                46.87643413644324
               ],
               [
                10.026737287927446,
                46.89635643275821
               ],
               [
                9.98269864769632,
                46.90675177892499
               ],
               [
                9.978131577761552,
                46.91643699540343
               ],
               [
                9.946381846167013,
                46.91290406202799
               ],
               [
                9.923035071676765,
                46.91879884637782
               ],
               [
                9.8779373760209,
                46.93869324829403
               ],
               [
                9.874973356822716,
                46.97262377270369
               ],
               [
                9.892214844734049,
                46.989490403814045
               ],
               [
                9.88903584234105,
                47.001292729237356
               ],
               [
                9.873512897835184,
                47.00691541864255
               ],
               [
                9.87650424751636,
                47.0217952691347
               ],
               [
                9.831008286712906,
                47.014887752886494
               ],
               [
                9.793380279699388,
                47.03181810170144
               ],
               [
                9.785161676804542,
                47.03905741371676
               ],
               [
                9.745442634117873,
                47.04167576639769
               ],
               [
                9.70870614570762,
                47.04788148389354
               ],
               [
                9.70837229787894,
                47.05339707868915
               ],
               [
                9.677665540227517,
                47.06197925208756
               ],
               [
                9.645287842742736,
                47.060350742580894
               ],
               [
                9.63677076224951,
                47.05227776731276
               ],
               [
                9.60728003410665,
                47.06134874178134
               ],
               [
                9.634610725917332,
                47.10167073030821
               ],
               [
                9.622196291656664,
                47.10915982798623
               ],
               [
                9.63442433263228,
                47.12860094514656
               ],
               [
                9.6249338692817,
                47.13320860876722
               ],
               [
                9.620789543539292,
                47.15222968171368
               ],
               [
                9.605387245528624,
                47.14990921290746
               ],
               [
                9.596964531935544,
                47.163476463144924
               ],
               [
                9.579662446636275,
                47.1717206514149
               ],
               [
                9.572807180356673,
                47.19138555176853
               ],
               [
                9.585016388461709,
                47.205162055105106
               ],
               [
                9.554892755258258,
                47.227260274641715
               ],
               [
                9.567617302505429,
                47.2415141456876
               ],
               [
                9.53095237318183,
                47.27118170183859
               ],
               [
                9.54644091852075,
                47.280692801170474
               ],
               [
                9.559435083155277,
                47.30079481120015
               ],
               [
                9.588506704680318,
                47.318153576911676
               ],
               [
                9.596569063629019,
                47.3381268052894
               ],
               [
                9.619894985003073,
                47.363043852700166
               ],
               [
                9.649771044215262,
                47.368054786668985
               ],
               [
                9.673599983668973,
                47.38212027696659
               ],
               [
                9.673808560581449,
                47.39190177656306
               ],
               [
                9.652117013144371,
                47.409324421351066
               ],
               [
                9.644544540673722,
                47.435768190967494
               ],
               [
                9.659690179679028,
                47.45200125647562
               ],
               [
                9.62074838576922,
                47.45917197292085
               ],
               [
                9.60746988725973,
                47.4709481223521
               ],
               [
                9.59694643646741,
                47.46307024961633
               ],
               [
                9.583689961253688,
                47.48174030431538
               ],
               [
                9.563097671232786,
                47.495566190777566
               ],
               [
                9.582193127318059,
                47.50018793103811
               ],
               [
                9.60351431290857,
                47.50443262563801
               ],
               [
                9.61369960314429,
                47.520729854175684
               ],
               [
                9.636190054867743,
                47.52473850380479
               ],
               [
                9.64513464897811,
                47.52965729348286
               ],
               [
                9.676251748122809,
                47.50535120628649
               ],
               [
                9.6874573822603,
                47.50993692429319
               ],
               [
                9.749113298235695,
                47.510746157666276
               ],
               [
                9.750033603971719,
                47.52065182747359
               ],
               [
                9.732419604901741,
                47.534360793178
               ],
               [
                9.735407404461206,
                47.54722496304862
               ],
               [
                9.755932201854145,
                47.572794094684426
               ],
               [
                9.776204171069358,
                47.59403648212667
               ],
               [
                9.80268159666887,
                47.59653686552012
               ],
               [
                9.820568430718328,
                47.588271526152454
               ],
               [
                9.830032925602614,
                47.54515205113361
               ],
               [
                9.85378930328071,
                47.540603944437194
               ],
               [
                9.874755871324185,
                47.529160346659644
               ],
               [
                9.880501586200179,
                47.54853837948918
               ],
               [
                9.902314421000693,
                47.54480656164595
               ],
               [
                9.922881232612694,
                47.53033648775778
               ],
               [
                9.943983041846385,
                47.537724006752704
               ],
               [
                9.95940091034479,
                47.535125705919555
               ],
               [
                9.965306012944524,
                47.52361899520824
               ],
               [
                9.995989372991984,
                47.503393876058624
               ],
               [
                9.9998063232222,
                47.48362980419063
               ],
               [
                10.037718361240447,
                47.48979051076103
               ],
               [
                10.05490721720457,
                47.47504317089944
               ],
               [
                10.054764271296252,
                47.46679301545615
               ],
               [
                10.072469447972287,
                47.45687525636946
               ],
               [
                10.08984181459057,
                47.46101952933396
               ],
               [
                10.093255374412383,
                47.4446762083399
               ],
               [
                10.104184918900371,
                47.431108737346044
               ],
               [
                10.09401606163977,
                47.41749186845814
               ],
               [
                10.070682093538807,
                47.40840783413385
               ],
               [
                10.083138164197315,
                47.39449691400716
               ],
               [
                10.097924267274703,
                47.3604542176512
               ],
               [
                10.10013753724247,
                47.35535651865693
               ],
               [
                10.119637252797792,
                47.3762110712588
               ],
               [
                10.138224704667417,
                47.36848335950451
               ],
               [
                10.169887579328845,
                47.371896150530134
               ],
               [
                10.16970530611719,
                47.3864280672298
               ],
               [
                10.195289369039212,
                47.389965682162135
               ],
               [
                10.212589317895407,
                47.381602150878706
               ],
               [
                10.227267602000682,
                47.389437057389074
               ],
               [
                10.237332343208825,
                47.37424907744781
               ],
               [
                10.20454698564244,
                47.33734508101416
               ],
               [
                10.199817800699714,
                47.32705107361326
               ],
               [
                10.216282166544937,
                47.31165264892134
               ],
               [
                10.201943779545873,
                47.299970325557986
               ],
               [
                10.178560893075446,
                47.29523790767247
               ],
               [
                10.17238006637,
                47.27966301689159
               ],
               [
                10.178645536465902,
                47.27069713351929
               ],
               [
                10.174512866296665,
                47.26446019463785
               ],
               [
                10.222345968575148,
                47.25415795243823
               ],
               [
                10.19804032366062,
                47.237160867675584
               ],
               [
                10.213032930370431,
                47.22488058664695
               ],
               [
                10.21298205903946,
                47.2048495614091
               ],
               [
                10.197135131369317,
                47.19493937945387
               ],
               [
                10.211710316078646,
                47.17190166511134
               ],
               [
                10.213285659938029,
                47.158150684308964
               ],
               [
                10.20368781856436,
                47.143030699501075
               ],
               [
                10.207074490221077,
                47.13146136259523
               ],
               [
                10.18658508307389,
                47.12952926210631
               ],
               [
                10.145164588038519,
                47.09750224697372
               ],
               [
                10.133819068224204,
                47.078450940454225
               ],
               [
                10.134888226018813,
                47.064449885950985
               ],
               [
                10.151151928447865,
                47.062388382268
               ],
               [
                10.157194869214969,
                47.049433034931056
               ],
               [
                10.13482169360016,
                47.02990924032105
               ]
              ]
             ],
             "type": "Polygon"
            },
            "properties": {
             "iso": "8",
             "name": "Vorarlberg"
            },
            "type": "Feature"
           },
           {
            "geometry": {
             "coordinates": [
              [
               [
                -180,
                -90
               ],
               [
                -180,
                90
               ],
               [
                180,
                90
               ],
               [
                180,
                -90
               ],
               [
                -180,
                -90
               ]
              ],
              [
               [
                13.801926313338557,
                46.9515732267686
               ],
               [
                13.785429956062647,
                46.94429481523506
               ],
               [
                13.775178420200247,
                46.95308388871289
               ],
               [
                13.772503550644952,
                46.97752606122732
               ],
               [
                13.745452203876248,
                46.99433500902197
               ],
               [
                13.734469752503118,
                46.989689390217244
               ],
               [
                13.709456470156246,
                46.995920239824315
               ],
               [
                13.699971212552787,
                47.00373416925072
               ],
               [
                13.694418985696819,
                47.006567866539214
               ],
               [
                13.687294263033758,
                47.040272331049636
               ],
               [
                13.646281462001092,
                47.04076085715979
               ],
               [
                13.638386780619035,
                47.05595615645852
               ],
               [
                13.616416375553941,
                47.05960848554598
               ],
               [
                13.594973907722657,
                47.05642034540644
               ],
               [
                13.58151940726768,
                47.052465464606904
               ],
               [
                13.55968253082931,
                47.05636760720394
               ],
               [
                13.52228685019597,
                47.06897297022607
               ],
               [
                13.45868628027679,
                47.08077274124282
               ],
               [
                13.428297990515672,
                47.08184101052377
               ],
               [
                13.407077873311675,
                47.06971440962606
               ],
               [
                13.382771454698679,
                47.08076535509854
               ],
               [
                13.380842508272595,
                47.09292980003284
               ],
               [
                13.35523438896101,
                47.09757401910119
               ],
               [
                13.300625663117774,
                47.0882297193104
               ],
               [
                13.278019992673432,
                47.095622765572124
               ],
               [
                13.250508947553831,
                47.08797979402657
               ],
               [
                13.240083187844244,
                47.071998940770634
               ],
               [
                13.248823483572613,
                47.05104360662486
               ],
               [
                13.215414368289645,
                47.04454222614916
               ],
               [
                13.185309478157487,
                47.04420857514951
               ],
               [
                13.162662253075153,
                47.0375092375636
               ],
               [
                13.133886674370611,
                47.035273804366945
               ],
               [
                13.12764659663953,
                47.02751764167589
               ],
               [
                13.081009137784807,
                47.02727945325202
               ],
               [
                13.07369289080536,
                47.01388016337656
               ],
               [
                13.020528115196166,
                47.03064906320971
               ],
               [
                13.00375436875033,
                47.04434602504736
               ],
               [
                12.986013308316,
                47.036076630230546
               ],
               [
                12.965501762181598,
                47.03947411632989
               ],
               [
                12.953662134783846,
                47.049733150953976
               ],
               [
                12.938188217379329,
                47.07664981745189
               ],
               [
                12.919987751387149,
                47.08208757186024
               ],
               [
                12.89316386208255,
                47.08176740345311
               ],
               [
                12.871525037978646,
                47.086745990657306
               ],
               [
                12.860370654083598,
                47.081164208243386
               ],
               [
                12.837399989940888,
                47.083283319763986
               ],
               [
                12.82092307148572,
                47.09815035813142
               ],
               [
                12.782232376128615,
                47.093476847768066
               ],
               [
                12.773405544622427,
                47.101429087267256
               ],
               [
                12.739481428690597,
                47.10080555350925
               ],
               [
                12.731529490464828,
                47.13148583480726
               ],
               [
                12.705108060952291,
                47.12250679930348
               ],
               [
                12.666759914417947,
                47.12332832597829
               ],
               [
                12.671358686482467,
                47.10730687280484
               ],
               [
                12.65745397307417,
                47.10000921350448
               ],
               [
                12.640102920846877,
                47.10568305827087
               ],
               [
                12.617204982590405,
                47.121965270901875
               ],
               [
                12.592847941925221,
                47.12536941093126
               ],
               [
                12.566984859954406,
                47.13652421216914
               ],
               [
                12.553409755335721,
                47.128109537891675
               ],
               [
                12.528536640961478,
                47.138146278861065
               ],
               [
                12.52216481525686,
                47.15112368826818
               ],
               [
                12.484119551631274,
                47.15834918723919
               ],
               [
                12.466152733668684,
                47.14485684341726
               ],
               [
                12.435224740489941,
                47.15099471080652
               ],
               [
                12.413516440020938,
                47.14393188520044
               ],
               [
                12.400109764448992,
                47.15330715375048
               ],
               [
                12.363857456172411,
                47.14188976330796
               ],
               [
                12.359268526058557,
                47.11729796791754
               ],
               [
                12.346194507937303,
                47.10977199925601
               ],
               [
                12.313713958074965,
                47.10342381640998
               ],
               [
                12.309205452078082,
                47.093642493282985
               ],
               [
                12.284347357622847,
                47.09305169352613
               ],
               [
                12.262013037562971,
                47.07322140875678
               ],
               [
                12.2413077362019,
                47.0696691922961
               ],
               [
                12.227578785409863,
                47.082580624141606
               ],
               [
                12.186515987650695,
                47.09265121173166
               ],
               [
                12.152095619509028,
                47.07978337988594
               ],
               [
                12.136563065537015,
                47.08117287622881
               ],
               [
                12.125746216545485,
                47.09306657018742
               ],
               [
                12.12839487270448,
                47.11018609126433
               ],
               [
                12.115169922590994,
                47.122203084216125
               ],
               [
                12.111218527367994,
                47.14016156715887
               ],
               [
                12.093816076542643,
                47.1465666351483
               ],
               [
                12.092446039173796,
                47.167828898122146
               ],
               [
                12.083339038812811,
                47.19623913868105
               ],
               [
                12.103197823610817,
                47.23701198405247
               ],
               [
                12.11063890288777,
                47.240914107737495
               ],
               [
                12.101334360455162,
                47.25869341172984
               ],
               [
                12.079128713460088,
                47.2757098105495
               ],
               [
                12.11510611639261,
                47.30697630226541
               ],
               [
                12.144869364045602,
                47.28944403929807
               ],
               [
                12.165190652009544,
                47.302070968153764
               ],
               [
                12.208713292707953,
                47.30265461671045
               ],
               [
                12.219555502585873,
                47.31166016632244
               ],
               [
                12.23787459031698,
                47.30197876846341
               ],
               [
                12.255274248068567,
                47.308492575787355
               ],
               [
                12.26469680402087,
                47.302737958499804
               ],
               [
                12.29709225105455,
                47.32861896847839
               ],
               [
                12.335847195220238,
                47.32904595217747
               ],
               [
                12.375184632032676,
                47.31183380366383
               ],
               [
                12.410950650892074,
                47.31414014546518
               ],
               [
                12.442477739583595,
                47.32913818060849
               ],
               [
                12.47892794361953,
                47.32691804673216
               ],
               [
                12.495824472606328,
                47.337934519244136
               ],
               [
                12.498287065001747,
                47.34762215541372
               ],
               [
                12.479584754081941,
                47.3687592659282
               ],
               [
                12.506709801887519,
                47.39466054702915
               ],
               [
                12.523421411252983,
                47.391163505741474
               ],
               [
                12.545923383219147,
                47.39857129096823
               ],
               [
                12.564064539248124,
                47.3996060801711
               ],
               [
                12.579239110558524,
                47.39302595470468
               ],
               [
                12.600446912224152,
                47.4123145053918
               ],
               [
                12.625210119948115,
                47.42304578369214
               ],
               [
                12.632932295917886,
                47.43262662016478
               ],
               [
                12.63841011934598,
                47.449880463540474
               ],
               [
                12.631593995725854,
                47.458935931197075
               ],
               [
                12.645334360914383,
                47.4687230957063
               ],
               [
                12.665881683918592,
                47.46533801302577
               ],
               [
                12.700242570693662,
                47.478420972040745
               ],
               [
                12.66577856852797,
                47.506608310620834
               ],
               [
                12.654781132911396,
                47.537313628251376
               ],
               [
                12.628812166063684,
                47.55009203074107
               ],
               [
                12.642278227416412,
                47.55504836533369
               ],
               [
                12.65264976663745,
                47.570291468444275
               ],
               [
                12.667254000705457,
                47.57917454243514
               ],
               [
                12.65419857029272,
                47.588577333129926
               ],
               [
                12.64140092643676,
                47.59385746008402
               ],
               [
                12.575169718579502,
                47.60554298174406
               ],
               [
                12.575671173996357,
                47.63287248306274
               ],
               [
                12.604048268307398,
                47.6727760926551
               ],
               [
                12.63039939214773,
                47.676767051002514
               ],
               [
                12.649262750074886,
                47.67074488796411
               ],
               [
                12.666747110925177,
                47.681601063825426
               ],
               [
                12.732530077407366,
                47.68022936053186
               ],
               [
                12.77913266456366,
                47.66146590299684
               ],
               [
                12.759074039370203,
                47.65343890992717
               ],
               [
                12.781610855060483,
                47.63320398041559
               ],
               [
                12.790371955841358,
                47.63377118966573
               ],
               [
                12.825166423208413,
                47.61264887706406
               ],
               [
                12.808043378020143,
                47.61079995464941
               ],
               [
                12.791999191759652,
                47.5989133343212
               ],
               [
                12.779924021425268,
                47.57982895908442
               ],
               [
                12.787027432090216,
                47.568563402594556
               ],
               [
                12.795199865549318,
                47.55736292234183
               ],
               [
                12.818399822630056,
                47.54543456631626
               ],
               [
                12.848355105396745,
                47.54616393832658
               ],
               [
                12.852366258120906,
                47.531336915679624
               ],
               [
                12.880188881794028,
                47.52270716600276
               ],
               [
                12.885148399969717,
                47.513288790813
               ],
               [
                12.909369850344008,
                47.49748818459485
               ],
               [
                12.932607417682904,
                47.48827956766036
               ],
               [
                12.972068877337929,
                47.47466857594025
               ],
               [
                12.981779402843307,
                47.483485640615356
               ],
               [
                13.001745255855564,
                47.46453514202381
               ],
               [
                13.018562641476427,
                47.47520229379683
               ],
               [
                13.02758104811741,
                47.48721957640608
               ],
               [
                13.048343414707134,
                47.492694050746024
               ],
               [
                13.0467571299856,
                47.52103158439202
               ],
               [
                13.0324017161556,
                47.536062297843735
               ],
               [
                13.056408732149052,
                47.557871753194824
               ],
               [
                13.04227874786716,
                47.57702363013788
               ],
               [
                13.044356725239501,
                47.583899290583
               ],
               [
                13.0722176114832,
                47.59043485415212
               ],
               [
                13.063311510341627,
                47.60199507171266
               ],
               [
                13.09866405774121,
                47.63425768730817
               ],
               [
                13.077580447103273,
                47.67138437620282
               ],
               [
                13.079347346225909,
                47.6885093165718
               ],
               [
                13.06157583093924,
                47.69769298926993
               ],
               [
                13.046655715833205,
                47.71324964441585
               ],
               [
                13.00900977496067,
                47.7227161176732
               ],
               [
                12.987904494495814,
                47.70796442547316
               ],
               [
                12.933877104345207,
                47.710099552182726
               ],
               [
                12.913682023678687,
                47.717920202808685
               ],
               [
                12.905272200343756,
                47.728014132595106
               ],
               [
                12.921997561445613,
                47.744726126747196
               ],
               [
                12.931680284952254,
                47.7454122908946
               ],
               [
                12.944168907125688,
                47.76346628617512
               ],
               [
                12.939950086076395,
                47.7852614695968
               ],
               [
                12.970860002488353,
                47.8074370805676
               ],
               [
                12.98978532484958,
                47.832534232796654
               ],
               [
                13.002829454932984,
                47.84170102192875
               ],
               [
                13.002108047430244,
                47.85496420908995
               ],
               [
                12.988315477810907,
                47.86976329232058
               ],
               [
                12.96717386706399,
                47.9012416846387
               ],
               [
                12.944467422206758,
                47.926531404912396
               ],
               [
                12.93997721548016,
                47.93723917877469
               ],
               [
                12.920045350712172,
                47.94285033639901
               ],
               [
                12.921401420928925,
                47.95146611060857
               ],
               [
                12.912198284263061,
                47.957688185756034
               ],
               [
                12.881223672916718,
                47.961053721552084
               ],
               [
                12.871820993962052,
                47.967020188293056
               ],
               [
                12.86088959690731,
                47.99723089391568
               ],
               [
                12.890672123907757,
                47.99150922151449
               ],
               [
                12.912326251343378,
                48.02336110691883
               ],
               [
                12.938794024086247,
                48.03655378472327
               ],
               [
                12.940234149971177,
                48.036994092995705
               ],
               [
                12.962153171469591,
                48.03334762085566
               ],
               [
                12.973593909957328,
                48.024092617906796
               ],
               [
                12.99033983971967,
                48.028428310448234
               ],
               [
                13.01303093487179,
                48.03710160969214
               ],
               [
                13.029747807676841,
                48.03309647811081
               ],
               [
                13.0477425732328,
                48.03795347378263
               ],
               [
                13.047942372223341,
                48.02784954404842
               ],
               [
                13.058399902054074,
                48.0138781323072
               ],
               [
                13.103509611940929,
                47.99814389805751
               ],
               [
                13.104679932443288,
                47.9973348993728
               ],
               [
                13.124995546580353,
                47.99676404709405
               ],
               [
                13.145922802944359,
                47.97492426122499
               ],
               [
                13.199432981972263,
                47.97475031105499
               ],
               [
                13.210633201710504,
                47.97952053508733
               ],
               [
                13.213462576661653,
                47.98304537035671
               ],
               [
                13.243453938930724,
                47.99256216630181
               ],
               [
                13.257739324477054,
                47.99177805174646
               ],
               [
                13.30470126151509,
                48.00844773145437
               ],
               [
                13.30199772896553,
                47.995935901175955
               ],
               [
                13.324833675764625,
                47.99289185716716
               ],
               [
                13.372433816964902,
                47.97255316137185
               ],
               [
                13.361538037048387,
                47.955978212335594
               ],
               [
                13.363899067124235,
                47.944650609719325
               ],
               [
                13.359317945365092,
                47.94032978871332
               ],
               [
                13.340370893896262,
                47.94446341416352
               ],
               [
                13.338053780558313,
                47.954776113107535
               ],
               [
                13.308305386852295,
                47.964587650616565
               ],
               [
                13.281051844447191,
                47.955287621129074
               ],
               [
                13.28596397625165,
                47.928448961936446
               ],
               [
                13.281888759941667,
                47.90520221504385
               ],
               [
                13.270871494943625,
                47.891993523241105
               ],
               [
                13.276176908502721,
                47.879160464777776
               ],
               [
                13.293889782637898,
                47.86432091652677
               ],
               [
                13.287164601314913,
                47.83077934971909
               ],
               [
                13.308778302920036,
                47.82225122218704
               ],
               [
                13.312964897658228,
                47.81338362346725
               ],
               [
                13.351724651095312,
                47.81049488687009
               ],
               [
                13.393957421567334,
                47.79530009230283
               ],
               [
                13.398849442188165,
                47.79844364754232
               ],
               [
                13.451191675078974,
                47.80429341887363
               ],
               [
                13.484511289095584,
                47.79998448891715
               ],
               [
                13.491362176743541,
                47.78972824335878
               ],
               [
                13.511752541024057,
                47.79750739773911
               ],
               [
                13.530261084681209,
                47.79757025282514
               ],
               [
                13.536170688480274,
                47.77668107103932
               ],
               [
                13.51601511400202,
                47.772557268928
               ],
               [
                13.466056518915638,
                47.78669928819231
               ],
               [
                13.447086368217878,
                47.77255021084186
               ],
               [
                13.437044064399783,
                47.73909342348027
               ],
               [
                13.477370979698803,
                47.72473125857403
               ],
               [
                13.551652205865423,
                47.71465205581413
               ],
               [
                13.536404696257424,
                47.69583113716994
               ],
               [
                13.534476584956707,
                47.68491350241405
               ],
               [
                13.51772234921809,
                47.67606585346152
               ],
               [
                13.500814203853798,
                47.66953074871557
               ],
               [
                13.501161404579053,
                47.659439099253035
               ],
               [
                13.484863443678226,
                47.64207122151538
               ],
               [
                13.490632581940691,
                47.63085555988478
               ],
               [
                13.521053258892575,
                47.62370726910291
               ],
               [
                13.507093170569451,
                47.6012763494509
               ],
               [
                13.506033490577202,
                47.5825112248718
               ],
               [
                13.47908881547972,
                47.568656909194765
               ],
               [
                13.482039721354713,
                47.562245689143815
               ],
               [
                13.485529836861907,
                47.553347344138636
               ],
               [
                13.477502477804828,
                47.53083284465746
               ],
               [
                13.490813740646713,
                47.51377416410763
               ],
               [
                13.502759692442385,
                47.51222954480216
               ],
               [
                13.516932398814733,
                47.497016419942995
               ],
               [
                13.53507592650793,
                47.49544294681517
               ],
               [
                13.58643460518265,
                47.47530669240729
               ],
               [
                13.593441625432567,
                47.46155748983778
               ],
               [
                13.564894484649722,
                47.4185699882216
               ],
               [
                13.565432474261243,
                47.4176703022323
               ],
               [
                13.565318583402352,
                47.41718973057866
               ],
               [
                13.57306408464016,
                47.39359936234706
               ],
               [
                13.582508889411763,
                47.38286203895957
               ],
               [
                13.604298441617575,
                47.330176404660676
               ],
               [
                13.598459281840173,
                47.29409972906839
               ],
               [
                13.608348897975546,
                47.28404782593422
               ],
               [
                13.631903267015689,
                47.27471121358447
               ],
               [
                13.654424148110406,
                47.27702790025776
               ],
               [
                13.696382619592985,
                47.26555090885081
               ],
               [
                13.696593391016176,
                47.26056487396344
               ],
               [
                13.712637994644696,
                47.259979708655045
               ],
               [
                13.720481628800998,
                47.27626402235923
               ],
               [
                13.752131876321478,
                47.276495873168784
               ],
               [
                13.761420728666591,
                47.266747734768266
               ],
               [
                13.78471466144228,
                47.275725164612666
               ],
               [
                13.805323514142584,
                47.293189737310065
               ],
               [
                13.826133245704607,
                47.293680362447944
               ],
               [
                13.824408978168938,
                47.26748574395234
               ],
               [
                13.86497429614836,
                47.25264121720441
               ],
               [
                13.869234110805834,
                47.242904241214916
               ],
               [
                13.85090964242925,
                47.23011358585622
               ],
               [
                13.865537945400298,
                47.220403754696314
               ],
               [
                13.89702880128733,
                47.187711265358416
               ],
               [
                13.897338641709347,
                47.18761101036128
               ],
               [
                13.897404562343882,
                47.187581649621606
               ],
               [
                13.897266900362307,
                47.187279009756885
               ],
               [
                13.920470555133257,
                47.17221247773791
               ],
               [
                13.943547551438872,
                47.16685354493523
               ],
               [
                13.962721603127395,
                47.15811243095302
               ],
               [
                13.962880186881707,
                47.15806109117247
               ],
               [
                13.963012447954492,
                47.157925007907316
               ],
               [
                13.963097717926296,
                47.15774143850479
               ],
               [
                13.993706352989351,
                47.14269611848338
               ],
               [
                13.988621040645056,
                47.12755590298655
               ],
               [
                13.954714923298592,
                47.125760870973735
               ],
               [
                13.944567920682557,
                47.13702331456309
               ],
               [
                13.893230834343731,
                47.11471134815169
               ],
               [
                13.879695833393724,
                47.1010115025522
               ],
               [
                13.879204359999928,
                47.10081918849729
               ],
               [
                13.879341138487497,
                47.100200419348184
               ],
               [
                13.906809642434151,
                47.07108804618045
               ],
               [
                13.906940916465537,
                47.071046874626354
               ],
               [
                13.864524532800607,
                47.02003599569461
               ],
               [
                13.86543482293839,
                46.996633591419254
               ],
               [
                13.845736683529196,
                46.98949488869677
               ],
               [
                13.832586143618208,
                46.96588741675482
               ],
               [
                13.801926313338557,
                46.9515732267686
               ]
              ]
             ],
             "type": "Polygon"
            },
            "properties": {
             "iso": "5",
             "name": "Salzburg"
            },
            "type": "Feature"
           }
          ],
          "type": "FeatureCollection"
         },
         "hovertemplate": "val=1<br>namee=%{location}<extra></extra>",
         "locations": [
          "Salzburg"
         ],
         "name": "1",
         "showlegend": true,
         "showscale": false,
         "subplot": "mapbox",
         "type": "choroplethmapbox",
         "z": [
          1
         ]
        }
       ],
       "layout": {
        "legend": {
         "title": {
          "text": "val"
         },
         "tracegroupgap": 0
        },
        "mapbox": {
         "center": {
          "lat": 47.80949,
          "lon": 13.05501
         },
         "domain": {
          "x": [
           0,
           1
          ],
          "y": [
           0,
           1
          ]
         },
         "style": "carto-positron",
         "zoom": 6
        },
        "margin": {
         "t": 60
        },
        "template": {
         "data": {
          "bar": [
           {
            "error_x": {
             "color": "#2a3f5f"
            },
            "error_y": {
             "color": "#2a3f5f"
            },
            "marker": {
             "line": {
              "color": "#E5ECF6",
              "width": 0.5
             },
             "pattern": {
              "fillmode": "overlay",
              "size": 10,
              "solidity": 0.2
             }
            },
            "type": "bar"
           }
          ],
          "barpolar": [
           {
            "marker": {
             "line": {
              "color": "#E5ECF6",
              "width": 0.5
             },
             "pattern": {
              "fillmode": "overlay",
              "size": 10,
              "solidity": 0.2
             }
            },
            "type": "barpolar"
           }
          ],
          "carpet": [
           {
            "aaxis": {
             "endlinecolor": "#2a3f5f",
             "gridcolor": "white",
             "linecolor": "white",
             "minorgridcolor": "white",
             "startlinecolor": "#2a3f5f"
            },
            "baxis": {
             "endlinecolor": "#2a3f5f",
             "gridcolor": "white",
             "linecolor": "white",
             "minorgridcolor": "white",
             "startlinecolor": "#2a3f5f"
            },
            "type": "carpet"
           }
          ],
          "choropleth": [
           {
            "colorbar": {
             "outlinewidth": 0,
             "ticks": ""
            },
            "type": "choropleth"
           }
          ],
          "contour": [
           {
            "colorbar": {
             "outlinewidth": 0,
             "ticks": ""
            },
            "colorscale": [
             [
              0,
              "#0d0887"
             ],
             [
              0.1111111111111111,
              "#46039f"
             ],
             [
              0.2222222222222222,
              "#7201a8"
             ],
             [
              0.3333333333333333,
              "#9c179e"
             ],
             [
              0.4444444444444444,
              "#bd3786"
             ],
             [
              0.5555555555555556,
              "#d8576b"
             ],
             [
              0.6666666666666666,
              "#ed7953"
             ],
             [
              0.7777777777777778,
              "#fb9f3a"
             ],
             [
              0.8888888888888888,
              "#fdca26"
             ],
             [
              1,
              "#f0f921"
             ]
            ],
            "type": "contour"
           }
          ],
          "contourcarpet": [
           {
            "colorbar": {
             "outlinewidth": 0,
             "ticks": ""
            },
            "type": "contourcarpet"
           }
          ],
          "heatmap": [
           {
            "colorbar": {
             "outlinewidth": 0,
             "ticks": ""
            },
            "colorscale": [
             [
              0,
              "#0d0887"
             ],
             [
              0.1111111111111111,
              "#46039f"
             ],
             [
              0.2222222222222222,
              "#7201a8"
             ],
             [
              0.3333333333333333,
              "#9c179e"
             ],
             [
              0.4444444444444444,
              "#bd3786"
             ],
             [
              0.5555555555555556,
              "#d8576b"
             ],
             [
              0.6666666666666666,
              "#ed7953"
             ],
             [
              0.7777777777777778,
              "#fb9f3a"
             ],
             [
              0.8888888888888888,
              "#fdca26"
             ],
             [
              1,
              "#f0f921"
             ]
            ],
            "type": "heatmap"
           }
          ],
          "heatmapgl": [
           {
            "colorbar": {
             "outlinewidth": 0,
             "ticks": ""
            },
            "colorscale": [
             [
              0,
              "#0d0887"
             ],
             [
              0.1111111111111111,
              "#46039f"
             ],
             [
              0.2222222222222222,
              "#7201a8"
             ],
             [
              0.3333333333333333,
              "#9c179e"
             ],
             [
              0.4444444444444444,
              "#bd3786"
             ],
             [
              0.5555555555555556,
              "#d8576b"
             ],
             [
              0.6666666666666666,
              "#ed7953"
             ],
             [
              0.7777777777777778,
              "#fb9f3a"
             ],
             [
              0.8888888888888888,
              "#fdca26"
             ],
             [
              1,
              "#f0f921"
             ]
            ],
            "type": "heatmapgl"
           }
          ],
          "histogram": [
           {
            "marker": {
             "pattern": {
              "fillmode": "overlay",
              "size": 10,
              "solidity": 0.2
             }
            },
            "type": "histogram"
           }
          ],
          "histogram2d": [
           {
            "colorbar": {
             "outlinewidth": 0,
             "ticks": ""
            },
            "colorscale": [
             [
              0,
              "#0d0887"
             ],
             [
              0.1111111111111111,
              "#46039f"
             ],
             [
              0.2222222222222222,
              "#7201a8"
             ],
             [
              0.3333333333333333,
              "#9c179e"
             ],
             [
              0.4444444444444444,
              "#bd3786"
             ],
             [
              0.5555555555555556,
              "#d8576b"
             ],
             [
              0.6666666666666666,
              "#ed7953"
             ],
             [
              0.7777777777777778,
              "#fb9f3a"
             ],
             [
              0.8888888888888888,
              "#fdca26"
             ],
             [
              1,
              "#f0f921"
             ]
            ],
            "type": "histogram2d"
           }
          ],
          "histogram2dcontour": [
           {
            "colorbar": {
             "outlinewidth": 0,
             "ticks": ""
            },
            "colorscale": [
             [
              0,
              "#0d0887"
             ],
             [
              0.1111111111111111,
              "#46039f"
             ],
             [
              0.2222222222222222,
              "#7201a8"
             ],
             [
              0.3333333333333333,
              "#9c179e"
             ],
             [
              0.4444444444444444,
              "#bd3786"
             ],
             [
              0.5555555555555556,
              "#d8576b"
             ],
             [
              0.6666666666666666,
              "#ed7953"
             ],
             [
              0.7777777777777778,
              "#fb9f3a"
             ],
             [
              0.8888888888888888,
              "#fdca26"
             ],
             [
              1,
              "#f0f921"
             ]
            ],
            "type": "histogram2dcontour"
           }
          ],
          "mesh3d": [
           {
            "colorbar": {
             "outlinewidth": 0,
             "ticks": ""
            },
            "type": "mesh3d"
           }
          ],
          "parcoords": [
           {
            "line": {
             "colorbar": {
              "outlinewidth": 0,
              "ticks": ""
             }
            },
            "type": "parcoords"
           }
          ],
          "pie": [
           {
            "automargin": true,
            "type": "pie"
           }
          ],
          "scatter": [
           {
            "fillpattern": {
             "fillmode": "overlay",
             "size": 10,
             "solidity": 0.2
            },
            "type": "scatter"
           }
          ],
          "scatter3d": [
           {
            "line": {
             "colorbar": {
              "outlinewidth": 0,
              "ticks": ""
             }
            },
            "marker": {
             "colorbar": {
              "outlinewidth": 0,
              "ticks": ""
             }
            },
            "type": "scatter3d"
           }
          ],
          "scattercarpet": [
           {
            "marker": {
             "colorbar": {
              "outlinewidth": 0,
              "ticks": ""
             }
            },
            "type": "scattercarpet"
           }
          ],
          "scattergeo": [
           {
            "marker": {
             "colorbar": {
              "outlinewidth": 0,
              "ticks": ""
             }
            },
            "type": "scattergeo"
           }
          ],
          "scattergl": [
           {
            "marker": {
             "colorbar": {
              "outlinewidth": 0,
              "ticks": ""
             }
            },
            "type": "scattergl"
           }
          ],
          "scattermapbox": [
           {
            "marker": {
             "colorbar": {
              "outlinewidth": 0,
              "ticks": ""
             }
            },
            "type": "scattermapbox"
           }
          ],
          "scatterpolar": [
           {
            "marker": {
             "colorbar": {
              "outlinewidth": 0,
              "ticks": ""
             }
            },
            "type": "scatterpolar"
           }
          ],
          "scatterpolargl": [
           {
            "marker": {
             "colorbar": {
              "outlinewidth": 0,
              "ticks": ""
             }
            },
            "type": "scatterpolargl"
           }
          ],
          "scatterternary": [
           {
            "marker": {
             "colorbar": {
              "outlinewidth": 0,
              "ticks": ""
             }
            },
            "type": "scatterternary"
           }
          ],
          "surface": [
           {
            "colorbar": {
             "outlinewidth": 0,
             "ticks": ""
            },
            "colorscale": [
             [
              0,
              "#0d0887"
             ],
             [
              0.1111111111111111,
              "#46039f"
             ],
             [
              0.2222222222222222,
              "#7201a8"
             ],
             [
              0.3333333333333333,
              "#9c179e"
             ],
             [
              0.4444444444444444,
              "#bd3786"
             ],
             [
              0.5555555555555556,
              "#d8576b"
             ],
             [
              0.6666666666666666,
              "#ed7953"
             ],
             [
              0.7777777777777778,
              "#fb9f3a"
             ],
             [
              0.8888888888888888,
              "#fdca26"
             ],
             [
              1,
              "#f0f921"
             ]
            ],
            "type": "surface"
           }
          ],
          "table": [
           {
            "cells": {
             "fill": {
              "color": "#EBF0F8"
             },
             "line": {
              "color": "white"
             }
            },
            "header": {
             "fill": {
              "color": "#C8D4E3"
             },
             "line": {
              "color": "white"
             }
            },
            "type": "table"
           }
          ]
         },
         "layout": {
          "annotationdefaults": {
           "arrowcolor": "#2a3f5f",
           "arrowhead": 0,
           "arrowwidth": 1
          },
          "autotypenumbers": "strict",
          "coloraxis": {
           "colorbar": {
            "outlinewidth": 0,
            "ticks": ""
           }
          },
          "colorscale": {
           "diverging": [
            [
             0,
             "#8e0152"
            ],
            [
             0.1,
             "#c51b7d"
            ],
            [
             0.2,
             "#de77ae"
            ],
            [
             0.3,
             "#f1b6da"
            ],
            [
             0.4,
             "#fde0ef"
            ],
            [
             0.5,
             "#f7f7f7"
            ],
            [
             0.6,
             "#e6f5d0"
            ],
            [
             0.7,
             "#b8e186"
            ],
            [
             0.8,
             "#7fbc41"
            ],
            [
             0.9,
             "#4d9221"
            ],
            [
             1,
             "#276419"
            ]
           ],
           "sequential": [
            [
             0,
             "#0d0887"
            ],
            [
             0.1111111111111111,
             "#46039f"
            ],
            [
             0.2222222222222222,
             "#7201a8"
            ],
            [
             0.3333333333333333,
             "#9c179e"
            ],
            [
             0.4444444444444444,
             "#bd3786"
            ],
            [
             0.5555555555555556,
             "#d8576b"
            ],
            [
             0.6666666666666666,
             "#ed7953"
            ],
            [
             0.7777777777777778,
             "#fb9f3a"
            ],
            [
             0.8888888888888888,
             "#fdca26"
            ],
            [
             1,
             "#f0f921"
            ]
           ],
           "sequentialminus": [
            [
             0,
             "#0d0887"
            ],
            [
             0.1111111111111111,
             "#46039f"
            ],
            [
             0.2222222222222222,
             "#7201a8"
            ],
            [
             0.3333333333333333,
             "#9c179e"
            ],
            [
             0.4444444444444444,
             "#bd3786"
            ],
            [
             0.5555555555555556,
             "#d8576b"
            ],
            [
             0.6666666666666666,
             "#ed7953"
            ],
            [
             0.7777777777777778,
             "#fb9f3a"
            ],
            [
             0.8888888888888888,
             "#fdca26"
            ],
            [
             1,
             "#f0f921"
            ]
           ]
          },
          "colorway": [
           "#636efa",
           "#EF553B",
           "#00cc96",
           "#ab63fa",
           "#FFA15A",
           "#19d3f3",
           "#FF6692",
           "#B6E880",
           "#FF97FF",
           "#FECB52"
          ],
          "font": {
           "color": "#2a3f5f"
          },
          "geo": {
           "bgcolor": "white",
           "lakecolor": "white",
           "landcolor": "#E5ECF6",
           "showlakes": true,
           "showland": true,
           "subunitcolor": "white"
          },
          "hoverlabel": {
           "align": "left"
          },
          "hovermode": "closest",
          "mapbox": {
           "style": "light"
          },
          "paper_bgcolor": "white",
          "plot_bgcolor": "#E5ECF6",
          "polar": {
           "angularaxis": {
            "gridcolor": "white",
            "linecolor": "white",
            "ticks": ""
           },
           "bgcolor": "#E5ECF6",
           "radialaxis": {
            "gridcolor": "white",
            "linecolor": "white",
            "ticks": ""
           }
          },
          "scene": {
           "xaxis": {
            "backgroundcolor": "#E5ECF6",
            "gridcolor": "white",
            "gridwidth": 2,
            "linecolor": "white",
            "showbackground": true,
            "ticks": "",
            "zerolinecolor": "white"
           },
           "yaxis": {
            "backgroundcolor": "#E5ECF6",
            "gridcolor": "white",
            "gridwidth": 2,
            "linecolor": "white",
            "showbackground": true,
            "ticks": "",
            "zerolinecolor": "white"
           },
           "zaxis": {
            "backgroundcolor": "#E5ECF6",
            "gridcolor": "white",
            "gridwidth": 2,
            "linecolor": "white",
            "showbackground": true,
            "ticks": "",
            "zerolinecolor": "white"
           }
          },
          "shapedefaults": {
           "line": {
            "color": "#2a3f5f"
           }
          },
          "ternary": {
           "aaxis": {
            "gridcolor": "white",
            "linecolor": "white",
            "ticks": ""
           },
           "baxis": {
            "gridcolor": "white",
            "linecolor": "white",
            "ticks": ""
           },
           "bgcolor": "#E5ECF6",
           "caxis": {
            "gridcolor": "white",
            "linecolor": "white",
            "ticks": ""
           }
          },
          "title": {
           "x": 0.05
          },
          "xaxis": {
           "automargin": true,
           "gridcolor": "white",
           "linecolor": "white",
           "ticks": "",
           "title": {
            "standoff": 15
           },
           "zerolinecolor": "white",
           "zerolinewidth": 2
          },
          "yaxis": {
           "automargin": true,
           "gridcolor": "white",
           "linecolor": "white",
           "ticks": "",
           "title": {
            "standoff": 15
           },
           "zerolinecolor": "white",
           "zerolinewidth": 2
          }
         }
        }
       }
      },
      "text/html": [
       "<div>                            <div id=\"eb03ea1a-de4a-48e4-97b6-2382901e0a0b\" class=\"plotly-graph-div\" style=\"height:525px; width:100%;\"></div>            <script type=\"text/javascript\">                require([\"plotly\"], function(Plotly) {                    window.PLOTLYENV=window.PLOTLYENV || {};                                    if (document.getElementById(\"eb03ea1a-de4a-48e4-97b6-2382901e0a0b\")) {                    Plotly.newPlot(                        \"eb03ea1a-de4a-48e4-97b6-2382901e0a0b\",                        [{\"colorscale\":[[0.0,\"#636efa\"],[1.0,\"#636efa\"]],\"featureidkey\":\"properties.name\",\"geojson\":{\"type\":\"FeatureCollection\",\"crs\":{\"type\":\"name\",\"properties\":{\"name\":\"urn:ogc:def:crs:OGC:1.3:CRS84\"}},\"features\":[{\"type\":\"Feature\",\"properties\":{\"iso\":\"4\",\"name\":\"Ober\\u00f6sterreich\"},\"geometry\":{\"type\":\"Polygon\",\"coordinates\":[[[-180,-90],[-180,90],[180,90],[180,-90],[-180,-90]],[[13.761468343661337,47.52080646660642],[13.749939780673508,47.502130413530246],[13.739831699315966,47.49706786900644],[13.737698623506096,47.49600878845934],[13.731497960586651,47.49206213229628],[13.728080576019494,47.4893613159391],[13.723525447195547,47.485353432719],[13.72198802603445,47.48316089154389],[13.718057239028633,47.474178710708685],[13.719202960248918,47.47119370242574],[13.723349850747946,47.46261300868679],[13.668442288753072,47.46319994029522],[13.627130645354228,47.46796696682165],[13.60952358993131,47.475643500784486],[13.606457798581054,47.47569432788716],[13.58643460518265,47.47530669240729],[13.53507592650793,47.49544294681517],[13.516932398814733,47.497016419942995],[13.502759692442385,47.51222954480216],[13.490813740646713,47.51377416410763],[13.477502477804828,47.53083284465746],[13.485529836861907,47.553347344138636],[13.482039721354713,47.562245689143815],[13.47908881547972,47.568656909194765],[13.506033490577202,47.5825112248718],[13.507093170569451,47.6012763494509],[13.521053258892575,47.62370726910291],[13.490632581940691,47.63085555988478],[13.484863443678226,47.64207122151538],[13.501161404579053,47.659439099253035],[13.500814203853798,47.66953074871557],[13.51772234921809,47.67606585346152],[13.534476584956707,47.68491350241405],[13.536404696257424,47.69583113716994],[13.551652205865423,47.71465205581413],[13.477370979698803,47.72473125857403],[13.437044064399783,47.73909342348027],[13.447086368217878,47.77255021084186],[13.466056518915638,47.78669928819231],[13.51601511400202,47.772557268928],[13.536170688480274,47.77668107103932],[13.530261084681209,47.79757025282514],[13.511752541024057,47.79750739773911],[13.491362176743541,47.78972824335878],[13.484511289095584,47.79998448891715],[13.451191675078974,47.80429341887363],[13.398849442188165,47.79844364754232],[13.393957421567334,47.79530009230283],[13.351724651095312,47.81049488687009],[13.312964897658228,47.81338362346725],[13.308778302920036,47.82225122218704],[13.287164601314913,47.83077934971909],[13.293889782637898,47.86432091652677],[13.276176908502721,47.879160464777776],[13.270871494943625,47.891993523241105],[13.281888759941667,47.90520221504385],[13.28596397625165,47.928448961936446],[13.281051844447191,47.955287621129074],[13.308305386852295,47.964587650616565],[13.338053780558313,47.954776113107535],[13.340370893896262,47.94446341416352],[13.359317945365092,47.94032978871332],[13.363899067124235,47.944650609719325],[13.361538037048387,47.955978212335594],[13.372433816964902,47.97255316137185],[13.324833675764625,47.99289185716716],[13.30199772896553,47.995935901175955],[13.30470126151509,48.00844773145437],[13.257739324477054,47.99177805174646],[13.243453938930724,47.99256216630181],[13.213462576661653,47.98304537035671],[13.210633201710504,47.97952053508733],[13.199432981972263,47.97475031105499],[13.145922802944359,47.97492426122499],[13.124995546580353,47.99676404709405],[13.104679932443288,47.9973348993728],[13.103509611940929,47.99814389805751],[13.058399902054074,48.0138781323072],[13.047942372223341,48.02784954404842],[13.0477425732328,48.03795347378263],[13.029747807676841,48.03309647811081],[13.01303093487179,48.03710160969214],[12.99033983971967,48.028428310448234],[12.973593909957328,48.024092617906796],[12.962153171469591,48.03334762085566],[12.940234149971177,48.036994092995705],[12.938794024086247,48.03655378472327],[12.912326251343378,48.02336110691883],[12.890672123907757,47.99150922151449],[12.86088959690731,47.99723089391568],[12.849244684020219,48.01830700739781],[12.834700013018569,48.028658574250564],[12.77118249189689,48.06654970967599],[12.753676467533142,48.08744399595454],[12.751335202400906,48.10020168386371],[12.751552952481365,48.112851790624454],[12.765471952409863,48.12951392694786],[12.783679569596007,48.1235397038678],[12.793862775286234,48.13305787836447],[12.800729041927802,48.14779496366545],[12.828638234284856,48.15368514186638],[12.848778092893358,48.16847298306341],[12.872875848203517,48.20274403899485],[12.955926838525826,48.20958125416833],[13.001926459665786,48.2398935841754],[13.023867198179028,48.25892200808435],[13.064929214454004,48.269951866139714],[13.083023403262606,48.27812912386339],[13.126557612157283,48.278684419548746],[13.143393052035135,48.28350646760216],[13.177751556389154,48.29499874155157],[13.196266154506786,48.29607973557583],[13.254464315439044,48.293767929844634],[13.315277079231342,48.317036461259335],[13.342147830083436,48.33230728614129],[13.344649513635373,48.334097967252795],[13.374859460935586,48.357087271798186],[13.408652267619852,48.372780988910925],[13.420980798602951,48.40066409504632],[13.436809057686764,48.42636018234907],[13.435063295836004,48.445749832825314],[13.427748407967163,48.45560317378212],[13.440384108347953,48.47952291162853],[13.444084183251015,48.48588974274162],[13.458086261153824,48.514322165682856],[13.445759074699199,48.52871895143682],[13.451429164773517,48.53601737756275],[13.437824342267492,48.553992558728304],[13.450808218968634,48.564586794774954],[13.475912099655348,48.55662382263038],[13.507671019484409,48.57691769787349],[13.513294273575916,48.59174422185886],[13.529349762801287,48.58737704241167],[13.552344554686877,48.57141423344827],[13.581274014397039,48.5601109633386],[13.602080753938756,48.569478576967384],[13.624560330688572,48.55548840326983],[13.641991248393275,48.55312963299124],[13.661702713591101,48.53731806966126],[13.678015861490508,48.53112866167816],[13.706544781970202,48.518274991722926],[13.727954502215983,48.51364372597261],[13.734258947824607,48.52596028363807],[13.748732694818022,48.53029092761529],[13.744611907990022,48.544397704308295],[13.765182437356478,48.561223347232676],[13.80187293494583,48.57431215484381],[13.801698635625545,48.59553075766928],[13.826655136275003,48.619259129092555],[13.827388039805381,48.63548354298059],[13.81499128284112,48.65023709691268],[13.818245182850438,48.65935197720145],[13.814507764286912,48.690040895507536],[13.834495308856685,48.69254254869852],[13.838233736745138,48.70077110816928],[13.821340890312074,48.69971664740794],[13.80195001550865,48.71724873170448],[13.819973339571344,48.73247269436746],[13.823904972652254,48.75729411622541],[13.840463717347799,48.77227153508407],[13.877862641576309,48.76662326722155],[13.896383493322672,48.757727602553594],[13.92724762079524,48.73533491489665],[13.956444191616976,48.71557915089606],[13.977406252965523,48.71173191576706],[14.004205361825399,48.70922114721568],[14.035657009975328,48.67790687106527],[14.060331383036523,48.674369944628005],[14.053869500901017,48.653283829653915],[14.025529869034388,48.65324141195025],[14.011482244770098,48.64028370707253],[14.023895385856315,48.631341099141494],[14.049060314559261,48.62799434273461],[14.04310872113346,48.613482502820176],[14.055162788030543,48.60475676851697],[14.09650511903674,48.592860288985534],[14.116854475516513,48.589785134558056],[14.133758272655326,48.598123701660924],[14.164464221517843,48.589854667792686],[14.182663976176949,48.594519966840686],[14.222500325540357,48.587052852541504],[14.24881043953586,48.57865226838867],[14.271336029245036,48.581609548435395],[14.27979967823369,48.57484644055533],[14.322950462475491,48.56367499067785],[14.33418381983436,48.55241822217751],[14.342366539673028,48.55529395985451],[14.358871263816061,48.57409447643877],[14.369456314570034,48.570439299168946],[14.39461766316901,48.57808445042035],[14.386748370011437,48.59253413798396],[14.431321578237124,48.58913770117082],[14.444526860039387,48.60475668810137],[14.454202124282817,48.6316198132114],[14.444740090994436,48.64404491084891],[14.467611016584105,48.64676435162258],[14.496888433793918,48.62841717037063],[14.504970937374065,48.617827339496905],[14.54854797028125,48.614236770994516],[14.555868054273956,48.60636490682233],[14.59079058392135,48.61824448258708],[14.608146428788709,48.629157073786615],[14.627733389226787,48.6049617804137],[14.64696335389085,48.6104968000798],[14.664464009697303,48.58255914623143],[14.692011720285441,48.58490113429138],[14.712854848966414,48.57930051866391],[14.737306483179042,48.55338172656353],[14.750652287987648,48.563309497922724],[14.770268116906225,48.55714598188366],[14.783847821000045,48.56087783606439],[14.812165790802133,48.55435262715039],[14.836429426296265,48.54613640733101],[14.850621770741922,48.530508811371654],[14.87611814289651,48.52833018192561],[14.897213901549714,48.5238289122768],[14.921985430272743,48.5063099948914],[14.893294939416279,48.49954977414131],[14.89076823600783,48.487186262239256],[14.869153630242094,48.480598908475066],[14.878035803653248,48.464960439844255],[14.881094512179585,48.45416920340863],[14.899304726976974,48.45118796733097],[14.912746152576975,48.43525708462906],[14.929222197081275,48.42437900230321],[14.948526911209726,48.408275729655884],[14.937347883346334,48.39574046175733],[14.95740686118546,48.391872589945],[14.965473444224912,48.37908036597974],[14.953257592412763,48.35736421106776],[14.948500091153504,48.333932701233394],[14.944707930199018,48.324208641191426],[14.961276585651447,48.32600702599241],[14.987472032851425,48.31986820106699],[14.98610631748662,48.2996683525936],[14.993064821745358,48.256481541981714],[14.970980298747003,48.246307500079254],[14.973991654256002,48.23412855248663],[14.953177334199474,48.2196821319115],[14.964959677962709,48.21546584731094],[14.975168842336695,48.19938089723151],[14.963455418254389,48.2029294757642],[14.94545350829885,48.227828609959246],[14.916367240931041,48.23341980554123],[14.886672858998764,48.23331340585649],[14.862034389001293,48.22759235752868],[14.857647289249964,48.2118790838581],[14.841299518230482,48.194285950254766],[14.76999073359129,48.17966547701552],[14.762575617971853,48.178129269618665],[14.740290996048547,48.17267042780217],[14.716262127184088,48.17922231714081],[14.706108292888453,48.163108765397396],[14.689341081657787,48.157842363591016],[14.644596762205955,48.175797932834875],[14.624220122940233,48.19124240435371],[14.612441211680398,48.19631042542675],[14.592418350473913,48.2186920886637],[14.561823429345107,48.231550653279065],[14.522132481880618,48.23817595459479],[14.516499149962847,48.234626215560816],[14.490542924226713,48.22243831966222],[14.481896255476263,48.202486798133606],[14.48306000462588,48.17905645349892],[14.48378353961489,48.17211995981522],[14.468852302186878,48.14815240152816],[14.47814716570341,48.1333197826741],[14.468606428772844,48.12305447127659],[14.49389428913237,48.110518873200974],[14.479981176313673,48.104966832319896],[14.45884386138352,48.089240084575195],[14.459781254769144,48.0745610655232],[14.457053490765055,48.043583024288864],[14.493029427438513,48.01139393724137],[14.494094797932878,47.998575123780654],[14.532905306714364,47.99045792275939],[14.556069266219266,47.980396427392726],[14.587430121919196,47.966967054520275],[14.61716210344324,47.94862915023496],[14.650014712778617,47.942672396118574],[14.67156135721668,47.9352654799033],[14.704712595954096,47.92612196962043],[14.730122129606695,47.924881191059974],[14.744434403895152,47.91798169387795],[14.772909658327675,47.883535304763846],[14.770512472985631,47.88013032570069],[14.763701002361893,47.872755485397825],[14.735787638691619,47.86407815210144],[14.710944725517333,47.851156452345236],[14.723745270979276,47.83270432549689],[14.711111676729239,47.823894777097955],[14.71405583462424,47.81396770889996],[14.732408062547798,47.799614595586],[14.71282388866229,47.790593876536974],[14.719338953449402,47.7762541323648],[14.736870687936824,47.75941647566353],[14.73941005315781,47.74922605433828],[14.696101815648682,47.76563186599045],[14.67207858588412,47.74202078409811],[14.653187793915182,47.73889317165377],[14.64719231910817,47.72595944262536],[14.614927555842169,47.7309722431711],[14.586942803497031,47.71872300012681],[14.551628887336577,47.71962742888747],[14.522086806658399,47.70450868367179],[14.528528809248565,47.69578050180005],[14.518106779677245,47.68234775055645],[14.489475888040413,47.682544991382265],[14.450235959617695,47.66429724760942],[14.44513459123595,47.65591433582141],[14.421750658643285,47.65707740152773],[14.398364821556784,47.65315467806017],[14.392425738220743,47.636439177631914],[14.362217112276326,47.62963119094089],[14.338644891275344,47.61950817295423],[14.327278040177621,47.608053358296914],[14.297356904842294,47.60838855961336],[14.282830845022065,47.61502399659609],[14.265285012529146,47.61097492007717],[14.23543603938687,47.62843178409581],[14.2239677356011,47.64265234518986],[14.233426356458017,47.65113700471098],[14.20666130571076,47.65304624864519],[14.17845000404205,47.63845605519901],[14.146470255359203,47.637541872008285],[14.09397279775532,47.62004668301488],[14.051621972220863,47.617665896598645],[14.049585353070214,47.637433635069286],[14.056276961668358,47.668402560397155],[14.02068203026115,47.691331947470566],[14.011443723485487,47.70141210052122],[13.984211591060614,47.69778283305983],[13.952538634224577,47.71017744132775],[13.92081228227291,47.705629593831105],[13.896747229395052,47.718005880161456],[13.861138634495047,47.72774375906014],[13.841036098879353,47.71926144413417],[13.793829984048736,47.71296748670543],[13.778469559322653,47.718855464168996],[13.757621275365063,47.7013177222326],[13.737788782944994,47.67463191499944],[13.707306343623786,47.66491161046893],[13.708656979051755,47.65697959312436],[13.694855210566404,47.62373265847468],[13.699304230072531,47.60256985294222],[13.695386003669368,47.579788508969735],[13.736257558962429,47.57753707119247],[13.75673166042166,47.55324076910114],[13.747019627280881,47.54331312621415],[13.761468343661337,47.52080646660642]]]}},{\"type\":\"Feature\",\"properties\":{\"iso\":\"7\",\"name\":\"Tirol\"},\"geometry\":{\"type\":\"MultiPolygon\",\"coordinates\":[[[-180,-90],[-180,90],[180,90],[180,-90],[-180,-90]],[[[12.71233012533157,46.73610222670111],[12.711506966621174,46.70547477003055],[12.69309267928992,46.70209390828986],[12.687289165693864,46.686651136614145],[12.691232045355415,46.657410894876925],[12.658479252176756,46.65769517832306],[12.64230456688071,46.65243476706182],[12.631625940132983,46.66183102423462],[12.604208601298641,46.65658164629696],[12.551821831941057,46.6592016818245],[12.51658024245422,46.67904994315625],[12.480465736997035,46.67770198216768],[12.476610281704172,46.68603860857928],[12.443591270390158,46.68885892151809],[12.427601018191798,46.699541651906166],[12.384616493797905,46.71679024595166],[12.36749824658057,46.74716796586505],[12.357989818873376,46.775431097099634],[12.309518102906122,46.78545457535949],[12.285407420174677,46.783165319008525],[12.292807792064421,46.80310315879473],[12.283477359540774,46.81540837675979],[12.3064550534329,46.83370938839],[12.290243224829153,46.85718765661918],[12.292403018780087,46.865668961217814],[12.275953836816319,46.87426177371216],[12.267235590098487,46.88770735147171],[12.236700642227936,46.889212513891465],[12.228404571915284,46.87910662841477],[12.211599701312783,46.8780889439135],[12.190892949631438,46.90659824637776],[12.160249444103174,46.90957476130014],[12.153125466805731,46.91740377635606],[12.168900331801739,46.93877223303666],[12.15820385625406,46.9513202342975],[12.138808698059078,46.95695960266577],[12.138344549776784,46.98342942521623],[12.13057734673174,46.98862425986296],[12.12517836150055,47.01231335038998],[12.147958404760887,47.025398308757374],[12.172019451766088,47.023524617703046],[12.205425238526889,47.02747342957992],[12.217211260601998,47.04556231114579],[12.217117734740581,47.059184269228524],[12.2413077362019,47.0696691922961],[12.262013037562971,47.07322140875678],[12.284347357622847,47.09305169352613],[12.309205452078082,47.093642493282985],[12.313713958074965,47.10342381640998],[12.346194507937303,47.10977199925601],[12.359268526058557,47.11729796791754],[12.363857456172411,47.14188976330796],[12.400109764448992,47.15330715375048],[12.413516440020938,47.14393188520044],[12.435224740489941,47.15099471080652],[12.466152733668684,47.14485684341726],[12.484119551631274,47.15834918723919],[12.52216481525686,47.15112368826818],[12.528536640961478,47.138146278861065],[12.553409755335721,47.128109537891675],[12.566984859954406,47.13652421216914],[12.592847941925221,47.12536941093126],[12.617204982590405,47.121965270901875],[12.640102920846877,47.10568305827087],[12.65745397307417,47.10000921350448],[12.701908498451656,47.071068580611545],[12.711139270753687,47.048918029984094],[12.735459889891844,47.04216002184202],[12.766556564846313,47.04491082791749],[12.738076270741395,47.00432586864086],[12.725259034839011,46.996264019621535],[12.741707034637624,46.96946262444202],[12.760195755530342,46.957083123434316],[12.77026867605,46.945253428270554],[12.787035542028026,46.940031615688454],[12.794301186939792,46.92694926273792],[12.809081266709512,46.92306590509986],[12.822457903988065,46.917282816401574],[12.837688794160522,46.912955017440304],[12.841788233961834,46.86143803590054],[12.887111065183525,46.84295851763285],[12.896233736030906,46.82625951182353],[12.906100465535685,46.82308241873304],[12.907751826000329,46.82312509676053],[12.964130115063137,46.799096280170424],[12.966424855580245,46.78814217906072],[12.932063228622303,46.7644869313064],[12.90001757068092,46.777294257683835],[12.877624087741452,46.76313641764412],[12.857469906345388,46.7606156930797],[12.84184899894473,46.74978166169015],[12.81436659577459,46.74940001895604],[12.81053552137355,46.75673020780315],[12.796437287251893,46.75578785946756],[12.748810713047153,46.74789735360012],[12.725564407874064,46.743892424702246],[12.71233012533157,46.73610222670111]]],[[[10.241980285294451,46.93217732894803],[10.227899641813437,46.890750436154725],[10.235128468544865,46.8852253704275],[10.232215847533027,46.86727121310299],[10.193956014262476,46.86698589107714],[10.168990705889817,46.851155623568275],[10.145238297465273,46.85154440908232],[10.141093069401869,46.875770287500515],[10.117562744641475,46.885875803279596],[10.098482025389323,46.92790298768985],[10.120952902444445,46.938453812219635],[10.135260228045352,46.955817856200156],[10.14501723827558,46.983936898935745],[10.160079518251028,46.98430100505883],[10.154681979449725,47.005942833950336],[10.131329666237974,47.01358341386765],[10.13482169360016,47.02990924032105],[10.157194869214969,47.049433034931056],[10.151151928447865,47.062388382268],[10.134888226018813,47.064449885950985],[10.133819068224204,47.078450940454225],[10.145164588038519,47.09750224697372],[10.18658508307389,47.12952926210631],[10.207074490221077,47.13146136259523],[10.20368781856436,47.143030699501075],[10.213285659938029,47.158150684308964],[10.211710316078646,47.17190166511134],[10.197135131369317,47.19493937945387],[10.21298205903946,47.2048495614091],[10.213032930370431,47.22488058664695],[10.19804032366062,47.237160867675584],[10.222345968575148,47.25415795243823],[10.174512866296665,47.26446019463785],[10.178645536465902,47.27069713351929],[10.201372926641138,47.276995770568966],[10.222743450867418,47.276419989116384],[10.259691938754488,47.28196020489655],[10.266288710510471,47.28865505761867],[10.281978772586614,47.28831695277041],[10.31545591270295,47.30711827925796],[10.33065744832827,47.30540029588602],[10.349121173422844,47.318092955882655],[10.357204125231444,47.33761060219697],[10.386804890678174,47.35718490116018],[10.397866386018235,47.377468770562636],[10.43710297734825,47.38095220101573],[10.429584061614435,47.39163181830139],[10.438888196973068,47.41413523565365],[10.456533430262736,47.41981089530308],[10.476091031441428,47.433941104646586],[10.47056288397036,47.44912655714745],[10.46410828436005,47.48334052195614],[10.440630713803497,47.4871321714318],[10.436071739417454,47.49596874916789],[10.431652068849283,47.504367657553],[10.454784740316963,47.55640439936932],[10.48926620896677,47.5410105861958],[10.498125945227343,47.53970871906523],[10.524892888428457,47.53577098798303],[10.563211142127875,47.5366620172033],[10.573731595810834,47.53461828716375],[10.580876331699924,47.55640360926453],[10.598325336185692,47.57034681895233],[10.635135003120435,47.55964664261184],[10.678389060117482,47.55683957470178],[10.694984788908458,47.54537995221052],[10.71859197985277,47.539029285535214],[10.74076778515145,47.539131028222776],[10.758912144358344,47.535096387035445],[10.764152619075006,47.520193523854246],[10.777903988538595,47.51451480811328],[10.813544320485656,47.52702382783532],[10.83893000446693,47.52603974293074],[10.853479388909038,47.53396985246694],[10.890757101490792,47.53788257981571],[10.906011266596712,47.5180584268021],[10.870541717765175,47.49827175467401],[10.871607205769115,47.48226669048898],[10.886938386756519,47.480751008143784],[10.912641296877736,47.485860646995725],[10.938890086395313,47.480559572501896],[10.932891523647697,47.46861854793737],[10.984026803957901,47.43059731647898],[10.972720404649525,47.418164219721255],[10.970940520849824,47.40065860428062],[10.991611389241365,47.39670544454503],[11.0167542557938,47.39684246018629],[11.016915960190385,47.396942667282126],[11.055795467927698,47.396539431679486],[11.115875484356785,47.39618258214456],[11.128464478106839,47.41277450416303],[11.158476229220959,47.422179427579366],[11.19942784460175,47.42844431083564],[11.205927770519644,47.43446577874034],[11.253858886540831,47.42880738143148],[11.222750281958714,47.39791652873831],[11.272980984456606,47.39854030142633],[11.290501038691925,47.407830785923565],[11.291466350103867,47.42763457002732],[11.318068285134714,47.43298861342505],[11.33903157850868,47.450482410122085],[11.403168868265846,47.4485777218796],[11.421901414815803,47.44542085366811],[11.409902256481793,47.46730204232505],[11.39042899288409,47.46752504221742],[11.389752612795546,47.48105002183417],[11.417096077317073,47.502862424246125],[11.442191013902988,47.51819447259966],[11.449805081029115,47.50780643545905],[11.488083079952817,47.50957693152529],[11.506146850040585,47.50529945744629],[11.572906336045786,47.51507816567545],[11.588603877017233,47.52602282412697],[11.587382438325307,47.55529345398479],[11.601158293489947,47.56843601122859],[11.606833248456798,47.582200898055675],[11.641471586973534,47.594103063271305],[11.658716174606214,47.584703005235085],[11.700687006938136,47.58954289933092],[11.74581028152095,47.58830393356416],[11.775597820347802,47.59098023991378],[11.829980165390227,47.5826967087124],[11.847900005158875,47.582879654056136],[11.855495271482187,47.60293279106216],[11.894838448795815,47.60902270896207],[12.013323046450049,47.62377412192691],[12.020188506696474,47.61252931897454],[12.064781594351222,47.619253654079756],[12.082923499055312,47.61031407421784],[12.115790016402888,47.612017508149265],[12.129597151207369,47.606216923703954],[12.150031861916291,47.60920679282319],[12.16955742532046,47.61487449259681],[12.17872636069677,47.601455193564554],[12.203592293003872,47.606998386276636],[12.208723546712168,47.614612654664974],[12.199006350197449,47.642710372726214],[12.187436709391607,47.6579028465887],[12.167900236194686,47.68295575427454],[12.163009939575945,47.701745819718006],[12.184063131885566,47.70106441314715],[12.227338542616009,47.718717975649426],[12.250306921230191,47.74213561334429],[12.265584277403327,47.733097239424495],[12.247523040431519,47.71153612765479],[12.243749205764606,47.692245798588196],[12.257777731453256,47.67967269232219],[12.278116815699429,47.6884637754708],[12.327734852169892,47.69594012802555],[12.34060577183242,47.690936631533766],[12.364232391199314,47.68441407004623],[12.429743925513383,47.69693505620811],[12.443620600124268,47.69241295665488],[12.441826884241449,47.67457523030462],[12.465744250133273,47.65029093932677],[12.49198014822265,47.63746068526389],[12.499803947629108,47.62565664235962],[12.525876733696249,47.63130774640288],[12.537000310408652,47.63702813409428],[12.575671173996357,47.63287248306274],[12.575169718579502,47.60554298174406],[12.64140092643676,47.59385746008402],[12.65419857029272,47.588577333129926],[12.667254000705457,47.57917454243514],[12.65264976663745,47.570291468444275],[12.642278227416412,47.55504836533369],[12.628812166063684,47.55009203074107],[12.654781132911396,47.537313628251376],[12.66577856852797,47.506608310620834],[12.700242570693662,47.478420972040745],[12.665881683918592,47.46533801302577],[12.645334360914383,47.4687230957063],[12.631593995725854,47.458935931197075],[12.63841011934598,47.449880463540474],[12.632932295917886,47.43262662016478],[12.625210119948115,47.42304578369214],[12.600446912224152,47.4123145053918],[12.579239110558524,47.39302595470468],[12.564064539248124,47.3996060801711],[12.545923383219147,47.39857129096823],[12.523421411252983,47.391163505741474],[12.506709801887519,47.39466054702915],[12.479584754081941,47.3687592659282],[12.498287065001747,47.34762215541372],[12.495824472606328,47.337934519244136],[12.47892794361953,47.32691804673216],[12.442477739583595,47.32913818060849],[12.410950650892074,47.31414014546518],[12.375184632032676,47.31183380366383],[12.335847195220238,47.32904595217747],[12.29709225105455,47.32861896847839],[12.26469680402087,47.302737958499804],[12.255274248068567,47.308492575787355],[12.23787459031698,47.30197876846341],[12.219555502585873,47.31166016632244],[12.208713292707953,47.30265461671045],[12.165190652009544,47.302070968153764],[12.144869364045602,47.28944403929807],[12.11510611639261,47.30697630226541],[12.079128713460088,47.2757098105495],[12.101334360455162,47.25869341172984],[12.11063890288777,47.240914107737495],[12.103197823610817,47.23701198405247],[12.083339038812811,47.19623913868105],[12.092446039173796,47.167828898122146],[12.093816076542643,47.1465666351483],[12.111218527367994,47.14016156715887],[12.115169922590994,47.122203084216125],[12.12839487270448,47.11018609126433],[12.125746216545485,47.09306657018742],[12.136563065537015,47.08117287622881],[12.119469340613506,47.07372953009371],[12.100389162300718,47.0787985388534],[12.077154858392774,47.06003516037689],[12.040405129464151,47.06086568982713],[12.020475238341728,47.047572324491135],[11.979651686320127,47.05050720828133],[11.916090137410873,47.033000081583275],[11.874554256575438,47.01058333656705],[11.845739604136458,47.002207654818804],[11.8374056663532,46.99391949782302],[11.816187980759828,46.99042495980944],[11.782273026910943,46.992965922779376],[11.76481966779182,46.973253225085976],[11.747511491644236,46.96937375225593],[11.728256335527325,46.97283156363662],[11.711939116687471,46.99373968300861],[11.689009726563677,46.99600783339614],[11.66487129311696,46.99244481043923],[11.635310293936143,47.00367630953714],[11.627675188138149,47.01381147429843],[11.590371019069972,47.00590740705047],[11.581982998068051,46.99788757244939],[11.538988578346366,46.9845920464538],[11.513226881346366,47.00511037656682],[11.47922227755506,47.01149476223324],[11.470306213052073,46.99573839287831],[11.45305672777064,46.99282769052719],[11.435326460860034,46.97460685418696],[11.401963288571936,46.96548911047263],[11.382686709454731,46.9710939939675],[11.359528769857267,46.99071530500912],[11.3403400791481,46.98559732723064],[11.320934047077396,46.99289022413572],[11.249707313919119,46.97469818954958],[11.242153455810783,46.970202792261674],[11.187257697577026,46.96999630650173],[11.164690689459643,46.96624245643064],[11.168525091453635,46.945558943574845],[11.139204811954924,46.92801818564959],[11.115795924779087,46.93200519054684],[11.10933068602422,46.91638607259023],[11.095275117043712,46.908439975708625],[11.10209988836441,46.8904009535611],[11.072278648164861,46.856511119649376],[11.083816711816244,46.823034895659276],[11.057391475013516,46.80862876668446],[11.039751230974153,46.80559384679806],[11.022356313239067,46.766407635614776],[10.996676797572173,46.76754260577238],[10.950918019938145,46.77543748701232],[10.918466048454182,46.775480640103936],[10.883307386795172,46.763350157356136],[10.868900110389038,46.76631982449819],[10.8410027596071,46.78230222062634],[10.814442779653968,46.775634101491846],[10.796274063665109,46.79182505870161],[10.755044511294736,46.78559345143237],[10.73042891089278,46.78895390566651],[10.726359463081936,46.797197726252506],[10.746317916065815,46.80523622016123],[10.764192634454355,46.82314322643978],[10.754853234172025,46.83367269188944],[10.722754882194446,46.83834021457958],[10.717131323919466,46.84754189234478],[10.693373972099304,46.85342456116286],[10.690755522130743,46.86816954781046],[10.667704887958017,46.876013835628775],[10.654169624852765,46.86731717211657],[10.624611924778893,46.864931096001854],[10.570828059279034,46.84292594415854],[10.552657966568367,46.85057542825691],[10.521317420850437,46.845941985172104],[10.46996267298997,46.855441237422134],[10.471575265229449,46.87349217034166],[10.465006260894977,46.88481176200086],[10.48653265298359,46.915994509626],[10.489666046811994,46.938326169306436],[10.457069352258852,46.95194671808583],[10.429887554587635,46.95652593763376],[10.427454470113748,46.97549443609529],[10.389623503508352,47.00107044307413],[10.36870110701773,46.991329118900325],[10.349278533031294,46.99115733402216],[10.32979704120233,46.96481874755466],[10.328126088581413,46.9545226728458],[10.309658609326211,46.95074821813034],[10.307928973913214,46.938640591692135],[10.317283517724988,46.926474189561546],[10.290193742014102,46.923435257940646],[10.241980285294451,46.93217732894803]]],[[[10.454784740316963,47.55640439936932],[10.4335823686779,47.570126062553065],[10.435295566773581,47.58423749428956],[10.462594483590516,47.58632080660947],[10.473692893937676,47.571750097842475],[10.454784740316963,47.55640439936932]]]]}},{\"type\":\"Feature\",\"properties\":{\"iso\":\"6\",\"name\":\"Steiermark\"},\"geometry\":{\"type\":\"Polygon\",\"coordinates\":[[[-180,-90],[-180,90],[180,90],[180,-90],[-180,-90]],[[14.07995175508011,47.022468173402885],[14.073121332291759,47.013099586957885],[14.049786957156686,47.00442833919455],[14.027291972052314,47.00716331524728],[14.015190926013304,47.00253850638903],[14.017229578221421,46.98950806846118],[14.010104357912198,46.97406613430193],[13.993310760137609,46.966553534949746],[13.969360609771583,46.96349357210858],[13.968949867233247,46.96348280803285],[13.968538309836061,46.963662705023765],[13.955708907995142,46.95674770933982],[13.947507687248372,46.941063158253144],[13.93521090591686,46.946050513671636],[13.912002205340182,46.93342637210399],[13.901038160307355,46.934107971912795],[13.882643224723962,46.918247886319385],[13.856883756163148,46.91773715006538],[13.848967970564987,46.909708961881556],[13.816122795820238,46.918944925040236],[13.785429956062647,46.94429481523506],[13.801926313338557,46.9515732267686],[13.832586143618208,46.96588741675482],[13.845736683529196,46.98949488869677],[13.86543482293839,46.996633591419254],[13.864524532800607,47.02003599569461],[13.906940916465537,47.071046874626354],[13.906809642434151,47.07108804618045],[13.879341138487497,47.100200419348184],[13.879204359999928,47.10081918849729],[13.879695833393724,47.1010115025522],[13.893230834343731,47.11471134815169],[13.944567920682557,47.13702331456309],[13.954714923298592,47.125760870973735],[13.988621040645056,47.12755590298655],[13.993706352989351,47.14269611848338],[13.963097717926296,47.15774143850479],[13.963012447954492,47.157925007907316],[13.962880186881707,47.15806109117247],[13.962721603127395,47.15811243095302],[13.943547551438872,47.16685354493523],[13.920470555133257,47.17221247773791],[13.897266900362307,47.187279009756885],[13.897404562343882,47.187581649621606],[13.897338641709347,47.18761101036128],[13.89702880128733,47.187711265358416],[13.865537945400298,47.220403754696314],[13.85090964242925,47.23011358585622],[13.869234110805834,47.242904241214916],[13.86497429614836,47.25264121720441],[13.824408978168938,47.26748574395234],[13.826133245704607,47.293680362447944],[13.805323514142584,47.293189737310065],[13.78471466144228,47.275725164612666],[13.761420728666591,47.266747734768266],[13.752131876321478,47.276495873168784],[13.720481628800998,47.27626402235923],[13.712637994644696,47.259979708655045],[13.696593391016176,47.26056487396344],[13.696382619592985,47.26555090885081],[13.654424148110406,47.27702790025776],[13.631903267015689,47.27471121358447],[13.608348897975546,47.28404782593422],[13.598459281840173,47.29409972906839],[13.604298441617575,47.330176404660676],[13.582508889411763,47.38286203895957],[13.57306408464016,47.39359936234706],[13.565318583402352,47.41718973057866],[13.565432474261243,47.4176703022323],[13.564894484649722,47.4185699882216],[13.593441625432567,47.46155748983778],[13.58643460518265,47.47530669240729],[13.606457798581054,47.47569432788716],[13.60952358993131,47.475643500784486],[13.627130645354228,47.46796696682165],[13.668442288753072,47.46319994029522],[13.723349850747946,47.46261300868679],[13.719202960248918,47.47119370242574],[13.718057239028633,47.474178710708685],[13.72198802603445,47.48316089154389],[13.723525447195547,47.485353432719],[13.728080576019494,47.4893613159391],[13.731497960586651,47.49206213229628],[13.737698623506096,47.49600878845934],[13.739831699315966,47.49706786900644],[13.749939780673508,47.502130413530246],[13.761468343661337,47.52080646660642],[13.747019627280881,47.54331312621415],[13.75673166042166,47.55324076910114],[13.736257558962429,47.57753707119247],[13.695386003669368,47.579788508969735],[13.699304230072531,47.60256985294222],[13.694855210566404,47.62373265847468],[13.708656979051755,47.65697959312436],[13.707306343623786,47.66491161046893],[13.737788782944994,47.67463191499944],[13.757621275365063,47.7013177222326],[13.778469559322653,47.718855464168996],[13.793829984048736,47.71296748670543],[13.841036098879353,47.71926144413417],[13.861138634495047,47.72774375906014],[13.896747229395052,47.718005880161456],[13.92081228227291,47.705629593831105],[13.952538634224577,47.71017744132775],[13.984211591060614,47.69778283305983],[14.011443723485487,47.70141210052122],[14.02068203026115,47.691331947470566],[14.056276961668358,47.668402560397155],[14.049585353070214,47.637433635069286],[14.051621972220863,47.617665896598645],[14.09397279775532,47.62004668301488],[14.146470255359203,47.637541872008285],[14.17845000404205,47.63845605519901],[14.20666130571076,47.65304624864519],[14.233426356458017,47.65113700471098],[14.2239677356011,47.64265234518986],[14.23543603938687,47.62843178409581],[14.265285012529146,47.61097492007717],[14.282830845022065,47.61502399659609],[14.297356904842294,47.60838855961336],[14.327278040177621,47.608053358296914],[14.338644891275344,47.61950817295423],[14.362217112276326,47.62963119094089],[14.392425738220743,47.636439177631914],[14.398364821556784,47.65315467806017],[14.421750658643285,47.65707740152773],[14.44513459123595,47.65591433582141],[14.450235959617695,47.66429724760942],[14.489475888040413,47.682544991382265],[14.518106779677245,47.68234775055645],[14.528528809248565,47.69578050180005],[14.522086806658399,47.70450868367179],[14.551628887336577,47.71962742888747],[14.586942803497031,47.71872300012681],[14.614927555842169,47.7309722431711],[14.64719231910817,47.72595944262536],[14.653187793915182,47.73889317165377],[14.67207858588412,47.74202078409811],[14.696101815648682,47.76563186599045],[14.73941005315781,47.74922605433828],[14.767999140307422,47.72680832604045],[14.819269579383509,47.74470289287024],[14.840936543456952,47.734455560941356],[14.859023679322252,47.7409887172898],[14.877529190807502,47.72654369179427],[14.877607556136835,47.71652896461313],[14.902180082147158,47.71132016828422],[14.928728181599809,47.71113159797813],[14.952018804257285,47.732092382257235],[15.035706064504046,47.75323314290026],[15.056869542551116,47.741370763088156],[15.090243839242723,47.74196041885176],[15.1325735560132,47.748283578875856],[15.135838608061315,47.75848987933565],[15.184314855652772,47.757217094151144],[15.200388859733573,47.75391428634363],[15.211421487478264,47.76361179208629],[15.209161991496238,47.78830676146667],[15.218322314512127,47.79651947522193],[15.23531156918668,47.79929240006719],[15.254603622630391,47.79325050939743],[15.289897333644769,47.791667001937874],[15.300863665722469,47.821535839809684],[15.346243276703072,47.82616515945846],[15.346925043182031,47.826249186043896],[15.380361838950487,47.8241269698417],[15.40563383399547,47.81120321180778],[15.41299205113014,47.78486173763551],[15.434315348991026,47.792019918967945],[15.450946643550024,47.77414311613647],[15.462008553572252,47.77022728271672],[15.507665215871338,47.768276114722354],[15.510935806320322,47.752475389300145],[15.529378899268014,47.74638588258931],[15.552193627802666,47.750003123732654],[15.612778635840087,47.75155994650623],[15.636811423061399,47.71602129895097],[15.652620461834179,47.71810279775747],[15.671313837405439,47.71046755706222],[15.679803235298994,47.699460426682116],[15.69776121399367,47.71336604484472],[15.72022415864135,47.710348509700275],[15.715309746182747,47.698474341959916],[15.729759851658388,47.66463793084631],[15.726176869167379,47.64691254106756],[15.743385204563618,47.642665282292974],[15.750835914671242,47.632667126598214],[15.782412071172095,47.64275498401481],[15.80834704143025,47.635639683389456],[15.822866942434942,47.63840826641071],[15.841385820781568,47.61855100951688],[15.861656754855177,47.61712638773246],[15.845607258050215,47.5867540841157],[15.848095257531307,47.568233165037],[15.889001676065229,47.571663228545006],[15.906504791280582,47.5602465613467],[15.905134135518432,47.542889737734825],[15.914952170030258,47.53086429113109],[15.92159382910158,47.53045538072957],[15.959617616571604,47.518288565732355],[16.0011737999035,47.516271778822365],[16.027415407399957,47.5131133728728],[16.04796887461051,47.491591093623796],[16.066196781158446,47.486763197708626],[16.066292688998367,47.50232744640029],[16.08851086703062,47.5075859254692],[16.098898449606143,47.524509340345666],[16.110455486284074,47.52539764487436],[16.119961352070128,47.51076379059004],[16.11405034426309,47.49754439335263],[16.129276490473146,47.468569583327245],[16.139091177716853,47.46185877434416],[16.13301441035194,47.453855145806486],[16.145163084274714,47.43839302254559],[16.172886654147526,47.422815558741206],[16.166156359074826,47.42116327177202],[16.14280344200388,47.4179271354864],[16.11725178382822,47.414287844703225],[16.11717091242029,47.414448147583876],[16.117119297725143,47.414550435795896],[16.10234051729095,47.41519088750307],[16.108451212408212,47.39711507731017],[16.094078827093952,47.39055322844561],[16.0852164211781,47.40957328984144],[16.073083299470554,47.4043525450399],[16.06151868444872,47.384654579231224],[16.059853481707254,47.38422251850425],[16.031207824176057,47.37970597478303],[16.03513771155023,47.372609388581374],[16.031311541646083,47.37181756540317],[16.03559880144527,47.35602079569435],[16.035391810516092,47.347097944812226],[16.052128652966093,47.333875428865205],[16.060613373182843,47.31509876067745],[16.05954515117926,47.31052991304728],[16.06663247879929,47.284844798131545],[16.075824654328652,47.27508898326515],[16.077360781534356,47.272029102490826],[16.08734952805274,47.24815749706783],[16.0876095236132,47.23394446775257],[16.087034086344694,47.21630786423931],[16.09389190372797,47.200303310663514],[16.092587242563717,47.19885575126069],[16.1036729064834,47.18404808769572],[16.110376439903597,47.16717422393531],[16.116113224442298,47.13357524446511],[16.09587721655735,47.11258253922575],[16.087658233709114,47.08821475263853],[16.08874406362652,47.07317300873451],[16.099443915616142,47.06144298135763],[16.1215777640071,47.04223512118739],[16.131808854757168,47.01249545389773],[16.1466782318192,47.00017165604247],[16.155612859502217,46.99118038671128],[16.122797706919112,46.991033625037204],[16.10882514795755,46.96569165715076],[16.09647318748098,46.95439740236769],[16.095863216016685,46.934706154572254],[16.074125998861334,46.93608590702433],[16.055112530211147,46.91073541274529],[16.038963002660505,46.904962390757994],[16.03645815371421,46.89322253865726],[16.024484607831496,46.888287130351735],[16.010637951627473,46.877444932376065],[16.003733506370054,46.84724756473163],[15.997286839811482,46.83575189334536],[15.987262400261596,46.82698800479157],[15.998572835598079,46.81177695147199],[15.994086224735922,46.80468548794545],[15.985808786699506,46.75242212175702],[15.994909350569658,46.73094737027155],[16.02850540378197,46.70552188118993],[16.043531627230262,46.68587551602577],[16.03914470516575,46.65646806648347],[16.009694428871857,46.66684975345508],[16.002813696016858,46.678771038506824],[15.984683704371768,46.684943388189204],[15.94809862723393,46.68940420519675],[15.921434246571208,46.706338770412806],[15.878182340080068,46.72001462024167],[15.831492674193887,46.7219988263202],[15.804878346802797,46.71638872960096],[15.769974266346846,46.699403867727916],[15.753452296543822,46.698314604491365],[15.725111502802905,46.69623039867571],[15.695124262321022,46.6996790619831],[15.674937467327121,46.70734384378073],[15.6509834865388,46.706106815908505],[15.654981894019475,46.6931205790406],[15.63418311116206,46.681982253102426],[15.615537122667375,46.68251766838437],[15.595953772357266,46.69030156241549],[15.571136759594422,46.68125972769756],[15.547259020768982,46.670502818048625],[15.553998095814935,46.6533667435734],[15.54452477537326,46.6325592034832],[15.532497525565722,46.63115149775681],[15.512796708831035,46.61694717790046],[15.489148566217827,46.62103556935881],[15.464884006129429,46.61493241486585],[15.456045037518427,46.63046429827525],[15.415051452134898,46.655891081643006],[15.383852702594728,46.651976349238936],[15.32161825782718,46.64823710741098],[15.30894205192583,46.6527929285909],[15.2777640275306,46.64392349974317],[15.236850489510207,46.63974157786863],[15.198299306664547,46.64609252394567],[15.18358787520382,46.65638130567122],[15.167643841461945,46.65453287773537],[15.146233103570236,46.66016442793277],[15.125690892368258,46.65435286736521],[15.111563203232347,46.66002596929453],[15.083324497777186,46.6455041061616],[15.066026866155596,46.652413678660864],[15.050200628657269,46.66752685045126],[15.03553985456731,46.666247744571606],[15.03127210295496,46.680966106782996],[15.035452451461474,46.70620539603287],[15.04319487207487,46.72124982171925],[15.032466153019449,46.7460900152983],[15.031711115506777,46.769258774912096],[14.997585924517661,46.78120655629604],[14.977176128181322,46.78516609372807],[14.98278407892554,46.80631986731562],[14.996365244743608,46.82786212536294],[15.013014228794686,46.83298568010733],[15.020553298215097,46.84464167913086],[15.010932372565268,46.85490792600899],[15.00914664683249,46.88025588250889],[15.015835016587198,46.88163179205608],[15.027933551040734,46.910129398885935],[15.018052314932397,46.92307447607448],[14.993629819400251,46.938748042880995],[14.967872797883636,46.98217130876799],[14.950250267336468,46.99340160862021],[14.904908887786597,47.000707982012614],[14.886455410445981,47.01158241607712],[14.874152848680048,47.022937090612494],[14.847889066919606,47.033354163880254],[14.845388056817908,47.048516045243],[14.831452117088059,47.04998795493086],[14.808574801801056,47.03936751757547],[14.768062839526971,47.03891556947538],[14.717567312023563,47.0188200861171],[14.666889885420021,47.0187656311001],[14.628630271459997,47.01399570488198],[14.616143341682346,46.99836701130421],[14.593644751072551,47.00205248394778],[14.586800959408897,47.012136994541535],[14.528041105242723,47.00961778586715],[14.504041844907341,47.01943963772672],[14.505811721126168,47.026254310354275],[14.505888960430317,47.02660506528861],[14.505830654414218,47.026819577808446],[14.478809311547007,47.019823774921285],[14.472712246695759,47.00813448509732],[14.457543111052024,46.99636083759145],[14.431052526978942,47.00090334442819],[14.386753782041158,46.98041966721084],[14.378287353615326,46.99257061911524],[14.38349550536328,47.013213402123995],[14.36429009883292,47.025727661863016],[14.331042737694533,47.02956907438043],[14.262418831747295,47.027364921850214],[14.238527237746181,47.02878700007176],[14.235859426927489,47.0262549850907],[14.225283903545723,47.035907493499664],[14.217307658667586,47.06210725331998],[14.205244519886653,47.07635141837021],[14.175166881769977,47.06269184292928],[14.16352323552446,47.05305614308089],[14.163369136070493,47.0529069819479],[14.163322056111738,47.05286196871287],[14.163153015362708,47.052863654439726],[14.163005901504894,47.052866698998734],[14.160865314918068,47.05339268367749],[14.133380257416142,47.06278356050138],[14.12656393247146,47.045789178330494],[14.102620643088603,47.03854903871134],[14.07995175508011,47.022468173402885]]]}},{\"type\":\"Feature\",\"properties\":{\"iso\":\"1\",\"name\":\"Burgenland\"},\"geometry\":{\"type\":\"Polygon\",\"coordinates\":[[[-180,-90],[-180,90],[180,90],[180,-90],[-180,-90]],[[16.06678069176434,46.85024713809595],[16.06003782636864,46.83934628626895],[16.0291732980365,46.8412558362254],[16.00873950573942,46.831021055471815],[15.997286839811482,46.83575189334536],[16.003733506370054,46.84724756473163],[16.010637951627473,46.877444932376065],[16.024484607831496,46.888287130351735],[16.03645815371421,46.89322253865726],[16.038963002660505,46.904962390757994],[16.055112530211147,46.91073541274529],[16.074125998861334,46.93608590702433],[16.095863216016685,46.934706154572254],[16.09647318748098,46.95439740236769],[16.10882514795755,46.96569165715076],[16.122797706919112,46.991033625037204],[16.155612859502217,46.99118038671128],[16.1466782318192,47.00017165604247],[16.131808854757168,47.01249545389773],[16.1215777640071,47.04223512118739],[16.099443915616142,47.06144298135763],[16.08874406362652,47.07317300873451],[16.087658233709114,47.08821475263853],[16.09587721655735,47.11258253922575],[16.116113224442298,47.13357524446511],[16.110376439903597,47.16717422393531],[16.1036729064834,47.18404808769572],[16.092587242563717,47.19885575126069],[16.09389190372797,47.200303310663514],[16.087034086344694,47.21630786423931],[16.0876095236132,47.23394446775257],[16.08734952805274,47.24815749706783],[16.077360781534356,47.272029102490826],[16.075824654328652,47.27508898326515],[16.06663247879929,47.284844798131545],[16.05954515117926,47.31052991304728],[16.060613373182843,47.31509876067745],[16.052128652966093,47.333875428865205],[16.035391810516092,47.347097944812226],[16.03559880144527,47.35602079569435],[16.031311541646083,47.37181756540317],[16.03513771155023,47.372609388581374],[16.031207824176057,47.37970597478303],[16.059853481707254,47.38422251850425],[16.06151868444872,47.384654579231224],[16.073083299470554,47.4043525450399],[16.0852164211781,47.40957328984144],[16.094078827093952,47.39055322844561],[16.108451212408212,47.39711507731017],[16.10234051729095,47.41519088750307],[16.117119297725143,47.414550435795896],[16.11717091242029,47.414448147583876],[16.11725178382822,47.414287844703225],[16.14280344200388,47.4179271354864],[16.166156359074826,47.42116327177202],[16.172886654147526,47.422815558741206],[16.20813918565573,47.425061662269506],[16.22425090390262,47.427546130534274],[16.254293485122595,47.44850965393688],[16.282215386075524,47.45554843810961],[16.30396688001069,47.46772520135104],[16.321962375015627,47.494129762521254],[16.340833658062486,47.516596893355015],[16.317361386201334,47.54275631104358],[16.314868350429926,47.54313706901066],[16.314308548351796,47.56577283985603],[16.33214677129723,47.58995902128921],[16.345513822736986,47.60323045272716],[16.349125714070194,47.61661015714837],[16.369583532164913,47.62141155680775],[16.373663039060315,47.64292015292044],[16.352902123695365,47.672246483013105],[16.357854029490802,47.67996976703736],[16.32492060617306,47.683765068682256],[16.310194767394016,47.68761613714829],[16.310270995806697,47.69585463338358],[16.296207172109245,47.71575745872823],[16.296792916501126,47.74273567084454],[16.30050171372142,47.76163540806019],[16.29954764188464,47.762180748796006],[16.30493897280584,47.784748313319675],[16.26990582983384,47.79153141325888],[16.287054333094485,47.81191497091851],[16.310152281234046,47.807765146877],[16.308647276171214,47.791262582064405],[16.316783876087396,47.78504548648747],[16.332767934340925,47.80094462332806],[16.34987683583584,47.80623644161276],[16.355927486776668,47.821168011549574],[16.363528014773575,47.82371082539523],[16.378363345157684,47.82777632553025],[16.38919834758694,47.84301955910204],[16.37568267098629,47.85294565849879],[16.349159710733165,47.86860779740351],[16.38378533354836,47.876745671240194],[16.390073086402186,47.88206274966688],[16.40148118036171,47.87643318363829],[16.42399235797815,47.902390028815525],[16.420395365126154,47.913397704203334],[16.45355117337773,47.93472934538395],[16.488114495800545,47.94308583087194],[16.519880338912994,47.94403446695838],[16.54224643325957,47.920135326869],[16.575216093039387,47.88673001222014],[16.58149039670041,47.889066223260116],[16.598523268949155,47.90434950282414],[16.609565164518067,47.912812631723035],[16.633298143923398,47.933867149314686],[16.633108301744457,47.934252798709586],[16.6410092269411,47.94640273171334],[16.666418064279704,47.957530936910004],[16.70094294098219,47.967436298737745],[16.702415028077258,47.97426803846587],[16.703333749597615,48.01211800144924],[16.735352569587675,48.010083140689],[16.76164641758894,48.01437369850825],[16.806653943755222,48.02900287144093],[16.826473741745573,48.02961310632213],[16.82941392948715,48.02962208085997],[16.830830255580732,48.04092177473804],[16.848891451511687,48.05716249227312],[16.87559081145808,48.072628477029504],[16.905543820823528,48.07148113884961],[16.91647862810002,48.05716935601403],[16.92085548395941,48.05147571560489],[16.95087328281823,48.04770962787613],[16.976292679906894,48.03595110794452],[16.970253194865474,48.02666016297122],[16.987902994669824,48.02955639773197],[16.995013966576437,48.04592442782684],[17.017576057228673,48.07398297729012],[17.000042295851486,48.084593508597116],[16.97236095072529,48.10103891283572],[16.987826064315257,48.111876858361576],[16.99913952231395,48.10955362306615],[17.00842227895234,48.09192678271507],[17.03728010739384,48.0847651365395],[17.042696737471054,48.10213221558601],[17.065211620546183,48.11028963500357],[17.06803248727749,48.11914731837325],[17.094000580533788,48.1001085124411],[17.0777204655701,48.08666872545074],[17.07144926976008,48.057470452820844],[17.089074987189413,48.04614086129679],[17.076911746284914,48.02800539864876],[17.091144325780544,48.020246711275156],[17.111343866309962,48.03168689693723],[17.12801511152158,48.02138778652731],[17.145130092897016,48.02065259038626],[17.161935298926956,48.006984757103126],[17.09594500679954,47.97131918360375],[17.118271003007614,47.96134913030367],[17.09218207645644,47.93484114558297],[17.113969847424627,47.9278015017433],[17.096879129981062,47.90473704711519],[17.10544828944552,47.89969921729653],[17.086458274483878,47.874880809147186],[17.07907325714137,47.87798429986375],[17.038403102030173,47.86836524216686],[17.01902100919858,47.868847191495085],[17.01121375335866,47.85879077699617],[17.05281308850614,47.83834360845373],[17.048179489425237,47.82878440880883],[17.07306981925714,47.80864334270468],[17.05222568437135,47.794416188326316],[17.06508695661124,47.77820318448944],[17.072025647950188,47.75037818291143],[17.071681466550487,47.728380502019796],[17.09433925479381,47.70866603875252],[17.072526127422968,47.70706941868255],[17.041396935488848,47.70474151149817],[16.960573826791123,47.69312987818647],[16.913777162266438,47.68810823485625],[16.872863905813308,47.69052798930682],[16.868137249774875,47.72206992801939],[16.84029237851389,47.70500617186971],[16.829552867264493,47.68315865285974],[16.750241869063135,47.68185555760813],[16.74101208962192,47.69567894470131],[16.722725154256636,47.72304332129196],[16.7221569160982,47.73576783849795],[16.658384733517398,47.74199710428662],[16.640918851284688,47.74871582149731],[16.635468660467073,47.759492004113454],[16.623335173485064,47.757680499522294],[16.592148846897434,47.75840243084999],[16.549168867137585,47.75198828329202],[16.543910520056393,47.74279284527235],[16.538758100379358,47.74043621561813],[16.537649482786783,47.73707914119801],[16.55341979245353,47.722958233385654],[16.541637538601265,47.71227701484875],[16.52180252957451,47.71270366930898],[16.49894868797167,47.703851355779726],[16.46114697326414,47.684562237711425],[16.44850268692868,47.696747147926565],[16.444074970112155,47.67420799814852],[16.42271198586272,47.66573361554902],[16.42301537492363,47.66513970052214],[16.451393132080977,47.656232152429716],[16.480334094025935,47.65054335702443],[16.4990040403102,47.639781293504186],[16.517584945012214,47.6458053545153],[16.549992126437314,47.634014802338534],[16.57371316767822,47.62027902923937],[16.591444446847145,47.61788837224751],[16.636189716631165,47.62825857350076],[16.654126220574422,47.622659750775604],[16.67644241483089,47.582488243354874],[16.664341921175087,47.56911880889016],[16.685199735679284,47.5617269023172],[16.69936469822923,47.5460533902057],[16.706796603794682,47.52359980315816],[16.69100246493778,47.51082742345552],[16.653529789907807,47.500738966878146],[16.671674317225754,47.47466011984029],[16.663209980679326,47.45610377625543],[16.62801897414893,47.44204964733458],[16.6129825693761,47.43203196518743],[16.589065967795868,47.423176722198],[16.576918684357114,47.40676173629912],[16.54746180821354,47.406006623486945],[16.519942378888516,47.41033416620982],[16.511130808771714,47.396930871731804],[16.459847255047393,47.41339250103533],[16.446575179767148,47.40713585765219],[16.456375761141643,47.38745618171882],[16.458147893172622,47.367632865886044],[16.434908846373197,47.35331699830962],[16.448838892373303,47.34040146902307],[16.46416260459413,47.33620499840744],[16.490575070855193,47.28067308296332],[16.479297407195627,47.27549179439725],[16.479571119947135,47.26334133503326],[16.431617049479534,47.250740938579185],[16.443893311996078,47.234127568844784],[16.436142585994318,47.21576919103619],[16.41803180478484,47.20572153196821],[16.422232006449335,47.197505643619344],[16.42933551533078,47.18541785738963],[16.451879526304605,47.188671338568774],[16.46537094463205,47.168560300859134],[16.450199494100183,47.1522542678979],[16.45543370779369,47.14268302004034],[16.49160773944707,47.149237547656206],[16.51791749007282,47.14970563810147],[16.530473533131605,47.12761187629998],[16.50101280302869,47.123784312475884],[16.501856024374128,47.11057732235714],[16.465745084773026,47.099319653567676],[16.471976132286557,47.07856958587746],[16.48842011061926,47.06920438586258],[16.521614028479064,47.061905773780346],[16.50768255564679,47.04999676907091],[16.476981578161077,47.04719941284805],[16.45237224704499,47.040448531788385],[16.493657903751792,47.01052417472789],[16.498059533779365,46.99856202179637],[16.42858959695912,46.99349389789891],[16.4137328269122,47.0050969527004],[16.38763991943254,47.00078325393528],[16.350950374479392,47.01076324370864],[16.344047026571417,46.99945511015585],[16.32357551449482,47.002926097638245],[16.30337559930985,46.99879614139104],[16.29984675679729,47.00643749860794],[16.290401726547195,47.013786365579975],[16.278167928079867,46.98812665642441],[16.27751330178366,46.96303194957487],[16.256417448272256,46.96456842287729],[16.247636060681195,46.94989849653995],[16.225180448868265,46.940585767188104],[16.21111924665356,46.94285806746564],[16.198629397307233,46.94031610445278],[16.180304439715954,46.90699779466032],[16.149788280130494,46.89341480765628],[16.13391073720751,46.87590356188067],[16.092997072027956,46.8649338694791],[16.06678069176434,46.85024713809595]]]}},{\"type\":\"Feature\",\"properties\":{\"iso\":\"3\",\"name\":\"Nieder\\u00f6sterreich\"},\"geometry\":{\"type\":\"Polygon\",\"coordinates\":[[[-180,-90],[-180,90],[180,90],[180,-90],[-180,-90]],[[14.859023679322252,47.7409887172898],[14.840936543456952,47.734455560941356],[14.819269579383509,47.74470289287024],[14.767999140307422,47.72680832604045],[14.73941005315781,47.74922605433828],[14.736870687936824,47.75941647566353],[14.719338953449402,47.7762541323648],[14.71282388866229,47.790593876536974],[14.732408062547798,47.799614595586],[14.71405583462424,47.81396770889996],[14.711111676729239,47.823894777097955],[14.723745270979276,47.83270432549689],[14.710944725517333,47.851156452345236],[14.735787638691619,47.86407815210144],[14.763701002361893,47.872755485397825],[14.770512472985631,47.88013032570069],[14.772909658327675,47.883535304763846],[14.744434403895152,47.91798169387795],[14.730122129606695,47.924881191059974],[14.704712595954096,47.92612196962043],[14.67156135721668,47.9352654799033],[14.650014712778617,47.942672396118574],[14.61716210344324,47.94862915023496],[14.587430121919196,47.966967054520275],[14.556069266219266,47.980396427392726],[14.532905306714364,47.99045792275939],[14.494094797932878,47.998575123780654],[14.493029427438513,48.01139393724137],[14.457053490765055,48.043583024288864],[14.459781254769144,48.0745610655232],[14.45884386138352,48.089240084575195],[14.479981176313673,48.104966832319896],[14.49389428913237,48.110518873200974],[14.468606428772844,48.12305447127659],[14.47814716570341,48.1333197826741],[14.468852302186878,48.14815240152816],[14.48378353961489,48.17211995981522],[14.48306000462588,48.17905645349892],[14.481896255476263,48.202486798133606],[14.490542924226713,48.22243831966222],[14.516499149962847,48.234626215560816],[14.522132481880618,48.23817595459479],[14.561823429345107,48.231550653279065],[14.592418350473913,48.2186920886637],[14.612441211680398,48.19631042542675],[14.624220122940233,48.19124240435371],[14.644596762205955,48.175797932834875],[14.689341081657787,48.157842363591016],[14.706108292888453,48.163108765397396],[14.716262127184088,48.17922231714081],[14.740290996048547,48.17267042780217],[14.762575617971853,48.178129269618665],[14.76999073359129,48.17966547701552],[14.841299518230482,48.194285950254766],[14.857647289249964,48.2118790838581],[14.862034389001293,48.22759235752868],[14.886672858998764,48.23331340585649],[14.916367240931041,48.23341980554123],[14.94545350829885,48.227828609959246],[14.963455418254389,48.2029294757642],[14.975168842336695,48.19938089723151],[14.964959677962709,48.21546584731094],[14.953177334199474,48.2196821319115],[14.973991654256002,48.23412855248663],[14.970980298747003,48.246307500079254],[14.993064821745358,48.256481541981714],[14.98610631748662,48.2996683525936],[14.987472032851425,48.31986820106699],[14.961276585651447,48.32600702599241],[14.944707930199018,48.324208641191426],[14.948500091153504,48.333932701233394],[14.953257592412763,48.35736421106776],[14.965473444224912,48.37908036597974],[14.95740686118546,48.391872589945],[14.937347883346334,48.39574046175733],[14.948526911209726,48.408275729655884],[14.929222197081275,48.42437900230321],[14.912746152576975,48.43525708462906],[14.899304726976974,48.45118796733097],[14.881094512179585,48.45416920340863],[14.878035803653248,48.464960439844255],[14.869153630242094,48.480598908475066],[14.89076823600783,48.487186262239256],[14.893294939416279,48.49954977414131],[14.921985430272743,48.5063099948914],[14.897213901549714,48.5238289122768],[14.87611814289651,48.52833018192561],[14.850621770741922,48.530508811371654],[14.836429426296265,48.54613640733101],[14.812165790802133,48.55435262715039],[14.783847821000045,48.56087783606439],[14.770268116906225,48.55714598188366],[14.750652287987648,48.563309497922724],[14.737306483179042,48.55338172656353],[14.712854848966414,48.57930051866391],[14.692011720285441,48.58490113429138],[14.701113985159084,48.583471678533265],[14.722149966098323,48.60298077321272],[14.7151077594782,48.6180518032803],[14.723133394632576,48.63898904615571],[14.71336499165235,48.650707967644244],[14.724472669777027,48.676311334541175],[14.741815895762352,48.70192916499351],[14.773568972612704,48.711730224917325],[14.79572544973719,48.730598494131506],[14.809168671399942,48.7344960035378],[14.80153008598803,48.748002845328614],[14.81253877144841,48.76206627028554],[14.809341910408708,48.77806502815088],[14.830326104712212,48.781107399605155],[14.852181878817733,48.777923113547935],[14.882342884584142,48.78072445072909],[14.88579621158547,48.77250882359555],[14.921546708507114,48.76919253669105],[14.956848398654753,48.75869709834889],[14.964795140959493,48.76376439470882],[14.981895666564009,48.77589765085459],[14.957616229271155,48.788415784070345],[14.958468299942695,48.812305718133075],[14.970802285247165,48.824523199584995],[14.974007616757278,48.875277516000395],[14.984893894656919,48.87536956067583],[14.988924233424953,48.89587550536328],[14.992592733195952,48.897924952233524],[14.987597579730613,48.93655400220849],[14.977567120092008,48.95645929324838],[14.977271983675026,48.97164033989466],[14.985600585735702,48.9872216355702],[14.998904214500996,48.992596779069814],[15.005353467126579,49.01305547084106],[15.022812992417688,49.02110710691864],[15.042099228908315,49.012164319670404],[15.065409577296363,49.01276819604817],[15.065521786415976,49.00037068614388],[15.106734087871311,48.99684216774394],[15.143867901933335,48.99767123230946],[15.159737601373857,48.99054325140897],[15.170831698103676,48.96339393463003],[15.161342075064766,48.94231476511446],[15.225553479801226,48.96076770228801],[15.26255855812254,48.95454931199707],[15.29214555403229,48.98494114769057],[15.322854461001402,48.97675057531134],[15.333353274745471,48.98544725395712],[15.368101804381181,48.98250295977616],[15.394793055648634,48.96582759408947],[15.430661432548153,48.951809598273464],[15.467505287386542,48.95211132255196],[15.50315020303098,48.93658437392267],[15.514528878083652,48.91473021624013],[15.588244408726771,48.89659503797938],[15.62074731263813,48.89621194167688],[15.631471409917879,48.885628839319075],[15.653838173927074,48.88344505351575],[15.693735901258304,48.85612138677834],[15.714647993984212,48.85867165446341],[15.754813010766114,48.85277135409975],[15.78070179590686,48.8754803296086],[15.853171457058004,48.86879097250943],[15.84601101593245,48.859414115410345],[15.880920920912649,48.84851116662518],[15.89775673460313,48.84954295887213],[15.9081605680674,48.836116017351785],[15.936575419927642,48.81952235497927],[15.950817482834143,48.805834672729176],[15.97125874420456,48.79590069494309],[15.995558011186203,48.77991524156204],[16.054037065303667,48.76159626809876],[16.065873871173352,48.75542319950877],[16.090194867501193,48.74839542362075],[16.104099817585876,48.74596959032739],[16.151102353475807,48.743764646460775],[16.155935324730567,48.74902031157777],[16.224719505726494,48.74066613312777],[16.264285845676387,48.737574827656054],[16.274250728184093,48.7418435287689],[16.311593755333266,48.73440528567529],[16.361010096873777,48.72862949553071],[16.3953442757135,48.73698921860521],[16.410757682622602,48.74491264824503],[16.429479266979293,48.76321141135099],[16.436255150512487,48.766193608904615],[16.436491855716394,48.77714519177536],[16.463156068412154,48.80520712708679],[16.524702802914742,48.80033467107963],[16.5353248665462,48.811392841249756],[16.542000845265964,48.81485480531413],[16.566004597313487,48.79446536015221],[16.59451149500001,48.78335314211265],[16.631879025195087,48.780989960875246],[16.652705864057857,48.7857052169362],[16.67593954905407,48.77208904054437],[16.681907876894456,48.75000855247561],[16.67513201282041,48.74325704933307],[16.683822545494962,48.728636164232334],[16.683873797533668,48.72834309100087],[16.702409080926586,48.737093694497275],[16.74857683809169,48.732667015164466],[16.761765907650947,48.717332765208624],[16.828568982943697,48.71163668743322],[16.870747773622107,48.713029457963124],[16.878714370311677,48.722870155660466],[16.906964178022093,48.7145055635808],[16.919345817419334,48.69992581827703],[16.911794492034733,48.67922817018411],[16.92606435562045,48.67280870426336],[16.9219963435055,48.64570296264466],[16.92943013525582,48.63910424232966],[16.919980378225013,48.62330013911954],[16.940796588055385,48.618401585630174],[16.936157671279375,48.602765283027416],[16.939820830949795,48.565899950367346],[16.955234005100213,48.544778812369806],[16.945137686305298,48.522885661518906],[16.92275846876256,48.516293535733425],[16.91554293490548,48.50057396521411],[16.892081439289576,48.49330638737774],[16.88205834710565,48.477981072856906],[16.852800382084176,48.451161785719165],[16.852393823667583,48.43914593522636],[16.86363857989715,48.418210094325694],[16.851575398496355,48.40968555014456],[16.8521879301873,48.384928514886376],[16.834738878580637,48.38008224224319],[16.843469386735883,48.3606382608465],[16.844437265396095,48.351883772389826],[16.908927630316924,48.327164174792905],[16.896031492874016,48.31063944551587],[16.902012085596226,48.298407933490985],[16.928204144341088,48.27165408585444],[16.947455707414665,48.270847159689794],[16.952809324814105,48.25740347742427],[16.948044738147114,48.23483768356291],[16.963378983378938,48.21797099029683],[16.977029751237342,48.19141409657694],[16.977486604087677,48.17271948652772],[17.000957163558905,48.15918756986154],[17.02934085380994,48.14105539754997],[17.058482456671577,48.14419785384474],[17.06346979369657,48.12349492001989],[17.06803248727749,48.11914731837325],[17.065211620546183,48.11028963500357],[17.042696737471054,48.10213221558601],[17.03728010739384,48.0847651365395],[17.00842227895234,48.09192678271507],[16.99913952231395,48.10955362306615],[16.987826064315257,48.111876858361576],[16.97236095072529,48.10103891283572],[17.000042295851486,48.084593508597116],[17.017576057228673,48.07398297729012],[16.995013966576437,48.04592442782684],[16.987902994669824,48.02955639773197],[16.970253194865474,48.02666016297122],[16.976292679906894,48.03595110794452],[16.95087328281823,48.04770962787613],[16.92085548395941,48.05147571560489],[16.91647862810002,48.05716935601403],[16.905543820823528,48.07148113884961],[16.87559081145808,48.072628477029504],[16.848891451511687,48.05716249227312],[16.830830255580732,48.04092177473804],[16.82941392948715,48.02962208085997],[16.826473741745573,48.02961310632213],[16.806653943755222,48.02900287144093],[16.76164641758894,48.01437369850825],[16.735352569587675,48.010083140689],[16.703333749597615,48.01211800144924],[16.702415028077258,47.97426803846587],[16.70094294098219,47.967436298737745],[16.666418064279704,47.957530936910004],[16.6410092269411,47.94640273171334],[16.633108301744457,47.934252798709586],[16.633298143923398,47.933867149314686],[16.609565164518067,47.912812631723035],[16.598523268949155,47.90434950282414],[16.58149039670041,47.889066223260116],[16.575216093039387,47.88673001222014],[16.54224643325957,47.920135326869],[16.519880338912994,47.94403446695838],[16.488114495800545,47.94308583087194],[16.45355117337773,47.93472934538395],[16.420395365126154,47.913397704203334],[16.42399235797815,47.902390028815525],[16.40148118036171,47.87643318363829],[16.390073086402186,47.88206274966688],[16.38378533354836,47.876745671240194],[16.349159710733165,47.86860779740351],[16.37568267098629,47.85294565849879],[16.38919834758694,47.84301955910204],[16.378363345157684,47.82777632553025],[16.363528014773575,47.82371082539523],[16.355927486776668,47.821168011549574],[16.34987683583584,47.80623644161276],[16.332767934340925,47.80094462332806],[16.316783876087396,47.78504548648747],[16.308647276171214,47.791262582064405],[16.310152281234046,47.807765146877],[16.287054333094485,47.81191497091851],[16.26990582983384,47.79153141325888],[16.30493897280584,47.784748313319675],[16.29954764188464,47.762180748796006],[16.30050171372142,47.76163540806019],[16.296792916501126,47.74273567084454],[16.296207172109245,47.71575745872823],[16.310270995806697,47.69585463338358],[16.310194767394016,47.68761613714829],[16.32492060617306,47.683765068682256],[16.357854029490802,47.67996976703736],[16.352902123695365,47.672246483013105],[16.373663039060315,47.64292015292044],[16.369583532164913,47.62141155680775],[16.349125714070194,47.61661015714837],[16.345513822736986,47.60323045272716],[16.33214677129723,47.58995902128921],[16.314308548351796,47.56577283985603],[16.314868350429926,47.54313706901066],[16.317361386201334,47.54275631104358],[16.340833658062486,47.516596893355015],[16.321962375015627,47.494129762521254],[16.30396688001069,47.46772520135104],[16.282215386075524,47.45554843810961],[16.254293485122595,47.44850965393688],[16.22425090390262,47.427546130534274],[16.20813918565573,47.425061662269506],[16.172886654147526,47.422815558741206],[16.145163084274714,47.43839302254559],[16.13301441035194,47.453855145806486],[16.139091177716853,47.46185877434416],[16.129276490473146,47.468569583327245],[16.11405034426309,47.49754439335263],[16.119961352070128,47.51076379059004],[16.110455486284074,47.52539764487436],[16.098898449606143,47.524509340345666],[16.08851086703062,47.5075859254692],[16.066292688998367,47.50232744640029],[16.066196781158446,47.486763197708626],[16.04796887461051,47.491591093623796],[16.027415407399957,47.5131133728728],[16.0011737999035,47.516271778822365],[15.959617616571604,47.518288565732355],[15.92159382910158,47.53045538072957],[15.914952170030258,47.53086429113109],[15.905134135518432,47.542889737734825],[15.906504791280582,47.5602465613467],[15.889001676065229,47.571663228545006],[15.848095257531307,47.568233165037],[15.845607258050215,47.5867540841157],[15.861656754855177,47.61712638773246],[15.841385820781568,47.61855100951688],[15.822866942434942,47.63840826641071],[15.80834704143025,47.635639683389456],[15.782412071172095,47.64275498401481],[15.750835914671242,47.632667126598214],[15.743385204563618,47.642665282292974],[15.726176869167379,47.64691254106756],[15.729759851658388,47.66463793084631],[15.715309746182747,47.698474341959916],[15.72022415864135,47.710348509700275],[15.69776121399367,47.71336604484472],[15.679803235298994,47.699460426682116],[15.671313837405439,47.71046755706222],[15.652620461834179,47.71810279775747],[15.636811423061399,47.71602129895097],[15.612778635840087,47.75155994650623],[15.552193627802666,47.750003123732654],[15.529378899268014,47.74638588258931],[15.510935806320322,47.752475389300145],[15.507665215871338,47.768276114722354],[15.462008553572252,47.77022728271672],[15.450946643550024,47.77414311613647],[15.434315348991026,47.792019918967945],[15.41299205113014,47.78486173763551],[15.40563383399547,47.81120321180778],[15.380361838950487,47.8241269698417],[15.346925043182031,47.826249186043896],[15.346243276703072,47.82616515945846],[15.300863665722469,47.821535839809684],[15.289897333644769,47.791667001937874],[15.254603622630391,47.79325050939743],[15.23531156918668,47.79929240006719],[15.218322314512127,47.79651947522193],[15.209161991496238,47.78830676146667],[15.211421487478264,47.76361179208629],[15.200388859733573,47.75391428634363],[15.184314855652772,47.757217094151144],[15.135838608061315,47.75848987933565],[15.1325735560132,47.748283578875856],[15.090243839242723,47.74196041885176],[15.056869542551116,47.741370763088156],[15.035706064504046,47.75323314290026],[14.952018804257285,47.732092382257235],[14.928728181599809,47.71113159797813],[14.902180082147158,47.71132016828422],[14.877607556136835,47.71652896461313],[14.877529190807502,47.72654369179427],[14.859023679322252,47.7409887172898]],[[16.183076337318866,48.1715330023072],[16.199152862412333,48.155047213300485],[16.223724324814963,48.13598223511378],[16.219275150990406,48.12856427578967],[16.22008970168383,48.124258390061264],[16.237235221850312,48.13050549744734],[16.268386917550586,48.134074710762185],[16.299745048030232,48.12581830557946],[16.313396343442434,48.12002489677758],[16.325796537008358,48.138286274586086],[16.367087762224738,48.12889186220601],[16.38954234739435,48.12586107181946],[16.414025622641567,48.11873197580842],[16.43822870111404,48.120419933482076],[16.43433413670084,48.1383655388173],[16.454587854675793,48.13939973901595],[16.478701650500238,48.155051750670594],[16.5150084110348,48.159417949336365],[16.544556556973248,48.143697190518886],[16.577255987550867,48.13569759822522],[16.578219440077365,48.144922712613294],[16.57638706912172,48.16230983731234],[16.550999159186002,48.165137810893235],[16.55067783019302,48.177548267724305],[16.537500771031432,48.20093514604349],[16.553976462478936,48.23949782642191],[16.540645976266184,48.24333663624501],[16.548214487432826,48.263499813028936],[16.533861100415223,48.26260329297847],[16.50791274360715,48.27410433861081],[16.516128973307325,48.286038118914654],[16.503416242927113,48.29086499663971],[16.482608719501762,48.293677035000385],[16.473506122658208,48.276892982175724],[16.441633391703185,48.292424694880935],[16.43898353873527,48.31732209407445],[16.42922197206394,48.32089258044634],[16.39639051184434,48.32307627589065],[16.364395939908135,48.282812053143836],[16.346377817429453,48.28608193287551],[16.31578230744994,48.274494318130685],[16.290215835246784,48.27102211968647],[16.257987472178687,48.24341294055577],[16.235025659242712,48.250788665794886],[16.209258760810737,48.26460978002107],[16.197501178266393,48.25042891992891],[16.186349293357544,48.22371555892549],[16.210799524240645,48.210139371488204],[16.200993360554452,48.18666881395831],[16.183076337318866,48.1715330023072]]]}},{\"type\":\"Feature\",\"properties\":{\"iso\":\"9\",\"name\":\"Wien\"},\"geometry\":{\"type\":\"Polygon\",\"coordinates\":[[[-180,-90],[-180,90],[180,90],[180,-90],[-180,-90]],[[16.42922197206394,48.32089258044634],[16.43898353873527,48.31732209407445],[16.441633391703185,48.292424694880935],[16.473506122658208,48.276892982175724],[16.482608719501762,48.293677035000385],[16.503416242927113,48.29086499663971],[16.516128973307325,48.286038118914654],[16.50791274360715,48.27410433861081],[16.533861100415223,48.26260329297847],[16.548214487432826,48.263499813028936],[16.540645976266184,48.24333663624501],[16.553976462478936,48.23949782642191],[16.537500771031432,48.20093514604349],[16.55067783019302,48.177548267724305],[16.550999159186002,48.165137810893235],[16.57638706912172,48.16230983731234],[16.578219440077365,48.144922712613294],[16.577255987550867,48.13569759822522],[16.544556556973248,48.143697190518886],[16.5150084110348,48.159417949336365],[16.478701650500238,48.155051750670594],[16.454587854675793,48.13939973901595],[16.43433413670084,48.1383655388173],[16.43822870111404,48.120419933482076],[16.414025622641567,48.11873197580842],[16.38954234739435,48.12586107181946],[16.367087762224738,48.12889186220601],[16.325796537008358,48.138286274586086],[16.313396343442434,48.12002489677758],[16.299745048030232,48.12581830557946],[16.268386917550586,48.134074710762185],[16.237235221850312,48.13050549744734],[16.22008970168383,48.124258390061264],[16.219275150990406,48.12856427578967],[16.223724324814963,48.13598223511378],[16.199152862412333,48.155047213300485],[16.183076337318866,48.1715330023072],[16.200993360554452,48.18666881395831],[16.210799524240645,48.210139371488204],[16.186349293357544,48.22371555892549],[16.197501178266393,48.25042891992891],[16.209258760810737,48.26460978002107],[16.235025659242712,48.250788665794886],[16.257987472178687,48.24341294055577],[16.290215835246784,48.27102211968647],[16.31578230744994,48.274494318130685],[16.346377817429453,48.28608193287551],[16.364395939908135,48.282812053143836],[16.39639051184434,48.32307627589065],[16.42922197206394,48.32089258044634]]]}},{\"type\":\"Feature\",\"properties\":{\"iso\":\"2\",\"name\":\"K\\u00e4rnten\"},\"geometry\":{\"type\":\"Polygon\",\"coordinates\":[[[-180,-90],[-180,90],[180,90],[180,-90],[-180,-90]],[[14.435317574999326,46.443301102802934],[14.410397085635578,46.446723856717135],[14.38299781994014,46.439501299158074],[14.34551755669944,46.43736514493235],[14.308949814800437,46.43098891461741],[14.28399853866686,46.443863099684194],[14.236954936851138,46.4333235545519],[14.216599948495517,46.44352814464048],[14.191883617469054,46.44429458404601],[14.163991835316772,46.43397401536297],[14.13570392337094,46.45148637146107],[14.122303137134274,46.476979250572974],[14.112209792352187,46.47917829948533],[14.09542785078693,46.485278576507206],[14.041324492179326,46.4934010704966],[14.020434535697586,46.481752552093205],[14.007255940493819,46.48173649369479],[13.97639439886244,46.49864697831642],[13.912714913538027,46.52152196794435],[13.88272273711716,46.523159036478525],[13.856021853467345,46.51424933774895],[13.829348630374026,46.517316502040096],[13.811506762399683,46.50637381634889],[13.799677252018698,46.50692828738412],[13.726548253612744,46.52353341318186],[13.691848590138754,46.52139208160628],[13.622608817649764,46.54259363838935],[13.587870834422574,46.544976577999556],[13.571622635181754,46.539245109500825],[13.564384227289862,46.551472698763966],[13.547728946656086,46.5538566391995],[13.515496589697932,46.5492155236782],[13.50494956634316,46.566707243115914],[13.47541731294658,46.5577479037911],[13.4241737882668,46.55898010178373],[13.409830156385379,46.57188074730113],[13.372920325356024,46.579682190539096],[13.36356161206192,46.57047524866159],[13.344623445288565,46.57003073250573],[13.322766911085287,46.55361350911511],[13.29795342025415,46.56071830258031],[13.253475564058748,46.560890051584],[13.240369758759199,46.55233690465009],[13.218010533434782,46.57090649650713],[13.1797864044299,46.578213348054405],[13.169256994568268,46.589316113990776],[13.106573598572242,46.59479444721621],[13.088252890622453,46.60167854273608],[13.073399877373218,46.59933939241637],[13.033216721588595,46.59643793897046],[13.022131988580023,46.602646799911874],[12.987812420060745,46.59986626060495],[12.934195584283618,46.61012581333062],[12.89084075324616,46.60764825131525],[12.865874132475822,46.61011132025633],[12.85359225555337,46.605153377498205],[12.834290860022419,46.610315978975265],[12.837895143776086,46.627684419026025],[12.819594219234231,46.6286108952918],[12.776541784209181,46.64712813851878],[12.756952547187167,46.64759868396726],[12.731990206876276,46.63472689531027],[12.717295250889705,46.6491621148885],[12.691232045355415,46.657410894876925],[12.687289165693864,46.686651136614145],[12.69309267928992,46.70209390828986],[12.711506966621174,46.70547477003055],[12.71233012533157,46.73610222670111],[12.725564407874064,46.743892424702246],[12.748810713047153,46.74789735360012],[12.796437287251893,46.75578785946756],[12.81053552137355,46.75673020780315],[12.81436659577459,46.74940001895604],[12.84184899894473,46.74978166169015],[12.857469906345388,46.7606156930797],[12.877624087741452,46.76313641764412],[12.90001757068092,46.777294257683835],[12.932063228622303,46.7644869313064],[12.966424855580245,46.78814217906072],[12.964130115063137,46.799096280170424],[12.907751826000329,46.82312509676053],[12.906100465535685,46.82308241873304],[12.896233736030906,46.82625951182353],[12.887111065183525,46.84295851763285],[12.841788233961834,46.86143803590054],[12.837688794160522,46.912955017440304],[12.822457903988065,46.917282816401574],[12.809081266709512,46.92306590509986],[12.794301186939792,46.92694926273792],[12.787035542028026,46.940031615688454],[12.77026867605,46.945253428270554],[12.760195755530342,46.957083123434316],[12.741707034637624,46.96946262444202],[12.725259034839011,46.996264019621535],[12.738076270741395,47.00432586864086],[12.766556564846313,47.04491082791749],[12.735459889891844,47.04216002184202],[12.711139270753687,47.048918029984094],[12.701908498451656,47.071068580611545],[12.65745397307417,47.10000921350448],[12.671358686482467,47.10730687280484],[12.666759914417947,47.12332832597829],[12.705108060952291,47.12250679930348],[12.731529490464828,47.13148583480726],[12.739481428690597,47.10080555350925],[12.773405544622427,47.101429087267256],[12.782232376128615,47.093476847768066],[12.82092307148572,47.09815035813142],[12.837399989940888,47.083283319763986],[12.860370654083598,47.081164208243386],[12.871525037978646,47.086745990657306],[12.89316386208255,47.08176740345311],[12.919987751387149,47.08208757186024],[12.938188217379329,47.07664981745189],[12.953662134783846,47.049733150953976],[12.965501762181598,47.03947411632989],[12.986013308316,47.036076630230546],[13.00375436875033,47.04434602504736],[13.020528115196166,47.03064906320971],[13.07369289080536,47.01388016337656],[13.081009137784807,47.02727945325202],[13.12764659663953,47.02751764167589],[13.133886674370611,47.035273804366945],[13.162662253075153,47.0375092375636],[13.185309478157487,47.04420857514951],[13.215414368289645,47.04454222614916],[13.248823483572613,47.05104360662486],[13.240083187844244,47.071998940770634],[13.250508947553831,47.08797979402657],[13.278019992673432,47.095622765572124],[13.300625663117774,47.0882297193104],[13.35523438896101,47.09757401910119],[13.380842508272595,47.09292980003284],[13.382771454698679,47.08076535509854],[13.407077873311675,47.06971440962606],[13.428297990515672,47.08184101052377],[13.45868628027679,47.08077274124282],[13.52228685019597,47.06897297022607],[13.55968253082931,47.05636760720394],[13.58151940726768,47.052465464606904],[13.594973907722657,47.05642034540644],[13.616416375553941,47.05960848554598],[13.638386780619035,47.05595615645852],[13.646281462001092,47.04076085715979],[13.687294263033758,47.040272331049636],[13.694418985696819,47.006567866539214],[13.699971212552787,47.00373416925072],[13.709456470156246,46.995920239824315],[13.734469752503118,46.989689390217244],[13.745452203876248,46.99433500902197],[13.772503550644952,46.97752606122732],[13.775178420200247,46.95308388871289],[13.785429956062647,46.94429481523506],[13.816122795820238,46.918944925040236],[13.848967970564987,46.909708961881556],[13.856883756163148,46.91773715006538],[13.882643224723962,46.918247886319385],[13.901038160307355,46.934107971912795],[13.912002205340182,46.93342637210399],[13.93521090591686,46.946050513671636],[13.947507687248372,46.941063158253144],[13.955708907995142,46.95674770933982],[13.968538309836061,46.963662705023765],[13.968949867233247,46.96348280803285],[13.969360609771583,46.96349357210858],[13.993310760137609,46.966553534949746],[14.010104357912198,46.97406613430193],[14.017229578221421,46.98950806846118],[14.015190926013304,47.00253850638903],[14.027291972052314,47.00716331524728],[14.049786957156686,47.00442833919455],[14.073121332291759,47.013099586957885],[14.07995175508011,47.022468173402885],[14.102620643088603,47.03854903871134],[14.12656393247146,47.045789178330494],[14.133380257416142,47.06278356050138],[14.160865314918068,47.05339268367749],[14.163005901504894,47.052866698998734],[14.163153015362708,47.052863654439726],[14.163322056111738,47.05286196871287],[14.163369136070493,47.0529069819479],[14.16352323552446,47.05305614308089],[14.175166881769977,47.06269184292928],[14.205244519886653,47.07635141837021],[14.217307658667586,47.06210725331998],[14.225283903545723,47.035907493499664],[14.235859426927489,47.0262549850907],[14.238527237746181,47.02878700007176],[14.262418831747295,47.027364921850214],[14.331042737694533,47.02956907438043],[14.36429009883292,47.025727661863016],[14.38349550536328,47.013213402123995],[14.378287353615326,46.99257061911524],[14.386753782041158,46.98041966721084],[14.431052526978942,47.00090334442819],[14.457543111052024,46.99636083759145],[14.472712246695759,47.00813448509732],[14.478809311547007,47.019823774921285],[14.505830654414218,47.026819577808446],[14.505888960430317,47.02660506528861],[14.505811721126168,47.026254310354275],[14.504041844907341,47.01943963772672],[14.528041105242723,47.00961778586715],[14.586800959408897,47.012136994541535],[14.593644751072551,47.00205248394778],[14.616143341682346,46.99836701130421],[14.628630271459997,47.01399570488198],[14.666889885420021,47.0187656311001],[14.717567312023563,47.0188200861171],[14.768062839526971,47.03891556947538],[14.808574801801056,47.03936751757547],[14.831452117088059,47.04998795493086],[14.845388056817908,47.048516045243],[14.847889066919606,47.033354163880254],[14.874152848680048,47.022937090612494],[14.886455410445981,47.01158241607712],[14.904908887786597,47.000707982012614],[14.950250267336468,46.99340160862021],[14.967872797883636,46.98217130876799],[14.993629819400251,46.938748042880995],[15.018052314932397,46.92307447607448],[15.027933551040734,46.910129398885935],[15.015835016587198,46.88163179205608],[15.00914664683249,46.88025588250889],[15.010932372565268,46.85490792600899],[15.020553298215097,46.84464167913086],[15.013014228794686,46.83298568010733],[14.996365244743608,46.82786212536294],[14.98278407892554,46.80631986731562],[14.977176128181322,46.78516609372807],[14.997585924517661,46.78120655629604],[15.031711115506777,46.769258774912096],[15.032466153019449,46.7460900152983],[15.04319487207487,46.72124982171925],[15.035452451461474,46.70620539603287],[15.03127210295496,46.680966106782996],[15.03553985456731,46.666247744571606],[15.050200628657269,46.66752685045126],[15.066026866155596,46.652413678660864],[15.044928169148317,46.65247260238725],[15.017076175200458,46.64118516881775],[14.996249810818307,46.62229517777864],[14.980276965333847,46.60175709874033],[14.972429041511768,46.62350766972289],[14.956574469567887,46.633092311889136],[14.931994473103087,46.61567804392616],[14.923936655657426,46.60360955423701],[14.880552716155968,46.611612469864475],[14.867948015778211,46.6047697716876],[14.835389809439851,46.56357952970373],[14.823623865043784,46.534900086450534],[14.819486109827174,46.50974438096276],[14.785250079026586,46.49984352553267],[14.759955963822996,46.50479842526632],[14.730629304553231,46.492032567734384],[14.715629120789446,46.5003065814155],[14.6999844487781,46.4639464331015],[14.679139711585716,46.46285451299678],[14.67564396450364,46.45103168762538],[14.632303772669502,46.43983329986897],[14.610154029488237,46.439794942148446],[14.587167326976283,46.42993485852157],[14.586972127538303,46.392601220802625],[14.573856818299264,46.37585374215964],[14.557646402162863,46.38550823135907],[14.54070479276499,46.41194359413592],[14.512138574097982,46.42653528442355],[14.493038021847354,46.41327774013647],[14.465893394191847,46.42243191050457],[14.447581202730655,46.42194952649314],[14.432148124510434,46.434566667207115],[14.435317574999326,46.443301102802934]]]}},{\"type\":\"Feature\",\"properties\":{\"iso\":\"8\",\"name\":\"Vorarlberg\"},\"geometry\":{\"type\":\"Polygon\",\"coordinates\":[[[-180,-90],[-180,90],[180,90],[180,-90],[-180,-90]],[[10.13482169360016,47.02990924032105],[10.131329666237974,47.01358341386765],[10.154681979449725,47.005942833950336],[10.160079518251028,46.98430100505883],[10.14501723827558,46.983936898935745],[10.135260228045352,46.955817856200156],[10.120952902444445,46.938453812219635],[10.098482025389323,46.92790298768985],[10.117562744641475,46.885875803279596],[10.141093069401869,46.875770287500515],[10.145238297465273,46.85154440908232],[10.105427165643341,46.841444752318075],[10.087472371935121,46.86172454952258],[10.0598334783117,46.86132061823789],[10.052676969765816,46.87643413644324],[10.026737287927446,46.89635643275821],[9.98269864769632,46.90675177892499],[9.978131577761552,46.91643699540343],[9.946381846167013,46.91290406202799],[9.923035071676765,46.91879884637782],[9.8779373760209,46.93869324829403],[9.874973356822716,46.97262377270369],[9.892214844734049,46.989490403814045],[9.88903584234105,47.001292729237356],[9.873512897835184,47.00691541864255],[9.87650424751636,47.0217952691347],[9.831008286712906,47.014887752886494],[9.793380279699388,47.03181810170144],[9.785161676804542,47.03905741371676],[9.745442634117873,47.04167576639769],[9.70870614570762,47.04788148389354],[9.70837229787894,47.05339707868915],[9.677665540227517,47.06197925208756],[9.645287842742736,47.060350742580894],[9.63677076224951,47.05227776731276],[9.60728003410665,47.06134874178134],[9.634610725917332,47.10167073030821],[9.622196291656664,47.10915982798623],[9.63442433263228,47.12860094514656],[9.6249338692817,47.13320860876722],[9.620789543539292,47.15222968171368],[9.605387245528624,47.14990921290746],[9.596964531935544,47.163476463144924],[9.579662446636275,47.1717206514149],[9.572807180356673,47.19138555176853],[9.585016388461709,47.205162055105106],[9.554892755258258,47.227260274641715],[9.567617302505429,47.2415141456876],[9.53095237318183,47.27118170183859],[9.54644091852075,47.280692801170474],[9.559435083155277,47.30079481120015],[9.588506704680318,47.318153576911676],[9.596569063629019,47.3381268052894],[9.619894985003073,47.363043852700166],[9.649771044215262,47.368054786668985],[9.673599983668973,47.38212027696659],[9.673808560581449,47.39190177656306],[9.652117013144371,47.409324421351066],[9.644544540673722,47.435768190967494],[9.659690179679028,47.45200125647562],[9.62074838576922,47.45917197292085],[9.60746988725973,47.4709481223521],[9.59694643646741,47.46307024961633],[9.583689961253688,47.48174030431538],[9.563097671232786,47.495566190777566],[9.582193127318059,47.50018793103811],[9.60351431290857,47.50443262563801],[9.61369960314429,47.520729854175684],[9.636190054867743,47.52473850380479],[9.64513464897811,47.52965729348286],[9.676251748122809,47.50535120628649],[9.6874573822603,47.50993692429319],[9.749113298235695,47.510746157666276],[9.750033603971719,47.52065182747359],[9.732419604901741,47.534360793178],[9.735407404461206,47.54722496304862],[9.755932201854145,47.572794094684426],[9.776204171069358,47.59403648212667],[9.80268159666887,47.59653686552012],[9.820568430718328,47.588271526152454],[9.830032925602614,47.54515205113361],[9.85378930328071,47.540603944437194],[9.874755871324185,47.529160346659644],[9.880501586200179,47.54853837948918],[9.902314421000693,47.54480656164595],[9.922881232612694,47.53033648775778],[9.943983041846385,47.537724006752704],[9.95940091034479,47.535125705919555],[9.965306012944524,47.52361899520824],[9.995989372991984,47.503393876058624],[9.9998063232222,47.48362980419063],[10.037718361240447,47.48979051076103],[10.05490721720457,47.47504317089944],[10.054764271296252,47.46679301545615],[10.072469447972287,47.45687525636946],[10.08984181459057,47.46101952933396],[10.093255374412383,47.4446762083399],[10.104184918900371,47.431108737346044],[10.09401606163977,47.41749186845814],[10.070682093538807,47.40840783413385],[10.083138164197315,47.39449691400716],[10.097924267274703,47.3604542176512],[10.10013753724247,47.35535651865693],[10.119637252797792,47.3762110712588],[10.138224704667417,47.36848335950451],[10.169887579328845,47.371896150530134],[10.16970530611719,47.3864280672298],[10.195289369039212,47.389965682162135],[10.212589317895407,47.381602150878706],[10.227267602000682,47.389437057389074],[10.237332343208825,47.37424907744781],[10.20454698564244,47.33734508101416],[10.199817800699714,47.32705107361326],[10.216282166544937,47.31165264892134],[10.201943779545873,47.299970325557986],[10.178560893075446,47.29523790767247],[10.17238006637,47.27966301689159],[10.178645536465902,47.27069713351929],[10.174512866296665,47.26446019463785],[10.222345968575148,47.25415795243823],[10.19804032366062,47.237160867675584],[10.213032930370431,47.22488058664695],[10.21298205903946,47.2048495614091],[10.197135131369317,47.19493937945387],[10.211710316078646,47.17190166511134],[10.213285659938029,47.158150684308964],[10.20368781856436,47.143030699501075],[10.207074490221077,47.13146136259523],[10.18658508307389,47.12952926210631],[10.145164588038519,47.09750224697372],[10.133819068224204,47.078450940454225],[10.134888226018813,47.064449885950985],[10.151151928447865,47.062388382268],[10.157194869214969,47.049433034931056],[10.13482169360016,47.02990924032105]]]}},{\"type\":\"Feature\",\"properties\":{\"iso\":\"5\",\"name\":\"Salzburg\"},\"geometry\":{\"type\":\"Polygon\",\"coordinates\":[[[-180,-90],[-180,90],[180,90],[180,-90],[-180,-90]],[[13.801926313338557,46.9515732267686],[13.785429956062647,46.94429481523506],[13.775178420200247,46.95308388871289],[13.772503550644952,46.97752606122732],[13.745452203876248,46.99433500902197],[13.734469752503118,46.989689390217244],[13.709456470156246,46.995920239824315],[13.699971212552787,47.00373416925072],[13.694418985696819,47.006567866539214],[13.687294263033758,47.040272331049636],[13.646281462001092,47.04076085715979],[13.638386780619035,47.05595615645852],[13.616416375553941,47.05960848554598],[13.594973907722657,47.05642034540644],[13.58151940726768,47.052465464606904],[13.55968253082931,47.05636760720394],[13.52228685019597,47.06897297022607],[13.45868628027679,47.08077274124282],[13.428297990515672,47.08184101052377],[13.407077873311675,47.06971440962606],[13.382771454698679,47.08076535509854],[13.380842508272595,47.09292980003284],[13.35523438896101,47.09757401910119],[13.300625663117774,47.0882297193104],[13.278019992673432,47.095622765572124],[13.250508947553831,47.08797979402657],[13.240083187844244,47.071998940770634],[13.248823483572613,47.05104360662486],[13.215414368289645,47.04454222614916],[13.185309478157487,47.04420857514951],[13.162662253075153,47.0375092375636],[13.133886674370611,47.035273804366945],[13.12764659663953,47.02751764167589],[13.081009137784807,47.02727945325202],[13.07369289080536,47.01388016337656],[13.020528115196166,47.03064906320971],[13.00375436875033,47.04434602504736],[12.986013308316,47.036076630230546],[12.965501762181598,47.03947411632989],[12.953662134783846,47.049733150953976],[12.938188217379329,47.07664981745189],[12.919987751387149,47.08208757186024],[12.89316386208255,47.08176740345311],[12.871525037978646,47.086745990657306],[12.860370654083598,47.081164208243386],[12.837399989940888,47.083283319763986],[12.82092307148572,47.09815035813142],[12.782232376128615,47.093476847768066],[12.773405544622427,47.101429087267256],[12.739481428690597,47.10080555350925],[12.731529490464828,47.13148583480726],[12.705108060952291,47.12250679930348],[12.666759914417947,47.12332832597829],[12.671358686482467,47.10730687280484],[12.65745397307417,47.10000921350448],[12.640102920846877,47.10568305827087],[12.617204982590405,47.121965270901875],[12.592847941925221,47.12536941093126],[12.566984859954406,47.13652421216914],[12.553409755335721,47.128109537891675],[12.528536640961478,47.138146278861065],[12.52216481525686,47.15112368826818],[12.484119551631274,47.15834918723919],[12.466152733668684,47.14485684341726],[12.435224740489941,47.15099471080652],[12.413516440020938,47.14393188520044],[12.400109764448992,47.15330715375048],[12.363857456172411,47.14188976330796],[12.359268526058557,47.11729796791754],[12.346194507937303,47.10977199925601],[12.313713958074965,47.10342381640998],[12.309205452078082,47.093642493282985],[12.284347357622847,47.09305169352613],[12.262013037562971,47.07322140875678],[12.2413077362019,47.0696691922961],[12.227578785409863,47.082580624141606],[12.186515987650695,47.09265121173166],[12.152095619509028,47.07978337988594],[12.136563065537015,47.08117287622881],[12.125746216545485,47.09306657018742],[12.12839487270448,47.11018609126433],[12.115169922590994,47.122203084216125],[12.111218527367994,47.14016156715887],[12.093816076542643,47.1465666351483],[12.092446039173796,47.167828898122146],[12.083339038812811,47.19623913868105],[12.103197823610817,47.23701198405247],[12.11063890288777,47.240914107737495],[12.101334360455162,47.25869341172984],[12.079128713460088,47.2757098105495],[12.11510611639261,47.30697630226541],[12.144869364045602,47.28944403929807],[12.165190652009544,47.302070968153764],[12.208713292707953,47.30265461671045],[12.219555502585873,47.31166016632244],[12.23787459031698,47.30197876846341],[12.255274248068567,47.308492575787355],[12.26469680402087,47.302737958499804],[12.29709225105455,47.32861896847839],[12.335847195220238,47.32904595217747],[12.375184632032676,47.31183380366383],[12.410950650892074,47.31414014546518],[12.442477739583595,47.32913818060849],[12.47892794361953,47.32691804673216],[12.495824472606328,47.337934519244136],[12.498287065001747,47.34762215541372],[12.479584754081941,47.3687592659282],[12.506709801887519,47.39466054702915],[12.523421411252983,47.391163505741474],[12.545923383219147,47.39857129096823],[12.564064539248124,47.3996060801711],[12.579239110558524,47.39302595470468],[12.600446912224152,47.4123145053918],[12.625210119948115,47.42304578369214],[12.632932295917886,47.43262662016478],[12.63841011934598,47.449880463540474],[12.631593995725854,47.458935931197075],[12.645334360914383,47.4687230957063],[12.665881683918592,47.46533801302577],[12.700242570693662,47.478420972040745],[12.66577856852797,47.506608310620834],[12.654781132911396,47.537313628251376],[12.628812166063684,47.55009203074107],[12.642278227416412,47.55504836533369],[12.65264976663745,47.570291468444275],[12.667254000705457,47.57917454243514],[12.65419857029272,47.588577333129926],[12.64140092643676,47.59385746008402],[12.575169718579502,47.60554298174406],[12.575671173996357,47.63287248306274],[12.604048268307398,47.6727760926551],[12.63039939214773,47.676767051002514],[12.649262750074886,47.67074488796411],[12.666747110925177,47.681601063825426],[12.732530077407366,47.68022936053186],[12.77913266456366,47.66146590299684],[12.759074039370203,47.65343890992717],[12.781610855060483,47.63320398041559],[12.790371955841358,47.63377118966573],[12.825166423208413,47.61264887706406],[12.808043378020143,47.61079995464941],[12.791999191759652,47.5989133343212],[12.779924021425268,47.57982895908442],[12.787027432090216,47.568563402594556],[12.795199865549318,47.55736292234183],[12.818399822630056,47.54543456631626],[12.848355105396745,47.54616393832658],[12.852366258120906,47.531336915679624],[12.880188881794028,47.52270716600276],[12.885148399969717,47.513288790813],[12.909369850344008,47.49748818459485],[12.932607417682904,47.48827956766036],[12.972068877337929,47.47466857594025],[12.981779402843307,47.483485640615356],[13.001745255855564,47.46453514202381],[13.018562641476427,47.47520229379683],[13.02758104811741,47.48721957640608],[13.048343414707134,47.492694050746024],[13.0467571299856,47.52103158439202],[13.0324017161556,47.536062297843735],[13.056408732149052,47.557871753194824],[13.04227874786716,47.57702363013788],[13.044356725239501,47.583899290583],[13.0722176114832,47.59043485415212],[13.063311510341627,47.60199507171266],[13.09866405774121,47.63425768730817],[13.077580447103273,47.67138437620282],[13.079347346225909,47.6885093165718],[13.06157583093924,47.69769298926993],[13.046655715833205,47.71324964441585],[13.00900977496067,47.7227161176732],[12.987904494495814,47.70796442547316],[12.933877104345207,47.710099552182726],[12.913682023678687,47.717920202808685],[12.905272200343756,47.728014132595106],[12.921997561445613,47.744726126747196],[12.931680284952254,47.7454122908946],[12.944168907125688,47.76346628617512],[12.939950086076395,47.7852614695968],[12.970860002488353,47.8074370805676],[12.98978532484958,47.832534232796654],[13.002829454932984,47.84170102192875],[13.002108047430244,47.85496420908995],[12.988315477810907,47.86976329232058],[12.96717386706399,47.9012416846387],[12.944467422206758,47.926531404912396],[12.93997721548016,47.93723917877469],[12.920045350712172,47.94285033639901],[12.921401420928925,47.95146611060857],[12.912198284263061,47.957688185756034],[12.881223672916718,47.961053721552084],[12.871820993962052,47.967020188293056],[12.86088959690731,47.99723089391568],[12.890672123907757,47.99150922151449],[12.912326251343378,48.02336110691883],[12.938794024086247,48.03655378472327],[12.940234149971177,48.036994092995705],[12.962153171469591,48.03334762085566],[12.973593909957328,48.024092617906796],[12.99033983971967,48.028428310448234],[13.01303093487179,48.03710160969214],[13.029747807676841,48.03309647811081],[13.0477425732328,48.03795347378263],[13.047942372223341,48.02784954404842],[13.058399902054074,48.0138781323072],[13.103509611940929,47.99814389805751],[13.104679932443288,47.9973348993728],[13.124995546580353,47.99676404709405],[13.145922802944359,47.97492426122499],[13.199432981972263,47.97475031105499],[13.210633201710504,47.97952053508733],[13.213462576661653,47.98304537035671],[13.243453938930724,47.99256216630181],[13.257739324477054,47.99177805174646],[13.30470126151509,48.00844773145437],[13.30199772896553,47.995935901175955],[13.324833675764625,47.99289185716716],[13.372433816964902,47.97255316137185],[13.361538037048387,47.955978212335594],[13.363899067124235,47.944650609719325],[13.359317945365092,47.94032978871332],[13.340370893896262,47.94446341416352],[13.338053780558313,47.954776113107535],[13.308305386852295,47.964587650616565],[13.281051844447191,47.955287621129074],[13.28596397625165,47.928448961936446],[13.281888759941667,47.90520221504385],[13.270871494943625,47.891993523241105],[13.276176908502721,47.879160464777776],[13.293889782637898,47.86432091652677],[13.287164601314913,47.83077934971909],[13.308778302920036,47.82225122218704],[13.312964897658228,47.81338362346725],[13.351724651095312,47.81049488687009],[13.393957421567334,47.79530009230283],[13.398849442188165,47.79844364754232],[13.451191675078974,47.80429341887363],[13.484511289095584,47.79998448891715],[13.491362176743541,47.78972824335878],[13.511752541024057,47.79750739773911],[13.530261084681209,47.79757025282514],[13.536170688480274,47.77668107103932],[13.51601511400202,47.772557268928],[13.466056518915638,47.78669928819231],[13.447086368217878,47.77255021084186],[13.437044064399783,47.73909342348027],[13.477370979698803,47.72473125857403],[13.551652205865423,47.71465205581413],[13.536404696257424,47.69583113716994],[13.534476584956707,47.68491350241405],[13.51772234921809,47.67606585346152],[13.500814203853798,47.66953074871557],[13.501161404579053,47.659439099253035],[13.484863443678226,47.64207122151538],[13.490632581940691,47.63085555988478],[13.521053258892575,47.62370726910291],[13.507093170569451,47.6012763494509],[13.506033490577202,47.5825112248718],[13.47908881547972,47.568656909194765],[13.482039721354713,47.562245689143815],[13.485529836861907,47.553347344138636],[13.477502477804828,47.53083284465746],[13.490813740646713,47.51377416410763],[13.502759692442385,47.51222954480216],[13.516932398814733,47.497016419942995],[13.53507592650793,47.49544294681517],[13.58643460518265,47.47530669240729],[13.593441625432567,47.46155748983778],[13.564894484649722,47.4185699882216],[13.565432474261243,47.4176703022323],[13.565318583402352,47.41718973057866],[13.57306408464016,47.39359936234706],[13.582508889411763,47.38286203895957],[13.604298441617575,47.330176404660676],[13.598459281840173,47.29409972906839],[13.608348897975546,47.28404782593422],[13.631903267015689,47.27471121358447],[13.654424148110406,47.27702790025776],[13.696382619592985,47.26555090885081],[13.696593391016176,47.26056487396344],[13.712637994644696,47.259979708655045],[13.720481628800998,47.27626402235923],[13.752131876321478,47.276495873168784],[13.761420728666591,47.266747734768266],[13.78471466144228,47.275725164612666],[13.805323514142584,47.293189737310065],[13.826133245704607,47.293680362447944],[13.824408978168938,47.26748574395234],[13.86497429614836,47.25264121720441],[13.869234110805834,47.242904241214916],[13.85090964242925,47.23011358585622],[13.865537945400298,47.220403754696314],[13.89702880128733,47.187711265358416],[13.897338641709347,47.18761101036128],[13.897404562343882,47.187581649621606],[13.897266900362307,47.187279009756885],[13.920470555133257,47.17221247773791],[13.943547551438872,47.16685354493523],[13.962721603127395,47.15811243095302],[13.962880186881707,47.15806109117247],[13.963012447954492,47.157925007907316],[13.963097717926296,47.15774143850479],[13.993706352989351,47.14269611848338],[13.988621040645056,47.12755590298655],[13.954714923298592,47.125760870973735],[13.944567920682557,47.13702331456309],[13.893230834343731,47.11471134815169],[13.879695833393724,47.1010115025522],[13.879204359999928,47.10081918849729],[13.879341138487497,47.100200419348184],[13.906809642434151,47.07108804618045],[13.906940916465537,47.071046874626354],[13.864524532800607,47.02003599569461],[13.86543482293839,46.996633591419254],[13.845736683529196,46.98949488869677],[13.832586143618208,46.96588741675482],[13.801926313338557,46.9515732267686]]]}}]},\"hovertemplate\":\"val=1<br>namee=%{location}<extra></extra>\",\"locations\":[\"Salzburg\"],\"name\":\"1\",\"showlegend\":true,\"showscale\":false,\"subplot\":\"mapbox\",\"z\":[1],\"type\":\"choroplethmapbox\"}],                        {\"template\":{\"data\":{\"histogram2dcontour\":[{\"type\":\"histogram2dcontour\",\"colorbar\":{\"outlinewidth\":0,\"ticks\":\"\"},\"colorscale\":[[0.0,\"#0d0887\"],[0.1111111111111111,\"#46039f\"],[0.2222222222222222,\"#7201a8\"],[0.3333333333333333,\"#9c179e\"],[0.4444444444444444,\"#bd3786\"],[0.5555555555555556,\"#d8576b\"],[0.6666666666666666,\"#ed7953\"],[0.7777777777777778,\"#fb9f3a\"],[0.8888888888888888,\"#fdca26\"],[1.0,\"#f0f921\"]]}],\"choropleth\":[{\"type\":\"choropleth\",\"colorbar\":{\"outlinewidth\":0,\"ticks\":\"\"}}],\"histogram2d\":[{\"type\":\"histogram2d\",\"colorbar\":{\"outlinewidth\":0,\"ticks\":\"\"},\"colorscale\":[[0.0,\"#0d0887\"],[0.1111111111111111,\"#46039f\"],[0.2222222222222222,\"#7201a8\"],[0.3333333333333333,\"#9c179e\"],[0.4444444444444444,\"#bd3786\"],[0.5555555555555556,\"#d8576b\"],[0.6666666666666666,\"#ed7953\"],[0.7777777777777778,\"#fb9f3a\"],[0.8888888888888888,\"#fdca26\"],[1.0,\"#f0f921\"]]}],\"heatmap\":[{\"type\":\"heatmap\",\"colorbar\":{\"outlinewidth\":0,\"ticks\":\"\"},\"colorscale\":[[0.0,\"#0d0887\"],[0.1111111111111111,\"#46039f\"],[0.2222222222222222,\"#7201a8\"],[0.3333333333333333,\"#9c179e\"],[0.4444444444444444,\"#bd3786\"],[0.5555555555555556,\"#d8576b\"],[0.6666666666666666,\"#ed7953\"],[0.7777777777777778,\"#fb9f3a\"],[0.8888888888888888,\"#fdca26\"],[1.0,\"#f0f921\"]]}],\"heatmapgl\":[{\"type\":\"heatmapgl\",\"colorbar\":{\"outlinewidth\":0,\"ticks\":\"\"},\"colorscale\":[[0.0,\"#0d0887\"],[0.1111111111111111,\"#46039f\"],[0.2222222222222222,\"#7201a8\"],[0.3333333333333333,\"#9c179e\"],[0.4444444444444444,\"#bd3786\"],[0.5555555555555556,\"#d8576b\"],[0.6666666666666666,\"#ed7953\"],[0.7777777777777778,\"#fb9f3a\"],[0.8888888888888888,\"#fdca26\"],[1.0,\"#f0f921\"]]}],\"contourcarpet\":[{\"type\":\"contourcarpet\",\"colorbar\":{\"outlinewidth\":0,\"ticks\":\"\"}}],\"contour\":[{\"type\":\"contour\",\"colorbar\":{\"outlinewidth\":0,\"ticks\":\"\"},\"colorscale\":[[0.0,\"#0d0887\"],[0.1111111111111111,\"#46039f\"],[0.2222222222222222,\"#7201a8\"],[0.3333333333333333,\"#9c179e\"],[0.4444444444444444,\"#bd3786\"],[0.5555555555555556,\"#d8576b\"],[0.6666666666666666,\"#ed7953\"],[0.7777777777777778,\"#fb9f3a\"],[0.8888888888888888,\"#fdca26\"],[1.0,\"#f0f921\"]]}],\"surface\":[{\"type\":\"surface\",\"colorbar\":{\"outlinewidth\":0,\"ticks\":\"\"},\"colorscale\":[[0.0,\"#0d0887\"],[0.1111111111111111,\"#46039f\"],[0.2222222222222222,\"#7201a8\"],[0.3333333333333333,\"#9c179e\"],[0.4444444444444444,\"#bd3786\"],[0.5555555555555556,\"#d8576b\"],[0.6666666666666666,\"#ed7953\"],[0.7777777777777778,\"#fb9f3a\"],[0.8888888888888888,\"#fdca26\"],[1.0,\"#f0f921\"]]}],\"mesh3d\":[{\"type\":\"mesh3d\",\"colorbar\":{\"outlinewidth\":0,\"ticks\":\"\"}}],\"scatter\":[{\"fillpattern\":{\"fillmode\":\"overlay\",\"size\":10,\"solidity\":0.2},\"type\":\"scatter\"}],\"parcoords\":[{\"type\":\"parcoords\",\"line\":{\"colorbar\":{\"outlinewidth\":0,\"ticks\":\"\"}}}],\"scatterpolargl\":[{\"type\":\"scatterpolargl\",\"marker\":{\"colorbar\":{\"outlinewidth\":0,\"ticks\":\"\"}}}],\"bar\":[{\"error_x\":{\"color\":\"#2a3f5f\"},\"error_y\":{\"color\":\"#2a3f5f\"},\"marker\":{\"line\":{\"color\":\"#E5ECF6\",\"width\":0.5},\"pattern\":{\"fillmode\":\"overlay\",\"size\":10,\"solidity\":0.2}},\"type\":\"bar\"}],\"scattergeo\":[{\"type\":\"scattergeo\",\"marker\":{\"colorbar\":{\"outlinewidth\":0,\"ticks\":\"\"}}}],\"scatterpolar\":[{\"type\":\"scatterpolar\",\"marker\":{\"colorbar\":{\"outlinewidth\":0,\"ticks\":\"\"}}}],\"histogram\":[{\"marker\":{\"pattern\":{\"fillmode\":\"overlay\",\"size\":10,\"solidity\":0.2}},\"type\":\"histogram\"}],\"scattergl\":[{\"type\":\"scattergl\",\"marker\":{\"colorbar\":{\"outlinewidth\":0,\"ticks\":\"\"}}}],\"scatter3d\":[{\"type\":\"scatter3d\",\"line\":{\"colorbar\":{\"outlinewidth\":0,\"ticks\":\"\"}},\"marker\":{\"colorbar\":{\"outlinewidth\":0,\"ticks\":\"\"}}}],\"scattermapbox\":[{\"type\":\"scattermapbox\",\"marker\":{\"colorbar\":{\"outlinewidth\":0,\"ticks\":\"\"}}}],\"scatterternary\":[{\"type\":\"scatterternary\",\"marker\":{\"colorbar\":{\"outlinewidth\":0,\"ticks\":\"\"}}}],\"scattercarpet\":[{\"type\":\"scattercarpet\",\"marker\":{\"colorbar\":{\"outlinewidth\":0,\"ticks\":\"\"}}}],\"carpet\":[{\"aaxis\":{\"endlinecolor\":\"#2a3f5f\",\"gridcolor\":\"white\",\"linecolor\":\"white\",\"minorgridcolor\":\"white\",\"startlinecolor\":\"#2a3f5f\"},\"baxis\":{\"endlinecolor\":\"#2a3f5f\",\"gridcolor\":\"white\",\"linecolor\":\"white\",\"minorgridcolor\":\"white\",\"startlinecolor\":\"#2a3f5f\"},\"type\":\"carpet\"}],\"table\":[{\"cells\":{\"fill\":{\"color\":\"#EBF0F8\"},\"line\":{\"color\":\"white\"}},\"header\":{\"fill\":{\"color\":\"#C8D4E3\"},\"line\":{\"color\":\"white\"}},\"type\":\"table\"}],\"barpolar\":[{\"marker\":{\"line\":{\"color\":\"#E5ECF6\",\"width\":0.5},\"pattern\":{\"fillmode\":\"overlay\",\"size\":10,\"solidity\":0.2}},\"type\":\"barpolar\"}],\"pie\":[{\"automargin\":true,\"type\":\"pie\"}]},\"layout\":{\"autotypenumbers\":\"strict\",\"colorway\":[\"#636efa\",\"#EF553B\",\"#00cc96\",\"#ab63fa\",\"#FFA15A\",\"#19d3f3\",\"#FF6692\",\"#B6E880\",\"#FF97FF\",\"#FECB52\"],\"font\":{\"color\":\"#2a3f5f\"},\"hovermode\":\"closest\",\"hoverlabel\":{\"align\":\"left\"},\"paper_bgcolor\":\"white\",\"plot_bgcolor\":\"#E5ECF6\",\"polar\":{\"bgcolor\":\"#E5ECF6\",\"angularaxis\":{\"gridcolor\":\"white\",\"linecolor\":\"white\",\"ticks\":\"\"},\"radialaxis\":{\"gridcolor\":\"white\",\"linecolor\":\"white\",\"ticks\":\"\"}},\"ternary\":{\"bgcolor\":\"#E5ECF6\",\"aaxis\":{\"gridcolor\":\"white\",\"linecolor\":\"white\",\"ticks\":\"\"},\"baxis\":{\"gridcolor\":\"white\",\"linecolor\":\"white\",\"ticks\":\"\"},\"caxis\":{\"gridcolor\":\"white\",\"linecolor\":\"white\",\"ticks\":\"\"}},\"coloraxis\":{\"colorbar\":{\"outlinewidth\":0,\"ticks\":\"\"}},\"colorscale\":{\"sequential\":[[0.0,\"#0d0887\"],[0.1111111111111111,\"#46039f\"],[0.2222222222222222,\"#7201a8\"],[0.3333333333333333,\"#9c179e\"],[0.4444444444444444,\"#bd3786\"],[0.5555555555555556,\"#d8576b\"],[0.6666666666666666,\"#ed7953\"],[0.7777777777777778,\"#fb9f3a\"],[0.8888888888888888,\"#fdca26\"],[1.0,\"#f0f921\"]],\"sequentialminus\":[[0.0,\"#0d0887\"],[0.1111111111111111,\"#46039f\"],[0.2222222222222222,\"#7201a8\"],[0.3333333333333333,\"#9c179e\"],[0.4444444444444444,\"#bd3786\"],[0.5555555555555556,\"#d8576b\"],[0.6666666666666666,\"#ed7953\"],[0.7777777777777778,\"#fb9f3a\"],[0.8888888888888888,\"#fdca26\"],[1.0,\"#f0f921\"]],\"diverging\":[[0,\"#8e0152\"],[0.1,\"#c51b7d\"],[0.2,\"#de77ae\"],[0.3,\"#f1b6da\"],[0.4,\"#fde0ef\"],[0.5,\"#f7f7f7\"],[0.6,\"#e6f5d0\"],[0.7,\"#b8e186\"],[0.8,\"#7fbc41\"],[0.9,\"#4d9221\"],[1,\"#276419\"]]},\"xaxis\":{\"gridcolor\":\"white\",\"linecolor\":\"white\",\"ticks\":\"\",\"title\":{\"standoff\":15},\"zerolinecolor\":\"white\",\"automargin\":true,\"zerolinewidth\":2},\"yaxis\":{\"gridcolor\":\"white\",\"linecolor\":\"white\",\"ticks\":\"\",\"title\":{\"standoff\":15},\"zerolinecolor\":\"white\",\"automargin\":true,\"zerolinewidth\":2},\"scene\":{\"xaxis\":{\"backgroundcolor\":\"#E5ECF6\",\"gridcolor\":\"white\",\"linecolor\":\"white\",\"showbackground\":true,\"ticks\":\"\",\"zerolinecolor\":\"white\",\"gridwidth\":2},\"yaxis\":{\"backgroundcolor\":\"#E5ECF6\",\"gridcolor\":\"white\",\"linecolor\":\"white\",\"showbackground\":true,\"ticks\":\"\",\"zerolinecolor\":\"white\",\"gridwidth\":2},\"zaxis\":{\"backgroundcolor\":\"#E5ECF6\",\"gridcolor\":\"white\",\"linecolor\":\"white\",\"showbackground\":true,\"ticks\":\"\",\"zerolinecolor\":\"white\",\"gridwidth\":2}},\"shapedefaults\":{\"line\":{\"color\":\"#2a3f5f\"}},\"annotationdefaults\":{\"arrowcolor\":\"#2a3f5f\",\"arrowhead\":0,\"arrowwidth\":1},\"geo\":{\"bgcolor\":\"white\",\"landcolor\":\"#E5ECF6\",\"subunitcolor\":\"white\",\"showland\":true,\"showlakes\":true,\"lakecolor\":\"white\"},\"title\":{\"x\":0.05},\"mapbox\":{\"style\":\"light\"}}},\"mapbox\":{\"domain\":{\"x\":[0.0,1.0],\"y\":[0.0,1.0]},\"center\":{\"lat\":47.80949,\"lon\":13.05501},\"zoom\":6,\"style\":\"carto-positron\"},\"legend\":{\"title\":{\"text\":\"val\"},\"tracegroupgap\":0},\"margin\":{\"t\":60}},                        {\"responsive\": true}                    ).then(function(){\n",
       "                            \n",
       "var gd = document.getElementById('eb03ea1a-de4a-48e4-97b6-2382901e0a0b');\n",
       "var x = new MutationObserver(function (mutations, observer) {{\n",
       "        var display = window.getComputedStyle(gd).display;\n",
       "        if (!display || display === 'none') {{\n",
       "            console.log([gd, 'removed!']);\n",
       "            Plotly.purge(gd);\n",
       "            observer.disconnect();\n",
       "        }}\n",
       "}});\n",
       "\n",
       "// Listen for the removal of the full notebook cells\n",
       "var notebookContainer = gd.closest('#notebook-container');\n",
       "if (notebookContainer) {{\n",
       "    x.observe(notebookContainer, {childList: true});\n",
       "}}\n",
       "\n",
       "// Listen for the clearing of the current output cell\n",
       "var outputEl = gd.closest('.output');\n",
       "if (outputEl) {{\n",
       "    x.observe(outputEl, {childList: true});\n",
       "}}\n",
       "\n",
       "                        })                };                });            </script>        </div>"
      ]
     },
     "metadata": {},
     "output_type": "display_data"
    }
   ],
   "source": [
    "fig = px.choropleth_mapbox(df3, geojson=inverse_geojson, locations='namee', featureidkey=\"properties.name\", color='val',\n",
    "                          mapbox_style=\"carto-positron\",\n",
    "                               zoom=6, center={\"lat\": 47.809490, \"lon\": 13.055010},)\n",
    "fig.show()"
   ]
  },
  {
   "cell_type": "code",
   "execution_count": null,
   "id": "33526fd4",
   "metadata": {},
   "outputs": [],
   "source": []
  },
  {
   "cell_type": "code",
   "execution_count": 26,
   "id": "84f70b24",
   "metadata": {},
   "outputs": [],
   "source": [
    "import plotly.express as px\n",
    "import plotly.graph_objects as go\n",
    "\n",
    "#data = pd.read_excel('tmp.xlsx', index_col=0,\n",
    "#              na_values=['string1', 'string2'])  \n",
    "#data = pd.read_csv('kraftwerke_salzburg.csv', sep=\",\", index_col=False)  \n",
    "# plants = t[t['Bundesland'] == \"Sbg\"]\n",
    "def add_trace(fig, df, remark, col, size):\n",
    "   # if remark == \"verbund\":\n",
    "   #     template=f\"<br>Name: {df['Name']}<br>Typ: {df['Typ']}<br>Leistung: {df['Leistung in MW']} MW<br>Betreiber: {df['Betreiber']}\"\n",
    "   # elif remark == \"sag\":\n",
    "    #    template=f\"<br>Name: {df['Name']}\"\n",
    "        \n",
    "    fig.add_scattermapbox(\n",
    "        lat=[df['lat']],\n",
    "        lon=[df['lon']],\n",
    "        #marker_symbol=marker,\n",
    "        mode='markers', #'markers+text'\n",
    "        #text=texts,\n",
    "        #marker = marker,\n",
    "        marker_size=size,\n",
    "        marker_color=col,\n",
    "        line=dict(width=12),\n",
    "        \n",
    "        opacity= 0.5,\n",
    "        #hovertemplate= template,\n",
    "        showlegend=False,\n",
    "       # hover_data=['amenity'],\n",
    "       # hoverinfo=all\n",
    "      #  label={'trace 1':'test'},\n",
    "       # name=name\n",
    "    )\n",
    "\n",
    "\n",
    "\n",
    "def translate(value, leftMin, leftMax, rightMin, rightMax):\n",
    "    # Figure out how 'wide' each range is\n",
    "    leftSpan = leftMax - leftMin\n",
    "    rightSpan = rightMax - rightMin\n",
    "    # Convert the left range into a 0-1 range (float)\n",
    "    valueScaled = float(value - leftMin) / float(leftSpan)\n",
    "    # Convert the 0-1 range into a value in the right range.\n",
    "    return rightMin + (valueScaled * rightSpan)\n",
    "\n",
    "\n"
   ]
  },
  {
   "cell_type": "code",
   "execution_count": 28,
   "id": "9f2522e0",
   "metadata": {},
   "outputs": [
    {
     "data": {
      "application/vnd.plotly.v1+json": {
       "config": {
        "plotlyServerURL": "https://plot.ly"
       },
       "data": [
        {
         "colorscale": [
          [
           0,
           "#FECB52"
          ],
          [
           1,
           "#FECB52"
          ]
         ],
         "featureidkey": "properties.name",
         "geojson": {
          "crs": {
           "properties": {
            "name": "urn:ogc:def:crs:OGC:1.3:CRS84"
           },
           "type": "name"
          },
          "features": [
           {
            "geometry": {
             "coordinates": [
              [
               [
                -180,
                -90
               ],
               [
                -180,
                90
               ],
               [
                180,
                90
               ],
               [
                180,
                -90
               ],
               [
                -180,
                -90
               ]
              ],
              [
               [
                13.761468343661337,
                47.52080646660642
               ],
               [
                13.749939780673508,
                47.502130413530246
               ],
               [
                13.739831699315966,
                47.49706786900644
               ],
               [
                13.737698623506096,
                47.49600878845934
               ],
               [
                13.731497960586651,
                47.49206213229628
               ],
               [
                13.728080576019494,
                47.4893613159391
               ],
               [
                13.723525447195547,
                47.485353432719
               ],
               [
                13.72198802603445,
                47.48316089154389
               ],
               [
                13.718057239028633,
                47.474178710708685
               ],
               [
                13.719202960248918,
                47.47119370242574
               ],
               [
                13.723349850747946,
                47.46261300868679
               ],
               [
                13.668442288753072,
                47.46319994029522
               ],
               [
                13.627130645354228,
                47.46796696682165
               ],
               [
                13.60952358993131,
                47.475643500784486
               ],
               [
                13.606457798581054,
                47.47569432788716
               ],
               [
                13.58643460518265,
                47.47530669240729
               ],
               [
                13.53507592650793,
                47.49544294681517
               ],
               [
                13.516932398814733,
                47.497016419942995
               ],
               [
                13.502759692442385,
                47.51222954480216
               ],
               [
                13.490813740646713,
                47.51377416410763
               ],
               [
                13.477502477804828,
                47.53083284465746
               ],
               [
                13.485529836861907,
                47.553347344138636
               ],
               [
                13.482039721354713,
                47.562245689143815
               ],
               [
                13.47908881547972,
                47.568656909194765
               ],
               [
                13.506033490577202,
                47.5825112248718
               ],
               [
                13.507093170569451,
                47.6012763494509
               ],
               [
                13.521053258892575,
                47.62370726910291
               ],
               [
                13.490632581940691,
                47.63085555988478
               ],
               [
                13.484863443678226,
                47.64207122151538
               ],
               [
                13.501161404579053,
                47.659439099253035
               ],
               [
                13.500814203853798,
                47.66953074871557
               ],
               [
                13.51772234921809,
                47.67606585346152
               ],
               [
                13.534476584956707,
                47.68491350241405
               ],
               [
                13.536404696257424,
                47.69583113716994
               ],
               [
                13.551652205865423,
                47.71465205581413
               ],
               [
                13.477370979698803,
                47.72473125857403
               ],
               [
                13.437044064399783,
                47.73909342348027
               ],
               [
                13.447086368217878,
                47.77255021084186
               ],
               [
                13.466056518915638,
                47.78669928819231
               ],
               [
                13.51601511400202,
                47.772557268928
               ],
               [
                13.536170688480274,
                47.77668107103932
               ],
               [
                13.530261084681209,
                47.79757025282514
               ],
               [
                13.511752541024057,
                47.79750739773911
               ],
               [
                13.491362176743541,
                47.78972824335878
               ],
               [
                13.484511289095584,
                47.79998448891715
               ],
               [
                13.451191675078974,
                47.80429341887363
               ],
               [
                13.398849442188165,
                47.79844364754232
               ],
               [
                13.393957421567334,
                47.79530009230283
               ],
               [
                13.351724651095312,
                47.81049488687009
               ],
               [
                13.312964897658228,
                47.81338362346725
               ],
               [
                13.308778302920036,
                47.82225122218704
               ],
               [
                13.287164601314913,
                47.83077934971909
               ],
               [
                13.293889782637898,
                47.86432091652677
               ],
               [
                13.276176908502721,
                47.879160464777776
               ],
               [
                13.270871494943625,
                47.891993523241105
               ],
               [
                13.281888759941667,
                47.90520221504385
               ],
               [
                13.28596397625165,
                47.928448961936446
               ],
               [
                13.281051844447191,
                47.955287621129074
               ],
               [
                13.308305386852295,
                47.964587650616565
               ],
               [
                13.338053780558313,
                47.954776113107535
               ],
               [
                13.340370893896262,
                47.94446341416352
               ],
               [
                13.359317945365092,
                47.94032978871332
               ],
               [
                13.363899067124235,
                47.944650609719325
               ],
               [
                13.361538037048387,
                47.955978212335594
               ],
               [
                13.372433816964902,
                47.97255316137185
               ],
               [
                13.324833675764625,
                47.99289185716716
               ],
               [
                13.30199772896553,
                47.995935901175955
               ],
               [
                13.30470126151509,
                48.00844773145437
               ],
               [
                13.257739324477054,
                47.99177805174646
               ],
               [
                13.243453938930724,
                47.99256216630181
               ],
               [
                13.213462576661653,
                47.98304537035671
               ],
               [
                13.210633201710504,
                47.97952053508733
               ],
               [
                13.199432981972263,
                47.97475031105499
               ],
               [
                13.145922802944359,
                47.97492426122499
               ],
               [
                13.124995546580353,
                47.99676404709405
               ],
               [
                13.104679932443288,
                47.9973348993728
               ],
               [
                13.103509611940929,
                47.99814389805751
               ],
               [
                13.058399902054074,
                48.0138781323072
               ],
               [
                13.047942372223341,
                48.02784954404842
               ],
               [
                13.0477425732328,
                48.03795347378263
               ],
               [
                13.029747807676841,
                48.03309647811081
               ],
               [
                13.01303093487179,
                48.03710160969214
               ],
               [
                12.99033983971967,
                48.028428310448234
               ],
               [
                12.973593909957328,
                48.024092617906796
               ],
               [
                12.962153171469591,
                48.03334762085566
               ],
               [
                12.940234149971177,
                48.036994092995705
               ],
               [
                12.938794024086247,
                48.03655378472327
               ],
               [
                12.912326251343378,
                48.02336110691883
               ],
               [
                12.890672123907757,
                47.99150922151449
               ],
               [
                12.86088959690731,
                47.99723089391568
               ],
               [
                12.849244684020219,
                48.01830700739781
               ],
               [
                12.834700013018569,
                48.028658574250564
               ],
               [
                12.77118249189689,
                48.06654970967599
               ],
               [
                12.753676467533142,
                48.08744399595454
               ],
               [
                12.751335202400906,
                48.10020168386371
               ],
               [
                12.751552952481365,
                48.112851790624454
               ],
               [
                12.765471952409863,
                48.12951392694786
               ],
               [
                12.783679569596007,
                48.1235397038678
               ],
               [
                12.793862775286234,
                48.13305787836447
               ],
               [
                12.800729041927802,
                48.14779496366545
               ],
               [
                12.828638234284856,
                48.15368514186638
               ],
               [
                12.848778092893358,
                48.16847298306341
               ],
               [
                12.872875848203517,
                48.20274403899485
               ],
               [
                12.955926838525826,
                48.20958125416833
               ],
               [
                13.001926459665786,
                48.2398935841754
               ],
               [
                13.023867198179028,
                48.25892200808435
               ],
               [
                13.064929214454004,
                48.269951866139714
               ],
               [
                13.083023403262606,
                48.27812912386339
               ],
               [
                13.126557612157283,
                48.278684419548746
               ],
               [
                13.143393052035135,
                48.28350646760216
               ],
               [
                13.177751556389154,
                48.29499874155157
               ],
               [
                13.196266154506786,
                48.29607973557583
               ],
               [
                13.254464315439044,
                48.293767929844634
               ],
               [
                13.315277079231342,
                48.317036461259335
               ],
               [
                13.342147830083436,
                48.33230728614129
               ],
               [
                13.344649513635373,
                48.334097967252795
               ],
               [
                13.374859460935586,
                48.357087271798186
               ],
               [
                13.408652267619852,
                48.372780988910925
               ],
               [
                13.420980798602951,
                48.40066409504632
               ],
               [
                13.436809057686764,
                48.42636018234907
               ],
               [
                13.435063295836004,
                48.445749832825314
               ],
               [
                13.427748407967163,
                48.45560317378212
               ],
               [
                13.440384108347953,
                48.47952291162853
               ],
               [
                13.444084183251015,
                48.48588974274162
               ],
               [
                13.458086261153824,
                48.514322165682856
               ],
               [
                13.445759074699199,
                48.52871895143682
               ],
               [
                13.451429164773517,
                48.53601737756275
               ],
               [
                13.437824342267492,
                48.553992558728304
               ],
               [
                13.450808218968634,
                48.564586794774954
               ],
               [
                13.475912099655348,
                48.55662382263038
               ],
               [
                13.507671019484409,
                48.57691769787349
               ],
               [
                13.513294273575916,
                48.59174422185886
               ],
               [
                13.529349762801287,
                48.58737704241167
               ],
               [
                13.552344554686877,
                48.57141423344827
               ],
               [
                13.581274014397039,
                48.5601109633386
               ],
               [
                13.602080753938756,
                48.569478576967384
               ],
               [
                13.624560330688572,
                48.55548840326983
               ],
               [
                13.641991248393275,
                48.55312963299124
               ],
               [
                13.661702713591101,
                48.53731806966126
               ],
               [
                13.678015861490508,
                48.53112866167816
               ],
               [
                13.706544781970202,
                48.518274991722926
               ],
               [
                13.727954502215983,
                48.51364372597261
               ],
               [
                13.734258947824607,
                48.52596028363807
               ],
               [
                13.748732694818022,
                48.53029092761529
               ],
               [
                13.744611907990022,
                48.544397704308295
               ],
               [
                13.765182437356478,
                48.561223347232676
               ],
               [
                13.80187293494583,
                48.57431215484381
               ],
               [
                13.801698635625545,
                48.59553075766928
               ],
               [
                13.826655136275003,
                48.619259129092555
               ],
               [
                13.827388039805381,
                48.63548354298059
               ],
               [
                13.81499128284112,
                48.65023709691268
               ],
               [
                13.818245182850438,
                48.65935197720145
               ],
               [
                13.814507764286912,
                48.690040895507536
               ],
               [
                13.834495308856685,
                48.69254254869852
               ],
               [
                13.838233736745138,
                48.70077110816928
               ],
               [
                13.821340890312074,
                48.69971664740794
               ],
               [
                13.80195001550865,
                48.71724873170448
               ],
               [
                13.819973339571344,
                48.73247269436746
               ],
               [
                13.823904972652254,
                48.75729411622541
               ],
               [
                13.840463717347799,
                48.77227153508407
               ],
               [
                13.877862641576309,
                48.76662326722155
               ],
               [
                13.896383493322672,
                48.757727602553594
               ],
               [
                13.92724762079524,
                48.73533491489665
               ],
               [
                13.956444191616976,
                48.71557915089606
               ],
               [
                13.977406252965523,
                48.71173191576706
               ],
               [
                14.004205361825399,
                48.70922114721568
               ],
               [
                14.035657009975328,
                48.67790687106527
               ],
               [
                14.060331383036523,
                48.674369944628005
               ],
               [
                14.053869500901017,
                48.653283829653915
               ],
               [
                14.025529869034388,
                48.65324141195025
               ],
               [
                14.011482244770098,
                48.64028370707253
               ],
               [
                14.023895385856315,
                48.631341099141494
               ],
               [
                14.049060314559261,
                48.62799434273461
               ],
               [
                14.04310872113346,
                48.613482502820176
               ],
               [
                14.055162788030543,
                48.60475676851697
               ],
               [
                14.09650511903674,
                48.592860288985534
               ],
               [
                14.116854475516513,
                48.589785134558056
               ],
               [
                14.133758272655326,
                48.598123701660924
               ],
               [
                14.164464221517843,
                48.589854667792686
               ],
               [
                14.182663976176949,
                48.594519966840686
               ],
               [
                14.222500325540357,
                48.587052852541504
               ],
               [
                14.24881043953586,
                48.57865226838867
               ],
               [
                14.271336029245036,
                48.581609548435395
               ],
               [
                14.27979967823369,
                48.57484644055533
               ],
               [
                14.322950462475491,
                48.56367499067785
               ],
               [
                14.33418381983436,
                48.55241822217751
               ],
               [
                14.342366539673028,
                48.55529395985451
               ],
               [
                14.358871263816061,
                48.57409447643877
               ],
               [
                14.369456314570034,
                48.570439299168946
               ],
               [
                14.39461766316901,
                48.57808445042035
               ],
               [
                14.386748370011437,
                48.59253413798396
               ],
               [
                14.431321578237124,
                48.58913770117082
               ],
               [
                14.444526860039387,
                48.60475668810137
               ],
               [
                14.454202124282817,
                48.6316198132114
               ],
               [
                14.444740090994436,
                48.64404491084891
               ],
               [
                14.467611016584105,
                48.64676435162258
               ],
               [
                14.496888433793918,
                48.62841717037063
               ],
               [
                14.504970937374065,
                48.617827339496905
               ],
               [
                14.54854797028125,
                48.614236770994516
               ],
               [
                14.555868054273956,
                48.60636490682233
               ],
               [
                14.59079058392135,
                48.61824448258708
               ],
               [
                14.608146428788709,
                48.629157073786615
               ],
               [
                14.627733389226787,
                48.6049617804137
               ],
               [
                14.64696335389085,
                48.6104968000798
               ],
               [
                14.664464009697303,
                48.58255914623143
               ],
               [
                14.692011720285441,
                48.58490113429138
               ],
               [
                14.712854848966414,
                48.57930051866391
               ],
               [
                14.737306483179042,
                48.55338172656353
               ],
               [
                14.750652287987648,
                48.563309497922724
               ],
               [
                14.770268116906225,
                48.55714598188366
               ],
               [
                14.783847821000045,
                48.56087783606439
               ],
               [
                14.812165790802133,
                48.55435262715039
               ],
               [
                14.836429426296265,
                48.54613640733101
               ],
               [
                14.850621770741922,
                48.530508811371654
               ],
               [
                14.87611814289651,
                48.52833018192561
               ],
               [
                14.897213901549714,
                48.5238289122768
               ],
               [
                14.921985430272743,
                48.5063099948914
               ],
               [
                14.893294939416279,
                48.49954977414131
               ],
               [
                14.89076823600783,
                48.487186262239256
               ],
               [
                14.869153630242094,
                48.480598908475066
               ],
               [
                14.878035803653248,
                48.464960439844255
               ],
               [
                14.881094512179585,
                48.45416920340863
               ],
               [
                14.899304726976974,
                48.45118796733097
               ],
               [
                14.912746152576975,
                48.43525708462906
               ],
               [
                14.929222197081275,
                48.42437900230321
               ],
               [
                14.948526911209726,
                48.408275729655884
               ],
               [
                14.937347883346334,
                48.39574046175733
               ],
               [
                14.95740686118546,
                48.391872589945
               ],
               [
                14.965473444224912,
                48.37908036597974
               ],
               [
                14.953257592412763,
                48.35736421106776
               ],
               [
                14.948500091153504,
                48.333932701233394
               ],
               [
                14.944707930199018,
                48.324208641191426
               ],
               [
                14.961276585651447,
                48.32600702599241
               ],
               [
                14.987472032851425,
                48.31986820106699
               ],
               [
                14.98610631748662,
                48.2996683525936
               ],
               [
                14.993064821745358,
                48.256481541981714
               ],
               [
                14.970980298747003,
                48.246307500079254
               ],
               [
                14.973991654256002,
                48.23412855248663
               ],
               [
                14.953177334199474,
                48.2196821319115
               ],
               [
                14.964959677962709,
                48.21546584731094
               ],
               [
                14.975168842336695,
                48.19938089723151
               ],
               [
                14.963455418254389,
                48.2029294757642
               ],
               [
                14.94545350829885,
                48.227828609959246
               ],
               [
                14.916367240931041,
                48.23341980554123
               ],
               [
                14.886672858998764,
                48.23331340585649
               ],
               [
                14.862034389001293,
                48.22759235752868
               ],
               [
                14.857647289249964,
                48.2118790838581
               ],
               [
                14.841299518230482,
                48.194285950254766
               ],
               [
                14.76999073359129,
                48.17966547701552
               ],
               [
                14.762575617971853,
                48.178129269618665
               ],
               [
                14.740290996048547,
                48.17267042780217
               ],
               [
                14.716262127184088,
                48.17922231714081
               ],
               [
                14.706108292888453,
                48.163108765397396
               ],
               [
                14.689341081657787,
                48.157842363591016
               ],
               [
                14.644596762205955,
                48.175797932834875
               ],
               [
                14.624220122940233,
                48.19124240435371
               ],
               [
                14.612441211680398,
                48.19631042542675
               ],
               [
                14.592418350473913,
                48.2186920886637
               ],
               [
                14.561823429345107,
                48.231550653279065
               ],
               [
                14.522132481880618,
                48.23817595459479
               ],
               [
                14.516499149962847,
                48.234626215560816
               ],
               [
                14.490542924226713,
                48.22243831966222
               ],
               [
                14.481896255476263,
                48.202486798133606
               ],
               [
                14.48306000462588,
                48.17905645349892
               ],
               [
                14.48378353961489,
                48.17211995981522
               ],
               [
                14.468852302186878,
                48.14815240152816
               ],
               [
                14.47814716570341,
                48.1333197826741
               ],
               [
                14.468606428772844,
                48.12305447127659
               ],
               [
                14.49389428913237,
                48.110518873200974
               ],
               [
                14.479981176313673,
                48.104966832319896
               ],
               [
                14.45884386138352,
                48.089240084575195
               ],
               [
                14.459781254769144,
                48.0745610655232
               ],
               [
                14.457053490765055,
                48.043583024288864
               ],
               [
                14.493029427438513,
                48.01139393724137
               ],
               [
                14.494094797932878,
                47.998575123780654
               ],
               [
                14.532905306714364,
                47.99045792275939
               ],
               [
                14.556069266219266,
                47.980396427392726
               ],
               [
                14.587430121919196,
                47.966967054520275
               ],
               [
                14.61716210344324,
                47.94862915023496
               ],
               [
                14.650014712778617,
                47.942672396118574
               ],
               [
                14.67156135721668,
                47.9352654799033
               ],
               [
                14.704712595954096,
                47.92612196962043
               ],
               [
                14.730122129606695,
                47.924881191059974
               ],
               [
                14.744434403895152,
                47.91798169387795
               ],
               [
                14.772909658327675,
                47.883535304763846
               ],
               [
                14.770512472985631,
                47.88013032570069
               ],
               [
                14.763701002361893,
                47.872755485397825
               ],
               [
                14.735787638691619,
                47.86407815210144
               ],
               [
                14.710944725517333,
                47.851156452345236
               ],
               [
                14.723745270979276,
                47.83270432549689
               ],
               [
                14.711111676729239,
                47.823894777097955
               ],
               [
                14.71405583462424,
                47.81396770889996
               ],
               [
                14.732408062547798,
                47.799614595586
               ],
               [
                14.71282388866229,
                47.790593876536974
               ],
               [
                14.719338953449402,
                47.7762541323648
               ],
               [
                14.736870687936824,
                47.75941647566353
               ],
               [
                14.73941005315781,
                47.74922605433828
               ],
               [
                14.696101815648682,
                47.76563186599045
               ],
               [
                14.67207858588412,
                47.74202078409811
               ],
               [
                14.653187793915182,
                47.73889317165377
               ],
               [
                14.64719231910817,
                47.72595944262536
               ],
               [
                14.614927555842169,
                47.7309722431711
               ],
               [
                14.586942803497031,
                47.71872300012681
               ],
               [
                14.551628887336577,
                47.71962742888747
               ],
               [
                14.522086806658399,
                47.70450868367179
               ],
               [
                14.528528809248565,
                47.69578050180005
               ],
               [
                14.518106779677245,
                47.68234775055645
               ],
               [
                14.489475888040413,
                47.682544991382265
               ],
               [
                14.450235959617695,
                47.66429724760942
               ],
               [
                14.44513459123595,
                47.65591433582141
               ],
               [
                14.421750658643285,
                47.65707740152773
               ],
               [
                14.398364821556784,
                47.65315467806017
               ],
               [
                14.392425738220743,
                47.636439177631914
               ],
               [
                14.362217112276326,
                47.62963119094089
               ],
               [
                14.338644891275344,
                47.61950817295423
               ],
               [
                14.327278040177621,
                47.608053358296914
               ],
               [
                14.297356904842294,
                47.60838855961336
               ],
               [
                14.282830845022065,
                47.61502399659609
               ],
               [
                14.265285012529146,
                47.61097492007717
               ],
               [
                14.23543603938687,
                47.62843178409581
               ],
               [
                14.2239677356011,
                47.64265234518986
               ],
               [
                14.233426356458017,
                47.65113700471098
               ],
               [
                14.20666130571076,
                47.65304624864519
               ],
               [
                14.17845000404205,
                47.63845605519901
               ],
               [
                14.146470255359203,
                47.637541872008285
               ],
               [
                14.09397279775532,
                47.62004668301488
               ],
               [
                14.051621972220863,
                47.617665896598645
               ],
               [
                14.049585353070214,
                47.637433635069286
               ],
               [
                14.056276961668358,
                47.668402560397155
               ],
               [
                14.02068203026115,
                47.691331947470566
               ],
               [
                14.011443723485487,
                47.70141210052122
               ],
               [
                13.984211591060614,
                47.69778283305983
               ],
               [
                13.952538634224577,
                47.71017744132775
               ],
               [
                13.92081228227291,
                47.705629593831105
               ],
               [
                13.896747229395052,
                47.718005880161456
               ],
               [
                13.861138634495047,
                47.72774375906014
               ],
               [
                13.841036098879353,
                47.71926144413417
               ],
               [
                13.793829984048736,
                47.71296748670543
               ],
               [
                13.778469559322653,
                47.718855464168996
               ],
               [
                13.757621275365063,
                47.7013177222326
               ],
               [
                13.737788782944994,
                47.67463191499944
               ],
               [
                13.707306343623786,
                47.66491161046893
               ],
               [
                13.708656979051755,
                47.65697959312436
               ],
               [
                13.694855210566404,
                47.62373265847468
               ],
               [
                13.699304230072531,
                47.60256985294222
               ],
               [
                13.695386003669368,
                47.579788508969735
               ],
               [
                13.736257558962429,
                47.57753707119247
               ],
               [
                13.75673166042166,
                47.55324076910114
               ],
               [
                13.747019627280881,
                47.54331312621415
               ],
               [
                13.761468343661337,
                47.52080646660642
               ]
              ]
             ],
             "type": "Polygon"
            },
            "properties": {
             "iso": "4",
             "name": "Oberösterreich"
            },
            "type": "Feature"
           },
           {
            "geometry": {
             "coordinates": [
              [
               [
                -180,
                -90
               ],
               [
                -180,
                90
               ],
               [
                180,
                90
               ],
               [
                180,
                -90
               ],
               [
                -180,
                -90
               ]
              ],
              [
               [
                [
                 12.71233012533157,
                 46.73610222670111
                ],
                [
                 12.711506966621174,
                 46.70547477003055
                ],
                [
                 12.69309267928992,
                 46.70209390828986
                ],
                [
                 12.687289165693864,
                 46.686651136614145
                ],
                [
                 12.691232045355415,
                 46.657410894876925
                ],
                [
                 12.658479252176756,
                 46.65769517832306
                ],
                [
                 12.64230456688071,
                 46.65243476706182
                ],
                [
                 12.631625940132983,
                 46.66183102423462
                ],
                [
                 12.604208601298641,
                 46.65658164629696
                ],
                [
                 12.551821831941057,
                 46.6592016818245
                ],
                [
                 12.51658024245422,
                 46.67904994315625
                ],
                [
                 12.480465736997035,
                 46.67770198216768
                ],
                [
                 12.476610281704172,
                 46.68603860857928
                ],
                [
                 12.443591270390158,
                 46.68885892151809
                ],
                [
                 12.427601018191798,
                 46.699541651906166
                ],
                [
                 12.384616493797905,
                 46.71679024595166
                ],
                [
                 12.36749824658057,
                 46.74716796586505
                ],
                [
                 12.357989818873376,
                 46.775431097099634
                ],
                [
                 12.309518102906122,
                 46.78545457535949
                ],
                [
                 12.285407420174677,
                 46.783165319008525
                ],
                [
                 12.292807792064421,
                 46.80310315879473
                ],
                [
                 12.283477359540774,
                 46.81540837675979
                ],
                [
                 12.3064550534329,
                 46.83370938839
                ],
                [
                 12.290243224829153,
                 46.85718765661918
                ],
                [
                 12.292403018780087,
                 46.865668961217814
                ],
                [
                 12.275953836816319,
                 46.87426177371216
                ],
                [
                 12.267235590098487,
                 46.88770735147171
                ],
                [
                 12.236700642227936,
                 46.889212513891465
                ],
                [
                 12.228404571915284,
                 46.87910662841477
                ],
                [
                 12.211599701312783,
                 46.8780889439135
                ],
                [
                 12.190892949631438,
                 46.90659824637776
                ],
                [
                 12.160249444103174,
                 46.90957476130014
                ],
                [
                 12.153125466805731,
                 46.91740377635606
                ],
                [
                 12.168900331801739,
                 46.93877223303666
                ],
                [
                 12.15820385625406,
                 46.9513202342975
                ],
                [
                 12.138808698059078,
                 46.95695960266577
                ],
                [
                 12.138344549776784,
                 46.98342942521623
                ],
                [
                 12.13057734673174,
                 46.98862425986296
                ],
                [
                 12.12517836150055,
                 47.01231335038998
                ],
                [
                 12.147958404760887,
                 47.025398308757374
                ],
                [
                 12.172019451766088,
                 47.023524617703046
                ],
                [
                 12.205425238526889,
                 47.02747342957992
                ],
                [
                 12.217211260601998,
                 47.04556231114579
                ],
                [
                 12.217117734740581,
                 47.059184269228524
                ],
                [
                 12.2413077362019,
                 47.0696691922961
                ],
                [
                 12.262013037562971,
                 47.07322140875678
                ],
                [
                 12.284347357622847,
                 47.09305169352613
                ],
                [
                 12.309205452078082,
                 47.093642493282985
                ],
                [
                 12.313713958074965,
                 47.10342381640998
                ],
                [
                 12.346194507937303,
                 47.10977199925601
                ],
                [
                 12.359268526058557,
                 47.11729796791754
                ],
                [
                 12.363857456172411,
                 47.14188976330796
                ],
                [
                 12.400109764448992,
                 47.15330715375048
                ],
                [
                 12.413516440020938,
                 47.14393188520044
                ],
                [
                 12.435224740489941,
                 47.15099471080652
                ],
                [
                 12.466152733668684,
                 47.14485684341726
                ],
                [
                 12.484119551631274,
                 47.15834918723919
                ],
                [
                 12.52216481525686,
                 47.15112368826818
                ],
                [
                 12.528536640961478,
                 47.138146278861065
                ],
                [
                 12.553409755335721,
                 47.128109537891675
                ],
                [
                 12.566984859954406,
                 47.13652421216914
                ],
                [
                 12.592847941925221,
                 47.12536941093126
                ],
                [
                 12.617204982590405,
                 47.121965270901875
                ],
                [
                 12.640102920846877,
                 47.10568305827087
                ],
                [
                 12.65745397307417,
                 47.10000921350448
                ],
                [
                 12.701908498451656,
                 47.071068580611545
                ],
                [
                 12.711139270753687,
                 47.048918029984094
                ],
                [
                 12.735459889891844,
                 47.04216002184202
                ],
                [
                 12.766556564846313,
                 47.04491082791749
                ],
                [
                 12.738076270741395,
                 47.00432586864086
                ],
                [
                 12.725259034839011,
                 46.996264019621535
                ],
                [
                 12.741707034637624,
                 46.96946262444202
                ],
                [
                 12.760195755530342,
                 46.957083123434316
                ],
                [
                 12.77026867605,
                 46.945253428270554
                ],
                [
                 12.787035542028026,
                 46.940031615688454
                ],
                [
                 12.794301186939792,
                 46.92694926273792
                ],
                [
                 12.809081266709512,
                 46.92306590509986
                ],
                [
                 12.822457903988065,
                 46.917282816401574
                ],
                [
                 12.837688794160522,
                 46.912955017440304
                ],
                [
                 12.841788233961834,
                 46.86143803590054
                ],
                [
                 12.887111065183525,
                 46.84295851763285
                ],
                [
                 12.896233736030906,
                 46.82625951182353
                ],
                [
                 12.906100465535685,
                 46.82308241873304
                ],
                [
                 12.907751826000329,
                 46.82312509676053
                ],
                [
                 12.964130115063137,
                 46.799096280170424
                ],
                [
                 12.966424855580245,
                 46.78814217906072
                ],
                [
                 12.932063228622303,
                 46.7644869313064
                ],
                [
                 12.90001757068092,
                 46.777294257683835
                ],
                [
                 12.877624087741452,
                 46.76313641764412
                ],
                [
                 12.857469906345388,
                 46.7606156930797
                ],
                [
                 12.84184899894473,
                 46.74978166169015
                ],
                [
                 12.81436659577459,
                 46.74940001895604
                ],
                [
                 12.81053552137355,
                 46.75673020780315
                ],
                [
                 12.796437287251893,
                 46.75578785946756
                ],
                [
                 12.748810713047153,
                 46.74789735360012
                ],
                [
                 12.725564407874064,
                 46.743892424702246
                ],
                [
                 12.71233012533157,
                 46.73610222670111
                ]
               ]
              ],
              [
               [
                [
                 10.241980285294451,
                 46.93217732894803
                ],
                [
                 10.227899641813437,
                 46.890750436154725
                ],
                [
                 10.235128468544865,
                 46.8852253704275
                ],
                [
                 10.232215847533027,
                 46.86727121310299
                ],
                [
                 10.193956014262476,
                 46.86698589107714
                ],
                [
                 10.168990705889817,
                 46.851155623568275
                ],
                [
                 10.145238297465273,
                 46.85154440908232
                ],
                [
                 10.141093069401869,
                 46.875770287500515
                ],
                [
                 10.117562744641475,
                 46.885875803279596
                ],
                [
                 10.098482025389323,
                 46.92790298768985
                ],
                [
                 10.120952902444445,
                 46.938453812219635
                ],
                [
                 10.135260228045352,
                 46.955817856200156
                ],
                [
                 10.14501723827558,
                 46.983936898935745
                ],
                [
                 10.160079518251028,
                 46.98430100505883
                ],
                [
                 10.154681979449725,
                 47.005942833950336
                ],
                [
                 10.131329666237974,
                 47.01358341386765
                ],
                [
                 10.13482169360016,
                 47.02990924032105
                ],
                [
                 10.157194869214969,
                 47.049433034931056
                ],
                [
                 10.151151928447865,
                 47.062388382268
                ],
                [
                 10.134888226018813,
                 47.064449885950985
                ],
                [
                 10.133819068224204,
                 47.078450940454225
                ],
                [
                 10.145164588038519,
                 47.09750224697372
                ],
                [
                 10.18658508307389,
                 47.12952926210631
                ],
                [
                 10.207074490221077,
                 47.13146136259523
                ],
                [
                 10.20368781856436,
                 47.143030699501075
                ],
                [
                 10.213285659938029,
                 47.158150684308964
                ],
                [
                 10.211710316078646,
                 47.17190166511134
                ],
                [
                 10.197135131369317,
                 47.19493937945387
                ],
                [
                 10.21298205903946,
                 47.2048495614091
                ],
                [
                 10.213032930370431,
                 47.22488058664695
                ],
                [
                 10.19804032366062,
                 47.237160867675584
                ],
                [
                 10.222345968575148,
                 47.25415795243823
                ],
                [
                 10.174512866296665,
                 47.26446019463785
                ],
                [
                 10.178645536465902,
                 47.27069713351929
                ],
                [
                 10.201372926641138,
                 47.276995770568966
                ],
                [
                 10.222743450867418,
                 47.276419989116384
                ],
                [
                 10.259691938754488,
                 47.28196020489655
                ],
                [
                 10.266288710510471,
                 47.28865505761867
                ],
                [
                 10.281978772586614,
                 47.28831695277041
                ],
                [
                 10.31545591270295,
                 47.30711827925796
                ],
                [
                 10.33065744832827,
                 47.30540029588602
                ],
                [
                 10.349121173422844,
                 47.318092955882655
                ],
                [
                 10.357204125231444,
                 47.33761060219697
                ],
                [
                 10.386804890678174,
                 47.35718490116018
                ],
                [
                 10.397866386018235,
                 47.377468770562636
                ],
                [
                 10.43710297734825,
                 47.38095220101573
                ],
                [
                 10.429584061614435,
                 47.39163181830139
                ],
                [
                 10.438888196973068,
                 47.41413523565365
                ],
                [
                 10.456533430262736,
                 47.41981089530308
                ],
                [
                 10.476091031441428,
                 47.433941104646586
                ],
                [
                 10.47056288397036,
                 47.44912655714745
                ],
                [
                 10.46410828436005,
                 47.48334052195614
                ],
                [
                 10.440630713803497,
                 47.4871321714318
                ],
                [
                 10.436071739417454,
                 47.49596874916789
                ],
                [
                 10.431652068849283,
                 47.504367657553
                ],
                [
                 10.454784740316963,
                 47.55640439936932
                ],
                [
                 10.48926620896677,
                 47.5410105861958
                ],
                [
                 10.498125945227343,
                 47.53970871906523
                ],
                [
                 10.524892888428457,
                 47.53577098798303
                ],
                [
                 10.563211142127875,
                 47.5366620172033
                ],
                [
                 10.573731595810834,
                 47.53461828716375
                ],
                [
                 10.580876331699924,
                 47.55640360926453
                ],
                [
                 10.598325336185692,
                 47.57034681895233
                ],
                [
                 10.635135003120435,
                 47.55964664261184
                ],
                [
                 10.678389060117482,
                 47.55683957470178
                ],
                [
                 10.694984788908458,
                 47.54537995221052
                ],
                [
                 10.71859197985277,
                 47.539029285535214
                ],
                [
                 10.74076778515145,
                 47.539131028222776
                ],
                [
                 10.758912144358344,
                 47.535096387035445
                ],
                [
                 10.764152619075006,
                 47.520193523854246
                ],
                [
                 10.777903988538595,
                 47.51451480811328
                ],
                [
                 10.813544320485656,
                 47.52702382783532
                ],
                [
                 10.83893000446693,
                 47.52603974293074
                ],
                [
                 10.853479388909038,
                 47.53396985246694
                ],
                [
                 10.890757101490792,
                 47.53788257981571
                ],
                [
                 10.906011266596712,
                 47.5180584268021
                ],
                [
                 10.870541717765175,
                 47.49827175467401
                ],
                [
                 10.871607205769115,
                 47.48226669048898
                ],
                [
                 10.886938386756519,
                 47.480751008143784
                ],
                [
                 10.912641296877736,
                 47.485860646995725
                ],
                [
                 10.938890086395313,
                 47.480559572501896
                ],
                [
                 10.932891523647697,
                 47.46861854793737
                ],
                [
                 10.984026803957901,
                 47.43059731647898
                ],
                [
                 10.972720404649525,
                 47.418164219721255
                ],
                [
                 10.970940520849824,
                 47.40065860428062
                ],
                [
                 10.991611389241365,
                 47.39670544454503
                ],
                [
                 11.0167542557938,
                 47.39684246018629
                ],
                [
                 11.016915960190385,
                 47.396942667282126
                ],
                [
                 11.055795467927698,
                 47.396539431679486
                ],
                [
                 11.115875484356785,
                 47.39618258214456
                ],
                [
                 11.128464478106839,
                 47.41277450416303
                ],
                [
                 11.158476229220959,
                 47.422179427579366
                ],
                [
                 11.19942784460175,
                 47.42844431083564
                ],
                [
                 11.205927770519644,
                 47.43446577874034
                ],
                [
                 11.253858886540831,
                 47.42880738143148
                ],
                [
                 11.222750281958714,
                 47.39791652873831
                ],
                [
                 11.272980984456606,
                 47.39854030142633
                ],
                [
                 11.290501038691925,
                 47.407830785923565
                ],
                [
                 11.291466350103867,
                 47.42763457002732
                ],
                [
                 11.318068285134714,
                 47.43298861342505
                ],
                [
                 11.33903157850868,
                 47.450482410122085
                ],
                [
                 11.403168868265846,
                 47.4485777218796
                ],
                [
                 11.421901414815803,
                 47.44542085366811
                ],
                [
                 11.409902256481793,
                 47.46730204232505
                ],
                [
                 11.39042899288409,
                 47.46752504221742
                ],
                [
                 11.389752612795546,
                 47.48105002183417
                ],
                [
                 11.417096077317073,
                 47.502862424246125
                ],
                [
                 11.442191013902988,
                 47.51819447259966
                ],
                [
                 11.449805081029115,
                 47.50780643545905
                ],
                [
                 11.488083079952817,
                 47.50957693152529
                ],
                [
                 11.506146850040585,
                 47.50529945744629
                ],
                [
                 11.572906336045786,
                 47.51507816567545
                ],
                [
                 11.588603877017233,
                 47.52602282412697
                ],
                [
                 11.587382438325307,
                 47.55529345398479
                ],
                [
                 11.601158293489947,
                 47.56843601122859
                ],
                [
                 11.606833248456798,
                 47.582200898055675
                ],
                [
                 11.641471586973534,
                 47.594103063271305
                ],
                [
                 11.658716174606214,
                 47.584703005235085
                ],
                [
                 11.700687006938136,
                 47.58954289933092
                ],
                [
                 11.74581028152095,
                 47.58830393356416
                ],
                [
                 11.775597820347802,
                 47.59098023991378
                ],
                [
                 11.829980165390227,
                 47.5826967087124
                ],
                [
                 11.847900005158875,
                 47.582879654056136
                ],
                [
                 11.855495271482187,
                 47.60293279106216
                ],
                [
                 11.894838448795815,
                 47.60902270896207
                ],
                [
                 12.013323046450049,
                 47.62377412192691
                ],
                [
                 12.020188506696474,
                 47.61252931897454
                ],
                [
                 12.064781594351222,
                 47.619253654079756
                ],
                [
                 12.082923499055312,
                 47.61031407421784
                ],
                [
                 12.115790016402888,
                 47.612017508149265
                ],
                [
                 12.129597151207369,
                 47.606216923703954
                ],
                [
                 12.150031861916291,
                 47.60920679282319
                ],
                [
                 12.16955742532046,
                 47.61487449259681
                ],
                [
                 12.17872636069677,
                 47.601455193564554
                ],
                [
                 12.203592293003872,
                 47.606998386276636
                ],
                [
                 12.208723546712168,
                 47.614612654664974
                ],
                [
                 12.199006350197449,
                 47.642710372726214
                ],
                [
                 12.187436709391607,
                 47.6579028465887
                ],
                [
                 12.167900236194686,
                 47.68295575427454
                ],
                [
                 12.163009939575945,
                 47.701745819718006
                ],
                [
                 12.184063131885566,
                 47.70106441314715
                ],
                [
                 12.227338542616009,
                 47.718717975649426
                ],
                [
                 12.250306921230191,
                 47.74213561334429
                ],
                [
                 12.265584277403327,
                 47.733097239424495
                ],
                [
                 12.247523040431519,
                 47.71153612765479
                ],
                [
                 12.243749205764606,
                 47.692245798588196
                ],
                [
                 12.257777731453256,
                 47.67967269232219
                ],
                [
                 12.278116815699429,
                 47.6884637754708
                ],
                [
                 12.327734852169892,
                 47.69594012802555
                ],
                [
                 12.34060577183242,
                 47.690936631533766
                ],
                [
                 12.364232391199314,
                 47.68441407004623
                ],
                [
                 12.429743925513383,
                 47.69693505620811
                ],
                [
                 12.443620600124268,
                 47.69241295665488
                ],
                [
                 12.441826884241449,
                 47.67457523030462
                ],
                [
                 12.465744250133273,
                 47.65029093932677
                ],
                [
                 12.49198014822265,
                 47.63746068526389
                ],
                [
                 12.499803947629108,
                 47.62565664235962
                ],
                [
                 12.525876733696249,
                 47.63130774640288
                ],
                [
                 12.537000310408652,
                 47.63702813409428
                ],
                [
                 12.575671173996357,
                 47.63287248306274
                ],
                [
                 12.575169718579502,
                 47.60554298174406
                ],
                [
                 12.64140092643676,
                 47.59385746008402
                ],
                [
                 12.65419857029272,
                 47.588577333129926
                ],
                [
                 12.667254000705457,
                 47.57917454243514
                ],
                [
                 12.65264976663745,
                 47.570291468444275
                ],
                [
                 12.642278227416412,
                 47.55504836533369
                ],
                [
                 12.628812166063684,
                 47.55009203074107
                ],
                [
                 12.654781132911396,
                 47.537313628251376
                ],
                [
                 12.66577856852797,
                 47.506608310620834
                ],
                [
                 12.700242570693662,
                 47.478420972040745
                ],
                [
                 12.665881683918592,
                 47.46533801302577
                ],
                [
                 12.645334360914383,
                 47.4687230957063
                ],
                [
                 12.631593995725854,
                 47.458935931197075
                ],
                [
                 12.63841011934598,
                 47.449880463540474
                ],
                [
                 12.632932295917886,
                 47.43262662016478
                ],
                [
                 12.625210119948115,
                 47.42304578369214
                ],
                [
                 12.600446912224152,
                 47.4123145053918
                ],
                [
                 12.579239110558524,
                 47.39302595470468
                ],
                [
                 12.564064539248124,
                 47.3996060801711
                ],
                [
                 12.545923383219147,
                 47.39857129096823
                ],
                [
                 12.523421411252983,
                 47.391163505741474
                ],
                [
                 12.506709801887519,
                 47.39466054702915
                ],
                [
                 12.479584754081941,
                 47.3687592659282
                ],
                [
                 12.498287065001747,
                 47.34762215541372
                ],
                [
                 12.495824472606328,
                 47.337934519244136
                ],
                [
                 12.47892794361953,
                 47.32691804673216
                ],
                [
                 12.442477739583595,
                 47.32913818060849
                ],
                [
                 12.410950650892074,
                 47.31414014546518
                ],
                [
                 12.375184632032676,
                 47.31183380366383
                ],
                [
                 12.335847195220238,
                 47.32904595217747
                ],
                [
                 12.29709225105455,
                 47.32861896847839
                ],
                [
                 12.26469680402087,
                 47.302737958499804
                ],
                [
                 12.255274248068567,
                 47.308492575787355
                ],
                [
                 12.23787459031698,
                 47.30197876846341
                ],
                [
                 12.219555502585873,
                 47.31166016632244
                ],
                [
                 12.208713292707953,
                 47.30265461671045
                ],
                [
                 12.165190652009544,
                 47.302070968153764
                ],
                [
                 12.144869364045602,
                 47.28944403929807
                ],
                [
                 12.11510611639261,
                 47.30697630226541
                ],
                [
                 12.079128713460088,
                 47.2757098105495
                ],
                [
                 12.101334360455162,
                 47.25869341172984
                ],
                [
                 12.11063890288777,
                 47.240914107737495
                ],
                [
                 12.103197823610817,
                 47.23701198405247
                ],
                [
                 12.083339038812811,
                 47.19623913868105
                ],
                [
                 12.092446039173796,
                 47.167828898122146
                ],
                [
                 12.093816076542643,
                 47.1465666351483
                ],
                [
                 12.111218527367994,
                 47.14016156715887
                ],
                [
                 12.115169922590994,
                 47.122203084216125
                ],
                [
                 12.12839487270448,
                 47.11018609126433
                ],
                [
                 12.125746216545485,
                 47.09306657018742
                ],
                [
                 12.136563065537015,
                 47.08117287622881
                ],
                [
                 12.119469340613506,
                 47.07372953009371
                ],
                [
                 12.100389162300718,
                 47.0787985388534
                ],
                [
                 12.077154858392774,
                 47.06003516037689
                ],
                [
                 12.040405129464151,
                 47.06086568982713
                ],
                [
                 12.020475238341728,
                 47.047572324491135
                ],
                [
                 11.979651686320127,
                 47.05050720828133
                ],
                [
                 11.916090137410873,
                 47.033000081583275
                ],
                [
                 11.874554256575438,
                 47.01058333656705
                ],
                [
                 11.845739604136458,
                 47.002207654818804
                ],
                [
                 11.8374056663532,
                 46.99391949782302
                ],
                [
                 11.816187980759828,
                 46.99042495980944
                ],
                [
                 11.782273026910943,
                 46.992965922779376
                ],
                [
                 11.76481966779182,
                 46.973253225085976
                ],
                [
                 11.747511491644236,
                 46.96937375225593
                ],
                [
                 11.728256335527325,
                 46.97283156363662
                ],
                [
                 11.711939116687471,
                 46.99373968300861
                ],
                [
                 11.689009726563677,
                 46.99600783339614
                ],
                [
                 11.66487129311696,
                 46.99244481043923
                ],
                [
                 11.635310293936143,
                 47.00367630953714
                ],
                [
                 11.627675188138149,
                 47.01381147429843
                ],
                [
                 11.590371019069972,
                 47.00590740705047
                ],
                [
                 11.581982998068051,
                 46.99788757244939
                ],
                [
                 11.538988578346366,
                 46.9845920464538
                ],
                [
                 11.513226881346366,
                 47.00511037656682
                ],
                [
                 11.47922227755506,
                 47.01149476223324
                ],
                [
                 11.470306213052073,
                 46.99573839287831
                ],
                [
                 11.45305672777064,
                 46.99282769052719
                ],
                [
                 11.435326460860034,
                 46.97460685418696
                ],
                [
                 11.401963288571936,
                 46.96548911047263
                ],
                [
                 11.382686709454731,
                 46.9710939939675
                ],
                [
                 11.359528769857267,
                 46.99071530500912
                ],
                [
                 11.3403400791481,
                 46.98559732723064
                ],
                [
                 11.320934047077396,
                 46.99289022413572
                ],
                [
                 11.249707313919119,
                 46.97469818954958
                ],
                [
                 11.242153455810783,
                 46.970202792261674
                ],
                [
                 11.187257697577026,
                 46.96999630650173
                ],
                [
                 11.164690689459643,
                 46.96624245643064
                ],
                [
                 11.168525091453635,
                 46.945558943574845
                ],
                [
                 11.139204811954924,
                 46.92801818564959
                ],
                [
                 11.115795924779087,
                 46.93200519054684
                ],
                [
                 11.10933068602422,
                 46.91638607259023
                ],
                [
                 11.095275117043712,
                 46.908439975708625
                ],
                [
                 11.10209988836441,
                 46.8904009535611
                ],
                [
                 11.072278648164861,
                 46.856511119649376
                ],
                [
                 11.083816711816244,
                 46.823034895659276
                ],
                [
                 11.057391475013516,
                 46.80862876668446
                ],
                [
                 11.039751230974153,
                 46.80559384679806
                ],
                [
                 11.022356313239067,
                 46.766407635614776
                ],
                [
                 10.996676797572173,
                 46.76754260577238
                ],
                [
                 10.950918019938145,
                 46.77543748701232
                ],
                [
                 10.918466048454182,
                 46.775480640103936
                ],
                [
                 10.883307386795172,
                 46.763350157356136
                ],
                [
                 10.868900110389038,
                 46.76631982449819
                ],
                [
                 10.8410027596071,
                 46.78230222062634
                ],
                [
                 10.814442779653968,
                 46.775634101491846
                ],
                [
                 10.796274063665109,
                 46.79182505870161
                ],
                [
                 10.755044511294736,
                 46.78559345143237
                ],
                [
                 10.73042891089278,
                 46.78895390566651
                ],
                [
                 10.726359463081936,
                 46.797197726252506
                ],
                [
                 10.746317916065815,
                 46.80523622016123
                ],
                [
                 10.764192634454355,
                 46.82314322643978
                ],
                [
                 10.754853234172025,
                 46.83367269188944
                ],
                [
                 10.722754882194446,
                 46.83834021457958
                ],
                [
                 10.717131323919466,
                 46.84754189234478
                ],
                [
                 10.693373972099304,
                 46.85342456116286
                ],
                [
                 10.690755522130743,
                 46.86816954781046
                ],
                [
                 10.667704887958017,
                 46.876013835628775
                ],
                [
                 10.654169624852765,
                 46.86731717211657
                ],
                [
                 10.624611924778893,
                 46.864931096001854
                ],
                [
                 10.570828059279034,
                 46.84292594415854
                ],
                [
                 10.552657966568367,
                 46.85057542825691
                ],
                [
                 10.521317420850437,
                 46.845941985172104
                ],
                [
                 10.46996267298997,
                 46.855441237422134
                ],
                [
                 10.471575265229449,
                 46.87349217034166
                ],
                [
                 10.465006260894977,
                 46.88481176200086
                ],
                [
                 10.48653265298359,
                 46.915994509626
                ],
                [
                 10.489666046811994,
                 46.938326169306436
                ],
                [
                 10.457069352258852,
                 46.95194671808583
                ],
                [
                 10.429887554587635,
                 46.95652593763376
                ],
                [
                 10.427454470113748,
                 46.97549443609529
                ],
                [
                 10.389623503508352,
                 47.00107044307413
                ],
                [
                 10.36870110701773,
                 46.991329118900325
                ],
                [
                 10.349278533031294,
                 46.99115733402216
                ],
                [
                 10.32979704120233,
                 46.96481874755466
                ],
                [
                 10.328126088581413,
                 46.9545226728458
                ],
                [
                 10.309658609326211,
                 46.95074821813034
                ],
                [
                 10.307928973913214,
                 46.938640591692135
                ],
                [
                 10.317283517724988,
                 46.926474189561546
                ],
                [
                 10.290193742014102,
                 46.923435257940646
                ],
                [
                 10.241980285294451,
                 46.93217732894803
                ]
               ]
              ],
              [
               [
                [
                 10.454784740316963,
                 47.55640439936932
                ],
                [
                 10.4335823686779,
                 47.570126062553065
                ],
                [
                 10.435295566773581,
                 47.58423749428956
                ],
                [
                 10.462594483590516,
                 47.58632080660947
                ],
                [
                 10.473692893937676,
                 47.571750097842475
                ],
                [
                 10.454784740316963,
                 47.55640439936932
                ]
               ]
              ]
             ],
             "type": "MultiPolygon"
            },
            "properties": {
             "iso": "7",
             "name": "Tirol"
            },
            "type": "Feature"
           },
           {
            "geometry": {
             "coordinates": [
              [
               [
                -180,
                -90
               ],
               [
                -180,
                90
               ],
               [
                180,
                90
               ],
               [
                180,
                -90
               ],
               [
                -180,
                -90
               ]
              ],
              [
               [
                14.07995175508011,
                47.022468173402885
               ],
               [
                14.073121332291759,
                47.013099586957885
               ],
               [
                14.049786957156686,
                47.00442833919455
               ],
               [
                14.027291972052314,
                47.00716331524728
               ],
               [
                14.015190926013304,
                47.00253850638903
               ],
               [
                14.017229578221421,
                46.98950806846118
               ],
               [
                14.010104357912198,
                46.97406613430193
               ],
               [
                13.993310760137609,
                46.966553534949746
               ],
               [
                13.969360609771583,
                46.96349357210858
               ],
               [
                13.968949867233247,
                46.96348280803285
               ],
               [
                13.968538309836061,
                46.963662705023765
               ],
               [
                13.955708907995142,
                46.95674770933982
               ],
               [
                13.947507687248372,
                46.941063158253144
               ],
               [
                13.93521090591686,
                46.946050513671636
               ],
               [
                13.912002205340182,
                46.93342637210399
               ],
               [
                13.901038160307355,
                46.934107971912795
               ],
               [
                13.882643224723962,
                46.918247886319385
               ],
               [
                13.856883756163148,
                46.91773715006538
               ],
               [
                13.848967970564987,
                46.909708961881556
               ],
               [
                13.816122795820238,
                46.918944925040236
               ],
               [
                13.785429956062647,
                46.94429481523506
               ],
               [
                13.801926313338557,
                46.9515732267686
               ],
               [
                13.832586143618208,
                46.96588741675482
               ],
               [
                13.845736683529196,
                46.98949488869677
               ],
               [
                13.86543482293839,
                46.996633591419254
               ],
               [
                13.864524532800607,
                47.02003599569461
               ],
               [
                13.906940916465537,
                47.071046874626354
               ],
               [
                13.906809642434151,
                47.07108804618045
               ],
               [
                13.879341138487497,
                47.100200419348184
               ],
               [
                13.879204359999928,
                47.10081918849729
               ],
               [
                13.879695833393724,
                47.1010115025522
               ],
               [
                13.893230834343731,
                47.11471134815169
               ],
               [
                13.944567920682557,
                47.13702331456309
               ],
               [
                13.954714923298592,
                47.125760870973735
               ],
               [
                13.988621040645056,
                47.12755590298655
               ],
               [
                13.993706352989351,
                47.14269611848338
               ],
               [
                13.963097717926296,
                47.15774143850479
               ],
               [
                13.963012447954492,
                47.157925007907316
               ],
               [
                13.962880186881707,
                47.15806109117247
               ],
               [
                13.962721603127395,
                47.15811243095302
               ],
               [
                13.943547551438872,
                47.16685354493523
               ],
               [
                13.920470555133257,
                47.17221247773791
               ],
               [
                13.897266900362307,
                47.187279009756885
               ],
               [
                13.897404562343882,
                47.187581649621606
               ],
               [
                13.897338641709347,
                47.18761101036128
               ],
               [
                13.89702880128733,
                47.187711265358416
               ],
               [
                13.865537945400298,
                47.220403754696314
               ],
               [
                13.85090964242925,
                47.23011358585622
               ],
               [
                13.869234110805834,
                47.242904241214916
               ],
               [
                13.86497429614836,
                47.25264121720441
               ],
               [
                13.824408978168938,
                47.26748574395234
               ],
               [
                13.826133245704607,
                47.293680362447944
               ],
               [
                13.805323514142584,
                47.293189737310065
               ],
               [
                13.78471466144228,
                47.275725164612666
               ],
               [
                13.761420728666591,
                47.266747734768266
               ],
               [
                13.752131876321478,
                47.276495873168784
               ],
               [
                13.720481628800998,
                47.27626402235923
               ],
               [
                13.712637994644696,
                47.259979708655045
               ],
               [
                13.696593391016176,
                47.26056487396344
               ],
               [
                13.696382619592985,
                47.26555090885081
               ],
               [
                13.654424148110406,
                47.27702790025776
               ],
               [
                13.631903267015689,
                47.27471121358447
               ],
               [
                13.608348897975546,
                47.28404782593422
               ],
               [
                13.598459281840173,
                47.29409972906839
               ],
               [
                13.604298441617575,
                47.330176404660676
               ],
               [
                13.582508889411763,
                47.38286203895957
               ],
               [
                13.57306408464016,
                47.39359936234706
               ],
               [
                13.565318583402352,
                47.41718973057866
               ],
               [
                13.565432474261243,
                47.4176703022323
               ],
               [
                13.564894484649722,
                47.4185699882216
               ],
               [
                13.593441625432567,
                47.46155748983778
               ],
               [
                13.58643460518265,
                47.47530669240729
               ],
               [
                13.606457798581054,
                47.47569432788716
               ],
               [
                13.60952358993131,
                47.475643500784486
               ],
               [
                13.627130645354228,
                47.46796696682165
               ],
               [
                13.668442288753072,
                47.46319994029522
               ],
               [
                13.723349850747946,
                47.46261300868679
               ],
               [
                13.719202960248918,
                47.47119370242574
               ],
               [
                13.718057239028633,
                47.474178710708685
               ],
               [
                13.72198802603445,
                47.48316089154389
               ],
               [
                13.723525447195547,
                47.485353432719
               ],
               [
                13.728080576019494,
                47.4893613159391
               ],
               [
                13.731497960586651,
                47.49206213229628
               ],
               [
                13.737698623506096,
                47.49600878845934
               ],
               [
                13.739831699315966,
                47.49706786900644
               ],
               [
                13.749939780673508,
                47.502130413530246
               ],
               [
                13.761468343661337,
                47.52080646660642
               ],
               [
                13.747019627280881,
                47.54331312621415
               ],
               [
                13.75673166042166,
                47.55324076910114
               ],
               [
                13.736257558962429,
                47.57753707119247
               ],
               [
                13.695386003669368,
                47.579788508969735
               ],
               [
                13.699304230072531,
                47.60256985294222
               ],
               [
                13.694855210566404,
                47.62373265847468
               ],
               [
                13.708656979051755,
                47.65697959312436
               ],
               [
                13.707306343623786,
                47.66491161046893
               ],
               [
                13.737788782944994,
                47.67463191499944
               ],
               [
                13.757621275365063,
                47.7013177222326
               ],
               [
                13.778469559322653,
                47.718855464168996
               ],
               [
                13.793829984048736,
                47.71296748670543
               ],
               [
                13.841036098879353,
                47.71926144413417
               ],
               [
                13.861138634495047,
                47.72774375906014
               ],
               [
                13.896747229395052,
                47.718005880161456
               ],
               [
                13.92081228227291,
                47.705629593831105
               ],
               [
                13.952538634224577,
                47.71017744132775
               ],
               [
                13.984211591060614,
                47.69778283305983
               ],
               [
                14.011443723485487,
                47.70141210052122
               ],
               [
                14.02068203026115,
                47.691331947470566
               ],
               [
                14.056276961668358,
                47.668402560397155
               ],
               [
                14.049585353070214,
                47.637433635069286
               ],
               [
                14.051621972220863,
                47.617665896598645
               ],
               [
                14.09397279775532,
                47.62004668301488
               ],
               [
                14.146470255359203,
                47.637541872008285
               ],
               [
                14.17845000404205,
                47.63845605519901
               ],
               [
                14.20666130571076,
                47.65304624864519
               ],
               [
                14.233426356458017,
                47.65113700471098
               ],
               [
                14.2239677356011,
                47.64265234518986
               ],
               [
                14.23543603938687,
                47.62843178409581
               ],
               [
                14.265285012529146,
                47.61097492007717
               ],
               [
                14.282830845022065,
                47.61502399659609
               ],
               [
                14.297356904842294,
                47.60838855961336
               ],
               [
                14.327278040177621,
                47.608053358296914
               ],
               [
                14.338644891275344,
                47.61950817295423
               ],
               [
                14.362217112276326,
                47.62963119094089
               ],
               [
                14.392425738220743,
                47.636439177631914
               ],
               [
                14.398364821556784,
                47.65315467806017
               ],
               [
                14.421750658643285,
                47.65707740152773
               ],
               [
                14.44513459123595,
                47.65591433582141
               ],
               [
                14.450235959617695,
                47.66429724760942
               ],
               [
                14.489475888040413,
                47.682544991382265
               ],
               [
                14.518106779677245,
                47.68234775055645
               ],
               [
                14.528528809248565,
                47.69578050180005
               ],
               [
                14.522086806658399,
                47.70450868367179
               ],
               [
                14.551628887336577,
                47.71962742888747
               ],
               [
                14.586942803497031,
                47.71872300012681
               ],
               [
                14.614927555842169,
                47.7309722431711
               ],
               [
                14.64719231910817,
                47.72595944262536
               ],
               [
                14.653187793915182,
                47.73889317165377
               ],
               [
                14.67207858588412,
                47.74202078409811
               ],
               [
                14.696101815648682,
                47.76563186599045
               ],
               [
                14.73941005315781,
                47.74922605433828
               ],
               [
                14.767999140307422,
                47.72680832604045
               ],
               [
                14.819269579383509,
                47.74470289287024
               ],
               [
                14.840936543456952,
                47.734455560941356
               ],
               [
                14.859023679322252,
                47.7409887172898
               ],
               [
                14.877529190807502,
                47.72654369179427
               ],
               [
                14.877607556136835,
                47.71652896461313
               ],
               [
                14.902180082147158,
                47.71132016828422
               ],
               [
                14.928728181599809,
                47.71113159797813
               ],
               [
                14.952018804257285,
                47.732092382257235
               ],
               [
                15.035706064504046,
                47.75323314290026
               ],
               [
                15.056869542551116,
                47.741370763088156
               ],
               [
                15.090243839242723,
                47.74196041885176
               ],
               [
                15.1325735560132,
                47.748283578875856
               ],
               [
                15.135838608061315,
                47.75848987933565
               ],
               [
                15.184314855652772,
                47.757217094151144
               ],
               [
                15.200388859733573,
                47.75391428634363
               ],
               [
                15.211421487478264,
                47.76361179208629
               ],
               [
                15.209161991496238,
                47.78830676146667
               ],
               [
                15.218322314512127,
                47.79651947522193
               ],
               [
                15.23531156918668,
                47.79929240006719
               ],
               [
                15.254603622630391,
                47.79325050939743
               ],
               [
                15.289897333644769,
                47.791667001937874
               ],
               [
                15.300863665722469,
                47.821535839809684
               ],
               [
                15.346243276703072,
                47.82616515945846
               ],
               [
                15.346925043182031,
                47.826249186043896
               ],
               [
                15.380361838950487,
                47.8241269698417
               ],
               [
                15.40563383399547,
                47.81120321180778
               ],
               [
                15.41299205113014,
                47.78486173763551
               ],
               [
                15.434315348991026,
                47.792019918967945
               ],
               [
                15.450946643550024,
                47.77414311613647
               ],
               [
                15.462008553572252,
                47.77022728271672
               ],
               [
                15.507665215871338,
                47.768276114722354
               ],
               [
                15.510935806320322,
                47.752475389300145
               ],
               [
                15.529378899268014,
                47.74638588258931
               ],
               [
                15.552193627802666,
                47.750003123732654
               ],
               [
                15.612778635840087,
                47.75155994650623
               ],
               [
                15.636811423061399,
                47.71602129895097
               ],
               [
                15.652620461834179,
                47.71810279775747
               ],
               [
                15.671313837405439,
                47.71046755706222
               ],
               [
                15.679803235298994,
                47.699460426682116
               ],
               [
                15.69776121399367,
                47.71336604484472
               ],
               [
                15.72022415864135,
                47.710348509700275
               ],
               [
                15.715309746182747,
                47.698474341959916
               ],
               [
                15.729759851658388,
                47.66463793084631
               ],
               [
                15.726176869167379,
                47.64691254106756
               ],
               [
                15.743385204563618,
                47.642665282292974
               ],
               [
                15.750835914671242,
                47.632667126598214
               ],
               [
                15.782412071172095,
                47.64275498401481
               ],
               [
                15.80834704143025,
                47.635639683389456
               ],
               [
                15.822866942434942,
                47.63840826641071
               ],
               [
                15.841385820781568,
                47.61855100951688
               ],
               [
                15.861656754855177,
                47.61712638773246
               ],
               [
                15.845607258050215,
                47.5867540841157
               ],
               [
                15.848095257531307,
                47.568233165037
               ],
               [
                15.889001676065229,
                47.571663228545006
               ],
               [
                15.906504791280582,
                47.5602465613467
               ],
               [
                15.905134135518432,
                47.542889737734825
               ],
               [
                15.914952170030258,
                47.53086429113109
               ],
               [
                15.92159382910158,
                47.53045538072957
               ],
               [
                15.959617616571604,
                47.518288565732355
               ],
               [
                16.0011737999035,
                47.516271778822365
               ],
               [
                16.027415407399957,
                47.5131133728728
               ],
               [
                16.04796887461051,
                47.491591093623796
               ],
               [
                16.066196781158446,
                47.486763197708626
               ],
               [
                16.066292688998367,
                47.50232744640029
               ],
               [
                16.08851086703062,
                47.5075859254692
               ],
               [
                16.098898449606143,
                47.524509340345666
               ],
               [
                16.110455486284074,
                47.52539764487436
               ],
               [
                16.119961352070128,
                47.51076379059004
               ],
               [
                16.11405034426309,
                47.49754439335263
               ],
               [
                16.129276490473146,
                47.468569583327245
               ],
               [
                16.139091177716853,
                47.46185877434416
               ],
               [
                16.13301441035194,
                47.453855145806486
               ],
               [
                16.145163084274714,
                47.43839302254559
               ],
               [
                16.172886654147526,
                47.422815558741206
               ],
               [
                16.166156359074826,
                47.42116327177202
               ],
               [
                16.14280344200388,
                47.4179271354864
               ],
               [
                16.11725178382822,
                47.414287844703225
               ],
               [
                16.11717091242029,
                47.414448147583876
               ],
               [
                16.117119297725143,
                47.414550435795896
               ],
               [
                16.10234051729095,
                47.41519088750307
               ],
               [
                16.108451212408212,
                47.39711507731017
               ],
               [
                16.094078827093952,
                47.39055322844561
               ],
               [
                16.0852164211781,
                47.40957328984144
               ],
               [
                16.073083299470554,
                47.4043525450399
               ],
               [
                16.06151868444872,
                47.384654579231224
               ],
               [
                16.059853481707254,
                47.38422251850425
               ],
               [
                16.031207824176057,
                47.37970597478303
               ],
               [
                16.03513771155023,
                47.372609388581374
               ],
               [
                16.031311541646083,
                47.37181756540317
               ],
               [
                16.03559880144527,
                47.35602079569435
               ],
               [
                16.035391810516092,
                47.347097944812226
               ],
               [
                16.052128652966093,
                47.333875428865205
               ],
               [
                16.060613373182843,
                47.31509876067745
               ],
               [
                16.05954515117926,
                47.31052991304728
               ],
               [
                16.06663247879929,
                47.284844798131545
               ],
               [
                16.075824654328652,
                47.27508898326515
               ],
               [
                16.077360781534356,
                47.272029102490826
               ],
               [
                16.08734952805274,
                47.24815749706783
               ],
               [
                16.0876095236132,
                47.23394446775257
               ],
               [
                16.087034086344694,
                47.21630786423931
               ],
               [
                16.09389190372797,
                47.200303310663514
               ],
               [
                16.092587242563717,
                47.19885575126069
               ],
               [
                16.1036729064834,
                47.18404808769572
               ],
               [
                16.110376439903597,
                47.16717422393531
               ],
               [
                16.116113224442298,
                47.13357524446511
               ],
               [
                16.09587721655735,
                47.11258253922575
               ],
               [
                16.087658233709114,
                47.08821475263853
               ],
               [
                16.08874406362652,
                47.07317300873451
               ],
               [
                16.099443915616142,
                47.06144298135763
               ],
               [
                16.1215777640071,
                47.04223512118739
               ],
               [
                16.131808854757168,
                47.01249545389773
               ],
               [
                16.1466782318192,
                47.00017165604247
               ],
               [
                16.155612859502217,
                46.99118038671128
               ],
               [
                16.122797706919112,
                46.991033625037204
               ],
               [
                16.10882514795755,
                46.96569165715076
               ],
               [
                16.09647318748098,
                46.95439740236769
               ],
               [
                16.095863216016685,
                46.934706154572254
               ],
               [
                16.074125998861334,
                46.93608590702433
               ],
               [
                16.055112530211147,
                46.91073541274529
               ],
               [
                16.038963002660505,
                46.904962390757994
               ],
               [
                16.03645815371421,
                46.89322253865726
               ],
               [
                16.024484607831496,
                46.888287130351735
               ],
               [
                16.010637951627473,
                46.877444932376065
               ],
               [
                16.003733506370054,
                46.84724756473163
               ],
               [
                15.997286839811482,
                46.83575189334536
               ],
               [
                15.987262400261596,
                46.82698800479157
               ],
               [
                15.998572835598079,
                46.81177695147199
               ],
               [
                15.994086224735922,
                46.80468548794545
               ],
               [
                15.985808786699506,
                46.75242212175702
               ],
               [
                15.994909350569658,
                46.73094737027155
               ],
               [
                16.02850540378197,
                46.70552188118993
               ],
               [
                16.043531627230262,
                46.68587551602577
               ],
               [
                16.03914470516575,
                46.65646806648347
               ],
               [
                16.009694428871857,
                46.66684975345508
               ],
               [
                16.002813696016858,
                46.678771038506824
               ],
               [
                15.984683704371768,
                46.684943388189204
               ],
               [
                15.94809862723393,
                46.68940420519675
               ],
               [
                15.921434246571208,
                46.706338770412806
               ],
               [
                15.878182340080068,
                46.72001462024167
               ],
               [
                15.831492674193887,
                46.7219988263202
               ],
               [
                15.804878346802797,
                46.71638872960096
               ],
               [
                15.769974266346846,
                46.699403867727916
               ],
               [
                15.753452296543822,
                46.698314604491365
               ],
               [
                15.725111502802905,
                46.69623039867571
               ],
               [
                15.695124262321022,
                46.6996790619831
               ],
               [
                15.674937467327121,
                46.70734384378073
               ],
               [
                15.6509834865388,
                46.706106815908505
               ],
               [
                15.654981894019475,
                46.6931205790406
               ],
               [
                15.63418311116206,
                46.681982253102426
               ],
               [
                15.615537122667375,
                46.68251766838437
               ],
               [
                15.595953772357266,
                46.69030156241549
               ],
               [
                15.571136759594422,
                46.68125972769756
               ],
               [
                15.547259020768982,
                46.670502818048625
               ],
               [
                15.553998095814935,
                46.6533667435734
               ],
               [
                15.54452477537326,
                46.6325592034832
               ],
               [
                15.532497525565722,
                46.63115149775681
               ],
               [
                15.512796708831035,
                46.61694717790046
               ],
               [
                15.489148566217827,
                46.62103556935881
               ],
               [
                15.464884006129429,
                46.61493241486585
               ],
               [
                15.456045037518427,
                46.63046429827525
               ],
               [
                15.415051452134898,
                46.655891081643006
               ],
               [
                15.383852702594728,
                46.651976349238936
               ],
               [
                15.32161825782718,
                46.64823710741098
               ],
               [
                15.30894205192583,
                46.6527929285909
               ],
               [
                15.2777640275306,
                46.64392349974317
               ],
               [
                15.236850489510207,
                46.63974157786863
               ],
               [
                15.198299306664547,
                46.64609252394567
               ],
               [
                15.18358787520382,
                46.65638130567122
               ],
               [
                15.167643841461945,
                46.65453287773537
               ],
               [
                15.146233103570236,
                46.66016442793277
               ],
               [
                15.125690892368258,
                46.65435286736521
               ],
               [
                15.111563203232347,
                46.66002596929453
               ],
               [
                15.083324497777186,
                46.6455041061616
               ],
               [
                15.066026866155596,
                46.652413678660864
               ],
               [
                15.050200628657269,
                46.66752685045126
               ],
               [
                15.03553985456731,
                46.666247744571606
               ],
               [
                15.03127210295496,
                46.680966106782996
               ],
               [
                15.035452451461474,
                46.70620539603287
               ],
               [
                15.04319487207487,
                46.72124982171925
               ],
               [
                15.032466153019449,
                46.7460900152983
               ],
               [
                15.031711115506777,
                46.769258774912096
               ],
               [
                14.997585924517661,
                46.78120655629604
               ],
               [
                14.977176128181322,
                46.78516609372807
               ],
               [
                14.98278407892554,
                46.80631986731562
               ],
               [
                14.996365244743608,
                46.82786212536294
               ],
               [
                15.013014228794686,
                46.83298568010733
               ],
               [
                15.020553298215097,
                46.84464167913086
               ],
               [
                15.010932372565268,
                46.85490792600899
               ],
               [
                15.00914664683249,
                46.88025588250889
               ],
               [
                15.015835016587198,
                46.88163179205608
               ],
               [
                15.027933551040734,
                46.910129398885935
               ],
               [
                15.018052314932397,
                46.92307447607448
               ],
               [
                14.993629819400251,
                46.938748042880995
               ],
               [
                14.967872797883636,
                46.98217130876799
               ],
               [
                14.950250267336468,
                46.99340160862021
               ],
               [
                14.904908887786597,
                47.000707982012614
               ],
               [
                14.886455410445981,
                47.01158241607712
               ],
               [
                14.874152848680048,
                47.022937090612494
               ],
               [
                14.847889066919606,
                47.033354163880254
               ],
               [
                14.845388056817908,
                47.048516045243
               ],
               [
                14.831452117088059,
                47.04998795493086
               ],
               [
                14.808574801801056,
                47.03936751757547
               ],
               [
                14.768062839526971,
                47.03891556947538
               ],
               [
                14.717567312023563,
                47.0188200861171
               ],
               [
                14.666889885420021,
                47.0187656311001
               ],
               [
                14.628630271459997,
                47.01399570488198
               ],
               [
                14.616143341682346,
                46.99836701130421
               ],
               [
                14.593644751072551,
                47.00205248394778
               ],
               [
                14.586800959408897,
                47.012136994541535
               ],
               [
                14.528041105242723,
                47.00961778586715
               ],
               [
                14.504041844907341,
                47.01943963772672
               ],
               [
                14.505811721126168,
                47.026254310354275
               ],
               [
                14.505888960430317,
                47.02660506528861
               ],
               [
                14.505830654414218,
                47.026819577808446
               ],
               [
                14.478809311547007,
                47.019823774921285
               ],
               [
                14.472712246695759,
                47.00813448509732
               ],
               [
                14.457543111052024,
                46.99636083759145
               ],
               [
                14.431052526978942,
                47.00090334442819
               ],
               [
                14.386753782041158,
                46.98041966721084
               ],
               [
                14.378287353615326,
                46.99257061911524
               ],
               [
                14.38349550536328,
                47.013213402123995
               ],
               [
                14.36429009883292,
                47.025727661863016
               ],
               [
                14.331042737694533,
                47.02956907438043
               ],
               [
                14.262418831747295,
                47.027364921850214
               ],
               [
                14.238527237746181,
                47.02878700007176
               ],
               [
                14.235859426927489,
                47.0262549850907
               ],
               [
                14.225283903545723,
                47.035907493499664
               ],
               [
                14.217307658667586,
                47.06210725331998
               ],
               [
                14.205244519886653,
                47.07635141837021
               ],
               [
                14.175166881769977,
                47.06269184292928
               ],
               [
                14.16352323552446,
                47.05305614308089
               ],
               [
                14.163369136070493,
                47.0529069819479
               ],
               [
                14.163322056111738,
                47.05286196871287
               ],
               [
                14.163153015362708,
                47.052863654439726
               ],
               [
                14.163005901504894,
                47.052866698998734
               ],
               [
                14.160865314918068,
                47.05339268367749
               ],
               [
                14.133380257416142,
                47.06278356050138
               ],
               [
                14.12656393247146,
                47.045789178330494
               ],
               [
                14.102620643088603,
                47.03854903871134
               ],
               [
                14.07995175508011,
                47.022468173402885
               ]
              ]
             ],
             "type": "Polygon"
            },
            "properties": {
             "iso": "6",
             "name": "Steiermark"
            },
            "type": "Feature"
           },
           {
            "geometry": {
             "coordinates": [
              [
               [
                -180,
                -90
               ],
               [
                -180,
                90
               ],
               [
                180,
                90
               ],
               [
                180,
                -90
               ],
               [
                -180,
                -90
               ]
              ],
              [
               [
                16.06678069176434,
                46.85024713809595
               ],
               [
                16.06003782636864,
                46.83934628626895
               ],
               [
                16.0291732980365,
                46.8412558362254
               ],
               [
                16.00873950573942,
                46.831021055471815
               ],
               [
                15.997286839811482,
                46.83575189334536
               ],
               [
                16.003733506370054,
                46.84724756473163
               ],
               [
                16.010637951627473,
                46.877444932376065
               ],
               [
                16.024484607831496,
                46.888287130351735
               ],
               [
                16.03645815371421,
                46.89322253865726
               ],
               [
                16.038963002660505,
                46.904962390757994
               ],
               [
                16.055112530211147,
                46.91073541274529
               ],
               [
                16.074125998861334,
                46.93608590702433
               ],
               [
                16.095863216016685,
                46.934706154572254
               ],
               [
                16.09647318748098,
                46.95439740236769
               ],
               [
                16.10882514795755,
                46.96569165715076
               ],
               [
                16.122797706919112,
                46.991033625037204
               ],
               [
                16.155612859502217,
                46.99118038671128
               ],
               [
                16.1466782318192,
                47.00017165604247
               ],
               [
                16.131808854757168,
                47.01249545389773
               ],
               [
                16.1215777640071,
                47.04223512118739
               ],
               [
                16.099443915616142,
                47.06144298135763
               ],
               [
                16.08874406362652,
                47.07317300873451
               ],
               [
                16.087658233709114,
                47.08821475263853
               ],
               [
                16.09587721655735,
                47.11258253922575
               ],
               [
                16.116113224442298,
                47.13357524446511
               ],
               [
                16.110376439903597,
                47.16717422393531
               ],
               [
                16.1036729064834,
                47.18404808769572
               ],
               [
                16.092587242563717,
                47.19885575126069
               ],
               [
                16.09389190372797,
                47.200303310663514
               ],
               [
                16.087034086344694,
                47.21630786423931
               ],
               [
                16.0876095236132,
                47.23394446775257
               ],
               [
                16.08734952805274,
                47.24815749706783
               ],
               [
                16.077360781534356,
                47.272029102490826
               ],
               [
                16.075824654328652,
                47.27508898326515
               ],
               [
                16.06663247879929,
                47.284844798131545
               ],
               [
                16.05954515117926,
                47.31052991304728
               ],
               [
                16.060613373182843,
                47.31509876067745
               ],
               [
                16.052128652966093,
                47.333875428865205
               ],
               [
                16.035391810516092,
                47.347097944812226
               ],
               [
                16.03559880144527,
                47.35602079569435
               ],
               [
                16.031311541646083,
                47.37181756540317
               ],
               [
                16.03513771155023,
                47.372609388581374
               ],
               [
                16.031207824176057,
                47.37970597478303
               ],
               [
                16.059853481707254,
                47.38422251850425
               ],
               [
                16.06151868444872,
                47.384654579231224
               ],
               [
                16.073083299470554,
                47.4043525450399
               ],
               [
                16.0852164211781,
                47.40957328984144
               ],
               [
                16.094078827093952,
                47.39055322844561
               ],
               [
                16.108451212408212,
                47.39711507731017
               ],
               [
                16.10234051729095,
                47.41519088750307
               ],
               [
                16.117119297725143,
                47.414550435795896
               ],
               [
                16.11717091242029,
                47.414448147583876
               ],
               [
                16.11725178382822,
                47.414287844703225
               ],
               [
                16.14280344200388,
                47.4179271354864
               ],
               [
                16.166156359074826,
                47.42116327177202
               ],
               [
                16.172886654147526,
                47.422815558741206
               ],
               [
                16.20813918565573,
                47.425061662269506
               ],
               [
                16.22425090390262,
                47.427546130534274
               ],
               [
                16.254293485122595,
                47.44850965393688
               ],
               [
                16.282215386075524,
                47.45554843810961
               ],
               [
                16.30396688001069,
                47.46772520135104
               ],
               [
                16.321962375015627,
                47.494129762521254
               ],
               [
                16.340833658062486,
                47.516596893355015
               ],
               [
                16.317361386201334,
                47.54275631104358
               ],
               [
                16.314868350429926,
                47.54313706901066
               ],
               [
                16.314308548351796,
                47.56577283985603
               ],
               [
                16.33214677129723,
                47.58995902128921
               ],
               [
                16.345513822736986,
                47.60323045272716
               ],
               [
                16.349125714070194,
                47.61661015714837
               ],
               [
                16.369583532164913,
                47.62141155680775
               ],
               [
                16.373663039060315,
                47.64292015292044
               ],
               [
                16.352902123695365,
                47.672246483013105
               ],
               [
                16.357854029490802,
                47.67996976703736
               ],
               [
                16.32492060617306,
                47.683765068682256
               ],
               [
                16.310194767394016,
                47.68761613714829
               ],
               [
                16.310270995806697,
                47.69585463338358
               ],
               [
                16.296207172109245,
                47.71575745872823
               ],
               [
                16.296792916501126,
                47.74273567084454
               ],
               [
                16.30050171372142,
                47.76163540806019
               ],
               [
                16.29954764188464,
                47.762180748796006
               ],
               [
                16.30493897280584,
                47.784748313319675
               ],
               [
                16.26990582983384,
                47.79153141325888
               ],
               [
                16.287054333094485,
                47.81191497091851
               ],
               [
                16.310152281234046,
                47.807765146877
               ],
               [
                16.308647276171214,
                47.791262582064405
               ],
               [
                16.316783876087396,
                47.78504548648747
               ],
               [
                16.332767934340925,
                47.80094462332806
               ],
               [
                16.34987683583584,
                47.80623644161276
               ],
               [
                16.355927486776668,
                47.821168011549574
               ],
               [
                16.363528014773575,
                47.82371082539523
               ],
               [
                16.378363345157684,
                47.82777632553025
               ],
               [
                16.38919834758694,
                47.84301955910204
               ],
               [
                16.37568267098629,
                47.85294565849879
               ],
               [
                16.349159710733165,
                47.86860779740351
               ],
               [
                16.38378533354836,
                47.876745671240194
               ],
               [
                16.390073086402186,
                47.88206274966688
               ],
               [
                16.40148118036171,
                47.87643318363829
               ],
               [
                16.42399235797815,
                47.902390028815525
               ],
               [
                16.420395365126154,
                47.913397704203334
               ],
               [
                16.45355117337773,
                47.93472934538395
               ],
               [
                16.488114495800545,
                47.94308583087194
               ],
               [
                16.519880338912994,
                47.94403446695838
               ],
               [
                16.54224643325957,
                47.920135326869
               ],
               [
                16.575216093039387,
                47.88673001222014
               ],
               [
                16.58149039670041,
                47.889066223260116
               ],
               [
                16.598523268949155,
                47.90434950282414
               ],
               [
                16.609565164518067,
                47.912812631723035
               ],
               [
                16.633298143923398,
                47.933867149314686
               ],
               [
                16.633108301744457,
                47.934252798709586
               ],
               [
                16.6410092269411,
                47.94640273171334
               ],
               [
                16.666418064279704,
                47.957530936910004
               ],
               [
                16.70094294098219,
                47.967436298737745
               ],
               [
                16.702415028077258,
                47.97426803846587
               ],
               [
                16.703333749597615,
                48.01211800144924
               ],
               [
                16.735352569587675,
                48.010083140689
               ],
               [
                16.76164641758894,
                48.01437369850825
               ],
               [
                16.806653943755222,
                48.02900287144093
               ],
               [
                16.826473741745573,
                48.02961310632213
               ],
               [
                16.82941392948715,
                48.02962208085997
               ],
               [
                16.830830255580732,
                48.04092177473804
               ],
               [
                16.848891451511687,
                48.05716249227312
               ],
               [
                16.87559081145808,
                48.072628477029504
               ],
               [
                16.905543820823528,
                48.07148113884961
               ],
               [
                16.91647862810002,
                48.05716935601403
               ],
               [
                16.92085548395941,
                48.05147571560489
               ],
               [
                16.95087328281823,
                48.04770962787613
               ],
               [
                16.976292679906894,
                48.03595110794452
               ],
               [
                16.970253194865474,
                48.02666016297122
               ],
               [
                16.987902994669824,
                48.02955639773197
               ],
               [
                16.995013966576437,
                48.04592442782684
               ],
               [
                17.017576057228673,
                48.07398297729012
               ],
               [
                17.000042295851486,
                48.084593508597116
               ],
               [
                16.97236095072529,
                48.10103891283572
               ],
               [
                16.987826064315257,
                48.111876858361576
               ],
               [
                16.99913952231395,
                48.10955362306615
               ],
               [
                17.00842227895234,
                48.09192678271507
               ],
               [
                17.03728010739384,
                48.0847651365395
               ],
               [
                17.042696737471054,
                48.10213221558601
               ],
               [
                17.065211620546183,
                48.11028963500357
               ],
               [
                17.06803248727749,
                48.11914731837325
               ],
               [
                17.094000580533788,
                48.1001085124411
               ],
               [
                17.0777204655701,
                48.08666872545074
               ],
               [
                17.07144926976008,
                48.057470452820844
               ],
               [
                17.089074987189413,
                48.04614086129679
               ],
               [
                17.076911746284914,
                48.02800539864876
               ],
               [
                17.091144325780544,
                48.020246711275156
               ],
               [
                17.111343866309962,
                48.03168689693723
               ],
               [
                17.12801511152158,
                48.02138778652731
               ],
               [
                17.145130092897016,
                48.02065259038626
               ],
               [
                17.161935298926956,
                48.006984757103126
               ],
               [
                17.09594500679954,
                47.97131918360375
               ],
               [
                17.118271003007614,
                47.96134913030367
               ],
               [
                17.09218207645644,
                47.93484114558297
               ],
               [
                17.113969847424627,
                47.9278015017433
               ],
               [
                17.096879129981062,
                47.90473704711519
               ],
               [
                17.10544828944552,
                47.89969921729653
               ],
               [
                17.086458274483878,
                47.874880809147186
               ],
               [
                17.07907325714137,
                47.87798429986375
               ],
               [
                17.038403102030173,
                47.86836524216686
               ],
               [
                17.01902100919858,
                47.868847191495085
               ],
               [
                17.01121375335866,
                47.85879077699617
               ],
               [
                17.05281308850614,
                47.83834360845373
               ],
               [
                17.048179489425237,
                47.82878440880883
               ],
               [
                17.07306981925714,
                47.80864334270468
               ],
               [
                17.05222568437135,
                47.794416188326316
               ],
               [
                17.06508695661124,
                47.77820318448944
               ],
               [
                17.072025647950188,
                47.75037818291143
               ],
               [
                17.071681466550487,
                47.728380502019796
               ],
               [
                17.09433925479381,
                47.70866603875252
               ],
               [
                17.072526127422968,
                47.70706941868255
               ],
               [
                17.041396935488848,
                47.70474151149817
               ],
               [
                16.960573826791123,
                47.69312987818647
               ],
               [
                16.913777162266438,
                47.68810823485625
               ],
               [
                16.872863905813308,
                47.69052798930682
               ],
               [
                16.868137249774875,
                47.72206992801939
               ],
               [
                16.84029237851389,
                47.70500617186971
               ],
               [
                16.829552867264493,
                47.68315865285974
               ],
               [
                16.750241869063135,
                47.68185555760813
               ],
               [
                16.74101208962192,
                47.69567894470131
               ],
               [
                16.722725154256636,
                47.72304332129196
               ],
               [
                16.7221569160982,
                47.73576783849795
               ],
               [
                16.658384733517398,
                47.74199710428662
               ],
               [
                16.640918851284688,
                47.74871582149731
               ],
               [
                16.635468660467073,
                47.759492004113454
               ],
               [
                16.623335173485064,
                47.757680499522294
               ],
               [
                16.592148846897434,
                47.75840243084999
               ],
               [
                16.549168867137585,
                47.75198828329202
               ],
               [
                16.543910520056393,
                47.74279284527235
               ],
               [
                16.538758100379358,
                47.74043621561813
               ],
               [
                16.537649482786783,
                47.73707914119801
               ],
               [
                16.55341979245353,
                47.722958233385654
               ],
               [
                16.541637538601265,
                47.71227701484875
               ],
               [
                16.52180252957451,
                47.71270366930898
               ],
               [
                16.49894868797167,
                47.703851355779726
               ],
               [
                16.46114697326414,
                47.684562237711425
               ],
               [
                16.44850268692868,
                47.696747147926565
               ],
               [
                16.444074970112155,
                47.67420799814852
               ],
               [
                16.42271198586272,
                47.66573361554902
               ],
               [
                16.42301537492363,
                47.66513970052214
               ],
               [
                16.451393132080977,
                47.656232152429716
               ],
               [
                16.480334094025935,
                47.65054335702443
               ],
               [
                16.4990040403102,
                47.639781293504186
               ],
               [
                16.517584945012214,
                47.6458053545153
               ],
               [
                16.549992126437314,
                47.634014802338534
               ],
               [
                16.57371316767822,
                47.62027902923937
               ],
               [
                16.591444446847145,
                47.61788837224751
               ],
               [
                16.636189716631165,
                47.62825857350076
               ],
               [
                16.654126220574422,
                47.622659750775604
               ],
               [
                16.67644241483089,
                47.582488243354874
               ],
               [
                16.664341921175087,
                47.56911880889016
               ],
               [
                16.685199735679284,
                47.5617269023172
               ],
               [
                16.69936469822923,
                47.5460533902057
               ],
               [
                16.706796603794682,
                47.52359980315816
               ],
               [
                16.69100246493778,
                47.51082742345552
               ],
               [
                16.653529789907807,
                47.500738966878146
               ],
               [
                16.671674317225754,
                47.47466011984029
               ],
               [
                16.663209980679326,
                47.45610377625543
               ],
               [
                16.62801897414893,
                47.44204964733458
               ],
               [
                16.6129825693761,
                47.43203196518743
               ],
               [
                16.589065967795868,
                47.423176722198
               ],
               [
                16.576918684357114,
                47.40676173629912
               ],
               [
                16.54746180821354,
                47.406006623486945
               ],
               [
                16.519942378888516,
                47.41033416620982
               ],
               [
                16.511130808771714,
                47.396930871731804
               ],
               [
                16.459847255047393,
                47.41339250103533
               ],
               [
                16.446575179767148,
                47.40713585765219
               ],
               [
                16.456375761141643,
                47.38745618171882
               ],
               [
                16.458147893172622,
                47.367632865886044
               ],
               [
                16.434908846373197,
                47.35331699830962
               ],
               [
                16.448838892373303,
                47.34040146902307
               ],
               [
                16.46416260459413,
                47.33620499840744
               ],
               [
                16.490575070855193,
                47.28067308296332
               ],
               [
                16.479297407195627,
                47.27549179439725
               ],
               [
                16.479571119947135,
                47.26334133503326
               ],
               [
                16.431617049479534,
                47.250740938579185
               ],
               [
                16.443893311996078,
                47.234127568844784
               ],
               [
                16.436142585994318,
                47.21576919103619
               ],
               [
                16.41803180478484,
                47.20572153196821
               ],
               [
                16.422232006449335,
                47.197505643619344
               ],
               [
                16.42933551533078,
                47.18541785738963
               ],
               [
                16.451879526304605,
                47.188671338568774
               ],
               [
                16.46537094463205,
                47.168560300859134
               ],
               [
                16.450199494100183,
                47.1522542678979
               ],
               [
                16.45543370779369,
                47.14268302004034
               ],
               [
                16.49160773944707,
                47.149237547656206
               ],
               [
                16.51791749007282,
                47.14970563810147
               ],
               [
                16.530473533131605,
                47.12761187629998
               ],
               [
                16.50101280302869,
                47.123784312475884
               ],
               [
                16.501856024374128,
                47.11057732235714
               ],
               [
                16.465745084773026,
                47.099319653567676
               ],
               [
                16.471976132286557,
                47.07856958587746
               ],
               [
                16.48842011061926,
                47.06920438586258
               ],
               [
                16.521614028479064,
                47.061905773780346
               ],
               [
                16.50768255564679,
                47.04999676907091
               ],
               [
                16.476981578161077,
                47.04719941284805
               ],
               [
                16.45237224704499,
                47.040448531788385
               ],
               [
                16.493657903751792,
                47.01052417472789
               ],
               [
                16.498059533779365,
                46.99856202179637
               ],
               [
                16.42858959695912,
                46.99349389789891
               ],
               [
                16.4137328269122,
                47.0050969527004
               ],
               [
                16.38763991943254,
                47.00078325393528
               ],
               [
                16.350950374479392,
                47.01076324370864
               ],
               [
                16.344047026571417,
                46.99945511015585
               ],
               [
                16.32357551449482,
                47.002926097638245
               ],
               [
                16.30337559930985,
                46.99879614139104
               ],
               [
                16.29984675679729,
                47.00643749860794
               ],
               [
                16.290401726547195,
                47.013786365579975
               ],
               [
                16.278167928079867,
                46.98812665642441
               ],
               [
                16.27751330178366,
                46.96303194957487
               ],
               [
                16.256417448272256,
                46.96456842287729
               ],
               [
                16.247636060681195,
                46.94989849653995
               ],
               [
                16.225180448868265,
                46.940585767188104
               ],
               [
                16.21111924665356,
                46.94285806746564
               ],
               [
                16.198629397307233,
                46.94031610445278
               ],
               [
                16.180304439715954,
                46.90699779466032
               ],
               [
                16.149788280130494,
                46.89341480765628
               ],
               [
                16.13391073720751,
                46.87590356188067
               ],
               [
                16.092997072027956,
                46.8649338694791
               ],
               [
                16.06678069176434,
                46.85024713809595
               ]
              ]
             ],
             "type": "Polygon"
            },
            "properties": {
             "iso": "1",
             "name": "Burgenland"
            },
            "type": "Feature"
           },
           {
            "geometry": {
             "coordinates": [
              [
               [
                -180,
                -90
               ],
               [
                -180,
                90
               ],
               [
                180,
                90
               ],
               [
                180,
                -90
               ],
               [
                -180,
                -90
               ]
              ],
              [
               [
                14.859023679322252,
                47.7409887172898
               ],
               [
                14.840936543456952,
                47.734455560941356
               ],
               [
                14.819269579383509,
                47.74470289287024
               ],
               [
                14.767999140307422,
                47.72680832604045
               ],
               [
                14.73941005315781,
                47.74922605433828
               ],
               [
                14.736870687936824,
                47.75941647566353
               ],
               [
                14.719338953449402,
                47.7762541323648
               ],
               [
                14.71282388866229,
                47.790593876536974
               ],
               [
                14.732408062547798,
                47.799614595586
               ],
               [
                14.71405583462424,
                47.81396770889996
               ],
               [
                14.711111676729239,
                47.823894777097955
               ],
               [
                14.723745270979276,
                47.83270432549689
               ],
               [
                14.710944725517333,
                47.851156452345236
               ],
               [
                14.735787638691619,
                47.86407815210144
               ],
               [
                14.763701002361893,
                47.872755485397825
               ],
               [
                14.770512472985631,
                47.88013032570069
               ],
               [
                14.772909658327675,
                47.883535304763846
               ],
               [
                14.744434403895152,
                47.91798169387795
               ],
               [
                14.730122129606695,
                47.924881191059974
               ],
               [
                14.704712595954096,
                47.92612196962043
               ],
               [
                14.67156135721668,
                47.9352654799033
               ],
               [
                14.650014712778617,
                47.942672396118574
               ],
               [
                14.61716210344324,
                47.94862915023496
               ],
               [
                14.587430121919196,
                47.966967054520275
               ],
               [
                14.556069266219266,
                47.980396427392726
               ],
               [
                14.532905306714364,
                47.99045792275939
               ],
               [
                14.494094797932878,
                47.998575123780654
               ],
               [
                14.493029427438513,
                48.01139393724137
               ],
               [
                14.457053490765055,
                48.043583024288864
               ],
               [
                14.459781254769144,
                48.0745610655232
               ],
               [
                14.45884386138352,
                48.089240084575195
               ],
               [
                14.479981176313673,
                48.104966832319896
               ],
               [
                14.49389428913237,
                48.110518873200974
               ],
               [
                14.468606428772844,
                48.12305447127659
               ],
               [
                14.47814716570341,
                48.1333197826741
               ],
               [
                14.468852302186878,
                48.14815240152816
               ],
               [
                14.48378353961489,
                48.17211995981522
               ],
               [
                14.48306000462588,
                48.17905645349892
               ],
               [
                14.481896255476263,
                48.202486798133606
               ],
               [
                14.490542924226713,
                48.22243831966222
               ],
               [
                14.516499149962847,
                48.234626215560816
               ],
               [
                14.522132481880618,
                48.23817595459479
               ],
               [
                14.561823429345107,
                48.231550653279065
               ],
               [
                14.592418350473913,
                48.2186920886637
               ],
               [
                14.612441211680398,
                48.19631042542675
               ],
               [
                14.624220122940233,
                48.19124240435371
               ],
               [
                14.644596762205955,
                48.175797932834875
               ],
               [
                14.689341081657787,
                48.157842363591016
               ],
               [
                14.706108292888453,
                48.163108765397396
               ],
               [
                14.716262127184088,
                48.17922231714081
               ],
               [
                14.740290996048547,
                48.17267042780217
               ],
               [
                14.762575617971853,
                48.178129269618665
               ],
               [
                14.76999073359129,
                48.17966547701552
               ],
               [
                14.841299518230482,
                48.194285950254766
               ],
               [
                14.857647289249964,
                48.2118790838581
               ],
               [
                14.862034389001293,
                48.22759235752868
               ],
               [
                14.886672858998764,
                48.23331340585649
               ],
               [
                14.916367240931041,
                48.23341980554123
               ],
               [
                14.94545350829885,
                48.227828609959246
               ],
               [
                14.963455418254389,
                48.2029294757642
               ],
               [
                14.975168842336695,
                48.19938089723151
               ],
               [
                14.964959677962709,
                48.21546584731094
               ],
               [
                14.953177334199474,
                48.2196821319115
               ],
               [
                14.973991654256002,
                48.23412855248663
               ],
               [
                14.970980298747003,
                48.246307500079254
               ],
               [
                14.993064821745358,
                48.256481541981714
               ],
               [
                14.98610631748662,
                48.2996683525936
               ],
               [
                14.987472032851425,
                48.31986820106699
               ],
               [
                14.961276585651447,
                48.32600702599241
               ],
               [
                14.944707930199018,
                48.324208641191426
               ],
               [
                14.948500091153504,
                48.333932701233394
               ],
               [
                14.953257592412763,
                48.35736421106776
               ],
               [
                14.965473444224912,
                48.37908036597974
               ],
               [
                14.95740686118546,
                48.391872589945
               ],
               [
                14.937347883346334,
                48.39574046175733
               ],
               [
                14.948526911209726,
                48.408275729655884
               ],
               [
                14.929222197081275,
                48.42437900230321
               ],
               [
                14.912746152576975,
                48.43525708462906
               ],
               [
                14.899304726976974,
                48.45118796733097
               ],
               [
                14.881094512179585,
                48.45416920340863
               ],
               [
                14.878035803653248,
                48.464960439844255
               ],
               [
                14.869153630242094,
                48.480598908475066
               ],
               [
                14.89076823600783,
                48.487186262239256
               ],
               [
                14.893294939416279,
                48.49954977414131
               ],
               [
                14.921985430272743,
                48.5063099948914
               ],
               [
                14.897213901549714,
                48.5238289122768
               ],
               [
                14.87611814289651,
                48.52833018192561
               ],
               [
                14.850621770741922,
                48.530508811371654
               ],
               [
                14.836429426296265,
                48.54613640733101
               ],
               [
                14.812165790802133,
                48.55435262715039
               ],
               [
                14.783847821000045,
                48.56087783606439
               ],
               [
                14.770268116906225,
                48.55714598188366
               ],
               [
                14.750652287987648,
                48.563309497922724
               ],
               [
                14.737306483179042,
                48.55338172656353
               ],
               [
                14.712854848966414,
                48.57930051866391
               ],
               [
                14.692011720285441,
                48.58490113429138
               ],
               [
                14.701113985159084,
                48.583471678533265
               ],
               [
                14.722149966098323,
                48.60298077321272
               ],
               [
                14.7151077594782,
                48.6180518032803
               ],
               [
                14.723133394632576,
                48.63898904615571
               ],
               [
                14.71336499165235,
                48.650707967644244
               ],
               [
                14.724472669777027,
                48.676311334541175
               ],
               [
                14.741815895762352,
                48.70192916499351
               ],
               [
                14.773568972612704,
                48.711730224917325
               ],
               [
                14.79572544973719,
                48.730598494131506
               ],
               [
                14.809168671399942,
                48.7344960035378
               ],
               [
                14.80153008598803,
                48.748002845328614
               ],
               [
                14.81253877144841,
                48.76206627028554
               ],
               [
                14.809341910408708,
                48.77806502815088
               ],
               [
                14.830326104712212,
                48.781107399605155
               ],
               [
                14.852181878817733,
                48.777923113547935
               ],
               [
                14.882342884584142,
                48.78072445072909
               ],
               [
                14.88579621158547,
                48.77250882359555
               ],
               [
                14.921546708507114,
                48.76919253669105
               ],
               [
                14.956848398654753,
                48.75869709834889
               ],
               [
                14.964795140959493,
                48.76376439470882
               ],
               [
                14.981895666564009,
                48.77589765085459
               ],
               [
                14.957616229271155,
                48.788415784070345
               ],
               [
                14.958468299942695,
                48.812305718133075
               ],
               [
                14.970802285247165,
                48.824523199584995
               ],
               [
                14.974007616757278,
                48.875277516000395
               ],
               [
                14.984893894656919,
                48.87536956067583
               ],
               [
                14.988924233424953,
                48.89587550536328
               ],
               [
                14.992592733195952,
                48.897924952233524
               ],
               [
                14.987597579730613,
                48.93655400220849
               ],
               [
                14.977567120092008,
                48.95645929324838
               ],
               [
                14.977271983675026,
                48.97164033989466
               ],
               [
                14.985600585735702,
                48.9872216355702
               ],
               [
                14.998904214500996,
                48.992596779069814
               ],
               [
                15.005353467126579,
                49.01305547084106
               ],
               [
                15.022812992417688,
                49.02110710691864
               ],
               [
                15.042099228908315,
                49.012164319670404
               ],
               [
                15.065409577296363,
                49.01276819604817
               ],
               [
                15.065521786415976,
                49.00037068614388
               ],
               [
                15.106734087871311,
                48.99684216774394
               ],
               [
                15.143867901933335,
                48.99767123230946
               ],
               [
                15.159737601373857,
                48.99054325140897
               ],
               [
                15.170831698103676,
                48.96339393463003
               ],
               [
                15.161342075064766,
                48.94231476511446
               ],
               [
                15.225553479801226,
                48.96076770228801
               ],
               [
                15.26255855812254,
                48.95454931199707
               ],
               [
                15.29214555403229,
                48.98494114769057
               ],
               [
                15.322854461001402,
                48.97675057531134
               ],
               [
                15.333353274745471,
                48.98544725395712
               ],
               [
                15.368101804381181,
                48.98250295977616
               ],
               [
                15.394793055648634,
                48.96582759408947
               ],
               [
                15.430661432548153,
                48.951809598273464
               ],
               [
                15.467505287386542,
                48.95211132255196
               ],
               [
                15.50315020303098,
                48.93658437392267
               ],
               [
                15.514528878083652,
                48.91473021624013
               ],
               [
                15.588244408726771,
                48.89659503797938
               ],
               [
                15.62074731263813,
                48.89621194167688
               ],
               [
                15.631471409917879,
                48.885628839319075
               ],
               [
                15.653838173927074,
                48.88344505351575
               ],
               [
                15.693735901258304,
                48.85612138677834
               ],
               [
                15.714647993984212,
                48.85867165446341
               ],
               [
                15.754813010766114,
                48.85277135409975
               ],
               [
                15.78070179590686,
                48.8754803296086
               ],
               [
                15.853171457058004,
                48.86879097250943
               ],
               [
                15.84601101593245,
                48.859414115410345
               ],
               [
                15.880920920912649,
                48.84851116662518
               ],
               [
                15.89775673460313,
                48.84954295887213
               ],
               [
                15.9081605680674,
                48.836116017351785
               ],
               [
                15.936575419927642,
                48.81952235497927
               ],
               [
                15.950817482834143,
                48.805834672729176
               ],
               [
                15.97125874420456,
                48.79590069494309
               ],
               [
                15.995558011186203,
                48.77991524156204
               ],
               [
                16.054037065303667,
                48.76159626809876
               ],
               [
                16.065873871173352,
                48.75542319950877
               ],
               [
                16.090194867501193,
                48.74839542362075
               ],
               [
                16.104099817585876,
                48.74596959032739
               ],
               [
                16.151102353475807,
                48.743764646460775
               ],
               [
                16.155935324730567,
                48.74902031157777
               ],
               [
                16.224719505726494,
                48.74066613312777
               ],
               [
                16.264285845676387,
                48.737574827656054
               ],
               [
                16.274250728184093,
                48.7418435287689
               ],
               [
                16.311593755333266,
                48.73440528567529
               ],
               [
                16.361010096873777,
                48.72862949553071
               ],
               [
                16.3953442757135,
                48.73698921860521
               ],
               [
                16.410757682622602,
                48.74491264824503
               ],
               [
                16.429479266979293,
                48.76321141135099
               ],
               [
                16.436255150512487,
                48.766193608904615
               ],
               [
                16.436491855716394,
                48.77714519177536
               ],
               [
                16.463156068412154,
                48.80520712708679
               ],
               [
                16.524702802914742,
                48.80033467107963
               ],
               [
                16.5353248665462,
                48.811392841249756
               ],
               [
                16.542000845265964,
                48.81485480531413
               ],
               [
                16.566004597313487,
                48.79446536015221
               ],
               [
                16.59451149500001,
                48.78335314211265
               ],
               [
                16.631879025195087,
                48.780989960875246
               ],
               [
                16.652705864057857,
                48.7857052169362
               ],
               [
                16.67593954905407,
                48.77208904054437
               ],
               [
                16.681907876894456,
                48.75000855247561
               ],
               [
                16.67513201282041,
                48.74325704933307
               ],
               [
                16.683822545494962,
                48.728636164232334
               ],
               [
                16.683873797533668,
                48.72834309100087
               ],
               [
                16.702409080926586,
                48.737093694497275
               ],
               [
                16.74857683809169,
                48.732667015164466
               ],
               [
                16.761765907650947,
                48.717332765208624
               ],
               [
                16.828568982943697,
                48.71163668743322
               ],
               [
                16.870747773622107,
                48.713029457963124
               ],
               [
                16.878714370311677,
                48.722870155660466
               ],
               [
                16.906964178022093,
                48.7145055635808
               ],
               [
                16.919345817419334,
                48.69992581827703
               ],
               [
                16.911794492034733,
                48.67922817018411
               ],
               [
                16.92606435562045,
                48.67280870426336
               ],
               [
                16.9219963435055,
                48.64570296264466
               ],
               [
                16.92943013525582,
                48.63910424232966
               ],
               [
                16.919980378225013,
                48.62330013911954
               ],
               [
                16.940796588055385,
                48.618401585630174
               ],
               [
                16.936157671279375,
                48.602765283027416
               ],
               [
                16.939820830949795,
                48.565899950367346
               ],
               [
                16.955234005100213,
                48.544778812369806
               ],
               [
                16.945137686305298,
                48.522885661518906
               ],
               [
                16.92275846876256,
                48.516293535733425
               ],
               [
                16.91554293490548,
                48.50057396521411
               ],
               [
                16.892081439289576,
                48.49330638737774
               ],
               [
                16.88205834710565,
                48.477981072856906
               ],
               [
                16.852800382084176,
                48.451161785719165
               ],
               [
                16.852393823667583,
                48.43914593522636
               ],
               [
                16.86363857989715,
                48.418210094325694
               ],
               [
                16.851575398496355,
                48.40968555014456
               ],
               [
                16.8521879301873,
                48.384928514886376
               ],
               [
                16.834738878580637,
                48.38008224224319
               ],
               [
                16.843469386735883,
                48.3606382608465
               ],
               [
                16.844437265396095,
                48.351883772389826
               ],
               [
                16.908927630316924,
                48.327164174792905
               ],
               [
                16.896031492874016,
                48.31063944551587
               ],
               [
                16.902012085596226,
                48.298407933490985
               ],
               [
                16.928204144341088,
                48.27165408585444
               ],
               [
                16.947455707414665,
                48.270847159689794
               ],
               [
                16.952809324814105,
                48.25740347742427
               ],
               [
                16.948044738147114,
                48.23483768356291
               ],
               [
                16.963378983378938,
                48.21797099029683
               ],
               [
                16.977029751237342,
                48.19141409657694
               ],
               [
                16.977486604087677,
                48.17271948652772
               ],
               [
                17.000957163558905,
                48.15918756986154
               ],
               [
                17.02934085380994,
                48.14105539754997
               ],
               [
                17.058482456671577,
                48.14419785384474
               ],
               [
                17.06346979369657,
                48.12349492001989
               ],
               [
                17.06803248727749,
                48.11914731837325
               ],
               [
                17.065211620546183,
                48.11028963500357
               ],
               [
                17.042696737471054,
                48.10213221558601
               ],
               [
                17.03728010739384,
                48.0847651365395
               ],
               [
                17.00842227895234,
                48.09192678271507
               ],
               [
                16.99913952231395,
                48.10955362306615
               ],
               [
                16.987826064315257,
                48.111876858361576
               ],
               [
                16.97236095072529,
                48.10103891283572
               ],
               [
                17.000042295851486,
                48.084593508597116
               ],
               [
                17.017576057228673,
                48.07398297729012
               ],
               [
                16.995013966576437,
                48.04592442782684
               ],
               [
                16.987902994669824,
                48.02955639773197
               ],
               [
                16.970253194865474,
                48.02666016297122
               ],
               [
                16.976292679906894,
                48.03595110794452
               ],
               [
                16.95087328281823,
                48.04770962787613
               ],
               [
                16.92085548395941,
                48.05147571560489
               ],
               [
                16.91647862810002,
                48.05716935601403
               ],
               [
                16.905543820823528,
                48.07148113884961
               ],
               [
                16.87559081145808,
                48.072628477029504
               ],
               [
                16.848891451511687,
                48.05716249227312
               ],
               [
                16.830830255580732,
                48.04092177473804
               ],
               [
                16.82941392948715,
                48.02962208085997
               ],
               [
                16.826473741745573,
                48.02961310632213
               ],
               [
                16.806653943755222,
                48.02900287144093
               ],
               [
                16.76164641758894,
                48.01437369850825
               ],
               [
                16.735352569587675,
                48.010083140689
               ],
               [
                16.703333749597615,
                48.01211800144924
               ],
               [
                16.702415028077258,
                47.97426803846587
               ],
               [
                16.70094294098219,
                47.967436298737745
               ],
               [
                16.666418064279704,
                47.957530936910004
               ],
               [
                16.6410092269411,
                47.94640273171334
               ],
               [
                16.633108301744457,
                47.934252798709586
               ],
               [
                16.633298143923398,
                47.933867149314686
               ],
               [
                16.609565164518067,
                47.912812631723035
               ],
               [
                16.598523268949155,
                47.90434950282414
               ],
               [
                16.58149039670041,
                47.889066223260116
               ],
               [
                16.575216093039387,
                47.88673001222014
               ],
               [
                16.54224643325957,
                47.920135326869
               ],
               [
                16.519880338912994,
                47.94403446695838
               ],
               [
                16.488114495800545,
                47.94308583087194
               ],
               [
                16.45355117337773,
                47.93472934538395
               ],
               [
                16.420395365126154,
                47.913397704203334
               ],
               [
                16.42399235797815,
                47.902390028815525
               ],
               [
                16.40148118036171,
                47.87643318363829
               ],
               [
                16.390073086402186,
                47.88206274966688
               ],
               [
                16.38378533354836,
                47.876745671240194
               ],
               [
                16.349159710733165,
                47.86860779740351
               ],
               [
                16.37568267098629,
                47.85294565849879
               ],
               [
                16.38919834758694,
                47.84301955910204
               ],
               [
                16.378363345157684,
                47.82777632553025
               ],
               [
                16.363528014773575,
                47.82371082539523
               ],
               [
                16.355927486776668,
                47.821168011549574
               ],
               [
                16.34987683583584,
                47.80623644161276
               ],
               [
                16.332767934340925,
                47.80094462332806
               ],
               [
                16.316783876087396,
                47.78504548648747
               ],
               [
                16.308647276171214,
                47.791262582064405
               ],
               [
                16.310152281234046,
                47.807765146877
               ],
               [
                16.287054333094485,
                47.81191497091851
               ],
               [
                16.26990582983384,
                47.79153141325888
               ],
               [
                16.30493897280584,
                47.784748313319675
               ],
               [
                16.29954764188464,
                47.762180748796006
               ],
               [
                16.30050171372142,
                47.76163540806019
               ],
               [
                16.296792916501126,
                47.74273567084454
               ],
               [
                16.296207172109245,
                47.71575745872823
               ],
               [
                16.310270995806697,
                47.69585463338358
               ],
               [
                16.310194767394016,
                47.68761613714829
               ],
               [
                16.32492060617306,
                47.683765068682256
               ],
               [
                16.357854029490802,
                47.67996976703736
               ],
               [
                16.352902123695365,
                47.672246483013105
               ],
               [
                16.373663039060315,
                47.64292015292044
               ],
               [
                16.369583532164913,
                47.62141155680775
               ],
               [
                16.349125714070194,
                47.61661015714837
               ],
               [
                16.345513822736986,
                47.60323045272716
               ],
               [
                16.33214677129723,
                47.58995902128921
               ],
               [
                16.314308548351796,
                47.56577283985603
               ],
               [
                16.314868350429926,
                47.54313706901066
               ],
               [
                16.317361386201334,
                47.54275631104358
               ],
               [
                16.340833658062486,
                47.516596893355015
               ],
               [
                16.321962375015627,
                47.494129762521254
               ],
               [
                16.30396688001069,
                47.46772520135104
               ],
               [
                16.282215386075524,
                47.45554843810961
               ],
               [
                16.254293485122595,
                47.44850965393688
               ],
               [
                16.22425090390262,
                47.427546130534274
               ],
               [
                16.20813918565573,
                47.425061662269506
               ],
               [
                16.172886654147526,
                47.422815558741206
               ],
               [
                16.145163084274714,
                47.43839302254559
               ],
               [
                16.13301441035194,
                47.453855145806486
               ],
               [
                16.139091177716853,
                47.46185877434416
               ],
               [
                16.129276490473146,
                47.468569583327245
               ],
               [
                16.11405034426309,
                47.49754439335263
               ],
               [
                16.119961352070128,
                47.51076379059004
               ],
               [
                16.110455486284074,
                47.52539764487436
               ],
               [
                16.098898449606143,
                47.524509340345666
               ],
               [
                16.08851086703062,
                47.5075859254692
               ],
               [
                16.066292688998367,
                47.50232744640029
               ],
               [
                16.066196781158446,
                47.486763197708626
               ],
               [
                16.04796887461051,
                47.491591093623796
               ],
               [
                16.027415407399957,
                47.5131133728728
               ],
               [
                16.0011737999035,
                47.516271778822365
               ],
               [
                15.959617616571604,
                47.518288565732355
               ],
               [
                15.92159382910158,
                47.53045538072957
               ],
               [
                15.914952170030258,
                47.53086429113109
               ],
               [
                15.905134135518432,
                47.542889737734825
               ],
               [
                15.906504791280582,
                47.5602465613467
               ],
               [
                15.889001676065229,
                47.571663228545006
               ],
               [
                15.848095257531307,
                47.568233165037
               ],
               [
                15.845607258050215,
                47.5867540841157
               ],
               [
                15.861656754855177,
                47.61712638773246
               ],
               [
                15.841385820781568,
                47.61855100951688
               ],
               [
                15.822866942434942,
                47.63840826641071
               ],
               [
                15.80834704143025,
                47.635639683389456
               ],
               [
                15.782412071172095,
                47.64275498401481
               ],
               [
                15.750835914671242,
                47.632667126598214
               ],
               [
                15.743385204563618,
                47.642665282292974
               ],
               [
                15.726176869167379,
                47.64691254106756
               ],
               [
                15.729759851658388,
                47.66463793084631
               ],
               [
                15.715309746182747,
                47.698474341959916
               ],
               [
                15.72022415864135,
                47.710348509700275
               ],
               [
                15.69776121399367,
                47.71336604484472
               ],
               [
                15.679803235298994,
                47.699460426682116
               ],
               [
                15.671313837405439,
                47.71046755706222
               ],
               [
                15.652620461834179,
                47.71810279775747
               ],
               [
                15.636811423061399,
                47.71602129895097
               ],
               [
                15.612778635840087,
                47.75155994650623
               ],
               [
                15.552193627802666,
                47.750003123732654
               ],
               [
                15.529378899268014,
                47.74638588258931
               ],
               [
                15.510935806320322,
                47.752475389300145
               ],
               [
                15.507665215871338,
                47.768276114722354
               ],
               [
                15.462008553572252,
                47.77022728271672
               ],
               [
                15.450946643550024,
                47.77414311613647
               ],
               [
                15.434315348991026,
                47.792019918967945
               ],
               [
                15.41299205113014,
                47.78486173763551
               ],
               [
                15.40563383399547,
                47.81120321180778
               ],
               [
                15.380361838950487,
                47.8241269698417
               ],
               [
                15.346925043182031,
                47.826249186043896
               ],
               [
                15.346243276703072,
                47.82616515945846
               ],
               [
                15.300863665722469,
                47.821535839809684
               ],
               [
                15.289897333644769,
                47.791667001937874
               ],
               [
                15.254603622630391,
                47.79325050939743
               ],
               [
                15.23531156918668,
                47.79929240006719
               ],
               [
                15.218322314512127,
                47.79651947522193
               ],
               [
                15.209161991496238,
                47.78830676146667
               ],
               [
                15.211421487478264,
                47.76361179208629
               ],
               [
                15.200388859733573,
                47.75391428634363
               ],
               [
                15.184314855652772,
                47.757217094151144
               ],
               [
                15.135838608061315,
                47.75848987933565
               ],
               [
                15.1325735560132,
                47.748283578875856
               ],
               [
                15.090243839242723,
                47.74196041885176
               ],
               [
                15.056869542551116,
                47.741370763088156
               ],
               [
                15.035706064504046,
                47.75323314290026
               ],
               [
                14.952018804257285,
                47.732092382257235
               ],
               [
                14.928728181599809,
                47.71113159797813
               ],
               [
                14.902180082147158,
                47.71132016828422
               ],
               [
                14.877607556136835,
                47.71652896461313
               ],
               [
                14.877529190807502,
                47.72654369179427
               ],
               [
                14.859023679322252,
                47.7409887172898
               ]
              ],
              [
               [
                16.183076337318866,
                48.1715330023072
               ],
               [
                16.199152862412333,
                48.155047213300485
               ],
               [
                16.223724324814963,
                48.13598223511378
               ],
               [
                16.219275150990406,
                48.12856427578967
               ],
               [
                16.22008970168383,
                48.124258390061264
               ],
               [
                16.237235221850312,
                48.13050549744734
               ],
               [
                16.268386917550586,
                48.134074710762185
               ],
               [
                16.299745048030232,
                48.12581830557946
               ],
               [
                16.313396343442434,
                48.12002489677758
               ],
               [
                16.325796537008358,
                48.138286274586086
               ],
               [
                16.367087762224738,
                48.12889186220601
               ],
               [
                16.38954234739435,
                48.12586107181946
               ],
               [
                16.414025622641567,
                48.11873197580842
               ],
               [
                16.43822870111404,
                48.120419933482076
               ],
               [
                16.43433413670084,
                48.1383655388173
               ],
               [
                16.454587854675793,
                48.13939973901595
               ],
               [
                16.478701650500238,
                48.155051750670594
               ],
               [
                16.5150084110348,
                48.159417949336365
               ],
               [
                16.544556556973248,
                48.143697190518886
               ],
               [
                16.577255987550867,
                48.13569759822522
               ],
               [
                16.578219440077365,
                48.144922712613294
               ],
               [
                16.57638706912172,
                48.16230983731234
               ],
               [
                16.550999159186002,
                48.165137810893235
               ],
               [
                16.55067783019302,
                48.177548267724305
               ],
               [
                16.537500771031432,
                48.20093514604349
               ],
               [
                16.553976462478936,
                48.23949782642191
               ],
               [
                16.540645976266184,
                48.24333663624501
               ],
               [
                16.548214487432826,
                48.263499813028936
               ],
               [
                16.533861100415223,
                48.26260329297847
               ],
               [
                16.50791274360715,
                48.27410433861081
               ],
               [
                16.516128973307325,
                48.286038118914654
               ],
               [
                16.503416242927113,
                48.29086499663971
               ],
               [
                16.482608719501762,
                48.293677035000385
               ],
               [
                16.473506122658208,
                48.276892982175724
               ],
               [
                16.441633391703185,
                48.292424694880935
               ],
               [
                16.43898353873527,
                48.31732209407445
               ],
               [
                16.42922197206394,
                48.32089258044634
               ],
               [
                16.39639051184434,
                48.32307627589065
               ],
               [
                16.364395939908135,
                48.282812053143836
               ],
               [
                16.346377817429453,
                48.28608193287551
               ],
               [
                16.31578230744994,
                48.274494318130685
               ],
               [
                16.290215835246784,
                48.27102211968647
               ],
               [
                16.257987472178687,
                48.24341294055577
               ],
               [
                16.235025659242712,
                48.250788665794886
               ],
               [
                16.209258760810737,
                48.26460978002107
               ],
               [
                16.197501178266393,
                48.25042891992891
               ],
               [
                16.186349293357544,
                48.22371555892549
               ],
               [
                16.210799524240645,
                48.210139371488204
               ],
               [
                16.200993360554452,
                48.18666881395831
               ],
               [
                16.183076337318866,
                48.1715330023072
               ]
              ]
             ],
             "type": "Polygon"
            },
            "properties": {
             "iso": "3",
             "name": "Niederösterreich"
            },
            "type": "Feature"
           },
           {
            "geometry": {
             "coordinates": [
              [
               [
                -180,
                -90
               ],
               [
                -180,
                90
               ],
               [
                180,
                90
               ],
               [
                180,
                -90
               ],
               [
                -180,
                -90
               ]
              ],
              [
               [
                16.42922197206394,
                48.32089258044634
               ],
               [
                16.43898353873527,
                48.31732209407445
               ],
               [
                16.441633391703185,
                48.292424694880935
               ],
               [
                16.473506122658208,
                48.276892982175724
               ],
               [
                16.482608719501762,
                48.293677035000385
               ],
               [
                16.503416242927113,
                48.29086499663971
               ],
               [
                16.516128973307325,
                48.286038118914654
               ],
               [
                16.50791274360715,
                48.27410433861081
               ],
               [
                16.533861100415223,
                48.26260329297847
               ],
               [
                16.548214487432826,
                48.263499813028936
               ],
               [
                16.540645976266184,
                48.24333663624501
               ],
               [
                16.553976462478936,
                48.23949782642191
               ],
               [
                16.537500771031432,
                48.20093514604349
               ],
               [
                16.55067783019302,
                48.177548267724305
               ],
               [
                16.550999159186002,
                48.165137810893235
               ],
               [
                16.57638706912172,
                48.16230983731234
               ],
               [
                16.578219440077365,
                48.144922712613294
               ],
               [
                16.577255987550867,
                48.13569759822522
               ],
               [
                16.544556556973248,
                48.143697190518886
               ],
               [
                16.5150084110348,
                48.159417949336365
               ],
               [
                16.478701650500238,
                48.155051750670594
               ],
               [
                16.454587854675793,
                48.13939973901595
               ],
               [
                16.43433413670084,
                48.1383655388173
               ],
               [
                16.43822870111404,
                48.120419933482076
               ],
               [
                16.414025622641567,
                48.11873197580842
               ],
               [
                16.38954234739435,
                48.12586107181946
               ],
               [
                16.367087762224738,
                48.12889186220601
               ],
               [
                16.325796537008358,
                48.138286274586086
               ],
               [
                16.313396343442434,
                48.12002489677758
               ],
               [
                16.299745048030232,
                48.12581830557946
               ],
               [
                16.268386917550586,
                48.134074710762185
               ],
               [
                16.237235221850312,
                48.13050549744734
               ],
               [
                16.22008970168383,
                48.124258390061264
               ],
               [
                16.219275150990406,
                48.12856427578967
               ],
               [
                16.223724324814963,
                48.13598223511378
               ],
               [
                16.199152862412333,
                48.155047213300485
               ],
               [
                16.183076337318866,
                48.1715330023072
               ],
               [
                16.200993360554452,
                48.18666881395831
               ],
               [
                16.210799524240645,
                48.210139371488204
               ],
               [
                16.186349293357544,
                48.22371555892549
               ],
               [
                16.197501178266393,
                48.25042891992891
               ],
               [
                16.209258760810737,
                48.26460978002107
               ],
               [
                16.235025659242712,
                48.250788665794886
               ],
               [
                16.257987472178687,
                48.24341294055577
               ],
               [
                16.290215835246784,
                48.27102211968647
               ],
               [
                16.31578230744994,
                48.274494318130685
               ],
               [
                16.346377817429453,
                48.28608193287551
               ],
               [
                16.364395939908135,
                48.282812053143836
               ],
               [
                16.39639051184434,
                48.32307627589065
               ],
               [
                16.42922197206394,
                48.32089258044634
               ]
              ]
             ],
             "type": "Polygon"
            },
            "properties": {
             "iso": "9",
             "name": "Wien"
            },
            "type": "Feature"
           },
           {
            "geometry": {
             "coordinates": [
              [
               [
                -180,
                -90
               ],
               [
                -180,
                90
               ],
               [
                180,
                90
               ],
               [
                180,
                -90
               ],
               [
                -180,
                -90
               ]
              ],
              [
               [
                14.435317574999326,
                46.443301102802934
               ],
               [
                14.410397085635578,
                46.446723856717135
               ],
               [
                14.38299781994014,
                46.439501299158074
               ],
               [
                14.34551755669944,
                46.43736514493235
               ],
               [
                14.308949814800437,
                46.43098891461741
               ],
               [
                14.28399853866686,
                46.443863099684194
               ],
               [
                14.236954936851138,
                46.4333235545519
               ],
               [
                14.216599948495517,
                46.44352814464048
               ],
               [
                14.191883617469054,
                46.44429458404601
               ],
               [
                14.163991835316772,
                46.43397401536297
               ],
               [
                14.13570392337094,
                46.45148637146107
               ],
               [
                14.122303137134274,
                46.476979250572974
               ],
               [
                14.112209792352187,
                46.47917829948533
               ],
               [
                14.09542785078693,
                46.485278576507206
               ],
               [
                14.041324492179326,
                46.4934010704966
               ],
               [
                14.020434535697586,
                46.481752552093205
               ],
               [
                14.007255940493819,
                46.48173649369479
               ],
               [
                13.97639439886244,
                46.49864697831642
               ],
               [
                13.912714913538027,
                46.52152196794435
               ],
               [
                13.88272273711716,
                46.523159036478525
               ],
               [
                13.856021853467345,
                46.51424933774895
               ],
               [
                13.829348630374026,
                46.517316502040096
               ],
               [
                13.811506762399683,
                46.50637381634889
               ],
               [
                13.799677252018698,
                46.50692828738412
               ],
               [
                13.726548253612744,
                46.52353341318186
               ],
               [
                13.691848590138754,
                46.52139208160628
               ],
               [
                13.622608817649764,
                46.54259363838935
               ],
               [
                13.587870834422574,
                46.544976577999556
               ],
               [
                13.571622635181754,
                46.539245109500825
               ],
               [
                13.564384227289862,
                46.551472698763966
               ],
               [
                13.547728946656086,
                46.5538566391995
               ],
               [
                13.515496589697932,
                46.5492155236782
               ],
               [
                13.50494956634316,
                46.566707243115914
               ],
               [
                13.47541731294658,
                46.5577479037911
               ],
               [
                13.4241737882668,
                46.55898010178373
               ],
               [
                13.409830156385379,
                46.57188074730113
               ],
               [
                13.372920325356024,
                46.579682190539096
               ],
               [
                13.36356161206192,
                46.57047524866159
               ],
               [
                13.344623445288565,
                46.57003073250573
               ],
               [
                13.322766911085287,
                46.55361350911511
               ],
               [
                13.29795342025415,
                46.56071830258031
               ],
               [
                13.253475564058748,
                46.560890051584
               ],
               [
                13.240369758759199,
                46.55233690465009
               ],
               [
                13.218010533434782,
                46.57090649650713
               ],
               [
                13.1797864044299,
                46.578213348054405
               ],
               [
                13.169256994568268,
                46.589316113990776
               ],
               [
                13.106573598572242,
                46.59479444721621
               ],
               [
                13.088252890622453,
                46.60167854273608
               ],
               [
                13.073399877373218,
                46.59933939241637
               ],
               [
                13.033216721588595,
                46.59643793897046
               ],
               [
                13.022131988580023,
                46.602646799911874
               ],
               [
                12.987812420060745,
                46.59986626060495
               ],
               [
                12.934195584283618,
                46.61012581333062
               ],
               [
                12.89084075324616,
                46.60764825131525
               ],
               [
                12.865874132475822,
                46.61011132025633
               ],
               [
                12.85359225555337,
                46.605153377498205
               ],
               [
                12.834290860022419,
                46.610315978975265
               ],
               [
                12.837895143776086,
                46.627684419026025
               ],
               [
                12.819594219234231,
                46.6286108952918
               ],
               [
                12.776541784209181,
                46.64712813851878
               ],
               [
                12.756952547187167,
                46.64759868396726
               ],
               [
                12.731990206876276,
                46.63472689531027
               ],
               [
                12.717295250889705,
                46.6491621148885
               ],
               [
                12.691232045355415,
                46.657410894876925
               ],
               [
                12.687289165693864,
                46.686651136614145
               ],
               [
                12.69309267928992,
                46.70209390828986
               ],
               [
                12.711506966621174,
                46.70547477003055
               ],
               [
                12.71233012533157,
                46.73610222670111
               ],
               [
                12.725564407874064,
                46.743892424702246
               ],
               [
                12.748810713047153,
                46.74789735360012
               ],
               [
                12.796437287251893,
                46.75578785946756
               ],
               [
                12.81053552137355,
                46.75673020780315
               ],
               [
                12.81436659577459,
                46.74940001895604
               ],
               [
                12.84184899894473,
                46.74978166169015
               ],
               [
                12.857469906345388,
                46.7606156930797
               ],
               [
                12.877624087741452,
                46.76313641764412
               ],
               [
                12.90001757068092,
                46.777294257683835
               ],
               [
                12.932063228622303,
                46.7644869313064
               ],
               [
                12.966424855580245,
                46.78814217906072
               ],
               [
                12.964130115063137,
                46.799096280170424
               ],
               [
                12.907751826000329,
                46.82312509676053
               ],
               [
                12.906100465535685,
                46.82308241873304
               ],
               [
                12.896233736030906,
                46.82625951182353
               ],
               [
                12.887111065183525,
                46.84295851763285
               ],
               [
                12.841788233961834,
                46.86143803590054
               ],
               [
                12.837688794160522,
                46.912955017440304
               ],
               [
                12.822457903988065,
                46.917282816401574
               ],
               [
                12.809081266709512,
                46.92306590509986
               ],
               [
                12.794301186939792,
                46.92694926273792
               ],
               [
                12.787035542028026,
                46.940031615688454
               ],
               [
                12.77026867605,
                46.945253428270554
               ],
               [
                12.760195755530342,
                46.957083123434316
               ],
               [
                12.741707034637624,
                46.96946262444202
               ],
               [
                12.725259034839011,
                46.996264019621535
               ],
               [
                12.738076270741395,
                47.00432586864086
               ],
               [
                12.766556564846313,
                47.04491082791749
               ],
               [
                12.735459889891844,
                47.04216002184202
               ],
               [
                12.711139270753687,
                47.048918029984094
               ],
               [
                12.701908498451656,
                47.071068580611545
               ],
               [
                12.65745397307417,
                47.10000921350448
               ],
               [
                12.671358686482467,
                47.10730687280484
               ],
               [
                12.666759914417947,
                47.12332832597829
               ],
               [
                12.705108060952291,
                47.12250679930348
               ],
               [
                12.731529490464828,
                47.13148583480726
               ],
               [
                12.739481428690597,
                47.10080555350925
               ],
               [
                12.773405544622427,
                47.101429087267256
               ],
               [
                12.782232376128615,
                47.093476847768066
               ],
               [
                12.82092307148572,
                47.09815035813142
               ],
               [
                12.837399989940888,
                47.083283319763986
               ],
               [
                12.860370654083598,
                47.081164208243386
               ],
               [
                12.871525037978646,
                47.086745990657306
               ],
               [
                12.89316386208255,
                47.08176740345311
               ],
               [
                12.919987751387149,
                47.08208757186024
               ],
               [
                12.938188217379329,
                47.07664981745189
               ],
               [
                12.953662134783846,
                47.049733150953976
               ],
               [
                12.965501762181598,
                47.03947411632989
               ],
               [
                12.986013308316,
                47.036076630230546
               ],
               [
                13.00375436875033,
                47.04434602504736
               ],
               [
                13.020528115196166,
                47.03064906320971
               ],
               [
                13.07369289080536,
                47.01388016337656
               ],
               [
                13.081009137784807,
                47.02727945325202
               ],
               [
                13.12764659663953,
                47.02751764167589
               ],
               [
                13.133886674370611,
                47.035273804366945
               ],
               [
                13.162662253075153,
                47.0375092375636
               ],
               [
                13.185309478157487,
                47.04420857514951
               ],
               [
                13.215414368289645,
                47.04454222614916
               ],
               [
                13.248823483572613,
                47.05104360662486
               ],
               [
                13.240083187844244,
                47.071998940770634
               ],
               [
                13.250508947553831,
                47.08797979402657
               ],
               [
                13.278019992673432,
                47.095622765572124
               ],
               [
                13.300625663117774,
                47.0882297193104
               ],
               [
                13.35523438896101,
                47.09757401910119
               ],
               [
                13.380842508272595,
                47.09292980003284
               ],
               [
                13.382771454698679,
                47.08076535509854
               ],
               [
                13.407077873311675,
                47.06971440962606
               ],
               [
                13.428297990515672,
                47.08184101052377
               ],
               [
                13.45868628027679,
                47.08077274124282
               ],
               [
                13.52228685019597,
                47.06897297022607
               ],
               [
                13.55968253082931,
                47.05636760720394
               ],
               [
                13.58151940726768,
                47.052465464606904
               ],
               [
                13.594973907722657,
                47.05642034540644
               ],
               [
                13.616416375553941,
                47.05960848554598
               ],
               [
                13.638386780619035,
                47.05595615645852
               ],
               [
                13.646281462001092,
                47.04076085715979
               ],
               [
                13.687294263033758,
                47.040272331049636
               ],
               [
                13.694418985696819,
                47.006567866539214
               ],
               [
                13.699971212552787,
                47.00373416925072
               ],
               [
                13.709456470156246,
                46.995920239824315
               ],
               [
                13.734469752503118,
                46.989689390217244
               ],
               [
                13.745452203876248,
                46.99433500902197
               ],
               [
                13.772503550644952,
                46.97752606122732
               ],
               [
                13.775178420200247,
                46.95308388871289
               ],
               [
                13.785429956062647,
                46.94429481523506
               ],
               [
                13.816122795820238,
                46.918944925040236
               ],
               [
                13.848967970564987,
                46.909708961881556
               ],
               [
                13.856883756163148,
                46.91773715006538
               ],
               [
                13.882643224723962,
                46.918247886319385
               ],
               [
                13.901038160307355,
                46.934107971912795
               ],
               [
                13.912002205340182,
                46.93342637210399
               ],
               [
                13.93521090591686,
                46.946050513671636
               ],
               [
                13.947507687248372,
                46.941063158253144
               ],
               [
                13.955708907995142,
                46.95674770933982
               ],
               [
                13.968538309836061,
                46.963662705023765
               ],
               [
                13.968949867233247,
                46.96348280803285
               ],
               [
                13.969360609771583,
                46.96349357210858
               ],
               [
                13.993310760137609,
                46.966553534949746
               ],
               [
                14.010104357912198,
                46.97406613430193
               ],
               [
                14.017229578221421,
                46.98950806846118
               ],
               [
                14.015190926013304,
                47.00253850638903
               ],
               [
                14.027291972052314,
                47.00716331524728
               ],
               [
                14.049786957156686,
                47.00442833919455
               ],
               [
                14.073121332291759,
                47.013099586957885
               ],
               [
                14.07995175508011,
                47.022468173402885
               ],
               [
                14.102620643088603,
                47.03854903871134
               ],
               [
                14.12656393247146,
                47.045789178330494
               ],
               [
                14.133380257416142,
                47.06278356050138
               ],
               [
                14.160865314918068,
                47.05339268367749
               ],
               [
                14.163005901504894,
                47.052866698998734
               ],
               [
                14.163153015362708,
                47.052863654439726
               ],
               [
                14.163322056111738,
                47.05286196871287
               ],
               [
                14.163369136070493,
                47.0529069819479
               ],
               [
                14.16352323552446,
                47.05305614308089
               ],
               [
                14.175166881769977,
                47.06269184292928
               ],
               [
                14.205244519886653,
                47.07635141837021
               ],
               [
                14.217307658667586,
                47.06210725331998
               ],
               [
                14.225283903545723,
                47.035907493499664
               ],
               [
                14.235859426927489,
                47.0262549850907
               ],
               [
                14.238527237746181,
                47.02878700007176
               ],
               [
                14.262418831747295,
                47.027364921850214
               ],
               [
                14.331042737694533,
                47.02956907438043
               ],
               [
                14.36429009883292,
                47.025727661863016
               ],
               [
                14.38349550536328,
                47.013213402123995
               ],
               [
                14.378287353615326,
                46.99257061911524
               ],
               [
                14.386753782041158,
                46.98041966721084
               ],
               [
                14.431052526978942,
                47.00090334442819
               ],
               [
                14.457543111052024,
                46.99636083759145
               ],
               [
                14.472712246695759,
                47.00813448509732
               ],
               [
                14.478809311547007,
                47.019823774921285
               ],
               [
                14.505830654414218,
                47.026819577808446
               ],
               [
                14.505888960430317,
                47.02660506528861
               ],
               [
                14.505811721126168,
                47.026254310354275
               ],
               [
                14.504041844907341,
                47.01943963772672
               ],
               [
                14.528041105242723,
                47.00961778586715
               ],
               [
                14.586800959408897,
                47.012136994541535
               ],
               [
                14.593644751072551,
                47.00205248394778
               ],
               [
                14.616143341682346,
                46.99836701130421
               ],
               [
                14.628630271459997,
                47.01399570488198
               ],
               [
                14.666889885420021,
                47.0187656311001
               ],
               [
                14.717567312023563,
                47.0188200861171
               ],
               [
                14.768062839526971,
                47.03891556947538
               ],
               [
                14.808574801801056,
                47.03936751757547
               ],
               [
                14.831452117088059,
                47.04998795493086
               ],
               [
                14.845388056817908,
                47.048516045243
               ],
               [
                14.847889066919606,
                47.033354163880254
               ],
               [
                14.874152848680048,
                47.022937090612494
               ],
               [
                14.886455410445981,
                47.01158241607712
               ],
               [
                14.904908887786597,
                47.000707982012614
               ],
               [
                14.950250267336468,
                46.99340160862021
               ],
               [
                14.967872797883636,
                46.98217130876799
               ],
               [
                14.993629819400251,
                46.938748042880995
               ],
               [
                15.018052314932397,
                46.92307447607448
               ],
               [
                15.027933551040734,
                46.910129398885935
               ],
               [
                15.015835016587198,
                46.88163179205608
               ],
               [
                15.00914664683249,
                46.88025588250889
               ],
               [
                15.010932372565268,
                46.85490792600899
               ],
               [
                15.020553298215097,
                46.84464167913086
               ],
               [
                15.013014228794686,
                46.83298568010733
               ],
               [
                14.996365244743608,
                46.82786212536294
               ],
               [
                14.98278407892554,
                46.80631986731562
               ],
               [
                14.977176128181322,
                46.78516609372807
               ],
               [
                14.997585924517661,
                46.78120655629604
               ],
               [
                15.031711115506777,
                46.769258774912096
               ],
               [
                15.032466153019449,
                46.7460900152983
               ],
               [
                15.04319487207487,
                46.72124982171925
               ],
               [
                15.035452451461474,
                46.70620539603287
               ],
               [
                15.03127210295496,
                46.680966106782996
               ],
               [
                15.03553985456731,
                46.666247744571606
               ],
               [
                15.050200628657269,
                46.66752685045126
               ],
               [
                15.066026866155596,
                46.652413678660864
               ],
               [
                15.044928169148317,
                46.65247260238725
               ],
               [
                15.017076175200458,
                46.64118516881775
               ],
               [
                14.996249810818307,
                46.62229517777864
               ],
               [
                14.980276965333847,
                46.60175709874033
               ],
               [
                14.972429041511768,
                46.62350766972289
               ],
               [
                14.956574469567887,
                46.633092311889136
               ],
               [
                14.931994473103087,
                46.61567804392616
               ],
               [
                14.923936655657426,
                46.60360955423701
               ],
               [
                14.880552716155968,
                46.611612469864475
               ],
               [
                14.867948015778211,
                46.6047697716876
               ],
               [
                14.835389809439851,
                46.56357952970373
               ],
               [
                14.823623865043784,
                46.534900086450534
               ],
               [
                14.819486109827174,
                46.50974438096276
               ],
               [
                14.785250079026586,
                46.49984352553267
               ],
               [
                14.759955963822996,
                46.50479842526632
               ],
               [
                14.730629304553231,
                46.492032567734384
               ],
               [
                14.715629120789446,
                46.5003065814155
               ],
               [
                14.6999844487781,
                46.4639464331015
               ],
               [
                14.679139711585716,
                46.46285451299678
               ],
               [
                14.67564396450364,
                46.45103168762538
               ],
               [
                14.632303772669502,
                46.43983329986897
               ],
               [
                14.610154029488237,
                46.439794942148446
               ],
               [
                14.587167326976283,
                46.42993485852157
               ],
               [
                14.586972127538303,
                46.392601220802625
               ],
               [
                14.573856818299264,
                46.37585374215964
               ],
               [
                14.557646402162863,
                46.38550823135907
               ],
               [
                14.54070479276499,
                46.41194359413592
               ],
               [
                14.512138574097982,
                46.42653528442355
               ],
               [
                14.493038021847354,
                46.41327774013647
               ],
               [
                14.465893394191847,
                46.42243191050457
               ],
               [
                14.447581202730655,
                46.42194952649314
               ],
               [
                14.432148124510434,
                46.434566667207115
               ],
               [
                14.435317574999326,
                46.443301102802934
               ]
              ]
             ],
             "type": "Polygon"
            },
            "properties": {
             "iso": "2",
             "name": "Kärnten"
            },
            "type": "Feature"
           },
           {
            "geometry": {
             "coordinates": [
              [
               [
                -180,
                -90
               ],
               [
                -180,
                90
               ],
               [
                180,
                90
               ],
               [
                180,
                -90
               ],
               [
                -180,
                -90
               ]
              ],
              [
               [
                10.13482169360016,
                47.02990924032105
               ],
               [
                10.131329666237974,
                47.01358341386765
               ],
               [
                10.154681979449725,
                47.005942833950336
               ],
               [
                10.160079518251028,
                46.98430100505883
               ],
               [
                10.14501723827558,
                46.983936898935745
               ],
               [
                10.135260228045352,
                46.955817856200156
               ],
               [
                10.120952902444445,
                46.938453812219635
               ],
               [
                10.098482025389323,
                46.92790298768985
               ],
               [
                10.117562744641475,
                46.885875803279596
               ],
               [
                10.141093069401869,
                46.875770287500515
               ],
               [
                10.145238297465273,
                46.85154440908232
               ],
               [
                10.105427165643341,
                46.841444752318075
               ],
               [
                10.087472371935121,
                46.86172454952258
               ],
               [
                10.0598334783117,
                46.86132061823789
               ],
               [
                10.052676969765816,
                46.87643413644324
               ],
               [
                10.026737287927446,
                46.89635643275821
               ],
               [
                9.98269864769632,
                46.90675177892499
               ],
               [
                9.978131577761552,
                46.91643699540343
               ],
               [
                9.946381846167013,
                46.91290406202799
               ],
               [
                9.923035071676765,
                46.91879884637782
               ],
               [
                9.8779373760209,
                46.93869324829403
               ],
               [
                9.874973356822716,
                46.97262377270369
               ],
               [
                9.892214844734049,
                46.989490403814045
               ],
               [
                9.88903584234105,
                47.001292729237356
               ],
               [
                9.873512897835184,
                47.00691541864255
               ],
               [
                9.87650424751636,
                47.0217952691347
               ],
               [
                9.831008286712906,
                47.014887752886494
               ],
               [
                9.793380279699388,
                47.03181810170144
               ],
               [
                9.785161676804542,
                47.03905741371676
               ],
               [
                9.745442634117873,
                47.04167576639769
               ],
               [
                9.70870614570762,
                47.04788148389354
               ],
               [
                9.70837229787894,
                47.05339707868915
               ],
               [
                9.677665540227517,
                47.06197925208756
               ],
               [
                9.645287842742736,
                47.060350742580894
               ],
               [
                9.63677076224951,
                47.05227776731276
               ],
               [
                9.60728003410665,
                47.06134874178134
               ],
               [
                9.634610725917332,
                47.10167073030821
               ],
               [
                9.622196291656664,
                47.10915982798623
               ],
               [
                9.63442433263228,
                47.12860094514656
               ],
               [
                9.6249338692817,
                47.13320860876722
               ],
               [
                9.620789543539292,
                47.15222968171368
               ],
               [
                9.605387245528624,
                47.14990921290746
               ],
               [
                9.596964531935544,
                47.163476463144924
               ],
               [
                9.579662446636275,
                47.1717206514149
               ],
               [
                9.572807180356673,
                47.19138555176853
               ],
               [
                9.585016388461709,
                47.205162055105106
               ],
               [
                9.554892755258258,
                47.227260274641715
               ],
               [
                9.567617302505429,
                47.2415141456876
               ],
               [
                9.53095237318183,
                47.27118170183859
               ],
               [
                9.54644091852075,
                47.280692801170474
               ],
               [
                9.559435083155277,
                47.30079481120015
               ],
               [
                9.588506704680318,
                47.318153576911676
               ],
               [
                9.596569063629019,
                47.3381268052894
               ],
               [
                9.619894985003073,
                47.363043852700166
               ],
               [
                9.649771044215262,
                47.368054786668985
               ],
               [
                9.673599983668973,
                47.38212027696659
               ],
               [
                9.673808560581449,
                47.39190177656306
               ],
               [
                9.652117013144371,
                47.409324421351066
               ],
               [
                9.644544540673722,
                47.435768190967494
               ],
               [
                9.659690179679028,
                47.45200125647562
               ],
               [
                9.62074838576922,
                47.45917197292085
               ],
               [
                9.60746988725973,
                47.4709481223521
               ],
               [
                9.59694643646741,
                47.46307024961633
               ],
               [
                9.583689961253688,
                47.48174030431538
               ],
               [
                9.563097671232786,
                47.495566190777566
               ],
               [
                9.582193127318059,
                47.50018793103811
               ],
               [
                9.60351431290857,
                47.50443262563801
               ],
               [
                9.61369960314429,
                47.520729854175684
               ],
               [
                9.636190054867743,
                47.52473850380479
               ],
               [
                9.64513464897811,
                47.52965729348286
               ],
               [
                9.676251748122809,
                47.50535120628649
               ],
               [
                9.6874573822603,
                47.50993692429319
               ],
               [
                9.749113298235695,
                47.510746157666276
               ],
               [
                9.750033603971719,
                47.52065182747359
               ],
               [
                9.732419604901741,
                47.534360793178
               ],
               [
                9.735407404461206,
                47.54722496304862
               ],
               [
                9.755932201854145,
                47.572794094684426
               ],
               [
                9.776204171069358,
                47.59403648212667
               ],
               [
                9.80268159666887,
                47.59653686552012
               ],
               [
                9.820568430718328,
                47.588271526152454
               ],
               [
                9.830032925602614,
                47.54515205113361
               ],
               [
                9.85378930328071,
                47.540603944437194
               ],
               [
                9.874755871324185,
                47.529160346659644
               ],
               [
                9.880501586200179,
                47.54853837948918
               ],
               [
                9.902314421000693,
                47.54480656164595
               ],
               [
                9.922881232612694,
                47.53033648775778
               ],
               [
                9.943983041846385,
                47.537724006752704
               ],
               [
                9.95940091034479,
                47.535125705919555
               ],
               [
                9.965306012944524,
                47.52361899520824
               ],
               [
                9.995989372991984,
                47.503393876058624
               ],
               [
                9.9998063232222,
                47.48362980419063
               ],
               [
                10.037718361240447,
                47.48979051076103
               ],
               [
                10.05490721720457,
                47.47504317089944
               ],
               [
                10.054764271296252,
                47.46679301545615
               ],
               [
                10.072469447972287,
                47.45687525636946
               ],
               [
                10.08984181459057,
                47.46101952933396
               ],
               [
                10.093255374412383,
                47.4446762083399
               ],
               [
                10.104184918900371,
                47.431108737346044
               ],
               [
                10.09401606163977,
                47.41749186845814
               ],
               [
                10.070682093538807,
                47.40840783413385
               ],
               [
                10.083138164197315,
                47.39449691400716
               ],
               [
                10.097924267274703,
                47.3604542176512
               ],
               [
                10.10013753724247,
                47.35535651865693
               ],
               [
                10.119637252797792,
                47.3762110712588
               ],
               [
                10.138224704667417,
                47.36848335950451
               ],
               [
                10.169887579328845,
                47.371896150530134
               ],
               [
                10.16970530611719,
                47.3864280672298
               ],
               [
                10.195289369039212,
                47.389965682162135
               ],
               [
                10.212589317895407,
                47.381602150878706
               ],
               [
                10.227267602000682,
                47.389437057389074
               ],
               [
                10.237332343208825,
                47.37424907744781
               ],
               [
                10.20454698564244,
                47.33734508101416
               ],
               [
                10.199817800699714,
                47.32705107361326
               ],
               [
                10.216282166544937,
                47.31165264892134
               ],
               [
                10.201943779545873,
                47.299970325557986
               ],
               [
                10.178560893075446,
                47.29523790767247
               ],
               [
                10.17238006637,
                47.27966301689159
               ],
               [
                10.178645536465902,
                47.27069713351929
               ],
               [
                10.174512866296665,
                47.26446019463785
               ],
               [
                10.222345968575148,
                47.25415795243823
               ],
               [
                10.19804032366062,
                47.237160867675584
               ],
               [
                10.213032930370431,
                47.22488058664695
               ],
               [
                10.21298205903946,
                47.2048495614091
               ],
               [
                10.197135131369317,
                47.19493937945387
               ],
               [
                10.211710316078646,
                47.17190166511134
               ],
               [
                10.213285659938029,
                47.158150684308964
               ],
               [
                10.20368781856436,
                47.143030699501075
               ],
               [
                10.207074490221077,
                47.13146136259523
               ],
               [
                10.18658508307389,
                47.12952926210631
               ],
               [
                10.145164588038519,
                47.09750224697372
               ],
               [
                10.133819068224204,
                47.078450940454225
               ],
               [
                10.134888226018813,
                47.064449885950985
               ],
               [
                10.151151928447865,
                47.062388382268
               ],
               [
                10.157194869214969,
                47.049433034931056
               ],
               [
                10.13482169360016,
                47.02990924032105
               ]
              ]
             ],
             "type": "Polygon"
            },
            "properties": {
             "iso": "8",
             "name": "Vorarlberg"
            },
            "type": "Feature"
           },
           {
            "geometry": {
             "coordinates": [
              [
               [
                -180,
                -90
               ],
               [
                -180,
                90
               ],
               [
                180,
                90
               ],
               [
                180,
                -90
               ],
               [
                -180,
                -90
               ]
              ],
              [
               [
                13.801926313338557,
                46.9515732267686
               ],
               [
                13.785429956062647,
                46.94429481523506
               ],
               [
                13.775178420200247,
                46.95308388871289
               ],
               [
                13.772503550644952,
                46.97752606122732
               ],
               [
                13.745452203876248,
                46.99433500902197
               ],
               [
                13.734469752503118,
                46.989689390217244
               ],
               [
                13.709456470156246,
                46.995920239824315
               ],
               [
                13.699971212552787,
                47.00373416925072
               ],
               [
                13.694418985696819,
                47.006567866539214
               ],
               [
                13.687294263033758,
                47.040272331049636
               ],
               [
                13.646281462001092,
                47.04076085715979
               ],
               [
                13.638386780619035,
                47.05595615645852
               ],
               [
                13.616416375553941,
                47.05960848554598
               ],
               [
                13.594973907722657,
                47.05642034540644
               ],
               [
                13.58151940726768,
                47.052465464606904
               ],
               [
                13.55968253082931,
                47.05636760720394
               ],
               [
                13.52228685019597,
                47.06897297022607
               ],
               [
                13.45868628027679,
                47.08077274124282
               ],
               [
                13.428297990515672,
                47.08184101052377
               ],
               [
                13.407077873311675,
                47.06971440962606
               ],
               [
                13.382771454698679,
                47.08076535509854
               ],
               [
                13.380842508272595,
                47.09292980003284
               ],
               [
                13.35523438896101,
                47.09757401910119
               ],
               [
                13.300625663117774,
                47.0882297193104
               ],
               [
                13.278019992673432,
                47.095622765572124
               ],
               [
                13.250508947553831,
                47.08797979402657
               ],
               [
                13.240083187844244,
                47.071998940770634
               ],
               [
                13.248823483572613,
                47.05104360662486
               ],
               [
                13.215414368289645,
                47.04454222614916
               ],
               [
                13.185309478157487,
                47.04420857514951
               ],
               [
                13.162662253075153,
                47.0375092375636
               ],
               [
                13.133886674370611,
                47.035273804366945
               ],
               [
                13.12764659663953,
                47.02751764167589
               ],
               [
                13.081009137784807,
                47.02727945325202
               ],
               [
                13.07369289080536,
                47.01388016337656
               ],
               [
                13.020528115196166,
                47.03064906320971
               ],
               [
                13.00375436875033,
                47.04434602504736
               ],
               [
                12.986013308316,
                47.036076630230546
               ],
               [
                12.965501762181598,
                47.03947411632989
               ],
               [
                12.953662134783846,
                47.049733150953976
               ],
               [
                12.938188217379329,
                47.07664981745189
               ],
               [
                12.919987751387149,
                47.08208757186024
               ],
               [
                12.89316386208255,
                47.08176740345311
               ],
               [
                12.871525037978646,
                47.086745990657306
               ],
               [
                12.860370654083598,
                47.081164208243386
               ],
               [
                12.837399989940888,
                47.083283319763986
               ],
               [
                12.82092307148572,
                47.09815035813142
               ],
               [
                12.782232376128615,
                47.093476847768066
               ],
               [
                12.773405544622427,
                47.101429087267256
               ],
               [
                12.739481428690597,
                47.10080555350925
               ],
               [
                12.731529490464828,
                47.13148583480726
               ],
               [
                12.705108060952291,
                47.12250679930348
               ],
               [
                12.666759914417947,
                47.12332832597829
               ],
               [
                12.671358686482467,
                47.10730687280484
               ],
               [
                12.65745397307417,
                47.10000921350448
               ],
               [
                12.640102920846877,
                47.10568305827087
               ],
               [
                12.617204982590405,
                47.121965270901875
               ],
               [
                12.592847941925221,
                47.12536941093126
               ],
               [
                12.566984859954406,
                47.13652421216914
               ],
               [
                12.553409755335721,
                47.128109537891675
               ],
               [
                12.528536640961478,
                47.138146278861065
               ],
               [
                12.52216481525686,
                47.15112368826818
               ],
               [
                12.484119551631274,
                47.15834918723919
               ],
               [
                12.466152733668684,
                47.14485684341726
               ],
               [
                12.435224740489941,
                47.15099471080652
               ],
               [
                12.413516440020938,
                47.14393188520044
               ],
               [
                12.400109764448992,
                47.15330715375048
               ],
               [
                12.363857456172411,
                47.14188976330796
               ],
               [
                12.359268526058557,
                47.11729796791754
               ],
               [
                12.346194507937303,
                47.10977199925601
               ],
               [
                12.313713958074965,
                47.10342381640998
               ],
               [
                12.309205452078082,
                47.093642493282985
               ],
               [
                12.284347357622847,
                47.09305169352613
               ],
               [
                12.262013037562971,
                47.07322140875678
               ],
               [
                12.2413077362019,
                47.0696691922961
               ],
               [
                12.227578785409863,
                47.082580624141606
               ],
               [
                12.186515987650695,
                47.09265121173166
               ],
               [
                12.152095619509028,
                47.07978337988594
               ],
               [
                12.136563065537015,
                47.08117287622881
               ],
               [
                12.125746216545485,
                47.09306657018742
               ],
               [
                12.12839487270448,
                47.11018609126433
               ],
               [
                12.115169922590994,
                47.122203084216125
               ],
               [
                12.111218527367994,
                47.14016156715887
               ],
               [
                12.093816076542643,
                47.1465666351483
               ],
               [
                12.092446039173796,
                47.167828898122146
               ],
               [
                12.083339038812811,
                47.19623913868105
               ],
               [
                12.103197823610817,
                47.23701198405247
               ],
               [
                12.11063890288777,
                47.240914107737495
               ],
               [
                12.101334360455162,
                47.25869341172984
               ],
               [
                12.079128713460088,
                47.2757098105495
               ],
               [
                12.11510611639261,
                47.30697630226541
               ],
               [
                12.144869364045602,
                47.28944403929807
               ],
               [
                12.165190652009544,
                47.302070968153764
               ],
               [
                12.208713292707953,
                47.30265461671045
               ],
               [
                12.219555502585873,
                47.31166016632244
               ],
               [
                12.23787459031698,
                47.30197876846341
               ],
               [
                12.255274248068567,
                47.308492575787355
               ],
               [
                12.26469680402087,
                47.302737958499804
               ],
               [
                12.29709225105455,
                47.32861896847839
               ],
               [
                12.335847195220238,
                47.32904595217747
               ],
               [
                12.375184632032676,
                47.31183380366383
               ],
               [
                12.410950650892074,
                47.31414014546518
               ],
               [
                12.442477739583595,
                47.32913818060849
               ],
               [
                12.47892794361953,
                47.32691804673216
               ],
               [
                12.495824472606328,
                47.337934519244136
               ],
               [
                12.498287065001747,
                47.34762215541372
               ],
               [
                12.479584754081941,
                47.3687592659282
               ],
               [
                12.506709801887519,
                47.39466054702915
               ],
               [
                12.523421411252983,
                47.391163505741474
               ],
               [
                12.545923383219147,
                47.39857129096823
               ],
               [
                12.564064539248124,
                47.3996060801711
               ],
               [
                12.579239110558524,
                47.39302595470468
               ],
               [
                12.600446912224152,
                47.4123145053918
               ],
               [
                12.625210119948115,
                47.42304578369214
               ],
               [
                12.632932295917886,
                47.43262662016478
               ],
               [
                12.63841011934598,
                47.449880463540474
               ],
               [
                12.631593995725854,
                47.458935931197075
               ],
               [
                12.645334360914383,
                47.4687230957063
               ],
               [
                12.665881683918592,
                47.46533801302577
               ],
               [
                12.700242570693662,
                47.478420972040745
               ],
               [
                12.66577856852797,
                47.506608310620834
               ],
               [
                12.654781132911396,
                47.537313628251376
               ],
               [
                12.628812166063684,
                47.55009203074107
               ],
               [
                12.642278227416412,
                47.55504836533369
               ],
               [
                12.65264976663745,
                47.570291468444275
               ],
               [
                12.667254000705457,
                47.57917454243514
               ],
               [
                12.65419857029272,
                47.588577333129926
               ],
               [
                12.64140092643676,
                47.59385746008402
               ],
               [
                12.575169718579502,
                47.60554298174406
               ],
               [
                12.575671173996357,
                47.63287248306274
               ],
               [
                12.604048268307398,
                47.6727760926551
               ],
               [
                12.63039939214773,
                47.676767051002514
               ],
               [
                12.649262750074886,
                47.67074488796411
               ],
               [
                12.666747110925177,
                47.681601063825426
               ],
               [
                12.732530077407366,
                47.68022936053186
               ],
               [
                12.77913266456366,
                47.66146590299684
               ],
               [
                12.759074039370203,
                47.65343890992717
               ],
               [
                12.781610855060483,
                47.63320398041559
               ],
               [
                12.790371955841358,
                47.63377118966573
               ],
               [
                12.825166423208413,
                47.61264887706406
               ],
               [
                12.808043378020143,
                47.61079995464941
               ],
               [
                12.791999191759652,
                47.5989133343212
               ],
               [
                12.779924021425268,
                47.57982895908442
               ],
               [
                12.787027432090216,
                47.568563402594556
               ],
               [
                12.795199865549318,
                47.55736292234183
               ],
               [
                12.818399822630056,
                47.54543456631626
               ],
               [
                12.848355105396745,
                47.54616393832658
               ],
               [
                12.852366258120906,
                47.531336915679624
               ],
               [
                12.880188881794028,
                47.52270716600276
               ],
               [
                12.885148399969717,
                47.513288790813
               ],
               [
                12.909369850344008,
                47.49748818459485
               ],
               [
                12.932607417682904,
                47.48827956766036
               ],
               [
                12.972068877337929,
                47.47466857594025
               ],
               [
                12.981779402843307,
                47.483485640615356
               ],
               [
                13.001745255855564,
                47.46453514202381
               ],
               [
                13.018562641476427,
                47.47520229379683
               ],
               [
                13.02758104811741,
                47.48721957640608
               ],
               [
                13.048343414707134,
                47.492694050746024
               ],
               [
                13.0467571299856,
                47.52103158439202
               ],
               [
                13.0324017161556,
                47.536062297843735
               ],
               [
                13.056408732149052,
                47.557871753194824
               ],
               [
                13.04227874786716,
                47.57702363013788
               ],
               [
                13.044356725239501,
                47.583899290583
               ],
               [
                13.0722176114832,
                47.59043485415212
               ],
               [
                13.063311510341627,
                47.60199507171266
               ],
               [
                13.09866405774121,
                47.63425768730817
               ],
               [
                13.077580447103273,
                47.67138437620282
               ],
               [
                13.079347346225909,
                47.6885093165718
               ],
               [
                13.06157583093924,
                47.69769298926993
               ],
               [
                13.046655715833205,
                47.71324964441585
               ],
               [
                13.00900977496067,
                47.7227161176732
               ],
               [
                12.987904494495814,
                47.70796442547316
               ],
               [
                12.933877104345207,
                47.710099552182726
               ],
               [
                12.913682023678687,
                47.717920202808685
               ],
               [
                12.905272200343756,
                47.728014132595106
               ],
               [
                12.921997561445613,
                47.744726126747196
               ],
               [
                12.931680284952254,
                47.7454122908946
               ],
               [
                12.944168907125688,
                47.76346628617512
               ],
               [
                12.939950086076395,
                47.7852614695968
               ],
               [
                12.970860002488353,
                47.8074370805676
               ],
               [
                12.98978532484958,
                47.832534232796654
               ],
               [
                13.002829454932984,
                47.84170102192875
               ],
               [
                13.002108047430244,
                47.85496420908995
               ],
               [
                12.988315477810907,
                47.86976329232058
               ],
               [
                12.96717386706399,
                47.9012416846387
               ],
               [
                12.944467422206758,
                47.926531404912396
               ],
               [
                12.93997721548016,
                47.93723917877469
               ],
               [
                12.920045350712172,
                47.94285033639901
               ],
               [
                12.921401420928925,
                47.95146611060857
               ],
               [
                12.912198284263061,
                47.957688185756034
               ],
               [
                12.881223672916718,
                47.961053721552084
               ],
               [
                12.871820993962052,
                47.967020188293056
               ],
               [
                12.86088959690731,
                47.99723089391568
               ],
               [
                12.890672123907757,
                47.99150922151449
               ],
               [
                12.912326251343378,
                48.02336110691883
               ],
               [
                12.938794024086247,
                48.03655378472327
               ],
               [
                12.940234149971177,
                48.036994092995705
               ],
               [
                12.962153171469591,
                48.03334762085566
               ],
               [
                12.973593909957328,
                48.024092617906796
               ],
               [
                12.99033983971967,
                48.028428310448234
               ],
               [
                13.01303093487179,
                48.03710160969214
               ],
               [
                13.029747807676841,
                48.03309647811081
               ],
               [
                13.0477425732328,
                48.03795347378263
               ],
               [
                13.047942372223341,
                48.02784954404842
               ],
               [
                13.058399902054074,
                48.0138781323072
               ],
               [
                13.103509611940929,
                47.99814389805751
               ],
               [
                13.104679932443288,
                47.9973348993728
               ],
               [
                13.124995546580353,
                47.99676404709405
               ],
               [
                13.145922802944359,
                47.97492426122499
               ],
               [
                13.199432981972263,
                47.97475031105499
               ],
               [
                13.210633201710504,
                47.97952053508733
               ],
               [
                13.213462576661653,
                47.98304537035671
               ],
               [
                13.243453938930724,
                47.99256216630181
               ],
               [
                13.257739324477054,
                47.99177805174646
               ],
               [
                13.30470126151509,
                48.00844773145437
               ],
               [
                13.30199772896553,
                47.995935901175955
               ],
               [
                13.324833675764625,
                47.99289185716716
               ],
               [
                13.372433816964902,
                47.97255316137185
               ],
               [
                13.361538037048387,
                47.955978212335594
               ],
               [
                13.363899067124235,
                47.944650609719325
               ],
               [
                13.359317945365092,
                47.94032978871332
               ],
               [
                13.340370893896262,
                47.94446341416352
               ],
               [
                13.338053780558313,
                47.954776113107535
               ],
               [
                13.308305386852295,
                47.964587650616565
               ],
               [
                13.281051844447191,
                47.955287621129074
               ],
               [
                13.28596397625165,
                47.928448961936446
               ],
               [
                13.281888759941667,
                47.90520221504385
               ],
               [
                13.270871494943625,
                47.891993523241105
               ],
               [
                13.276176908502721,
                47.879160464777776
               ],
               [
                13.293889782637898,
                47.86432091652677
               ],
               [
                13.287164601314913,
                47.83077934971909
               ],
               [
                13.308778302920036,
                47.82225122218704
               ],
               [
                13.312964897658228,
                47.81338362346725
               ],
               [
                13.351724651095312,
                47.81049488687009
               ],
               [
                13.393957421567334,
                47.79530009230283
               ],
               [
                13.398849442188165,
                47.79844364754232
               ],
               [
                13.451191675078974,
                47.80429341887363
               ],
               [
                13.484511289095584,
                47.79998448891715
               ],
               [
                13.491362176743541,
                47.78972824335878
               ],
               [
                13.511752541024057,
                47.79750739773911
               ],
               [
                13.530261084681209,
                47.79757025282514
               ],
               [
                13.536170688480274,
                47.77668107103932
               ],
               [
                13.51601511400202,
                47.772557268928
               ],
               [
                13.466056518915638,
                47.78669928819231
               ],
               [
                13.447086368217878,
                47.77255021084186
               ],
               [
                13.437044064399783,
                47.73909342348027
               ],
               [
                13.477370979698803,
                47.72473125857403
               ],
               [
                13.551652205865423,
                47.71465205581413
               ],
               [
                13.536404696257424,
                47.69583113716994
               ],
               [
                13.534476584956707,
                47.68491350241405
               ],
               [
                13.51772234921809,
                47.67606585346152
               ],
               [
                13.500814203853798,
                47.66953074871557
               ],
               [
                13.501161404579053,
                47.659439099253035
               ],
               [
                13.484863443678226,
                47.64207122151538
               ],
               [
                13.490632581940691,
                47.63085555988478
               ],
               [
                13.521053258892575,
                47.62370726910291
               ],
               [
                13.507093170569451,
                47.6012763494509
               ],
               [
                13.506033490577202,
                47.5825112248718
               ],
               [
                13.47908881547972,
                47.568656909194765
               ],
               [
                13.482039721354713,
                47.562245689143815
               ],
               [
                13.485529836861907,
                47.553347344138636
               ],
               [
                13.477502477804828,
                47.53083284465746
               ],
               [
                13.490813740646713,
                47.51377416410763
               ],
               [
                13.502759692442385,
                47.51222954480216
               ],
               [
                13.516932398814733,
                47.497016419942995
               ],
               [
                13.53507592650793,
                47.49544294681517
               ],
               [
                13.58643460518265,
                47.47530669240729
               ],
               [
                13.593441625432567,
                47.46155748983778
               ],
               [
                13.564894484649722,
                47.4185699882216
               ],
               [
                13.565432474261243,
                47.4176703022323
               ],
               [
                13.565318583402352,
                47.41718973057866
               ],
               [
                13.57306408464016,
                47.39359936234706
               ],
               [
                13.582508889411763,
                47.38286203895957
               ],
               [
                13.604298441617575,
                47.330176404660676
               ],
               [
                13.598459281840173,
                47.29409972906839
               ],
               [
                13.608348897975546,
                47.28404782593422
               ],
               [
                13.631903267015689,
                47.27471121358447
               ],
               [
                13.654424148110406,
                47.27702790025776
               ],
               [
                13.696382619592985,
                47.26555090885081
               ],
               [
                13.696593391016176,
                47.26056487396344
               ],
               [
                13.712637994644696,
                47.259979708655045
               ],
               [
                13.720481628800998,
                47.27626402235923
               ],
               [
                13.752131876321478,
                47.276495873168784
               ],
               [
                13.761420728666591,
                47.266747734768266
               ],
               [
                13.78471466144228,
                47.275725164612666
               ],
               [
                13.805323514142584,
                47.293189737310065
               ],
               [
                13.826133245704607,
                47.293680362447944
               ],
               [
                13.824408978168938,
                47.26748574395234
               ],
               [
                13.86497429614836,
                47.25264121720441
               ],
               [
                13.869234110805834,
                47.242904241214916
               ],
               [
                13.85090964242925,
                47.23011358585622
               ],
               [
                13.865537945400298,
                47.220403754696314
               ],
               [
                13.89702880128733,
                47.187711265358416
               ],
               [
                13.897338641709347,
                47.18761101036128
               ],
               [
                13.897404562343882,
                47.187581649621606
               ],
               [
                13.897266900362307,
                47.187279009756885
               ],
               [
                13.920470555133257,
                47.17221247773791
               ],
               [
                13.943547551438872,
                47.16685354493523
               ],
               [
                13.962721603127395,
                47.15811243095302
               ],
               [
                13.962880186881707,
                47.15806109117247
               ],
               [
                13.963012447954492,
                47.157925007907316
               ],
               [
                13.963097717926296,
                47.15774143850479
               ],
               [
                13.993706352989351,
                47.14269611848338
               ],
               [
                13.988621040645056,
                47.12755590298655
               ],
               [
                13.954714923298592,
                47.125760870973735
               ],
               [
                13.944567920682557,
                47.13702331456309
               ],
               [
                13.893230834343731,
                47.11471134815169
               ],
               [
                13.879695833393724,
                47.1010115025522
               ],
               [
                13.879204359999928,
                47.10081918849729
               ],
               [
                13.879341138487497,
                47.100200419348184
               ],
               [
                13.906809642434151,
                47.07108804618045
               ],
               [
                13.906940916465537,
                47.071046874626354
               ],
               [
                13.864524532800607,
                47.02003599569461
               ],
               [
                13.86543482293839,
                46.996633591419254
               ],
               [
                13.845736683529196,
                46.98949488869677
               ],
               [
                13.832586143618208,
                46.96588741675482
               ],
               [
                13.801926313338557,
                46.9515732267686
               ]
              ]
             ],
             "type": "Polygon"
            },
            "properties": {
             "iso": "5",
             "name": "Salzburg"
            },
            "type": "Feature"
           }
          ],
          "type": "FeatureCollection"
         },
         "hovertemplate": "val=1<br>namee=%{location}<extra></extra>",
         "locations": [
          "Salzburg"
         ],
         "name": "1",
         "showlegend": true,
         "showscale": false,
         "subplot": "mapbox",
         "type": "choroplethmapbox",
         "z": [
          1
         ]
        },
        {
         "lat": [
          48.2476453
         ],
         "line": {
          "width": 12
         },
         "lon": [
          14.430104777650632
         ],
         "marker": {
          "color": "#76b5c5",
          "size": 14.00763814297649
         },
         "mode": "markers",
         "opacity": 0.5,
         "showlegend": false,
         "type": "scattermapbox"
        },
        {
         "lat": [
          46.7728451
         ],
         "line": {
          "width": 12
         },
         "lon": [
          15.5403253
         ],
         "marker": {
          "color": "#76b5c5",
          "size": 10.498866213151928
         },
         "mode": "markers",
         "opacity": 0.5,
         "showlegend": false,
         "type": "scattermapbox"
        },
        {
         "lat": [
          48.3844998
         ],
         "line": {
          "width": 12
         },
         "lon": [
          15.8595378
         ],
         "marker": {
          "color": "#76b5c5",
          "size": 17.826709631220908
         },
         "mode": "markers",
         "opacity": 0.5,
         "showlegend": false,
         "type": "scattermapbox"
        },
        {
         "lat": [
          46.5729635
         ],
         "line": {
          "width": 12
         },
         "lon": [
          14.4913602
         ],
         "marker": {
          "color": "#76b5c5",
          "size": 12.145840792457333
         },
         "mode": "markers",
         "opacity": 0.5,
         "showlegend": false,
         "type": "scattermapbox"
        },
        {
         "lat": [
          47.0266797
         ],
         "line": {
          "width": 12
         },
         "lon": [
          15.1709872
         ],
         "marker": {
          "color": "#76b5c5",
          "size": 10.713688984365676
         },
         "mode": "markers",
         "opacity": 0.5,
         "showlegend": false,
         "type": "scattermapbox"
        },
        {
         "lat": [
          48.3287897
         ],
         "line": {
          "width": 12
         },
         "lon": [
          13.8476913
         ],
         "marker": {
          "color": "#76b5c5",
          "size": 16.857620241078887
         },
         "mode": "markers",
         "opacity": 0.5,
         "showlegend": false,
         "type": "scattermapbox"
        },
        {
         "lat": [
          48.1134588
         ],
         "line": {
          "width": 12
         },
         "lon": [
          11.5638294
         ],
         "marker": {
          "color": "#76b5c5",
          "size": 10.007160759040458
         },
         "mode": "markers",
         "opacity": 0.5,
         "showlegend": false,
         "type": "scattermapbox"
        },
        {
         "lat": [
          47.4168029
         ],
         "line": {
          "width": 12
         },
         "lon": [
          13.2170933
         ],
         "marker": {
          "color": "#76b5c5",
          "size": 10.379520229144289
         },
         "mode": "markers",
         "opacity": 0.5,
         "showlegend": false,
         "type": "scattermapbox"
        },
        {
         "lat": [
          47.10771815
         ],
         "line": {
          "width": 12
         },
         "lon": [
          14.065431562311822
         ],
         "marker": {
          "color": "#76b5c5",
          "size": 10.16469745793054
         },
         "mode": "markers",
         "opacity": 0.5,
         "showlegend": false,
         "type": "scattermapbox"
        },
        {
         "lat": [
          47.0799558
         ],
         "line": {
          "width": 12
         },
         "lon": [
          14.0320413
         ],
         "marker": {
          "color": "#76b5c5",
          "size": 10.642081393961092
         },
         "mode": "markers",
         "opacity": 0.5,
         "showlegend": false,
         "type": "scattermapbox"
        },
        {
         "lat": [
          47.1341208
         ],
         "line": {
          "width": 12
         },
         "lon": [
          11.8184787
         ],
         "marker": {
          "color": "#76b5c5",
          "size": 10.601503759398497
         },
         "mode": "markers",
         "opacity": 0.5,
         "showlegend": false,
         "type": "scattermapbox"
        },
        {
         "lat": [
          null
         ],
         "line": {
          "width": 12
         },
         "lon": [
          null
         ],
         "marker": {
          "color": "#76b5c5",
          "size": 12.38453276047261
         },
         "mode": "markers",
         "opacity": 0.5,
         "showlegend": false,
         "type": "scattermapbox"
        },
        {
         "lat": [
          48.0303948
         ],
         "line": {
          "width": 12
         },
         "lon": [
          16.75801830741043
         ],
         "marker": {
          "color": "#76b5c5",
          "size": 11.167203723594701
         },
         "mode": "markers",
         "opacity": 0.5,
         "showlegend": false,
         "type": "scattermapbox"
        },
        {
         "lat": [
          47.4144811
         ],
         "line": {
          "width": 12
         },
         "lon": [
          15.2029326
         ],
         "marker": {
          "color": "#76b5c5",
          "size": 10.379520229144289
         },
         "mode": "markers",
         "opacity": 0.5,
         "showlegend": false,
         "type": "scattermapbox"
        },
        {
         "lat": [
          48.3317967
         ],
         "line": {
          "width": 12
         },
         "lon": [
          15.8991336
         ],
         "marker": {
          "color": "#76b5c5",
          "size": 19.664637784938535
         },
         "mode": "markers",
         "opacity": 0.5,
         "showlegend": false,
         "type": "scattermapbox"
        },
        {
         "lat": [
          46.794066
         ],
         "line": {
          "width": 12
         },
         "lon": [
          13.5150084
         ],
         "marker": {
          "color": "#76b5c5",
          "size": 12.074233202052751
         },
         "mode": "markers",
         "opacity": 0.5,
         "showlegend": false,
         "type": "scattermapbox"
        },
        {
         "lat": [
          null
         ],
         "line": {
          "width": 12
         },
         "lon": [
          null
         ],
         "marker": {
          "color": "#76b5c5",
          "size": 11.923857262203127
         },
         "mode": "markers",
         "opacity": 0.5,
         "showlegend": false,
         "type": "scattermapbox"
        },
        {
         "lat": [
          null
         ],
         "line": {
          "width": 12
         },
         "lon": [
          null
         ],
         "marker": {
          "color": "#76b5c5",
          "size": 11.737677527151211
         },
         "mode": "markers",
         "opacity": 0.5,
         "showlegend": false,
         "type": "scattermapbox"
        },
        {
         "lat": [
          47.5734604
         ],
         "line": {
          "width": 12
         },
         "lon": [
          14.8366558
         ],
         "marker": {
          "color": "#76b5c5",
          "size": 10.023869196801527
         },
         "mode": "markers",
         "opacity": 0.5,
         "showlegend": false,
         "type": "scattermapbox"
        },
        {
         "lat": [
          46.53508635
         ],
         "line": {
          "width": 12
         },
         "lon": [
          14.17115092936584
         ],
         "marker": {
          "color": "#76b5c5",
          "size": 12.098102398854278
         },
         "mode": "markers",
         "opacity": 0.5,
         "showlegend": false,
         "type": "scattermapbox"
        },
        {
         "lat": [
          48.1475774
         ],
         "line": {
          "width": 12
         },
         "lon": [
          11.7299205
         ],
         "marker": {
          "color": "#76b5c5",
          "size": 10.909416398138202
         },
         "mode": "markers",
         "opacity": 0.5,
         "showlegend": false,
         "type": "scattermapbox"
        },
        {
         "lat": [
          46.5462647
         ],
         "line": {
          "width": 12
         },
         "lon": [
          14.29863859459248
         ],
         "marker": {
          "color": "#76b5c5",
          "size": 11.78780284043442
         },
         "mode": "markers",
         "opacity": 0.5,
         "showlegend": false,
         "type": "scattermapbox"
        },
        {
         "lat": [
          47.1632919
         ],
         "line": {
          "width": 12
         },
         "lon": [
          14.7391881
         ],
         "marker": {
          "color": "#76b5c5",
          "size": 10.477383936030552
         },
         "mode": "markers",
         "opacity": 0.5,
         "showlegend": false,
         "type": "scattermapbox"
        },
        {
         "lat": [
          48.1858519
         ],
         "line": {
          "width": 12
         },
         "lon": [
          16.43845173872922
         ],
         "marker": {
          "color": "#76b5c5",
          "size": 14.103114930182599
         },
         "mode": "markers",
         "opacity": 0.5,
         "showlegend": false,
         "type": "scattermapbox"
        },
        {
         "lat": [
          47.1707585
         ],
         "line": {
          "width": 12
         },
         "lon": [
          15.3372212
         ],
         "marker": {
          "color": "#76b5c5",
          "size": 10.284043441938179
         },
         "mode": "markers",
         "opacity": 0.5,
         "showlegend": false,
         "type": "scattermapbox"
        },
        {
         "lat": [
          null
         ],
         "line": {
          "width": 12
         },
         "lon": [
          null
         ],
         "marker": {
          "color": "#76b5c5",
          "size": 10.594343000358037
         },
         "mode": "markers",
         "opacity": 0.5,
         "showlegend": false,
         "type": "scattermapbox"
        },
        {
         "lat": [
          46.7813377
         ],
         "line": {
          "width": 12
         },
         "lon": [
          15.5881617
         ],
         "marker": {
          "color": "#76b5c5",
          "size": 10.343716433941998
         },
         "mode": "markers",
         "opacity": 0.5,
         "showlegend": false,
         "type": "scattermapbox"
        },
        {
         "lat": [
          48.1475012
         ],
         "line": {
          "width": 12
         },
         "lon": [
          12.2984738
         ],
         "marker": {
          "color": "#76b5c5",
          "size": 10.594343000358037
         },
         "mode": "markers",
         "opacity": 0.5,
         "showlegend": false,
         "type": "scattermapbox"
        },
        {
         "lat": [
          48.0180536
         ],
         "line": {
          "width": 12
         },
         "lon": [
          14.411815939385477
         ],
         "marker": {
          "color": "#76b5c5",
          "size": 10.840195727413773
         },
         "mode": "markers",
         "opacity": 0.5,
         "showlegend": false,
         "type": "scattermapbox"
        },
        {
         "lat": [
          46.7403158
         ],
         "line": {
          "width": 12
         },
         "lon": [
          15.3211151
         ],
         "marker": {
          "color": "#76b5c5",
          "size": 10
         },
         "mode": "markers",
         "opacity": 0.5,
         "showlegend": false,
         "type": "scattermapbox"
        },
        {
         "lat": [
          47.20911125
         ],
         "line": {
          "width": 12
         },
         "lon": [
          12.029656795913978
         ],
         "marker": {
          "color": "#76b5c5",
          "size": 14.771452440625373
         },
         "mode": "markers",
         "opacity": 0.5,
         "showlegend": false,
         "type": "scattermapbox"
        },
        {
         "lat": [
          46.9969426
         ],
         "line": {
          "width": 12
         },
         "lon": [
          15.4869681
         ],
         "marker": {
          "color": "#76b5c5",
          "size": 10.427258622747345
         },
         "mode": "markers",
         "opacity": 0.5,
         "showlegend": false,
         "type": "scattermapbox"
        },
        {
         "lat": [
          46.811407
         ],
         "line": {
          "width": 12
         },
         "lon": [
          15.5526074
         ],
         "marker": {
          "color": "#76b5c5",
          "size": 10.343716433941998
         },
         "mode": "markers",
         "opacity": 0.5,
         "showlegend": false,
         "type": "scattermapbox"
        },
        {
         "lat": [
          48.345094
         ],
         "line": {
          "width": 12
         },
         "lon": [
          16.2408702
         ],
         "marker": {
          "color": "#76b5c5",
          "size": 16.99128774316744
         },
         "mode": "markers",
         "opacity": 0.5,
         "showlegend": false,
         "type": "scattermapbox"
        },
        {
         "lat": [
          47.8862041
         ],
         "line": {
          "width": 12
         },
         "lon": [
          14.550121
         ],
         "marker": {
          "color": "#76b5c5",
          "size": 11.723356009070296
         },
         "mode": "markers",
         "opacity": 0.5,
         "showlegend": false,
         "type": "scattermapbox"
        },
        {
         "lat": [
          47.5923318
         ],
         "line": {
          "width": 12
         },
         "lon": [
          14.6369469
         ],
         "marker": {
          "color": "#76b5c5",
          "size": 10.045351473922903
         },
         "mode": "markers",
         "opacity": 0.5,
         "showlegend": false,
         "type": "scattermapbox"
        },
        {
         "lat": [
          47.3241587
         ],
         "line": {
          "width": 12
         },
         "lon": [
          11.5961483
         ],
         "marker": {
          "color": "#76b5c5",
          "size": 10.093089867525958
         },
         "mode": "markers",
         "opacity": 0.5,
         "showlegend": false,
         "type": "scattermapbox"
        },
        {
         "lat": [
          47.14618295
         ],
         "line": {
          "width": 12
         },
         "lon": [
          11.96725807006352
         ],
         "marker": {
          "color": "#76b5c5",
          "size": 18.590523928869793
         },
         "mode": "markers",
         "opacity": 0.5,
         "showlegend": false,
         "type": "scattermapbox"
        },
        {
         "lat": [
          47.6070992
         ],
         "line": {
          "width": 12
         },
         "lon": [
          14.7443848
         ],
         "marker": {
          "color": "#76b5c5",
          "size": 11.501372478816087
         },
         "mode": "markers",
         "opacity": 0.5,
         "showlegend": false,
         "type": "scattermapbox"
        },
        {
         "lat": [
          null
         ],
         "line": {
          "width": 12
         },
         "lon": [
          null
         ],
         "marker": {
          "color": "#76b5c5",
          "size": 10.057286072323667
         },
         "mode": "markers",
         "opacity": 0.5,
         "showlegend": false,
         "type": "scattermapbox"
        },
        {
         "lat": [
          48.1593057
         ],
         "line": {
          "width": 12
         },
         "lon": [
          12.35260579735282
         ],
         "marker": {
          "color": "#76b5c5",
          "size": 10.007160759040458
         },
         "mode": "markers",
         "opacity": 0.5,
         "showlegend": false,
         "type": "scattermapbox"
        },
        {
         "lat": [
          48.15835315
         ],
         "line": {
          "width": 12
         },
         "lon": [
          12.353426228980894
         ],
         "marker": {
          "color": "#76b5c5",
          "size": 10.116959064327485
         },
         "mode": "markers",
         "opacity": 0.5,
         "showlegend": false,
         "type": "scattermapbox"
        },
        {
         "lat": [
          null
         ],
         "line": {
          "width": 12
         },
         "lon": [
          null
         ],
         "marker": {
          "color": "#76b5c5",
          "size": 13.148347058121495
         },
         "mode": "markers",
         "opacity": 0.5,
         "showlegend": false,
         "type": "scattermapbox"
        },
        {
         "lat": [
          46.9644025
         ],
         "line": {
          "width": 12
         },
         "lon": [
          15.4786966
         ],
         "marker": {
          "color": "#76b5c5",
          "size": 10.451127819548873
         },
         "mode": "markers",
         "opacity": 0.5,
         "showlegend": false,
         "type": "scattermapbox"
        },
        {
         "lat": [
          47.2597118
         ],
         "line": {
          "width": 12
         },
         "lon": [
          12.738895201053044
         ],
         "marker": {
          "color": "#76b5c5",
          "size": 15.726220312686479
         },
         "mode": "markers",
         "opacity": 0.5,
         "showlegend": false,
         "type": "scattermapbox"
        },
        {
         "lat": [
          47.19705930000001
         ],
         "line": {
          "width": 12
         },
         "lon": [
          12.719282911229318
         ],
         "marker": {
          "color": "#76b5c5",
          "size": 12.690058479532164
         },
         "mode": "markers",
         "opacity": 0.5,
         "showlegend": false,
         "type": "scattermapbox"
        },
        {
         "lat": [
          null
         ],
         "line": {
          "width": 12
         },
         "lon": [
          null
         ],
         "marker": {
          "color": "#76b5c5",
          "size": 21.47392290249433
         },
         "mode": "markers",
         "opacity": 0.5,
         "showlegend": false,
         "type": "scattermapbox"
        },
        {
         "lat": [
          46.6621377
         ],
         "line": {
          "width": 12
         },
         "lon": [
          13.6887159
         ],
         "marker": {
          "color": "#76b5c5",
          "size": 10.584795321637428
         },
         "mode": "markers",
         "opacity": 0.5,
         "showlegend": false,
         "type": "scattermapbox"
        },
        {
         "lat": [
          47.25329
         ],
         "line": {
          "width": 12
         },
         "lon": [
          12.736613811797312
         ],
         "marker": {
          "color": "#76b5c5",
          "size": 10.009547678720612
         },
         "mode": "markers",
         "opacity": 0.5,
         "showlegend": false,
         "type": "scattermapbox"
        },
        {
         "lat": [
          48.1061893
         ],
         "line": {
          "width": 12
         },
         "lon": [
          13.8571044
         ],
         "marker": {
          "color": "#76b5c5",
          "size": 10.465449337629789
         },
         "mode": "markers",
         "opacity": 0.5,
         "showlegend": false,
         "type": "scattermapbox"
        },
        {
         "lat": [
          47.441289600000005
         ],
         "line": {
          "width": 12
         },
         "lon": [
          13.210858521712662
         ],
         "marker": {
          "color": "#76b5c5",
          "size": 10.420097863706886
         },
         "mode": "markers",
         "opacity": 0.5,
         "showlegend": false,
         "type": "scattermapbox"
        },
        {
         "lat": [
          null
         ],
         "line": {
          "width": 12
         },
         "lon": [
          null
         ],
         "marker": {
          "color": "#76b5c5",
          "size": 11.07172693638859
         },
         "mode": "markers",
         "opacity": 0.5,
         "showlegend": false,
         "type": "scattermapbox"
        },
        {
         "lat": [
          47.6859182
         ],
         "line": {
          "width": 12
         },
         "lon": [
          14.7056235
         ],
         "marker": {
          "color": "#76b5c5",
          "size": 10.57047380355651
         },
         "mode": "markers",
         "opacity": 0.5,
         "showlegend": false,
         "type": "scattermapbox"
        },
        {
         "lat": [
          47.64748255
         ],
         "line": {
          "width": 12
         },
         "lon": [
          14.77771646800959
         ],
         "marker": {
          "color": "#76b5c5",
          "size": 10.546604606754983
         },
         "mode": "markers",
         "opacity": 0.5,
         "showlegend": false,
         "type": "scattermapbox"
        },
        {
         "lat": [
          47.2928101
         ],
         "line": {
          "width": 12
         },
         "lon": [
          15.3207469
         ],
         "marker": {
          "color": "#76b5c5",
          "size": 10.427258622747345
         },
         "mode": "markers",
         "opacity": 0.5,
         "showlegend": false,
         "type": "scattermapbox"
        },
        {
         "lat": [
          46.6424934
         ],
         "line": {
          "width": 12
         },
         "lon": [
          14.9420703
         ],
         "marker": {
          "color": "#76b5c5",
          "size": 10.665950590762622
         },
         "mode": "markers",
         "opacity": 0.5,
         "showlegend": false,
         "type": "scattermapbox"
        },
        {
         "lat": [
          46.8522
         ],
         "line": {
          "width": 12
         },
         "lon": [
          15.5383
         ],
         "marker": {
          "color": "#76b5c5",
          "size": 10.479770855710706
         },
         "mode": "markers",
         "opacity": 0.5,
         "showlegend": false,
         "type": "scattermapbox"
        },
        {
         "lat": [
          47.3805128
         ],
         "line": {
          "width": 12
         },
         "lon": [
          15.0947756
         ],
         "marker": {
          "color": "#76b5c5",
          "size": 10.23391812865497
         },
         "mode": "markers",
         "opacity": 0.5,
         "showlegend": false,
         "type": "scattermapbox"
        },
        {
         "lat": [
          47.9259676
         ],
         "line": {
          "width": 12
         },
         "lon": [
          14.4322317
         ],
         "marker": {
          "color": "#76b5c5",
          "size": 10.938059434300035
         },
         "mode": "markers",
         "opacity": 0.5,
         "showlegend": false,
         "type": "scattermapbox"
        },
        {
         "lat": [
          46.87061985
         ],
         "line": {
          "width": 12
         },
         "lon": [
          13.329322360071938
         ],
         "marker": {
          "color": "#76b5c5",
          "size": 27.422126745435015
         },
         "mode": "markers",
         "opacity": 0.5,
         "showlegend": false,
         "type": "scattermapbox"
        },
        {
         "lat": [
          47.06584215
         ],
         "line": {
          "width": 12
         },
         "lon": [
          13.352801756741208
         ],
         "marker": {
          "color": "#76b5c5",
          "size": 12.861916696503162
         },
         "mode": "markers",
         "opacity": 0.5,
         "showlegend": false,
         "type": "scattermapbox"
        },
        {
         "lat": [
          46.8332604
         ],
         "line": {
          "width": 12
         },
         "lon": [
          13.360218284876543
         ],
         "marker": {
          "color": "#76b5c5",
          "size": 10.97625014918248
         },
         "mode": "markers",
         "opacity": 0.5,
         "showlegend": false,
         "type": "scattermapbox"
        },
        {
         "lat": [
          47.40455
         ],
         "line": {
          "width": 12
         },
         "lon": [
          13.575207
         ],
         "marker": {
          "color": "#76b5c5",
          "size": 10.140828261129013
         },
         "mode": "markers",
         "opacity": 0.5,
         "showlegend": false,
         "type": "scattermapbox"
        },
        {
         "lat": [
          47.1672188
         ],
         "line": {
          "width": 12
         },
         "lon": [
          11.8638664
         ],
         "marker": {
          "color": "#76b5c5",
          "size": 18.23248597684688
         },
         "mode": "markers",
         "opacity": 0.5,
         "showlegend": false,
         "type": "scattermapbox"
        },
        {
         "lat": [
          48.2272068
         ],
         "line": {
          "width": 12
         },
         "lon": [
          15.3369992
         ],
         "marker": {
          "color": "#76b5c5",
          "size": 14.461152882205514
         },
         "mode": "markers",
         "opacity": 0.5,
         "showlegend": false,
         "type": "scattermapbox"
        },
        {
         "lat": [
          46.9418116
         ],
         "line": {
          "width": 12
         },
         "lon": [
          15.5161554
         ],
         "marker": {
          "color": "#76b5c5",
          "size": 10.369972550423679
         },
         "mode": "markers",
         "opacity": 0.5,
         "showlegend": false,
         "type": "scattermapbox"
        },
        {
         "lat": [
          46.9418116
         ],
         "line": {
          "width": 12
         },
         "lon": [
          15.5161554
         ],
         "marker": {
          "color": "#76b5c5",
          "size": 15.869435493495644
         },
         "mode": "markers",
         "opacity": 0.5,
         "showlegend": false,
         "type": "scattermapbox"
        },
        {
         "lat": [
          46.9418116
         ],
         "line": {
          "width": 12
         },
         "lon": [
          15.5161554
         ],
         "marker": {
          "color": "#76b5c5",
          "size": 30
         },
         "mode": "markers",
         "opacity": 0.5,
         "showlegend": false,
         "type": "scattermapbox"
        },
        {
         "lat": [
          46.8583111
         ],
         "line": {
          "width": 12
         },
         "lon": [
          13.3451485
         ],
         "marker": {
          "color": "#76b5c5",
          "size": 10.011934598400764
         },
         "mode": "markers",
         "opacity": 0.5,
         "showlegend": false,
         "type": "scattermapbox"
        },
        {
         "lat": [
          null
         ],
         "line": {
          "width": 12
         },
         "lon": [
          null
         ],
         "marker": {
          "color": "#76b5c5",
          "size": 10.589569160997733
         },
         "mode": "markers",
         "opacity": 0.5,
         "showlegend": false,
         "type": "scattermapbox"
        },
        {
         "lat": [
          48.2402896
         ],
         "line": {
          "width": 12
         },
         "lon": [
          12.685745
         ],
         "marker": {
          "color": "#76b5c5",
          "size": 10.620599116839719
         },
         "mode": "markers",
         "opacity": 0.5,
         "showlegend": false,
         "type": "scattermapbox"
        },
        {
         "lat": [
          46.82360355
         ],
         "line": {
          "width": 12
         },
         "lon": [
          13.295882313316891
         ],
         "marker": {
          "color": "#76b5c5",
          "size": 10.035803795202291
         },
         "mode": "markers",
         "opacity": 0.5,
         "showlegend": false,
         "type": "scattermapbox"
        },
        {
         "lat": [
          46.8346229
         ],
         "line": {
          "width": 12
         },
         "lon": [
          12.8020349
         ],
         "marker": {
          "color": "#76b5c5",
          "size": 10.11218522496718
         },
         "mode": "markers",
         "opacity": 0.5,
         "showlegend": false,
         "type": "scattermapbox"
        },
        {
         "lat": [
          47.9056898
         ],
         "line": {
          "width": 12
         },
         "lon": [
          12.596737
         ],
         "marker": {
          "color": "#76b5c5",
          "size": 11.14094760711302
         },
         "mode": "markers",
         "opacity": 0.5,
         "showlegend": false,
         "type": "scattermapbox"
        },
        {
         "lat": [
          null
         ],
         "line": {
          "width": 12
         },
         "lon": [
          null
         ],
         "marker": {
          "color": "#76b5c5",
          "size": 11.405895691609977
         },
         "mode": "markers",
         "opacity": 0.5,
         "showlegend": false,
         "type": "scattermapbox"
        },
        {
         "lat": [
          46.7468816
         ],
         "line": {
          "width": 12
         },
         "lon": [
          15.5834495
         ],
         "marker": {
          "color": "#76b5c5",
          "size": 10.307912638739706
         },
         "mode": "markers",
         "opacity": 0.5,
         "showlegend": false,
         "type": "scattermapbox"
        },
        {
         "lat": [
          48.31660425
         ],
         "line": {
          "width": 12
         },
         "lon": [
          14.15130495
         ],
         "marker": {
          "color": "#76b5c5",
          "size": 14.270199307793293
         },
         "mode": "markers",
         "opacity": 0.5,
         "showlegend": false,
         "type": "scattermapbox"
        },
        {
         "lat": [
          46.9654645
         ],
         "line": {
          "width": 12
         },
         "lon": [
          14.9779263
         ],
         "marker": {
          "color": "#76b5c5",
          "size": 10.01670843776107
         },
         "mode": "markers",
         "opacity": 0.5,
         "showlegend": false,
         "type": "scattermapbox"
        },
        {
         "lat": [
          null
         ],
         "line": {
          "width": 12
         },
         "lon": [
          null
         ],
         "marker": {
          "color": "#76b5c5",
          "size": 12.059911683971833
         },
         "mode": "markers",
         "opacity": 0.5,
         "showlegend": false,
         "type": "scattermapbox"
        },
        {
         "lat": [
          46.7118514
         ],
         "line": {
          "width": 12
         },
         "lon": [
          13.6370454
         ],
         "marker": {
          "color": "#76b5c5",
          "size": 10.558539205155746
         },
         "mode": "markers",
         "opacity": 0.5,
         "showlegend": false,
         "type": "scattermapbox"
        },
        {
         "lat": [
          47.206807
         ],
         "line": {
          "width": 12
         },
         "lon": [
          15.3451254
         ],
         "marker": {
          "color": "#76b5c5",
          "size": 10.312686478100012
         },
         "mode": "markers",
         "opacity": 0.5,
         "showlegend": false,
         "type": "scattermapbox"
        },
        {
         "lat": [
          48.2667
         ],
         "line": {
          "width": 12
         },
         "lon": [
          12.7667
         ],
         "marker": {
          "color": "#76b5c5",
          "size": 10.460675498269483
         },
         "mode": "markers",
         "opacity": 0.5,
         "showlegend": false,
         "type": "scattermapbox"
        },
        {
         "lat": [
          47.3594033
         ],
         "line": {
          "width": 12
         },
         "lon": [
          15.3459789
         ],
         "marker": {
          "color": "#76b5c5",
          "size": 10.427258622747345
         },
         "mode": "markers",
         "opacity": 0.5,
         "showlegend": false,
         "type": "scattermapbox"
        },
        {
         "lat": [
          48.0247866
         ],
         "line": {
          "width": 12
         },
         "lon": [
          14.3202029
         ],
         "marker": {
          "color": "#76b5c5",
          "size": 10.054899152643513
         },
         "mode": "markers",
         "opacity": 0.5,
         "showlegend": false,
         "type": "scattermapbox"
        },
        {
         "lat": [
          47.2208788
         ],
         "line": {
          "width": 12
         },
         "lon": [
          14.5861141
         ],
         "marker": {
          "color": "#76b5c5",
          "size": 10.03341687552214
         },
         "mode": "markers",
         "opacity": 0.5,
         "showlegend": false,
         "type": "scattermapbox"
        },
        {
         "lat": [
          47.6656951
         ],
         "line": {
          "width": 12
         },
         "lon": [
          15.5862343
         ],
         "marker": {
          "color": "#76b5c5",
          "size": 10.329394915861082
         },
         "mode": "markers",
         "opacity": 0.5,
         "showlegend": false,
         "type": "scattermapbox"
        },
        {
         "lat": [
          47.4224312
         ],
         "line": {
          "width": 12
         },
         "lon": [
          13.6951004
         ],
         "marker": {
          "color": "#76b5c5",
          "size": 10.01670843776107
         },
         "mode": "markers",
         "opacity": 0.5,
         "showlegend": false,
         "type": "scattermapbox"
        },
        {
         "lat": [
          null
         ],
         "line": {
          "width": 12
         },
         "lon": [
          null
         ],
         "marker": {
          "color": "#76b5c5",
          "size": 11.608783864422962
         },
         "mode": "markers",
         "opacity": 0.5,
         "showlegend": false,
         "type": "scattermapbox"
        },
        {
         "lat": [
          null
         ],
         "line": {
          "width": 12
         },
         "lon": [
          null
         ],
         "marker": {
          "color": "#76b5c5",
          "size": 10.551378446115288
         },
         "mode": "markers",
         "opacity": 0.5,
         "showlegend": false,
         "type": "scattermapbox"
        },
        {
         "lat": [
          46.7368395
         ],
         "line": {
          "width": 12
         },
         "lon": [
          15.5679636
         ],
         "marker": {
          "color": "#76b5c5",
          "size": 10.019095357441222
         },
         "mode": "markers",
         "opacity": 0.5,
         "showlegend": false,
         "type": "scattermapbox"
        },
        {
         "lat": [
          46.5835468
         ],
         "line": {
          "width": 12
         },
         "lon": [
          14.0131863
         ],
         "marker": {
          "color": "#76b5c5",
          "size": 11.907148824442057
         },
         "mode": "markers",
         "opacity": 0.5,
         "showlegend": false,
         "type": "scattermapbox"
        },
        {
         "lat": [
          48.1486348
         ],
         "line": {
          "width": 12
         },
         "lon": [
          14.0075182
         ],
         "marker": {
          "color": "#76b5c5",
          "size": 10.818713450292398
         },
         "mode": "markers",
         "opacity": 0.5,
         "showlegend": false,
         "type": "scattermapbox"
        },
        {
         "lat": [
          47.8539273
         ],
         "line": {
          "width": 12
         },
         "lon": [
          12.127262
         ],
         "marker": {
          "color": "#76b5c5",
          "size": 10.835421888053467
         },
         "mode": "markers",
         "opacity": 0.5,
         "showlegend": false,
         "type": "scattermapbox"
        },
        {
         "lat": [
          47.08683315
         ],
         "line": {
          "width": 12
         },
         "lon": [
          11.773980875456342
         ],
         "marker": {
          "color": "#76b5c5",
          "size": 15.511397541472729
         },
         "mode": "markers",
         "opacity": 0.5,
         "showlegend": false,
         "type": "scattermapbox"
        },
        {
         "lat": [
          47.6640882
         ],
         "line": {
          "width": 12
         },
         "lon": [
          15.1589528
         ],
         "marker": {
          "color": "#76b5c5",
          "size": 10.200501253132831
         },
         "mode": "markers",
         "opacity": 0.5,
         "showlegend": false,
         "type": "scattermapbox"
        },
        {
         "lat": [
          null
         ],
         "line": {
          "width": 12
         },
         "lon": [
          null
         ],
         "marker": {
          "color": "#76b5c5",
          "size": 12.2890559732665
         },
         "mode": "markers",
         "opacity": 0.5,
         "showlegend": false,
         "type": "scattermapbox"
        },
        {
         "lat": [
          48.4930015
         ],
         "line": {
          "width": 12
         },
         "lon": [
          14.2637185
         ],
         "marker": {
          "color": "#76b5c5",
          "size": 10.70891514500537
         },
         "mode": "markers",
         "opacity": 0.5,
         "showlegend": false,
         "type": "scattermapbox"
        },
        {
         "lat": [
          46.6579805
         ],
         "line": {
          "width": 12
         },
         "lon": [
          14.872610198098648
         ],
         "marker": {
          "color": "#76b5c5",
          "size": 11.88327962764053
         },
         "mode": "markers",
         "opacity": 0.5,
         "showlegend": false,
         "type": "scattermapbox"
        },
        {
         "lat": [
          47.3208816
         ],
         "line": {
          "width": 12
         },
         "lon": [
          13.1511239
         ],
         "marker": {
          "color": "#76b5c5",
          "size": 12.861916696503162
         },
         "mode": "markers",
         "opacity": 0.5,
         "showlegend": false,
         "type": "scattermapbox"
        },
        {
         "lat": [
          47.34787205
         ],
         "line": {
          "width": 12
         },
         "lon": [
          13.98686223534862
         ],
         "marker": {
          "color": "#76b5c5",
          "size": 11.453634085213032
         },
         "mode": "markers",
         "opacity": 0.5,
         "showlegend": false,
         "type": "scattermapbox"
        },
        {
         "lat": [
          46.7064901
         ],
         "line": {
          "width": 12
         },
         "lon": [
          15.6337629
         ],
         "marker": {
          "color": "#76b5c5",
          "size": 10.307912638739706
         },
         "mode": "markers",
         "opacity": 0.5,
         "showlegend": false,
         "type": "scattermapbox"
        },
        {
         "lat": [
          47.3396186
         ],
         "line": {
          "width": 12
         },
         "lon": [
          15.6836331
         ],
         "marker": {
          "color": "#76b5c5",
          "size": 10.140828261129013
         },
         "mode": "markers",
         "opacity": 0.5,
         "showlegend": false,
         "type": "scattermapbox"
        },
        {
         "lat": [
          47.2846032
         ],
         "line": {
          "width": 12
         },
         "lon": [
          13.34015395444624
         ],
         "marker": {
          "color": "#76b5c5",
          "size": 10.391454827545052
         },
         "mode": "markers",
         "opacity": 0.5,
         "showlegend": false,
         "type": "scattermapbox"
        },
        {
         "lat": [
          47.0359279
         ],
         "line": {
          "width": 12
         },
         "lon": [
          15.388145
         ],
         "marker": {
          "color": "#76b5c5",
          "size": 10.231531208974818
         },
         "mode": "markers",
         "opacity": 0.5,
         "showlegend": false,
         "type": "scattermapbox"
        },
        {
         "lat": [
          null
         ],
         "line": {
          "width": 12
         },
         "lon": [
          null
         ],
         "marker": {
          "color": "#76b5c5",
          "size": 11.236424394319132
         },
         "mode": "markers",
         "opacity": 0.5,
         "showlegend": false,
         "type": "scattermapbox"
        },
        {
         "lat": [
          47.3291614
         ],
         "line": {
          "width": 12
         },
         "lon": [
          13.1542777
         ],
         "marker": {
          "color": "#76b5c5",
          "size": 10.391454827545052
         },
         "mode": "markers",
         "opacity": 0.5,
         "showlegend": false,
         "type": "scattermapbox"
        },
        {
         "lat": [
          48.8591973
         ],
         "line": {
          "width": 12
         },
         "lon": [
          11.4573801
         ],
         "marker": {
          "color": "#76b5c5",
          "size": 10.551378446115288
         },
         "mode": "markers",
         "opacity": 0.5,
         "showlegend": false,
         "type": "scattermapbox"
        },
        {
         "lat": [
          null
         ],
         "line": {
          "width": 12
         },
         "lon": [
          null
         ],
         "marker": {
          "color": "#76b5c5",
          "size": 11.02876238214584
         },
         "mode": "markers",
         "opacity": 0.5,
         "showlegend": false,
         "type": "scattermapbox"
        },
        {
         "lat": [
          46.7574965
         ],
         "line": {
          "width": 12
         },
         "lon": [
          13.2476697
         ],
         "marker": {
          "color": "#76b5c5",
          "size": 10.03341687552214
         },
         "mode": "markers",
         "opacity": 0.5,
         "showlegend": false,
         "type": "scattermapbox"
        },
        {
         "lat": [
          47.3834025
         ],
         "line": {
          "width": 12
         },
         "lon": [
          13.6827097
         ],
         "marker": {
          "color": "#76b5c5",
          "size": 10.009547678720612
         },
         "mode": "markers",
         "opacity": 0.5,
         "showlegend": false,
         "type": "scattermapbox"
        },
        {
         "lat": [
          47.02163265
         ],
         "line": {
          "width": 12
         },
         "lon": [
          15.166787636664406
         ],
         "marker": {
          "color": "#76b5c5",
          "size": 10.026256116481681
         },
         "mode": "markers",
         "opacity": 0.5,
         "showlegend": false,
         "type": "scattermapbox"
        },
        {
         "lat": [
          47.9458416
         ],
         "line": {
          "width": 12
         },
         "lon": [
          14.357251
         ],
         "marker": {
          "color": "#76b5c5",
          "size": 10.961928631101564
         },
         "mode": "markers",
         "opacity": 0.5,
         "showlegend": false,
         "type": "scattermapbox"
        },
        {
         "lat": [
          48.1116835
         ],
         "line": {
          "width": 12
         },
         "lon": [
          12.2682221
         ],
         "marker": {
          "color": "#76b5c5",
          "size": 10.594343000358037
         },
         "mode": "markers",
         "opacity": 0.5,
         "showlegend": false,
         "type": "scattermapbox"
        },
        {
         "lat": [
          49.0235538
         ],
         "line": {
          "width": 12
         },
         "lon": [
          11.5604722
         ],
         "marker": {
          "color": "#76b5c5",
          "size": 12.033655567490154
         },
         "mode": "markers",
         "opacity": 0.5,
         "showlegend": false,
         "type": "scattermapbox"
        },
        {
         "lat": [
          47.5022777
         ],
         "line": {
          "width": 12
         },
         "lon": [
          14.4635129
         ],
         "marker": {
          "color": "#76b5c5",
          "size": 10.23391812865497
         },
         "mode": "markers",
         "opacity": 0.5,
         "showlegend": false,
         "type": "scattermapbox"
        },
        {
         "lat": [
          47.1758539
         ],
         "line": {
          "width": 12
         },
         "lon": [
          11.7022418
         ],
         "marker": {
          "color": "#76b5c5",
          "size": 10.007160759040458
         },
         "mode": "markers",
         "opacity": 0.5,
         "showlegend": false,
         "type": "scattermapbox"
        },
        {
         "lat": [
          47.3839333
         ],
         "line": {
          "width": 12
         },
         "lon": [
          13.2180687
         ],
         "marker": {
          "color": "#76b5c5",
          "size": 10.391454827545052
         },
         "mode": "markers",
         "opacity": 0.5,
         "showlegend": false,
         "type": "scattermapbox"
        },
        {
         "lat": [
          46.6167284
         ],
         "line": {
          "width": 12
         },
         "lon": [
          13.8500268
         ],
         "marker": {
          "color": "#76b5c5",
          "size": 10.584795321637428
         },
         "mode": "markers",
         "opacity": 0.5,
         "showlegend": false,
         "type": "scattermapbox"
        },
        {
         "lat": [
          47.4883966
         ],
         "line": {
          "width": 12
         },
         "lon": [
          14.9940399
         ],
         "marker": {
          "color": "#76b5c5",
          "size": 10.007160759040458
         },
         "mode": "markers",
         "opacity": 0.5,
         "showlegend": false,
         "type": "scattermapbox"
        },
        {
         "lat": [
          null
         ],
         "line": {
          "width": 12
         },
         "lon": [
          null
         ],
         "marker": {
          "color": "#76b5c5",
          "size": 10.236305048335124
         },
         "mode": "markers",
         "opacity": 0.5,
         "showlegend": false,
         "type": "scattermapbox"
        },
        {
         "lat": [
          null
         ],
         "line": {
          "width": 12
         },
         "lon": [
          null
         ],
         "marker": {
          "color": "#76b5c5",
          "size": 10.119345984007639
         },
         "mode": "markers",
         "opacity": 0.5,
         "showlegend": false,
         "type": "scattermapbox"
        },
        {
         "lat": [
          null
         ],
         "line": {
          "width": 12
         },
         "lon": [
          null
         ],
         "marker": {
          "color": "#76b5c5",
          "size": 15.010144408640649
         },
         "mode": "markers",
         "opacity": 0.5,
         "showlegend": false,
         "type": "scattermapbox"
        },
        {
         "lat": [
          48.0615171
         ],
         "line": {
          "width": 12
         },
         "lon": [
          12.220026
         ],
         "marker": {
          "color": "#76b5c5",
          "size": 10.572860723236664
         },
         "mode": "markers",
         "opacity": 0.5,
         "showlegend": false,
         "type": "scattermapbox"
        },
        {
         "lat": [
          null
         ],
         "line": {
          "width": 12
         },
         "lon": [
          null
         ],
         "marker": {
          "color": "#76b5c5",
          "size": 10.116959064327485
         },
         "mode": "markers",
         "opacity": 0.5,
         "showlegend": false,
         "type": "scattermapbox"
        },
        {
         "lat": [
          47.1091123
         ],
         "line": {
          "width": 12
         },
         "lon": [
          15.3860475
         ],
         "marker": {
          "color": "#76b5c5",
          "size": 10.369972550423679
         },
         "mode": "markers",
         "opacity": 0.5,
         "showlegend": false,
         "type": "scattermapbox"
        },
        {
         "lat": [
          46.91075555
         ],
         "line": {
          "width": 12
         },
         "lon": [
          15.49413063443386
         ],
         "marker": {
          "color": "#76b5c5",
          "size": 10.01670843776107
         },
         "mode": "markers",
         "opacity": 0.5,
         "showlegend": false,
         "type": "scattermapbox"
        },
        {
         "lat": [
          47.4711583
         ],
         "line": {
          "width": 12
         },
         "lon": [
          13.1985498
         ],
         "marker": {
          "color": "#76b5c5",
          "size": 10.379520229144289
         },
         "mode": "markers",
         "opacity": 0.5,
         "showlegend": false,
         "type": "scattermapbox"
        },
        {
         "lat": [
          46.90732585
         ],
         "line": {
          "width": 12
         },
         "lon": [
          15.484548801970302
         ],
         "marker": {
          "color": "#76b5c5",
          "size": 13.912161355770378
         },
         "mode": "markers",
         "opacity": 0.5,
         "showlegend": false,
         "type": "scattermapbox"
        },
        {
         "lat": [
          47.8572561
         ],
         "line": {
          "width": 12
         },
         "lon": [
          14.6635607
         ],
         "marker": {
          "color": "#76b5c5",
          "size": 10.875999522616064
         },
         "mode": "markers",
         "opacity": 0.5,
         "showlegend": false,
         "type": "scattermapbox"
        },
        {
         "lat": [
          48.19098525
         ],
         "line": {
          "width": 12
         },
         "lon": [
          15.071003799999994
         ],
         "marker": {
          "color": "#76b5c5",
          "size": 15.642678123881133
         },
         "mode": "markers",
         "opacity": 0.5,
         "showlegend": false,
         "type": "scattermapbox"
        },
        {
         "lat": [
          47.827775
         ],
         "line": {
          "width": 12
         },
         "lon": [
          13.033926
         ],
         "marker": {
          "color": "#e28743",
          "size": 9
         },
         "mode": "markers",
         "opacity": 0.5,
         "showlegend": false,
         "type": "scattermapbox"
        },
        {
         "lat": [
          47.591751
         ],
         "line": {
          "width": 12
         },
         "lon": [
          13.180723
         ],
         "marker": {
          "color": "#e28743",
          "size": 9
         },
         "mode": "markers",
         "opacity": 0.5,
         "showlegend": false,
         "type": "scattermapbox"
        },
        {
         "lat": [
          47.809199
         ],
         "line": {
          "width": 12
         },
         "lon": [
          13.038196
         ],
         "marker": {
          "color": "#e28743",
          "size": 9
         },
         "mode": "markers",
         "opacity": 0.5,
         "showlegend": false,
         "type": "scattermapbox"
        },
        {
         "lat": [
          47.813101
         ],
         "line": {
          "width": 12
         },
         "lon": [
          13.051664
         ],
         "marker": {
          "color": "#e28743",
          "size": 9
         },
         "mode": "markers",
         "opacity": 0.5,
         "showlegend": false,
         "type": "scattermapbox"
        },
        {
         "lat": [
          47.990422
         ],
         "line": {
          "width": 12
         },
         "lon": [
          12.951766
         ],
         "marker": {
          "color": "#e28743",
          "size": 9
         },
         "mode": "markers",
         "opacity": 0.5,
         "showlegend": false,
         "type": "scattermapbox"
        },
        {
         "lat": [
          47.840973
         ],
         "line": {
          "width": 12
         },
         "lon": [
          13.034607
         ],
         "marker": {
          "color": "#e28743",
          "size": 9
         },
         "mode": "markers",
         "opacity": 0.5,
         "showlegend": false,
         "type": "scattermapbox"
        },
        {
         "lat": [
          49.336423
         ],
         "line": {
          "width": 12
         },
         "lon": [
          10.308758
         ],
         "marker": {
          "color": "#e28743",
          "size": 9
         },
         "mode": "markers",
         "opacity": 0.5,
         "showlegend": false,
         "type": "scattermapbox"
        },
        {
         "lat": [
          49.072791
         ],
         "line": {
          "width": 12
         },
         "lon": [
          9.722525
         ],
         "marker": {
          "color": "#e28743",
          "size": 9
         },
         "mode": "markers",
         "opacity": 0.5,
         "showlegend": false,
         "type": "scattermapbox"
        },
        {
         "lat": [
          47.08748
         ],
         "line": {
          "width": 12
         },
         "lon": [
          13.11855
         ],
         "marker": {
          "color": "#e28743",
          "size": 9
         },
         "mode": "markers",
         "opacity": 0.5,
         "showlegend": false,
         "type": "scattermapbox"
        },
        {
         "lat": [
          47.827775
         ],
         "line": {
          "width": 12
         },
         "lon": [
          13.033926
         ],
         "marker": {
          "color": "#e28743",
          "size": 9
         },
         "mode": "markers",
         "opacity": 0.5,
         "showlegend": false,
         "type": "scattermapbox"
        },
        {
         "lat": [
          47.285759
         ],
         "line": {
          "width": 12
         },
         "lon": [
          12.880528
         ],
         "marker": {
          "color": "#e28743",
          "size": 9
         },
         "mode": "markers",
         "opacity": 0.5,
         "showlegend": false,
         "type": "scattermapbox"
        },
        {
         "lat": [
          53.537011
         ],
         "line": {
          "width": 12
         },
         "lon": [
          14.285429
         ],
         "marker": {
          "color": "#e28743",
          "size": 9
         },
         "mode": "markers",
         "opacity": 0.5,
         "showlegend": false,
         "type": "scattermapbox"
        },
        {
         "lat": [
          53.331155
         ],
         "line": {
          "width": 12
         },
         "lon": [
          13.864371
         ],
         "marker": {
          "color": "#e28743",
          "size": 9
         },
         "mode": "markers",
         "opacity": 0.5,
         "showlegend": false,
         "type": "scattermapbox"
        },
        {
         "lat": [
          47.772723
         ],
         "line": {
          "width": 12
         },
         "lon": [
          13.190231
         ],
         "marker": {
          "color": "#e28743",
          "size": 9
         },
         "mode": "markers",
         "opacity": 0.5,
         "showlegend": false,
         "type": "scattermapbox"
        },
        {
         "lat": [
          47.846373
         ],
         "line": {
          "width": 12
         },
         "lon": [
          13.019133
         ],
         "marker": {
          "color": "#e28743",
          "size": 9
         },
         "mode": "markers",
         "opacity": 0.5,
         "showlegend": false,
         "type": "scattermapbox"
        },
        {
         "lat": [
          47.89163
         ],
         "line": {
          "width": 12
         },
         "lon": [
          13.119475
         ],
         "marker": {
          "color": "#e28743",
          "size": 9
         },
         "mode": "markers",
         "opacity": 0.5,
         "showlegend": false,
         "type": "scattermapbox"
        },
        {
         "lat": [
          48.178657
         ],
         "line": {
          "width": 12
         },
         "lon": [
          12.795838
         ],
         "marker": {
          "color": "#e28743",
          "size": 9
         },
         "mode": "markers",
         "opacity": 0.5,
         "showlegend": false,
         "type": "scattermapbox"
        },
        {
         "lat": [
          47.09373
         ],
         "line": {
          "width": 12
         },
         "lon": [
          13.622019
         ],
         "marker": {
          "color": "#e28743",
          "size": 9
         },
         "mode": "markers",
         "opacity": 0.5,
         "showlegend": false,
         "type": "scattermapbox"
        },
        {
         "lat": [
          47.8242709
         ],
         "line": {
          "width": 12
         },
         "lon": [
          13.0273507
         ],
         "marker": {
          "color": "#e28743",
          "size": 9
         },
         "mode": "markers",
         "opacity": 0.5,
         "showlegend": false,
         "type": "scattermapbox"
        },
        {
         "lat": [
          47.279452
         ],
         "line": {
          "width": 12
         },
         "lon": [
          12.480089
         ],
         "marker": {
          "color": "#e28743",
          "size": 9
         },
         "mode": "markers",
         "opacity": 0.5,
         "showlegend": false,
         "type": "scattermapbox"
        },
        {
         "lat": [
          47.809199
         ],
         "line": {
          "width": 12
         },
         "lon": [
          13.038196
         ],
         "marker": {
          "color": "#e28743",
          "size": 9
         },
         "mode": "markers",
         "opacity": 0.5,
         "showlegend": false,
         "type": "scattermapbox"
        },
        {
         "lat": [
          49.093183
         ],
         "line": {
          "width": 12
         },
         "lon": [
          10.274915
         ],
         "marker": {
          "color": "#e28743",
          "size": 9
         },
         "mode": "markers",
         "opacity": 0.5,
         "showlegend": false,
         "type": "scattermapbox"
        },
        {
         "lat": [
          47.806691
         ],
         "line": {
          "width": 12
         },
         "lon": [
          13.030712
         ],
         "marker": {
          "color": "#e28743",
          "size": 9
         },
         "mode": "markers",
         "opacity": 0.5,
         "showlegend": false,
         "type": "scattermapbox"
        },
        {
         "lat": [
          47.7919666
         ],
         "line": {
          "width": 12
         },
         "lon": [
          13.018678
         ],
         "marker": {
          "color": "#e28743",
          "size": 9
         },
         "mode": "markers",
         "opacity": 0.5,
         "showlegend": false,
         "type": "scattermapbox"
        },
        {
         "lat": [
          47.810812
         ],
         "line": {
          "width": 12
         },
         "lon": [
          13.050443
         ],
         "marker": {
          "color": "#e28743",
          "size": 9
         },
         "mode": "markers",
         "opacity": 0.5,
         "showlegend": false,
         "type": "scattermapbox"
        },
        {
         "lat": [
          47.687435
         ],
         "line": {
          "width": 12
         },
         "lon": [
          13.08778
         ],
         "marker": {
          "color": "#e28743",
          "size": 9
         },
         "mode": "markers",
         "opacity": 0.5,
         "showlegend": false,
         "type": "scattermapbox"
        },
        {
         "lat": [
          47.472322
         ],
         "line": {
          "width": 12
         },
         "lon": [
          13.194875
         ],
         "marker": {
          "color": "#e28743",
          "size": 9
         },
         "mode": "markers",
         "opacity": 0.5,
         "showlegend": false,
         "type": "scattermapbox"
        },
        {
         "lat": [
          48.027591
         ],
         "line": {
          "width": 12
         },
         "lon": [
          13.227539
         ],
         "marker": {
          "color": "#e28743",
          "size": 9
         },
         "mode": "markers",
         "opacity": 0.5,
         "showlegend": false,
         "type": "scattermapbox"
        },
        {
         "lat": [
          47.826694
         ],
         "line": {
          "width": 12
         },
         "lon": [
          13.032365
         ],
         "marker": {
          "color": "#e28743",
          "size": 9
         },
         "mode": "markers",
         "opacity": 0.5,
         "showlegend": false,
         "type": "scattermapbox"
        },
        {
         "lat": [
          47.381527
         ],
         "line": {
          "width": 12
         },
         "lon": [
          13.472114
         ],
         "marker": {
          "color": "#e28743",
          "size": 9
         },
         "mode": "markers",
         "opacity": 0.5,
         "showlegend": false,
         "type": "scattermapbox"
        },
        {
         "lat": [
          47.804998
         ],
         "line": {
          "width": 12
         },
         "lon": [
          12.989037
         ],
         "marker": {
          "color": "#e28743",
          "size": 9
         },
         "mode": "markers",
         "opacity": 0.5,
         "showlegend": false,
         "type": "scattermapbox"
        },
        {
         "lat": [
          49.112914
         ],
         "line": {
          "width": 12
         },
         "lon": [
          9.954053
         ],
         "marker": {
          "color": "#e28743",
          "size": 9
         },
         "mode": "markers",
         "opacity": 0.5,
         "showlegend": false,
         "type": "scattermapbox"
        },
        {
         "lat": [
          47.102878
         ],
         "line": {
          "width": 12
         },
         "lon": [
          13.477972
         ],
         "marker": {
          "color": "#e28743",
          "size": 9
         },
         "mode": "markers",
         "opacity": 0.5,
         "showlegend": false,
         "type": "scattermapbox"
        },
        {
         "lat": [
          47.835006
         ],
         "line": {
          "width": 12
         },
         "lon": [
          12.994305
         ],
         "marker": {
          "color": "#e28743",
          "size": 9
         },
         "mode": "markers",
         "opacity": 0.5,
         "showlegend": false,
         "type": "scattermapbox"
        },
        {
         "lat": [
          47.761311
         ],
         "line": {
          "width": 12
         },
         "lon": [
          13.082743
         ],
         "marker": {
          "color": "#e28743",
          "size": 9
         },
         "mode": "markers",
         "opacity": 0.5,
         "showlegend": false,
         "type": "scattermapbox"
        },
        {
         "lat": [
          47.275153
         ],
         "line": {
          "width": 12
         },
         "lon": [
          12.358696
         ],
         "marker": {
          "color": "#e28743",
          "size": 9
         },
         "mode": "markers",
         "opacity": 0.5,
         "showlegend": false,
         "type": "scattermapbox"
        },
        {
         "lat": [
          53.461865
         ],
         "line": {
          "width": 12
         },
         "lon": [
          14.208085
         ],
         "marker": {
          "color": "#e28743",
          "size": 9
         },
         "mode": "markers",
         "opacity": 0.5,
         "showlegend": false,
         "type": "scattermapbox"
        },
        {
         "lat": [
          47.675227
         ],
         "line": {
          "width": 12
         },
         "lon": [
          13.108706
         ],
         "marker": {
          "color": "#e28743",
          "size": 9
         },
         "mode": "markers",
         "opacity": 0.5,
         "showlegend": false,
         "type": "scattermapbox"
        },
        {
         "lat": [
          47.164728
         ],
         "line": {
          "width": 12
         },
         "lon": [
          13.470612
         ],
         "marker": {
          "color": "#e28743",
          "size": 9
         },
         "mode": "markers",
         "opacity": 0.5,
         "showlegend": false,
         "type": "scattermapbox"
        },
        {
         "lat": [
          47.375047
         ],
         "line": {
          "width": 12
         },
         "lon": [
          13.209772
         ],
         "marker": {
          "color": "#e28743",
          "size": 9
         },
         "mode": "markers",
         "opacity": 0.5,
         "showlegend": false,
         "type": "scattermapbox"
        },
        {
         "lat": [
          47.112707
         ],
         "line": {
          "width": 12
         },
         "lon": [
          13.458686
         ],
         "marker": {
          "color": "#e28743",
          "size": 9
         },
         "mode": "markers",
         "opacity": 0.5,
         "showlegend": false,
         "type": "scattermapbox"
        },
        {
         "lat": [
          47.76227
         ],
         "line": {
          "width": 12
         },
         "lon": [
          13.185048
         ],
         "marker": {
          "color": "#e28743",
          "size": 9
         },
         "mode": "markers",
         "opacity": 0.5,
         "showlegend": false,
         "type": "scattermapbox"
        },
        {
         "lat": [
          48.157314
         ],
         "line": {
          "width": 12
         },
         "lon": [
          11.757978
         ],
         "marker": {
          "color": "#e28743",
          "size": 9
         },
         "mode": "markers",
         "opacity": 0.5,
         "showlegend": false,
         "type": "scattermapbox"
        },
        {
         "lat": [
          47.40702
         ],
         "line": {
          "width": 12
         },
         "lon": [
          13.220304
         ],
         "marker": {
          "color": "#e28743",
          "size": 9
         },
         "mode": "markers",
         "opacity": 0.5,
         "showlegend": false,
         "type": "scattermapbox"
        },
        {
         "lat": [
          49.434185
         ],
         "line": {
          "width": 12
         },
         "lon": [
          10.24091
         ],
         "marker": {
          "color": "#e28743",
          "size": 9
         },
         "mode": "markers",
         "opacity": 0.5,
         "showlegend": false,
         "type": "scattermapbox"
        },
        {
         "lat": [
          47.699914
         ],
         "line": {
          "width": 12
         },
         "lon": [
          13.110595
         ],
         "marker": {
          "color": "#e28743",
          "size": 9
         },
         "mode": "markers",
         "opacity": 0.5,
         "showlegend": false,
         "type": "scattermapbox"
        },
        {
         "lat": [
          47.6751426
         ],
         "line": {
          "width": 12
         },
         "lon": [
          13.1023094
         ],
         "marker": {
          "color": "#e28743",
          "size": 9
         },
         "mode": "markers",
         "opacity": 0.5,
         "showlegend": false,
         "type": "scattermapbox"
        },
        {
         "lat": [
          47.282009
         ],
         "line": {
          "width": 12
         },
         "lon": [
          12.828185
         ],
         "marker": {
          "color": "#e28743",
          "size": 9
         },
         "mode": "markers",
         "opacity": 0.5,
         "showlegend": false,
         "type": "scattermapbox"
        },
        {
         "lat": [
          47.136636
         ],
         "line": {
          "width": 12
         },
         "lon": [
          13.12746
         ],
         "marker": {
          "color": "#e28743",
          "size": 9
         },
         "mode": "markers",
         "opacity": 0.5,
         "showlegend": false,
         "type": "scattermapbox"
        },
        {
         "lat": [
          47.108063
         ],
         "line": {
          "width": 12
         },
         "lon": [
          13.471368
         ],
         "marker": {
          "color": "#e28743",
          "size": 9
         },
         "mode": "markers",
         "opacity": 0.5,
         "showlegend": false,
         "type": "scattermapbox"
        },
        {
         "lat": [
          47.827465
         ],
         "line": {
          "width": 12
         },
         "lon": [
          13.033985
         ],
         "marker": {
          "color": "#e28743",
          "size": 9
         },
         "mode": "markers",
         "opacity": 0.5,
         "showlegend": false,
         "type": "scattermapbox"
        },
        {
         "lat": [
          47.338434
         ],
         "line": {
          "width": 12
         },
         "lon": [
          13.197359
         ],
         "marker": {
          "color": "#e28743",
          "size": 9
         },
         "mode": "markers",
         "opacity": 0.5,
         "showlegend": false,
         "type": "scattermapbox"
        },
        {
         "lat": [
          47.449689
         ],
         "line": {
          "width": 12
         },
         "lon": [
          12.857056
         ],
         "marker": {
          "color": "#e28743",
          "size": 9
         },
         "mode": "markers",
         "opacity": 0.5,
         "showlegend": false,
         "type": "scattermapbox"
        },
        {
         "lat": [
          47.672775
         ],
         "line": {
          "width": 12
         },
         "lon": [
          13.109205
         ],
         "marker": {
          "color": "#e28743",
          "size": 9
         },
         "mode": "markers",
         "opacity": 0.5,
         "showlegend": false,
         "type": "scattermapbox"
        },
        {
         "lat": [
          47.355266
         ],
         "line": {
          "width": 12
         },
         "lon": [
          13.199328
         ],
         "marker": {
          "color": "#e28743",
          "size": 9
         },
         "mode": "markers",
         "opacity": 0.5,
         "showlegend": false,
         "type": "scattermapbox"
        },
        {
         "lat": [
          47.809465
         ],
         "line": {
          "width": 12
         },
         "lon": [
          13.037718
         ],
         "marker": {
          "color": "#e28743",
          "size": 9
         },
         "mode": "markers",
         "opacity": 0.5,
         "showlegend": false,
         "type": "scattermapbox"
        },
        {
         "lat": [
          47.175508
         ],
         "line": {
          "width": 12
         },
         "lon": [
          12.816882
         ],
         "marker": {
          "color": "#e28743",
          "size": 9
         },
         "mode": "markers",
         "opacity": 0.5,
         "showlegend": false,
         "type": "scattermapbox"
        },
        {
         "lat": [
          47.733363
         ],
         "line": {
          "width": 12
         },
         "lon": [
          13.082635
         ],
         "marker": {
          "color": "#e28743",
          "size": 9
         },
         "mode": "markers",
         "opacity": 0.5,
         "showlegend": false,
         "type": "scattermapbox"
        },
        {
         "lat": [
          53.514563
         ],
         "line": {
          "width": 12
         },
         "lon": [
          14.304089
         ],
         "marker": {
          "color": "#e28743",
          "size": 9
         },
         "mode": "markers",
         "opacity": 0.5,
         "showlegend": false,
         "type": "scattermapbox"
        },
        {
         "lat": [
          47.243945
         ],
         "line": {
          "width": 12
         },
         "lon": [
          12.230208
         ],
         "marker": {
          "color": "#e28743",
          "size": 9
         },
         "mode": "markers",
         "opacity": 0.5,
         "showlegend": false,
         "type": "scattermapbox"
        },
        {
         "lat": [
          47.441296
         ],
         "line": {
          "width": 12
         },
         "lon": [
          13.210459
         ],
         "marker": {
          "color": "#e28743",
          "size": 9
         },
         "mode": "markers",
         "opacity": 0.5,
         "showlegend": false,
         "type": "scattermapbox"
        },
        {
         "lat": [
          47.805375
         ],
         "line": {
          "width": 12
         },
         "lon": [
          13.028224
         ],
         "marker": {
          "color": "#e28743",
          "size": 9
         },
         "mode": "markers",
         "opacity": 0.5,
         "showlegend": false,
         "type": "scattermapbox"
        },
        {
         "lat": [
          47.715508
         ],
         "line": {
          "width": 12
         },
         "lon": [
          13.135378
         ],
         "marker": {
          "color": "#e28743",
          "size": 9
         },
         "mode": "markers",
         "opacity": 0.5,
         "showlegend": false,
         "type": "scattermapbox"
        },
        {
         "lat": [
          47.821454
         ],
         "line": {
          "width": 12
         },
         "lon": [
          13.034416
         ],
         "marker": {
          "color": "#e28743",
          "size": 9
         },
         "mode": "markers",
         "opacity": 0.5,
         "showlegend": false,
         "type": "scattermapbox"
        },
        {
         "lat": [
          49.363441
         ],
         "line": {
          "width": 12
         },
         "lon": [
          10.308207
         ],
         "marker": {
          "color": "#e28743",
          "size": 9
         },
         "mode": "markers",
         "opacity": 0.5,
         "showlegend": false,
         "type": "scattermapbox"
        },
        {
         "lat": [
          47.772834
         ],
         "line": {
          "width": 12
         },
         "lon": [
          13.189602
         ],
         "marker": {
          "color": "#e28743",
          "size": 9
         },
         "mode": "markers",
         "opacity": 0.5,
         "showlegend": false,
         "type": "scattermapbox"
        },
        {
         "lat": [
          47.086795
         ],
         "line": {
          "width": 12
         },
         "lon": [
          13.113835
         ],
         "marker": {
          "color": "#e28743",
          "size": 9
         },
         "mode": "markers",
         "opacity": 0.5,
         "showlegend": false,
         "type": "scattermapbox"
        },
        {
         "lat": [
          47.795647
         ],
         "line": {
          "width": 12
         },
         "lon": [
          12.996212
         ],
         "marker": {
          "color": "#e28743",
          "size": 9
         },
         "mode": "markers",
         "opacity": 0.5,
         "showlegend": false,
         "type": "scattermapbox"
        },
        {
         "lat": [
          47.724306
         ],
         "line": {
          "width": 12
         },
         "lon": [
          13.142585
         ],
         "marker": {
          "color": "#e28743",
          "size": 9
         },
         "mode": "markers",
         "opacity": 0.5,
         "showlegend": false,
         "type": "scattermapbox"
        },
        {
         "lat": [
          47.674469
         ],
         "line": {
          "width": 12
         },
         "lon": [
          13.109329
         ],
         "marker": {
          "color": "#e28743",
          "size": 9
         },
         "mode": "markers",
         "opacity": 0.5,
         "showlegend": false,
         "type": "scattermapbox"
        },
        {
         "lat": [
          47.266883
         ],
         "line": {
          "width": 12
         },
         "lon": [
          12.413135
         ],
         "marker": {
          "color": "#e28743",
          "size": 9
         },
         "mode": "markers",
         "opacity": 0.5,
         "showlegend": false,
         "type": "scattermapbox"
        },
        {
         "lat": [
          47.750627
         ],
         "line": {
          "width": 12
         },
         "lon": [
          13.036343
         ],
         "marker": {
          "color": "#e28743",
          "size": 9
         },
         "mode": "markers",
         "opacity": 0.5,
         "showlegend": false,
         "type": "scattermapbox"
        },
        {
         "lat": [
          47.823885
         ],
         "line": {
          "width": 12
         },
         "lon": [
          12.998865
         ],
         "marker": {
          "color": "#e28743",
          "size": 9
         },
         "mode": "markers",
         "opacity": 0.5,
         "showlegend": false,
         "type": "scattermapbox"
        },
        {
         "lat": [
          47.819241
         ],
         "line": {
          "width": 12
         },
         "lon": [
          12.982616
         ],
         "marker": {
          "color": "#e28743",
          "size": 9
         },
         "mode": "markers",
         "opacity": 0.5,
         "showlegend": false,
         "type": "scattermapbox"
        },
        {
         "lat": [
          47.821297
         ],
         "line": {
          "width": 12
         },
         "lon": [
          13.046082
         ],
         "marker": {
          "color": "#e28743",
          "size": 9
         },
         "mode": "markers",
         "opacity": 0.5,
         "showlegend": false,
         "type": "scattermapbox"
        },
        {
         "lat": [
          47.487658
         ],
         "line": {
          "width": 12
         },
         "lon": [
          12.825851
         ],
         "marker": {
          "color": "#e28743",
          "size": 9
         },
         "mode": "markers",
         "opacity": 0.5,
         "showlegend": false,
         "type": "scattermapbox"
        },
        {
         "lat": [
          47.066556
         ],
         "line": {
          "width": 12
         },
         "lon": [
          13.062206
         ],
         "marker": {
          "color": "#e28743",
          "size": 9
         },
         "mode": "markers",
         "opacity": 0.5,
         "showlegend": false,
         "type": "scattermapbox"
        },
        {
         "lat": [
          47.209584
         ],
         "line": {
          "width": 12
         },
         "lon": [
          12.831452
         ],
         "marker": {
          "color": "#e28743",
          "size": 9
         },
         "mode": "markers",
         "opacity": 0.5,
         "showlegend": false,
         "type": "scattermapbox"
        },
        {
         "lat": [
          47.675123
         ],
         "line": {
          "width": 12
         },
         "lon": [
          13.102307
         ],
         "marker": {
          "color": "#e28743",
          "size": 9
         },
         "mode": "markers",
         "opacity": 0.5,
         "showlegend": false,
         "type": "scattermapbox"
        },
        {
         "lat": [
          47.963229
         ],
         "line": {
          "width": 12
         },
         "lon": [
          13.242353
         ],
         "marker": {
          "color": "#e28743",
          "size": 9
         },
         "mode": "markers",
         "opacity": 0.5,
         "showlegend": false,
         "type": "scattermapbox"
        },
        {
         "lat": [
          47.83586
         ],
         "line": {
          "width": 12
         },
         "lon": [
          12.975841
         ],
         "marker": {
          "color": "#e28743",
          "size": 9
         },
         "mode": "markers",
         "opacity": 0.5,
         "showlegend": false,
         "type": "scattermapbox"
        },
        {
         "lat": [
          47.910906
         ],
         "line": {
          "width": 12
         },
         "lon": [
          12.535384
         ],
         "marker": {
          "color": "#e28743",
          "size": 9
         },
         "mode": "markers",
         "opacity": 0.5,
         "showlegend": false,
         "type": "scattermapbox"
        },
        {
         "lat": [
          47.243959
         ],
         "line": {
          "width": 12
         },
         "lon": [
          12.230208
         ],
         "marker": {
          "color": "#e28743",
          "size": 9
         },
         "mode": "markers",
         "opacity": 0.5,
         "showlegend": false,
         "type": "scattermapbox"
        },
        {
         "lat": [
          47.282954
         ],
         "line": {
          "width": 12
         },
         "lon": [
          12.221209
         ],
         "marker": {
          "color": "#e28743",
          "size": 9
         },
         "mode": "markers",
         "opacity": 0.5,
         "showlegend": false,
         "type": "scattermapbox"
        },
        {
         "lat": [
          47.426944
         ],
         "line": {
          "width": 12
         },
         "lon": [
          12.848333
         ],
         "marker": {
          "color": "#e28743",
          "size": 9
         },
         "mode": "markers",
         "opacity": 0.5,
         "showlegend": false,
         "type": "scattermapbox"
        },
        {
         "lat": [
          47.4415857
         ],
         "line": {
          "width": 12
         },
         "lon": [
          13.2231224
         ],
         "marker": {
          "color": "#e28743",
          "size": 9
         },
         "mode": "markers",
         "opacity": 0.5,
         "showlegend": false,
         "type": "scattermapbox"
        }
       ],
       "layout": {
        "legend": {
         "title": {
          "text": "val"
         },
         "tracegroupgap": 0
        },
        "mapbox": {
         "center": {
          "lat": 47.80949,
          "lon": 13.05501
         },
         "domain": {
          "x": [
           0,
           1
          ],
          "y": [
           0,
           1
          ]
         },
         "style": "carto-positron",
         "zoom": 6
        },
        "margin": {
         "b": 0,
         "l": 0,
         "r": 0,
         "t": 0
        },
        "paper_bgcolor": "rgba(0,0,0,0)",
        "plot_bgcolor": "rgba(0,0,0,0)",
        "template": {
         "data": {
          "bar": [
           {
            "error_x": {
             "color": "#2a3f5f"
            },
            "error_y": {
             "color": "#2a3f5f"
            },
            "marker": {
             "line": {
              "color": "#E5ECF6",
              "width": 0.5
             },
             "pattern": {
              "fillmode": "overlay",
              "size": 10,
              "solidity": 0.2
             }
            },
            "type": "bar"
           }
          ],
          "barpolar": [
           {
            "marker": {
             "line": {
              "color": "#E5ECF6",
              "width": 0.5
             },
             "pattern": {
              "fillmode": "overlay",
              "size": 10,
              "solidity": 0.2
             }
            },
            "type": "barpolar"
           }
          ],
          "carpet": [
           {
            "aaxis": {
             "endlinecolor": "#2a3f5f",
             "gridcolor": "white",
             "linecolor": "white",
             "minorgridcolor": "white",
             "startlinecolor": "#2a3f5f"
            },
            "baxis": {
             "endlinecolor": "#2a3f5f",
             "gridcolor": "white",
             "linecolor": "white",
             "minorgridcolor": "white",
             "startlinecolor": "#2a3f5f"
            },
            "type": "carpet"
           }
          ],
          "choropleth": [
           {
            "colorbar": {
             "outlinewidth": 0,
             "ticks": ""
            },
            "type": "choropleth"
           }
          ],
          "contour": [
           {
            "colorbar": {
             "outlinewidth": 0,
             "ticks": ""
            },
            "colorscale": [
             [
              0,
              "#0d0887"
             ],
             [
              0.1111111111111111,
              "#46039f"
             ],
             [
              0.2222222222222222,
              "#7201a8"
             ],
             [
              0.3333333333333333,
              "#9c179e"
             ],
             [
              0.4444444444444444,
              "#bd3786"
             ],
             [
              0.5555555555555556,
              "#d8576b"
             ],
             [
              0.6666666666666666,
              "#ed7953"
             ],
             [
              0.7777777777777778,
              "#fb9f3a"
             ],
             [
              0.8888888888888888,
              "#fdca26"
             ],
             [
              1,
              "#f0f921"
             ]
            ],
            "type": "contour"
           }
          ],
          "contourcarpet": [
           {
            "colorbar": {
             "outlinewidth": 0,
             "ticks": ""
            },
            "type": "contourcarpet"
           }
          ],
          "heatmap": [
           {
            "colorbar": {
             "outlinewidth": 0,
             "ticks": ""
            },
            "colorscale": [
             [
              0,
              "#0d0887"
             ],
             [
              0.1111111111111111,
              "#46039f"
             ],
             [
              0.2222222222222222,
              "#7201a8"
             ],
             [
              0.3333333333333333,
              "#9c179e"
             ],
             [
              0.4444444444444444,
              "#bd3786"
             ],
             [
              0.5555555555555556,
              "#d8576b"
             ],
             [
              0.6666666666666666,
              "#ed7953"
             ],
             [
              0.7777777777777778,
              "#fb9f3a"
             ],
             [
              0.8888888888888888,
              "#fdca26"
             ],
             [
              1,
              "#f0f921"
             ]
            ],
            "type": "heatmap"
           }
          ],
          "heatmapgl": [
           {
            "colorbar": {
             "outlinewidth": 0,
             "ticks": ""
            },
            "colorscale": [
             [
              0,
              "#0d0887"
             ],
             [
              0.1111111111111111,
              "#46039f"
             ],
             [
              0.2222222222222222,
              "#7201a8"
             ],
             [
              0.3333333333333333,
              "#9c179e"
             ],
             [
              0.4444444444444444,
              "#bd3786"
             ],
             [
              0.5555555555555556,
              "#d8576b"
             ],
             [
              0.6666666666666666,
              "#ed7953"
             ],
             [
              0.7777777777777778,
              "#fb9f3a"
             ],
             [
              0.8888888888888888,
              "#fdca26"
             ],
             [
              1,
              "#f0f921"
             ]
            ],
            "type": "heatmapgl"
           }
          ],
          "histogram": [
           {
            "marker": {
             "pattern": {
              "fillmode": "overlay",
              "size": 10,
              "solidity": 0.2
             }
            },
            "type": "histogram"
           }
          ],
          "histogram2d": [
           {
            "colorbar": {
             "outlinewidth": 0,
             "ticks": ""
            },
            "colorscale": [
             [
              0,
              "#0d0887"
             ],
             [
              0.1111111111111111,
              "#46039f"
             ],
             [
              0.2222222222222222,
              "#7201a8"
             ],
             [
              0.3333333333333333,
              "#9c179e"
             ],
             [
              0.4444444444444444,
              "#bd3786"
             ],
             [
              0.5555555555555556,
              "#d8576b"
             ],
             [
              0.6666666666666666,
              "#ed7953"
             ],
             [
              0.7777777777777778,
              "#fb9f3a"
             ],
             [
              0.8888888888888888,
              "#fdca26"
             ],
             [
              1,
              "#f0f921"
             ]
            ],
            "type": "histogram2d"
           }
          ],
          "histogram2dcontour": [
           {
            "colorbar": {
             "outlinewidth": 0,
             "ticks": ""
            },
            "colorscale": [
             [
              0,
              "#0d0887"
             ],
             [
              0.1111111111111111,
              "#46039f"
             ],
             [
              0.2222222222222222,
              "#7201a8"
             ],
             [
              0.3333333333333333,
              "#9c179e"
             ],
             [
              0.4444444444444444,
              "#bd3786"
             ],
             [
              0.5555555555555556,
              "#d8576b"
             ],
             [
              0.6666666666666666,
              "#ed7953"
             ],
             [
              0.7777777777777778,
              "#fb9f3a"
             ],
             [
              0.8888888888888888,
              "#fdca26"
             ],
             [
              1,
              "#f0f921"
             ]
            ],
            "type": "histogram2dcontour"
           }
          ],
          "mesh3d": [
           {
            "colorbar": {
             "outlinewidth": 0,
             "ticks": ""
            },
            "type": "mesh3d"
           }
          ],
          "parcoords": [
           {
            "line": {
             "colorbar": {
              "outlinewidth": 0,
              "ticks": ""
             }
            },
            "type": "parcoords"
           }
          ],
          "pie": [
           {
            "automargin": true,
            "type": "pie"
           }
          ],
          "scatter": [
           {
            "fillpattern": {
             "fillmode": "overlay",
             "size": 10,
             "solidity": 0.2
            },
            "type": "scatter"
           }
          ],
          "scatter3d": [
           {
            "line": {
             "colorbar": {
              "outlinewidth": 0,
              "ticks": ""
             }
            },
            "marker": {
             "colorbar": {
              "outlinewidth": 0,
              "ticks": ""
             }
            },
            "type": "scatter3d"
           }
          ],
          "scattercarpet": [
           {
            "marker": {
             "colorbar": {
              "outlinewidth": 0,
              "ticks": ""
             }
            },
            "type": "scattercarpet"
           }
          ],
          "scattergeo": [
           {
            "marker": {
             "colorbar": {
              "outlinewidth": 0,
              "ticks": ""
             }
            },
            "type": "scattergeo"
           }
          ],
          "scattergl": [
           {
            "marker": {
             "colorbar": {
              "outlinewidth": 0,
              "ticks": ""
             }
            },
            "type": "scattergl"
           }
          ],
          "scattermapbox": [
           {
            "marker": {
             "colorbar": {
              "outlinewidth": 0,
              "ticks": ""
             }
            },
            "type": "scattermapbox"
           }
          ],
          "scatterpolar": [
           {
            "marker": {
             "colorbar": {
              "outlinewidth": 0,
              "ticks": ""
             }
            },
            "type": "scatterpolar"
           }
          ],
          "scatterpolargl": [
           {
            "marker": {
             "colorbar": {
              "outlinewidth": 0,
              "ticks": ""
             }
            },
            "type": "scatterpolargl"
           }
          ],
          "scatterternary": [
           {
            "marker": {
             "colorbar": {
              "outlinewidth": 0,
              "ticks": ""
             }
            },
            "type": "scatterternary"
           }
          ],
          "surface": [
           {
            "colorbar": {
             "outlinewidth": 0,
             "ticks": ""
            },
            "colorscale": [
             [
              0,
              "#0d0887"
             ],
             [
              0.1111111111111111,
              "#46039f"
             ],
             [
              0.2222222222222222,
              "#7201a8"
             ],
             [
              0.3333333333333333,
              "#9c179e"
             ],
             [
              0.4444444444444444,
              "#bd3786"
             ],
             [
              0.5555555555555556,
              "#d8576b"
             ],
             [
              0.6666666666666666,
              "#ed7953"
             ],
             [
              0.7777777777777778,
              "#fb9f3a"
             ],
             [
              0.8888888888888888,
              "#fdca26"
             ],
             [
              1,
              "#f0f921"
             ]
            ],
            "type": "surface"
           }
          ],
          "table": [
           {
            "cells": {
             "fill": {
              "color": "#EBF0F8"
             },
             "line": {
              "color": "white"
             }
            },
            "header": {
             "fill": {
              "color": "#C8D4E3"
             },
             "line": {
              "color": "white"
             }
            },
            "type": "table"
           }
          ]
         },
         "layout": {
          "annotationdefaults": {
           "arrowcolor": "#2a3f5f",
           "arrowhead": 0,
           "arrowwidth": 1
          },
          "autotypenumbers": "strict",
          "coloraxis": {
           "colorbar": {
            "outlinewidth": 0,
            "ticks": ""
           }
          },
          "colorscale": {
           "diverging": [
            [
             0,
             "#8e0152"
            ],
            [
             0.1,
             "#c51b7d"
            ],
            [
             0.2,
             "#de77ae"
            ],
            [
             0.3,
             "#f1b6da"
            ],
            [
             0.4,
             "#fde0ef"
            ],
            [
             0.5,
             "#f7f7f7"
            ],
            [
             0.6,
             "#e6f5d0"
            ],
            [
             0.7,
             "#b8e186"
            ],
            [
             0.8,
             "#7fbc41"
            ],
            [
             0.9,
             "#4d9221"
            ],
            [
             1,
             "#276419"
            ]
           ],
           "sequential": [
            [
             0,
             "#0d0887"
            ],
            [
             0.1111111111111111,
             "#46039f"
            ],
            [
             0.2222222222222222,
             "#7201a8"
            ],
            [
             0.3333333333333333,
             "#9c179e"
            ],
            [
             0.4444444444444444,
             "#bd3786"
            ],
            [
             0.5555555555555556,
             "#d8576b"
            ],
            [
             0.6666666666666666,
             "#ed7953"
            ],
            [
             0.7777777777777778,
             "#fb9f3a"
            ],
            [
             0.8888888888888888,
             "#fdca26"
            ],
            [
             1,
             "#f0f921"
            ]
           ],
           "sequentialminus": [
            [
             0,
             "#0d0887"
            ],
            [
             0.1111111111111111,
             "#46039f"
            ],
            [
             0.2222222222222222,
             "#7201a8"
            ],
            [
             0.3333333333333333,
             "#9c179e"
            ],
            [
             0.4444444444444444,
             "#bd3786"
            ],
            [
             0.5555555555555556,
             "#d8576b"
            ],
            [
             0.6666666666666666,
             "#ed7953"
            ],
            [
             0.7777777777777778,
             "#fb9f3a"
            ],
            [
             0.8888888888888888,
             "#fdca26"
            ],
            [
             1,
             "#f0f921"
            ]
           ]
          },
          "colorway": [
           "#636efa",
           "#EF553B",
           "#00cc96",
           "#ab63fa",
           "#FFA15A",
           "#19d3f3",
           "#FF6692",
           "#B6E880",
           "#FF97FF",
           "#FECB52"
          ],
          "font": {
           "color": "#2a3f5f"
          },
          "geo": {
           "bgcolor": "white",
           "lakecolor": "white",
           "landcolor": "#E5ECF6",
           "showlakes": true,
           "showland": true,
           "subunitcolor": "white"
          },
          "hoverlabel": {
           "align": "left"
          },
          "hovermode": "closest",
          "mapbox": {
           "style": "light"
          },
          "paper_bgcolor": "white",
          "plot_bgcolor": "#E5ECF6",
          "polar": {
           "angularaxis": {
            "gridcolor": "white",
            "linecolor": "white",
            "ticks": ""
           },
           "bgcolor": "#E5ECF6",
           "radialaxis": {
            "gridcolor": "white",
            "linecolor": "white",
            "ticks": ""
           }
          },
          "scene": {
           "xaxis": {
            "backgroundcolor": "#E5ECF6",
            "gridcolor": "white",
            "gridwidth": 2,
            "linecolor": "white",
            "showbackground": true,
            "ticks": "",
            "zerolinecolor": "white"
           },
           "yaxis": {
            "backgroundcolor": "#E5ECF6",
            "gridcolor": "white",
            "gridwidth": 2,
            "linecolor": "white",
            "showbackground": true,
            "ticks": "",
            "zerolinecolor": "white"
           },
           "zaxis": {
            "backgroundcolor": "#E5ECF6",
            "gridcolor": "white",
            "gridwidth": 2,
            "linecolor": "white",
            "showbackground": true,
            "ticks": "",
            "zerolinecolor": "white"
           }
          },
          "shapedefaults": {
           "line": {
            "color": "#2a3f5f"
           }
          },
          "ternary": {
           "aaxis": {
            "gridcolor": "white",
            "linecolor": "white",
            "ticks": ""
           },
           "baxis": {
            "gridcolor": "white",
            "linecolor": "white",
            "ticks": ""
           },
           "bgcolor": "#E5ECF6",
           "caxis": {
            "gridcolor": "white",
            "linecolor": "white",
            "ticks": ""
           }
          },
          "title": {
           "x": 0.05
          },
          "xaxis": {
           "automargin": true,
           "gridcolor": "white",
           "linecolor": "white",
           "ticks": "",
           "title": {
            "standoff": 15
           },
           "zerolinecolor": "white",
           "zerolinewidth": 2
          },
          "yaxis": {
           "automargin": true,
           "gridcolor": "white",
           "linecolor": "white",
           "ticks": "",
           "title": {
            "standoff": 15
           },
           "zerolinecolor": "white",
           "zerolinewidth": 2
          }
         }
        }
       }
      },
      "text/html": [
       "<div>                            <div id=\"3abff855-5323-4af4-b2d2-47b26f4237ac\" class=\"plotly-graph-div\" style=\"height:525px; width:100%;\"></div>            <script type=\"text/javascript\">                require([\"plotly\"], function(Plotly) {                    window.PLOTLYENV=window.PLOTLYENV || {};                                    if (document.getElementById(\"3abff855-5323-4af4-b2d2-47b26f4237ac\")) {                    Plotly.newPlot(                        \"3abff855-5323-4af4-b2d2-47b26f4237ac\",                        [{\"colorscale\":[[0.0,\"#FECB52\"],[1.0,\"#FECB52\"]],\"featureidkey\":\"properties.name\",\"geojson\":{\"type\":\"FeatureCollection\",\"crs\":{\"type\":\"name\",\"properties\":{\"name\":\"urn:ogc:def:crs:OGC:1.3:CRS84\"}},\"features\":[{\"type\":\"Feature\",\"properties\":{\"iso\":\"4\",\"name\":\"Ober\\u00f6sterreich\"},\"geometry\":{\"type\":\"Polygon\",\"coordinates\":[[[-180,-90],[-180,90],[180,90],[180,-90],[-180,-90]],[[13.761468343661337,47.52080646660642],[13.749939780673508,47.502130413530246],[13.739831699315966,47.49706786900644],[13.737698623506096,47.49600878845934],[13.731497960586651,47.49206213229628],[13.728080576019494,47.4893613159391],[13.723525447195547,47.485353432719],[13.72198802603445,47.48316089154389],[13.718057239028633,47.474178710708685],[13.719202960248918,47.47119370242574],[13.723349850747946,47.46261300868679],[13.668442288753072,47.46319994029522],[13.627130645354228,47.46796696682165],[13.60952358993131,47.475643500784486],[13.606457798581054,47.47569432788716],[13.58643460518265,47.47530669240729],[13.53507592650793,47.49544294681517],[13.516932398814733,47.497016419942995],[13.502759692442385,47.51222954480216],[13.490813740646713,47.51377416410763],[13.477502477804828,47.53083284465746],[13.485529836861907,47.553347344138636],[13.482039721354713,47.562245689143815],[13.47908881547972,47.568656909194765],[13.506033490577202,47.5825112248718],[13.507093170569451,47.6012763494509],[13.521053258892575,47.62370726910291],[13.490632581940691,47.63085555988478],[13.484863443678226,47.64207122151538],[13.501161404579053,47.659439099253035],[13.500814203853798,47.66953074871557],[13.51772234921809,47.67606585346152],[13.534476584956707,47.68491350241405],[13.536404696257424,47.69583113716994],[13.551652205865423,47.71465205581413],[13.477370979698803,47.72473125857403],[13.437044064399783,47.73909342348027],[13.447086368217878,47.77255021084186],[13.466056518915638,47.78669928819231],[13.51601511400202,47.772557268928],[13.536170688480274,47.77668107103932],[13.530261084681209,47.79757025282514],[13.511752541024057,47.79750739773911],[13.491362176743541,47.78972824335878],[13.484511289095584,47.79998448891715],[13.451191675078974,47.80429341887363],[13.398849442188165,47.79844364754232],[13.393957421567334,47.79530009230283],[13.351724651095312,47.81049488687009],[13.312964897658228,47.81338362346725],[13.308778302920036,47.82225122218704],[13.287164601314913,47.83077934971909],[13.293889782637898,47.86432091652677],[13.276176908502721,47.879160464777776],[13.270871494943625,47.891993523241105],[13.281888759941667,47.90520221504385],[13.28596397625165,47.928448961936446],[13.281051844447191,47.955287621129074],[13.308305386852295,47.964587650616565],[13.338053780558313,47.954776113107535],[13.340370893896262,47.94446341416352],[13.359317945365092,47.94032978871332],[13.363899067124235,47.944650609719325],[13.361538037048387,47.955978212335594],[13.372433816964902,47.97255316137185],[13.324833675764625,47.99289185716716],[13.30199772896553,47.995935901175955],[13.30470126151509,48.00844773145437],[13.257739324477054,47.99177805174646],[13.243453938930724,47.99256216630181],[13.213462576661653,47.98304537035671],[13.210633201710504,47.97952053508733],[13.199432981972263,47.97475031105499],[13.145922802944359,47.97492426122499],[13.124995546580353,47.99676404709405],[13.104679932443288,47.9973348993728],[13.103509611940929,47.99814389805751],[13.058399902054074,48.0138781323072],[13.047942372223341,48.02784954404842],[13.0477425732328,48.03795347378263],[13.029747807676841,48.03309647811081],[13.01303093487179,48.03710160969214],[12.99033983971967,48.028428310448234],[12.973593909957328,48.024092617906796],[12.962153171469591,48.03334762085566],[12.940234149971177,48.036994092995705],[12.938794024086247,48.03655378472327],[12.912326251343378,48.02336110691883],[12.890672123907757,47.99150922151449],[12.86088959690731,47.99723089391568],[12.849244684020219,48.01830700739781],[12.834700013018569,48.028658574250564],[12.77118249189689,48.06654970967599],[12.753676467533142,48.08744399595454],[12.751335202400906,48.10020168386371],[12.751552952481365,48.112851790624454],[12.765471952409863,48.12951392694786],[12.783679569596007,48.1235397038678],[12.793862775286234,48.13305787836447],[12.800729041927802,48.14779496366545],[12.828638234284856,48.15368514186638],[12.848778092893358,48.16847298306341],[12.872875848203517,48.20274403899485],[12.955926838525826,48.20958125416833],[13.001926459665786,48.2398935841754],[13.023867198179028,48.25892200808435],[13.064929214454004,48.269951866139714],[13.083023403262606,48.27812912386339],[13.126557612157283,48.278684419548746],[13.143393052035135,48.28350646760216],[13.177751556389154,48.29499874155157],[13.196266154506786,48.29607973557583],[13.254464315439044,48.293767929844634],[13.315277079231342,48.317036461259335],[13.342147830083436,48.33230728614129],[13.344649513635373,48.334097967252795],[13.374859460935586,48.357087271798186],[13.408652267619852,48.372780988910925],[13.420980798602951,48.40066409504632],[13.436809057686764,48.42636018234907],[13.435063295836004,48.445749832825314],[13.427748407967163,48.45560317378212],[13.440384108347953,48.47952291162853],[13.444084183251015,48.48588974274162],[13.458086261153824,48.514322165682856],[13.445759074699199,48.52871895143682],[13.451429164773517,48.53601737756275],[13.437824342267492,48.553992558728304],[13.450808218968634,48.564586794774954],[13.475912099655348,48.55662382263038],[13.507671019484409,48.57691769787349],[13.513294273575916,48.59174422185886],[13.529349762801287,48.58737704241167],[13.552344554686877,48.57141423344827],[13.581274014397039,48.5601109633386],[13.602080753938756,48.569478576967384],[13.624560330688572,48.55548840326983],[13.641991248393275,48.55312963299124],[13.661702713591101,48.53731806966126],[13.678015861490508,48.53112866167816],[13.706544781970202,48.518274991722926],[13.727954502215983,48.51364372597261],[13.734258947824607,48.52596028363807],[13.748732694818022,48.53029092761529],[13.744611907990022,48.544397704308295],[13.765182437356478,48.561223347232676],[13.80187293494583,48.57431215484381],[13.801698635625545,48.59553075766928],[13.826655136275003,48.619259129092555],[13.827388039805381,48.63548354298059],[13.81499128284112,48.65023709691268],[13.818245182850438,48.65935197720145],[13.814507764286912,48.690040895507536],[13.834495308856685,48.69254254869852],[13.838233736745138,48.70077110816928],[13.821340890312074,48.69971664740794],[13.80195001550865,48.71724873170448],[13.819973339571344,48.73247269436746],[13.823904972652254,48.75729411622541],[13.840463717347799,48.77227153508407],[13.877862641576309,48.76662326722155],[13.896383493322672,48.757727602553594],[13.92724762079524,48.73533491489665],[13.956444191616976,48.71557915089606],[13.977406252965523,48.71173191576706],[14.004205361825399,48.70922114721568],[14.035657009975328,48.67790687106527],[14.060331383036523,48.674369944628005],[14.053869500901017,48.653283829653915],[14.025529869034388,48.65324141195025],[14.011482244770098,48.64028370707253],[14.023895385856315,48.631341099141494],[14.049060314559261,48.62799434273461],[14.04310872113346,48.613482502820176],[14.055162788030543,48.60475676851697],[14.09650511903674,48.592860288985534],[14.116854475516513,48.589785134558056],[14.133758272655326,48.598123701660924],[14.164464221517843,48.589854667792686],[14.182663976176949,48.594519966840686],[14.222500325540357,48.587052852541504],[14.24881043953586,48.57865226838867],[14.271336029245036,48.581609548435395],[14.27979967823369,48.57484644055533],[14.322950462475491,48.56367499067785],[14.33418381983436,48.55241822217751],[14.342366539673028,48.55529395985451],[14.358871263816061,48.57409447643877],[14.369456314570034,48.570439299168946],[14.39461766316901,48.57808445042035],[14.386748370011437,48.59253413798396],[14.431321578237124,48.58913770117082],[14.444526860039387,48.60475668810137],[14.454202124282817,48.6316198132114],[14.444740090994436,48.64404491084891],[14.467611016584105,48.64676435162258],[14.496888433793918,48.62841717037063],[14.504970937374065,48.617827339496905],[14.54854797028125,48.614236770994516],[14.555868054273956,48.60636490682233],[14.59079058392135,48.61824448258708],[14.608146428788709,48.629157073786615],[14.627733389226787,48.6049617804137],[14.64696335389085,48.6104968000798],[14.664464009697303,48.58255914623143],[14.692011720285441,48.58490113429138],[14.712854848966414,48.57930051866391],[14.737306483179042,48.55338172656353],[14.750652287987648,48.563309497922724],[14.770268116906225,48.55714598188366],[14.783847821000045,48.56087783606439],[14.812165790802133,48.55435262715039],[14.836429426296265,48.54613640733101],[14.850621770741922,48.530508811371654],[14.87611814289651,48.52833018192561],[14.897213901549714,48.5238289122768],[14.921985430272743,48.5063099948914],[14.893294939416279,48.49954977414131],[14.89076823600783,48.487186262239256],[14.869153630242094,48.480598908475066],[14.878035803653248,48.464960439844255],[14.881094512179585,48.45416920340863],[14.899304726976974,48.45118796733097],[14.912746152576975,48.43525708462906],[14.929222197081275,48.42437900230321],[14.948526911209726,48.408275729655884],[14.937347883346334,48.39574046175733],[14.95740686118546,48.391872589945],[14.965473444224912,48.37908036597974],[14.953257592412763,48.35736421106776],[14.948500091153504,48.333932701233394],[14.944707930199018,48.324208641191426],[14.961276585651447,48.32600702599241],[14.987472032851425,48.31986820106699],[14.98610631748662,48.2996683525936],[14.993064821745358,48.256481541981714],[14.970980298747003,48.246307500079254],[14.973991654256002,48.23412855248663],[14.953177334199474,48.2196821319115],[14.964959677962709,48.21546584731094],[14.975168842336695,48.19938089723151],[14.963455418254389,48.2029294757642],[14.94545350829885,48.227828609959246],[14.916367240931041,48.23341980554123],[14.886672858998764,48.23331340585649],[14.862034389001293,48.22759235752868],[14.857647289249964,48.2118790838581],[14.841299518230482,48.194285950254766],[14.76999073359129,48.17966547701552],[14.762575617971853,48.178129269618665],[14.740290996048547,48.17267042780217],[14.716262127184088,48.17922231714081],[14.706108292888453,48.163108765397396],[14.689341081657787,48.157842363591016],[14.644596762205955,48.175797932834875],[14.624220122940233,48.19124240435371],[14.612441211680398,48.19631042542675],[14.592418350473913,48.2186920886637],[14.561823429345107,48.231550653279065],[14.522132481880618,48.23817595459479],[14.516499149962847,48.234626215560816],[14.490542924226713,48.22243831966222],[14.481896255476263,48.202486798133606],[14.48306000462588,48.17905645349892],[14.48378353961489,48.17211995981522],[14.468852302186878,48.14815240152816],[14.47814716570341,48.1333197826741],[14.468606428772844,48.12305447127659],[14.49389428913237,48.110518873200974],[14.479981176313673,48.104966832319896],[14.45884386138352,48.089240084575195],[14.459781254769144,48.0745610655232],[14.457053490765055,48.043583024288864],[14.493029427438513,48.01139393724137],[14.494094797932878,47.998575123780654],[14.532905306714364,47.99045792275939],[14.556069266219266,47.980396427392726],[14.587430121919196,47.966967054520275],[14.61716210344324,47.94862915023496],[14.650014712778617,47.942672396118574],[14.67156135721668,47.9352654799033],[14.704712595954096,47.92612196962043],[14.730122129606695,47.924881191059974],[14.744434403895152,47.91798169387795],[14.772909658327675,47.883535304763846],[14.770512472985631,47.88013032570069],[14.763701002361893,47.872755485397825],[14.735787638691619,47.86407815210144],[14.710944725517333,47.851156452345236],[14.723745270979276,47.83270432549689],[14.711111676729239,47.823894777097955],[14.71405583462424,47.81396770889996],[14.732408062547798,47.799614595586],[14.71282388866229,47.790593876536974],[14.719338953449402,47.7762541323648],[14.736870687936824,47.75941647566353],[14.73941005315781,47.74922605433828],[14.696101815648682,47.76563186599045],[14.67207858588412,47.74202078409811],[14.653187793915182,47.73889317165377],[14.64719231910817,47.72595944262536],[14.614927555842169,47.7309722431711],[14.586942803497031,47.71872300012681],[14.551628887336577,47.71962742888747],[14.522086806658399,47.70450868367179],[14.528528809248565,47.69578050180005],[14.518106779677245,47.68234775055645],[14.489475888040413,47.682544991382265],[14.450235959617695,47.66429724760942],[14.44513459123595,47.65591433582141],[14.421750658643285,47.65707740152773],[14.398364821556784,47.65315467806017],[14.392425738220743,47.636439177631914],[14.362217112276326,47.62963119094089],[14.338644891275344,47.61950817295423],[14.327278040177621,47.608053358296914],[14.297356904842294,47.60838855961336],[14.282830845022065,47.61502399659609],[14.265285012529146,47.61097492007717],[14.23543603938687,47.62843178409581],[14.2239677356011,47.64265234518986],[14.233426356458017,47.65113700471098],[14.20666130571076,47.65304624864519],[14.17845000404205,47.63845605519901],[14.146470255359203,47.637541872008285],[14.09397279775532,47.62004668301488],[14.051621972220863,47.617665896598645],[14.049585353070214,47.637433635069286],[14.056276961668358,47.668402560397155],[14.02068203026115,47.691331947470566],[14.011443723485487,47.70141210052122],[13.984211591060614,47.69778283305983],[13.952538634224577,47.71017744132775],[13.92081228227291,47.705629593831105],[13.896747229395052,47.718005880161456],[13.861138634495047,47.72774375906014],[13.841036098879353,47.71926144413417],[13.793829984048736,47.71296748670543],[13.778469559322653,47.718855464168996],[13.757621275365063,47.7013177222326],[13.737788782944994,47.67463191499944],[13.707306343623786,47.66491161046893],[13.708656979051755,47.65697959312436],[13.694855210566404,47.62373265847468],[13.699304230072531,47.60256985294222],[13.695386003669368,47.579788508969735],[13.736257558962429,47.57753707119247],[13.75673166042166,47.55324076910114],[13.747019627280881,47.54331312621415],[13.761468343661337,47.52080646660642]]]}},{\"type\":\"Feature\",\"properties\":{\"iso\":\"7\",\"name\":\"Tirol\"},\"geometry\":{\"type\":\"MultiPolygon\",\"coordinates\":[[[-180,-90],[-180,90],[180,90],[180,-90],[-180,-90]],[[[12.71233012533157,46.73610222670111],[12.711506966621174,46.70547477003055],[12.69309267928992,46.70209390828986],[12.687289165693864,46.686651136614145],[12.691232045355415,46.657410894876925],[12.658479252176756,46.65769517832306],[12.64230456688071,46.65243476706182],[12.631625940132983,46.66183102423462],[12.604208601298641,46.65658164629696],[12.551821831941057,46.6592016818245],[12.51658024245422,46.67904994315625],[12.480465736997035,46.67770198216768],[12.476610281704172,46.68603860857928],[12.443591270390158,46.68885892151809],[12.427601018191798,46.699541651906166],[12.384616493797905,46.71679024595166],[12.36749824658057,46.74716796586505],[12.357989818873376,46.775431097099634],[12.309518102906122,46.78545457535949],[12.285407420174677,46.783165319008525],[12.292807792064421,46.80310315879473],[12.283477359540774,46.81540837675979],[12.3064550534329,46.83370938839],[12.290243224829153,46.85718765661918],[12.292403018780087,46.865668961217814],[12.275953836816319,46.87426177371216],[12.267235590098487,46.88770735147171],[12.236700642227936,46.889212513891465],[12.228404571915284,46.87910662841477],[12.211599701312783,46.8780889439135],[12.190892949631438,46.90659824637776],[12.160249444103174,46.90957476130014],[12.153125466805731,46.91740377635606],[12.168900331801739,46.93877223303666],[12.15820385625406,46.9513202342975],[12.138808698059078,46.95695960266577],[12.138344549776784,46.98342942521623],[12.13057734673174,46.98862425986296],[12.12517836150055,47.01231335038998],[12.147958404760887,47.025398308757374],[12.172019451766088,47.023524617703046],[12.205425238526889,47.02747342957992],[12.217211260601998,47.04556231114579],[12.217117734740581,47.059184269228524],[12.2413077362019,47.0696691922961],[12.262013037562971,47.07322140875678],[12.284347357622847,47.09305169352613],[12.309205452078082,47.093642493282985],[12.313713958074965,47.10342381640998],[12.346194507937303,47.10977199925601],[12.359268526058557,47.11729796791754],[12.363857456172411,47.14188976330796],[12.400109764448992,47.15330715375048],[12.413516440020938,47.14393188520044],[12.435224740489941,47.15099471080652],[12.466152733668684,47.14485684341726],[12.484119551631274,47.15834918723919],[12.52216481525686,47.15112368826818],[12.528536640961478,47.138146278861065],[12.553409755335721,47.128109537891675],[12.566984859954406,47.13652421216914],[12.592847941925221,47.12536941093126],[12.617204982590405,47.121965270901875],[12.640102920846877,47.10568305827087],[12.65745397307417,47.10000921350448],[12.701908498451656,47.071068580611545],[12.711139270753687,47.048918029984094],[12.735459889891844,47.04216002184202],[12.766556564846313,47.04491082791749],[12.738076270741395,47.00432586864086],[12.725259034839011,46.996264019621535],[12.741707034637624,46.96946262444202],[12.760195755530342,46.957083123434316],[12.77026867605,46.945253428270554],[12.787035542028026,46.940031615688454],[12.794301186939792,46.92694926273792],[12.809081266709512,46.92306590509986],[12.822457903988065,46.917282816401574],[12.837688794160522,46.912955017440304],[12.841788233961834,46.86143803590054],[12.887111065183525,46.84295851763285],[12.896233736030906,46.82625951182353],[12.906100465535685,46.82308241873304],[12.907751826000329,46.82312509676053],[12.964130115063137,46.799096280170424],[12.966424855580245,46.78814217906072],[12.932063228622303,46.7644869313064],[12.90001757068092,46.777294257683835],[12.877624087741452,46.76313641764412],[12.857469906345388,46.7606156930797],[12.84184899894473,46.74978166169015],[12.81436659577459,46.74940001895604],[12.81053552137355,46.75673020780315],[12.796437287251893,46.75578785946756],[12.748810713047153,46.74789735360012],[12.725564407874064,46.743892424702246],[12.71233012533157,46.73610222670111]]],[[[10.241980285294451,46.93217732894803],[10.227899641813437,46.890750436154725],[10.235128468544865,46.8852253704275],[10.232215847533027,46.86727121310299],[10.193956014262476,46.86698589107714],[10.168990705889817,46.851155623568275],[10.145238297465273,46.85154440908232],[10.141093069401869,46.875770287500515],[10.117562744641475,46.885875803279596],[10.098482025389323,46.92790298768985],[10.120952902444445,46.938453812219635],[10.135260228045352,46.955817856200156],[10.14501723827558,46.983936898935745],[10.160079518251028,46.98430100505883],[10.154681979449725,47.005942833950336],[10.131329666237974,47.01358341386765],[10.13482169360016,47.02990924032105],[10.157194869214969,47.049433034931056],[10.151151928447865,47.062388382268],[10.134888226018813,47.064449885950985],[10.133819068224204,47.078450940454225],[10.145164588038519,47.09750224697372],[10.18658508307389,47.12952926210631],[10.207074490221077,47.13146136259523],[10.20368781856436,47.143030699501075],[10.213285659938029,47.158150684308964],[10.211710316078646,47.17190166511134],[10.197135131369317,47.19493937945387],[10.21298205903946,47.2048495614091],[10.213032930370431,47.22488058664695],[10.19804032366062,47.237160867675584],[10.222345968575148,47.25415795243823],[10.174512866296665,47.26446019463785],[10.178645536465902,47.27069713351929],[10.201372926641138,47.276995770568966],[10.222743450867418,47.276419989116384],[10.259691938754488,47.28196020489655],[10.266288710510471,47.28865505761867],[10.281978772586614,47.28831695277041],[10.31545591270295,47.30711827925796],[10.33065744832827,47.30540029588602],[10.349121173422844,47.318092955882655],[10.357204125231444,47.33761060219697],[10.386804890678174,47.35718490116018],[10.397866386018235,47.377468770562636],[10.43710297734825,47.38095220101573],[10.429584061614435,47.39163181830139],[10.438888196973068,47.41413523565365],[10.456533430262736,47.41981089530308],[10.476091031441428,47.433941104646586],[10.47056288397036,47.44912655714745],[10.46410828436005,47.48334052195614],[10.440630713803497,47.4871321714318],[10.436071739417454,47.49596874916789],[10.431652068849283,47.504367657553],[10.454784740316963,47.55640439936932],[10.48926620896677,47.5410105861958],[10.498125945227343,47.53970871906523],[10.524892888428457,47.53577098798303],[10.563211142127875,47.5366620172033],[10.573731595810834,47.53461828716375],[10.580876331699924,47.55640360926453],[10.598325336185692,47.57034681895233],[10.635135003120435,47.55964664261184],[10.678389060117482,47.55683957470178],[10.694984788908458,47.54537995221052],[10.71859197985277,47.539029285535214],[10.74076778515145,47.539131028222776],[10.758912144358344,47.535096387035445],[10.764152619075006,47.520193523854246],[10.777903988538595,47.51451480811328],[10.813544320485656,47.52702382783532],[10.83893000446693,47.52603974293074],[10.853479388909038,47.53396985246694],[10.890757101490792,47.53788257981571],[10.906011266596712,47.5180584268021],[10.870541717765175,47.49827175467401],[10.871607205769115,47.48226669048898],[10.886938386756519,47.480751008143784],[10.912641296877736,47.485860646995725],[10.938890086395313,47.480559572501896],[10.932891523647697,47.46861854793737],[10.984026803957901,47.43059731647898],[10.972720404649525,47.418164219721255],[10.970940520849824,47.40065860428062],[10.991611389241365,47.39670544454503],[11.0167542557938,47.39684246018629],[11.016915960190385,47.396942667282126],[11.055795467927698,47.396539431679486],[11.115875484356785,47.39618258214456],[11.128464478106839,47.41277450416303],[11.158476229220959,47.422179427579366],[11.19942784460175,47.42844431083564],[11.205927770519644,47.43446577874034],[11.253858886540831,47.42880738143148],[11.222750281958714,47.39791652873831],[11.272980984456606,47.39854030142633],[11.290501038691925,47.407830785923565],[11.291466350103867,47.42763457002732],[11.318068285134714,47.43298861342505],[11.33903157850868,47.450482410122085],[11.403168868265846,47.4485777218796],[11.421901414815803,47.44542085366811],[11.409902256481793,47.46730204232505],[11.39042899288409,47.46752504221742],[11.389752612795546,47.48105002183417],[11.417096077317073,47.502862424246125],[11.442191013902988,47.51819447259966],[11.449805081029115,47.50780643545905],[11.488083079952817,47.50957693152529],[11.506146850040585,47.50529945744629],[11.572906336045786,47.51507816567545],[11.588603877017233,47.52602282412697],[11.587382438325307,47.55529345398479],[11.601158293489947,47.56843601122859],[11.606833248456798,47.582200898055675],[11.641471586973534,47.594103063271305],[11.658716174606214,47.584703005235085],[11.700687006938136,47.58954289933092],[11.74581028152095,47.58830393356416],[11.775597820347802,47.59098023991378],[11.829980165390227,47.5826967087124],[11.847900005158875,47.582879654056136],[11.855495271482187,47.60293279106216],[11.894838448795815,47.60902270896207],[12.013323046450049,47.62377412192691],[12.020188506696474,47.61252931897454],[12.064781594351222,47.619253654079756],[12.082923499055312,47.61031407421784],[12.115790016402888,47.612017508149265],[12.129597151207369,47.606216923703954],[12.150031861916291,47.60920679282319],[12.16955742532046,47.61487449259681],[12.17872636069677,47.601455193564554],[12.203592293003872,47.606998386276636],[12.208723546712168,47.614612654664974],[12.199006350197449,47.642710372726214],[12.187436709391607,47.6579028465887],[12.167900236194686,47.68295575427454],[12.163009939575945,47.701745819718006],[12.184063131885566,47.70106441314715],[12.227338542616009,47.718717975649426],[12.250306921230191,47.74213561334429],[12.265584277403327,47.733097239424495],[12.247523040431519,47.71153612765479],[12.243749205764606,47.692245798588196],[12.257777731453256,47.67967269232219],[12.278116815699429,47.6884637754708],[12.327734852169892,47.69594012802555],[12.34060577183242,47.690936631533766],[12.364232391199314,47.68441407004623],[12.429743925513383,47.69693505620811],[12.443620600124268,47.69241295665488],[12.441826884241449,47.67457523030462],[12.465744250133273,47.65029093932677],[12.49198014822265,47.63746068526389],[12.499803947629108,47.62565664235962],[12.525876733696249,47.63130774640288],[12.537000310408652,47.63702813409428],[12.575671173996357,47.63287248306274],[12.575169718579502,47.60554298174406],[12.64140092643676,47.59385746008402],[12.65419857029272,47.588577333129926],[12.667254000705457,47.57917454243514],[12.65264976663745,47.570291468444275],[12.642278227416412,47.55504836533369],[12.628812166063684,47.55009203074107],[12.654781132911396,47.537313628251376],[12.66577856852797,47.506608310620834],[12.700242570693662,47.478420972040745],[12.665881683918592,47.46533801302577],[12.645334360914383,47.4687230957063],[12.631593995725854,47.458935931197075],[12.63841011934598,47.449880463540474],[12.632932295917886,47.43262662016478],[12.625210119948115,47.42304578369214],[12.600446912224152,47.4123145053918],[12.579239110558524,47.39302595470468],[12.564064539248124,47.3996060801711],[12.545923383219147,47.39857129096823],[12.523421411252983,47.391163505741474],[12.506709801887519,47.39466054702915],[12.479584754081941,47.3687592659282],[12.498287065001747,47.34762215541372],[12.495824472606328,47.337934519244136],[12.47892794361953,47.32691804673216],[12.442477739583595,47.32913818060849],[12.410950650892074,47.31414014546518],[12.375184632032676,47.31183380366383],[12.335847195220238,47.32904595217747],[12.29709225105455,47.32861896847839],[12.26469680402087,47.302737958499804],[12.255274248068567,47.308492575787355],[12.23787459031698,47.30197876846341],[12.219555502585873,47.31166016632244],[12.208713292707953,47.30265461671045],[12.165190652009544,47.302070968153764],[12.144869364045602,47.28944403929807],[12.11510611639261,47.30697630226541],[12.079128713460088,47.2757098105495],[12.101334360455162,47.25869341172984],[12.11063890288777,47.240914107737495],[12.103197823610817,47.23701198405247],[12.083339038812811,47.19623913868105],[12.092446039173796,47.167828898122146],[12.093816076542643,47.1465666351483],[12.111218527367994,47.14016156715887],[12.115169922590994,47.122203084216125],[12.12839487270448,47.11018609126433],[12.125746216545485,47.09306657018742],[12.136563065537015,47.08117287622881],[12.119469340613506,47.07372953009371],[12.100389162300718,47.0787985388534],[12.077154858392774,47.06003516037689],[12.040405129464151,47.06086568982713],[12.020475238341728,47.047572324491135],[11.979651686320127,47.05050720828133],[11.916090137410873,47.033000081583275],[11.874554256575438,47.01058333656705],[11.845739604136458,47.002207654818804],[11.8374056663532,46.99391949782302],[11.816187980759828,46.99042495980944],[11.782273026910943,46.992965922779376],[11.76481966779182,46.973253225085976],[11.747511491644236,46.96937375225593],[11.728256335527325,46.97283156363662],[11.711939116687471,46.99373968300861],[11.689009726563677,46.99600783339614],[11.66487129311696,46.99244481043923],[11.635310293936143,47.00367630953714],[11.627675188138149,47.01381147429843],[11.590371019069972,47.00590740705047],[11.581982998068051,46.99788757244939],[11.538988578346366,46.9845920464538],[11.513226881346366,47.00511037656682],[11.47922227755506,47.01149476223324],[11.470306213052073,46.99573839287831],[11.45305672777064,46.99282769052719],[11.435326460860034,46.97460685418696],[11.401963288571936,46.96548911047263],[11.382686709454731,46.9710939939675],[11.359528769857267,46.99071530500912],[11.3403400791481,46.98559732723064],[11.320934047077396,46.99289022413572],[11.249707313919119,46.97469818954958],[11.242153455810783,46.970202792261674],[11.187257697577026,46.96999630650173],[11.164690689459643,46.96624245643064],[11.168525091453635,46.945558943574845],[11.139204811954924,46.92801818564959],[11.115795924779087,46.93200519054684],[11.10933068602422,46.91638607259023],[11.095275117043712,46.908439975708625],[11.10209988836441,46.8904009535611],[11.072278648164861,46.856511119649376],[11.083816711816244,46.823034895659276],[11.057391475013516,46.80862876668446],[11.039751230974153,46.80559384679806],[11.022356313239067,46.766407635614776],[10.996676797572173,46.76754260577238],[10.950918019938145,46.77543748701232],[10.918466048454182,46.775480640103936],[10.883307386795172,46.763350157356136],[10.868900110389038,46.76631982449819],[10.8410027596071,46.78230222062634],[10.814442779653968,46.775634101491846],[10.796274063665109,46.79182505870161],[10.755044511294736,46.78559345143237],[10.73042891089278,46.78895390566651],[10.726359463081936,46.797197726252506],[10.746317916065815,46.80523622016123],[10.764192634454355,46.82314322643978],[10.754853234172025,46.83367269188944],[10.722754882194446,46.83834021457958],[10.717131323919466,46.84754189234478],[10.693373972099304,46.85342456116286],[10.690755522130743,46.86816954781046],[10.667704887958017,46.876013835628775],[10.654169624852765,46.86731717211657],[10.624611924778893,46.864931096001854],[10.570828059279034,46.84292594415854],[10.552657966568367,46.85057542825691],[10.521317420850437,46.845941985172104],[10.46996267298997,46.855441237422134],[10.471575265229449,46.87349217034166],[10.465006260894977,46.88481176200086],[10.48653265298359,46.915994509626],[10.489666046811994,46.938326169306436],[10.457069352258852,46.95194671808583],[10.429887554587635,46.95652593763376],[10.427454470113748,46.97549443609529],[10.389623503508352,47.00107044307413],[10.36870110701773,46.991329118900325],[10.349278533031294,46.99115733402216],[10.32979704120233,46.96481874755466],[10.328126088581413,46.9545226728458],[10.309658609326211,46.95074821813034],[10.307928973913214,46.938640591692135],[10.317283517724988,46.926474189561546],[10.290193742014102,46.923435257940646],[10.241980285294451,46.93217732894803]]],[[[10.454784740316963,47.55640439936932],[10.4335823686779,47.570126062553065],[10.435295566773581,47.58423749428956],[10.462594483590516,47.58632080660947],[10.473692893937676,47.571750097842475],[10.454784740316963,47.55640439936932]]]]}},{\"type\":\"Feature\",\"properties\":{\"iso\":\"6\",\"name\":\"Steiermark\"},\"geometry\":{\"type\":\"Polygon\",\"coordinates\":[[[-180,-90],[-180,90],[180,90],[180,-90],[-180,-90]],[[14.07995175508011,47.022468173402885],[14.073121332291759,47.013099586957885],[14.049786957156686,47.00442833919455],[14.027291972052314,47.00716331524728],[14.015190926013304,47.00253850638903],[14.017229578221421,46.98950806846118],[14.010104357912198,46.97406613430193],[13.993310760137609,46.966553534949746],[13.969360609771583,46.96349357210858],[13.968949867233247,46.96348280803285],[13.968538309836061,46.963662705023765],[13.955708907995142,46.95674770933982],[13.947507687248372,46.941063158253144],[13.93521090591686,46.946050513671636],[13.912002205340182,46.93342637210399],[13.901038160307355,46.934107971912795],[13.882643224723962,46.918247886319385],[13.856883756163148,46.91773715006538],[13.848967970564987,46.909708961881556],[13.816122795820238,46.918944925040236],[13.785429956062647,46.94429481523506],[13.801926313338557,46.9515732267686],[13.832586143618208,46.96588741675482],[13.845736683529196,46.98949488869677],[13.86543482293839,46.996633591419254],[13.864524532800607,47.02003599569461],[13.906940916465537,47.071046874626354],[13.906809642434151,47.07108804618045],[13.879341138487497,47.100200419348184],[13.879204359999928,47.10081918849729],[13.879695833393724,47.1010115025522],[13.893230834343731,47.11471134815169],[13.944567920682557,47.13702331456309],[13.954714923298592,47.125760870973735],[13.988621040645056,47.12755590298655],[13.993706352989351,47.14269611848338],[13.963097717926296,47.15774143850479],[13.963012447954492,47.157925007907316],[13.962880186881707,47.15806109117247],[13.962721603127395,47.15811243095302],[13.943547551438872,47.16685354493523],[13.920470555133257,47.17221247773791],[13.897266900362307,47.187279009756885],[13.897404562343882,47.187581649621606],[13.897338641709347,47.18761101036128],[13.89702880128733,47.187711265358416],[13.865537945400298,47.220403754696314],[13.85090964242925,47.23011358585622],[13.869234110805834,47.242904241214916],[13.86497429614836,47.25264121720441],[13.824408978168938,47.26748574395234],[13.826133245704607,47.293680362447944],[13.805323514142584,47.293189737310065],[13.78471466144228,47.275725164612666],[13.761420728666591,47.266747734768266],[13.752131876321478,47.276495873168784],[13.720481628800998,47.27626402235923],[13.712637994644696,47.259979708655045],[13.696593391016176,47.26056487396344],[13.696382619592985,47.26555090885081],[13.654424148110406,47.27702790025776],[13.631903267015689,47.27471121358447],[13.608348897975546,47.28404782593422],[13.598459281840173,47.29409972906839],[13.604298441617575,47.330176404660676],[13.582508889411763,47.38286203895957],[13.57306408464016,47.39359936234706],[13.565318583402352,47.41718973057866],[13.565432474261243,47.4176703022323],[13.564894484649722,47.4185699882216],[13.593441625432567,47.46155748983778],[13.58643460518265,47.47530669240729],[13.606457798581054,47.47569432788716],[13.60952358993131,47.475643500784486],[13.627130645354228,47.46796696682165],[13.668442288753072,47.46319994029522],[13.723349850747946,47.46261300868679],[13.719202960248918,47.47119370242574],[13.718057239028633,47.474178710708685],[13.72198802603445,47.48316089154389],[13.723525447195547,47.485353432719],[13.728080576019494,47.4893613159391],[13.731497960586651,47.49206213229628],[13.737698623506096,47.49600878845934],[13.739831699315966,47.49706786900644],[13.749939780673508,47.502130413530246],[13.761468343661337,47.52080646660642],[13.747019627280881,47.54331312621415],[13.75673166042166,47.55324076910114],[13.736257558962429,47.57753707119247],[13.695386003669368,47.579788508969735],[13.699304230072531,47.60256985294222],[13.694855210566404,47.62373265847468],[13.708656979051755,47.65697959312436],[13.707306343623786,47.66491161046893],[13.737788782944994,47.67463191499944],[13.757621275365063,47.7013177222326],[13.778469559322653,47.718855464168996],[13.793829984048736,47.71296748670543],[13.841036098879353,47.71926144413417],[13.861138634495047,47.72774375906014],[13.896747229395052,47.718005880161456],[13.92081228227291,47.705629593831105],[13.952538634224577,47.71017744132775],[13.984211591060614,47.69778283305983],[14.011443723485487,47.70141210052122],[14.02068203026115,47.691331947470566],[14.056276961668358,47.668402560397155],[14.049585353070214,47.637433635069286],[14.051621972220863,47.617665896598645],[14.09397279775532,47.62004668301488],[14.146470255359203,47.637541872008285],[14.17845000404205,47.63845605519901],[14.20666130571076,47.65304624864519],[14.233426356458017,47.65113700471098],[14.2239677356011,47.64265234518986],[14.23543603938687,47.62843178409581],[14.265285012529146,47.61097492007717],[14.282830845022065,47.61502399659609],[14.297356904842294,47.60838855961336],[14.327278040177621,47.608053358296914],[14.338644891275344,47.61950817295423],[14.362217112276326,47.62963119094089],[14.392425738220743,47.636439177631914],[14.398364821556784,47.65315467806017],[14.421750658643285,47.65707740152773],[14.44513459123595,47.65591433582141],[14.450235959617695,47.66429724760942],[14.489475888040413,47.682544991382265],[14.518106779677245,47.68234775055645],[14.528528809248565,47.69578050180005],[14.522086806658399,47.70450868367179],[14.551628887336577,47.71962742888747],[14.586942803497031,47.71872300012681],[14.614927555842169,47.7309722431711],[14.64719231910817,47.72595944262536],[14.653187793915182,47.73889317165377],[14.67207858588412,47.74202078409811],[14.696101815648682,47.76563186599045],[14.73941005315781,47.74922605433828],[14.767999140307422,47.72680832604045],[14.819269579383509,47.74470289287024],[14.840936543456952,47.734455560941356],[14.859023679322252,47.7409887172898],[14.877529190807502,47.72654369179427],[14.877607556136835,47.71652896461313],[14.902180082147158,47.71132016828422],[14.928728181599809,47.71113159797813],[14.952018804257285,47.732092382257235],[15.035706064504046,47.75323314290026],[15.056869542551116,47.741370763088156],[15.090243839242723,47.74196041885176],[15.1325735560132,47.748283578875856],[15.135838608061315,47.75848987933565],[15.184314855652772,47.757217094151144],[15.200388859733573,47.75391428634363],[15.211421487478264,47.76361179208629],[15.209161991496238,47.78830676146667],[15.218322314512127,47.79651947522193],[15.23531156918668,47.79929240006719],[15.254603622630391,47.79325050939743],[15.289897333644769,47.791667001937874],[15.300863665722469,47.821535839809684],[15.346243276703072,47.82616515945846],[15.346925043182031,47.826249186043896],[15.380361838950487,47.8241269698417],[15.40563383399547,47.81120321180778],[15.41299205113014,47.78486173763551],[15.434315348991026,47.792019918967945],[15.450946643550024,47.77414311613647],[15.462008553572252,47.77022728271672],[15.507665215871338,47.768276114722354],[15.510935806320322,47.752475389300145],[15.529378899268014,47.74638588258931],[15.552193627802666,47.750003123732654],[15.612778635840087,47.75155994650623],[15.636811423061399,47.71602129895097],[15.652620461834179,47.71810279775747],[15.671313837405439,47.71046755706222],[15.679803235298994,47.699460426682116],[15.69776121399367,47.71336604484472],[15.72022415864135,47.710348509700275],[15.715309746182747,47.698474341959916],[15.729759851658388,47.66463793084631],[15.726176869167379,47.64691254106756],[15.743385204563618,47.642665282292974],[15.750835914671242,47.632667126598214],[15.782412071172095,47.64275498401481],[15.80834704143025,47.635639683389456],[15.822866942434942,47.63840826641071],[15.841385820781568,47.61855100951688],[15.861656754855177,47.61712638773246],[15.845607258050215,47.5867540841157],[15.848095257531307,47.568233165037],[15.889001676065229,47.571663228545006],[15.906504791280582,47.5602465613467],[15.905134135518432,47.542889737734825],[15.914952170030258,47.53086429113109],[15.92159382910158,47.53045538072957],[15.959617616571604,47.518288565732355],[16.0011737999035,47.516271778822365],[16.027415407399957,47.5131133728728],[16.04796887461051,47.491591093623796],[16.066196781158446,47.486763197708626],[16.066292688998367,47.50232744640029],[16.08851086703062,47.5075859254692],[16.098898449606143,47.524509340345666],[16.110455486284074,47.52539764487436],[16.119961352070128,47.51076379059004],[16.11405034426309,47.49754439335263],[16.129276490473146,47.468569583327245],[16.139091177716853,47.46185877434416],[16.13301441035194,47.453855145806486],[16.145163084274714,47.43839302254559],[16.172886654147526,47.422815558741206],[16.166156359074826,47.42116327177202],[16.14280344200388,47.4179271354864],[16.11725178382822,47.414287844703225],[16.11717091242029,47.414448147583876],[16.117119297725143,47.414550435795896],[16.10234051729095,47.41519088750307],[16.108451212408212,47.39711507731017],[16.094078827093952,47.39055322844561],[16.0852164211781,47.40957328984144],[16.073083299470554,47.4043525450399],[16.06151868444872,47.384654579231224],[16.059853481707254,47.38422251850425],[16.031207824176057,47.37970597478303],[16.03513771155023,47.372609388581374],[16.031311541646083,47.37181756540317],[16.03559880144527,47.35602079569435],[16.035391810516092,47.347097944812226],[16.052128652966093,47.333875428865205],[16.060613373182843,47.31509876067745],[16.05954515117926,47.31052991304728],[16.06663247879929,47.284844798131545],[16.075824654328652,47.27508898326515],[16.077360781534356,47.272029102490826],[16.08734952805274,47.24815749706783],[16.0876095236132,47.23394446775257],[16.087034086344694,47.21630786423931],[16.09389190372797,47.200303310663514],[16.092587242563717,47.19885575126069],[16.1036729064834,47.18404808769572],[16.110376439903597,47.16717422393531],[16.116113224442298,47.13357524446511],[16.09587721655735,47.11258253922575],[16.087658233709114,47.08821475263853],[16.08874406362652,47.07317300873451],[16.099443915616142,47.06144298135763],[16.1215777640071,47.04223512118739],[16.131808854757168,47.01249545389773],[16.1466782318192,47.00017165604247],[16.155612859502217,46.99118038671128],[16.122797706919112,46.991033625037204],[16.10882514795755,46.96569165715076],[16.09647318748098,46.95439740236769],[16.095863216016685,46.934706154572254],[16.074125998861334,46.93608590702433],[16.055112530211147,46.91073541274529],[16.038963002660505,46.904962390757994],[16.03645815371421,46.89322253865726],[16.024484607831496,46.888287130351735],[16.010637951627473,46.877444932376065],[16.003733506370054,46.84724756473163],[15.997286839811482,46.83575189334536],[15.987262400261596,46.82698800479157],[15.998572835598079,46.81177695147199],[15.994086224735922,46.80468548794545],[15.985808786699506,46.75242212175702],[15.994909350569658,46.73094737027155],[16.02850540378197,46.70552188118993],[16.043531627230262,46.68587551602577],[16.03914470516575,46.65646806648347],[16.009694428871857,46.66684975345508],[16.002813696016858,46.678771038506824],[15.984683704371768,46.684943388189204],[15.94809862723393,46.68940420519675],[15.921434246571208,46.706338770412806],[15.878182340080068,46.72001462024167],[15.831492674193887,46.7219988263202],[15.804878346802797,46.71638872960096],[15.769974266346846,46.699403867727916],[15.753452296543822,46.698314604491365],[15.725111502802905,46.69623039867571],[15.695124262321022,46.6996790619831],[15.674937467327121,46.70734384378073],[15.6509834865388,46.706106815908505],[15.654981894019475,46.6931205790406],[15.63418311116206,46.681982253102426],[15.615537122667375,46.68251766838437],[15.595953772357266,46.69030156241549],[15.571136759594422,46.68125972769756],[15.547259020768982,46.670502818048625],[15.553998095814935,46.6533667435734],[15.54452477537326,46.6325592034832],[15.532497525565722,46.63115149775681],[15.512796708831035,46.61694717790046],[15.489148566217827,46.62103556935881],[15.464884006129429,46.61493241486585],[15.456045037518427,46.63046429827525],[15.415051452134898,46.655891081643006],[15.383852702594728,46.651976349238936],[15.32161825782718,46.64823710741098],[15.30894205192583,46.6527929285909],[15.2777640275306,46.64392349974317],[15.236850489510207,46.63974157786863],[15.198299306664547,46.64609252394567],[15.18358787520382,46.65638130567122],[15.167643841461945,46.65453287773537],[15.146233103570236,46.66016442793277],[15.125690892368258,46.65435286736521],[15.111563203232347,46.66002596929453],[15.083324497777186,46.6455041061616],[15.066026866155596,46.652413678660864],[15.050200628657269,46.66752685045126],[15.03553985456731,46.666247744571606],[15.03127210295496,46.680966106782996],[15.035452451461474,46.70620539603287],[15.04319487207487,46.72124982171925],[15.032466153019449,46.7460900152983],[15.031711115506777,46.769258774912096],[14.997585924517661,46.78120655629604],[14.977176128181322,46.78516609372807],[14.98278407892554,46.80631986731562],[14.996365244743608,46.82786212536294],[15.013014228794686,46.83298568010733],[15.020553298215097,46.84464167913086],[15.010932372565268,46.85490792600899],[15.00914664683249,46.88025588250889],[15.015835016587198,46.88163179205608],[15.027933551040734,46.910129398885935],[15.018052314932397,46.92307447607448],[14.993629819400251,46.938748042880995],[14.967872797883636,46.98217130876799],[14.950250267336468,46.99340160862021],[14.904908887786597,47.000707982012614],[14.886455410445981,47.01158241607712],[14.874152848680048,47.022937090612494],[14.847889066919606,47.033354163880254],[14.845388056817908,47.048516045243],[14.831452117088059,47.04998795493086],[14.808574801801056,47.03936751757547],[14.768062839526971,47.03891556947538],[14.717567312023563,47.0188200861171],[14.666889885420021,47.0187656311001],[14.628630271459997,47.01399570488198],[14.616143341682346,46.99836701130421],[14.593644751072551,47.00205248394778],[14.586800959408897,47.012136994541535],[14.528041105242723,47.00961778586715],[14.504041844907341,47.01943963772672],[14.505811721126168,47.026254310354275],[14.505888960430317,47.02660506528861],[14.505830654414218,47.026819577808446],[14.478809311547007,47.019823774921285],[14.472712246695759,47.00813448509732],[14.457543111052024,46.99636083759145],[14.431052526978942,47.00090334442819],[14.386753782041158,46.98041966721084],[14.378287353615326,46.99257061911524],[14.38349550536328,47.013213402123995],[14.36429009883292,47.025727661863016],[14.331042737694533,47.02956907438043],[14.262418831747295,47.027364921850214],[14.238527237746181,47.02878700007176],[14.235859426927489,47.0262549850907],[14.225283903545723,47.035907493499664],[14.217307658667586,47.06210725331998],[14.205244519886653,47.07635141837021],[14.175166881769977,47.06269184292928],[14.16352323552446,47.05305614308089],[14.163369136070493,47.0529069819479],[14.163322056111738,47.05286196871287],[14.163153015362708,47.052863654439726],[14.163005901504894,47.052866698998734],[14.160865314918068,47.05339268367749],[14.133380257416142,47.06278356050138],[14.12656393247146,47.045789178330494],[14.102620643088603,47.03854903871134],[14.07995175508011,47.022468173402885]]]}},{\"type\":\"Feature\",\"properties\":{\"iso\":\"1\",\"name\":\"Burgenland\"},\"geometry\":{\"type\":\"Polygon\",\"coordinates\":[[[-180,-90],[-180,90],[180,90],[180,-90],[-180,-90]],[[16.06678069176434,46.85024713809595],[16.06003782636864,46.83934628626895],[16.0291732980365,46.8412558362254],[16.00873950573942,46.831021055471815],[15.997286839811482,46.83575189334536],[16.003733506370054,46.84724756473163],[16.010637951627473,46.877444932376065],[16.024484607831496,46.888287130351735],[16.03645815371421,46.89322253865726],[16.038963002660505,46.904962390757994],[16.055112530211147,46.91073541274529],[16.074125998861334,46.93608590702433],[16.095863216016685,46.934706154572254],[16.09647318748098,46.95439740236769],[16.10882514795755,46.96569165715076],[16.122797706919112,46.991033625037204],[16.155612859502217,46.99118038671128],[16.1466782318192,47.00017165604247],[16.131808854757168,47.01249545389773],[16.1215777640071,47.04223512118739],[16.099443915616142,47.06144298135763],[16.08874406362652,47.07317300873451],[16.087658233709114,47.08821475263853],[16.09587721655735,47.11258253922575],[16.116113224442298,47.13357524446511],[16.110376439903597,47.16717422393531],[16.1036729064834,47.18404808769572],[16.092587242563717,47.19885575126069],[16.09389190372797,47.200303310663514],[16.087034086344694,47.21630786423931],[16.0876095236132,47.23394446775257],[16.08734952805274,47.24815749706783],[16.077360781534356,47.272029102490826],[16.075824654328652,47.27508898326515],[16.06663247879929,47.284844798131545],[16.05954515117926,47.31052991304728],[16.060613373182843,47.31509876067745],[16.052128652966093,47.333875428865205],[16.035391810516092,47.347097944812226],[16.03559880144527,47.35602079569435],[16.031311541646083,47.37181756540317],[16.03513771155023,47.372609388581374],[16.031207824176057,47.37970597478303],[16.059853481707254,47.38422251850425],[16.06151868444872,47.384654579231224],[16.073083299470554,47.4043525450399],[16.0852164211781,47.40957328984144],[16.094078827093952,47.39055322844561],[16.108451212408212,47.39711507731017],[16.10234051729095,47.41519088750307],[16.117119297725143,47.414550435795896],[16.11717091242029,47.414448147583876],[16.11725178382822,47.414287844703225],[16.14280344200388,47.4179271354864],[16.166156359074826,47.42116327177202],[16.172886654147526,47.422815558741206],[16.20813918565573,47.425061662269506],[16.22425090390262,47.427546130534274],[16.254293485122595,47.44850965393688],[16.282215386075524,47.45554843810961],[16.30396688001069,47.46772520135104],[16.321962375015627,47.494129762521254],[16.340833658062486,47.516596893355015],[16.317361386201334,47.54275631104358],[16.314868350429926,47.54313706901066],[16.314308548351796,47.56577283985603],[16.33214677129723,47.58995902128921],[16.345513822736986,47.60323045272716],[16.349125714070194,47.61661015714837],[16.369583532164913,47.62141155680775],[16.373663039060315,47.64292015292044],[16.352902123695365,47.672246483013105],[16.357854029490802,47.67996976703736],[16.32492060617306,47.683765068682256],[16.310194767394016,47.68761613714829],[16.310270995806697,47.69585463338358],[16.296207172109245,47.71575745872823],[16.296792916501126,47.74273567084454],[16.30050171372142,47.76163540806019],[16.29954764188464,47.762180748796006],[16.30493897280584,47.784748313319675],[16.26990582983384,47.79153141325888],[16.287054333094485,47.81191497091851],[16.310152281234046,47.807765146877],[16.308647276171214,47.791262582064405],[16.316783876087396,47.78504548648747],[16.332767934340925,47.80094462332806],[16.34987683583584,47.80623644161276],[16.355927486776668,47.821168011549574],[16.363528014773575,47.82371082539523],[16.378363345157684,47.82777632553025],[16.38919834758694,47.84301955910204],[16.37568267098629,47.85294565849879],[16.349159710733165,47.86860779740351],[16.38378533354836,47.876745671240194],[16.390073086402186,47.88206274966688],[16.40148118036171,47.87643318363829],[16.42399235797815,47.902390028815525],[16.420395365126154,47.913397704203334],[16.45355117337773,47.93472934538395],[16.488114495800545,47.94308583087194],[16.519880338912994,47.94403446695838],[16.54224643325957,47.920135326869],[16.575216093039387,47.88673001222014],[16.58149039670041,47.889066223260116],[16.598523268949155,47.90434950282414],[16.609565164518067,47.912812631723035],[16.633298143923398,47.933867149314686],[16.633108301744457,47.934252798709586],[16.6410092269411,47.94640273171334],[16.666418064279704,47.957530936910004],[16.70094294098219,47.967436298737745],[16.702415028077258,47.97426803846587],[16.703333749597615,48.01211800144924],[16.735352569587675,48.010083140689],[16.76164641758894,48.01437369850825],[16.806653943755222,48.02900287144093],[16.826473741745573,48.02961310632213],[16.82941392948715,48.02962208085997],[16.830830255580732,48.04092177473804],[16.848891451511687,48.05716249227312],[16.87559081145808,48.072628477029504],[16.905543820823528,48.07148113884961],[16.91647862810002,48.05716935601403],[16.92085548395941,48.05147571560489],[16.95087328281823,48.04770962787613],[16.976292679906894,48.03595110794452],[16.970253194865474,48.02666016297122],[16.987902994669824,48.02955639773197],[16.995013966576437,48.04592442782684],[17.017576057228673,48.07398297729012],[17.000042295851486,48.084593508597116],[16.97236095072529,48.10103891283572],[16.987826064315257,48.111876858361576],[16.99913952231395,48.10955362306615],[17.00842227895234,48.09192678271507],[17.03728010739384,48.0847651365395],[17.042696737471054,48.10213221558601],[17.065211620546183,48.11028963500357],[17.06803248727749,48.11914731837325],[17.094000580533788,48.1001085124411],[17.0777204655701,48.08666872545074],[17.07144926976008,48.057470452820844],[17.089074987189413,48.04614086129679],[17.076911746284914,48.02800539864876],[17.091144325780544,48.020246711275156],[17.111343866309962,48.03168689693723],[17.12801511152158,48.02138778652731],[17.145130092897016,48.02065259038626],[17.161935298926956,48.006984757103126],[17.09594500679954,47.97131918360375],[17.118271003007614,47.96134913030367],[17.09218207645644,47.93484114558297],[17.113969847424627,47.9278015017433],[17.096879129981062,47.90473704711519],[17.10544828944552,47.89969921729653],[17.086458274483878,47.874880809147186],[17.07907325714137,47.87798429986375],[17.038403102030173,47.86836524216686],[17.01902100919858,47.868847191495085],[17.01121375335866,47.85879077699617],[17.05281308850614,47.83834360845373],[17.048179489425237,47.82878440880883],[17.07306981925714,47.80864334270468],[17.05222568437135,47.794416188326316],[17.06508695661124,47.77820318448944],[17.072025647950188,47.75037818291143],[17.071681466550487,47.728380502019796],[17.09433925479381,47.70866603875252],[17.072526127422968,47.70706941868255],[17.041396935488848,47.70474151149817],[16.960573826791123,47.69312987818647],[16.913777162266438,47.68810823485625],[16.872863905813308,47.69052798930682],[16.868137249774875,47.72206992801939],[16.84029237851389,47.70500617186971],[16.829552867264493,47.68315865285974],[16.750241869063135,47.68185555760813],[16.74101208962192,47.69567894470131],[16.722725154256636,47.72304332129196],[16.7221569160982,47.73576783849795],[16.658384733517398,47.74199710428662],[16.640918851284688,47.74871582149731],[16.635468660467073,47.759492004113454],[16.623335173485064,47.757680499522294],[16.592148846897434,47.75840243084999],[16.549168867137585,47.75198828329202],[16.543910520056393,47.74279284527235],[16.538758100379358,47.74043621561813],[16.537649482786783,47.73707914119801],[16.55341979245353,47.722958233385654],[16.541637538601265,47.71227701484875],[16.52180252957451,47.71270366930898],[16.49894868797167,47.703851355779726],[16.46114697326414,47.684562237711425],[16.44850268692868,47.696747147926565],[16.444074970112155,47.67420799814852],[16.42271198586272,47.66573361554902],[16.42301537492363,47.66513970052214],[16.451393132080977,47.656232152429716],[16.480334094025935,47.65054335702443],[16.4990040403102,47.639781293504186],[16.517584945012214,47.6458053545153],[16.549992126437314,47.634014802338534],[16.57371316767822,47.62027902923937],[16.591444446847145,47.61788837224751],[16.636189716631165,47.62825857350076],[16.654126220574422,47.622659750775604],[16.67644241483089,47.582488243354874],[16.664341921175087,47.56911880889016],[16.685199735679284,47.5617269023172],[16.69936469822923,47.5460533902057],[16.706796603794682,47.52359980315816],[16.69100246493778,47.51082742345552],[16.653529789907807,47.500738966878146],[16.671674317225754,47.47466011984029],[16.663209980679326,47.45610377625543],[16.62801897414893,47.44204964733458],[16.6129825693761,47.43203196518743],[16.589065967795868,47.423176722198],[16.576918684357114,47.40676173629912],[16.54746180821354,47.406006623486945],[16.519942378888516,47.41033416620982],[16.511130808771714,47.396930871731804],[16.459847255047393,47.41339250103533],[16.446575179767148,47.40713585765219],[16.456375761141643,47.38745618171882],[16.458147893172622,47.367632865886044],[16.434908846373197,47.35331699830962],[16.448838892373303,47.34040146902307],[16.46416260459413,47.33620499840744],[16.490575070855193,47.28067308296332],[16.479297407195627,47.27549179439725],[16.479571119947135,47.26334133503326],[16.431617049479534,47.250740938579185],[16.443893311996078,47.234127568844784],[16.436142585994318,47.21576919103619],[16.41803180478484,47.20572153196821],[16.422232006449335,47.197505643619344],[16.42933551533078,47.18541785738963],[16.451879526304605,47.188671338568774],[16.46537094463205,47.168560300859134],[16.450199494100183,47.1522542678979],[16.45543370779369,47.14268302004034],[16.49160773944707,47.149237547656206],[16.51791749007282,47.14970563810147],[16.530473533131605,47.12761187629998],[16.50101280302869,47.123784312475884],[16.501856024374128,47.11057732235714],[16.465745084773026,47.099319653567676],[16.471976132286557,47.07856958587746],[16.48842011061926,47.06920438586258],[16.521614028479064,47.061905773780346],[16.50768255564679,47.04999676907091],[16.476981578161077,47.04719941284805],[16.45237224704499,47.040448531788385],[16.493657903751792,47.01052417472789],[16.498059533779365,46.99856202179637],[16.42858959695912,46.99349389789891],[16.4137328269122,47.0050969527004],[16.38763991943254,47.00078325393528],[16.350950374479392,47.01076324370864],[16.344047026571417,46.99945511015585],[16.32357551449482,47.002926097638245],[16.30337559930985,46.99879614139104],[16.29984675679729,47.00643749860794],[16.290401726547195,47.013786365579975],[16.278167928079867,46.98812665642441],[16.27751330178366,46.96303194957487],[16.256417448272256,46.96456842287729],[16.247636060681195,46.94989849653995],[16.225180448868265,46.940585767188104],[16.21111924665356,46.94285806746564],[16.198629397307233,46.94031610445278],[16.180304439715954,46.90699779466032],[16.149788280130494,46.89341480765628],[16.13391073720751,46.87590356188067],[16.092997072027956,46.8649338694791],[16.06678069176434,46.85024713809595]]]}},{\"type\":\"Feature\",\"properties\":{\"iso\":\"3\",\"name\":\"Nieder\\u00f6sterreich\"},\"geometry\":{\"type\":\"Polygon\",\"coordinates\":[[[-180,-90],[-180,90],[180,90],[180,-90],[-180,-90]],[[14.859023679322252,47.7409887172898],[14.840936543456952,47.734455560941356],[14.819269579383509,47.74470289287024],[14.767999140307422,47.72680832604045],[14.73941005315781,47.74922605433828],[14.736870687936824,47.75941647566353],[14.719338953449402,47.7762541323648],[14.71282388866229,47.790593876536974],[14.732408062547798,47.799614595586],[14.71405583462424,47.81396770889996],[14.711111676729239,47.823894777097955],[14.723745270979276,47.83270432549689],[14.710944725517333,47.851156452345236],[14.735787638691619,47.86407815210144],[14.763701002361893,47.872755485397825],[14.770512472985631,47.88013032570069],[14.772909658327675,47.883535304763846],[14.744434403895152,47.91798169387795],[14.730122129606695,47.924881191059974],[14.704712595954096,47.92612196962043],[14.67156135721668,47.9352654799033],[14.650014712778617,47.942672396118574],[14.61716210344324,47.94862915023496],[14.587430121919196,47.966967054520275],[14.556069266219266,47.980396427392726],[14.532905306714364,47.99045792275939],[14.494094797932878,47.998575123780654],[14.493029427438513,48.01139393724137],[14.457053490765055,48.043583024288864],[14.459781254769144,48.0745610655232],[14.45884386138352,48.089240084575195],[14.479981176313673,48.104966832319896],[14.49389428913237,48.110518873200974],[14.468606428772844,48.12305447127659],[14.47814716570341,48.1333197826741],[14.468852302186878,48.14815240152816],[14.48378353961489,48.17211995981522],[14.48306000462588,48.17905645349892],[14.481896255476263,48.202486798133606],[14.490542924226713,48.22243831966222],[14.516499149962847,48.234626215560816],[14.522132481880618,48.23817595459479],[14.561823429345107,48.231550653279065],[14.592418350473913,48.2186920886637],[14.612441211680398,48.19631042542675],[14.624220122940233,48.19124240435371],[14.644596762205955,48.175797932834875],[14.689341081657787,48.157842363591016],[14.706108292888453,48.163108765397396],[14.716262127184088,48.17922231714081],[14.740290996048547,48.17267042780217],[14.762575617971853,48.178129269618665],[14.76999073359129,48.17966547701552],[14.841299518230482,48.194285950254766],[14.857647289249964,48.2118790838581],[14.862034389001293,48.22759235752868],[14.886672858998764,48.23331340585649],[14.916367240931041,48.23341980554123],[14.94545350829885,48.227828609959246],[14.963455418254389,48.2029294757642],[14.975168842336695,48.19938089723151],[14.964959677962709,48.21546584731094],[14.953177334199474,48.2196821319115],[14.973991654256002,48.23412855248663],[14.970980298747003,48.246307500079254],[14.993064821745358,48.256481541981714],[14.98610631748662,48.2996683525936],[14.987472032851425,48.31986820106699],[14.961276585651447,48.32600702599241],[14.944707930199018,48.324208641191426],[14.948500091153504,48.333932701233394],[14.953257592412763,48.35736421106776],[14.965473444224912,48.37908036597974],[14.95740686118546,48.391872589945],[14.937347883346334,48.39574046175733],[14.948526911209726,48.408275729655884],[14.929222197081275,48.42437900230321],[14.912746152576975,48.43525708462906],[14.899304726976974,48.45118796733097],[14.881094512179585,48.45416920340863],[14.878035803653248,48.464960439844255],[14.869153630242094,48.480598908475066],[14.89076823600783,48.487186262239256],[14.893294939416279,48.49954977414131],[14.921985430272743,48.5063099948914],[14.897213901549714,48.5238289122768],[14.87611814289651,48.52833018192561],[14.850621770741922,48.530508811371654],[14.836429426296265,48.54613640733101],[14.812165790802133,48.55435262715039],[14.783847821000045,48.56087783606439],[14.770268116906225,48.55714598188366],[14.750652287987648,48.563309497922724],[14.737306483179042,48.55338172656353],[14.712854848966414,48.57930051866391],[14.692011720285441,48.58490113429138],[14.701113985159084,48.583471678533265],[14.722149966098323,48.60298077321272],[14.7151077594782,48.6180518032803],[14.723133394632576,48.63898904615571],[14.71336499165235,48.650707967644244],[14.724472669777027,48.676311334541175],[14.741815895762352,48.70192916499351],[14.773568972612704,48.711730224917325],[14.79572544973719,48.730598494131506],[14.809168671399942,48.7344960035378],[14.80153008598803,48.748002845328614],[14.81253877144841,48.76206627028554],[14.809341910408708,48.77806502815088],[14.830326104712212,48.781107399605155],[14.852181878817733,48.777923113547935],[14.882342884584142,48.78072445072909],[14.88579621158547,48.77250882359555],[14.921546708507114,48.76919253669105],[14.956848398654753,48.75869709834889],[14.964795140959493,48.76376439470882],[14.981895666564009,48.77589765085459],[14.957616229271155,48.788415784070345],[14.958468299942695,48.812305718133075],[14.970802285247165,48.824523199584995],[14.974007616757278,48.875277516000395],[14.984893894656919,48.87536956067583],[14.988924233424953,48.89587550536328],[14.992592733195952,48.897924952233524],[14.987597579730613,48.93655400220849],[14.977567120092008,48.95645929324838],[14.977271983675026,48.97164033989466],[14.985600585735702,48.9872216355702],[14.998904214500996,48.992596779069814],[15.005353467126579,49.01305547084106],[15.022812992417688,49.02110710691864],[15.042099228908315,49.012164319670404],[15.065409577296363,49.01276819604817],[15.065521786415976,49.00037068614388],[15.106734087871311,48.99684216774394],[15.143867901933335,48.99767123230946],[15.159737601373857,48.99054325140897],[15.170831698103676,48.96339393463003],[15.161342075064766,48.94231476511446],[15.225553479801226,48.96076770228801],[15.26255855812254,48.95454931199707],[15.29214555403229,48.98494114769057],[15.322854461001402,48.97675057531134],[15.333353274745471,48.98544725395712],[15.368101804381181,48.98250295977616],[15.394793055648634,48.96582759408947],[15.430661432548153,48.951809598273464],[15.467505287386542,48.95211132255196],[15.50315020303098,48.93658437392267],[15.514528878083652,48.91473021624013],[15.588244408726771,48.89659503797938],[15.62074731263813,48.89621194167688],[15.631471409917879,48.885628839319075],[15.653838173927074,48.88344505351575],[15.693735901258304,48.85612138677834],[15.714647993984212,48.85867165446341],[15.754813010766114,48.85277135409975],[15.78070179590686,48.8754803296086],[15.853171457058004,48.86879097250943],[15.84601101593245,48.859414115410345],[15.880920920912649,48.84851116662518],[15.89775673460313,48.84954295887213],[15.9081605680674,48.836116017351785],[15.936575419927642,48.81952235497927],[15.950817482834143,48.805834672729176],[15.97125874420456,48.79590069494309],[15.995558011186203,48.77991524156204],[16.054037065303667,48.76159626809876],[16.065873871173352,48.75542319950877],[16.090194867501193,48.74839542362075],[16.104099817585876,48.74596959032739],[16.151102353475807,48.743764646460775],[16.155935324730567,48.74902031157777],[16.224719505726494,48.74066613312777],[16.264285845676387,48.737574827656054],[16.274250728184093,48.7418435287689],[16.311593755333266,48.73440528567529],[16.361010096873777,48.72862949553071],[16.3953442757135,48.73698921860521],[16.410757682622602,48.74491264824503],[16.429479266979293,48.76321141135099],[16.436255150512487,48.766193608904615],[16.436491855716394,48.77714519177536],[16.463156068412154,48.80520712708679],[16.524702802914742,48.80033467107963],[16.5353248665462,48.811392841249756],[16.542000845265964,48.81485480531413],[16.566004597313487,48.79446536015221],[16.59451149500001,48.78335314211265],[16.631879025195087,48.780989960875246],[16.652705864057857,48.7857052169362],[16.67593954905407,48.77208904054437],[16.681907876894456,48.75000855247561],[16.67513201282041,48.74325704933307],[16.683822545494962,48.728636164232334],[16.683873797533668,48.72834309100087],[16.702409080926586,48.737093694497275],[16.74857683809169,48.732667015164466],[16.761765907650947,48.717332765208624],[16.828568982943697,48.71163668743322],[16.870747773622107,48.713029457963124],[16.878714370311677,48.722870155660466],[16.906964178022093,48.7145055635808],[16.919345817419334,48.69992581827703],[16.911794492034733,48.67922817018411],[16.92606435562045,48.67280870426336],[16.9219963435055,48.64570296264466],[16.92943013525582,48.63910424232966],[16.919980378225013,48.62330013911954],[16.940796588055385,48.618401585630174],[16.936157671279375,48.602765283027416],[16.939820830949795,48.565899950367346],[16.955234005100213,48.544778812369806],[16.945137686305298,48.522885661518906],[16.92275846876256,48.516293535733425],[16.91554293490548,48.50057396521411],[16.892081439289576,48.49330638737774],[16.88205834710565,48.477981072856906],[16.852800382084176,48.451161785719165],[16.852393823667583,48.43914593522636],[16.86363857989715,48.418210094325694],[16.851575398496355,48.40968555014456],[16.8521879301873,48.384928514886376],[16.834738878580637,48.38008224224319],[16.843469386735883,48.3606382608465],[16.844437265396095,48.351883772389826],[16.908927630316924,48.327164174792905],[16.896031492874016,48.31063944551587],[16.902012085596226,48.298407933490985],[16.928204144341088,48.27165408585444],[16.947455707414665,48.270847159689794],[16.952809324814105,48.25740347742427],[16.948044738147114,48.23483768356291],[16.963378983378938,48.21797099029683],[16.977029751237342,48.19141409657694],[16.977486604087677,48.17271948652772],[17.000957163558905,48.15918756986154],[17.02934085380994,48.14105539754997],[17.058482456671577,48.14419785384474],[17.06346979369657,48.12349492001989],[17.06803248727749,48.11914731837325],[17.065211620546183,48.11028963500357],[17.042696737471054,48.10213221558601],[17.03728010739384,48.0847651365395],[17.00842227895234,48.09192678271507],[16.99913952231395,48.10955362306615],[16.987826064315257,48.111876858361576],[16.97236095072529,48.10103891283572],[17.000042295851486,48.084593508597116],[17.017576057228673,48.07398297729012],[16.995013966576437,48.04592442782684],[16.987902994669824,48.02955639773197],[16.970253194865474,48.02666016297122],[16.976292679906894,48.03595110794452],[16.95087328281823,48.04770962787613],[16.92085548395941,48.05147571560489],[16.91647862810002,48.05716935601403],[16.905543820823528,48.07148113884961],[16.87559081145808,48.072628477029504],[16.848891451511687,48.05716249227312],[16.830830255580732,48.04092177473804],[16.82941392948715,48.02962208085997],[16.826473741745573,48.02961310632213],[16.806653943755222,48.02900287144093],[16.76164641758894,48.01437369850825],[16.735352569587675,48.010083140689],[16.703333749597615,48.01211800144924],[16.702415028077258,47.97426803846587],[16.70094294098219,47.967436298737745],[16.666418064279704,47.957530936910004],[16.6410092269411,47.94640273171334],[16.633108301744457,47.934252798709586],[16.633298143923398,47.933867149314686],[16.609565164518067,47.912812631723035],[16.598523268949155,47.90434950282414],[16.58149039670041,47.889066223260116],[16.575216093039387,47.88673001222014],[16.54224643325957,47.920135326869],[16.519880338912994,47.94403446695838],[16.488114495800545,47.94308583087194],[16.45355117337773,47.93472934538395],[16.420395365126154,47.913397704203334],[16.42399235797815,47.902390028815525],[16.40148118036171,47.87643318363829],[16.390073086402186,47.88206274966688],[16.38378533354836,47.876745671240194],[16.349159710733165,47.86860779740351],[16.37568267098629,47.85294565849879],[16.38919834758694,47.84301955910204],[16.378363345157684,47.82777632553025],[16.363528014773575,47.82371082539523],[16.355927486776668,47.821168011549574],[16.34987683583584,47.80623644161276],[16.332767934340925,47.80094462332806],[16.316783876087396,47.78504548648747],[16.308647276171214,47.791262582064405],[16.310152281234046,47.807765146877],[16.287054333094485,47.81191497091851],[16.26990582983384,47.79153141325888],[16.30493897280584,47.784748313319675],[16.29954764188464,47.762180748796006],[16.30050171372142,47.76163540806019],[16.296792916501126,47.74273567084454],[16.296207172109245,47.71575745872823],[16.310270995806697,47.69585463338358],[16.310194767394016,47.68761613714829],[16.32492060617306,47.683765068682256],[16.357854029490802,47.67996976703736],[16.352902123695365,47.672246483013105],[16.373663039060315,47.64292015292044],[16.369583532164913,47.62141155680775],[16.349125714070194,47.61661015714837],[16.345513822736986,47.60323045272716],[16.33214677129723,47.58995902128921],[16.314308548351796,47.56577283985603],[16.314868350429926,47.54313706901066],[16.317361386201334,47.54275631104358],[16.340833658062486,47.516596893355015],[16.321962375015627,47.494129762521254],[16.30396688001069,47.46772520135104],[16.282215386075524,47.45554843810961],[16.254293485122595,47.44850965393688],[16.22425090390262,47.427546130534274],[16.20813918565573,47.425061662269506],[16.172886654147526,47.422815558741206],[16.145163084274714,47.43839302254559],[16.13301441035194,47.453855145806486],[16.139091177716853,47.46185877434416],[16.129276490473146,47.468569583327245],[16.11405034426309,47.49754439335263],[16.119961352070128,47.51076379059004],[16.110455486284074,47.52539764487436],[16.098898449606143,47.524509340345666],[16.08851086703062,47.5075859254692],[16.066292688998367,47.50232744640029],[16.066196781158446,47.486763197708626],[16.04796887461051,47.491591093623796],[16.027415407399957,47.5131133728728],[16.0011737999035,47.516271778822365],[15.959617616571604,47.518288565732355],[15.92159382910158,47.53045538072957],[15.914952170030258,47.53086429113109],[15.905134135518432,47.542889737734825],[15.906504791280582,47.5602465613467],[15.889001676065229,47.571663228545006],[15.848095257531307,47.568233165037],[15.845607258050215,47.5867540841157],[15.861656754855177,47.61712638773246],[15.841385820781568,47.61855100951688],[15.822866942434942,47.63840826641071],[15.80834704143025,47.635639683389456],[15.782412071172095,47.64275498401481],[15.750835914671242,47.632667126598214],[15.743385204563618,47.642665282292974],[15.726176869167379,47.64691254106756],[15.729759851658388,47.66463793084631],[15.715309746182747,47.698474341959916],[15.72022415864135,47.710348509700275],[15.69776121399367,47.71336604484472],[15.679803235298994,47.699460426682116],[15.671313837405439,47.71046755706222],[15.652620461834179,47.71810279775747],[15.636811423061399,47.71602129895097],[15.612778635840087,47.75155994650623],[15.552193627802666,47.750003123732654],[15.529378899268014,47.74638588258931],[15.510935806320322,47.752475389300145],[15.507665215871338,47.768276114722354],[15.462008553572252,47.77022728271672],[15.450946643550024,47.77414311613647],[15.434315348991026,47.792019918967945],[15.41299205113014,47.78486173763551],[15.40563383399547,47.81120321180778],[15.380361838950487,47.8241269698417],[15.346925043182031,47.826249186043896],[15.346243276703072,47.82616515945846],[15.300863665722469,47.821535839809684],[15.289897333644769,47.791667001937874],[15.254603622630391,47.79325050939743],[15.23531156918668,47.79929240006719],[15.218322314512127,47.79651947522193],[15.209161991496238,47.78830676146667],[15.211421487478264,47.76361179208629],[15.200388859733573,47.75391428634363],[15.184314855652772,47.757217094151144],[15.135838608061315,47.75848987933565],[15.1325735560132,47.748283578875856],[15.090243839242723,47.74196041885176],[15.056869542551116,47.741370763088156],[15.035706064504046,47.75323314290026],[14.952018804257285,47.732092382257235],[14.928728181599809,47.71113159797813],[14.902180082147158,47.71132016828422],[14.877607556136835,47.71652896461313],[14.877529190807502,47.72654369179427],[14.859023679322252,47.7409887172898]],[[16.183076337318866,48.1715330023072],[16.199152862412333,48.155047213300485],[16.223724324814963,48.13598223511378],[16.219275150990406,48.12856427578967],[16.22008970168383,48.124258390061264],[16.237235221850312,48.13050549744734],[16.268386917550586,48.134074710762185],[16.299745048030232,48.12581830557946],[16.313396343442434,48.12002489677758],[16.325796537008358,48.138286274586086],[16.367087762224738,48.12889186220601],[16.38954234739435,48.12586107181946],[16.414025622641567,48.11873197580842],[16.43822870111404,48.120419933482076],[16.43433413670084,48.1383655388173],[16.454587854675793,48.13939973901595],[16.478701650500238,48.155051750670594],[16.5150084110348,48.159417949336365],[16.544556556973248,48.143697190518886],[16.577255987550867,48.13569759822522],[16.578219440077365,48.144922712613294],[16.57638706912172,48.16230983731234],[16.550999159186002,48.165137810893235],[16.55067783019302,48.177548267724305],[16.537500771031432,48.20093514604349],[16.553976462478936,48.23949782642191],[16.540645976266184,48.24333663624501],[16.548214487432826,48.263499813028936],[16.533861100415223,48.26260329297847],[16.50791274360715,48.27410433861081],[16.516128973307325,48.286038118914654],[16.503416242927113,48.29086499663971],[16.482608719501762,48.293677035000385],[16.473506122658208,48.276892982175724],[16.441633391703185,48.292424694880935],[16.43898353873527,48.31732209407445],[16.42922197206394,48.32089258044634],[16.39639051184434,48.32307627589065],[16.364395939908135,48.282812053143836],[16.346377817429453,48.28608193287551],[16.31578230744994,48.274494318130685],[16.290215835246784,48.27102211968647],[16.257987472178687,48.24341294055577],[16.235025659242712,48.250788665794886],[16.209258760810737,48.26460978002107],[16.197501178266393,48.25042891992891],[16.186349293357544,48.22371555892549],[16.210799524240645,48.210139371488204],[16.200993360554452,48.18666881395831],[16.183076337318866,48.1715330023072]]]}},{\"type\":\"Feature\",\"properties\":{\"iso\":\"9\",\"name\":\"Wien\"},\"geometry\":{\"type\":\"Polygon\",\"coordinates\":[[[-180,-90],[-180,90],[180,90],[180,-90],[-180,-90]],[[16.42922197206394,48.32089258044634],[16.43898353873527,48.31732209407445],[16.441633391703185,48.292424694880935],[16.473506122658208,48.276892982175724],[16.482608719501762,48.293677035000385],[16.503416242927113,48.29086499663971],[16.516128973307325,48.286038118914654],[16.50791274360715,48.27410433861081],[16.533861100415223,48.26260329297847],[16.548214487432826,48.263499813028936],[16.540645976266184,48.24333663624501],[16.553976462478936,48.23949782642191],[16.537500771031432,48.20093514604349],[16.55067783019302,48.177548267724305],[16.550999159186002,48.165137810893235],[16.57638706912172,48.16230983731234],[16.578219440077365,48.144922712613294],[16.577255987550867,48.13569759822522],[16.544556556973248,48.143697190518886],[16.5150084110348,48.159417949336365],[16.478701650500238,48.155051750670594],[16.454587854675793,48.13939973901595],[16.43433413670084,48.1383655388173],[16.43822870111404,48.120419933482076],[16.414025622641567,48.11873197580842],[16.38954234739435,48.12586107181946],[16.367087762224738,48.12889186220601],[16.325796537008358,48.138286274586086],[16.313396343442434,48.12002489677758],[16.299745048030232,48.12581830557946],[16.268386917550586,48.134074710762185],[16.237235221850312,48.13050549744734],[16.22008970168383,48.124258390061264],[16.219275150990406,48.12856427578967],[16.223724324814963,48.13598223511378],[16.199152862412333,48.155047213300485],[16.183076337318866,48.1715330023072],[16.200993360554452,48.18666881395831],[16.210799524240645,48.210139371488204],[16.186349293357544,48.22371555892549],[16.197501178266393,48.25042891992891],[16.209258760810737,48.26460978002107],[16.235025659242712,48.250788665794886],[16.257987472178687,48.24341294055577],[16.290215835246784,48.27102211968647],[16.31578230744994,48.274494318130685],[16.346377817429453,48.28608193287551],[16.364395939908135,48.282812053143836],[16.39639051184434,48.32307627589065],[16.42922197206394,48.32089258044634]]]}},{\"type\":\"Feature\",\"properties\":{\"iso\":\"2\",\"name\":\"K\\u00e4rnten\"},\"geometry\":{\"type\":\"Polygon\",\"coordinates\":[[[-180,-90],[-180,90],[180,90],[180,-90],[-180,-90]],[[14.435317574999326,46.443301102802934],[14.410397085635578,46.446723856717135],[14.38299781994014,46.439501299158074],[14.34551755669944,46.43736514493235],[14.308949814800437,46.43098891461741],[14.28399853866686,46.443863099684194],[14.236954936851138,46.4333235545519],[14.216599948495517,46.44352814464048],[14.191883617469054,46.44429458404601],[14.163991835316772,46.43397401536297],[14.13570392337094,46.45148637146107],[14.122303137134274,46.476979250572974],[14.112209792352187,46.47917829948533],[14.09542785078693,46.485278576507206],[14.041324492179326,46.4934010704966],[14.020434535697586,46.481752552093205],[14.007255940493819,46.48173649369479],[13.97639439886244,46.49864697831642],[13.912714913538027,46.52152196794435],[13.88272273711716,46.523159036478525],[13.856021853467345,46.51424933774895],[13.829348630374026,46.517316502040096],[13.811506762399683,46.50637381634889],[13.799677252018698,46.50692828738412],[13.726548253612744,46.52353341318186],[13.691848590138754,46.52139208160628],[13.622608817649764,46.54259363838935],[13.587870834422574,46.544976577999556],[13.571622635181754,46.539245109500825],[13.564384227289862,46.551472698763966],[13.547728946656086,46.5538566391995],[13.515496589697932,46.5492155236782],[13.50494956634316,46.566707243115914],[13.47541731294658,46.5577479037911],[13.4241737882668,46.55898010178373],[13.409830156385379,46.57188074730113],[13.372920325356024,46.579682190539096],[13.36356161206192,46.57047524866159],[13.344623445288565,46.57003073250573],[13.322766911085287,46.55361350911511],[13.29795342025415,46.56071830258031],[13.253475564058748,46.560890051584],[13.240369758759199,46.55233690465009],[13.218010533434782,46.57090649650713],[13.1797864044299,46.578213348054405],[13.169256994568268,46.589316113990776],[13.106573598572242,46.59479444721621],[13.088252890622453,46.60167854273608],[13.073399877373218,46.59933939241637],[13.033216721588595,46.59643793897046],[13.022131988580023,46.602646799911874],[12.987812420060745,46.59986626060495],[12.934195584283618,46.61012581333062],[12.89084075324616,46.60764825131525],[12.865874132475822,46.61011132025633],[12.85359225555337,46.605153377498205],[12.834290860022419,46.610315978975265],[12.837895143776086,46.627684419026025],[12.819594219234231,46.6286108952918],[12.776541784209181,46.64712813851878],[12.756952547187167,46.64759868396726],[12.731990206876276,46.63472689531027],[12.717295250889705,46.6491621148885],[12.691232045355415,46.657410894876925],[12.687289165693864,46.686651136614145],[12.69309267928992,46.70209390828986],[12.711506966621174,46.70547477003055],[12.71233012533157,46.73610222670111],[12.725564407874064,46.743892424702246],[12.748810713047153,46.74789735360012],[12.796437287251893,46.75578785946756],[12.81053552137355,46.75673020780315],[12.81436659577459,46.74940001895604],[12.84184899894473,46.74978166169015],[12.857469906345388,46.7606156930797],[12.877624087741452,46.76313641764412],[12.90001757068092,46.777294257683835],[12.932063228622303,46.7644869313064],[12.966424855580245,46.78814217906072],[12.964130115063137,46.799096280170424],[12.907751826000329,46.82312509676053],[12.906100465535685,46.82308241873304],[12.896233736030906,46.82625951182353],[12.887111065183525,46.84295851763285],[12.841788233961834,46.86143803590054],[12.837688794160522,46.912955017440304],[12.822457903988065,46.917282816401574],[12.809081266709512,46.92306590509986],[12.794301186939792,46.92694926273792],[12.787035542028026,46.940031615688454],[12.77026867605,46.945253428270554],[12.760195755530342,46.957083123434316],[12.741707034637624,46.96946262444202],[12.725259034839011,46.996264019621535],[12.738076270741395,47.00432586864086],[12.766556564846313,47.04491082791749],[12.735459889891844,47.04216002184202],[12.711139270753687,47.048918029984094],[12.701908498451656,47.071068580611545],[12.65745397307417,47.10000921350448],[12.671358686482467,47.10730687280484],[12.666759914417947,47.12332832597829],[12.705108060952291,47.12250679930348],[12.731529490464828,47.13148583480726],[12.739481428690597,47.10080555350925],[12.773405544622427,47.101429087267256],[12.782232376128615,47.093476847768066],[12.82092307148572,47.09815035813142],[12.837399989940888,47.083283319763986],[12.860370654083598,47.081164208243386],[12.871525037978646,47.086745990657306],[12.89316386208255,47.08176740345311],[12.919987751387149,47.08208757186024],[12.938188217379329,47.07664981745189],[12.953662134783846,47.049733150953976],[12.965501762181598,47.03947411632989],[12.986013308316,47.036076630230546],[13.00375436875033,47.04434602504736],[13.020528115196166,47.03064906320971],[13.07369289080536,47.01388016337656],[13.081009137784807,47.02727945325202],[13.12764659663953,47.02751764167589],[13.133886674370611,47.035273804366945],[13.162662253075153,47.0375092375636],[13.185309478157487,47.04420857514951],[13.215414368289645,47.04454222614916],[13.248823483572613,47.05104360662486],[13.240083187844244,47.071998940770634],[13.250508947553831,47.08797979402657],[13.278019992673432,47.095622765572124],[13.300625663117774,47.0882297193104],[13.35523438896101,47.09757401910119],[13.380842508272595,47.09292980003284],[13.382771454698679,47.08076535509854],[13.407077873311675,47.06971440962606],[13.428297990515672,47.08184101052377],[13.45868628027679,47.08077274124282],[13.52228685019597,47.06897297022607],[13.55968253082931,47.05636760720394],[13.58151940726768,47.052465464606904],[13.594973907722657,47.05642034540644],[13.616416375553941,47.05960848554598],[13.638386780619035,47.05595615645852],[13.646281462001092,47.04076085715979],[13.687294263033758,47.040272331049636],[13.694418985696819,47.006567866539214],[13.699971212552787,47.00373416925072],[13.709456470156246,46.995920239824315],[13.734469752503118,46.989689390217244],[13.745452203876248,46.99433500902197],[13.772503550644952,46.97752606122732],[13.775178420200247,46.95308388871289],[13.785429956062647,46.94429481523506],[13.816122795820238,46.918944925040236],[13.848967970564987,46.909708961881556],[13.856883756163148,46.91773715006538],[13.882643224723962,46.918247886319385],[13.901038160307355,46.934107971912795],[13.912002205340182,46.93342637210399],[13.93521090591686,46.946050513671636],[13.947507687248372,46.941063158253144],[13.955708907995142,46.95674770933982],[13.968538309836061,46.963662705023765],[13.968949867233247,46.96348280803285],[13.969360609771583,46.96349357210858],[13.993310760137609,46.966553534949746],[14.010104357912198,46.97406613430193],[14.017229578221421,46.98950806846118],[14.015190926013304,47.00253850638903],[14.027291972052314,47.00716331524728],[14.049786957156686,47.00442833919455],[14.073121332291759,47.013099586957885],[14.07995175508011,47.022468173402885],[14.102620643088603,47.03854903871134],[14.12656393247146,47.045789178330494],[14.133380257416142,47.06278356050138],[14.160865314918068,47.05339268367749],[14.163005901504894,47.052866698998734],[14.163153015362708,47.052863654439726],[14.163322056111738,47.05286196871287],[14.163369136070493,47.0529069819479],[14.16352323552446,47.05305614308089],[14.175166881769977,47.06269184292928],[14.205244519886653,47.07635141837021],[14.217307658667586,47.06210725331998],[14.225283903545723,47.035907493499664],[14.235859426927489,47.0262549850907],[14.238527237746181,47.02878700007176],[14.262418831747295,47.027364921850214],[14.331042737694533,47.02956907438043],[14.36429009883292,47.025727661863016],[14.38349550536328,47.013213402123995],[14.378287353615326,46.99257061911524],[14.386753782041158,46.98041966721084],[14.431052526978942,47.00090334442819],[14.457543111052024,46.99636083759145],[14.472712246695759,47.00813448509732],[14.478809311547007,47.019823774921285],[14.505830654414218,47.026819577808446],[14.505888960430317,47.02660506528861],[14.505811721126168,47.026254310354275],[14.504041844907341,47.01943963772672],[14.528041105242723,47.00961778586715],[14.586800959408897,47.012136994541535],[14.593644751072551,47.00205248394778],[14.616143341682346,46.99836701130421],[14.628630271459997,47.01399570488198],[14.666889885420021,47.0187656311001],[14.717567312023563,47.0188200861171],[14.768062839526971,47.03891556947538],[14.808574801801056,47.03936751757547],[14.831452117088059,47.04998795493086],[14.845388056817908,47.048516045243],[14.847889066919606,47.033354163880254],[14.874152848680048,47.022937090612494],[14.886455410445981,47.01158241607712],[14.904908887786597,47.000707982012614],[14.950250267336468,46.99340160862021],[14.967872797883636,46.98217130876799],[14.993629819400251,46.938748042880995],[15.018052314932397,46.92307447607448],[15.027933551040734,46.910129398885935],[15.015835016587198,46.88163179205608],[15.00914664683249,46.88025588250889],[15.010932372565268,46.85490792600899],[15.020553298215097,46.84464167913086],[15.013014228794686,46.83298568010733],[14.996365244743608,46.82786212536294],[14.98278407892554,46.80631986731562],[14.977176128181322,46.78516609372807],[14.997585924517661,46.78120655629604],[15.031711115506777,46.769258774912096],[15.032466153019449,46.7460900152983],[15.04319487207487,46.72124982171925],[15.035452451461474,46.70620539603287],[15.03127210295496,46.680966106782996],[15.03553985456731,46.666247744571606],[15.050200628657269,46.66752685045126],[15.066026866155596,46.652413678660864],[15.044928169148317,46.65247260238725],[15.017076175200458,46.64118516881775],[14.996249810818307,46.62229517777864],[14.980276965333847,46.60175709874033],[14.972429041511768,46.62350766972289],[14.956574469567887,46.633092311889136],[14.931994473103087,46.61567804392616],[14.923936655657426,46.60360955423701],[14.880552716155968,46.611612469864475],[14.867948015778211,46.6047697716876],[14.835389809439851,46.56357952970373],[14.823623865043784,46.534900086450534],[14.819486109827174,46.50974438096276],[14.785250079026586,46.49984352553267],[14.759955963822996,46.50479842526632],[14.730629304553231,46.492032567734384],[14.715629120789446,46.5003065814155],[14.6999844487781,46.4639464331015],[14.679139711585716,46.46285451299678],[14.67564396450364,46.45103168762538],[14.632303772669502,46.43983329986897],[14.610154029488237,46.439794942148446],[14.587167326976283,46.42993485852157],[14.586972127538303,46.392601220802625],[14.573856818299264,46.37585374215964],[14.557646402162863,46.38550823135907],[14.54070479276499,46.41194359413592],[14.512138574097982,46.42653528442355],[14.493038021847354,46.41327774013647],[14.465893394191847,46.42243191050457],[14.447581202730655,46.42194952649314],[14.432148124510434,46.434566667207115],[14.435317574999326,46.443301102802934]]]}},{\"type\":\"Feature\",\"properties\":{\"iso\":\"8\",\"name\":\"Vorarlberg\"},\"geometry\":{\"type\":\"Polygon\",\"coordinates\":[[[-180,-90],[-180,90],[180,90],[180,-90],[-180,-90]],[[10.13482169360016,47.02990924032105],[10.131329666237974,47.01358341386765],[10.154681979449725,47.005942833950336],[10.160079518251028,46.98430100505883],[10.14501723827558,46.983936898935745],[10.135260228045352,46.955817856200156],[10.120952902444445,46.938453812219635],[10.098482025389323,46.92790298768985],[10.117562744641475,46.885875803279596],[10.141093069401869,46.875770287500515],[10.145238297465273,46.85154440908232],[10.105427165643341,46.841444752318075],[10.087472371935121,46.86172454952258],[10.0598334783117,46.86132061823789],[10.052676969765816,46.87643413644324],[10.026737287927446,46.89635643275821],[9.98269864769632,46.90675177892499],[9.978131577761552,46.91643699540343],[9.946381846167013,46.91290406202799],[9.923035071676765,46.91879884637782],[9.8779373760209,46.93869324829403],[9.874973356822716,46.97262377270369],[9.892214844734049,46.989490403814045],[9.88903584234105,47.001292729237356],[9.873512897835184,47.00691541864255],[9.87650424751636,47.0217952691347],[9.831008286712906,47.014887752886494],[9.793380279699388,47.03181810170144],[9.785161676804542,47.03905741371676],[9.745442634117873,47.04167576639769],[9.70870614570762,47.04788148389354],[9.70837229787894,47.05339707868915],[9.677665540227517,47.06197925208756],[9.645287842742736,47.060350742580894],[9.63677076224951,47.05227776731276],[9.60728003410665,47.06134874178134],[9.634610725917332,47.10167073030821],[9.622196291656664,47.10915982798623],[9.63442433263228,47.12860094514656],[9.6249338692817,47.13320860876722],[9.620789543539292,47.15222968171368],[9.605387245528624,47.14990921290746],[9.596964531935544,47.163476463144924],[9.579662446636275,47.1717206514149],[9.572807180356673,47.19138555176853],[9.585016388461709,47.205162055105106],[9.554892755258258,47.227260274641715],[9.567617302505429,47.2415141456876],[9.53095237318183,47.27118170183859],[9.54644091852075,47.280692801170474],[9.559435083155277,47.30079481120015],[9.588506704680318,47.318153576911676],[9.596569063629019,47.3381268052894],[9.619894985003073,47.363043852700166],[9.649771044215262,47.368054786668985],[9.673599983668973,47.38212027696659],[9.673808560581449,47.39190177656306],[9.652117013144371,47.409324421351066],[9.644544540673722,47.435768190967494],[9.659690179679028,47.45200125647562],[9.62074838576922,47.45917197292085],[9.60746988725973,47.4709481223521],[9.59694643646741,47.46307024961633],[9.583689961253688,47.48174030431538],[9.563097671232786,47.495566190777566],[9.582193127318059,47.50018793103811],[9.60351431290857,47.50443262563801],[9.61369960314429,47.520729854175684],[9.636190054867743,47.52473850380479],[9.64513464897811,47.52965729348286],[9.676251748122809,47.50535120628649],[9.6874573822603,47.50993692429319],[9.749113298235695,47.510746157666276],[9.750033603971719,47.52065182747359],[9.732419604901741,47.534360793178],[9.735407404461206,47.54722496304862],[9.755932201854145,47.572794094684426],[9.776204171069358,47.59403648212667],[9.80268159666887,47.59653686552012],[9.820568430718328,47.588271526152454],[9.830032925602614,47.54515205113361],[9.85378930328071,47.540603944437194],[9.874755871324185,47.529160346659644],[9.880501586200179,47.54853837948918],[9.902314421000693,47.54480656164595],[9.922881232612694,47.53033648775778],[9.943983041846385,47.537724006752704],[9.95940091034479,47.535125705919555],[9.965306012944524,47.52361899520824],[9.995989372991984,47.503393876058624],[9.9998063232222,47.48362980419063],[10.037718361240447,47.48979051076103],[10.05490721720457,47.47504317089944],[10.054764271296252,47.46679301545615],[10.072469447972287,47.45687525636946],[10.08984181459057,47.46101952933396],[10.093255374412383,47.4446762083399],[10.104184918900371,47.431108737346044],[10.09401606163977,47.41749186845814],[10.070682093538807,47.40840783413385],[10.083138164197315,47.39449691400716],[10.097924267274703,47.3604542176512],[10.10013753724247,47.35535651865693],[10.119637252797792,47.3762110712588],[10.138224704667417,47.36848335950451],[10.169887579328845,47.371896150530134],[10.16970530611719,47.3864280672298],[10.195289369039212,47.389965682162135],[10.212589317895407,47.381602150878706],[10.227267602000682,47.389437057389074],[10.237332343208825,47.37424907744781],[10.20454698564244,47.33734508101416],[10.199817800699714,47.32705107361326],[10.216282166544937,47.31165264892134],[10.201943779545873,47.299970325557986],[10.178560893075446,47.29523790767247],[10.17238006637,47.27966301689159],[10.178645536465902,47.27069713351929],[10.174512866296665,47.26446019463785],[10.222345968575148,47.25415795243823],[10.19804032366062,47.237160867675584],[10.213032930370431,47.22488058664695],[10.21298205903946,47.2048495614091],[10.197135131369317,47.19493937945387],[10.211710316078646,47.17190166511134],[10.213285659938029,47.158150684308964],[10.20368781856436,47.143030699501075],[10.207074490221077,47.13146136259523],[10.18658508307389,47.12952926210631],[10.145164588038519,47.09750224697372],[10.133819068224204,47.078450940454225],[10.134888226018813,47.064449885950985],[10.151151928447865,47.062388382268],[10.157194869214969,47.049433034931056],[10.13482169360016,47.02990924032105]]]}},{\"type\":\"Feature\",\"properties\":{\"iso\":\"5\",\"name\":\"Salzburg\"},\"geometry\":{\"type\":\"Polygon\",\"coordinates\":[[[-180,-90],[-180,90],[180,90],[180,-90],[-180,-90]],[[13.801926313338557,46.9515732267686],[13.785429956062647,46.94429481523506],[13.775178420200247,46.95308388871289],[13.772503550644952,46.97752606122732],[13.745452203876248,46.99433500902197],[13.734469752503118,46.989689390217244],[13.709456470156246,46.995920239824315],[13.699971212552787,47.00373416925072],[13.694418985696819,47.006567866539214],[13.687294263033758,47.040272331049636],[13.646281462001092,47.04076085715979],[13.638386780619035,47.05595615645852],[13.616416375553941,47.05960848554598],[13.594973907722657,47.05642034540644],[13.58151940726768,47.052465464606904],[13.55968253082931,47.05636760720394],[13.52228685019597,47.06897297022607],[13.45868628027679,47.08077274124282],[13.428297990515672,47.08184101052377],[13.407077873311675,47.06971440962606],[13.382771454698679,47.08076535509854],[13.380842508272595,47.09292980003284],[13.35523438896101,47.09757401910119],[13.300625663117774,47.0882297193104],[13.278019992673432,47.095622765572124],[13.250508947553831,47.08797979402657],[13.240083187844244,47.071998940770634],[13.248823483572613,47.05104360662486],[13.215414368289645,47.04454222614916],[13.185309478157487,47.04420857514951],[13.162662253075153,47.0375092375636],[13.133886674370611,47.035273804366945],[13.12764659663953,47.02751764167589],[13.081009137784807,47.02727945325202],[13.07369289080536,47.01388016337656],[13.020528115196166,47.03064906320971],[13.00375436875033,47.04434602504736],[12.986013308316,47.036076630230546],[12.965501762181598,47.03947411632989],[12.953662134783846,47.049733150953976],[12.938188217379329,47.07664981745189],[12.919987751387149,47.08208757186024],[12.89316386208255,47.08176740345311],[12.871525037978646,47.086745990657306],[12.860370654083598,47.081164208243386],[12.837399989940888,47.083283319763986],[12.82092307148572,47.09815035813142],[12.782232376128615,47.093476847768066],[12.773405544622427,47.101429087267256],[12.739481428690597,47.10080555350925],[12.731529490464828,47.13148583480726],[12.705108060952291,47.12250679930348],[12.666759914417947,47.12332832597829],[12.671358686482467,47.10730687280484],[12.65745397307417,47.10000921350448],[12.640102920846877,47.10568305827087],[12.617204982590405,47.121965270901875],[12.592847941925221,47.12536941093126],[12.566984859954406,47.13652421216914],[12.553409755335721,47.128109537891675],[12.528536640961478,47.138146278861065],[12.52216481525686,47.15112368826818],[12.484119551631274,47.15834918723919],[12.466152733668684,47.14485684341726],[12.435224740489941,47.15099471080652],[12.413516440020938,47.14393188520044],[12.400109764448992,47.15330715375048],[12.363857456172411,47.14188976330796],[12.359268526058557,47.11729796791754],[12.346194507937303,47.10977199925601],[12.313713958074965,47.10342381640998],[12.309205452078082,47.093642493282985],[12.284347357622847,47.09305169352613],[12.262013037562971,47.07322140875678],[12.2413077362019,47.0696691922961],[12.227578785409863,47.082580624141606],[12.186515987650695,47.09265121173166],[12.152095619509028,47.07978337988594],[12.136563065537015,47.08117287622881],[12.125746216545485,47.09306657018742],[12.12839487270448,47.11018609126433],[12.115169922590994,47.122203084216125],[12.111218527367994,47.14016156715887],[12.093816076542643,47.1465666351483],[12.092446039173796,47.167828898122146],[12.083339038812811,47.19623913868105],[12.103197823610817,47.23701198405247],[12.11063890288777,47.240914107737495],[12.101334360455162,47.25869341172984],[12.079128713460088,47.2757098105495],[12.11510611639261,47.30697630226541],[12.144869364045602,47.28944403929807],[12.165190652009544,47.302070968153764],[12.208713292707953,47.30265461671045],[12.219555502585873,47.31166016632244],[12.23787459031698,47.30197876846341],[12.255274248068567,47.308492575787355],[12.26469680402087,47.302737958499804],[12.29709225105455,47.32861896847839],[12.335847195220238,47.32904595217747],[12.375184632032676,47.31183380366383],[12.410950650892074,47.31414014546518],[12.442477739583595,47.32913818060849],[12.47892794361953,47.32691804673216],[12.495824472606328,47.337934519244136],[12.498287065001747,47.34762215541372],[12.479584754081941,47.3687592659282],[12.506709801887519,47.39466054702915],[12.523421411252983,47.391163505741474],[12.545923383219147,47.39857129096823],[12.564064539248124,47.3996060801711],[12.579239110558524,47.39302595470468],[12.600446912224152,47.4123145053918],[12.625210119948115,47.42304578369214],[12.632932295917886,47.43262662016478],[12.63841011934598,47.449880463540474],[12.631593995725854,47.458935931197075],[12.645334360914383,47.4687230957063],[12.665881683918592,47.46533801302577],[12.700242570693662,47.478420972040745],[12.66577856852797,47.506608310620834],[12.654781132911396,47.537313628251376],[12.628812166063684,47.55009203074107],[12.642278227416412,47.55504836533369],[12.65264976663745,47.570291468444275],[12.667254000705457,47.57917454243514],[12.65419857029272,47.588577333129926],[12.64140092643676,47.59385746008402],[12.575169718579502,47.60554298174406],[12.575671173996357,47.63287248306274],[12.604048268307398,47.6727760926551],[12.63039939214773,47.676767051002514],[12.649262750074886,47.67074488796411],[12.666747110925177,47.681601063825426],[12.732530077407366,47.68022936053186],[12.77913266456366,47.66146590299684],[12.759074039370203,47.65343890992717],[12.781610855060483,47.63320398041559],[12.790371955841358,47.63377118966573],[12.825166423208413,47.61264887706406],[12.808043378020143,47.61079995464941],[12.791999191759652,47.5989133343212],[12.779924021425268,47.57982895908442],[12.787027432090216,47.568563402594556],[12.795199865549318,47.55736292234183],[12.818399822630056,47.54543456631626],[12.848355105396745,47.54616393832658],[12.852366258120906,47.531336915679624],[12.880188881794028,47.52270716600276],[12.885148399969717,47.513288790813],[12.909369850344008,47.49748818459485],[12.932607417682904,47.48827956766036],[12.972068877337929,47.47466857594025],[12.981779402843307,47.483485640615356],[13.001745255855564,47.46453514202381],[13.018562641476427,47.47520229379683],[13.02758104811741,47.48721957640608],[13.048343414707134,47.492694050746024],[13.0467571299856,47.52103158439202],[13.0324017161556,47.536062297843735],[13.056408732149052,47.557871753194824],[13.04227874786716,47.57702363013788],[13.044356725239501,47.583899290583],[13.0722176114832,47.59043485415212],[13.063311510341627,47.60199507171266],[13.09866405774121,47.63425768730817],[13.077580447103273,47.67138437620282],[13.079347346225909,47.6885093165718],[13.06157583093924,47.69769298926993],[13.046655715833205,47.71324964441585],[13.00900977496067,47.7227161176732],[12.987904494495814,47.70796442547316],[12.933877104345207,47.710099552182726],[12.913682023678687,47.717920202808685],[12.905272200343756,47.728014132595106],[12.921997561445613,47.744726126747196],[12.931680284952254,47.7454122908946],[12.944168907125688,47.76346628617512],[12.939950086076395,47.7852614695968],[12.970860002488353,47.8074370805676],[12.98978532484958,47.832534232796654],[13.002829454932984,47.84170102192875],[13.002108047430244,47.85496420908995],[12.988315477810907,47.86976329232058],[12.96717386706399,47.9012416846387],[12.944467422206758,47.926531404912396],[12.93997721548016,47.93723917877469],[12.920045350712172,47.94285033639901],[12.921401420928925,47.95146611060857],[12.912198284263061,47.957688185756034],[12.881223672916718,47.961053721552084],[12.871820993962052,47.967020188293056],[12.86088959690731,47.99723089391568],[12.890672123907757,47.99150922151449],[12.912326251343378,48.02336110691883],[12.938794024086247,48.03655378472327],[12.940234149971177,48.036994092995705],[12.962153171469591,48.03334762085566],[12.973593909957328,48.024092617906796],[12.99033983971967,48.028428310448234],[13.01303093487179,48.03710160969214],[13.029747807676841,48.03309647811081],[13.0477425732328,48.03795347378263],[13.047942372223341,48.02784954404842],[13.058399902054074,48.0138781323072],[13.103509611940929,47.99814389805751],[13.104679932443288,47.9973348993728],[13.124995546580353,47.99676404709405],[13.145922802944359,47.97492426122499],[13.199432981972263,47.97475031105499],[13.210633201710504,47.97952053508733],[13.213462576661653,47.98304537035671],[13.243453938930724,47.99256216630181],[13.257739324477054,47.99177805174646],[13.30470126151509,48.00844773145437],[13.30199772896553,47.995935901175955],[13.324833675764625,47.99289185716716],[13.372433816964902,47.97255316137185],[13.361538037048387,47.955978212335594],[13.363899067124235,47.944650609719325],[13.359317945365092,47.94032978871332],[13.340370893896262,47.94446341416352],[13.338053780558313,47.954776113107535],[13.308305386852295,47.964587650616565],[13.281051844447191,47.955287621129074],[13.28596397625165,47.928448961936446],[13.281888759941667,47.90520221504385],[13.270871494943625,47.891993523241105],[13.276176908502721,47.879160464777776],[13.293889782637898,47.86432091652677],[13.287164601314913,47.83077934971909],[13.308778302920036,47.82225122218704],[13.312964897658228,47.81338362346725],[13.351724651095312,47.81049488687009],[13.393957421567334,47.79530009230283],[13.398849442188165,47.79844364754232],[13.451191675078974,47.80429341887363],[13.484511289095584,47.79998448891715],[13.491362176743541,47.78972824335878],[13.511752541024057,47.79750739773911],[13.530261084681209,47.79757025282514],[13.536170688480274,47.77668107103932],[13.51601511400202,47.772557268928],[13.466056518915638,47.78669928819231],[13.447086368217878,47.77255021084186],[13.437044064399783,47.73909342348027],[13.477370979698803,47.72473125857403],[13.551652205865423,47.71465205581413],[13.536404696257424,47.69583113716994],[13.534476584956707,47.68491350241405],[13.51772234921809,47.67606585346152],[13.500814203853798,47.66953074871557],[13.501161404579053,47.659439099253035],[13.484863443678226,47.64207122151538],[13.490632581940691,47.63085555988478],[13.521053258892575,47.62370726910291],[13.507093170569451,47.6012763494509],[13.506033490577202,47.5825112248718],[13.47908881547972,47.568656909194765],[13.482039721354713,47.562245689143815],[13.485529836861907,47.553347344138636],[13.477502477804828,47.53083284465746],[13.490813740646713,47.51377416410763],[13.502759692442385,47.51222954480216],[13.516932398814733,47.497016419942995],[13.53507592650793,47.49544294681517],[13.58643460518265,47.47530669240729],[13.593441625432567,47.46155748983778],[13.564894484649722,47.4185699882216],[13.565432474261243,47.4176703022323],[13.565318583402352,47.41718973057866],[13.57306408464016,47.39359936234706],[13.582508889411763,47.38286203895957],[13.604298441617575,47.330176404660676],[13.598459281840173,47.29409972906839],[13.608348897975546,47.28404782593422],[13.631903267015689,47.27471121358447],[13.654424148110406,47.27702790025776],[13.696382619592985,47.26555090885081],[13.696593391016176,47.26056487396344],[13.712637994644696,47.259979708655045],[13.720481628800998,47.27626402235923],[13.752131876321478,47.276495873168784],[13.761420728666591,47.266747734768266],[13.78471466144228,47.275725164612666],[13.805323514142584,47.293189737310065],[13.826133245704607,47.293680362447944],[13.824408978168938,47.26748574395234],[13.86497429614836,47.25264121720441],[13.869234110805834,47.242904241214916],[13.85090964242925,47.23011358585622],[13.865537945400298,47.220403754696314],[13.89702880128733,47.187711265358416],[13.897338641709347,47.18761101036128],[13.897404562343882,47.187581649621606],[13.897266900362307,47.187279009756885],[13.920470555133257,47.17221247773791],[13.943547551438872,47.16685354493523],[13.962721603127395,47.15811243095302],[13.962880186881707,47.15806109117247],[13.963012447954492,47.157925007907316],[13.963097717926296,47.15774143850479],[13.993706352989351,47.14269611848338],[13.988621040645056,47.12755590298655],[13.954714923298592,47.125760870973735],[13.944567920682557,47.13702331456309],[13.893230834343731,47.11471134815169],[13.879695833393724,47.1010115025522],[13.879204359999928,47.10081918849729],[13.879341138487497,47.100200419348184],[13.906809642434151,47.07108804618045],[13.906940916465537,47.071046874626354],[13.864524532800607,47.02003599569461],[13.86543482293839,46.996633591419254],[13.845736683529196,46.98949488869677],[13.832586143618208,46.96588741675482],[13.801926313338557,46.9515732267686]]]}}]},\"hovertemplate\":\"val=1<br>namee=%{location}<extra></extra>\",\"locations\":[\"Salzburg\"],\"name\":\"1\",\"showlegend\":true,\"showscale\":false,\"subplot\":\"mapbox\",\"z\":[1],\"type\":\"choroplethmapbox\"},{\"lat\":[48.2476453],\"line\":{\"width\":12},\"lon\":[14.430104777650632],\"marker\":{\"color\":\"#76b5c5\",\"size\":14.00763814297649},\"mode\":\"markers\",\"opacity\":0.5,\"showlegend\":false,\"type\":\"scattermapbox\"},{\"lat\":[46.7728451],\"line\":{\"width\":12},\"lon\":[15.5403253],\"marker\":{\"color\":\"#76b5c5\",\"size\":10.498866213151928},\"mode\":\"markers\",\"opacity\":0.5,\"showlegend\":false,\"type\":\"scattermapbox\"},{\"lat\":[48.3844998],\"line\":{\"width\":12},\"lon\":[15.8595378],\"marker\":{\"color\":\"#76b5c5\",\"size\":17.826709631220908},\"mode\":\"markers\",\"opacity\":0.5,\"showlegend\":false,\"type\":\"scattermapbox\"},{\"lat\":[46.5729635],\"line\":{\"width\":12},\"lon\":[14.4913602],\"marker\":{\"color\":\"#76b5c5\",\"size\":12.145840792457333},\"mode\":\"markers\",\"opacity\":0.5,\"showlegend\":false,\"type\":\"scattermapbox\"},{\"lat\":[47.0266797],\"line\":{\"width\":12},\"lon\":[15.1709872],\"marker\":{\"color\":\"#76b5c5\",\"size\":10.713688984365676},\"mode\":\"markers\",\"opacity\":0.5,\"showlegend\":false,\"type\":\"scattermapbox\"},{\"lat\":[48.3287897],\"line\":{\"width\":12},\"lon\":[13.8476913],\"marker\":{\"color\":\"#76b5c5\",\"size\":16.857620241078887},\"mode\":\"markers\",\"opacity\":0.5,\"showlegend\":false,\"type\":\"scattermapbox\"},{\"lat\":[48.1134588],\"line\":{\"width\":12},\"lon\":[11.5638294],\"marker\":{\"color\":\"#76b5c5\",\"size\":10.007160759040458},\"mode\":\"markers\",\"opacity\":0.5,\"showlegend\":false,\"type\":\"scattermapbox\"},{\"lat\":[47.4168029],\"line\":{\"width\":12},\"lon\":[13.2170933],\"marker\":{\"color\":\"#76b5c5\",\"size\":10.379520229144289},\"mode\":\"markers\",\"opacity\":0.5,\"showlegend\":false,\"type\":\"scattermapbox\"},{\"lat\":[47.10771815],\"line\":{\"width\":12},\"lon\":[14.065431562311822],\"marker\":{\"color\":\"#76b5c5\",\"size\":10.16469745793054},\"mode\":\"markers\",\"opacity\":0.5,\"showlegend\":false,\"type\":\"scattermapbox\"},{\"lat\":[47.0799558],\"line\":{\"width\":12},\"lon\":[14.0320413],\"marker\":{\"color\":\"#76b5c5\",\"size\":10.642081393961092},\"mode\":\"markers\",\"opacity\":0.5,\"showlegend\":false,\"type\":\"scattermapbox\"},{\"lat\":[47.1341208],\"line\":{\"width\":12},\"lon\":[11.8184787],\"marker\":{\"color\":\"#76b5c5\",\"size\":10.601503759398497},\"mode\":\"markers\",\"opacity\":0.5,\"showlegend\":false,\"type\":\"scattermapbox\"},{\"lat\":[null],\"line\":{\"width\":12},\"lon\":[null],\"marker\":{\"color\":\"#76b5c5\",\"size\":12.38453276047261},\"mode\":\"markers\",\"opacity\":0.5,\"showlegend\":false,\"type\":\"scattermapbox\"},{\"lat\":[48.0303948],\"line\":{\"width\":12},\"lon\":[16.75801830741043],\"marker\":{\"color\":\"#76b5c5\",\"size\":11.167203723594701},\"mode\":\"markers\",\"opacity\":0.5,\"showlegend\":false,\"type\":\"scattermapbox\"},{\"lat\":[47.4144811],\"line\":{\"width\":12},\"lon\":[15.2029326],\"marker\":{\"color\":\"#76b5c5\",\"size\":10.379520229144289},\"mode\":\"markers\",\"opacity\":0.5,\"showlegend\":false,\"type\":\"scattermapbox\"},{\"lat\":[48.3317967],\"line\":{\"width\":12},\"lon\":[15.8991336],\"marker\":{\"color\":\"#76b5c5\",\"size\":19.664637784938535},\"mode\":\"markers\",\"opacity\":0.5,\"showlegend\":false,\"type\":\"scattermapbox\"},{\"lat\":[46.794066],\"line\":{\"width\":12},\"lon\":[13.5150084],\"marker\":{\"color\":\"#76b5c5\",\"size\":12.074233202052751},\"mode\":\"markers\",\"opacity\":0.5,\"showlegend\":false,\"type\":\"scattermapbox\"},{\"lat\":[null],\"line\":{\"width\":12},\"lon\":[null],\"marker\":{\"color\":\"#76b5c5\",\"size\":11.923857262203127},\"mode\":\"markers\",\"opacity\":0.5,\"showlegend\":false,\"type\":\"scattermapbox\"},{\"lat\":[null],\"line\":{\"width\":12},\"lon\":[null],\"marker\":{\"color\":\"#76b5c5\",\"size\":11.737677527151211},\"mode\":\"markers\",\"opacity\":0.5,\"showlegend\":false,\"type\":\"scattermapbox\"},{\"lat\":[47.5734604],\"line\":{\"width\":12},\"lon\":[14.8366558],\"marker\":{\"color\":\"#76b5c5\",\"size\":10.023869196801527},\"mode\":\"markers\",\"opacity\":0.5,\"showlegend\":false,\"type\":\"scattermapbox\"},{\"lat\":[46.53508635],\"line\":{\"width\":12},\"lon\":[14.17115092936584],\"marker\":{\"color\":\"#76b5c5\",\"size\":12.098102398854278},\"mode\":\"markers\",\"opacity\":0.5,\"showlegend\":false,\"type\":\"scattermapbox\"},{\"lat\":[48.1475774],\"line\":{\"width\":12},\"lon\":[11.7299205],\"marker\":{\"color\":\"#76b5c5\",\"size\":10.909416398138202},\"mode\":\"markers\",\"opacity\":0.5,\"showlegend\":false,\"type\":\"scattermapbox\"},{\"lat\":[46.5462647],\"line\":{\"width\":12},\"lon\":[14.29863859459248],\"marker\":{\"color\":\"#76b5c5\",\"size\":11.78780284043442},\"mode\":\"markers\",\"opacity\":0.5,\"showlegend\":false,\"type\":\"scattermapbox\"},{\"lat\":[47.1632919],\"line\":{\"width\":12},\"lon\":[14.7391881],\"marker\":{\"color\":\"#76b5c5\",\"size\":10.477383936030552},\"mode\":\"markers\",\"opacity\":0.5,\"showlegend\":false,\"type\":\"scattermapbox\"},{\"lat\":[48.1858519],\"line\":{\"width\":12},\"lon\":[16.43845173872922],\"marker\":{\"color\":\"#76b5c5\",\"size\":14.103114930182599},\"mode\":\"markers\",\"opacity\":0.5,\"showlegend\":false,\"type\":\"scattermapbox\"},{\"lat\":[47.1707585],\"line\":{\"width\":12},\"lon\":[15.3372212],\"marker\":{\"color\":\"#76b5c5\",\"size\":10.284043441938179},\"mode\":\"markers\",\"opacity\":0.5,\"showlegend\":false,\"type\":\"scattermapbox\"},{\"lat\":[null],\"line\":{\"width\":12},\"lon\":[null],\"marker\":{\"color\":\"#76b5c5\",\"size\":10.594343000358037},\"mode\":\"markers\",\"opacity\":0.5,\"showlegend\":false,\"type\":\"scattermapbox\"},{\"lat\":[46.7813377],\"line\":{\"width\":12},\"lon\":[15.5881617],\"marker\":{\"color\":\"#76b5c5\",\"size\":10.343716433941998},\"mode\":\"markers\",\"opacity\":0.5,\"showlegend\":false,\"type\":\"scattermapbox\"},{\"lat\":[48.1475012],\"line\":{\"width\":12},\"lon\":[12.2984738],\"marker\":{\"color\":\"#76b5c5\",\"size\":10.594343000358037},\"mode\":\"markers\",\"opacity\":0.5,\"showlegend\":false,\"type\":\"scattermapbox\"},{\"lat\":[48.0180536],\"line\":{\"width\":12},\"lon\":[14.411815939385477],\"marker\":{\"color\":\"#76b5c5\",\"size\":10.840195727413773},\"mode\":\"markers\",\"opacity\":0.5,\"showlegend\":false,\"type\":\"scattermapbox\"},{\"lat\":[46.7403158],\"line\":{\"width\":12},\"lon\":[15.3211151],\"marker\":{\"color\":\"#76b5c5\",\"size\":10.0},\"mode\":\"markers\",\"opacity\":0.5,\"showlegend\":false,\"type\":\"scattermapbox\"},{\"lat\":[47.20911125],\"line\":{\"width\":12},\"lon\":[12.029656795913978],\"marker\":{\"color\":\"#76b5c5\",\"size\":14.771452440625373},\"mode\":\"markers\",\"opacity\":0.5,\"showlegend\":false,\"type\":\"scattermapbox\"},{\"lat\":[46.9969426],\"line\":{\"width\":12},\"lon\":[15.4869681],\"marker\":{\"color\":\"#76b5c5\",\"size\":10.427258622747345},\"mode\":\"markers\",\"opacity\":0.5,\"showlegend\":false,\"type\":\"scattermapbox\"},{\"lat\":[46.811407],\"line\":{\"width\":12},\"lon\":[15.5526074],\"marker\":{\"color\":\"#76b5c5\",\"size\":10.343716433941998},\"mode\":\"markers\",\"opacity\":0.5,\"showlegend\":false,\"type\":\"scattermapbox\"},{\"lat\":[48.345094],\"line\":{\"width\":12},\"lon\":[16.2408702],\"marker\":{\"color\":\"#76b5c5\",\"size\":16.99128774316744},\"mode\":\"markers\",\"opacity\":0.5,\"showlegend\":false,\"type\":\"scattermapbox\"},{\"lat\":[47.8862041],\"line\":{\"width\":12},\"lon\":[14.550121],\"marker\":{\"color\":\"#76b5c5\",\"size\":11.723356009070296},\"mode\":\"markers\",\"opacity\":0.5,\"showlegend\":false,\"type\":\"scattermapbox\"},{\"lat\":[47.5923318],\"line\":{\"width\":12},\"lon\":[14.6369469],\"marker\":{\"color\":\"#76b5c5\",\"size\":10.045351473922903},\"mode\":\"markers\",\"opacity\":0.5,\"showlegend\":false,\"type\":\"scattermapbox\"},{\"lat\":[47.3241587],\"line\":{\"width\":12},\"lon\":[11.5961483],\"marker\":{\"color\":\"#76b5c5\",\"size\":10.093089867525958},\"mode\":\"markers\",\"opacity\":0.5,\"showlegend\":false,\"type\":\"scattermapbox\"},{\"lat\":[47.14618295],\"line\":{\"width\":12},\"lon\":[11.96725807006352],\"marker\":{\"color\":\"#76b5c5\",\"size\":18.590523928869793},\"mode\":\"markers\",\"opacity\":0.5,\"showlegend\":false,\"type\":\"scattermapbox\"},{\"lat\":[47.6070992],\"line\":{\"width\":12},\"lon\":[14.7443848],\"marker\":{\"color\":\"#76b5c5\",\"size\":11.501372478816087},\"mode\":\"markers\",\"opacity\":0.5,\"showlegend\":false,\"type\":\"scattermapbox\"},{\"lat\":[null],\"line\":{\"width\":12},\"lon\":[null],\"marker\":{\"color\":\"#76b5c5\",\"size\":10.057286072323667},\"mode\":\"markers\",\"opacity\":0.5,\"showlegend\":false,\"type\":\"scattermapbox\"},{\"lat\":[48.1593057],\"line\":{\"width\":12},\"lon\":[12.35260579735282],\"marker\":{\"color\":\"#76b5c5\",\"size\":10.007160759040458},\"mode\":\"markers\",\"opacity\":0.5,\"showlegend\":false,\"type\":\"scattermapbox\"},{\"lat\":[48.15835315],\"line\":{\"width\":12},\"lon\":[12.353426228980894],\"marker\":{\"color\":\"#76b5c5\",\"size\":10.116959064327485},\"mode\":\"markers\",\"opacity\":0.5,\"showlegend\":false,\"type\":\"scattermapbox\"},{\"lat\":[null],\"line\":{\"width\":12},\"lon\":[null],\"marker\":{\"color\":\"#76b5c5\",\"size\":13.148347058121495},\"mode\":\"markers\",\"opacity\":0.5,\"showlegend\":false,\"type\":\"scattermapbox\"},{\"lat\":[46.9644025],\"line\":{\"width\":12},\"lon\":[15.4786966],\"marker\":{\"color\":\"#76b5c5\",\"size\":10.451127819548873},\"mode\":\"markers\",\"opacity\":0.5,\"showlegend\":false,\"type\":\"scattermapbox\"},{\"lat\":[47.2597118],\"line\":{\"width\":12},\"lon\":[12.738895201053044],\"marker\":{\"color\":\"#76b5c5\",\"size\":15.726220312686479},\"mode\":\"markers\",\"opacity\":0.5,\"showlegend\":false,\"type\":\"scattermapbox\"},{\"lat\":[47.19705930000001],\"line\":{\"width\":12},\"lon\":[12.719282911229318],\"marker\":{\"color\":\"#76b5c5\",\"size\":12.690058479532164},\"mode\":\"markers\",\"opacity\":0.5,\"showlegend\":false,\"type\":\"scattermapbox\"},{\"lat\":[null],\"line\":{\"width\":12},\"lon\":[null],\"marker\":{\"color\":\"#76b5c5\",\"size\":21.47392290249433},\"mode\":\"markers\",\"opacity\":0.5,\"showlegend\":false,\"type\":\"scattermapbox\"},{\"lat\":[46.6621377],\"line\":{\"width\":12},\"lon\":[13.6887159],\"marker\":{\"color\":\"#76b5c5\",\"size\":10.584795321637428},\"mode\":\"markers\",\"opacity\":0.5,\"showlegend\":false,\"type\":\"scattermapbox\"},{\"lat\":[47.25329],\"line\":{\"width\":12},\"lon\":[12.736613811797312],\"marker\":{\"color\":\"#76b5c5\",\"size\":10.009547678720612},\"mode\":\"markers\",\"opacity\":0.5,\"showlegend\":false,\"type\":\"scattermapbox\"},{\"lat\":[48.1061893],\"line\":{\"width\":12},\"lon\":[13.8571044],\"marker\":{\"color\":\"#76b5c5\",\"size\":10.465449337629789},\"mode\":\"markers\",\"opacity\":0.5,\"showlegend\":false,\"type\":\"scattermapbox\"},{\"lat\":[47.441289600000005],\"line\":{\"width\":12},\"lon\":[13.210858521712662],\"marker\":{\"color\":\"#76b5c5\",\"size\":10.420097863706886},\"mode\":\"markers\",\"opacity\":0.5,\"showlegend\":false,\"type\":\"scattermapbox\"},{\"lat\":[null],\"line\":{\"width\":12},\"lon\":[null],\"marker\":{\"color\":\"#76b5c5\",\"size\":11.07172693638859},\"mode\":\"markers\",\"opacity\":0.5,\"showlegend\":false,\"type\":\"scattermapbox\"},{\"lat\":[47.6859182],\"line\":{\"width\":12},\"lon\":[14.7056235],\"marker\":{\"color\":\"#76b5c5\",\"size\":10.57047380355651},\"mode\":\"markers\",\"opacity\":0.5,\"showlegend\":false,\"type\":\"scattermapbox\"},{\"lat\":[47.64748255],\"line\":{\"width\":12},\"lon\":[14.77771646800959],\"marker\":{\"color\":\"#76b5c5\",\"size\":10.546604606754983},\"mode\":\"markers\",\"opacity\":0.5,\"showlegend\":false,\"type\":\"scattermapbox\"},{\"lat\":[47.2928101],\"line\":{\"width\":12},\"lon\":[15.3207469],\"marker\":{\"color\":\"#76b5c5\",\"size\":10.427258622747345},\"mode\":\"markers\",\"opacity\":0.5,\"showlegend\":false,\"type\":\"scattermapbox\"},{\"lat\":[46.6424934],\"line\":{\"width\":12},\"lon\":[14.9420703],\"marker\":{\"color\":\"#76b5c5\",\"size\":10.665950590762622},\"mode\":\"markers\",\"opacity\":0.5,\"showlegend\":false,\"type\":\"scattermapbox\"},{\"lat\":[46.8522],\"line\":{\"width\":12},\"lon\":[15.5383],\"marker\":{\"color\":\"#76b5c5\",\"size\":10.479770855710706},\"mode\":\"markers\",\"opacity\":0.5,\"showlegend\":false,\"type\":\"scattermapbox\"},{\"lat\":[47.3805128],\"line\":{\"width\":12},\"lon\":[15.0947756],\"marker\":{\"color\":\"#76b5c5\",\"size\":10.23391812865497},\"mode\":\"markers\",\"opacity\":0.5,\"showlegend\":false,\"type\":\"scattermapbox\"},{\"lat\":[47.9259676],\"line\":{\"width\":12},\"lon\":[14.4322317],\"marker\":{\"color\":\"#76b5c5\",\"size\":10.938059434300035},\"mode\":\"markers\",\"opacity\":0.5,\"showlegend\":false,\"type\":\"scattermapbox\"},{\"lat\":[46.87061985],\"line\":{\"width\":12},\"lon\":[13.329322360071938],\"marker\":{\"color\":\"#76b5c5\",\"size\":27.422126745435015},\"mode\":\"markers\",\"opacity\":0.5,\"showlegend\":false,\"type\":\"scattermapbox\"},{\"lat\":[47.06584215],\"line\":{\"width\":12},\"lon\":[13.352801756741208],\"marker\":{\"color\":\"#76b5c5\",\"size\":12.861916696503162},\"mode\":\"markers\",\"opacity\":0.5,\"showlegend\":false,\"type\":\"scattermapbox\"},{\"lat\":[46.8332604],\"line\":{\"width\":12},\"lon\":[13.360218284876543],\"marker\":{\"color\":\"#76b5c5\",\"size\":10.97625014918248},\"mode\":\"markers\",\"opacity\":0.5,\"showlegend\":false,\"type\":\"scattermapbox\"},{\"lat\":[47.40455],\"line\":{\"width\":12},\"lon\":[13.575207],\"marker\":{\"color\":\"#76b5c5\",\"size\":10.140828261129013},\"mode\":\"markers\",\"opacity\":0.5,\"showlegend\":false,\"type\":\"scattermapbox\"},{\"lat\":[47.1672188],\"line\":{\"width\":12},\"lon\":[11.8638664],\"marker\":{\"color\":\"#76b5c5\",\"size\":18.23248597684688},\"mode\":\"markers\",\"opacity\":0.5,\"showlegend\":false,\"type\":\"scattermapbox\"},{\"lat\":[48.2272068],\"line\":{\"width\":12},\"lon\":[15.3369992],\"marker\":{\"color\":\"#76b5c5\",\"size\":14.461152882205514},\"mode\":\"markers\",\"opacity\":0.5,\"showlegend\":false,\"type\":\"scattermapbox\"},{\"lat\":[46.9418116],\"line\":{\"width\":12},\"lon\":[15.5161554],\"marker\":{\"color\":\"#76b5c5\",\"size\":10.369972550423679},\"mode\":\"markers\",\"opacity\":0.5,\"showlegend\":false,\"type\":\"scattermapbox\"},{\"lat\":[46.9418116],\"line\":{\"width\":12},\"lon\":[15.5161554],\"marker\":{\"color\":\"#76b5c5\",\"size\":15.869435493495644},\"mode\":\"markers\",\"opacity\":0.5,\"showlegend\":false,\"type\":\"scattermapbox\"},{\"lat\":[46.9418116],\"line\":{\"width\":12},\"lon\":[15.5161554],\"marker\":{\"color\":\"#76b5c5\",\"size\":30.0},\"mode\":\"markers\",\"opacity\":0.5,\"showlegend\":false,\"type\":\"scattermapbox\"},{\"lat\":[46.8583111],\"line\":{\"width\":12},\"lon\":[13.3451485],\"marker\":{\"color\":\"#76b5c5\",\"size\":10.011934598400764},\"mode\":\"markers\",\"opacity\":0.5,\"showlegend\":false,\"type\":\"scattermapbox\"},{\"lat\":[null],\"line\":{\"width\":12},\"lon\":[null],\"marker\":{\"color\":\"#76b5c5\",\"size\":10.589569160997733},\"mode\":\"markers\",\"opacity\":0.5,\"showlegend\":false,\"type\":\"scattermapbox\"},{\"lat\":[48.2402896],\"line\":{\"width\":12},\"lon\":[12.685745],\"marker\":{\"color\":\"#76b5c5\",\"size\":10.620599116839719},\"mode\":\"markers\",\"opacity\":0.5,\"showlegend\":false,\"type\":\"scattermapbox\"},{\"lat\":[46.82360355],\"line\":{\"width\":12},\"lon\":[13.295882313316891],\"marker\":{\"color\":\"#76b5c5\",\"size\":10.035803795202291},\"mode\":\"markers\",\"opacity\":0.5,\"showlegend\":false,\"type\":\"scattermapbox\"},{\"lat\":[46.8346229],\"line\":{\"width\":12},\"lon\":[12.8020349],\"marker\":{\"color\":\"#76b5c5\",\"size\":10.11218522496718},\"mode\":\"markers\",\"opacity\":0.5,\"showlegend\":false,\"type\":\"scattermapbox\"},{\"lat\":[47.9056898],\"line\":{\"width\":12},\"lon\":[12.596737],\"marker\":{\"color\":\"#76b5c5\",\"size\":11.14094760711302},\"mode\":\"markers\",\"opacity\":0.5,\"showlegend\":false,\"type\":\"scattermapbox\"},{\"lat\":[null],\"line\":{\"width\":12},\"lon\":[null],\"marker\":{\"color\":\"#76b5c5\",\"size\":11.405895691609977},\"mode\":\"markers\",\"opacity\":0.5,\"showlegend\":false,\"type\":\"scattermapbox\"},{\"lat\":[46.7468816],\"line\":{\"width\":12},\"lon\":[15.5834495],\"marker\":{\"color\":\"#76b5c5\",\"size\":10.307912638739706},\"mode\":\"markers\",\"opacity\":0.5,\"showlegend\":false,\"type\":\"scattermapbox\"},{\"lat\":[48.31660425],\"line\":{\"width\":12},\"lon\":[14.15130495],\"marker\":{\"color\":\"#76b5c5\",\"size\":14.270199307793293},\"mode\":\"markers\",\"opacity\":0.5,\"showlegend\":false,\"type\":\"scattermapbox\"},{\"lat\":[46.9654645],\"line\":{\"width\":12},\"lon\":[14.9779263],\"marker\":{\"color\":\"#76b5c5\",\"size\":10.01670843776107},\"mode\":\"markers\",\"opacity\":0.5,\"showlegend\":false,\"type\":\"scattermapbox\"},{\"lat\":[null],\"line\":{\"width\":12},\"lon\":[null],\"marker\":{\"color\":\"#76b5c5\",\"size\":12.059911683971833},\"mode\":\"markers\",\"opacity\":0.5,\"showlegend\":false,\"type\":\"scattermapbox\"},{\"lat\":[46.7118514],\"line\":{\"width\":12},\"lon\":[13.6370454],\"marker\":{\"color\":\"#76b5c5\",\"size\":10.558539205155746},\"mode\":\"markers\",\"opacity\":0.5,\"showlegend\":false,\"type\":\"scattermapbox\"},{\"lat\":[47.206807],\"line\":{\"width\":12},\"lon\":[15.3451254],\"marker\":{\"color\":\"#76b5c5\",\"size\":10.312686478100012},\"mode\":\"markers\",\"opacity\":0.5,\"showlegend\":false,\"type\":\"scattermapbox\"},{\"lat\":[48.2667],\"line\":{\"width\":12},\"lon\":[12.7667],\"marker\":{\"color\":\"#76b5c5\",\"size\":10.460675498269483},\"mode\":\"markers\",\"opacity\":0.5,\"showlegend\":false,\"type\":\"scattermapbox\"},{\"lat\":[47.3594033],\"line\":{\"width\":12},\"lon\":[15.3459789],\"marker\":{\"color\":\"#76b5c5\",\"size\":10.427258622747345},\"mode\":\"markers\",\"opacity\":0.5,\"showlegend\":false,\"type\":\"scattermapbox\"},{\"lat\":[48.0247866],\"line\":{\"width\":12},\"lon\":[14.3202029],\"marker\":{\"color\":\"#76b5c5\",\"size\":10.054899152643513},\"mode\":\"markers\",\"opacity\":0.5,\"showlegend\":false,\"type\":\"scattermapbox\"},{\"lat\":[47.2208788],\"line\":{\"width\":12},\"lon\":[14.5861141],\"marker\":{\"color\":\"#76b5c5\",\"size\":10.03341687552214},\"mode\":\"markers\",\"opacity\":0.5,\"showlegend\":false,\"type\":\"scattermapbox\"},{\"lat\":[47.6656951],\"line\":{\"width\":12},\"lon\":[15.5862343],\"marker\":{\"color\":\"#76b5c5\",\"size\":10.329394915861082},\"mode\":\"markers\",\"opacity\":0.5,\"showlegend\":false,\"type\":\"scattermapbox\"},{\"lat\":[47.4224312],\"line\":{\"width\":12},\"lon\":[13.6951004],\"marker\":{\"color\":\"#76b5c5\",\"size\":10.01670843776107},\"mode\":\"markers\",\"opacity\":0.5,\"showlegend\":false,\"type\":\"scattermapbox\"},{\"lat\":[null],\"line\":{\"width\":12},\"lon\":[null],\"marker\":{\"color\":\"#76b5c5\",\"size\":11.608783864422962},\"mode\":\"markers\",\"opacity\":0.5,\"showlegend\":false,\"type\":\"scattermapbox\"},{\"lat\":[null],\"line\":{\"width\":12},\"lon\":[null],\"marker\":{\"color\":\"#76b5c5\",\"size\":10.551378446115288},\"mode\":\"markers\",\"opacity\":0.5,\"showlegend\":false,\"type\":\"scattermapbox\"},{\"lat\":[46.7368395],\"line\":{\"width\":12},\"lon\":[15.5679636],\"marker\":{\"color\":\"#76b5c5\",\"size\":10.019095357441222},\"mode\":\"markers\",\"opacity\":0.5,\"showlegend\":false,\"type\":\"scattermapbox\"},{\"lat\":[46.5835468],\"line\":{\"width\":12},\"lon\":[14.0131863],\"marker\":{\"color\":\"#76b5c5\",\"size\":11.907148824442057},\"mode\":\"markers\",\"opacity\":0.5,\"showlegend\":false,\"type\":\"scattermapbox\"},{\"lat\":[48.1486348],\"line\":{\"width\":12},\"lon\":[14.0075182],\"marker\":{\"color\":\"#76b5c5\",\"size\":10.818713450292398},\"mode\":\"markers\",\"opacity\":0.5,\"showlegend\":false,\"type\":\"scattermapbox\"},{\"lat\":[47.8539273],\"line\":{\"width\":12},\"lon\":[12.127262],\"marker\":{\"color\":\"#76b5c5\",\"size\":10.835421888053467},\"mode\":\"markers\",\"opacity\":0.5,\"showlegend\":false,\"type\":\"scattermapbox\"},{\"lat\":[47.08683315],\"line\":{\"width\":12},\"lon\":[11.773980875456342],\"marker\":{\"color\":\"#76b5c5\",\"size\":15.511397541472729},\"mode\":\"markers\",\"opacity\":0.5,\"showlegend\":false,\"type\":\"scattermapbox\"},{\"lat\":[47.6640882],\"line\":{\"width\":12},\"lon\":[15.1589528],\"marker\":{\"color\":\"#76b5c5\",\"size\":10.200501253132831},\"mode\":\"markers\",\"opacity\":0.5,\"showlegend\":false,\"type\":\"scattermapbox\"},{\"lat\":[null],\"line\":{\"width\":12},\"lon\":[null],\"marker\":{\"color\":\"#76b5c5\",\"size\":12.2890559732665},\"mode\":\"markers\",\"opacity\":0.5,\"showlegend\":false,\"type\":\"scattermapbox\"},{\"lat\":[48.4930015],\"line\":{\"width\":12},\"lon\":[14.2637185],\"marker\":{\"color\":\"#76b5c5\",\"size\":10.70891514500537},\"mode\":\"markers\",\"opacity\":0.5,\"showlegend\":false,\"type\":\"scattermapbox\"},{\"lat\":[46.6579805],\"line\":{\"width\":12},\"lon\":[14.872610198098648],\"marker\":{\"color\":\"#76b5c5\",\"size\":11.88327962764053},\"mode\":\"markers\",\"opacity\":0.5,\"showlegend\":false,\"type\":\"scattermapbox\"},{\"lat\":[47.3208816],\"line\":{\"width\":12},\"lon\":[13.1511239],\"marker\":{\"color\":\"#76b5c5\",\"size\":12.861916696503162},\"mode\":\"markers\",\"opacity\":0.5,\"showlegend\":false,\"type\":\"scattermapbox\"},{\"lat\":[47.34787205],\"line\":{\"width\":12},\"lon\":[13.98686223534862],\"marker\":{\"color\":\"#76b5c5\",\"size\":11.453634085213032},\"mode\":\"markers\",\"opacity\":0.5,\"showlegend\":false,\"type\":\"scattermapbox\"},{\"lat\":[46.7064901],\"line\":{\"width\":12},\"lon\":[15.6337629],\"marker\":{\"color\":\"#76b5c5\",\"size\":10.307912638739706},\"mode\":\"markers\",\"opacity\":0.5,\"showlegend\":false,\"type\":\"scattermapbox\"},{\"lat\":[47.3396186],\"line\":{\"width\":12},\"lon\":[15.6836331],\"marker\":{\"color\":\"#76b5c5\",\"size\":10.140828261129013},\"mode\":\"markers\",\"opacity\":0.5,\"showlegend\":false,\"type\":\"scattermapbox\"},{\"lat\":[47.2846032],\"line\":{\"width\":12},\"lon\":[13.34015395444624],\"marker\":{\"color\":\"#76b5c5\",\"size\":10.391454827545052},\"mode\":\"markers\",\"opacity\":0.5,\"showlegend\":false,\"type\":\"scattermapbox\"},{\"lat\":[47.0359279],\"line\":{\"width\":12},\"lon\":[15.388145],\"marker\":{\"color\":\"#76b5c5\",\"size\":10.231531208974818},\"mode\":\"markers\",\"opacity\":0.5,\"showlegend\":false,\"type\":\"scattermapbox\"},{\"lat\":[null],\"line\":{\"width\":12},\"lon\":[null],\"marker\":{\"color\":\"#76b5c5\",\"size\":11.236424394319132},\"mode\":\"markers\",\"opacity\":0.5,\"showlegend\":false,\"type\":\"scattermapbox\"},{\"lat\":[47.3291614],\"line\":{\"width\":12},\"lon\":[13.1542777],\"marker\":{\"color\":\"#76b5c5\",\"size\":10.391454827545052},\"mode\":\"markers\",\"opacity\":0.5,\"showlegend\":false,\"type\":\"scattermapbox\"},{\"lat\":[48.8591973],\"line\":{\"width\":12},\"lon\":[11.4573801],\"marker\":{\"color\":\"#76b5c5\",\"size\":10.551378446115288},\"mode\":\"markers\",\"opacity\":0.5,\"showlegend\":false,\"type\":\"scattermapbox\"},{\"lat\":[null],\"line\":{\"width\":12},\"lon\":[null],\"marker\":{\"color\":\"#76b5c5\",\"size\":11.02876238214584},\"mode\":\"markers\",\"opacity\":0.5,\"showlegend\":false,\"type\":\"scattermapbox\"},{\"lat\":[46.7574965],\"line\":{\"width\":12},\"lon\":[13.2476697],\"marker\":{\"color\":\"#76b5c5\",\"size\":10.03341687552214},\"mode\":\"markers\",\"opacity\":0.5,\"showlegend\":false,\"type\":\"scattermapbox\"},{\"lat\":[47.3834025],\"line\":{\"width\":12},\"lon\":[13.6827097],\"marker\":{\"color\":\"#76b5c5\",\"size\":10.009547678720612},\"mode\":\"markers\",\"opacity\":0.5,\"showlegend\":false,\"type\":\"scattermapbox\"},{\"lat\":[47.02163265],\"line\":{\"width\":12},\"lon\":[15.166787636664406],\"marker\":{\"color\":\"#76b5c5\",\"size\":10.026256116481681},\"mode\":\"markers\",\"opacity\":0.5,\"showlegend\":false,\"type\":\"scattermapbox\"},{\"lat\":[47.9458416],\"line\":{\"width\":12},\"lon\":[14.357251],\"marker\":{\"color\":\"#76b5c5\",\"size\":10.961928631101564},\"mode\":\"markers\",\"opacity\":0.5,\"showlegend\":false,\"type\":\"scattermapbox\"},{\"lat\":[48.1116835],\"line\":{\"width\":12},\"lon\":[12.2682221],\"marker\":{\"color\":\"#76b5c5\",\"size\":10.594343000358037},\"mode\":\"markers\",\"opacity\":0.5,\"showlegend\":false,\"type\":\"scattermapbox\"},{\"lat\":[49.0235538],\"line\":{\"width\":12},\"lon\":[11.5604722],\"marker\":{\"color\":\"#76b5c5\",\"size\":12.033655567490154},\"mode\":\"markers\",\"opacity\":0.5,\"showlegend\":false,\"type\":\"scattermapbox\"},{\"lat\":[47.5022777],\"line\":{\"width\":12},\"lon\":[14.4635129],\"marker\":{\"color\":\"#76b5c5\",\"size\":10.23391812865497},\"mode\":\"markers\",\"opacity\":0.5,\"showlegend\":false,\"type\":\"scattermapbox\"},{\"lat\":[47.1758539],\"line\":{\"width\":12},\"lon\":[11.7022418],\"marker\":{\"color\":\"#76b5c5\",\"size\":10.007160759040458},\"mode\":\"markers\",\"opacity\":0.5,\"showlegend\":false,\"type\":\"scattermapbox\"},{\"lat\":[47.3839333],\"line\":{\"width\":12},\"lon\":[13.2180687],\"marker\":{\"color\":\"#76b5c5\",\"size\":10.391454827545052},\"mode\":\"markers\",\"opacity\":0.5,\"showlegend\":false,\"type\":\"scattermapbox\"},{\"lat\":[46.6167284],\"line\":{\"width\":12},\"lon\":[13.8500268],\"marker\":{\"color\":\"#76b5c5\",\"size\":10.584795321637428},\"mode\":\"markers\",\"opacity\":0.5,\"showlegend\":false,\"type\":\"scattermapbox\"},{\"lat\":[47.4883966],\"line\":{\"width\":12},\"lon\":[14.9940399],\"marker\":{\"color\":\"#76b5c5\",\"size\":10.007160759040458},\"mode\":\"markers\",\"opacity\":0.5,\"showlegend\":false,\"type\":\"scattermapbox\"},{\"lat\":[null],\"line\":{\"width\":12},\"lon\":[null],\"marker\":{\"color\":\"#76b5c5\",\"size\":10.236305048335124},\"mode\":\"markers\",\"opacity\":0.5,\"showlegend\":false,\"type\":\"scattermapbox\"},{\"lat\":[null],\"line\":{\"width\":12},\"lon\":[null],\"marker\":{\"color\":\"#76b5c5\",\"size\":10.119345984007639},\"mode\":\"markers\",\"opacity\":0.5,\"showlegend\":false,\"type\":\"scattermapbox\"},{\"lat\":[null],\"line\":{\"width\":12},\"lon\":[null],\"marker\":{\"color\":\"#76b5c5\",\"size\":15.010144408640649},\"mode\":\"markers\",\"opacity\":0.5,\"showlegend\":false,\"type\":\"scattermapbox\"},{\"lat\":[48.0615171],\"line\":{\"width\":12},\"lon\":[12.220026],\"marker\":{\"color\":\"#76b5c5\",\"size\":10.572860723236664},\"mode\":\"markers\",\"opacity\":0.5,\"showlegend\":false,\"type\":\"scattermapbox\"},{\"lat\":[null],\"line\":{\"width\":12},\"lon\":[null],\"marker\":{\"color\":\"#76b5c5\",\"size\":10.116959064327485},\"mode\":\"markers\",\"opacity\":0.5,\"showlegend\":false,\"type\":\"scattermapbox\"},{\"lat\":[47.1091123],\"line\":{\"width\":12},\"lon\":[15.3860475],\"marker\":{\"color\":\"#76b5c5\",\"size\":10.369972550423679},\"mode\":\"markers\",\"opacity\":0.5,\"showlegend\":false,\"type\":\"scattermapbox\"},{\"lat\":[46.91075555],\"line\":{\"width\":12},\"lon\":[15.49413063443386],\"marker\":{\"color\":\"#76b5c5\",\"size\":10.01670843776107},\"mode\":\"markers\",\"opacity\":0.5,\"showlegend\":false,\"type\":\"scattermapbox\"},{\"lat\":[47.4711583],\"line\":{\"width\":12},\"lon\":[13.1985498],\"marker\":{\"color\":\"#76b5c5\",\"size\":10.379520229144289},\"mode\":\"markers\",\"opacity\":0.5,\"showlegend\":false,\"type\":\"scattermapbox\"},{\"lat\":[46.90732585],\"line\":{\"width\":12},\"lon\":[15.484548801970302],\"marker\":{\"color\":\"#76b5c5\",\"size\":13.912161355770378},\"mode\":\"markers\",\"opacity\":0.5,\"showlegend\":false,\"type\":\"scattermapbox\"},{\"lat\":[47.8572561],\"line\":{\"width\":12},\"lon\":[14.6635607],\"marker\":{\"color\":\"#76b5c5\",\"size\":10.875999522616064},\"mode\":\"markers\",\"opacity\":0.5,\"showlegend\":false,\"type\":\"scattermapbox\"},{\"lat\":[48.19098525],\"line\":{\"width\":12},\"lon\":[15.071003799999994],\"marker\":{\"color\":\"#76b5c5\",\"size\":15.642678123881133},\"mode\":\"markers\",\"opacity\":0.5,\"showlegend\":false,\"type\":\"scattermapbox\"},{\"lat\":[47.827775],\"line\":{\"width\":12},\"lon\":[13.033926],\"marker\":{\"color\":\"#e28743\",\"size\":9},\"mode\":\"markers\",\"opacity\":0.5,\"showlegend\":false,\"type\":\"scattermapbox\"},{\"lat\":[47.591751],\"line\":{\"width\":12},\"lon\":[13.180723],\"marker\":{\"color\":\"#e28743\",\"size\":9},\"mode\":\"markers\",\"opacity\":0.5,\"showlegend\":false,\"type\":\"scattermapbox\"},{\"lat\":[47.809199],\"line\":{\"width\":12},\"lon\":[13.038196],\"marker\":{\"color\":\"#e28743\",\"size\":9},\"mode\":\"markers\",\"opacity\":0.5,\"showlegend\":false,\"type\":\"scattermapbox\"},{\"lat\":[47.813101],\"line\":{\"width\":12},\"lon\":[13.051664],\"marker\":{\"color\":\"#e28743\",\"size\":9},\"mode\":\"markers\",\"opacity\":0.5,\"showlegend\":false,\"type\":\"scattermapbox\"},{\"lat\":[47.990422],\"line\":{\"width\":12},\"lon\":[12.951766],\"marker\":{\"color\":\"#e28743\",\"size\":9},\"mode\":\"markers\",\"opacity\":0.5,\"showlegend\":false,\"type\":\"scattermapbox\"},{\"lat\":[47.840973],\"line\":{\"width\":12},\"lon\":[13.034607],\"marker\":{\"color\":\"#e28743\",\"size\":9},\"mode\":\"markers\",\"opacity\":0.5,\"showlegend\":false,\"type\":\"scattermapbox\"},{\"lat\":[49.336423],\"line\":{\"width\":12},\"lon\":[10.308758],\"marker\":{\"color\":\"#e28743\",\"size\":9},\"mode\":\"markers\",\"opacity\":0.5,\"showlegend\":false,\"type\":\"scattermapbox\"},{\"lat\":[49.072791],\"line\":{\"width\":12},\"lon\":[9.722525],\"marker\":{\"color\":\"#e28743\",\"size\":9},\"mode\":\"markers\",\"opacity\":0.5,\"showlegend\":false,\"type\":\"scattermapbox\"},{\"lat\":[47.08748],\"line\":{\"width\":12},\"lon\":[13.11855],\"marker\":{\"color\":\"#e28743\",\"size\":9},\"mode\":\"markers\",\"opacity\":0.5,\"showlegend\":false,\"type\":\"scattermapbox\"},{\"lat\":[47.827775],\"line\":{\"width\":12},\"lon\":[13.033926],\"marker\":{\"color\":\"#e28743\",\"size\":9},\"mode\":\"markers\",\"opacity\":0.5,\"showlegend\":false,\"type\":\"scattermapbox\"},{\"lat\":[47.285759],\"line\":{\"width\":12},\"lon\":[12.880528],\"marker\":{\"color\":\"#e28743\",\"size\":9},\"mode\":\"markers\",\"opacity\":0.5,\"showlegend\":false,\"type\":\"scattermapbox\"},{\"lat\":[53.537011],\"line\":{\"width\":12},\"lon\":[14.285429],\"marker\":{\"color\":\"#e28743\",\"size\":9},\"mode\":\"markers\",\"opacity\":0.5,\"showlegend\":false,\"type\":\"scattermapbox\"},{\"lat\":[53.331155],\"line\":{\"width\":12},\"lon\":[13.864371],\"marker\":{\"color\":\"#e28743\",\"size\":9},\"mode\":\"markers\",\"opacity\":0.5,\"showlegend\":false,\"type\":\"scattermapbox\"},{\"lat\":[47.772723],\"line\":{\"width\":12},\"lon\":[13.190231],\"marker\":{\"color\":\"#e28743\",\"size\":9},\"mode\":\"markers\",\"opacity\":0.5,\"showlegend\":false,\"type\":\"scattermapbox\"},{\"lat\":[47.846373],\"line\":{\"width\":12},\"lon\":[13.019133],\"marker\":{\"color\":\"#e28743\",\"size\":9},\"mode\":\"markers\",\"opacity\":0.5,\"showlegend\":false,\"type\":\"scattermapbox\"},{\"lat\":[47.89163],\"line\":{\"width\":12},\"lon\":[13.119475],\"marker\":{\"color\":\"#e28743\",\"size\":9},\"mode\":\"markers\",\"opacity\":0.5,\"showlegend\":false,\"type\":\"scattermapbox\"},{\"lat\":[48.178657],\"line\":{\"width\":12},\"lon\":[12.795838],\"marker\":{\"color\":\"#e28743\",\"size\":9},\"mode\":\"markers\",\"opacity\":0.5,\"showlegend\":false,\"type\":\"scattermapbox\"},{\"lat\":[47.09373],\"line\":{\"width\":12},\"lon\":[13.622019],\"marker\":{\"color\":\"#e28743\",\"size\":9},\"mode\":\"markers\",\"opacity\":0.5,\"showlegend\":false,\"type\":\"scattermapbox\"},{\"lat\":[47.8242709],\"line\":{\"width\":12},\"lon\":[13.0273507],\"marker\":{\"color\":\"#e28743\",\"size\":9},\"mode\":\"markers\",\"opacity\":0.5,\"showlegend\":false,\"type\":\"scattermapbox\"},{\"lat\":[47.279452],\"line\":{\"width\":12},\"lon\":[12.480089],\"marker\":{\"color\":\"#e28743\",\"size\":9},\"mode\":\"markers\",\"opacity\":0.5,\"showlegend\":false,\"type\":\"scattermapbox\"},{\"lat\":[47.809199],\"line\":{\"width\":12},\"lon\":[13.038196],\"marker\":{\"color\":\"#e28743\",\"size\":9},\"mode\":\"markers\",\"opacity\":0.5,\"showlegend\":false,\"type\":\"scattermapbox\"},{\"lat\":[49.093183],\"line\":{\"width\":12},\"lon\":[10.274915],\"marker\":{\"color\":\"#e28743\",\"size\":9},\"mode\":\"markers\",\"opacity\":0.5,\"showlegend\":false,\"type\":\"scattermapbox\"},{\"lat\":[47.806691],\"line\":{\"width\":12},\"lon\":[13.030712],\"marker\":{\"color\":\"#e28743\",\"size\":9},\"mode\":\"markers\",\"opacity\":0.5,\"showlegend\":false,\"type\":\"scattermapbox\"},{\"lat\":[47.7919666],\"line\":{\"width\":12},\"lon\":[13.018678],\"marker\":{\"color\":\"#e28743\",\"size\":9},\"mode\":\"markers\",\"opacity\":0.5,\"showlegend\":false,\"type\":\"scattermapbox\"},{\"lat\":[47.810812],\"line\":{\"width\":12},\"lon\":[13.050443],\"marker\":{\"color\":\"#e28743\",\"size\":9},\"mode\":\"markers\",\"opacity\":0.5,\"showlegend\":false,\"type\":\"scattermapbox\"},{\"lat\":[47.687435],\"line\":{\"width\":12},\"lon\":[13.08778],\"marker\":{\"color\":\"#e28743\",\"size\":9},\"mode\":\"markers\",\"opacity\":0.5,\"showlegend\":false,\"type\":\"scattermapbox\"},{\"lat\":[47.472322],\"line\":{\"width\":12},\"lon\":[13.194875],\"marker\":{\"color\":\"#e28743\",\"size\":9},\"mode\":\"markers\",\"opacity\":0.5,\"showlegend\":false,\"type\":\"scattermapbox\"},{\"lat\":[48.027591],\"line\":{\"width\":12},\"lon\":[13.227539],\"marker\":{\"color\":\"#e28743\",\"size\":9},\"mode\":\"markers\",\"opacity\":0.5,\"showlegend\":false,\"type\":\"scattermapbox\"},{\"lat\":[47.826694],\"line\":{\"width\":12},\"lon\":[13.032365],\"marker\":{\"color\":\"#e28743\",\"size\":9},\"mode\":\"markers\",\"opacity\":0.5,\"showlegend\":false,\"type\":\"scattermapbox\"},{\"lat\":[47.381527],\"line\":{\"width\":12},\"lon\":[13.472114],\"marker\":{\"color\":\"#e28743\",\"size\":9},\"mode\":\"markers\",\"opacity\":0.5,\"showlegend\":false,\"type\":\"scattermapbox\"},{\"lat\":[47.804998],\"line\":{\"width\":12},\"lon\":[12.989037],\"marker\":{\"color\":\"#e28743\",\"size\":9},\"mode\":\"markers\",\"opacity\":0.5,\"showlegend\":false,\"type\":\"scattermapbox\"},{\"lat\":[49.112914],\"line\":{\"width\":12},\"lon\":[9.954053],\"marker\":{\"color\":\"#e28743\",\"size\":9},\"mode\":\"markers\",\"opacity\":0.5,\"showlegend\":false,\"type\":\"scattermapbox\"},{\"lat\":[47.102878],\"line\":{\"width\":12},\"lon\":[13.477972],\"marker\":{\"color\":\"#e28743\",\"size\":9},\"mode\":\"markers\",\"opacity\":0.5,\"showlegend\":false,\"type\":\"scattermapbox\"},{\"lat\":[47.835006],\"line\":{\"width\":12},\"lon\":[12.994305],\"marker\":{\"color\":\"#e28743\",\"size\":9},\"mode\":\"markers\",\"opacity\":0.5,\"showlegend\":false,\"type\":\"scattermapbox\"},{\"lat\":[47.761311],\"line\":{\"width\":12},\"lon\":[13.082743],\"marker\":{\"color\":\"#e28743\",\"size\":9},\"mode\":\"markers\",\"opacity\":0.5,\"showlegend\":false,\"type\":\"scattermapbox\"},{\"lat\":[47.275153],\"line\":{\"width\":12},\"lon\":[12.358696],\"marker\":{\"color\":\"#e28743\",\"size\":9},\"mode\":\"markers\",\"opacity\":0.5,\"showlegend\":false,\"type\":\"scattermapbox\"},{\"lat\":[53.461865],\"line\":{\"width\":12},\"lon\":[14.208085],\"marker\":{\"color\":\"#e28743\",\"size\":9},\"mode\":\"markers\",\"opacity\":0.5,\"showlegend\":false,\"type\":\"scattermapbox\"},{\"lat\":[47.675227],\"line\":{\"width\":12},\"lon\":[13.108706],\"marker\":{\"color\":\"#e28743\",\"size\":9},\"mode\":\"markers\",\"opacity\":0.5,\"showlegend\":false,\"type\":\"scattermapbox\"},{\"lat\":[47.164728],\"line\":{\"width\":12},\"lon\":[13.470612],\"marker\":{\"color\":\"#e28743\",\"size\":9},\"mode\":\"markers\",\"opacity\":0.5,\"showlegend\":false,\"type\":\"scattermapbox\"},{\"lat\":[47.375047],\"line\":{\"width\":12},\"lon\":[13.209772],\"marker\":{\"color\":\"#e28743\",\"size\":9},\"mode\":\"markers\",\"opacity\":0.5,\"showlegend\":false,\"type\":\"scattermapbox\"},{\"lat\":[47.112707],\"line\":{\"width\":12},\"lon\":[13.458686],\"marker\":{\"color\":\"#e28743\",\"size\":9},\"mode\":\"markers\",\"opacity\":0.5,\"showlegend\":false,\"type\":\"scattermapbox\"},{\"lat\":[47.76227],\"line\":{\"width\":12},\"lon\":[13.185048],\"marker\":{\"color\":\"#e28743\",\"size\":9},\"mode\":\"markers\",\"opacity\":0.5,\"showlegend\":false,\"type\":\"scattermapbox\"},{\"lat\":[48.157314],\"line\":{\"width\":12},\"lon\":[11.757978],\"marker\":{\"color\":\"#e28743\",\"size\":9},\"mode\":\"markers\",\"opacity\":0.5,\"showlegend\":false,\"type\":\"scattermapbox\"},{\"lat\":[47.40702],\"line\":{\"width\":12},\"lon\":[13.220304],\"marker\":{\"color\":\"#e28743\",\"size\":9},\"mode\":\"markers\",\"opacity\":0.5,\"showlegend\":false,\"type\":\"scattermapbox\"},{\"lat\":[49.434185],\"line\":{\"width\":12},\"lon\":[10.24091],\"marker\":{\"color\":\"#e28743\",\"size\":9},\"mode\":\"markers\",\"opacity\":0.5,\"showlegend\":false,\"type\":\"scattermapbox\"},{\"lat\":[47.699914],\"line\":{\"width\":12},\"lon\":[13.110595],\"marker\":{\"color\":\"#e28743\",\"size\":9},\"mode\":\"markers\",\"opacity\":0.5,\"showlegend\":false,\"type\":\"scattermapbox\"},{\"lat\":[47.6751426],\"line\":{\"width\":12},\"lon\":[13.1023094],\"marker\":{\"color\":\"#e28743\",\"size\":9},\"mode\":\"markers\",\"opacity\":0.5,\"showlegend\":false,\"type\":\"scattermapbox\"},{\"lat\":[47.282009],\"line\":{\"width\":12},\"lon\":[12.828185],\"marker\":{\"color\":\"#e28743\",\"size\":9},\"mode\":\"markers\",\"opacity\":0.5,\"showlegend\":false,\"type\":\"scattermapbox\"},{\"lat\":[47.136636],\"line\":{\"width\":12},\"lon\":[13.12746],\"marker\":{\"color\":\"#e28743\",\"size\":9},\"mode\":\"markers\",\"opacity\":0.5,\"showlegend\":false,\"type\":\"scattermapbox\"},{\"lat\":[47.108063],\"line\":{\"width\":12},\"lon\":[13.471368],\"marker\":{\"color\":\"#e28743\",\"size\":9},\"mode\":\"markers\",\"opacity\":0.5,\"showlegend\":false,\"type\":\"scattermapbox\"},{\"lat\":[47.827465],\"line\":{\"width\":12},\"lon\":[13.033985],\"marker\":{\"color\":\"#e28743\",\"size\":9},\"mode\":\"markers\",\"opacity\":0.5,\"showlegend\":false,\"type\":\"scattermapbox\"},{\"lat\":[47.338434],\"line\":{\"width\":12},\"lon\":[13.197359],\"marker\":{\"color\":\"#e28743\",\"size\":9},\"mode\":\"markers\",\"opacity\":0.5,\"showlegend\":false,\"type\":\"scattermapbox\"},{\"lat\":[47.449689],\"line\":{\"width\":12},\"lon\":[12.857056],\"marker\":{\"color\":\"#e28743\",\"size\":9},\"mode\":\"markers\",\"opacity\":0.5,\"showlegend\":false,\"type\":\"scattermapbox\"},{\"lat\":[47.672775],\"line\":{\"width\":12},\"lon\":[13.109205],\"marker\":{\"color\":\"#e28743\",\"size\":9},\"mode\":\"markers\",\"opacity\":0.5,\"showlegend\":false,\"type\":\"scattermapbox\"},{\"lat\":[47.355266],\"line\":{\"width\":12},\"lon\":[13.199328],\"marker\":{\"color\":\"#e28743\",\"size\":9},\"mode\":\"markers\",\"opacity\":0.5,\"showlegend\":false,\"type\":\"scattermapbox\"},{\"lat\":[47.809465],\"line\":{\"width\":12},\"lon\":[13.037718],\"marker\":{\"color\":\"#e28743\",\"size\":9},\"mode\":\"markers\",\"opacity\":0.5,\"showlegend\":false,\"type\":\"scattermapbox\"},{\"lat\":[47.175508],\"line\":{\"width\":12},\"lon\":[12.816882],\"marker\":{\"color\":\"#e28743\",\"size\":9},\"mode\":\"markers\",\"opacity\":0.5,\"showlegend\":false,\"type\":\"scattermapbox\"},{\"lat\":[47.733363],\"line\":{\"width\":12},\"lon\":[13.082635],\"marker\":{\"color\":\"#e28743\",\"size\":9},\"mode\":\"markers\",\"opacity\":0.5,\"showlegend\":false,\"type\":\"scattermapbox\"},{\"lat\":[53.514563],\"line\":{\"width\":12},\"lon\":[14.304089],\"marker\":{\"color\":\"#e28743\",\"size\":9},\"mode\":\"markers\",\"opacity\":0.5,\"showlegend\":false,\"type\":\"scattermapbox\"},{\"lat\":[47.243945],\"line\":{\"width\":12},\"lon\":[12.230208],\"marker\":{\"color\":\"#e28743\",\"size\":9},\"mode\":\"markers\",\"opacity\":0.5,\"showlegend\":false,\"type\":\"scattermapbox\"},{\"lat\":[47.441296],\"line\":{\"width\":12},\"lon\":[13.210459],\"marker\":{\"color\":\"#e28743\",\"size\":9},\"mode\":\"markers\",\"opacity\":0.5,\"showlegend\":false,\"type\":\"scattermapbox\"},{\"lat\":[47.805375],\"line\":{\"width\":12},\"lon\":[13.028224],\"marker\":{\"color\":\"#e28743\",\"size\":9},\"mode\":\"markers\",\"opacity\":0.5,\"showlegend\":false,\"type\":\"scattermapbox\"},{\"lat\":[47.715508],\"line\":{\"width\":12},\"lon\":[13.135378],\"marker\":{\"color\":\"#e28743\",\"size\":9},\"mode\":\"markers\",\"opacity\":0.5,\"showlegend\":false,\"type\":\"scattermapbox\"},{\"lat\":[47.821454],\"line\":{\"width\":12},\"lon\":[13.034416],\"marker\":{\"color\":\"#e28743\",\"size\":9},\"mode\":\"markers\",\"opacity\":0.5,\"showlegend\":false,\"type\":\"scattermapbox\"},{\"lat\":[49.363441],\"line\":{\"width\":12},\"lon\":[10.308207],\"marker\":{\"color\":\"#e28743\",\"size\":9},\"mode\":\"markers\",\"opacity\":0.5,\"showlegend\":false,\"type\":\"scattermapbox\"},{\"lat\":[47.772834],\"line\":{\"width\":12},\"lon\":[13.189602],\"marker\":{\"color\":\"#e28743\",\"size\":9},\"mode\":\"markers\",\"opacity\":0.5,\"showlegend\":false,\"type\":\"scattermapbox\"},{\"lat\":[47.086795],\"line\":{\"width\":12},\"lon\":[13.113835],\"marker\":{\"color\":\"#e28743\",\"size\":9},\"mode\":\"markers\",\"opacity\":0.5,\"showlegend\":false,\"type\":\"scattermapbox\"},{\"lat\":[47.795647],\"line\":{\"width\":12},\"lon\":[12.996212],\"marker\":{\"color\":\"#e28743\",\"size\":9},\"mode\":\"markers\",\"opacity\":0.5,\"showlegend\":false,\"type\":\"scattermapbox\"},{\"lat\":[47.724306],\"line\":{\"width\":12},\"lon\":[13.142585],\"marker\":{\"color\":\"#e28743\",\"size\":9},\"mode\":\"markers\",\"opacity\":0.5,\"showlegend\":false,\"type\":\"scattermapbox\"},{\"lat\":[47.674469],\"line\":{\"width\":12},\"lon\":[13.109329],\"marker\":{\"color\":\"#e28743\",\"size\":9},\"mode\":\"markers\",\"opacity\":0.5,\"showlegend\":false,\"type\":\"scattermapbox\"},{\"lat\":[47.266883],\"line\":{\"width\":12},\"lon\":[12.413135],\"marker\":{\"color\":\"#e28743\",\"size\":9},\"mode\":\"markers\",\"opacity\":0.5,\"showlegend\":false,\"type\":\"scattermapbox\"},{\"lat\":[47.750627],\"line\":{\"width\":12},\"lon\":[13.036343],\"marker\":{\"color\":\"#e28743\",\"size\":9},\"mode\":\"markers\",\"opacity\":0.5,\"showlegend\":false,\"type\":\"scattermapbox\"},{\"lat\":[47.823885],\"line\":{\"width\":12},\"lon\":[12.998865],\"marker\":{\"color\":\"#e28743\",\"size\":9},\"mode\":\"markers\",\"opacity\":0.5,\"showlegend\":false,\"type\":\"scattermapbox\"},{\"lat\":[47.819241],\"line\":{\"width\":12},\"lon\":[12.982616],\"marker\":{\"color\":\"#e28743\",\"size\":9},\"mode\":\"markers\",\"opacity\":0.5,\"showlegend\":false,\"type\":\"scattermapbox\"},{\"lat\":[47.821297],\"line\":{\"width\":12},\"lon\":[13.046082],\"marker\":{\"color\":\"#e28743\",\"size\":9},\"mode\":\"markers\",\"opacity\":0.5,\"showlegend\":false,\"type\":\"scattermapbox\"},{\"lat\":[47.487658],\"line\":{\"width\":12},\"lon\":[12.825851],\"marker\":{\"color\":\"#e28743\",\"size\":9},\"mode\":\"markers\",\"opacity\":0.5,\"showlegend\":false,\"type\":\"scattermapbox\"},{\"lat\":[47.066556],\"line\":{\"width\":12},\"lon\":[13.062206],\"marker\":{\"color\":\"#e28743\",\"size\":9},\"mode\":\"markers\",\"opacity\":0.5,\"showlegend\":false,\"type\":\"scattermapbox\"},{\"lat\":[47.209584],\"line\":{\"width\":12},\"lon\":[12.831452],\"marker\":{\"color\":\"#e28743\",\"size\":9},\"mode\":\"markers\",\"opacity\":0.5,\"showlegend\":false,\"type\":\"scattermapbox\"},{\"lat\":[47.675123],\"line\":{\"width\":12},\"lon\":[13.102307],\"marker\":{\"color\":\"#e28743\",\"size\":9},\"mode\":\"markers\",\"opacity\":0.5,\"showlegend\":false,\"type\":\"scattermapbox\"},{\"lat\":[47.963229],\"line\":{\"width\":12},\"lon\":[13.242353],\"marker\":{\"color\":\"#e28743\",\"size\":9},\"mode\":\"markers\",\"opacity\":0.5,\"showlegend\":false,\"type\":\"scattermapbox\"},{\"lat\":[47.83586],\"line\":{\"width\":12},\"lon\":[12.975841],\"marker\":{\"color\":\"#e28743\",\"size\":9},\"mode\":\"markers\",\"opacity\":0.5,\"showlegend\":false,\"type\":\"scattermapbox\"},{\"lat\":[47.910906],\"line\":{\"width\":12},\"lon\":[12.535384],\"marker\":{\"color\":\"#e28743\",\"size\":9},\"mode\":\"markers\",\"opacity\":0.5,\"showlegend\":false,\"type\":\"scattermapbox\"},{\"lat\":[47.243959],\"line\":{\"width\":12},\"lon\":[12.230208],\"marker\":{\"color\":\"#e28743\",\"size\":9},\"mode\":\"markers\",\"opacity\":0.5,\"showlegend\":false,\"type\":\"scattermapbox\"},{\"lat\":[47.282954],\"line\":{\"width\":12},\"lon\":[12.221209],\"marker\":{\"color\":\"#e28743\",\"size\":9},\"mode\":\"markers\",\"opacity\":0.5,\"showlegend\":false,\"type\":\"scattermapbox\"},{\"lat\":[47.426944],\"line\":{\"width\":12},\"lon\":[12.848333],\"marker\":{\"color\":\"#e28743\",\"size\":9},\"mode\":\"markers\",\"opacity\":0.5,\"showlegend\":false,\"type\":\"scattermapbox\"},{\"lat\":[47.4415857],\"line\":{\"width\":12},\"lon\":[13.2231224],\"marker\":{\"color\":\"#e28743\",\"size\":9},\"mode\":\"markers\",\"opacity\":0.5,\"showlegend\":false,\"type\":\"scattermapbox\"}],                        {\"template\":{\"data\":{\"histogram2dcontour\":[{\"type\":\"histogram2dcontour\",\"colorbar\":{\"outlinewidth\":0,\"ticks\":\"\"},\"colorscale\":[[0.0,\"#0d0887\"],[0.1111111111111111,\"#46039f\"],[0.2222222222222222,\"#7201a8\"],[0.3333333333333333,\"#9c179e\"],[0.4444444444444444,\"#bd3786\"],[0.5555555555555556,\"#d8576b\"],[0.6666666666666666,\"#ed7953\"],[0.7777777777777778,\"#fb9f3a\"],[0.8888888888888888,\"#fdca26\"],[1.0,\"#f0f921\"]]}],\"choropleth\":[{\"type\":\"choropleth\",\"colorbar\":{\"outlinewidth\":0,\"ticks\":\"\"}}],\"histogram2d\":[{\"type\":\"histogram2d\",\"colorbar\":{\"outlinewidth\":0,\"ticks\":\"\"},\"colorscale\":[[0.0,\"#0d0887\"],[0.1111111111111111,\"#46039f\"],[0.2222222222222222,\"#7201a8\"],[0.3333333333333333,\"#9c179e\"],[0.4444444444444444,\"#bd3786\"],[0.5555555555555556,\"#d8576b\"],[0.6666666666666666,\"#ed7953\"],[0.7777777777777778,\"#fb9f3a\"],[0.8888888888888888,\"#fdca26\"],[1.0,\"#f0f921\"]]}],\"heatmap\":[{\"type\":\"heatmap\",\"colorbar\":{\"outlinewidth\":0,\"ticks\":\"\"},\"colorscale\":[[0.0,\"#0d0887\"],[0.1111111111111111,\"#46039f\"],[0.2222222222222222,\"#7201a8\"],[0.3333333333333333,\"#9c179e\"],[0.4444444444444444,\"#bd3786\"],[0.5555555555555556,\"#d8576b\"],[0.6666666666666666,\"#ed7953\"],[0.7777777777777778,\"#fb9f3a\"],[0.8888888888888888,\"#fdca26\"],[1.0,\"#f0f921\"]]}],\"heatmapgl\":[{\"type\":\"heatmapgl\",\"colorbar\":{\"outlinewidth\":0,\"ticks\":\"\"},\"colorscale\":[[0.0,\"#0d0887\"],[0.1111111111111111,\"#46039f\"],[0.2222222222222222,\"#7201a8\"],[0.3333333333333333,\"#9c179e\"],[0.4444444444444444,\"#bd3786\"],[0.5555555555555556,\"#d8576b\"],[0.6666666666666666,\"#ed7953\"],[0.7777777777777778,\"#fb9f3a\"],[0.8888888888888888,\"#fdca26\"],[1.0,\"#f0f921\"]]}],\"contourcarpet\":[{\"type\":\"contourcarpet\",\"colorbar\":{\"outlinewidth\":0,\"ticks\":\"\"}}],\"contour\":[{\"type\":\"contour\",\"colorbar\":{\"outlinewidth\":0,\"ticks\":\"\"},\"colorscale\":[[0.0,\"#0d0887\"],[0.1111111111111111,\"#46039f\"],[0.2222222222222222,\"#7201a8\"],[0.3333333333333333,\"#9c179e\"],[0.4444444444444444,\"#bd3786\"],[0.5555555555555556,\"#d8576b\"],[0.6666666666666666,\"#ed7953\"],[0.7777777777777778,\"#fb9f3a\"],[0.8888888888888888,\"#fdca26\"],[1.0,\"#f0f921\"]]}],\"surface\":[{\"type\":\"surface\",\"colorbar\":{\"outlinewidth\":0,\"ticks\":\"\"},\"colorscale\":[[0.0,\"#0d0887\"],[0.1111111111111111,\"#46039f\"],[0.2222222222222222,\"#7201a8\"],[0.3333333333333333,\"#9c179e\"],[0.4444444444444444,\"#bd3786\"],[0.5555555555555556,\"#d8576b\"],[0.6666666666666666,\"#ed7953\"],[0.7777777777777778,\"#fb9f3a\"],[0.8888888888888888,\"#fdca26\"],[1.0,\"#f0f921\"]]}],\"mesh3d\":[{\"type\":\"mesh3d\",\"colorbar\":{\"outlinewidth\":0,\"ticks\":\"\"}}],\"scatter\":[{\"fillpattern\":{\"fillmode\":\"overlay\",\"size\":10,\"solidity\":0.2},\"type\":\"scatter\"}],\"parcoords\":[{\"type\":\"parcoords\",\"line\":{\"colorbar\":{\"outlinewidth\":0,\"ticks\":\"\"}}}],\"scatterpolargl\":[{\"type\":\"scatterpolargl\",\"marker\":{\"colorbar\":{\"outlinewidth\":0,\"ticks\":\"\"}}}],\"bar\":[{\"error_x\":{\"color\":\"#2a3f5f\"},\"error_y\":{\"color\":\"#2a3f5f\"},\"marker\":{\"line\":{\"color\":\"#E5ECF6\",\"width\":0.5},\"pattern\":{\"fillmode\":\"overlay\",\"size\":10,\"solidity\":0.2}},\"type\":\"bar\"}],\"scattergeo\":[{\"type\":\"scattergeo\",\"marker\":{\"colorbar\":{\"outlinewidth\":0,\"ticks\":\"\"}}}],\"scatterpolar\":[{\"type\":\"scatterpolar\",\"marker\":{\"colorbar\":{\"outlinewidth\":0,\"ticks\":\"\"}}}],\"histogram\":[{\"marker\":{\"pattern\":{\"fillmode\":\"overlay\",\"size\":10,\"solidity\":0.2}},\"type\":\"histogram\"}],\"scattergl\":[{\"type\":\"scattergl\",\"marker\":{\"colorbar\":{\"outlinewidth\":0,\"ticks\":\"\"}}}],\"scatter3d\":[{\"type\":\"scatter3d\",\"line\":{\"colorbar\":{\"outlinewidth\":0,\"ticks\":\"\"}},\"marker\":{\"colorbar\":{\"outlinewidth\":0,\"ticks\":\"\"}}}],\"scattermapbox\":[{\"type\":\"scattermapbox\",\"marker\":{\"colorbar\":{\"outlinewidth\":0,\"ticks\":\"\"}}}],\"scatterternary\":[{\"type\":\"scatterternary\",\"marker\":{\"colorbar\":{\"outlinewidth\":0,\"ticks\":\"\"}}}],\"scattercarpet\":[{\"type\":\"scattercarpet\",\"marker\":{\"colorbar\":{\"outlinewidth\":0,\"ticks\":\"\"}}}],\"carpet\":[{\"aaxis\":{\"endlinecolor\":\"#2a3f5f\",\"gridcolor\":\"white\",\"linecolor\":\"white\",\"minorgridcolor\":\"white\",\"startlinecolor\":\"#2a3f5f\"},\"baxis\":{\"endlinecolor\":\"#2a3f5f\",\"gridcolor\":\"white\",\"linecolor\":\"white\",\"minorgridcolor\":\"white\",\"startlinecolor\":\"#2a3f5f\"},\"type\":\"carpet\"}],\"table\":[{\"cells\":{\"fill\":{\"color\":\"#EBF0F8\"},\"line\":{\"color\":\"white\"}},\"header\":{\"fill\":{\"color\":\"#C8D4E3\"},\"line\":{\"color\":\"white\"}},\"type\":\"table\"}],\"barpolar\":[{\"marker\":{\"line\":{\"color\":\"#E5ECF6\",\"width\":0.5},\"pattern\":{\"fillmode\":\"overlay\",\"size\":10,\"solidity\":0.2}},\"type\":\"barpolar\"}],\"pie\":[{\"automargin\":true,\"type\":\"pie\"}]},\"layout\":{\"autotypenumbers\":\"strict\",\"colorway\":[\"#636efa\",\"#EF553B\",\"#00cc96\",\"#ab63fa\",\"#FFA15A\",\"#19d3f3\",\"#FF6692\",\"#B6E880\",\"#FF97FF\",\"#FECB52\"],\"font\":{\"color\":\"#2a3f5f\"},\"hovermode\":\"closest\",\"hoverlabel\":{\"align\":\"left\"},\"paper_bgcolor\":\"white\",\"plot_bgcolor\":\"#E5ECF6\",\"polar\":{\"bgcolor\":\"#E5ECF6\",\"angularaxis\":{\"gridcolor\":\"white\",\"linecolor\":\"white\",\"ticks\":\"\"},\"radialaxis\":{\"gridcolor\":\"white\",\"linecolor\":\"white\",\"ticks\":\"\"}},\"ternary\":{\"bgcolor\":\"#E5ECF6\",\"aaxis\":{\"gridcolor\":\"white\",\"linecolor\":\"white\",\"ticks\":\"\"},\"baxis\":{\"gridcolor\":\"white\",\"linecolor\":\"white\",\"ticks\":\"\"},\"caxis\":{\"gridcolor\":\"white\",\"linecolor\":\"white\",\"ticks\":\"\"}},\"coloraxis\":{\"colorbar\":{\"outlinewidth\":0,\"ticks\":\"\"}},\"colorscale\":{\"sequential\":[[0.0,\"#0d0887\"],[0.1111111111111111,\"#46039f\"],[0.2222222222222222,\"#7201a8\"],[0.3333333333333333,\"#9c179e\"],[0.4444444444444444,\"#bd3786\"],[0.5555555555555556,\"#d8576b\"],[0.6666666666666666,\"#ed7953\"],[0.7777777777777778,\"#fb9f3a\"],[0.8888888888888888,\"#fdca26\"],[1.0,\"#f0f921\"]],\"sequentialminus\":[[0.0,\"#0d0887\"],[0.1111111111111111,\"#46039f\"],[0.2222222222222222,\"#7201a8\"],[0.3333333333333333,\"#9c179e\"],[0.4444444444444444,\"#bd3786\"],[0.5555555555555556,\"#d8576b\"],[0.6666666666666666,\"#ed7953\"],[0.7777777777777778,\"#fb9f3a\"],[0.8888888888888888,\"#fdca26\"],[1.0,\"#f0f921\"]],\"diverging\":[[0,\"#8e0152\"],[0.1,\"#c51b7d\"],[0.2,\"#de77ae\"],[0.3,\"#f1b6da\"],[0.4,\"#fde0ef\"],[0.5,\"#f7f7f7\"],[0.6,\"#e6f5d0\"],[0.7,\"#b8e186\"],[0.8,\"#7fbc41\"],[0.9,\"#4d9221\"],[1,\"#276419\"]]},\"xaxis\":{\"gridcolor\":\"white\",\"linecolor\":\"white\",\"ticks\":\"\",\"title\":{\"standoff\":15},\"zerolinecolor\":\"white\",\"automargin\":true,\"zerolinewidth\":2},\"yaxis\":{\"gridcolor\":\"white\",\"linecolor\":\"white\",\"ticks\":\"\",\"title\":{\"standoff\":15},\"zerolinecolor\":\"white\",\"automargin\":true,\"zerolinewidth\":2},\"scene\":{\"xaxis\":{\"backgroundcolor\":\"#E5ECF6\",\"gridcolor\":\"white\",\"linecolor\":\"white\",\"showbackground\":true,\"ticks\":\"\",\"zerolinecolor\":\"white\",\"gridwidth\":2},\"yaxis\":{\"backgroundcolor\":\"#E5ECF6\",\"gridcolor\":\"white\",\"linecolor\":\"white\",\"showbackground\":true,\"ticks\":\"\",\"zerolinecolor\":\"white\",\"gridwidth\":2},\"zaxis\":{\"backgroundcolor\":\"#E5ECF6\",\"gridcolor\":\"white\",\"linecolor\":\"white\",\"showbackground\":true,\"ticks\":\"\",\"zerolinecolor\":\"white\",\"gridwidth\":2}},\"shapedefaults\":{\"line\":{\"color\":\"#2a3f5f\"}},\"annotationdefaults\":{\"arrowcolor\":\"#2a3f5f\",\"arrowhead\":0,\"arrowwidth\":1},\"geo\":{\"bgcolor\":\"white\",\"landcolor\":\"#E5ECF6\",\"subunitcolor\":\"white\",\"showland\":true,\"showlakes\":true,\"lakecolor\":\"white\"},\"title\":{\"x\":0.05},\"mapbox\":{\"style\":\"light\"}}},\"mapbox\":{\"domain\":{\"x\":[0.0,1.0],\"y\":[0.0,1.0]},\"center\":{\"lat\":47.80949,\"lon\":13.05501},\"zoom\":6,\"style\":\"carto-positron\"},\"legend\":{\"title\":{\"text\":\"val\"},\"tracegroupgap\":0},\"margin\":{\"t\":0,\"r\":0,\"l\":0,\"b\":0},\"paper_bgcolor\":\"rgba(0,0,0,0)\",\"plot_bgcolor\":\"rgba(0,0,0,0)\"},                        {\"responsive\": true}                    ).then(function(){\n",
       "                            \n",
       "var gd = document.getElementById('3abff855-5323-4af4-b2d2-47b26f4237ac');\n",
       "var x = new MutationObserver(function (mutations, observer) {{\n",
       "        var display = window.getComputedStyle(gd).display;\n",
       "        if (!display || display === 'none') {{\n",
       "            console.log([gd, 'removed!']);\n",
       "            Plotly.purge(gd);\n",
       "            observer.disconnect();\n",
       "        }}\n",
       "}});\n",
       "\n",
       "// Listen for the removal of the full notebook cells\n",
       "var notebookContainer = gd.closest('#notebook-container');\n",
       "if (notebookContainer) {{\n",
       "    x.observe(notebookContainer, {childList: true});\n",
       "}}\n",
       "\n",
       "// Listen for the clearing of the current output cell\n",
       "var outputEl = gd.closest('.output');\n",
       "if (outputEl) {{\n",
       "    x.observe(outputEl, {childList: true});\n",
       "}}\n",
       "\n",
       "                        })                };                });            </script>        </div>"
      ]
     },
     "metadata": {},
     "output_type": "display_data"
    }
   ],
   "source": [
    "def kraftwerke_salzburg():\n",
    "    #fig = go.Figure()\n",
    "    fig = px.choropleth_mapbox(df3, geojson=inverse_geojson, locations='namee', featureidkey=\"properties.name\", color='val',\n",
    "                          mapbox_style=\"carto-positron\", color_discrete_sequence=['#FECB52'],\n",
    "                               zoom=6, center={\"lat\": 47.809490, \"lon\": 13.055010},)\n",
    "    \n",
    "    \"\"\"\n",
    "    go.Scattermapbox(mode='markers',lat=plants.lat.tolist(), lon=plants.lon.tolist(), marker={'size': 10}, \n",
    "                                    # hoverinfo='skip',\n",
    "                                     text = plants.Name.tolist(),\n",
    "                                  # hover_name=\"ort\",\n",
    "                                     showlegend=False)\n",
    "                                     \"\"\"\n",
    "    for index, row in plants.iterrows():\n",
    "        add_trace(fig, row, 'verbund', \"#76b5c5\", translate(row['Leistung in MW'], plants['Leistung in MW'].min(), plants['Leistung in MW'].max(),\n",
    "                                                     10, 30))\n",
    "    \n",
    "    for index, row in df.iterrows():\n",
    "        add_trace(fig, row, 'sag', \"#e28743\", 9)\n",
    "    \n",
    "    \n",
    "    #fig.update_layout(mapbox_style=\"light\", mapbox_accesstoken=\"pk.eyJ1IjoiYXJlYnVyZyIsImEiOiJjbDZkZzdhOXAwNTk5M2ZteDdkY3lvd2FsIn0.c4hsFv69HozIVHq7ItrTzg\", mapbox_zoom=6,\n",
    "    #                  mapbox_center={\"lat\": 48.210033, \"lon\": 16.363449})\n",
    "    #fig.update_layout(font=dict(family=\"Helvetica\"), legend={\"title\": \"Select category\"})\n",
    "    fig.update_layout(margin={\"r\": 0, \"t\": 0, \"l\": 0, \"b\": 0}, paper_bgcolor='rgba(0,0,0,0)',\n",
    "                  plot_bgcolor='rgba(0,0,0,0)')\n",
    "\n",
    "    fig.show()\n",
    "\n",
    "kraftwerke_salzburg()"
   ]
  }
 ],
 "metadata": {
  "kernelspec": {
   "display_name": "Python 3 (ipykernel)",
   "language": "python",
   "name": "python3"
  },
  "language_info": {
   "codemirror_mode": {
    "name": "ipython",
    "version": 3
   },
   "file_extension": ".py",
   "mimetype": "text/x-python",
   "name": "python",
   "nbconvert_exporter": "python",
   "pygments_lexer": "ipython3",
   "version": "3.9.13"
  }
 },
 "nbformat": 4,
 "nbformat_minor": 5
}
